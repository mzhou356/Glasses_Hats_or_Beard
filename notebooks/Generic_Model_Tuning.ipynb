{
 "cells": [
  {
   "cell_type": "markdown",
   "metadata": {},
   "source": [
    "## Transfer Learning Tuning:\n",
    "  * Use Resnet50 to reduce model size and improve accuracy \n",
    "      * see [base model info comparison](https://medium.com/@sidereal/cnns-architectures-lenet-alexnet-vgg-googlenet-resnet-and-more-666091488df5)\n",
    "      * [resnet50 blog](https://towardsdatascience.com/understanding-and-coding-a-resnet-in-keras-446d7ff84d33)\n",
    "     \n",
    "  * base_model: use RESNET50 and freeze at bottleneck layer (stop right before 2D AVERAGE POOL) \n",
    "  * top_model: tune dense layers (parameters are inspired by a few sources)\n",
    "     * [source1](https://www.kaggle.com/suniliitb96/tutorial-keras-transfer-learning-with-resnet50)\n",
    "     * [source2](https://www.kaggle.com/pmigdal/transfer-learning-with-resnet-50-in-keras)\n",
    "     * [source3](https://towardsdatascience.com/transfer-learning-for-image-classification-using-keras-c47ccf09c8c8)\n",
    "\n",
    "\n",
    "\n",
    "  \n",
    "---\n",
    "#### This cell is required in order to use GPU for running the model "
   ]
  },
  {
   "cell_type": "code",
   "execution_count": 1,
   "metadata": {},
   "outputs": [
    {
     "name": "stderr",
     "output_type": "stream",
     "text": [
      "Using TensorFlow backend.\n",
      "WARNING: Logging before flag parsing goes to stderr.\n",
      "W0904 23:45:39.479041 140378366863168 deprecation_wrapper.py:119] From /home/mindy/anaconda3/lib/python3.7/site-packages/keras/backend/tensorflow_backend.py:190: The name tf.get_default_session is deprecated. Please use tf.compat.v1.get_default_session instead.\n",
      "\n",
      "W0904 23:45:39.479885 140378366863168 deprecation_wrapper.py:119] From /home/mindy/anaconda3/lib/python3.7/site-packages/keras/backend/tensorflow_backend.py:207: The name tf.global_variables is deprecated. Please use tf.compat.v1.global_variables instead.\n",
      "\n"
     ]
    }
   ],
   "source": [
    "import warnings\n",
    "warnings.filterwarnings('ignore')\n",
    "import tensorflow as tf\n",
    "import keras\n",
    "from keras.backend.tensorflow_backend import set_session\n",
    "config = tf.ConfigProto()\n",
    "config.gpu_options.allow_growth = True  # dynamically grow the memory used on the GPU\n",
    "config.log_device_placement = True  # to log device placement (on which device the operation ran)\n",
    "                                    # (nothing gets printed in Jupyter, only if you run it standalone)\n",
    "sess = tf.Session(config=config)\n",
    "set_session(sess)  # set this TensorFlow session as the default session for Keras\n",
    "keras.backend.get_session().run(tf.global_variables_initializer())  "
   ]
  },
  {
   "cell_type": "markdown",
   "metadata": {},
   "source": [
    "---\n",
    "#### Import necessary libraries"
   ]
  },
  {
   "cell_type": "code",
   "execution_count": 2,
   "metadata": {},
   "outputs": [],
   "source": [
    "from sklearn.metrics import confusion_matrix, classification_report, roc_curve, roc_auc_score\n",
    "from sklearn.model_selection import train_test_split\n",
    "from sklearn.utils import class_weight\n",
    "from keras.callbacks import ModelCheckpoint\n",
    "from keras import optimizers\n",
    "from keras.applications.resnet50 import ResNet50, preprocess_input\n",
    "from keras.layers import Dropout, Flatten, Dense, GlobalAveragePooling2D\n",
    "from keras.models import Sequential, Model, model_from_json\n",
    "from keras_preprocessing.image import ImageDataGenerator\n",
    "import pandas as pd\n",
    "import numpy as np\n",
    "import matplotlib.pyplot as plt\n",
    "%matplotlib inline"
   ]
  },
  {
   "cell_type": "code",
   "execution_count": 3,
   "metadata": {},
   "outputs": [],
   "source": [
    "#  import total dataframe\n",
    "\n",
    "df = pd.read_pickle('../pickle_files/pic_df.pkl')"
   ]
  },
  {
   "cell_type": "code",
   "execution_count": 4,
   "metadata": {},
   "outputs": [],
   "source": [
    "# subset a dataframe \n",
    "def create_test_train(df,label):\n",
    "    '''\n",
    "    df: dateframe of pic_ids \n",
    "    label: eyewear,hat, or beard, a string\n",
    "    return: test and train df\n",
    "    '''\n",
    "    sub_set = df[['pic_id',label]]  # subset the label dataframe \n",
    "    X_train, X_test, y_train, y_test = train_test_split(sub_set['pic_id'], sub_set[label],\n",
    "                                                        stratify = sub_set[label],\n",
    "                                                        test_size = 0.2)\n",
    "    df_train = pd.concat([X_train,y_train], axis=1)\n",
    "    df_test = pd.concat([X_test,y_test], axis=1)\n",
    "    return df_train, df_test\n",
    "    "
   ]
  },
  {
   "cell_type": "code",
   "execution_count": 5,
   "metadata": {},
   "outputs": [],
   "source": [
    "def create_generator(train_df, test_df,label,shuffle,batch_size,\n",
    "                    rescale, preprocess_func, target_size,\n",
    "                    class_mode, only_testing = False):\n",
    "    '''\n",
    "    train_df, test_df: dataframe for train and test \n",
    "    label: eyewear,hat, or beard, a string\n",
    "    shuffle: weather to shuffle or not based upon feature extractor or not \n",
    "    batch_size: how many pictures per batch\n",
    "    preprocess_func: vgg16 preprocess or ResNet50\n",
    "    rescale: 1./255 or None\n",
    "    target_size: (224,224) or (150,150)\n",
    "    class_mode: none or binary \n",
    "    return:\n",
    "    train generator and test generator \n",
    "    '''\n",
    "    generators =[]\n",
    "    if not only_testing:\n",
    "        traingen = ImageDataGenerator(\n",
    "            rescale = rescale,\n",
    "            zoom_range= [0.8,1.7],\n",
    "            shear_range=0.2,\n",
    "            brightness_range=[0.5,1.5],\n",
    "            rotation_range = 40,\n",
    "            width_shift_range=0.2,\n",
    "            height_shift_range=0.2,\n",
    "            horizontal_flip=True,\n",
    "            preprocessing_function=preprocess_func)\n",
    "        \n",
    "        train_generator = traingen.flow_from_dataframe(\n",
    "            dataframe=train_df,\n",
    "            directory='../data/pics',\n",
    "            x_col='pic_id',\n",
    "            y_col=label,\n",
    "            batch_size=batch_size,\n",
    "            shuffle = shuffle,\n",
    "            target_size=target_size,\n",
    "            class_mode = class_mode)\n",
    "        generators.append(train_generator)\n",
    "        if class_mode:\n",
    "        # create classweights for train \n",
    "            classweights = class_weight.compute_class_weight(\n",
    "                'balanced',np.unique(train_generator.classes),train_generator.classes)\n",
    "            generators.append(classweights)\n",
    "    \n",
    "    testgen = ImageDataGenerator(\n",
    "        rescale = rescale,\n",
    "        preprocessing_function=preprocess_func)\n",
    "    \n",
    "    test_generator = testgen.flow_from_dataframe(\n",
    "        dataframe=test_df,\n",
    "        directory='../data/pics',\n",
    "        x_col='pic_id',\n",
    "        y_col=label,\n",
    "        batch_size=batch_size,\n",
    "        shuffle=shuffle,\n",
    "        target_size=target_size,\n",
    "        class_mode=class_mode)\n",
    "    generators.append(test_generator)\n",
    "    \n",
    "    return generators"
   ]
  },
  {
   "cell_type": "code",
   "execution_count": 25,
   "metadata": {},
   "outputs": [],
   "source": [
    "train_df, test_df = create_test_train(df,'eyewear')"
   ]
  },
  {
   "cell_type": "markdown",
   "metadata": {},
   "source": [
    "#### Get bottleneck features to tune top models"
   ]
  },
  {
   "cell_type": "code",
   "execution_count": 7,
   "metadata": {},
   "outputs": [],
   "source": [
    "def save_bottleneck_features(df, label, batch_size, model_type, preprocess_func, rescale,\n",
    "                            shuffle,target_size,class_mode):\n",
    "    '''\n",
    "    inputs:\n",
    "    df: dataframe for all eyewear, hat, and beard \n",
    "    label: a string, eyewear, hat, or beard\n",
    "    batch_size: process images in batches\n",
    "    model_type: ResNet50 or VGG16\n",
    "    shuffle: weather to shuffle or not based upon feature extractor or not \n",
    "    preprocess_func: vgg16 preprocess or ResNet50\n",
    "    rescale: 1./255 or None\n",
    "    target_size: (224,224) or (150,150)\n",
    "    class_mode: none or binary \n",
    "    outputs:\n",
    "    saves bottleneck features inside folder tuning_data as npy file\n",
    "    '''\n",
    "    # intialize the model, vgg16 or ResNet50 \n",
    "    # make sure not to train the top layers \n",
    "    base_model = model_type(weights = 'imagenet',include_top = False)\n",
    "    # generate test_train df\n",
    "    train_df, test_df = create_test_train(df,label)\n",
    "    # create train_generator and test_generator to get bottleneck inputs for train and test df \n",
    "    # make sure shuffle is False so we know the label follows the sequence of the dataframe \n",
    "    # so we can tune top_model \n",
    "    generators = create_generator(train_df=train_df,\n",
    "                                                   test_df=test_df,\n",
    "                                                   label=label,\n",
    "                                                   shuffle=shuffle,\n",
    "                                                   rescale=rescale,\n",
    "                                                   preprocess_func=preprocess_input,\n",
    "                                                   batch_size=16,\n",
    "                                                   target_size=target_size,\n",
    "                                                   class_mode=class_mode)  \n",
    "    train_generator, test_generator = generators[0],generators[1]\n",
    "    \n",
    "    # get features saved as .npy in tunign_data folder \n",
    "    bottleneck_features_train = base_model.predict_generator(\n",
    "        train_generator, train_df.shape[0]//batch_size)\n",
    "    np.save(open(f'../tuning_data/resnet_data/untracked_resnet50/bottleneck_features_train_{label}_resnet50_beta.npy','wb'),\n",
    "           bottleneck_features_train)\n",
    "    \n",
    "    bottleneck_features_test = base_model.predict_generator(\n",
    "        test_generator, test_df.shape[0]//batch_size)\n",
    "    np.save(open(f'../tuning_data/resnet_data/untracked_resnet50/bottleneck_features_test_{label}_resnet50_beta.npy','wb'),\n",
    "           bottleneck_features_test)\n",
    "    return train_df, test_df"
   ]
  },
  {
   "cell_type": "markdown",
   "metadata": {},
   "source": [
    "#### Save bottleneck_features"
   ]
  },
  {
   "cell_type": "code",
   "execution_count": 26,
   "metadata": {
    "scrolled": false
   },
   "outputs": [
    {
     "name": "stdout",
     "output_type": "stream",
     "text": [
      "Found 522 validated image filenames.\n",
      "Found 131 validated image filenames.\n"
     ]
    }
   ],
   "source": [
    "train_df, test_df = save_bottleneck_features(df,'eyewear',16,ResNet50,preprocess_input,\n",
    "                         None,False,(224,224),None)"
   ]
  },
  {
   "cell_type": "code",
   "execution_count": 9,
   "metadata": {},
   "outputs": [],
   "source": [
    "def resnet50_model(input_shape, dropout):\n",
    "    '''\n",
    "    input_shape: input_shape for pooling layer \n",
    "    dropout:percentage for Dropout layer \n",
    "    optimizer: optimizer for model compiles \n",
    "    returns resnet50 model\n",
    "    '''\n",
    "    model = Sequential()\n",
    "    model.add(GlobalAveragePooling2D(input_shape=input_shape))\n",
    "    model.add(Dense(512,activation='relu'))\n",
    "    model.add(Dropout(dropout))\n",
    "    model.add(Dense(1,activation='sigmoid'))\n",
    "    return model"
   ]
  },
  {
   "cell_type": "code",
   "execution_count": null,
   "metadata": {},
   "outputs": [],
   "source": [
    "def vgg16_model(input_shape,dropout):\n",
    "    '''\n",
    "    input_shape: input_shape for pooling layer \n",
    "    dropout:percentage for Dropout layer \n",
    "    optimizer: optimizer for model compiles \n",
    "    returns vgg16 model\n",
    "    '''\n",
    "     # build top model\n",
    "    model = Sequential()\n",
    "    model.add(Flatten(input_shape=input_shape))\n",
    "    model.add(Dense(256, activation='relu'))\n",
    "    model.add(Dropout(dropout))\n",
    "    model.add(Dense(1, activation='sigmoid'))\n",
    "\n",
    "    return model    "
   ]
  },
  {
   "cell_type": "markdown",
   "metadata": {},
   "source": [
    "### Quick tuning of top models "
   ]
  },
  {
   "cell_type": "code",
   "execution_count": 10,
   "metadata": {},
   "outputs": [],
   "source": [
    "def train_top_model(train_df, test_df, epoch, batch_size, label, model_type,rescale,preprocess_func,\n",
    "                   target_size):\n",
    "    '''\n",
    "    inputs:\n",
    "    train_df, test_df: dataframes returned from save_bottleneck_features functions \n",
    "    epoch: num of epochs in fit \n",
    "    batch_size: same as image generator batch size \n",
    "    label: a string, eyewear, hat, or beard\n",
    "    model_type: resnet50 or vgg16\n",
    "    output:\n",
    "    saves model weights in a folder \n",
    "    '''\n",
    "    train_data = np.load(open(f'../tuning_data/resnet_data/untracked_resnet50/bottleneck_features_train_{label}_resnet50_beta.npy','rb'))\n",
    "    # make sure train_data and train_label have same num of samples\n",
    "    train_label = np.array(train_df[label].map({'0':0, '1':1}))[:-(train_df.shape[0]%batch_size)]\n",
    "    \n",
    "    test_data = np.load(open(f'../tuning_data/resnet_data/untracked_resnet50/bottleneck_features_test_{label}_resnet50_beta.npy','rb'))\n",
    "    test_label = np.array(test_df[label].map({'0':0, '1':1}))[:-(test_df.shape[0]%batch_size)]\n",
    "    \n",
    "    # build top model\n",
    "    if model_type == 'resnet50':\n",
    "        model = resnet50_model(train_data.shape[1:],0.25)\n",
    "    if model_type == 'vgg16':\n",
    "        model = vgg16_model(train_data.shape[1:],0.5)\n",
    "        \n",
    "    model.compile(optimizer=optimizers.Adam(),\n",
    "                 loss='binary_crossentropy',\n",
    "                 metrics=['accuracy'])\n",
    "\n",
    "    # checkpoint for best weights \n",
    "    filepath=f\"../tuning_data/resnet_data/untracked_resnet50/best_bottleneck_resnet50_model_{label}_beta.h5\"\n",
    "    checkpoint = ModelCheckpoint(filepath, monitor='val_acc', verbose=1, save_best_only=True, mode='max')\n",
    "    callbacks_list = [checkpoint]\n",
    "    \n",
    "    classweight = create_generator(train_df, test_df,label,False,batch_size,\n",
    "                    rescale, preprocess_func, target_size,\n",
    "                    'binary', only_testing = False)[1]\n",
    "    \n",
    "    model.fit(train_data, train_label,\n",
    "             epochs=epoch,\n",
    "             batch_size=batch_size,\n",
    "             validation_data=(test_data,test_label),\n",
    "             callbacks=callbacks_list,\n",
    "             class_weight = classweight)\n",
    "    del model\n",
    "    keras.backend.clear_session()"
   ]
  },
  {
   "cell_type": "markdown",
   "metadata": {},
   "source": [
    "#### run train_top_model and save results in tuning_data"
   ]
  },
  {
   "cell_type": "code",
   "execution_count": 27,
   "metadata": {
    "scrolled": false
   },
   "outputs": [
    {
     "name": "stdout",
     "output_type": "stream",
     "text": [
      "Found 522 validated image filenames belonging to 2 classes.\n",
      "Found 131 validated image filenames belonging to 2 classes.\n",
      "Train on 512 samples, validate on 128 samples\n",
      "Epoch 1/50\n",
      "512/512 [==============================] - 2s 5ms/step - loss: 0.6259 - acc: 0.7520 - val_loss: 0.2969 - val_acc: 0.9062\n",
      "\n",
      "Epoch 00001: val_acc improved from -inf to 0.90625, saving model to ../tuning_data/resnet_data/untracked_resnet50/best_bottleneck_resnet50_model_eyewear_beta.h5\n",
      "Epoch 2/50\n",
      "512/512 [==============================] - 0s 372us/step - loss: 0.1757 - acc: 0.9355 - val_loss: 0.2533 - val_acc: 0.9141\n",
      "\n",
      "Epoch 00002: val_acc improved from 0.90625 to 0.91406, saving model to ../tuning_data/resnet_data/untracked_resnet50/best_bottleneck_resnet50_model_eyewear_beta.h5\n",
      "Epoch 3/50\n",
      "512/512 [==============================] - 0s 400us/step - loss: 0.1055 - acc: 0.9609 - val_loss: 0.1882 - val_acc: 0.9375\n",
      "\n",
      "Epoch 00003: val_acc improved from 0.91406 to 0.93750, saving model to ../tuning_data/resnet_data/untracked_resnet50/best_bottleneck_resnet50_model_eyewear_beta.h5\n",
      "Epoch 4/50\n",
      "512/512 [==============================] - 0s 381us/step - loss: 0.0645 - acc: 0.9805 - val_loss: 0.2318 - val_acc: 0.9375\n",
      "\n",
      "Epoch 00004: val_acc did not improve from 0.93750\n",
      "Epoch 5/50\n",
      "512/512 [==============================] - 0s 379us/step - loss: 0.0373 - acc: 0.9902 - val_loss: 0.2212 - val_acc: 0.9375\n",
      "\n",
      "Epoch 00005: val_acc did not improve from 0.93750\n",
      "Epoch 6/50\n",
      "512/512 [==============================] - 0s 424us/step - loss: 0.0251 - acc: 0.9961 - val_loss: 0.2075 - val_acc: 0.9453\n",
      "\n",
      "Epoch 00006: val_acc improved from 0.93750 to 0.94531, saving model to ../tuning_data/resnet_data/untracked_resnet50/best_bottleneck_resnet50_model_eyewear_beta.h5\n",
      "Epoch 7/50\n",
      "512/512 [==============================] - 0s 421us/step - loss: 0.0330 - acc: 0.9883 - val_loss: 0.2136 - val_acc: 0.9531\n",
      "\n",
      "Epoch 00007: val_acc improved from 0.94531 to 0.95312, saving model to ../tuning_data/resnet_data/untracked_resnet50/best_bottleneck_resnet50_model_eyewear_beta.h5\n",
      "Epoch 8/50\n",
      "512/512 [==============================] - 0s 411us/step - loss: 0.0284 - acc: 0.9961 - val_loss: 0.2336 - val_acc: 0.9453\n",
      "\n",
      "Epoch 00008: val_acc did not improve from 0.95312\n",
      "Epoch 9/50\n",
      "512/512 [==============================] - 0s 402us/step - loss: 0.0169 - acc: 0.9941 - val_loss: 0.2303 - val_acc: 0.9297\n",
      "\n",
      "Epoch 00009: val_acc did not improve from 0.95312\n",
      "Epoch 10/50\n",
      "512/512 [==============================] - 0s 388us/step - loss: 0.0174 - acc: 0.9980 - val_loss: 0.2702 - val_acc: 0.9062\n",
      "\n",
      "Epoch 00010: val_acc did not improve from 0.95312\n",
      "Epoch 11/50\n",
      "512/512 [==============================] - 0s 387us/step - loss: 0.0114 - acc: 0.9980 - val_loss: 0.2511 - val_acc: 0.9531\n",
      "\n",
      "Epoch 00011: val_acc did not improve from 0.95312\n",
      "Epoch 12/50\n",
      "512/512 [==============================] - 0s 385us/step - loss: 0.0065 - acc: 1.0000 - val_loss: 0.2787 - val_acc: 0.9375\n",
      "\n",
      "Epoch 00012: val_acc did not improve from 0.95312\n",
      "Epoch 13/50\n",
      "512/512 [==============================] - 0s 387us/step - loss: 0.0039 - acc: 1.0000 - val_loss: 0.2592 - val_acc: 0.9453\n",
      "\n",
      "Epoch 00013: val_acc did not improve from 0.95312\n",
      "Epoch 14/50\n",
      "512/512 [==============================] - 0s 391us/step - loss: 0.0024 - acc: 1.0000 - val_loss: 0.2641 - val_acc: 0.9453\n",
      "\n",
      "Epoch 00014: val_acc did not improve from 0.95312\n",
      "Epoch 15/50\n",
      "512/512 [==============================] - 0s 406us/step - loss: 0.0018 - acc: 1.0000 - val_loss: 0.2686 - val_acc: 0.9375\n",
      "\n",
      "Epoch 00015: val_acc did not improve from 0.95312\n",
      "Epoch 16/50\n",
      "512/512 [==============================] - 0s 399us/step - loss: 0.0020 - acc: 1.0000 - val_loss: 0.2589 - val_acc: 0.9453\n",
      "\n",
      "Epoch 00016: val_acc did not improve from 0.95312\n",
      "Epoch 17/50\n",
      "512/512 [==============================] - 0s 400us/step - loss: 0.0013 - acc: 1.0000 - val_loss: 0.2571 - val_acc: 0.9375\n",
      "\n",
      "Epoch 00017: val_acc did not improve from 0.95312\n",
      "Epoch 18/50\n",
      "512/512 [==============================] - 0s 382us/step - loss: 9.5932e-04 - acc: 1.0000 - val_loss: 0.2656 - val_acc: 0.9375\n",
      "\n",
      "Epoch 00018: val_acc did not improve from 0.95312\n",
      "Epoch 19/50\n",
      "512/512 [==============================] - 0s 394us/step - loss: 9.2760e-04 - acc: 1.0000 - val_loss: 0.2625 - val_acc: 0.9453\n",
      "\n",
      "Epoch 00019: val_acc did not improve from 0.95312\n",
      "Epoch 20/50\n",
      "512/512 [==============================] - 0s 396us/step - loss: 0.0010 - acc: 1.0000 - val_loss: 0.2658 - val_acc: 0.9453\n",
      "\n",
      "Epoch 00020: val_acc did not improve from 0.95312\n",
      "Epoch 21/50\n",
      "512/512 [==============================] - 0s 392us/step - loss: 8.4011e-04 - acc: 1.0000 - val_loss: 0.2696 - val_acc: 0.9375\n",
      "\n",
      "Epoch 00021: val_acc did not improve from 0.95312\n",
      "Epoch 22/50\n",
      "512/512 [==============================] - 0s 386us/step - loss: 9.6860e-04 - acc: 1.0000 - val_loss: 0.2699 - val_acc: 0.9453\n",
      "\n",
      "Epoch 00022: val_acc did not improve from 0.95312\n",
      "Epoch 23/50\n",
      "512/512 [==============================] - 0s 376us/step - loss: 0.0011 - acc: 1.0000 - val_loss: 0.2626 - val_acc: 0.9453\n",
      "\n",
      "Epoch 00023: val_acc did not improve from 0.95312\n",
      "Epoch 24/50\n",
      "512/512 [==============================] - 0s 382us/step - loss: 9.8987e-04 - acc: 1.0000 - val_loss: 0.2657 - val_acc: 0.9375\n",
      "\n",
      "Epoch 00024: val_acc did not improve from 0.95312\n",
      "Epoch 25/50\n",
      "512/512 [==============================] - 0s 376us/step - loss: 6.6356e-04 - acc: 1.0000 - val_loss: 0.2710 - val_acc: 0.9453\n",
      "\n",
      "Epoch 00025: val_acc did not improve from 0.95312\n",
      "Epoch 26/50\n",
      "512/512 [==============================] - 0s 388us/step - loss: 9.2245e-04 - acc: 1.0000 - val_loss: 0.2764 - val_acc: 0.9531\n",
      "\n",
      "Epoch 00026: val_acc did not improve from 0.95312\n",
      "Epoch 27/50\n",
      "512/512 [==============================] - 0s 381us/step - loss: 6.9594e-04 - acc: 1.0000 - val_loss: 0.2705 - val_acc: 0.9453\n",
      "\n",
      "Epoch 00027: val_acc did not improve from 0.95312\n",
      "Epoch 28/50\n",
      "512/512 [==============================] - 0s 384us/step - loss: 5.4954e-04 - acc: 1.0000 - val_loss: 0.2725 - val_acc: 0.9453\n",
      "\n",
      "Epoch 00028: val_acc did not improve from 0.95312\n",
      "Epoch 29/50\n",
      "512/512 [==============================] - 0s 379us/step - loss: 4.9357e-04 - acc: 1.0000 - val_loss: 0.2730 - val_acc: 0.9531\n",
      "\n",
      "Epoch 00029: val_acc did not improve from 0.95312\n",
      "Epoch 30/50\n",
      "512/512 [==============================] - 0s 398us/step - loss: 4.6235e-04 - acc: 1.0000 - val_loss: 0.2759 - val_acc: 0.9531\n",
      "\n",
      "Epoch 00030: val_acc did not improve from 0.95312\n",
      "Epoch 31/50\n",
      "512/512 [==============================] - 0s 414us/step - loss: 5.0098e-04 - acc: 1.0000 - val_loss: 0.2814 - val_acc: 0.9531\n",
      "\n",
      "Epoch 00031: val_acc did not improve from 0.95312\n",
      "Epoch 32/50\n",
      "512/512 [==============================] - 0s 409us/step - loss: 3.6031e-04 - acc: 1.0000 - val_loss: 0.2834 - val_acc: 0.9453\n",
      "\n",
      "Epoch 00032: val_acc did not improve from 0.95312\n",
      "Epoch 33/50\n",
      "512/512 [==============================] - 0s 406us/step - loss: 3.9886e-04 - acc: 1.0000 - val_loss: 0.2810 - val_acc: 0.9453\n",
      "\n",
      "Epoch 00033: val_acc did not improve from 0.95312\n",
      "Epoch 34/50\n",
      "512/512 [==============================] - 0s 393us/step - loss: 3.2713e-04 - acc: 1.0000 - val_loss: 0.2839 - val_acc: 0.9531\n",
      "\n",
      "Epoch 00034: val_acc did not improve from 0.95312\n",
      "Epoch 35/50\n",
      "512/512 [==============================] - 0s 388us/step - loss: 3.3619e-04 - acc: 1.0000 - val_loss: 0.2835 - val_acc: 0.9453\n",
      "\n",
      "Epoch 00035: val_acc did not improve from 0.95312\n",
      "Epoch 36/50\n",
      "512/512 [==============================] - 0s 392us/step - loss: 3.3768e-04 - acc: 1.0000 - val_loss: 0.2889 - val_acc: 0.9453\n",
      "\n",
      "Epoch 00036: val_acc did not improve from 0.95312\n",
      "Epoch 37/50\n",
      "512/512 [==============================] - 0s 395us/step - loss: 3.4562e-04 - acc: 1.0000 - val_loss: 0.2853 - val_acc: 0.9531\n",
      "\n",
      "Epoch 00037: val_acc did not improve from 0.95312\n",
      "Epoch 38/50\n",
      "512/512 [==============================] - 0s 365us/step - loss: 3.2836e-04 - acc: 1.0000 - val_loss: 0.2873 - val_acc: 0.9453\n",
      "\n",
      "Epoch 00038: val_acc did not improve from 0.95312\n",
      "Epoch 39/50\n",
      "512/512 [==============================] - 0s 382us/step - loss: 3.0286e-04 - acc: 1.0000 - val_loss: 0.2907 - val_acc: 0.9531\n",
      "\n",
      "Epoch 00039: val_acc did not improve from 0.95312\n",
      "Epoch 40/50\n",
      "512/512 [==============================] - 0s 405us/step - loss: 2.4166e-04 - acc: 1.0000 - val_loss: 0.2904 - val_acc: 0.9531\n"
     ]
    },
    {
     "name": "stdout",
     "output_type": "stream",
     "text": [
      "\n",
      "Epoch 00040: val_acc did not improve from 0.95312\n",
      "Epoch 41/50\n",
      "512/512 [==============================] - 0s 386us/step - loss: 3.1287e-04 - acc: 1.0000 - val_loss: 0.2931 - val_acc: 0.9453\n",
      "\n",
      "Epoch 00041: val_acc did not improve from 0.95312\n",
      "Epoch 42/50\n",
      "512/512 [==============================] - 0s 393us/step - loss: 2.3594e-04 - acc: 1.0000 - val_loss: 0.2970 - val_acc: 0.9453\n",
      "\n",
      "Epoch 00042: val_acc did not improve from 0.95312\n",
      "Epoch 43/50\n",
      "512/512 [==============================] - 0s 399us/step - loss: 2.4464e-04 - acc: 1.0000 - val_loss: 0.2984 - val_acc: 0.9453\n",
      "\n",
      "Epoch 00043: val_acc did not improve from 0.95312\n",
      "Epoch 44/50\n",
      "512/512 [==============================] - 0s 405us/step - loss: 2.2045e-04 - acc: 1.0000 - val_loss: 0.2980 - val_acc: 0.9453\n",
      "\n",
      "Epoch 00044: val_acc did not improve from 0.95312\n",
      "Epoch 45/50\n",
      "512/512 [==============================] - 0s 410us/step - loss: 2.0289e-04 - acc: 1.0000 - val_loss: 0.2978 - val_acc: 0.9453\n",
      "\n",
      "Epoch 00045: val_acc did not improve from 0.95312\n",
      "Epoch 46/50\n",
      "512/512 [==============================] - 0s 388us/step - loss: 1.8993e-04 - acc: 1.0000 - val_loss: 0.2976 - val_acc: 0.9531\n",
      "\n",
      "Epoch 00046: val_acc did not improve from 0.95312\n",
      "Epoch 47/50\n",
      "512/512 [==============================] - 0s 405us/step - loss: 1.7100e-04 - acc: 1.0000 - val_loss: 0.2986 - val_acc: 0.9453\n",
      "\n",
      "Epoch 00047: val_acc did not improve from 0.95312\n",
      "Epoch 48/50\n",
      "512/512 [==============================] - 0s 395us/step - loss: 1.6896e-04 - acc: 1.0000 - val_loss: 0.3014 - val_acc: 0.9531\n",
      "\n",
      "Epoch 00048: val_acc did not improve from 0.95312\n",
      "Epoch 49/50\n",
      "512/512 [==============================] - 0s 390us/step - loss: 1.8250e-04 - acc: 1.0000 - val_loss: 0.3007 - val_acc: 0.9453\n",
      "\n",
      "Epoch 00049: val_acc did not improve from 0.95312\n",
      "Epoch 50/50\n",
      "512/512 [==============================] - 0s 396us/step - loss: 2.9356e-04 - acc: 1.0000 - val_loss: 0.3096 - val_acc: 0.9453\n",
      "\n",
      "Epoch 00050: val_acc did not improve from 0.95312\n"
     ]
    }
   ],
   "source": [
    "train_top_model(train_df, test_df, 50, 16, 'eyewear','resnet50',None,preprocess_input,target_size=(224,224))"
   ]
  },
  {
   "cell_type": "markdown",
   "metadata": {},
   "source": [
    "### Fine Tune Top Model to improve accuracy"
   ]
  },
  {
   "cell_type": "code",
   "execution_count": 28,
   "metadata": {},
   "outputs": [],
   "source": [
    "def fine_tune_model(train_df, test_df,epoch, batch_size,label, \n",
    "                    model_type,dim, rescale, preprocess_func,print_model = False):\n",
    "    '''\n",
    "    inputs:\n",
    "    train_df, test_df: dataframes returned from save_bottleneck_features functions \n",
    "    epoch: num of epochs in fit \n",
    "    batch_size: same as image generator batch size \n",
    "    label: a string, eyewear, hat, or beard\n",
    "    model_type: resnet50 or vgg16\n",
    "    dim: 224 or 150 \n",
    "    rescale: None resnet50, 1./255 for vgg16\n",
    "    preprocess_func: depends on resnet or vgg16\n",
    "    return model \n",
    "    '''\n",
    "    # build model and freeze top layers\n",
    "    # input_shape: width, height, RGB (from image generator)\n",
    "    if model_type == 'resnet50':\n",
    "        base_model = ResNet50(weights='imagenet',include_top=False, input_shape=(dim,dim,3))\n",
    "        # build top model\n",
    "        top_model = resnet50_model(base_model.output_shape[1:],0.25)\n",
    "    if model_type == 'vgg16':\n",
    "        base_model = VGG16(weights='imagenet',include_top=False, input_shape=(dim,dim,3))\n",
    "        top_model = vgg16_model(base_model.output_shape[1:],0.5)\n",
    "    # load saved weights to fine tune parameters \n",
    "    top_model.load_weights(f'../tuning_data/resnet_data/untracked_resnet50/best_bottleneck_resnet50_model_{label}_beta.h5')\n",
    "    # add top model to model\n",
    "    model = Model(inputs=base_model.input, outputs=top_model(base_model.output))\n",
    "    # we will tune last 8 layers of the model: activation49 and fully connected layer \n",
    "    for layer in model.layers[:-5]:\n",
    "        layer.trainable = False\n",
    "    # we can tune the parameters for lr and momentum later to get better results\n",
    "    model.compile(loss='binary_crossentropy',\n",
    "             optimizer=optimizers.SGD(lr=5e-5, momentum = 0.9),\n",
    "             metrics=['accuracy'])\n",
    "    # prepare train generator using data augmentation to battle small sample size \n",
    "    generators = create_generator(train_df,test_df, label,True,16,rescale,\n",
    "                                                    preprocess_func,(dim,dim),\n",
    "                                                    'binary')\n",
    "    train_generator, classweight, test_generator = generators[0], generators[1], generators[2]\n",
    "    \n",
    "    # checkpoint for best weights \n",
    "    filepath=f\"../tuning_data/resnet_data/untracked_resnet50/best_resnet50_model_5_layer_{label}_0.25dobeta_2.h5\"\n",
    "    checkpoint = ModelCheckpoint(filepath, monitor='val_acc', verbose=1, save_best_only=True, mode='max')\n",
    "    callbacks_list = [checkpoint]\n",
    "    \n",
    "    # run and fit model \n",
    "    result = model.fit_generator(\n",
    "    train_generator,\n",
    "    steps_per_epoch=train_df.shape[0]//batch_size,\n",
    "    epochs=epoch,\n",
    "    validation_data=test_generator,\n",
    "    validation_steps=test_df.shape[0]//batch_size,\n",
    "    verbose=1,class_weight=list(classweight),\n",
    "    callbacks=callbacks_list\n",
    "    )\n",
    "    \n",
    "    if print_model:\n",
    "        model.summary()\n",
    "    \n",
    "    del model\n",
    "    keras.backend.clear_session()\n",
    "    return result                "
   ]
  },
  {
   "cell_type": "markdown",
   "metadata": {},
   "source": [
    "### save model history "
   ]
  },
  {
   "cell_type": "code",
   "execution_count": 29,
   "metadata": {},
   "outputs": [
    {
     "name": "stdout",
     "output_type": "stream",
     "text": [
      "Found 522 validated image filenames belonging to 2 classes.\n",
      "Found 131 validated image filenames belonging to 2 classes.\n",
      "Epoch 1/50\n",
      "32/32 [==============================] - 8s 254ms/step - loss: 0.4901 - acc: 0.8418 - val_loss: 0.2001 - val_acc: 0.9453\n",
      "\n",
      "Epoch 00001: val_acc improved from -inf to 0.94531, saving model to ../tuning_data/resnet_data/untracked_resnet50/best_resnet50_model_5_layer_eyewear_0.25dobeta_2.h5\n",
      "Epoch 2/50\n",
      "32/32 [==============================] - 8s 246ms/step - loss: 0.3111 - acc: 0.8930 - val_loss: 0.1956 - val_acc: 0.9478\n",
      "\n",
      "Epoch 00002: val_acc improved from 0.94531 to 0.94783, saving model to ../tuning_data/resnet_data/untracked_resnet50/best_resnet50_model_5_layer_eyewear_0.25dobeta_2.h5\n",
      "Epoch 3/50\n",
      "32/32 [==============================] - 7s 232ms/step - loss: 0.2360 - acc: 0.8914 - val_loss: 0.2336 - val_acc: 0.9043\n",
      "\n",
      "Epoch 00003: val_acc did not improve from 0.94783\n",
      "Epoch 4/50\n",
      "32/32 [==============================] - 7s 228ms/step - loss: 0.2301 - acc: 0.9109 - val_loss: 0.2029 - val_acc: 0.9043\n",
      "\n",
      "Epoch 00004: val_acc did not improve from 0.94783\n",
      "Epoch 5/50\n",
      "32/32 [==============================] - 7s 216ms/step - loss: 0.2094 - acc: 0.9227 - val_loss: 0.2437 - val_acc: 0.9043\n",
      "\n",
      "Epoch 00005: val_acc did not improve from 0.94783\n",
      "Epoch 6/50\n",
      "32/32 [==============================] - 7s 234ms/step - loss: 0.2238 - acc: 0.8922 - val_loss: 0.2705 - val_acc: 0.8870\n",
      "\n",
      "Epoch 00006: val_acc did not improve from 0.94783\n",
      "Epoch 7/50\n",
      "32/32 [==============================] - 7s 210ms/step - loss: 0.1995 - acc: 0.9179 - val_loss: 0.1729 - val_acc: 0.9304\n",
      "\n",
      "Epoch 00007: val_acc did not improve from 0.94783\n",
      "Epoch 8/50\n",
      "32/32 [==============================] - 7s 220ms/step - loss: 0.2195 - acc: 0.9148 - val_loss: 0.3215 - val_acc: 0.8783\n",
      "\n",
      "Epoch 00008: val_acc did not improve from 0.94783\n",
      "Epoch 9/50\n",
      "32/32 [==============================] - 7s 210ms/step - loss: 0.2146 - acc: 0.9165 - val_loss: 0.2163 - val_acc: 0.8870\n",
      "\n",
      "Epoch 00009: val_acc did not improve from 0.94783\n",
      "Epoch 10/50\n",
      "32/32 [==============================] - 7s 227ms/step - loss: 0.2273 - acc: 0.9160 - val_loss: 0.2381 - val_acc: 0.8984\n",
      "\n",
      "Epoch 00010: val_acc did not improve from 0.94783\n",
      "Epoch 11/50\n",
      "32/32 [==============================] - 8s 246ms/step - loss: 0.2400 - acc: 0.9009 - val_loss: 0.2243 - val_acc: 0.9043\n",
      "\n",
      "Epoch 00011: val_acc did not improve from 0.94783\n",
      "Epoch 12/50\n",
      "32/32 [==============================] - 7s 217ms/step - loss: 0.1990 - acc: 0.9082 - val_loss: 0.3262 - val_acc: 0.8522\n",
      "\n",
      "Epoch 00012: val_acc did not improve from 0.94783\n",
      "Epoch 13/50\n",
      "32/32 [==============================] - 7s 212ms/step - loss: 0.2178 - acc: 0.9168 - val_loss: 0.1243 - val_acc: 0.9391\n",
      "\n",
      "Epoch 00013: val_acc did not improve from 0.94783\n",
      "Epoch 14/50\n",
      "32/32 [==============================] - 8s 236ms/step - loss: 0.2102 - acc: 0.9168 - val_loss: 0.3310 - val_acc: 0.8783\n",
      "\n",
      "Epoch 00014: val_acc did not improve from 0.94783\n",
      "Epoch 15/50\n",
      "32/32 [==============================] - 7s 211ms/step - loss: 0.2155 - acc: 0.9121 - val_loss: 0.1249 - val_acc: 0.9304\n",
      "\n",
      "Epoch 00015: val_acc did not improve from 0.94783\n",
      "Epoch 16/50\n",
      "32/32 [==============================] - 7s 216ms/step - loss: 0.1933 - acc: 0.9305 - val_loss: 0.2533 - val_acc: 0.8957\n",
      "\n",
      "Epoch 00016: val_acc did not improve from 0.94783\n",
      "Epoch 17/50\n",
      "32/32 [==============================] - 7s 219ms/step - loss: 0.1674 - acc: 0.9277 - val_loss: 0.2399 - val_acc: 0.8957\n",
      "\n",
      "Epoch 00017: val_acc did not improve from 0.94783\n",
      "Epoch 18/50\n",
      "32/32 [==============================] - 7s 213ms/step - loss: 0.1801 - acc: 0.9258 - val_loss: 0.2611 - val_acc: 0.8870\n",
      "\n",
      "Epoch 00018: val_acc did not improve from 0.94783\n",
      "Epoch 19/50\n",
      "32/32 [==============================] - 7s 229ms/step - loss: 0.2260 - acc: 0.9020 - val_loss: 0.2387 - val_acc: 0.8984\n",
      "\n",
      "Epoch 00019: val_acc did not improve from 0.94783\n",
      "Epoch 20/50\n",
      "32/32 [==============================] - 8s 239ms/step - loss: 0.1963 - acc: 0.9285 - val_loss: 0.1920 - val_acc: 0.9130\n",
      "\n",
      "Epoch 00020: val_acc did not improve from 0.94783\n",
      "Epoch 21/50\n",
      "32/32 [==============================] - 7s 220ms/step - loss: 0.1493 - acc: 0.9422 - val_loss: 0.2665 - val_acc: 0.8957\n",
      "\n",
      "Epoch 00021: val_acc did not improve from 0.94783\n",
      "Epoch 22/50\n",
      "32/32 [==============================] - 7s 218ms/step - loss: 0.1870 - acc: 0.9258 - val_loss: 0.2001 - val_acc: 0.9043\n",
      "\n",
      "Epoch 00022: val_acc did not improve from 0.94783\n",
      "Epoch 23/50\n",
      "32/32 [==============================] - 7s 232ms/step - loss: 0.2258 - acc: 0.9160 - val_loss: 0.2196 - val_acc: 0.9130\n",
      "\n",
      "Epoch 00023: val_acc did not improve from 0.94783\n",
      "Epoch 24/50\n",
      "32/32 [==============================] - 7s 224ms/step - loss: 0.2095 - acc: 0.9079 - val_loss: 0.2359 - val_acc: 0.8783\n",
      "\n",
      "Epoch 00024: val_acc did not improve from 0.94783\n",
      "Epoch 25/50\n",
      "32/32 [==============================] - 7s 211ms/step - loss: 0.1700 - acc: 0.9305 - val_loss: 0.3133 - val_acc: 0.8957\n",
      "\n",
      "Epoch 00025: val_acc did not improve from 0.94783\n",
      "Epoch 26/50\n",
      "32/32 [==============================] - 7s 227ms/step - loss: 0.1864 - acc: 0.9173 - val_loss: 0.1830 - val_acc: 0.9043\n",
      "\n",
      "Epoch 00026: val_acc did not improve from 0.94783\n",
      "Epoch 27/50\n",
      "32/32 [==============================] - 7s 210ms/step - loss: 0.1825 - acc: 0.9219 - val_loss: 0.2107 - val_acc: 0.9043\n",
      "\n",
      "Epoch 00027: val_acc did not improve from 0.94783\n",
      "Epoch 28/50\n",
      "32/32 [==============================] - 7s 214ms/step - loss: 0.2208 - acc: 0.9059 - val_loss: 0.2366 - val_acc: 0.8984\n",
      "\n",
      "Epoch 00028: val_acc did not improve from 0.94783\n",
      "Epoch 29/50\n",
      "32/32 [==============================] - 8s 248ms/step - loss: 0.2054 - acc: 0.9050 - val_loss: 0.2452 - val_acc: 0.8957\n",
      "\n",
      "Epoch 00029: val_acc did not improve from 0.94783\n",
      "Epoch 30/50\n",
      "32/32 [==============================] - 7s 214ms/step - loss: 0.1652 - acc: 0.9258 - val_loss: 0.2158 - val_acc: 0.8957\n",
      "\n",
      "Epoch 00030: val_acc did not improve from 0.94783\n",
      "Epoch 31/50\n",
      "32/32 [==============================] - 7s 223ms/step - loss: 0.1553 - acc: 0.9433 - val_loss: 0.1294 - val_acc: 0.9391\n",
      "\n",
      "Epoch 00031: val_acc did not improve from 0.94783\n",
      "Epoch 32/50\n",
      "32/32 [==============================] - 7s 206ms/step - loss: 0.1770 - acc: 0.9277 - val_loss: 0.3186 - val_acc: 0.8783\n",
      "\n",
      "Epoch 00032: val_acc did not improve from 0.94783\n",
      "Epoch 33/50\n",
      "32/32 [==============================] - 7s 220ms/step - loss: 0.1670 - acc: 0.9375 - val_loss: 0.1724 - val_acc: 0.9217\n",
      "\n",
      "Epoch 00033: val_acc did not improve from 0.94783\n",
      "Epoch 34/50\n",
      "32/32 [==============================] - 7s 229ms/step - loss: 0.1985 - acc: 0.9246 - val_loss: 0.2582 - val_acc: 0.8957\n",
      "\n",
      "Epoch 00034: val_acc did not improve from 0.94783\n",
      "Epoch 35/50\n",
      "32/32 [==============================] - 7s 234ms/step - loss: 0.1960 - acc: 0.9258 - val_loss: 0.1805 - val_acc: 0.9217\n",
      "\n",
      "Epoch 00035: val_acc did not improve from 0.94783\n",
      "Epoch 36/50\n",
      "32/32 [==============================] - 7s 220ms/step - loss: 0.1567 - acc: 0.9442 - val_loss: 0.2519 - val_acc: 0.8957\n",
      "\n",
      "Epoch 00036: val_acc did not improve from 0.94783\n",
      "Epoch 37/50\n",
      "32/32 [==============================] - 7s 222ms/step - loss: 0.1667 - acc: 0.9433 - val_loss: 0.1737 - val_acc: 0.9141\n",
      "\n",
      "Epoch 00037: val_acc did not improve from 0.94783\n",
      "Epoch 38/50\n",
      "32/32 [==============================] - 7s 234ms/step - loss: 0.2616 - acc: 0.9067 - val_loss: 0.2657 - val_acc: 0.9043\n",
      "\n",
      "Epoch 00038: val_acc did not improve from 0.94783\n",
      "Epoch 39/50\n",
      "32/32 [==============================] - 7s 218ms/step - loss: 0.1582 - acc: 0.9375 - val_loss: 0.1988 - val_acc: 0.9043\n",
      "\n",
      "Epoch 00039: val_acc did not improve from 0.94783\n",
      "Epoch 40/50\n",
      "32/32 [==============================] - 7s 217ms/step - loss: 0.1741 - acc: 0.9355 - val_loss: 0.1547 - val_acc: 0.9391\n",
      "\n",
      "Epoch 00040: val_acc did not improve from 0.94783\n",
      "Epoch 41/50\n",
      "32/32 [==============================] - 8s 240ms/step - loss: 0.1805 - acc: 0.9227 - val_loss: 0.2665 - val_acc: 0.8957\n",
      "\n",
      "Epoch 00041: val_acc did not improve from 0.94783\n",
      "Epoch 42/50\n",
      "32/32 [==============================] - 7s 224ms/step - loss: 0.1440 - acc: 0.9512 - val_loss: 0.2605 - val_acc: 0.8957\n",
      "\n",
      "Epoch 00042: val_acc did not improve from 0.94783\n",
      "Epoch 43/50\n",
      "32/32 [==============================] - 7s 223ms/step - loss: 0.1811 - acc: 0.9297 - val_loss: 0.1938 - val_acc: 0.8957\n"
     ]
    },
    {
     "name": "stdout",
     "output_type": "stream",
     "text": [
      "\n",
      "Epoch 00043: val_acc did not improve from 0.94783\n",
      "Epoch 44/50\n",
      "32/32 [==============================] - 7s 212ms/step - loss: 0.1593 - acc: 0.9316 - val_loss: 0.2029 - val_acc: 0.9130\n",
      "\n",
      "Epoch 00044: val_acc did not improve from 0.94783\n",
      "Epoch 45/50\n",
      "32/32 [==============================] - 7s 223ms/step - loss: 0.1532 - acc: 0.9375 - val_loss: 0.2146 - val_acc: 0.9130\n",
      "\n",
      "Epoch 00045: val_acc did not improve from 0.94783\n",
      "Epoch 46/50\n",
      "32/32 [==============================] - 7s 209ms/step - loss: 0.1466 - acc: 0.9336 - val_loss: 0.2113 - val_acc: 0.9062\n",
      "\n",
      "Epoch 00046: val_acc did not improve from 0.94783\n",
      "Epoch 47/50\n",
      "32/32 [==============================] - 8s 247ms/step - loss: 0.1718 - acc: 0.9285 - val_loss: 0.2123 - val_acc: 0.9130\n",
      "\n",
      "Epoch 00047: val_acc did not improve from 0.94783\n",
      "Epoch 48/50\n",
      "32/32 [==============================] - 7s 221ms/step - loss: 0.1777 - acc: 0.9383 - val_loss: 0.2294 - val_acc: 0.9043\n",
      "\n",
      "Epoch 00048: val_acc did not improve from 0.94783\n",
      "Epoch 49/50\n",
      "32/32 [==============================] - 7s 207ms/step - loss: 0.1427 - acc: 0.9453 - val_loss: 0.2124 - val_acc: 0.9043\n",
      "\n",
      "Epoch 00049: val_acc did not improve from 0.94783\n",
      "Epoch 50/50\n",
      "32/32 [==============================] - 7s 232ms/step - loss: 0.1622 - acc: 0.9336 - val_loss: 0.2230 - val_acc: 0.8870\n",
      "\n",
      "Epoch 00050: val_acc did not improve from 0.94783\n"
     ]
    }
   ],
   "source": [
    "model_history = fine_tune_model(train_df,test_df,50,16,'eyewear','resnet50',\n",
    "                                224,None,preprocess_input)"
   ]
  },
  {
   "cell_type": "code",
   "execution_count": 31,
   "metadata": {},
   "outputs": [
    {
     "name": "stdout",
     "output_type": "stream",
     "text": [
      "highest test accuracy: 0.9478260869565217\n",
      "------------------\n",
      "highest train accuracy: 0.950592885375494\n"
     ]
    }
   ],
   "source": [
    "highest_val_acc, highest_train_acc = max(model_history.history['val_acc']), max(model_history.history['acc'])\n",
    "print(f'highest test accuracy: {highest_val_acc}')\n",
    "print('------------------')\n",
    "print(f'highest train accuracy: {highest_train_acc}')"
   ]
  },
  {
   "cell_type": "code",
   "execution_count": 32,
   "metadata": {},
   "outputs": [
    {
     "name": "stdout",
     "output_type": "stream",
     "text": [
      "lowest test loss: 0.12429455649107694\n",
      "------------------\n",
      "lowest train loss: 0.142620039374932\n"
     ]
    }
   ],
   "source": [
    "lowest_val_loss, lowest_train_loss = min(model_history.history['val_loss']), min(model_history.history['loss'])\n",
    "print(f'lowest test loss: {lowest_val_loss}')\n",
    "print('------------------')\n",
    "print(f'lowest train loss: {lowest_train_loss}')"
   ]
  },
  {
   "cell_type": "code",
   "execution_count": 33,
   "metadata": {},
   "outputs": [
    {
     "data": {
      "image/png": "[encoded data removed]",
      "text/plain": [
       "<Figure size 432x288 with 1 Axes>"
      ]
     },
     "metadata": {
      "needs_background": "light"
     },
     "output_type": "display_data"
    }
   ],
   "source": [
    "plt.plot(model_history.history['val_acc'], color = 'red', label = 'test')\n",
    "plt.plot(model_history.history['acc'], color = 'blue', label = 'train')\n",
    "plt.title('accuracy')\n",
    "plt.ylabel('accuracy')\n",
    "plt.legend()\n",
    "plt.show()"
   ]
  },
  {
   "cell_type": "code",
   "execution_count": 34,
   "metadata": {
    "scrolled": true
   },
   "outputs": [
    {
     "data": {
      "image/png": "[encoded data removed]",
      "text/plain": [
       "<Figure size 432x288 with 1 Axes>"
      ]
     },
     "metadata": {
      "needs_background": "light"
     },
     "output_type": "display_data"
    }
   ],
   "source": [
    "plt.plot(model_history.history['val_loss'], color = 'red', label = 'test')\n",
    "plt.plot(model_history.history['loss'], color = 'blue', label = 'train')\n",
    "plt.title('loss')\n",
    "plt.ylabel('loss')\n",
    "plt.legend()\n",
    "plt.show()"
   ]
  },
  {
   "cell_type": "markdown",
   "metadata": {},
   "source": [
    "### Save model "
   ]
  },
  {
   "cell_type": "code",
   "execution_count": null,
   "metadata": {},
   "outputs": [],
   "source": [
    "# # save model artchitecture \n",
    "# resnet50_model_8_up = model_history.model\n",
    "# resnet50_model_8_up_json = resnet50_model_8_up.to_json()"
   ]
  },
  {
   "cell_type": "code",
   "execution_count": null,
   "metadata": {},
   "outputs": [],
   "source": [
    "# # serialize model to JSON\n",
    "# with open(\"../tuning_data/resnet_data/resnet50_model_8_up.json\", \"w\") as json_file:\n",
    "#     json_file.write(resnet50_model_8_up_json)"
   ]
  },
  {
   "cell_type": "markdown",
   "metadata": {},
   "source": [
    "### Testing model"
   ]
  },
  {
   "cell_type": "code",
   "execution_count": 22,
   "metadata": {},
   "outputs": [],
   "source": [
    "# load json and create model\n",
    "def model_testing(df, model_path, weight_path, label, shuffle = False,\n",
    "                 batch_size = 32, rescale=None,preprocess_func=preprocess_input,\n",
    "                 target_size = (224,224),class_mode ='binary', only_testing = True):\n",
    "    '''\n",
    "    df: the entire picture df \n",
    "    model_path: json model path\n",
    "    weight_path: path for weights \n",
    "    label: eyewear, hat, or beard\n",
    "    '''\n",
    "    # check the whole dataframe\n",
    "    sub_set = df[['pic_id',label]] \n",
    "    json_file = open(model_path, 'r')\n",
    "    loaded_model_json = json_file.read()\n",
    "    json_file.close()\n",
    "    loaded_model = model_from_json(loaded_model_json)\n",
    "    # load model weight yewear_decay_\n",
    "    loaded_model.load_weights(weight_path)\n",
    "    # test test data\n",
    "    data_generator= create_generator(None, df,label,shuffle,batch_size,\n",
    "                    rescale, preprocess_func, target_size,\n",
    "                    class_mode, only_testing = only_testing)\n",
    "    data_generator=data_generator[0]\n",
    "    labels = df[label].map({'1':1, '0':0})\n",
    "    \n",
    "    loaded_model.compile(loss='binary_crossentropy',\n",
    "             optimizer=optimizers.SGD(),\n",
    "             metrics=['accuracy']\n",
    "                        )\n",
    "    y_pred = np.around(loaded_model.predict_generator(data_generator, workers=8))\n",
    "    # y_pred = [1-x for x in y_pred] # for old model \n",
    "    fpr, tpr, thresholds = roc_curve(labels, y_pred)\n",
    "    area = roc_auc_score(labels, y_pred)\n",
    "    plt.title('Receiver Operating Characteristic')\n",
    "    plt.plot(fpr, tpr, 'b', label = 'AUC = %0.2f' % area)\n",
    "    plt.legend(loc = 'lower right')\n",
    "    plt.plot([0, 1], [0, 1],'r--')\n",
    "    plt.xlim([0, 1])\n",
    "    plt.ylim([0, 1])\n",
    "    plt.ylabel('True Positive Rate')\n",
    "    plt.xlabel('False Positive Rate')\n",
    "    plt.show()\n",
    "    print(confusion_matrix(labels, y_pred))\n",
    "    print(classification_report(labels, y_pred))    "
   ]
  },
  {
   "cell_type": "markdown",
   "metadata": {},
   "source": [
    "### Eyewear"
   ]
  },
  {
   "cell_type": "code",
   "execution_count": 23,
   "metadata": {
    "scrolled": true
   },
   "outputs": [
    {
     "name": "stdout",
     "output_type": "stream",
     "text": [
      "Found 653 validated image filenames belonging to 2 classes.\n"
     ]
    },
    {
     "data": {
      "image/png": "[encoded data removed]",
      "text/plain": [
       "<Figure size 432x288 with 1 Axes>"
      ]
     },
     "metadata": {
      "needs_background": "light"
     },
     "output_type": "display_data"
    },
    {
     "name": "stdout",
     "output_type": "stream",
     "text": [
      "[[293  23]\n",
      " [  4 333]]\n",
      "              precision    recall  f1-score   support\n",
      "\n",
      "           0       0.99      0.93      0.96       316\n",
      "           1       0.94      0.99      0.96       337\n",
      "\n",
      "    accuracy                           0.96       653\n",
      "   macro avg       0.96      0.96      0.96       653\n",
      "weighted avg       0.96      0.96      0.96       653\n",
      "\n"
     ]
    }
   ],
   "source": [
    "model_testing(df=df,model_path='../tuning_data/resnet_data/resnet50_model_5_up.json',\n",
    "             weight_path='../tuning_data/resnet_data/untracked_resnet50/best_resnet50_model_5_layer_eyewear_0.25dobeta_1.h5',\n",
    "              label='eyewear')\n",
    "# use best_resnet50_model_5_layer_eyewear_0.25dobeta_1.h5"
   ]
  },
  {
   "cell_type": "code",
   "execution_count": 35,
   "metadata": {},
   "outputs": [
    {
     "name": "stdout",
     "output_type": "stream",
     "text": [
      "Found 653 validated image filenames belonging to 2 classes.\n"
     ]
    },
    {
     "data": {
      "image/png": "[encoded data removed]",
      "text/plain": [
       "<Figure size 432x288 with 1 Axes>"
      ]
     },
     "metadata": {
      "needs_background": "light"
     },
     "output_type": "display_data"
    },
    {
     "name": "stdout",
     "output_type": "stream",
     "text": [
      "[[299  17]\n",
      " [  9 328]]\n",
      "              precision    recall  f1-score   support\n",
      "\n",
      "           0       0.97      0.95      0.96       316\n",
      "           1       0.95      0.97      0.96       337\n",
      "\n",
      "    accuracy                           0.96       653\n",
      "   macro avg       0.96      0.96      0.96       653\n",
      "weighted avg       0.96      0.96      0.96       653\n",
      "\n"
     ]
    }
   ],
   "source": [
    "model_testing(df=df,model_path='../tuning_data/resnet_data/resnet50_model_5_up.json',\n",
    "             weight_path='../tuning_data/resnet_data/untracked_resnet50/best_resnet50_model_5_layer_eyewear_0.25dobeta_2.h5',\n",
    "              label='eyewear')\n",
    "# best model "
   ]
  },
  {
   "cell_type": "code",
   "execution_count": null,
   "metadata": {
    "scrolled": true
   },
   "outputs": [],
   "source": [
    "model_testing(df,'../tuning_data/resnet_data/resnet50_model_5_up.json', \n",
    "              '../tuning_data/resnet_data/untracked_resnet50/best_resnet50_model_eyewear.h5',\n",
    "              'eyewear')"
   ]
  },
  {
   "cell_type": "markdown",
   "metadata": {},
   "source": [
    "### Testing hat "
   ]
  },
  {
   "cell_type": "code",
   "execution_count": null,
   "metadata": {},
   "outputs": [],
   "source": [
    "model_testing(df=df,model_path='../tuning_data/resnet_data/resnet50_model_5_up.json',\n",
    "             weight_path='../tuning_data/resnet_data/untracked_resnet50/best_resnet50_model_5_layer_hat_0.25dobeta_2.h5',\n",
    "              label='hat')"
   ]
  },
  {
   "cell_type": "code",
   "execution_count": null,
   "metadata": {
    "scrolled": true
   },
   "outputs": [],
   "source": [
    "model_testing(df,'../tuning_data/resnet_data/resnet50_model_5_up.json', \n",
    "              '../tuning_data/resnet_data/untracked_resnet50/best_resnet50_model_hat.h5',\n",
    "             'hat')\n",
    "\n",
    "# best resnet"
   ]
  },
  {
   "cell_type": "markdown",
   "metadata": {},
   "source": [
    "### Testing beard"
   ]
  },
  {
   "cell_type": "code",
   "execution_count": null,
   "metadata": {},
   "outputs": [],
   "source": [
    "model_testing(df=df,model_path='../tuning_data/resnet_data/resnet50_model_5_up.json',\n",
    "             weight_path='../tuning_data/resnet_data/untracked_resnet50/best_resnet50_model_5_layer_beard_0.25dobeta_2.h5',\n",
    "              label='beard')"
   ]
  },
  {
   "cell_type": "code",
   "execution_count": null,
   "metadata": {},
   "outputs": [],
   "source": [
    "model_testing(df,'../tuning_data/resnet_data/resnet50_model_5_up.json',\n",
    "              '../tuning_data/resnet_data/untracked_resnet50/best_resnet50_model_beard.h5','beard')"
   ]
  }
 ],
 "metadata": {
  "kernelspec": {
   "display_name": "Python 3",
   "language": "python",
   "name": "python3"
  },
  "language_info": {
   "codemirror_mode": {
    "name": "ipython",
    "version": 3
   },
   "file_extension": ".py",
   "mimetype": "text/x-python",
   "name": "python",
   "nbconvert_exporter": "python",
   "pygments_lexer": "ipython3",
   "version": "3.7.3"
  }
 },
 "nbformat": 4,
 "nbformat_minor": 2
}
