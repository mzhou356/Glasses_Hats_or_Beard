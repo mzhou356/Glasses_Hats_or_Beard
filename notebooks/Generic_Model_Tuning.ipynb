{
 "cells": [
  {
   "cell_type": "markdown",
   "metadata": {},
   "source": [
    "## Transfer Learning Tuning:\n",
    "  * Use Resnet50 to reduce model size and improve accuracy \n",
    "      * see [base model info comparison](https://medium.com/@sidereal/cnns-architectures-lenet-alexnet-vgg-googlenet-resnet-and-more-666091488df5)\n",
    "      * [resnet50 blog](https://towardsdatascience.com/understanding-and-coding-a-resnet-in-keras-446d7ff84d33)\n",
    "     \n",
    "  * base_model: use RESNET50 and freeze at bottleneck layer (stop right before 2D AVERAGE POOL) \n",
    "  * top_model: tune dense layers (parameters are inspired by a few sources)\n",
    "     * [source1](https://www.kaggle.com/suniliitb96/tutorial-keras-transfer-learning-with-resnet50)\n",
    "     * [source2](https://www.kaggle.com/pmigdal/transfer-learning-with-resnet-50-in-keras)\n",
    "     * [source3](https://towardsdatascience.com/transfer-learning-for-image-classification-using-keras-c47ccf09c8c8)\n",
    "\n",
    "\n",
    "\n",
    "  \n",
    "---\n",
    "#### This cell is required in order to use GPU for running the model "
   ]
  },
  {
   "cell_type": "code",
   "execution_count": 1,
   "metadata": {},
   "outputs": [
    {
     "name": "stderr",
     "output_type": "stream",
     "text": [
      "Using TensorFlow backend.\n",
      "WARNING: Logging before flag parsing goes to stderr.\n",
      "W0905 15:23:55.526815 140313200772928 deprecation_wrapper.py:119] From /home/mindy/anaconda3/lib/python3.7/site-packages/keras/backend/tensorflow_backend.py:190: The name tf.get_default_session is deprecated. Please use tf.compat.v1.get_default_session instead.\n",
      "\n",
      "W0905 15:23:55.527781 140313200772928 deprecation_wrapper.py:119] From /home/mindy/anaconda3/lib/python3.7/site-packages/keras/backend/tensorflow_backend.py:207: The name tf.global_variables is deprecated. Please use tf.compat.v1.global_variables instead.\n",
      "\n"
     ]
    }
   ],
   "source": [
    "import warnings\n",
    "warnings.filterwarnings('ignore')\n",
    "import tensorflow as tf\n",
    "import keras\n",
    "from keras.backend.tensorflow_backend import set_session\n",
    "config = tf.ConfigProto()\n",
    "config.gpu_options.allow_growth = True  # dynamically grow the memory used on the GPU\n",
    "config.log_device_placement = True  # to log device placement (on which device the operation ran)\n",
    "                                    # (nothing gets printed in Jupyter, only if you run it standalone)\n",
    "sess = tf.Session(config=config)\n",
    "set_session(sess)  # set this TensorFlow session as the default session for Keras\n",
    "keras.backend.get_session().run(tf.global_variables_initializer())  "
   ]
  },
  {
   "cell_type": "markdown",
   "metadata": {},
   "source": [
    "---\n",
    "#### Import necessary libraries"
   ]
  },
  {
   "cell_type": "code",
   "execution_count": 2,
   "metadata": {},
   "outputs": [],
   "source": [
    "from sklearn.metrics import confusion_matrix, classification_report, roc_curve, roc_auc_score\n",
    "from sklearn.model_selection import train_test_split\n",
    "from sklearn.utils import class_weight\n",
    "from keras.callbacks import ModelCheckpoint\n",
    "from keras import optimizers\n",
    "from keras.applications.resnet50 import ResNet50, preprocess_input\n",
    "from keras.applications.vgg16 import VGG16\n",
    "from keras.layers import Dropout, Flatten, Dense, GlobalAveragePooling2D\n",
    "from keras.models import Sequential, Model, model_from_json\n",
    "from keras_preprocessing.image import ImageDataGenerator\n",
    "import sys\n",
    "import pandas as pd\n",
    "import numpy as np\n",
    "import matplotlib.pyplot as plt\n",
    "%matplotlib inline"
   ]
  },
  {
   "cell_type": "markdown",
   "metadata": {},
   "source": [
    "## load in custom preprocess function"
   ]
  },
  {
   "cell_type": "code",
   "execution_count": 3,
   "metadata": {},
   "outputs": [],
   "source": [
    "%load_ext autoreload\n",
    "%autoreload 1\n",
    "\n",
    "sys.path.append(\"../python_files/\")\n",
    "\n",
    "import vgg16_preprocess\n",
    "\n",
    "\n",
    "%aimport vgg16_preprocess\n"
   ]
  },
  {
   "cell_type": "code",
   "execution_count": 4,
   "metadata": {},
   "outputs": [],
   "source": [
    "#  import total dataframe\n",
    "\n",
    "df = pd.read_pickle('../pickle_files/pic_df.pkl')"
   ]
  },
  {
   "cell_type": "code",
   "execution_count": 5,
   "metadata": {},
   "outputs": [],
   "source": [
    "# subset a dataframe \n",
    "def create_test_train(df,label):\n",
    "    '''\n",
    "    df: dateframe of pic_ids \n",
    "    label: eyewear,hat, or beard, a string\n",
    "    return: test and train df\n",
    "    '''\n",
    "    sub_set = df[['pic_id',label]]  # subset the label dataframe \n",
    "    X_train, X_test, y_train, y_test = train_test_split(sub_set['pic_id'], sub_set[label],\n",
    "                                                        stratify = sub_set[label],\n",
    "                                                        test_size = 0.2)\n",
    "    df_train = pd.concat([X_train,y_train], axis=1)\n",
    "    df_test = pd.concat([X_test,y_test], axis=1)\n",
    "    return df_train, df_test\n",
    "    "
   ]
  },
  {
   "cell_type": "code",
   "execution_count": 6,
   "metadata": {},
   "outputs": [],
   "source": [
    "def create_generator(train_df, test_df,label,shuffle,batch_size,\n",
    "                    rescale, preprocess_func, target_size,\n",
    "                    class_mode, only_testing = False):\n",
    "    '''\n",
    "    train_df, test_df: dataframe for train and test \n",
    "    label: eyewear,hat, or beard, a string\n",
    "    shuffle: weather to shuffle or not based upon feature extractor or not \n",
    "    batch_size: how many pictures per batch\n",
    "    preprocess_func: vgg16 preprocess or ResNet50\n",
    "    rescale: 1./255 or None\n",
    "    target_size: (224,224) or (150,150)\n",
    "    class_mode: none or binary \n",
    "    return:\n",
    "    train generator and test generator \n",
    "    '''\n",
    "    generators =[]\n",
    "    if not only_testing:\n",
    "        traingen = ImageDataGenerator(\n",
    "            rescale = rescale,\n",
    "            zoom_range= [0.8,1.7],\n",
    "            shear_range=0.2,\n",
    "            brightness_range=[0.5,1.5],\n",
    "            rotation_range = 40,\n",
    "            width_shift_range=0.2,\n",
    "            height_shift_range=0.2,\n",
    "            horizontal_flip=True,\n",
    "            preprocessing_function=preprocess_func)\n",
    "        \n",
    "        train_generator = traingen.flow_from_dataframe(\n",
    "            dataframe=train_df,\n",
    "            directory='../data/pics',\n",
    "            x_col='pic_id',\n",
    "            y_col=label,\n",
    "            batch_size=batch_size,\n",
    "            shuffle = shuffle,\n",
    "            target_size=target_size,\n",
    "            class_mode = class_mode)\n",
    "        generators.append(train_generator)\n",
    "        if class_mode:\n",
    "        # create classweights for train \n",
    "            classweights = class_weight.compute_class_weight(\n",
    "                'balanced',np.unique(train_generator.classes),train_generator.classes)\n",
    "            generators.append(classweights)\n",
    "    \n",
    "    testgen = ImageDataGenerator(\n",
    "        rescale = rescale,\n",
    "        preprocessing_function=preprocess_func)\n",
    "    \n",
    "    test_generator = testgen.flow_from_dataframe(\n",
    "        dataframe=test_df,\n",
    "        directory='../data/pics',\n",
    "        x_col='pic_id',\n",
    "        y_col=label,\n",
    "        batch_size=batch_size,\n",
    "        shuffle=shuffle,\n",
    "        target_size=target_size,\n",
    "        class_mode=class_mode)\n",
    "    generators.append(test_generator)\n",
    "    \n",
    "    return generators"
   ]
  },
  {
   "cell_type": "code",
   "execution_count": 53,
   "metadata": {},
   "outputs": [],
   "source": [
    "train_df, test_df = create_test_train(df,'hat')"
   ]
  },
  {
   "cell_type": "markdown",
   "metadata": {},
   "source": [
    "#### Get bottleneck features to tune top models"
   ]
  },
  {
   "cell_type": "code",
   "execution_count": 8,
   "metadata": {},
   "outputs": [],
   "source": [
    "def save_bottleneck_features(df, label, batch_size, model_type, preprocess_func, rescale,\n",
    "                            shuffle,target_size,class_mode):\n",
    "    '''\n",
    "    inputs:\n",
    "    df: dataframe for all eyewear, hat, and beard \n",
    "    label: a string, eyewear, hat, or beard\n",
    "    batch_size: process images in batches\n",
    "    model_type: ResNet50 or VGG16\n",
    "    shuffle: weather to shuffle or not based upon feature extractor or not \n",
    "    preprocess_func: vgg16 preprocess or ResNet50\n",
    "    rescale: 1./255 or None\n",
    "    target_size: (224,224) or (150,150)\n",
    "    class_mode: none or binary \n",
    "    outputs:\n",
    "    saves bottleneck features inside folder tuning_data as npy file\n",
    "    '''\n",
    "    # intialize the model, vgg16 or ResNet50 \n",
    "    # make sure not to train the top layers \n",
    "    base_model = model_type(weights = 'imagenet',include_top = False)\n",
    "    # generate test_train df\n",
    "    train_df, test_df = create_test_train(df,label)\n",
    "    # create train_generator and test_generator to get bottleneck inputs for train and test df \n",
    "    # make sure shuffle is False so we know the label follows the sequence of the dataframe \n",
    "    # so we can tune top_model \n",
    "    generators = create_generator(train_df=train_df,\n",
    "                                                   test_df=test_df,\n",
    "                                                   label=label,\n",
    "                                                   shuffle=shuffle,\n",
    "                                                   rescale=rescale,\n",
    "                                                   preprocess_func=preprocess_input,\n",
    "                                                   batch_size=16,\n",
    "                                                   target_size=target_size,\n",
    "                                                   class_mode=class_mode)  \n",
    "    train_generator, test_generator = generators[0],generators[1]\n",
    "    \n",
    "    # get features saved as .npy in tunign_data folder \n",
    "    bottleneck_features_train = base_model.predict_generator(\n",
    "        train_generator, train_df.shape[0]//batch_size)\n",
    "    np.save(open(f'../tuning_data/VGG_16_tuning/bottleneck_features_train_{label}_vgg16_beta.npy','wb'),\n",
    "           bottleneck_features_train)\n",
    "    \n",
    "    bottleneck_features_test = base_model.predict_generator(\n",
    "        test_generator, test_df.shape[0]//batch_size)\n",
    "    np.save(open(f'../tuning_data/VGG_16_tuning/bottleneck_features_test_{label}_vgg16_beta.npy','wb'),\n",
    "           bottleneck_features_test)\n",
    "    return train_df, test_df"
   ]
  },
  {
   "cell_type": "markdown",
   "metadata": {},
   "source": [
    "#### Save bottleneck_features"
   ]
  },
  {
   "cell_type": "code",
   "execution_count": 54,
   "metadata": {
    "scrolled": false
   },
   "outputs": [
    {
     "name": "stdout",
     "output_type": "stream",
     "text": [
      "Found 522 validated image filenames.\n",
      "Found 131 validated image filenames.\n"
     ]
    }
   ],
   "source": [
    "train_df, test_df = save_bottleneck_features(df,'hat',16,VGG16,vgg16_preprocess.preprocess_input,\n",
    "                         1./255,False,(150,150),None)"
   ]
  },
  {
   "cell_type": "code",
   "execution_count": null,
   "metadata": {},
   "outputs": [],
   "source": [
    "def resnet50_model(input_shape, dropout):\n",
    "    '''\n",
    "    input_shape: input_shape for pooling layer \n",
    "    dropout:percentage for Dropout layer \n",
    "    optimizer: optimizer for model compiles \n",
    "    returns resnet50 model\n",
    "    '''\n",
    "    model = Sequential()\n",
    "    model.add(GlobalAveragePooling2D(input_shape=input_shape))\n",
    "    model.add(Dense(512,activation='relu'))\n",
    "    model.add(Dropout(dropout))\n",
    "    model.add(Dense(1,activation='sigmoid'))\n",
    "    return model"
   ]
  },
  {
   "cell_type": "code",
   "execution_count": 10,
   "metadata": {},
   "outputs": [],
   "source": [
    "def vgg16_model(input_shape,dropout):\n",
    "    '''\n",
    "    input_shape: input_shape for pooling layer \n",
    "    dropout:percentage for Dropout layer \n",
    "    optimizer: optimizer for model compiles \n",
    "    returns vgg16 model\n",
    "    '''\n",
    "     # build top model\n",
    "    model = Sequential()\n",
    "    model.add(Flatten(input_shape=input_shape))\n",
    "    model.add(Dense(256, activation='relu'))\n",
    "    model.add(Dropout(dropout))\n",
    "    model.add(Dense(1, activation='sigmoid'))\n",
    "\n",
    "    return model    "
   ]
  },
  {
   "cell_type": "markdown",
   "metadata": {},
   "source": [
    "### Quick tuning of top models "
   ]
  },
  {
   "cell_type": "code",
   "execution_count": 25,
   "metadata": {},
   "outputs": [],
   "source": [
    "def train_top_model(train_df, test_df, epoch, batch_size, label, model_type,rescale,preprocess_func,\n",
    "                   target_size):\n",
    "    '''\n",
    "    inputs:\n",
    "    train_df, test_df: dataframes returned from save_bottleneck_features functions \n",
    "    epoch: num of epochs in fit \n",
    "    batch_size: same as image generator batch size \n",
    "    label: a string, eyewear, hat, or beard\n",
    "    model_type: resnet50 or vgg16\n",
    "    output:\n",
    "    saves model weights in a folder \n",
    "    '''\n",
    "    train_data = np.load(open(f'../tuning_data/VGG_16_tuning/bottleneck_features_train_{label}_vgg16_beta.npy','rb'))\n",
    "    # make sure train_data and train_label have same num of samples\n",
    "    train_label = np.array(train_df[label].map({'0':0, '1':1}))[:-(train_df.shape[0]%batch_size)]\n",
    "    \n",
    "    test_data = np.load(open(f'../tuning_data/VGG_16_tuning/bottleneck_features_test_{label}_vgg16_beta.npy','rb'))\n",
    "    test_label = np.array(test_df[label].map({'0':0, '1':1}))[:-(test_df.shape[0]%batch_size)]\n",
    "    \n",
    "    # build top model\n",
    "    if model_type == 'resnet50':\n",
    "        model = resnet50_model(train_data.shape[1:],0.25)\n",
    "    if model_type == 'vgg16':\n",
    "        model = vgg16_model(train_data.shape[1:],0.5)\n",
    "        \n",
    "    model.compile(optimizer=optimizers.Adam(),\n",
    "                 loss='binary_crossentropy',\n",
    "                 metrics=['accuracy'])\n",
    "\n",
    "    # checkpoint for best weights \n",
    "    filepath=f\"../tuning_data/VGG_16_tuning/best_bottleneck_vgg16_model_{label}_beta.h5\"\n",
    "    checkpoint = ModelCheckpoint(filepath, monitor='val_acc', verbose=1, save_best_only=True, mode='max')\n",
    "    callbacks_list = [checkpoint]\n",
    "    \n",
    "    classweight = create_generator(train_df, test_df,label,False,batch_size,\n",
    "                    rescale, preprocess_func, target_size,\n",
    "                    'binary', only_testing = False)[1]\n",
    "    \n",
    "    model.fit(train_data, train_label,\n",
    "             epochs=epoch,\n",
    "             batch_size=batch_size,\n",
    "             validation_data=(test_data,test_label),\n",
    "             callbacks=callbacks_list,\n",
    "             class_weight = classweight)\n",
    "    del model\n",
    "    keras.backend.clear_session()"
   ]
  },
  {
   "cell_type": "markdown",
   "metadata": {},
   "source": [
    "#### run train_top_model and save results in tuning_data"
   ]
  },
  {
   "cell_type": "code",
   "execution_count": 55,
   "metadata": {
    "scrolled": false
   },
   "outputs": [
    {
     "name": "stdout",
     "output_type": "stream",
     "text": [
      "Found 522 validated image filenames belonging to 2 classes.\n",
      "Found 131 validated image filenames belonging to 2 classes.\n",
      "Train on 512 samples, validate on 128 samples\n",
      "Epoch 1/50\n",
      "512/512 [==============================] - 0s 643us/step - loss: 0.7557 - acc: 0.7051 - val_loss: 0.2645 - val_acc: 0.8828\n",
      "\n",
      "Epoch 00001: val_acc improved from -inf to 0.88281, saving model to ../tuning_data/VGG_16_tuning/best_bottleneck_vgg16_model_hat_beta.h5\n",
      "Epoch 2/50\n",
      "512/512 [==============================] - 0s 215us/step - loss: 0.3650 - acc: 0.8457 - val_loss: 0.2044 - val_acc: 0.9219\n",
      "\n",
      "Epoch 00002: val_acc improved from 0.88281 to 0.92188, saving model to ../tuning_data/VGG_16_tuning/best_bottleneck_vgg16_model_hat_beta.h5\n",
      "Epoch 3/50\n",
      "512/512 [==============================] - 0s 211us/step - loss: 0.2948 - acc: 0.8750 - val_loss: 0.2935 - val_acc: 0.8984\n",
      "\n",
      "Epoch 00003: val_acc did not improve from 0.92188\n",
      "Epoch 4/50\n",
      "512/512 [==============================] - 0s 210us/step - loss: 0.1793 - acc: 0.9316 - val_loss: 0.2112 - val_acc: 0.8984\n",
      "\n",
      "Epoch 00004: val_acc did not improve from 0.92188\n",
      "Epoch 5/50\n",
      "512/512 [==============================] - 0s 213us/step - loss: 0.1441 - acc: 0.9336 - val_loss: 0.2404 - val_acc: 0.8828\n",
      "\n",
      "Epoch 00005: val_acc did not improve from 0.92188\n",
      "Epoch 6/50\n",
      "512/512 [==============================] - 0s 206us/step - loss: 0.0920 - acc: 0.9668 - val_loss: 0.2058 - val_acc: 0.9141\n",
      "\n",
      "Epoch 00006: val_acc did not improve from 0.92188\n",
      "Epoch 7/50\n",
      "512/512 [==============================] - 0s 212us/step - loss: 0.0754 - acc: 0.9805 - val_loss: 0.3013 - val_acc: 0.9062\n",
      "\n",
      "Epoch 00007: val_acc did not improve from 0.92188\n",
      "Epoch 8/50\n",
      "512/512 [==============================] - 0s 210us/step - loss: 0.0553 - acc: 0.9844 - val_loss: 0.2083 - val_acc: 0.8984\n",
      "\n",
      "Epoch 00008: val_acc did not improve from 0.92188\n",
      "Epoch 9/50\n",
      "512/512 [==============================] - 0s 219us/step - loss: 0.0409 - acc: 0.9902 - val_loss: 0.2752 - val_acc: 0.8984\n",
      "\n",
      "Epoch 00009: val_acc did not improve from 0.92188\n",
      "Epoch 10/50\n",
      "512/512 [==============================] - 0s 225us/step - loss: 0.0441 - acc: 0.9883 - val_loss: 0.2762 - val_acc: 0.8906\n",
      "\n",
      "Epoch 00010: val_acc did not improve from 0.92188\n",
      "Epoch 11/50\n",
      "512/512 [==============================] - 0s 225us/step - loss: 0.0387 - acc: 0.9922 - val_loss: 0.2356 - val_acc: 0.9062\n",
      "\n",
      "Epoch 00011: val_acc did not improve from 0.92188\n",
      "Epoch 12/50\n",
      "512/512 [==============================] - 0s 211us/step - loss: 0.0260 - acc: 0.9980 - val_loss: 0.2732 - val_acc: 0.8984\n",
      "\n",
      "Epoch 00012: val_acc did not improve from 0.92188\n",
      "Epoch 13/50\n",
      "512/512 [==============================] - 0s 213us/step - loss: 0.0162 - acc: 0.9961 - val_loss: 0.2364 - val_acc: 0.9062\n",
      "\n",
      "Epoch 00013: val_acc did not improve from 0.92188\n",
      "Epoch 14/50\n",
      "512/512 [==============================] - 0s 209us/step - loss: 0.0112 - acc: 0.9980 - val_loss: 0.2778 - val_acc: 0.8984\n",
      "\n",
      "Epoch 00014: val_acc did not improve from 0.92188\n",
      "Epoch 15/50\n",
      "512/512 [==============================] - 0s 206us/step - loss: 0.0089 - acc: 1.0000 - val_loss: 0.2552 - val_acc: 0.8906\n",
      "\n",
      "Epoch 00015: val_acc did not improve from 0.92188\n",
      "Epoch 16/50\n",
      "512/512 [==============================] - 0s 202us/step - loss: 0.0078 - acc: 1.0000 - val_loss: 0.3043 - val_acc: 0.8984\n",
      "\n",
      "Epoch 00016: val_acc did not improve from 0.92188\n",
      "Epoch 17/50\n",
      "512/512 [==============================] - 0s 212us/step - loss: 0.0180 - acc: 0.9922 - val_loss: 0.4603 - val_acc: 0.8906\n",
      "\n",
      "Epoch 00017: val_acc did not improve from 0.92188\n",
      "Epoch 18/50\n",
      "512/512 [==============================] - 0s 210us/step - loss: 0.0305 - acc: 0.9922 - val_loss: 0.3689 - val_acc: 0.9062\n",
      "\n",
      "Epoch 00018: val_acc did not improve from 0.92188\n",
      "Epoch 19/50\n",
      "512/512 [==============================] - 0s 214us/step - loss: 0.0200 - acc: 0.9961 - val_loss: 0.3208 - val_acc: 0.8906\n",
      "\n",
      "Epoch 00019: val_acc did not improve from 0.92188\n",
      "Epoch 20/50\n",
      "512/512 [==============================] - 0s 209us/step - loss: 0.0126 - acc: 1.0000 - val_loss: 0.2435 - val_acc: 0.9062\n",
      "\n",
      "Epoch 00020: val_acc did not improve from 0.92188\n",
      "Epoch 21/50\n",
      "512/512 [==============================] - 0s 212us/step - loss: 0.0135 - acc: 0.9980 - val_loss: 0.3400 - val_acc: 0.8906\n",
      "\n",
      "Epoch 00021: val_acc did not improve from 0.92188\n",
      "Epoch 22/50\n",
      "512/512 [==============================] - 0s 210us/step - loss: 0.0047 - acc: 1.0000 - val_loss: 0.3291 - val_acc: 0.8984\n",
      "\n",
      "Epoch 00022: val_acc did not improve from 0.92188\n",
      "Epoch 23/50\n",
      "512/512 [==============================] - 0s 214us/step - loss: 0.0040 - acc: 1.0000 - val_loss: 0.3331 - val_acc: 0.8906\n",
      "\n",
      "Epoch 00023: val_acc did not improve from 0.92188\n",
      "Epoch 24/50\n",
      "512/512 [==============================] - 0s 208us/step - loss: 0.0038 - acc: 1.0000 - val_loss: 0.3095 - val_acc: 0.8906\n",
      "\n",
      "Epoch 00024: val_acc did not improve from 0.92188\n",
      "Epoch 25/50\n",
      "512/512 [==============================] - 0s 213us/step - loss: 0.0035 - acc: 1.0000 - val_loss: 0.2999 - val_acc: 0.8906\n",
      "\n",
      "Epoch 00025: val_acc did not improve from 0.92188\n",
      "Epoch 26/50\n",
      "512/512 [==============================] - 0s 213us/step - loss: 0.0019 - acc: 1.0000 - val_loss: 0.3566 - val_acc: 0.8984\n",
      "\n",
      "Epoch 00026: val_acc did not improve from 0.92188\n",
      "Epoch 27/50\n",
      "512/512 [==============================] - 0s 219us/step - loss: 0.0022 - acc: 1.0000 - val_loss: 0.3153 - val_acc: 0.8906\n",
      "\n",
      "Epoch 00027: val_acc did not improve from 0.92188\n",
      "Epoch 28/50\n",
      "512/512 [==============================] - 0s 223us/step - loss: 0.0017 - acc: 1.0000 - val_loss: 0.3420 - val_acc: 0.9062\n",
      "\n",
      "Epoch 00028: val_acc did not improve from 0.92188\n",
      "Epoch 29/50\n",
      "512/512 [==============================] - 0s 221us/step - loss: 0.0015 - acc: 1.0000 - val_loss: 0.3523 - val_acc: 0.9062\n",
      "\n",
      "Epoch 00029: val_acc did not improve from 0.92188\n",
      "Epoch 30/50\n",
      "512/512 [==============================] - 0s 220us/step - loss: 0.0025 - acc: 1.0000 - val_loss: 0.3687 - val_acc: 0.8984\n",
      "\n",
      "Epoch 00030: val_acc did not improve from 0.92188\n",
      "Epoch 31/50\n",
      "512/512 [==============================] - 0s 214us/step - loss: 0.0018 - acc: 1.0000 - val_loss: 0.3773 - val_acc: 0.8984\n",
      "\n",
      "Epoch 00031: val_acc did not improve from 0.92188\n",
      "Epoch 32/50\n",
      "512/512 [==============================] - 0s 212us/step - loss: 0.0014 - acc: 1.0000 - val_loss: 0.3226 - val_acc: 0.8984\n",
      "\n",
      "Epoch 00032: val_acc did not improve from 0.92188\n",
      "Epoch 33/50\n",
      "512/512 [==============================] - 0s 214us/step - loss: 0.0023 - acc: 1.0000 - val_loss: 0.3696 - val_acc: 0.8984\n",
      "\n",
      "Epoch 00033: val_acc did not improve from 0.92188\n",
      "Epoch 34/50\n",
      "512/512 [==============================] - 0s 207us/step - loss: 0.0023 - acc: 1.0000 - val_loss: 0.2790 - val_acc: 0.8984\n",
      "\n",
      "Epoch 00034: val_acc did not improve from 0.92188\n",
      "Epoch 35/50\n",
      "512/512 [==============================] - 0s 211us/step - loss: 0.0021 - acc: 1.0000 - val_loss: 0.3590 - val_acc: 0.8984\n",
      "\n",
      "Epoch 00035: val_acc did not improve from 0.92188\n",
      "Epoch 36/50\n",
      "512/512 [==============================] - 0s 224us/step - loss: 0.0014 - acc: 1.0000 - val_loss: 0.3369 - val_acc: 0.9062\n",
      "\n",
      "Epoch 00036: val_acc did not improve from 0.92188\n",
      "Epoch 37/50\n",
      "512/512 [==============================] - 0s 228us/step - loss: 8.4549e-04 - acc: 1.0000 - val_loss: 0.3400 - val_acc: 0.9062\n",
      "\n",
      "Epoch 00037: val_acc did not improve from 0.92188\n",
      "Epoch 38/50\n",
      "512/512 [==============================] - 0s 220us/step - loss: 9.8905e-04 - acc: 1.0000 - val_loss: 0.3684 - val_acc: 0.9062\n",
      "\n",
      "Epoch 00038: val_acc did not improve from 0.92188\n",
      "Epoch 39/50\n",
      "512/512 [==============================] - 0s 211us/step - loss: 8.6365e-04 - acc: 1.0000 - val_loss: 0.3402 - val_acc: 0.9062\n",
      "\n",
      "Epoch 00039: val_acc did not improve from 0.92188\n",
      "Epoch 40/50\n",
      "512/512 [==============================] - 0s 219us/step - loss: 8.8307e-04 - acc: 1.0000 - val_loss: 0.3852 - val_acc: 0.8984\n",
      "\n",
      "Epoch 00040: val_acc did not improve from 0.92188\n",
      "Epoch 41/50\n",
      "512/512 [==============================] - 0s 219us/step - loss: 0.0012 - acc: 1.0000 - val_loss: 0.3876 - val_acc: 0.8984\n",
      "\n",
      "Epoch 00041: val_acc did not improve from 0.92188\n",
      "Epoch 42/50\n",
      "512/512 [==============================] - 0s 216us/step - loss: 0.0015 - acc: 1.0000 - val_loss: 0.3221 - val_acc: 0.8828\n",
      "\n",
      "Epoch 00042: val_acc did not improve from 0.92188\n",
      "Epoch 43/50\n"
     ]
    },
    {
     "name": "stdout",
     "output_type": "stream",
     "text": [
      "512/512 [==============================] - 0s 222us/step - loss: 0.0024 - acc: 1.0000 - val_loss: 0.3305 - val_acc: 0.8984\n",
      "\n",
      "Epoch 00043: val_acc did not improve from 0.92188\n",
      "Epoch 44/50\n",
      "512/512 [==============================] - 0s 220us/step - loss: 0.0016 - acc: 1.0000 - val_loss: 0.3376 - val_acc: 0.9062\n",
      "\n",
      "Epoch 00044: val_acc did not improve from 0.92188\n",
      "Epoch 45/50\n",
      "512/512 [==============================] - 0s 219us/step - loss: 9.4110e-04 - acc: 1.0000 - val_loss: 0.3265 - val_acc: 0.8984\n",
      "\n",
      "Epoch 00045: val_acc did not improve from 0.92188\n",
      "Epoch 46/50\n",
      "512/512 [==============================] - 0s 238us/step - loss: 9.4430e-04 - acc: 1.0000 - val_loss: 0.4434 - val_acc: 0.8984\n",
      "\n",
      "Epoch 00046: val_acc did not improve from 0.92188\n",
      "Epoch 47/50\n",
      "512/512 [==============================] - 0s 223us/step - loss: 0.0011 - acc: 1.0000 - val_loss: 0.3490 - val_acc: 0.8906\n",
      "\n",
      "Epoch 00047: val_acc did not improve from 0.92188\n",
      "Epoch 48/50\n",
      "512/512 [==============================] - 0s 210us/step - loss: 5.1993e-04 - acc: 1.0000 - val_loss: 0.3526 - val_acc: 0.8906\n",
      "\n",
      "Epoch 00048: val_acc did not improve from 0.92188\n",
      "Epoch 49/50\n",
      "512/512 [==============================] - 0s 206us/step - loss: 5.9752e-04 - acc: 1.0000 - val_loss: 0.3886 - val_acc: 0.8984\n",
      "\n",
      "Epoch 00049: val_acc did not improve from 0.92188\n",
      "Epoch 50/50\n",
      "512/512 [==============================] - 0s 208us/step - loss: 4.0740e-04 - acc: 1.0000 - val_loss: 0.3857 - val_acc: 0.8984\n",
      "\n",
      "Epoch 00050: val_acc did not improve from 0.92188\n"
     ]
    }
   ],
   "source": [
    "train_top_model(train_df, test_df, 50, 16, 'hat','vgg16',1./255,vgg16_preprocess.preprocess_input,target_size=(150,150))"
   ]
  },
  {
   "cell_type": "markdown",
   "metadata": {},
   "source": [
    "### Fine Tune Top Model to improve accuracy"
   ]
  },
  {
   "cell_type": "code",
   "execution_count": 13,
   "metadata": {},
   "outputs": [],
   "source": [
    "def fine_tune_model(train_df, test_df,epoch, batch_size,label, \n",
    "                    model_type,dim, rescale, preprocess_func,print_model = False):\n",
    "    '''\n",
    "    inputs:\n",
    "    train_df, test_df: dataframes returned from save_bottleneck_features functions \n",
    "    epoch: num of epochs in fit \n",
    "    batch_size: same as image generator batch size \n",
    "    label: a string, eyewear, hat, or beard\n",
    "    model_type: resnet50 or vgg16\n",
    "    dim: 224 or 150 \n",
    "    rescale: None resnet50, 1./255 for vgg16\n",
    "    preprocess_func: depends on resnet or vgg16\n",
    "    return model \n",
    "    '''\n",
    "    # build model and freeze top layers\n",
    "    # input_shape: width, height, RGB (from image generator)\n",
    "    if model_type == 'resnet50':\n",
    "        base_model = ResNet50(weights='imagenet',include_top=False, input_shape=(dim,dim,3))\n",
    "        # build top model\n",
    "        top_model = resnet50_model(base_model.output_shape[1:],0.25)\n",
    "    if model_type == 'vgg16':\n",
    "        base_model = VGG16(weights='imagenet',include_top=False, input_shape=(dim,dim,3))\n",
    "        top_model = vgg16_model(base_model.output_shape[1:],0.5)\n",
    "    # load saved weights to fine tune parameters \n",
    "    top_model.load_weights(f'../tuning_data/VGG_16_tuning/best_bottleneck_vgg16_model_{label}_beta.h5')\n",
    "    # add top model to model\n",
    "    model = Model(inputs=base_model.input, outputs=top_model(base_model.output))\n",
    "    # we will tune last 8 layers of the model: activation49 and fully connected layer \n",
    "    for layer in model.layers[:-5]:\n",
    "        layer.trainable = False\n",
    "    # we can tune the parameters for lr and momentum later to get better results\n",
    "    model.compile(loss='binary_crossentropy',\n",
    "             optimizer=optimizers.SGD(lr=5e-5, momentum = 0.9),\n",
    "             metrics=['accuracy'])\n",
    "    # prepare train generator using data augmentation to battle small sample size \n",
    "    generators = create_generator(train_df,test_df, label,True,16,rescale,\n",
    "                                                    preprocess_func,(dim,dim),\n",
    "                                                    'binary')\n",
    "    train_generator, classweight, test_generator = generators[0], generators[1], generators[2]\n",
    "    \n",
    "    # checkpoint for best weights \n",
    "    filepath=f\"../tuning_data/VGG_16_tuning/best_vgg16_model_5_layer_{label}_beta.h5\"\n",
    "    checkpoint = ModelCheckpoint(filepath, monitor='val_acc', verbose=1, save_best_only=True, mode='max')\n",
    "    callbacks_list = [checkpoint]\n",
    "    \n",
    "    # run and fit model \n",
    "    result = model.fit_generator(\n",
    "    train_generator,\n",
    "    steps_per_epoch=train_df.shape[0]//batch_size,\n",
    "    epochs=epoch,\n",
    "    validation_data=test_generator,\n",
    "    validation_steps=test_df.shape[0]//batch_size,\n",
    "    verbose=1,class_weight=list(classweight),\n",
    "    callbacks=callbacks_list\n",
    "    )\n",
    "    \n",
    "    if print_model:\n",
    "        model.summary()\n",
    "    \n",
    "    del model\n",
    "    keras.backend.clear_session()\n",
    "    return result                "
   ]
  },
  {
   "cell_type": "markdown",
   "metadata": {},
   "source": [
    "### save model history "
   ]
  },
  {
   "cell_type": "code",
   "execution_count": 56,
   "metadata": {},
   "outputs": [
    {
     "name": "stdout",
     "output_type": "stream",
     "text": [
      "Found 522 validated image filenames belonging to 2 classes.\n",
      "Found 131 validated image filenames belonging to 2 classes.\n",
      "Epoch 1/50\n",
      "32/32 [==============================] - 5s 154ms/step - loss: 0.3954 - acc: 0.8501 - val_loss: 0.3525 - val_acc: 0.8672\n",
      "\n",
      "Epoch 00001: val_acc improved from -inf to 0.86719, saving model to ../tuning_data/VGG_16_tuning/best_vgg16_model_5_layer_hat_beta.h5\n",
      "Epoch 2/50\n",
      "32/32 [==============================] - 5s 167ms/step - loss: 0.4117 - acc: 0.8286 - val_loss: 0.1943 - val_acc: 0.9130\n",
      "\n",
      "Epoch 00002: val_acc improved from 0.86719 to 0.91304, saving model to ../tuning_data/VGG_16_tuning/best_vgg16_model_5_layer_hat_beta.h5\n",
      "Epoch 3/50\n",
      "32/32 [==============================] - 5s 161ms/step - loss: 0.3840 - acc: 0.8406 - val_loss: 0.2846 - val_acc: 0.8696\n",
      "\n",
      "Epoch 00003: val_acc did not improve from 0.91304\n",
      "Epoch 4/50\n",
      "32/32 [==============================] - 5s 153ms/step - loss: 0.3902 - acc: 0.8434 - val_loss: 0.1664 - val_acc: 0.9478\n",
      "\n",
      "Epoch 00004: val_acc improved from 0.91304 to 0.94783, saving model to ../tuning_data/VGG_16_tuning/best_vgg16_model_5_layer_hat_beta.h5\n",
      "Epoch 5/50\n",
      "32/32 [==============================] - 5s 147ms/step - loss: 0.3816 - acc: 0.8313 - val_loss: 0.2311 - val_acc: 0.9130\n",
      "\n",
      "Epoch 00005: val_acc did not improve from 0.94783\n",
      "Epoch 6/50\n",
      "32/32 [==============================] - 5s 146ms/step - loss: 0.3456 - acc: 0.8555 - val_loss: 0.1523 - val_acc: 0.9304\n",
      "\n",
      "Epoch 00006: val_acc did not improve from 0.94783\n",
      "Epoch 7/50\n",
      "32/32 [==============================] - 5s 144ms/step - loss: 0.3488 - acc: 0.8620 - val_loss: 0.2195 - val_acc: 0.9304\n",
      "\n",
      "Epoch 00007: val_acc did not improve from 0.94783\n",
      "Epoch 8/50\n",
      "32/32 [==============================] - 5s 143ms/step - loss: 0.3208 - acc: 0.8652 - val_loss: 0.1641 - val_acc: 0.9391\n",
      "\n",
      "Epoch 00008: val_acc did not improve from 0.94783\n",
      "Epoch 9/50\n",
      "32/32 [==============================] - 5s 144ms/step - loss: 0.2742 - acc: 0.8769 - val_loss: 0.1619 - val_acc: 0.9217\n",
      "\n",
      "Epoch 00009: val_acc did not improve from 0.94783\n",
      "Epoch 10/50\n",
      "32/32 [==============================] - 5s 147ms/step - loss: 0.2751 - acc: 0.8906 - val_loss: 0.1572 - val_acc: 0.9297\n",
      "\n",
      "Epoch 00010: val_acc did not improve from 0.94783\n",
      "Epoch 11/50\n",
      "32/32 [==============================] - 5s 159ms/step - loss: 0.3132 - acc: 0.8715 - val_loss: 0.1813 - val_acc: 0.9130\n",
      "\n",
      "Epoch 00011: val_acc did not improve from 0.94783\n",
      "Epoch 12/50\n",
      "32/32 [==============================] - 5s 153ms/step - loss: 0.2903 - acc: 0.8926 - val_loss: 0.1461 - val_acc: 0.9478\n",
      "\n",
      "Epoch 00012: val_acc did not improve from 0.94783\n",
      "Epoch 13/50\n",
      "32/32 [==============================] - 4s 138ms/step - loss: 0.2917 - acc: 0.9059 - val_loss: 0.1555 - val_acc: 0.9304\n",
      "\n",
      "Epoch 00013: val_acc did not improve from 0.94783\n",
      "Epoch 14/50\n",
      "32/32 [==============================] - 4s 139ms/step - loss: 0.2546 - acc: 0.9004 - val_loss: 0.0999 - val_acc: 0.9652\n",
      "\n",
      "Epoch 00014: val_acc improved from 0.94783 to 0.96522, saving model to ../tuning_data/VGG_16_tuning/best_vgg16_model_5_layer_hat_beta.h5\n",
      "Epoch 15/50\n",
      "32/32 [==============================] - 5s 141ms/step - loss: 0.2412 - acc: 0.8992 - val_loss: 0.1624 - val_acc: 0.9391\n",
      "\n",
      "Epoch 00015: val_acc did not improve from 0.96522\n",
      "Epoch 16/50\n",
      "32/32 [==============================] - 5s 154ms/step - loss: 0.2617 - acc: 0.8906 - val_loss: 0.1388 - val_acc: 0.9565\n",
      "\n",
      "Epoch 00016: val_acc did not improve from 0.96522\n",
      "Epoch 17/50\n",
      "32/32 [==============================] - 4s 138ms/step - loss: 0.2375 - acc: 0.9121 - val_loss: 0.1581 - val_acc: 0.9565\n",
      "\n",
      "Epoch 00017: val_acc did not improve from 0.96522\n",
      "Epoch 18/50\n",
      "32/32 [==============================] - 5s 143ms/step - loss: 0.2467 - acc: 0.8980 - val_loss: 0.1287 - val_acc: 0.9304\n",
      "\n",
      "Epoch 00018: val_acc did not improve from 0.96522\n",
      "Epoch 19/50\n",
      "32/32 [==============================] - 5s 143ms/step - loss: 0.1938 - acc: 0.9297 - val_loss: 0.1526 - val_acc: 0.9375\n",
      "\n",
      "Epoch 00019: val_acc did not improve from 0.96522\n",
      "Epoch 20/50\n",
      "32/32 [==============================] - 5s 167ms/step - loss: 0.2689 - acc: 0.8961 - val_loss: 0.1236 - val_acc: 0.9478\n",
      "\n",
      "Epoch 00020: val_acc did not improve from 0.96522\n",
      "Epoch 21/50\n",
      "32/32 [==============================] - 4s 140ms/step - loss: 0.2760 - acc: 0.8855 - val_loss: 0.1074 - val_acc: 0.9652\n",
      "\n",
      "Epoch 00021: val_acc improved from 0.96522 to 0.96522, saving model to ../tuning_data/VGG_16_tuning/best_vgg16_model_5_layer_hat_beta.h5\n",
      "Epoch 22/50\n",
      "32/32 [==============================] - 4s 140ms/step - loss: 0.2313 - acc: 0.9043 - val_loss: 0.1728 - val_acc: 0.9478\n",
      "\n",
      "Epoch 00022: val_acc did not improve from 0.96522\n",
      "Epoch 23/50\n",
      "32/32 [==============================] - 5s 152ms/step - loss: 0.2342 - acc: 0.9157 - val_loss: 0.1336 - val_acc: 0.9652\n",
      "\n",
      "Epoch 00023: val_acc did not improve from 0.96522\n",
      "Epoch 24/50\n",
      "32/32 [==============================] - 5s 154ms/step - loss: 0.2156 - acc: 0.9176 - val_loss: 0.1266 - val_acc: 0.9739\n",
      "\n",
      "Epoch 00024: val_acc improved from 0.96522 to 0.97391, saving model to ../tuning_data/VGG_16_tuning/best_vgg16_model_5_layer_hat_beta.h5\n",
      "Epoch 25/50\n",
      "32/32 [==============================] - 5s 146ms/step - loss: 0.1891 - acc: 0.9297 - val_loss: 0.1603 - val_acc: 0.9652\n",
      "\n",
      "Epoch 00025: val_acc did not improve from 0.97391\n",
      "Epoch 26/50\n",
      "32/32 [==============================] - 4s 130ms/step - loss: 0.1794 - acc: 0.9285 - val_loss: 0.1356 - val_acc: 0.9478\n",
      "\n",
      "Epoch 00026: val_acc did not improve from 0.97391\n",
      "Epoch 27/50\n",
      "32/32 [==============================] - 4s 139ms/step - loss: 0.2375 - acc: 0.9101 - val_loss: 0.1032 - val_acc: 0.9565\n",
      "\n",
      "Epoch 00027: val_acc did not improve from 0.97391\n",
      "Epoch 28/50\n",
      "32/32 [==============================] - 5s 148ms/step - loss: 0.2013 - acc: 0.9145 - val_loss: 0.0928 - val_acc: 0.9609\n",
      "\n",
      "Epoch 00028: val_acc did not improve from 0.97391\n",
      "Epoch 29/50\n",
      "32/32 [==============================] - 5s 168ms/step - loss: 0.2238 - acc: 0.9062 - val_loss: 0.1371 - val_acc: 0.9565\n",
      "\n",
      "Epoch 00029: val_acc did not improve from 0.97391\n",
      "Epoch 30/50\n",
      "32/32 [==============================] - 5s 146ms/step - loss: 0.2070 - acc: 0.9176 - val_loss: 0.1406 - val_acc: 0.9652\n",
      "\n",
      "Epoch 00030: val_acc did not improve from 0.97391\n",
      "Epoch 31/50\n",
      "32/32 [==============================] - 4s 134ms/step - loss: 0.1987 - acc: 0.9355 - val_loss: 0.0942 - val_acc: 0.9478\n",
      "\n",
      "Epoch 00031: val_acc did not improve from 0.97391\n",
      "Epoch 32/50\n",
      "32/32 [==============================] - 5s 151ms/step - loss: 0.1919 - acc: 0.9235 - val_loss: 0.1317 - val_acc: 0.9391\n",
      "\n",
      "Epoch 00032: val_acc did not improve from 0.97391\n",
      "Epoch 33/50\n",
      "32/32 [==============================] - 5s 148ms/step - loss: 0.1782 - acc: 0.9324 - val_loss: 0.1251 - val_acc: 0.9565\n",
      "\n",
      "Epoch 00033: val_acc did not improve from 0.97391\n",
      "Epoch 34/50\n",
      "32/32 [==============================] - 4s 136ms/step - loss: 0.1843 - acc: 0.9266 - val_loss: 0.0972 - val_acc: 0.9478\n",
      "\n",
      "Epoch 00034: val_acc did not improve from 0.97391\n",
      "Epoch 35/50\n",
      "32/32 [==============================] - 5s 153ms/step - loss: 0.2022 - acc: 0.9215 - val_loss: 0.1307 - val_acc: 0.9304\n",
      "\n",
      "Epoch 00035: val_acc did not improve from 0.97391\n",
      "Epoch 36/50\n",
      "32/32 [==============================] - 5s 147ms/step - loss: 0.1929 - acc: 0.9180 - val_loss: 0.0826 - val_acc: 0.9478\n",
      "\n",
      "Epoch 00036: val_acc did not improve from 0.97391\n",
      "Epoch 37/50\n",
      "32/32 [==============================] - 5s 148ms/step - loss: 0.1938 - acc: 0.9207 - val_loss: 0.1276 - val_acc: 0.9688\n",
      "\n",
      "Epoch 00037: val_acc did not improve from 0.97391\n",
      "Epoch 38/50\n",
      "32/32 [==============================] - 5s 156ms/step - loss: 0.1952 - acc: 0.9282 - val_loss: 0.1125 - val_acc: 0.9565\n",
      "\n",
      "Epoch 00038: val_acc did not improve from 0.97391\n",
      "Epoch 39/50\n",
      "32/32 [==============================] - 5s 155ms/step - loss: 0.1991 - acc: 0.9188 - val_loss: 0.0847 - val_acc: 0.9478\n",
      "\n",
      "Epoch 00039: val_acc did not improve from 0.97391\n",
      "Epoch 40/50\n",
      "32/32 [==============================] - 5s 144ms/step - loss: 0.1336 - acc: 0.9570 - val_loss: 0.1042 - val_acc: 0.9739\n",
      "\n",
      "Epoch 00040: val_acc did not improve from 0.97391\n",
      "Epoch 41/50\n",
      "32/32 [==============================] - 5s 145ms/step - loss: 0.1574 - acc: 0.9363 - val_loss: 0.1437 - val_acc: 0.9217\n",
      "\n",
      "Epoch 00041: val_acc did not improve from 0.97391\n",
      "Epoch 42/50\n"
     ]
    },
    {
     "name": "stdout",
     "output_type": "stream",
     "text": [
      "32/32 [==============================] - 5s 146ms/step - loss: 0.1583 - acc: 0.9442 - val_loss: 0.1218 - val_acc: 0.9478\n",
      "\n",
      "Epoch 00042: val_acc did not improve from 0.97391\n",
      "Epoch 43/50\n",
      "32/32 [==============================] - 4s 136ms/step - loss: 0.1814 - acc: 0.9297 - val_loss: 0.0746 - val_acc: 0.9565\n",
      "\n",
      "Epoch 00043: val_acc did not improve from 0.97391\n",
      "Epoch 44/50\n",
      "32/32 [==============================] - 5s 154ms/step - loss: 0.1596 - acc: 0.9411 - val_loss: 0.1469 - val_acc: 0.9217\n",
      "\n",
      "Epoch 00044: val_acc did not improve from 0.97391\n",
      "Epoch 45/50\n",
      "32/32 [==============================] - 4s 140ms/step - loss: 0.1892 - acc: 0.9282 - val_loss: 0.0841 - val_acc: 0.9652\n",
      "\n",
      "Epoch 00045: val_acc did not improve from 0.97391\n",
      "Epoch 46/50\n",
      "32/32 [==============================] - 5s 146ms/step - loss: 0.1850 - acc: 0.9297 - val_loss: 0.1074 - val_acc: 0.9609\n",
      "\n",
      "Epoch 00046: val_acc did not improve from 0.97391\n",
      "Epoch 47/50\n",
      "32/32 [==============================] - 5s 165ms/step - loss: 0.1628 - acc: 0.9336 - val_loss: 0.1390 - val_acc: 0.9478\n",
      "\n",
      "Epoch 00047: val_acc did not improve from 0.97391\n",
      "Epoch 48/50\n",
      "32/32 [==============================] - 5s 148ms/step - loss: 0.1952 - acc: 0.9258 - val_loss: 0.0773 - val_acc: 0.9739\n",
      "\n",
      "Epoch 00048: val_acc did not improve from 0.97391\n",
      "Epoch 49/50\n",
      "32/32 [==============================] - 5s 145ms/step - loss: 0.1371 - acc: 0.9520 - val_loss: 0.1086 - val_acc: 0.9652\n",
      "\n",
      "Epoch 00049: val_acc did not improve from 0.97391\n",
      "Epoch 50/50\n",
      "32/32 [==============================] - 5s 142ms/step - loss: 0.1455 - acc: 0.9344 - val_loss: 0.1315 - val_acc: 0.9478\n",
      "\n",
      "Epoch 00050: val_acc did not improve from 0.97391\n"
     ]
    }
   ],
   "source": [
    "model_history = fine_tune_model(train_df,test_df,50,16,'hat','vgg16',\n",
    "                                150,1./255,vgg16_preprocess.preprocess_input)"
   ]
  },
  {
   "cell_type": "code",
   "execution_count": 61,
   "metadata": {},
   "outputs": [
    {
     "name": "stdout",
     "output_type": "stream",
     "text": [
      "highest test accuracy: 0.9739130434782609\n",
      "------------------\n",
      "highest train accuracy: 0.9565217391304348\n"
     ]
    }
   ],
   "source": [
    "highest_val_acc, highest_train_acc = max(model_history.history['val_acc']), max(model_history.history['acc'])\n",
    "print(f'highest test accuracy: {highest_val_acc}')\n",
    "print('------------------')\n",
    "print(f'highest train accuracy: {highest_train_acc}')"
   ]
  },
  {
   "cell_type": "code",
   "execution_count": 62,
   "metadata": {},
   "outputs": [
    {
     "name": "stdout",
     "output_type": "stream",
     "text": [
      "lowest test loss: 0.07462257716966712\n",
      "------------------\n",
      "lowest train loss: 0.13388301167092304\n"
     ]
    }
   ],
   "source": [
    "lowest_val_loss, lowest_train_loss = min(model_history.history['val_loss']), min(model_history.history['loss'])\n",
    "print(f'lowest test loss: {lowest_val_loss}')\n",
    "print('------------------')\n",
    "print(f'lowest train loss: {lowest_train_loss}')"
   ]
  },
  {
   "cell_type": "code",
   "execution_count": 63,
   "metadata": {},
   "outputs": [
    {
     "data": {
      "image/png": "[encoded data removed]",
      "text/plain": [
       "<Figure size 432x288 with 1 Axes>"
      ]
     },
     "metadata": {
      "needs_background": "light"
     },
     "output_type": "display_data"
    }
   ],
   "source": [
    "plt.plot(model_history.history['val_acc'], color = 'red', label = 'test')\n",
    "plt.plot(model_history.history['acc'], color = 'blue', label = 'train')\n",
    "plt.title('accuracy')\n",
    "plt.ylabel('accuracy')\n",
    "plt.legend()\n",
    "plt.show()"
   ]
  },
  {
   "cell_type": "code",
   "execution_count": 64,
   "metadata": {
    "scrolled": true
   },
   "outputs": [
    {
     "data": {
      "image/png": "[encoded data removed]",
      "text/plain": [
       "<Figure size 432x288 with 1 Axes>"
      ]
     },
     "metadata": {
      "needs_background": "light"
     },
     "output_type": "display_data"
    }
   ],
   "source": [
    "plt.plot(model_history.history['val_loss'], color = 'red', label = 'test')\n",
    "plt.plot(model_history.history['loss'], color = 'blue', label = 'train')\n",
    "plt.title('loss')\n",
    "plt.ylabel('loss')\n",
    "plt.legend()\n",
    "plt.show()"
   ]
  },
  {
   "cell_type": "markdown",
   "metadata": {},
   "source": [
    "### Save model "
   ]
  },
  {
   "cell_type": "code",
   "execution_count": null,
   "metadata": {},
   "outputs": [],
   "source": [
    "# # save model artchitecture \n",
    "# resnet50_model_8_up = model_history.model\n",
    "# resnet50_model_8_up_json = resnet50_model_8_up.to_json()"
   ]
  },
  {
   "cell_type": "code",
   "execution_count": null,
   "metadata": {},
   "outputs": [],
   "source": [
    "# # serialize model to JSON\n",
    "# with open(\"../tuning_data/resnet_data/resnet50_model_8_up.json\", \"w\") as json_file:\n",
    "#     json_file.write(resnet50_model_8_up_json)"
   ]
  },
  {
   "cell_type": "markdown",
   "metadata": {},
   "source": [
    "### Testing model"
   ]
  },
  {
   "cell_type": "code",
   "execution_count": 21,
   "metadata": {},
   "outputs": [],
   "source": [
    "# load json and create model\n",
    "def model_testing(df, model_path, weight_path, label,target_size,shuffle = False,\n",
    "                 batch_size = 32, rescale=None,preprocess_func=preprocess_input,\n",
    "                 class_mode ='binary', only_testing = True, old =False):\n",
    "    '''\n",
    "    df: the entire picture df \n",
    "    model_path: json model path\n",
    "    weight_path: path for weights \n",
    "    label: eyewear, hat, or beard\n",
    "    '''\n",
    "    # check the whole dataframe\n",
    "    sub_set = df[['pic_id',label]] \n",
    "    json_file = open(model_path, 'r')\n",
    "    loaded_model_json = json_file.read()\n",
    "    json_file.close()\n",
    "    loaded_model = model_from_json(loaded_model_json)\n",
    "    # load model weight yewear_decay_\n",
    "    loaded_model.load_weights(weight_path)\n",
    "    # test test data\n",
    "    data_generator= create_generator(None, df,label,shuffle,batch_size,\n",
    "                    rescale, preprocess_func, target_size,\n",
    "                    class_mode, only_testing = only_testing)\n",
    "    data_generator=data_generator[0]\n",
    "    labels = df[label].map({'1':1, '0':0})\n",
    "    \n",
    "    loaded_model.compile(loss='binary_crossentropy',\n",
    "             optimizer=optimizers.SGD(),\n",
    "             metrics=['accuracy']\n",
    "                        )\n",
    "    y_pred = np.around(loaded_model.predict_generator(data_generator, workers=8))\n",
    "    if old:\n",
    "        y_pred = [1-x for x in y_pred] # for old model \n",
    "    fpr, tpr, thresholds = roc_curve(labels, y_pred)\n",
    "    area = roc_auc_score(labels, y_pred)\n",
    "    plt.title('Receiver Operating Characteristic')\n",
    "    plt.plot(fpr, tpr, 'b', label = 'AUC = %0.2f' % area)\n",
    "    plt.legend(loc = 'lower right')\n",
    "    plt.plot([0, 1], [0, 1],'r--')\n",
    "    plt.xlim([0, 1])\n",
    "    plt.ylim([0, 1])\n",
    "    plt.ylabel('True Positive Rate')\n",
    "    plt.xlabel('False Positive Rate')\n",
    "    plt.show()\n",
    "    print(confusion_matrix(labels, y_pred))\n",
    "    print(classification_report(labels, y_pred))    "
   ]
  },
  {
   "cell_type": "markdown",
   "metadata": {},
   "source": [
    "### Eyewear"
   ]
  },
  {
   "cell_type": "code",
   "execution_count": 32,
   "metadata": {
    "scrolled": true
   },
   "outputs": [
    {
     "name": "stderr",
     "output_type": "stream",
     "text": [
      "W0905 15:35:21.962489 140313200772928 deprecation_wrapper.py:119] From /home/mindy/anaconda3/lib/python3.7/site-packages/keras/backend/tensorflow_backend.py:2041: The name tf.nn.fused_batch_norm is deprecated. Please use tf.compat.v1.nn.fused_batch_norm instead.\n",
      "\n"
     ]
    },
    {
     "name": "stdout",
     "output_type": "stream",
     "text": [
      "Found 653 validated image filenames belonging to 2 classes.\n"
     ]
    },
    {
     "data": {
      "image/png": "[encoded data removed]",
      "text/plain": [
       "<Figure size 432x288 with 1 Axes>"
      ]
     },
     "metadata": {
      "needs_background": "light"
     },
     "output_type": "display_data"
    },
    {
     "name": "stdout",
     "output_type": "stream",
     "text": [
      "[[293  23]\n",
      " [  4 333]]\n",
      "              precision    recall  f1-score   support\n",
      "\n",
      "           0       0.99      0.93      0.96       316\n",
      "           1       0.94      0.99      0.96       337\n",
      "\n",
      "    accuracy                           0.96       653\n",
      "   macro avg       0.96      0.96      0.96       653\n",
      "weighted avg       0.96      0.96      0.96       653\n",
      "\n"
     ]
    }
   ],
   "source": [
    "model_testing(df=df,model_path='../tuning_data/resnet_data/resnet50_model_5_up.json',\n",
    "             weight_path='../tuning_data/resnet_data/untracked_resnet50/best_resnet50_model_5_layer_eyewear_0.25dobeta_1.h5',\n",
    "              label='eyewear',target_size=(224,224), old = False)\n",
    "# use best_resnet50_model_5_layer_eyewear_0.25dobeta_1.h5"
   ]
  },
  {
   "cell_type": "code",
   "execution_count": 33,
   "metadata": {
    "scrolled": true
   },
   "outputs": [
    {
     "name": "stdout",
     "output_type": "stream",
     "text": [
      "Found 653 validated image filenames belonging to 2 classes.\n"
     ]
    },
    {
     "data": {
      "image/png": "[encoded data removed]",
      "text/plain": [
       "<Figure size 432x288 with 1 Axes>"
      ]
     },
     "metadata": {
      "needs_background": "light"
     },
     "output_type": "display_data"
    },
    {
     "name": "stdout",
     "output_type": "stream",
     "text": [
      "[[290  26]\n",
      " [  4 333]]\n",
      "              precision    recall  f1-score   support\n",
      "\n",
      "           0       0.99      0.92      0.95       316\n",
      "           1       0.93      0.99      0.96       337\n",
      "\n",
      "    accuracy                           0.95       653\n",
      "   macro avg       0.96      0.95      0.95       653\n",
      "weighted avg       0.96      0.95      0.95       653\n",
      "\n"
     ]
    }
   ],
   "source": [
    "model_testing(df,'../tuning_data/resnet_data/resnet50_model_5_up.json', \n",
    "              '../tuning_data/resnet_data/untracked_resnet50/best_resnet50_model_eyewear.h5',\n",
    "              'eyewear',(224,224), old = True)"
   ]
  },
  {
   "cell_type": "code",
   "execution_count": 34,
   "metadata": {
    "scrolled": true
   },
   "outputs": [
    {
     "name": "stdout",
     "output_type": "stream",
     "text": [
      "Found 653 validated image filenames belonging to 2 classes.\n"
     ]
    },
    {
     "data": {
      "image/png": "[encoded data removed]",
      "text/plain": [
       "<Figure size 432x288 with 1 Axes>"
      ]
     },
     "metadata": {
      "needs_background": "light"
     },
     "output_type": "display_data"
    },
    {
     "name": "stdout",
     "output_type": "stream",
     "text": [
      "[[283  33]\n",
      " [  3 334]]\n",
      "              precision    recall  f1-score   support\n",
      "\n",
      "           0       0.99      0.90      0.94       316\n",
      "           1       0.91      0.99      0.95       337\n",
      "\n",
      "    accuracy                           0.94       653\n",
      "   macro avg       0.95      0.94      0.94       653\n",
      "weighted avg       0.95      0.94      0.94       653\n",
      "\n"
     ]
    }
   ],
   "source": [
    "model_testing(df,'../tuning_data/VGG_16_tuning/vgg_model.json', \n",
    "              '../tuning_data/VGG_16_tuning/best_vgg16_model_5_layer_eyewear_beta.h5',\n",
    "              'eyewear',(150,150), old = False)"
   ]
  },
  {
   "cell_type": "code",
   "execution_count": 35,
   "metadata": {},
   "outputs": [
    {
     "name": "stdout",
     "output_type": "stream",
     "text": [
      "Found 653 validated image filenames belonging to 2 classes.\n"
     ]
    },
    {
     "data": {
      "image/png": "[encoded data removed]",
      "text/plain": [
       "<Figure size 432x288 with 1 Axes>"
      ]
     },
     "metadata": {
      "needs_background": "light"
     },
     "output_type": "display_data"
    },
    {
     "name": "stdout",
     "output_type": "stream",
     "text": [
      "[[266  50]\n",
      " [  9 328]]\n",
      "              precision    recall  f1-score   support\n",
      "\n",
      "           0       0.97      0.84      0.90       316\n",
      "           1       0.87      0.97      0.92       337\n",
      "\n",
      "    accuracy                           0.91       653\n",
      "   macro avg       0.92      0.91      0.91       653\n",
      "weighted avg       0.92      0.91      0.91       653\n",
      "\n"
     ]
    }
   ],
   "source": [
    "model_testing(df,'../tuning_data/VGG_16_tuning/vgg_model.json', \n",
    "              '../tuning_data/VGG_16_tuning/best_vgg_model_eyewears.h5',\n",
    "              'eyewear',(150,150), old = True)"
   ]
  },
  {
   "cell_type": "markdown",
   "metadata": {},
   "source": [
    "### Testing hat "
   ]
  },
  {
   "cell_type": "code",
   "execution_count": 68,
   "metadata": {},
   "outputs": [
    {
     "name": "stdout",
     "output_type": "stream",
     "text": [
      "Found 653 validated image filenames belonging to 2 classes.\n"
     ]
    },
    {
     "data": {
      "image/png": "[encoded data removed]",
      "text/plain": [
       "<Figure size 432x288 with 1 Axes>"
      ]
     },
     "metadata": {
      "needs_background": "light"
     },
     "output_type": "display_data"
    },
    {
     "name": "stdout",
     "output_type": "stream",
     "text": [
      "[[397   1]\n",
      " [ 40 215]]\n",
      "              precision    recall  f1-score   support\n",
      "\n",
      "           0       0.91      1.00      0.95       398\n",
      "           1       1.00      0.84      0.91       255\n",
      "\n",
      "    accuracy                           0.94       653\n",
      "   macro avg       0.95      0.92      0.93       653\n",
      "weighted avg       0.94      0.94      0.94       653\n",
      "\n"
     ]
    }
   ],
   "source": [
    "model_testing(df=df,model_path='../tuning_data/resnet_data/resnet50_model_5_up.json',\n",
    "             weight_path='../tuning_data/resnet_data/untracked_resnet50/best_resnet50_model_5_layer_hat_0.25dobeta_1.h5',\n",
    "              label='hat', target_size=(224,224),old = False)"
   ]
  },
  {
   "cell_type": "code",
   "execution_count": 69,
   "metadata": {
    "scrolled": false
   },
   "outputs": [
    {
     "name": "stdout",
     "output_type": "stream",
     "text": [
      "Found 653 validated image filenames belonging to 2 classes.\n"
     ]
    },
    {
     "data": {
      "image/png": "[encoded data removed]",
      "text/plain": [
       "<Figure size 432x288 with 1 Axes>"
      ]
     },
     "metadata": {
      "needs_background": "light"
     },
     "output_type": "display_data"
    },
    {
     "name": "stdout",
     "output_type": "stream",
     "text": [
      "[[395   3]\n",
      " [ 25 230]]\n",
      "              precision    recall  f1-score   support\n",
      "\n",
      "           0       0.94      0.99      0.97       398\n",
      "           1       0.99      0.90      0.94       255\n",
      "\n",
      "    accuracy                           0.96       653\n",
      "   macro avg       0.96      0.95      0.95       653\n",
      "weighted avg       0.96      0.96      0.96       653\n",
      "\n"
     ]
    }
   ],
   "source": [
    "model_testing(df,'../tuning_data/resnet_data/resnet50_model_5_up.json', \n",
    "              '../tuning_data/resnet_data/untracked_resnet50/best_resnet50_model_hat.h5',\n",
    "             'hat',(224,224),old = True)\n",
    "\n",
    "# best resnet"
   ]
  },
  {
   "cell_type": "code",
   "execution_count": 70,
   "metadata": {
    "scrolled": true
   },
   "outputs": [
    {
     "name": "stdout",
     "output_type": "stream",
     "text": [
      "Found 653 validated image filenames belonging to 2 classes.\n"
     ]
    },
    {
     "data": {
      "image/png": "[encoded data removed]",
      "text/plain": [
       "<Figure size 432x288 with 1 Axes>"
      ]
     },
     "metadata": {
      "needs_background": "light"
     },
     "output_type": "display_data"
    },
    {
     "name": "stdout",
     "output_type": "stream",
     "text": [
      "[[384  14]\n",
      " [ 23 232]]\n",
      "              precision    recall  f1-score   support\n",
      "\n",
      "           0       0.94      0.96      0.95       398\n",
      "           1       0.94      0.91      0.93       255\n",
      "\n",
      "    accuracy                           0.94       653\n",
      "   macro avg       0.94      0.94      0.94       653\n",
      "weighted avg       0.94      0.94      0.94       653\n",
      "\n"
     ]
    }
   ],
   "source": [
    "model_testing(df,'../tuning_data/VGG_16_tuning/vgg_model.json', \n",
    "              '../tuning_data/VGG_16_tuning/best_vgg16_model_5_layer_hat_beta.h5',\n",
    "              'hat',(150,150),old = False)"
   ]
  },
  {
   "cell_type": "code",
   "execution_count": 71,
   "metadata": {},
   "outputs": [
    {
     "name": "stdout",
     "output_type": "stream",
     "text": [
      "Found 653 validated image filenames belonging to 2 classes.\n"
     ]
    },
    {
     "data": {
      "image/png": "[encoded data removed]",
      "text/plain": [
       "<Figure size 432x288 with 1 Axes>"
      ]
     },
     "metadata": {
      "needs_background": "light"
     },
     "output_type": "display_data"
    },
    {
     "name": "stdout",
     "output_type": "stream",
     "text": [
      "[[345  53]\n",
      " [ 14 241]]\n",
      "              precision    recall  f1-score   support\n",
      "\n",
      "           0       0.96      0.87      0.91       398\n",
      "           1       0.82      0.95      0.88       255\n",
      "\n",
      "    accuracy                           0.90       653\n",
      "   macro avg       0.89      0.91      0.89       653\n",
      "weighted avg       0.91      0.90      0.90       653\n",
      "\n"
     ]
    }
   ],
   "source": [
    "model_testing(df,'../tuning_data/VGG_16_tuning/vgg_model.json', \n",
    "              '../tuning_data/VGG_16_tuning/best_vgg_model_hat.h5',\n",
    "              'hat',(150,150), old = True)"
   ]
  },
  {
   "cell_type": "markdown",
   "metadata": {},
   "source": [
    "### Testing beard"
   ]
  },
  {
   "cell_type": "code",
   "execution_count": 38,
   "metadata": {},
   "outputs": [
    {
     "name": "stdout",
     "output_type": "stream",
     "text": [
      "Found 653 validated image filenames belonging to 2 classes.\n"
     ]
    },
    {
     "data": {
      "image/png": "[encoded data removed]",
      "text/plain": [
       "<Figure size 432x288 with 1 Axes>"
      ]
     },
     "metadata": {
      "needs_background": "light"
     },
     "output_type": "display_data"
    },
    {
     "name": "stdout",
     "output_type": "stream",
     "text": [
      "[[402  24]\n",
      " [ 10 217]]\n",
      "              precision    recall  f1-score   support\n",
      "\n",
      "           0       0.98      0.94      0.96       426\n",
      "           1       0.90      0.96      0.93       227\n",
      "\n",
      "    accuracy                           0.95       653\n",
      "   macro avg       0.94      0.95      0.94       653\n",
      "weighted avg       0.95      0.95      0.95       653\n",
      "\n"
     ]
    }
   ],
   "source": [
    "model_testing(df=df,model_path='../tuning_data/resnet_data/resnet50_model_5_up.json',\n",
    "             weight_path='../tuning_data/resnet_data/untracked_resnet50/resnet50_model_5_layer_beard_0.25dobeta_1.h5',\n",
    "              label='beard', target_size = (224,224), old = False)"
   ]
  },
  {
   "cell_type": "code",
   "execution_count": 42,
   "metadata": {},
   "outputs": [
    {
     "name": "stdout",
     "output_type": "stream",
     "text": [
      "Found 653 validated image filenames belonging to 2 classes.\n"
     ]
    },
    {
     "data": {
      "image/png": "[encoded data removed]",
      "text/plain": [
       "<Figure size 432x288 with 1 Axes>"
      ]
     },
     "metadata": {
      "needs_background": "light"
     },
     "output_type": "display_data"
    },
    {
     "name": "stdout",
     "output_type": "stream",
     "text": [
      "[[400  26]\n",
      " [ 15 212]]\n",
      "              precision    recall  f1-score   support\n",
      "\n",
      "           0       0.96      0.94      0.95       426\n",
      "           1       0.89      0.93      0.91       227\n",
      "\n",
      "    accuracy                           0.94       653\n",
      "   macro avg       0.93      0.94      0.93       653\n",
      "weighted avg       0.94      0.94      0.94       653\n",
      "\n"
     ]
    }
   ],
   "source": [
    "model_testing(df,'../tuning_data/resnet_data/resnet50_model_5_up.json',\n",
    "              '../tuning_data/resnet_data/untracked_resnet50/best_resnet50_model_beard.h5','beard',(224,224),old = True)"
   ]
  },
  {
   "cell_type": "code",
   "execution_count": 52,
   "metadata": {},
   "outputs": [
    {
     "name": "stdout",
     "output_type": "stream",
     "text": [
      "Found 653 validated image filenames belonging to 2 classes.\n"
     ]
    },
    {
     "data": {
      "image/png": "[encoded data removed]",
      "text/plain": [
       "<Figure size 432x288 with 1 Axes>"
      ]
     },
     "metadata": {
      "needs_background": "light"
     },
     "output_type": "display_data"
    },
    {
     "name": "stdout",
     "output_type": "stream",
     "text": [
      "[[421   5]\n",
      " [ 44 183]]\n",
      "              precision    recall  f1-score   support\n",
      "\n",
      "           0       0.91      0.99      0.95       426\n",
      "           1       0.97      0.81      0.88       227\n",
      "\n",
      "    accuracy                           0.92       653\n",
      "   macro avg       0.94      0.90      0.91       653\n",
      "weighted avg       0.93      0.92      0.92       653\n",
      "\n"
     ]
    }
   ],
   "source": [
    "model_testing(df,'../tuning_data/VGG_16_tuning/vgg_model.json', \n",
    "              '../tuning_data/VGG_16_tuning/best_vgg16_model_5_layer_beard_beta.h5',\n",
    "              'beard',(150,150),old = False)"
   ]
  },
  {
   "cell_type": "code",
   "execution_count": 41,
   "metadata": {},
   "outputs": [
    {
     "name": "stdout",
     "output_type": "stream",
     "text": [
      "Found 653 validated image filenames belonging to 2 classes.\n"
     ]
    },
    {
     "data": {
      "image/png": "[encoded data removed]",
      "text/plain": [
       "<Figure size 432x288 with 1 Axes>"
      ]
     },
     "metadata": {
      "needs_background": "light"
     },
     "output_type": "display_data"
    },
    {
     "name": "stdout",
     "output_type": "stream",
     "text": [
      "[[403  23]\n",
      " [ 38 189]]\n",
      "              precision    recall  f1-score   support\n",
      "\n",
      "           0       0.91      0.95      0.93       426\n",
      "           1       0.89      0.83      0.86       227\n",
      "\n",
      "    accuracy                           0.91       653\n",
      "   macro avg       0.90      0.89      0.90       653\n",
      "weighted avg       0.91      0.91      0.91       653\n",
      "\n"
     ]
    }
   ],
   "source": [
    "model_testing(df,'../tuning_data/VGG_16_tuning/vgg_model.json', \n",
    "              '../tuning_data/VGG_16_tuning/best_vgg_model_beard.h5',\n",
    "              'beard',(150,150), old = True)"
   ]
  }
 ],
 "metadata": {
  "kernelspec": {
   "display_name": "Python 3",
   "language": "python",
   "name": "python3"
  },
  "language_info": {
   "codemirror_mode": {
    "name": "ipython",
    "version": 3
   },
   "file_extension": ".py",
   "mimetype": "text/x-python",
   "name": "python",
   "nbconvert_exporter": "python",
   "pygments_lexer": "ipython3",
   "version": "3.7.3"
  }
 },
 "nbformat": 4,
 "nbformat_minor": 2
}
