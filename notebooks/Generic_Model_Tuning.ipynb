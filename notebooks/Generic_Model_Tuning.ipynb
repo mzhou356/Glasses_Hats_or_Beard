{
 "cells": [
  {
   "cell_type": "markdown",
   "metadata": {},
   "source": [
    "## Transfer Learning Tuning:\n",
    "  * Use Resnet50 to reduce model size and improve accuracy \n",
    "      * see [base model info comparison](https://medium.com/@sidereal/cnns-architectures-lenet-alexnet-vgg-googlenet-resnet-and-more-666091488df5)\n",
    "      * [resnet50 blog](https://towardsdatascience.com/understanding-and-coding-a-resnet-in-keras-446d7ff84d33)\n",
    "     \n",
    "  * base_model: use RESNET50 and freeze at bottleneck layer (stop right before 2D AVERAGE POOL) \n",
    "  * top_model: tune dense layers (parameters are inspired by a few sources)\n",
    "     * [source1](https://www.kaggle.com/suniliitb96/tutorial-keras-transfer-learning-with-resnet50)\n",
    "     * [source2](https://www.kaggle.com/pmigdal/transfer-learning-with-resnet-50-in-keras)\n",
    "     * [source3](https://towardsdatascience.com/transfer-learning-for-image-classification-using-keras-c47ccf09c8c8)\n",
    "\n",
    "\n",
    "\n",
    "  \n",
    "---\n",
    "#### This cell is required in order to use GPU for running the model "
   ]
  },
  {
   "cell_type": "code",
   "execution_count": 1,
   "metadata": {},
   "outputs": [
    {
     "name": "stderr",
     "output_type": "stream",
     "text": [
      "Using TensorFlow backend.\n",
      "WARNING: Logging before flag parsing goes to stderr.\n",
      "W0905 22:00:23.551636 140427215234880 deprecation_wrapper.py:119] From /home/mindy/anaconda3/lib/python3.7/site-packages/keras/backend/tensorflow_backend.py:190: The name tf.get_default_session is deprecated. Please use tf.compat.v1.get_default_session instead.\n",
      "\n",
      "W0905 22:00:23.552639 140427215234880 deprecation_wrapper.py:119] From /home/mindy/anaconda3/lib/python3.7/site-packages/keras/backend/tensorflow_backend.py:207: The name tf.global_variables is deprecated. Please use tf.compat.v1.global_variables instead.\n",
      "\n"
     ]
    }
   ],
   "source": [
    "import warnings\n",
    "warnings.filterwarnings('ignore')\n",
    "import tensorflow as tf\n",
    "import keras\n",
    "from keras.backend.tensorflow_backend import set_session\n",
    "config = tf.ConfigProto()\n",
    "config.gpu_options.allow_growth = True  # dynamically grow the memory used on the GPU\n",
    "config.log_device_placement = True  # to log device placement (on which device the operation ran)\n",
    "                                    # (nothing gets printed in Jupyter, only if you run it standalone)\n",
    "sess = tf.Session(config=config)\n",
    "set_session(sess)  # set this TensorFlow session as the default session for Keras\n",
    "keras.backend.get_session().run(tf.global_variables_initializer())  "
   ]
  },
  {
   "cell_type": "markdown",
   "metadata": {},
   "source": [
    "---\n",
    "#### Import necessary libraries"
   ]
  },
  {
   "cell_type": "code",
   "execution_count": 2,
   "metadata": {},
   "outputs": [],
   "source": [
    "from sklearn.metrics import confusion_matrix, classification_report, roc_curve, roc_auc_score\n",
    "from sklearn.model_selection import train_test_split\n",
    "from sklearn.utils import class_weight\n",
    "from keras.callbacks import ModelCheckpoint\n",
    "from keras import optimizers\n",
    "from keras.applications.resnet50 import ResNet50, preprocess_input\n",
    "from keras.applications.vgg16 import VGG16\n",
    "from keras.layers import Dropout, Flatten, Dense, GlobalAveragePooling2D\n",
    "from keras.models import Sequential, Model, model_from_json\n",
    "from keras_preprocessing.image import ImageDataGenerator\n",
    "import sys\n",
    "import pandas as pd\n",
    "import numpy as np\n",
    "import matplotlib.pyplot as plt\n",
    "%matplotlib inline"
   ]
  },
  {
   "cell_type": "markdown",
   "metadata": {},
   "source": [
    "## load in custom preprocess function"
   ]
  },
  {
   "cell_type": "code",
   "execution_count": 3,
   "metadata": {},
   "outputs": [],
   "source": [
    "%load_ext autoreload\n",
    "%autoreload 1\n",
    "\n",
    "sys.path.append(\"../python_files/\")\n",
    "\n",
    "import vgg16_preprocess\n",
    "\n",
    "\n",
    "%aimport vgg16_preprocess\n"
   ]
  },
  {
   "cell_type": "code",
   "execution_count": 4,
   "metadata": {},
   "outputs": [],
   "source": [
    "#  import total dataframe\n",
    "\n",
    "df = pd.read_pickle('../pickle_files/pic_df.pkl')"
   ]
  },
  {
   "cell_type": "code",
   "execution_count": 5,
   "metadata": {},
   "outputs": [],
   "source": [
    "# subset a dataframe \n",
    "def create_test_train(df,label):\n",
    "    '''\n",
    "    df: dateframe of pic_ids \n",
    "    label: eyewear,hat, or beard, a string\n",
    "    return: test and train df\n",
    "    '''\n",
    "    sub_set = df[['pic_id',label]]  # subset the label dataframe \n",
    "    X_train, X_test, y_train, y_test = train_test_split(sub_set['pic_id'], sub_set[label],\n",
    "                                                        stratify = sub_set[label],\n",
    "                                                        test_size = 0.2)\n",
    "    df_train = pd.concat([X_train,y_train], axis=1)\n",
    "    df_test = pd.concat([X_test,y_test], axis=1)\n",
    "    return df_train, df_test\n",
    "    "
   ]
  },
  {
   "cell_type": "code",
   "execution_count": 6,
   "metadata": {},
   "outputs": [],
   "source": [
    "def create_generator(train_df, test_df,label,shuffle,batch_size,\n",
    "                    rescale, preprocess_func, target_size,\n",
    "                    class_mode, only_testing = False):\n",
    "    '''\n",
    "    train_df, test_df: dataframe for train and test \n",
    "    label: eyewear,hat, or beard, a string\n",
    "    shuffle: weather to shuffle or not based upon feature extractor or not \n",
    "    batch_size: how many pictures per batch\n",
    "    preprocess_func: vgg16 preprocess or ResNet50\n",
    "    rescale: 1./255 or None\n",
    "    target_size: (224,224) or (150,150)\n",
    "    class_mode: none or binary \n",
    "    return:\n",
    "    train generator and test generator \n",
    "    '''\n",
    "    generators =[]\n",
    "    if not only_testing:\n",
    "        traingen = ImageDataGenerator(\n",
    "            rescale = rescale,\n",
    "            zoom_range= [0.8,1.7],\n",
    "            shear_range=0.2,\n",
    "            brightness_range=[0.5,1.5],\n",
    "            rotation_range = 40,\n",
    "            width_shift_range=0.2,\n",
    "            height_shift_range=0.2,\n",
    "            horizontal_flip=True,\n",
    "            preprocessing_function=preprocess_func)\n",
    "        \n",
    "        train_generator = traingen.flow_from_dataframe(\n",
    "            dataframe=train_df,\n",
    "            directory='../data/pics',\n",
    "            x_col='pic_id',\n",
    "            y_col=label,\n",
    "            batch_size=batch_size,\n",
    "            shuffle = shuffle,\n",
    "            target_size=target_size,\n",
    "            class_mode = class_mode)\n",
    "        generators.append(train_generator)\n",
    "        if class_mode:\n",
    "        # create classweights for train \n",
    "            classweights = class_weight.compute_class_weight(\n",
    "                'balanced',np.unique(train_generator.classes),train_generator.classes)\n",
    "            generators.append(classweights)\n",
    "    \n",
    "    testgen = ImageDataGenerator(\n",
    "        rescale = rescale,\n",
    "        preprocessing_function=preprocess_func)\n",
    "    \n",
    "    test_generator = testgen.flow_from_dataframe(\n",
    "        dataframe=test_df,\n",
    "        directory='../data/pics',\n",
    "        x_col='pic_id',\n",
    "        y_col=label,\n",
    "        batch_size=batch_size,\n",
    "        shuffle=shuffle,\n",
    "        target_size=target_size,\n",
    "        class_mode=class_mode)\n",
    "    generators.append(test_generator)\n",
    "    \n",
    "    return generators"
   ]
  },
  {
   "cell_type": "code",
   "execution_count": 68,
   "metadata": {},
   "outputs": [],
   "source": [
    "train_df, test_df = create_test_train(df,'hat')"
   ]
  },
  {
   "cell_type": "markdown",
   "metadata": {},
   "source": [
    "#### Get bottleneck features to tune top models"
   ]
  },
  {
   "cell_type": "code",
   "execution_count": 74,
   "metadata": {},
   "outputs": [],
   "source": [
    "def save_bottleneck_features(df, label, batch_size, model_type, preprocess_func, rescale,\n",
    "                            shuffle,target_size,class_mode):\n",
    "    '''\n",
    "    inputs:\n",
    "    df: dataframe for all eyewear, hat, and beard \n",
    "    label: a string, eyewear, hat, or beard\n",
    "    batch_size: process images in batches\n",
    "    model_type: ResNet50 or VGG16\n",
    "    shuffle: weather to shuffle or not based upon feature extractor or not \n",
    "    preprocess_func: vgg16 preprocess or ResNet50\n",
    "    rescale: 1./255 or None\n",
    "    target_size: (224,224) or (150,150)\n",
    "    class_mode: none or binary \n",
    "    outputs:\n",
    "    saves bottleneck features inside folder tuning_data as npy file\n",
    "    '''\n",
    "    # intialize the model, vgg16 or ResNet50 \n",
    "    # make sure not to train the top layers \n",
    "    base_model = model_type(weights = 'imagenet',include_top = False)\n",
    "    # generate test_train df\n",
    "    train_df, test_df = create_test_train(df,label)\n",
    "    # create train_generator and test_generator to get bottleneck inputs for train and test df \n",
    "    # make sure shuffle is False so we know the label follows the sequence of the dataframe \n",
    "    # so we can tune top_model \n",
    "    generators = create_generator(train_df=train_df,\n",
    "                                                   test_df=test_df,\n",
    "                                                   label=label,\n",
    "                                                   shuffle=shuffle,\n",
    "                                                   rescale=rescale,\n",
    "                                                   preprocess_func=preprocess_input,\n",
    "                                                   batch_size=16,\n",
    "                                                   target_size=target_size,\n",
    "                                                   class_mode=class_mode)  \n",
    "    train_generator, test_generator = generators[0],generators[1]\n",
    "    \n",
    "    # get features saved as .npy in tunign_data folder \n",
    "    bottleneck_features_train = base_model.predict_generator(\n",
    "        train_generator, train_df.shape[0]//batch_size)\n",
    "    np.save(open(f'../tuning_data/resnet_data/untracked_resnet50/bottleneck_features_train_{label}_resnet_beta.npy','wb'),\n",
    "           bottleneck_features_train)\n",
    "    \n",
    "    bottleneck_features_test = base_model.predict_generator(\n",
    "        test_generator, test_df.shape[0]//batch_size)\n",
    "    np.save(open(f'../tuning_data/resnet_data/untracked_resnet50/bottleneck_features_test_{label}_resnet_beta.npy','wb'),\n",
    "           bottleneck_features_test)\n",
    "    return train_df, test_df"
   ]
  },
  {
   "cell_type": "markdown",
   "metadata": {},
   "source": [
    "#### Save bottleneck_features"
   ]
  },
  {
   "cell_type": "code",
   "execution_count": 75,
   "metadata": {
    "scrolled": false
   },
   "outputs": [
    {
     "name": "stdout",
     "output_type": "stream",
     "text": [
      "Found 522 validated image filenames.\n",
      "Found 131 validated image filenames.\n"
     ]
    }
   ],
   "source": [
    "train_df, test_df = save_bottleneck_features(df,'hat',16,ResNet50,preprocess_input,\n",
    "                         None,False,(224,224),None)"
   ]
  },
  {
   "cell_type": "code",
   "execution_count": 71,
   "metadata": {},
   "outputs": [],
   "source": [
    "def resnet50_model(input_shape, dropout):\n",
    "    '''\n",
    "    input_shape: input_shape for pooling layer \n",
    "    dropout:percentage for Dropout layer \n",
    "    optimizer: optimizer for model compiles \n",
    "    returns resnet50 model\n",
    "    '''\n",
    "    model = Sequential()\n",
    "    model.add(GlobalAveragePooling2D(input_shape=input_shape))\n",
    "    model.add(Dense(512,activation='relu'))\n",
    "    model.add(Dropout(dropout))\n",
    "    model.add(Dense(1,activation='sigmoid'))\n",
    "    return model"
   ]
  },
  {
   "cell_type": "code",
   "execution_count": 15,
   "metadata": {},
   "outputs": [],
   "source": [
    "def vgg16_model(input_shape,dropout):\n",
    "    '''\n",
    "    input_shape: input_shape for pooling layer \n",
    "    dropout:percentage for Dropout layer \n",
    "    optimizer: optimizer for model compiles \n",
    "    returns vgg16 model\n",
    "    '''\n",
    "     # build top model\n",
    "    model = Sequential()\n",
    "    model.add(Flatten(input_shape=input_shape))\n",
    "    model.add(Dense(256, activation='relu'))\n",
    "    model.add(Dropout(dropout))\n",
    "    model.add(Dense(1, activation='sigmoid'))\n",
    "\n",
    "    return model    "
   ]
  },
  {
   "cell_type": "markdown",
   "metadata": {},
   "source": [
    "### Quick tuning of top models "
   ]
  },
  {
   "cell_type": "code",
   "execution_count": 76,
   "metadata": {},
   "outputs": [],
   "source": [
    "def train_top_model(train_df, test_df, epoch, batch_size, label, model_type,rescale,preprocess_func,\n",
    "                   target_size):\n",
    "    '''\n",
    "    inputs:\n",
    "    train_df, test_df: dataframes returned from save_bottleneck_features functions \n",
    "    epoch: num of epochs in fit \n",
    "    batch_size: same as image generator batch size \n",
    "    label: a string, eyewear, hat, or beard\n",
    "    model_type: resnet50 or vgg16\n",
    "    output:\n",
    "    saves model weights in a folder \n",
    "    '''\n",
    "    train_data = np.load(open(f'../tuning_data/resnet_data/untracked_resnet50/bottleneck_features_train_{label}_resnet_beta.npy','rb'))\n",
    "    # make sure train_data and train_label have same num of samples\n",
    "    train_label = np.array(train_df[label].map({'0':0, '1':1}))[:-(train_df.shape[0]%batch_size)]\n",
    "    \n",
    "    test_data = np.load(open(f'../tuning_data/resnet_data/untracked_resnet50/bottleneck_features_test_{label}_resnet_beta.npy','rb'))\n",
    "    test_label = np.array(test_df[label].map({'0':0, '1':1}))[:-(test_df.shape[0]%batch_size)]\n",
    "    \n",
    "    # build top model\n",
    "    if model_type == 'resnet50':\n",
    "        model = resnet50_model(train_data.shape[1:],0.25)\n",
    "    if model_type == 'vgg16':\n",
    "        model = vgg16_model(train_data.shape[1:],0.5)\n",
    "        \n",
    "    model.compile(optimizer=optimizers.Adam(),\n",
    "                 loss='binary_crossentropy',\n",
    "                 metrics=['accuracy'])\n",
    "\n",
    "    # checkpoint for best weights \n",
    "    filepath=f\"../tuning_data/resnet_data/untracked_resnet50/best_bottleneck_resnet_model_{label}_beta.h5\"\n",
    "    checkpoint = ModelCheckpoint(filepath, monitor='val_acc', verbose=1, save_best_only=True, mode='max')\n",
    "    callbacks_list = [checkpoint]\n",
    "    \n",
    "    classweight = create_generator(train_df, test_df,label,False,batch_size,\n",
    "                    rescale, preprocess_func, target_size,\n",
    "                    'binary', only_testing = False)[1]\n",
    "    \n",
    "    model.fit(train_data, train_label,\n",
    "             epochs=epoch,\n",
    "             batch_size=batch_size,\n",
    "             validation_data=(test_data,test_label),\n",
    "             callbacks=callbacks_list,\n",
    "             class_weight = classweight)\n",
    "    del model\n",
    "    keras.backend.clear_session()"
   ]
  },
  {
   "cell_type": "markdown",
   "metadata": {},
   "source": [
    "#### run train_top_model and save results in tuning_data"
   ]
  },
  {
   "cell_type": "code",
   "execution_count": 85,
   "metadata": {
    "scrolled": false
   },
   "outputs": [
    {
     "name": "stdout",
     "output_type": "stream",
     "text": [
      "Found 522 validated image filenames belonging to 2 classes.\n",
      "Found 131 validated image filenames belonging to 2 classes.\n",
      "Train on 512 samples, validate on 128 samples\n",
      "Epoch 1/50\n",
      "512/512 [==============================] - 1s 1ms/step - loss: 0.4807 - acc: 0.8359 - val_loss: 0.2829 - val_acc: 0.9531\n",
      "\n",
      "Epoch 00001: val_acc improved from -inf to 0.95312, saving model to ../tuning_data/resnet_data/untracked_resnet50/best_bottleneck_resnet_model_hat_beta.h5\n",
      "Epoch 2/50\n",
      "512/512 [==============================] - 0s 300us/step - loss: 0.2048 - acc: 0.9355 - val_loss: 0.3087 - val_acc: 0.9609\n",
      "\n",
      "Epoch 00002: val_acc improved from 0.95312 to 0.96094, saving model to ../tuning_data/resnet_data/untracked_resnet50/best_bottleneck_resnet_model_hat_beta.h5\n",
      "Epoch 3/50\n",
      "512/512 [==============================] - 0s 296us/step - loss: 0.1046 - acc: 0.9688 - val_loss: 0.3109 - val_acc: 0.9609\n",
      "\n",
      "Epoch 00003: val_acc did not improve from 0.96094\n",
      "Epoch 4/50\n",
      "512/512 [==============================] - 0s 303us/step - loss: 0.0616 - acc: 0.9785 - val_loss: 0.3046 - val_acc: 0.9609\n",
      "\n",
      "Epoch 00004: val_acc did not improve from 0.96094\n",
      "Epoch 5/50\n",
      "512/512 [==============================] - 0s 292us/step - loss: 0.0575 - acc: 0.9844 - val_loss: 0.2788 - val_acc: 0.9609\n",
      "\n",
      "Epoch 00005: val_acc did not improve from 0.96094\n",
      "Epoch 6/50\n",
      "512/512 [==============================] - 0s 301us/step - loss: 0.0369 - acc: 0.9863 - val_loss: 0.3558 - val_acc: 0.9609\n",
      "\n",
      "Epoch 00006: val_acc did not improve from 0.96094\n",
      "Epoch 7/50\n",
      "512/512 [==============================] - 0s 296us/step - loss: 0.0169 - acc: 0.9980 - val_loss: 0.3970 - val_acc: 0.9609\n",
      "\n",
      "Epoch 00007: val_acc did not improve from 0.96094\n",
      "Epoch 8/50\n",
      "512/512 [==============================] - 0s 290us/step - loss: 0.0175 - acc: 0.9941 - val_loss: 0.3365 - val_acc: 0.9609\n",
      "\n",
      "Epoch 00008: val_acc did not improve from 0.96094\n",
      "Epoch 9/50\n",
      "512/512 [==============================] - 0s 290us/step - loss: 0.0318 - acc: 0.9883 - val_loss: 0.3808 - val_acc: 0.9609\n",
      "\n",
      "Epoch 00009: val_acc did not improve from 0.96094\n",
      "Epoch 10/50\n",
      "512/512 [==============================] - 0s 294us/step - loss: 0.0064 - acc: 1.0000 - val_loss: 0.3576 - val_acc: 0.9609\n",
      "\n",
      "Epoch 00010: val_acc did not improve from 0.96094\n",
      "Epoch 11/50\n",
      "512/512 [==============================] - 0s 293us/step - loss: 0.0070 - acc: 1.0000 - val_loss: 0.4385 - val_acc: 0.9609\n",
      "\n",
      "Epoch 00011: val_acc did not improve from 0.96094\n",
      "Epoch 12/50\n",
      "512/512 [==============================] - 0s 294us/step - loss: 0.0029 - acc: 1.0000 - val_loss: 0.4466 - val_acc: 0.9609\n",
      "\n",
      "Epoch 00012: val_acc did not improve from 0.96094\n",
      "Epoch 13/50\n",
      "512/512 [==============================] - 0s 287us/step - loss: 0.0018 - acc: 1.0000 - val_loss: 0.4486 - val_acc: 0.9609\n",
      "\n",
      "Epoch 00013: val_acc did not improve from 0.96094\n",
      "Epoch 14/50\n",
      "512/512 [==============================] - 0s 287us/step - loss: 0.0018 - acc: 1.0000 - val_loss: 0.4414 - val_acc: 0.9609\n",
      "\n",
      "Epoch 00014: val_acc did not improve from 0.96094\n",
      "Epoch 15/50\n",
      "512/512 [==============================] - 0s 283us/step - loss: 0.0014 - acc: 1.0000 - val_loss: 0.4644 - val_acc: 0.9609\n",
      "\n",
      "Epoch 00015: val_acc did not improve from 0.96094\n",
      "Epoch 16/50\n",
      "512/512 [==============================] - 0s 282us/step - loss: 0.0016 - acc: 1.0000 - val_loss: 0.4641 - val_acc: 0.9609\n",
      "\n",
      "Epoch 00016: val_acc did not improve from 0.96094\n",
      "Epoch 17/50\n",
      "512/512 [==============================] - 0s 275us/step - loss: 9.6882e-04 - acc: 1.0000 - val_loss: 0.4860 - val_acc: 0.9609\n",
      "\n",
      "Epoch 00017: val_acc did not improve from 0.96094\n",
      "Epoch 18/50\n",
      "512/512 [==============================] - 0s 285us/step - loss: 0.0013 - acc: 1.0000 - val_loss: 0.4673 - val_acc: 0.9609\n",
      "\n",
      "Epoch 00018: val_acc did not improve from 0.96094\n",
      "Epoch 19/50\n",
      "512/512 [==============================] - 0s 291us/step - loss: 0.0010 - acc: 1.0000 - val_loss: 0.4884 - val_acc: 0.9609\n",
      "\n",
      "Epoch 00019: val_acc did not improve from 0.96094\n",
      "Epoch 20/50\n",
      "512/512 [==============================] - 0s 286us/step - loss: 7.7002e-04 - acc: 1.0000 - val_loss: 0.4923 - val_acc: 0.9609\n",
      "\n",
      "Epoch 00020: val_acc did not improve from 0.96094\n",
      "Epoch 21/50\n",
      "512/512 [==============================] - 0s 288us/step - loss: 7.8858e-04 - acc: 1.0000 - val_loss: 0.4928 - val_acc: 0.9609\n",
      "\n",
      "Epoch 00021: val_acc did not improve from 0.96094\n",
      "Epoch 22/50\n",
      "512/512 [==============================] - 0s 285us/step - loss: 7.1210e-04 - acc: 1.0000 - val_loss: 0.4955 - val_acc: 0.9609\n",
      "\n",
      "Epoch 00022: val_acc did not improve from 0.96094\n",
      "Epoch 23/50\n",
      "512/512 [==============================] - 0s 299us/step - loss: 6.4521e-04 - acc: 1.0000 - val_loss: 0.4905 - val_acc: 0.9609\n",
      "\n",
      "Epoch 00023: val_acc did not improve from 0.96094\n",
      "Epoch 24/50\n",
      "512/512 [==============================] - 0s 294us/step - loss: 5.1243e-04 - acc: 1.0000 - val_loss: 0.5030 - val_acc: 0.9609\n",
      "\n",
      "Epoch 00024: val_acc did not improve from 0.96094\n",
      "Epoch 25/50\n",
      "512/512 [==============================] - 0s 303us/step - loss: 5.9734e-04 - acc: 1.0000 - val_loss: 0.5159 - val_acc: 0.9609\n",
      "\n",
      "Epoch 00025: val_acc did not improve from 0.96094\n",
      "Epoch 26/50\n",
      "512/512 [==============================] - 0s 306us/step - loss: 6.3904e-04 - acc: 1.0000 - val_loss: 0.5159 - val_acc: 0.9609\n",
      "\n",
      "Epoch 00026: val_acc did not improve from 0.96094\n",
      "Epoch 27/50\n",
      "512/512 [==============================] - 0s 296us/step - loss: 6.7531e-04 - acc: 1.0000 - val_loss: 0.5226 - val_acc: 0.9609\n",
      "\n",
      "Epoch 00027: val_acc did not improve from 0.96094\n",
      "Epoch 28/50\n",
      "512/512 [==============================] - 0s 296us/step - loss: 4.4282e-04 - acc: 1.0000 - val_loss: 0.5197 - val_acc: 0.9609\n",
      "\n",
      "Epoch 00028: val_acc did not improve from 0.96094\n",
      "Epoch 29/50\n",
      "512/512 [==============================] - 0s 303us/step - loss: 5.5098e-04 - acc: 1.0000 - val_loss: 0.5270 - val_acc: 0.9609\n",
      "\n",
      "Epoch 00029: val_acc did not improve from 0.96094\n",
      "Epoch 30/50\n",
      "512/512 [==============================] - 0s 295us/step - loss: 4.7506e-04 - acc: 1.0000 - val_loss: 0.5196 - val_acc: 0.9609\n",
      "\n",
      "Epoch 00030: val_acc did not improve from 0.96094\n",
      "Epoch 31/50\n",
      "512/512 [==============================] - 0s 298us/step - loss: 3.7623e-04 - acc: 1.0000 - val_loss: 0.5257 - val_acc: 0.9609\n",
      "\n",
      "Epoch 00031: val_acc did not improve from 0.96094\n",
      "Epoch 32/50\n",
      "512/512 [==============================] - 0s 306us/step - loss: 4.8958e-04 - acc: 1.0000 - val_loss: 0.5263 - val_acc: 0.9609\n",
      "\n",
      "Epoch 00032: val_acc did not improve from 0.96094\n",
      "Epoch 33/50\n",
      "512/512 [==============================] - 0s 307us/step - loss: 3.6100e-04 - acc: 1.0000 - val_loss: 0.5323 - val_acc: 0.9609\n",
      "\n",
      "Epoch 00033: val_acc did not improve from 0.96094\n",
      "Epoch 34/50\n",
      "512/512 [==============================] - 0s 305us/step - loss: 2.9614e-04 - acc: 1.0000 - val_loss: 0.5339 - val_acc: 0.9609\n",
      "\n",
      "Epoch 00034: val_acc did not improve from 0.96094\n",
      "Epoch 35/50\n",
      "512/512 [==============================] - 0s 314us/step - loss: 3.2578e-04 - acc: 1.0000 - val_loss: 0.5354 - val_acc: 0.9609\n",
      "\n",
      "Epoch 00035: val_acc did not improve from 0.96094\n",
      "Epoch 36/50\n",
      "512/512 [==============================] - 0s 284us/step - loss: 2.8063e-04 - acc: 1.0000 - val_loss: 0.5399 - val_acc: 0.9609\n",
      "\n",
      "Epoch 00036: val_acc did not improve from 0.96094\n",
      "Epoch 37/50\n",
      "512/512 [==============================] - 0s 296us/step - loss: 0.0012 - acc: 1.0000 - val_loss: 0.5495 - val_acc: 0.9609\n",
      "\n",
      "Epoch 00037: val_acc did not improve from 0.96094\n",
      "Epoch 38/50\n",
      "512/512 [==============================] - 0s 293us/step - loss: 6.3488e-04 - acc: 1.0000 - val_loss: 0.5286 - val_acc: 0.9609\n",
      "\n",
      "Epoch 00038: val_acc did not improve from 0.96094\n",
      "Epoch 39/50\n",
      "512/512 [==============================] - 0s 300us/step - loss: 2.7578e-04 - acc: 1.0000 - val_loss: 0.5504 - val_acc: 0.9609\n",
      "\n",
      "Epoch 00039: val_acc did not improve from 0.96094\n",
      "Epoch 40/50\n",
      "512/512 [==============================] - 0s 298us/step - loss: 2.4452e-04 - acc: 1.0000 - val_loss: 0.5470 - val_acc: 0.9609\n",
      "\n",
      "Epoch 00040: val_acc did not improve from 0.96094\n",
      "Epoch 41/50\n",
      "512/512 [==============================] - 0s 302us/step - loss: 2.1795e-04 - acc: 1.0000 - val_loss: 0.5519 - val_acc: 0.9609\n",
      "\n",
      "Epoch 00041: val_acc did not improve from 0.96094\n",
      "Epoch 42/50\n",
      "512/512 [==============================] - 0s 296us/step - loss: 2.3413e-04 - acc: 1.0000 - val_loss: 0.5500 - val_acc: 0.9609\n"
     ]
    },
    {
     "name": "stdout",
     "output_type": "stream",
     "text": [
      "\n",
      "Epoch 00042: val_acc did not improve from 0.96094\n",
      "Epoch 43/50\n",
      "512/512 [==============================] - 0s 293us/step - loss: 2.6669e-04 - acc: 1.0000 - val_loss: 0.5513 - val_acc: 0.9609\n",
      "\n",
      "Epoch 00043: val_acc did not improve from 0.96094\n",
      "Epoch 44/50\n",
      "512/512 [==============================] - 0s 291us/step - loss: 2.0706e-04 - acc: 1.0000 - val_loss: 0.5564 - val_acc: 0.9609\n",
      "\n",
      "Epoch 00044: val_acc did not improve from 0.96094\n",
      "Epoch 45/50\n",
      "512/512 [==============================] - 0s 297us/step - loss: 1.4930e-04 - acc: 1.0000 - val_loss: 0.5514 - val_acc: 0.9609\n",
      "\n",
      "Epoch 00045: val_acc did not improve from 0.96094\n",
      "Epoch 46/50\n",
      "512/512 [==============================] - 0s 305us/step - loss: 1.9702e-04 - acc: 1.0000 - val_loss: 0.5575 - val_acc: 0.9609\n",
      "\n",
      "Epoch 00046: val_acc did not improve from 0.96094\n",
      "Epoch 47/50\n",
      "512/512 [==============================] - 0s 299us/step - loss: 1.7307e-04 - acc: 1.0000 - val_loss: 0.5567 - val_acc: 0.9609\n",
      "\n",
      "Epoch 00047: val_acc did not improve from 0.96094\n",
      "Epoch 48/50\n",
      "512/512 [==============================] - 0s 297us/step - loss: 1.7174e-04 - acc: 1.0000 - val_loss: 0.5614 - val_acc: 0.9609\n",
      "\n",
      "Epoch 00048: val_acc did not improve from 0.96094\n",
      "Epoch 49/50\n",
      "512/512 [==============================] - 0s 301us/step - loss: 1.4340e-04 - acc: 1.0000 - val_loss: 0.5607 - val_acc: 0.9609\n",
      "\n",
      "Epoch 00049: val_acc did not improve from 0.96094\n",
      "Epoch 50/50\n",
      "512/512 [==============================] - 0s 293us/step - loss: 1.2979e-04 - acc: 1.0000 - val_loss: 0.5627 - val_acc: 0.9609\n",
      "\n",
      "Epoch 00050: val_acc did not improve from 0.96094\n"
     ]
    }
   ],
   "source": [
    "train_top_model(train_df, test_df, 50, 16, 'hat','resnet50',None,preprocess_input,target_size=(224,224))"
   ]
  },
  {
   "cell_type": "markdown",
   "metadata": {},
   "source": [
    "### Fine Tune Top Model to improve accuracy"
   ]
  },
  {
   "cell_type": "code",
   "execution_count": 78,
   "metadata": {},
   "outputs": [],
   "source": [
    "def fine_tune_model(train_df, test_df,epoch, batch_size,label, \n",
    "                    model_type,dim, rescale, preprocess_func,print_model = False):\n",
    "    '''\n",
    "    inputs:\n",
    "    train_df, test_df: dataframes returned from save_bottleneck_features functions \n",
    "    epoch: num of epochs in fit \n",
    "    batch_size: same as image generator batch size \n",
    "    label: a string, eyewear, hat, or beard\n",
    "    model_type: resnet50 or vgg16\n",
    "    dim: 224 or 150 \n",
    "    rescale: None resnet50, 1./255 for vgg16\n",
    "    preprocess_func: depends on resnet or vgg16\n",
    "    return model \n",
    "    '''\n",
    "    # build model and freeze top layers\n",
    "    # input_shape: width, height, RGB (from image generator)\n",
    "    if model_type == 'resnet50':\n",
    "        base_model = ResNet50(weights='imagenet',include_top=False, input_shape=(dim,dim,3))\n",
    "        # build top model\n",
    "        top_model = resnet50_model(base_model.output_shape[1:],0.25)\n",
    "    if model_type == 'vgg16':\n",
    "        base_model = VGG16(weights='imagenet',include_top=False, input_shape=(dim,dim,3))\n",
    "        top_model = vgg16_model(base_model.output_shape[1:],0.5)\n",
    "    # load saved weights to fine tune parameters \n",
    "    top_model.load_weights(f'../tuning_data/resnet_data/untracked_resnet50/best_bottleneck_resnet_model_{label}_beta.h5')\n",
    "    # add top model to model\n",
    "    model = Model(inputs=base_model.input, outputs=top_model(base_model.output))\n",
    "    # we will tune last 5 layers of the model: activation49 and fully connected layer \n",
    "    for layer in model.layers[:-5]:\n",
    "        layer.trainable = False\n",
    "    # we can tune the parameters for lr and momentum later to get better results\n",
    "    model.compile(loss='binary_crossentropy',\n",
    "             optimizer=optimizers.SGD(lr=5e-5, momentum = 0.9),\n",
    "             metrics=['accuracy'])\n",
    "    # prepare train generator using data augmentation to battle small sample size \n",
    "    generators = create_generator(train_df,test_df, label,True,16,rescale,\n",
    "                                                    preprocess_func,(dim,dim),\n",
    "                                                    'binary')\n",
    "    train_generator, classweight, test_generator = generators[0], generators[1], generators[2]\n",
    "    \n",
    "    # checkpoint for best weights \n",
    "    filepath=f\"../tuning_data/resnet_data/untracked_resnet50/best_resnet_5_layer_{label}_beta.h5\"\n",
    "    checkpoint = ModelCheckpoint(filepath, monitor='val_acc', verbose=1, save_best_only=True, mode='max')\n",
    "    callbacks_list = [checkpoint]\n",
    "    \n",
    "    # run and fit model \n",
    "    result = model.fit_generator(\n",
    "    train_generator,\n",
    "    steps_per_epoch=train_df.shape[0]//batch_size,\n",
    "    epochs=epoch,\n",
    "    validation_data=test_generator,\n",
    "    validation_steps=test_df.shape[0]//batch_size,\n",
    "    verbose=1,class_weight=list(classweight),\n",
    "    callbacks=callbacks_list\n",
    "    )\n",
    "    \n",
    "    if print_model:\n",
    "        model.summary()\n",
    "    \n",
    "    del model\n",
    "    keras.backend.clear_session()\n",
    "    return result                "
   ]
  },
  {
   "cell_type": "markdown",
   "metadata": {},
   "source": [
    "### save model history "
   ]
  },
  {
   "cell_type": "code",
   "execution_count": 86,
   "metadata": {},
   "outputs": [
    {
     "name": "stdout",
     "output_type": "stream",
     "text": [
      "Found 522 validated image filenames belonging to 2 classes.\n",
      "Found 131 validated image filenames belonging to 2 classes.\n",
      "Epoch 1/50\n",
      "32/32 [==============================] - 8s 258ms/step - loss: 0.2870 - acc: 0.8925 - val_loss: 0.3185 - val_acc: 0.9609\n",
      "\n",
      "Epoch 00001: val_acc improved from -inf to 0.96094, saving model to ../tuning_data/resnet_data/untracked_resnet50/best_resnet_5_layer_hat_beta.h5\n",
      "Epoch 2/50\n",
      "32/32 [==============================] - 8s 245ms/step - loss: 0.2890 - acc: 0.8766 - val_loss: 0.3630 - val_acc: 0.9565\n",
      "\n",
      "Epoch 00002: val_acc did not improve from 0.96094\n",
      "Epoch 3/50\n",
      "32/32 [==============================] - 8s 237ms/step - loss: 0.2630 - acc: 0.8867 - val_loss: 0.2752 - val_acc: 0.9652\n",
      "\n",
      "Epoch 00003: val_acc improved from 0.96094 to 0.96522, saving model to ../tuning_data/resnet_data/untracked_resnet50/best_resnet_5_layer_hat_beta.h5\n",
      "Epoch 4/50\n",
      "32/32 [==============================] - 7s 231ms/step - loss: 0.2370 - acc: 0.9140 - val_loss: 0.2751 - val_acc: 0.9652\n",
      "\n",
      "Epoch 00004: val_acc did not improve from 0.96522\n",
      "Epoch 5/50\n",
      "32/32 [==============================] - 7s 225ms/step - loss: 0.2823 - acc: 0.8704 - val_loss: 0.2851 - val_acc: 0.9652\n",
      "\n",
      "Epoch 00005: val_acc did not improve from 0.96522\n",
      "Epoch 6/50\n",
      "32/32 [==============================] - 7s 227ms/step - loss: 0.2784 - acc: 0.8750 - val_loss: 0.4523 - val_acc: 0.9565\n",
      "\n",
      "Epoch 00006: val_acc did not improve from 0.96522\n",
      "Epoch 7/50\n",
      "32/32 [==============================] - 7s 223ms/step - loss: 0.2391 - acc: 0.8925 - val_loss: 0.4394 - val_acc: 0.9478\n",
      "\n",
      "Epoch 00007: val_acc did not improve from 0.96522\n",
      "Epoch 8/50\n",
      "32/32 [==============================] - 7s 225ms/step - loss: 0.2834 - acc: 0.8789 - val_loss: 0.1192 - val_acc: 0.9826\n",
      "\n",
      "Epoch 00008: val_acc improved from 0.96522 to 0.98261, saving model to ../tuning_data/resnet_data/untracked_resnet50/best_resnet_5_layer_hat_beta.h5\n",
      "Epoch 9/50\n",
      "32/32 [==============================] - 7s 214ms/step - loss: 0.2470 - acc: 0.9004 - val_loss: 0.3727 - val_acc: 0.9565\n",
      "\n",
      "Epoch 00009: val_acc did not improve from 0.98261\n",
      "Epoch 10/50\n",
      "32/32 [==============================] - 7s 228ms/step - loss: 0.2814 - acc: 0.8845 - val_loss: 0.3293 - val_acc: 0.9609\n",
      "\n",
      "Epoch 00010: val_acc did not improve from 0.98261\n",
      "Epoch 11/50\n",
      "32/32 [==============================] - 8s 244ms/step - loss: 0.2595 - acc: 0.8945 - val_loss: 0.2976 - val_acc: 0.9652\n",
      "\n",
      "Epoch 00011: val_acc did not improve from 0.98261\n",
      "Epoch 12/50\n",
      "32/32 [==============================] - 7s 231ms/step - loss: 0.2942 - acc: 0.8902 - val_loss: 0.3561 - val_acc: 0.9652\n",
      "\n",
      "Epoch 00012: val_acc did not improve from 0.98261\n",
      "Epoch 13/50\n",
      "32/32 [==============================] - 7s 212ms/step - loss: 0.2480 - acc: 0.9062 - val_loss: 0.2121 - val_acc: 0.9652\n",
      "\n",
      "Epoch 00013: val_acc did not improve from 0.98261\n",
      "Epoch 14/50\n",
      "32/32 [==============================] - 7s 226ms/step - loss: 0.2790 - acc: 0.8801 - val_loss: 0.5274 - val_acc: 0.9391\n",
      "\n",
      "Epoch 00014: val_acc did not improve from 0.98261\n",
      "Epoch 15/50\n",
      "32/32 [==============================] - 8s 238ms/step - loss: 0.2220 - acc: 0.9062 - val_loss: 0.3712 - val_acc: 0.9652\n",
      "\n",
      "Epoch 00015: val_acc did not improve from 0.98261\n",
      "Epoch 16/50\n",
      "32/32 [==============================] - 7s 218ms/step - loss: 0.2711 - acc: 0.8821 - val_loss: 0.1972 - val_acc: 0.9739\n",
      "\n",
      "Epoch 00016: val_acc did not improve from 0.98261\n",
      "Epoch 17/50\n",
      "32/32 [==============================] - 7s 216ms/step - loss: 0.1947 - acc: 0.9145 - val_loss: 0.3733 - val_acc: 0.9565\n",
      "\n",
      "Epoch 00017: val_acc did not improve from 0.98261\n",
      "Epoch 18/50\n",
      "32/32 [==============================] - 7s 219ms/step - loss: 0.3025 - acc: 0.8789 - val_loss: 0.2800 - val_acc: 0.9652\n",
      "\n",
      "Epoch 00018: val_acc did not improve from 0.98261\n",
      "Epoch 19/50\n",
      "32/32 [==============================] - 7s 229ms/step - loss: 0.2405 - acc: 0.9121 - val_loss: 0.3375 - val_acc: 0.9609\n",
      "\n",
      "Epoch 00019: val_acc did not improve from 0.98261\n",
      "Epoch 20/50\n",
      "32/32 [==============================] - 8s 242ms/step - loss: 0.2317 - acc: 0.9031 - val_loss: 0.2875 - val_acc: 0.9652\n",
      "\n",
      "Epoch 00020: val_acc did not improve from 0.98261\n",
      "Epoch 21/50\n",
      "32/32 [==============================] - 8s 236ms/step - loss: 0.2480 - acc: 0.8930 - val_loss: 0.4628 - val_acc: 0.9478\n",
      "\n",
      "Epoch 00021: val_acc did not improve from 0.98261\n",
      "Epoch 22/50\n",
      "32/32 [==============================] - 7s 207ms/step - loss: 0.2289 - acc: 0.9219 - val_loss: 0.1767 - val_acc: 0.9826\n",
      "\n",
      "Epoch 00022: val_acc did not improve from 0.98261\n",
      "Epoch 23/50\n",
      "32/32 [==============================] - 7s 230ms/step - loss: 0.2816 - acc: 0.8894 - val_loss: 0.4068 - val_acc: 0.9478\n",
      "\n",
      "Epoch 00023: val_acc did not improve from 0.98261\n",
      "Epoch 24/50\n",
      "32/32 [==============================] - 7s 220ms/step - loss: 0.2205 - acc: 0.9160 - val_loss: 0.4299 - val_acc: 0.9565\n",
      "\n",
      "Epoch 00024: val_acc did not improve from 0.98261\n",
      "Epoch 25/50\n",
      "32/32 [==============================] - 7s 232ms/step - loss: 0.2900 - acc: 0.8766 - val_loss: 0.2368 - val_acc: 0.9652\n",
      "\n",
      "Epoch 00025: val_acc did not improve from 0.98261\n",
      "Epoch 26/50\n",
      "32/32 [==============================] - 7s 217ms/step - loss: 0.2407 - acc: 0.8992 - val_loss: 0.2679 - val_acc: 0.9739\n",
      "\n",
      "Epoch 00026: val_acc did not improve from 0.98261\n",
      "Epoch 27/50\n",
      "32/32 [==============================] - 7s 217ms/step - loss: 0.2361 - acc: 0.9087 - val_loss: 0.3671 - val_acc: 0.9565\n",
      "\n",
      "Epoch 00027: val_acc did not improve from 0.98261\n",
      "Epoch 28/50\n",
      "32/32 [==============================] - 8s 241ms/step - loss: 0.2358 - acc: 0.8942 - val_loss: 0.3350 - val_acc: 0.9609\n",
      "\n",
      "Epoch 00028: val_acc did not improve from 0.98261\n",
      "Epoch 29/50\n",
      "32/32 [==============================] - 7s 228ms/step - loss: 0.2515 - acc: 0.8906 - val_loss: 0.2852 - val_acc: 0.9652\n",
      "\n",
      "Epoch 00029: val_acc did not improve from 0.98261\n",
      "Epoch 30/50\n",
      "32/32 [==============================] - 8s 236ms/step - loss: 0.2204 - acc: 0.9043 - val_loss: 0.2890 - val_acc: 0.9652\n",
      "\n",
      "Epoch 00030: val_acc did not improve from 0.98261\n",
      "Epoch 31/50\n",
      "32/32 [==============================] - 8s 237ms/step - loss: 0.2685 - acc: 0.9118 - val_loss: 0.3853 - val_acc: 0.9565\n",
      "\n",
      "Epoch 00031: val_acc did not improve from 0.98261\n",
      "Epoch 32/50\n",
      "32/32 [==============================] - 7s 209ms/step - loss: 0.2405 - acc: 0.9004 - val_loss: 0.2628 - val_acc: 0.9739\n",
      "\n",
      "Epoch 00032: val_acc did not improve from 0.98261\n",
      "Epoch 33/50\n",
      "32/32 [==============================] - 7s 227ms/step - loss: 0.2716 - acc: 0.8855 - val_loss: 0.3693 - val_acc: 0.9565\n",
      "\n",
      "Epoch 00033: val_acc did not improve from 0.98261\n",
      "Epoch 34/50\n",
      "32/32 [==============================] - 7s 228ms/step - loss: 0.2416 - acc: 0.9059 - val_loss: 0.4126 - val_acc: 0.9478\n",
      "\n",
      "Epoch 00034: val_acc did not improve from 0.98261\n",
      "Epoch 35/50\n",
      "32/32 [==============================] - 7s 230ms/step - loss: 0.2419 - acc: 0.9059 - val_loss: 0.4313 - val_acc: 0.9565\n",
      "\n",
      "Epoch 00035: val_acc did not improve from 0.98261\n",
      "Epoch 36/50\n",
      "32/32 [==============================] - 7s 228ms/step - loss: 0.2667 - acc: 0.9020 - val_loss: 0.1940 - val_acc: 0.9739\n",
      "\n",
      "Epoch 00036: val_acc did not improve from 0.98261\n",
      "Epoch 37/50\n",
      "32/32 [==============================] - 7s 229ms/step - loss: 0.2130 - acc: 0.9129 - val_loss: 0.2690 - val_acc: 0.9688\n",
      "\n",
      "Epoch 00037: val_acc did not improve from 0.98261\n",
      "Epoch 38/50\n",
      "32/32 [==============================] - 8s 251ms/step - loss: 0.2492 - acc: 0.9023 - val_loss: 0.3563 - val_acc: 0.9565\n",
      "\n",
      "Epoch 00038: val_acc did not improve from 0.98261\n",
      "Epoch 39/50\n",
      "32/32 [==============================] - 7s 222ms/step - loss: 0.2260 - acc: 0.9070 - val_loss: 0.3574 - val_acc: 0.9652\n",
      "\n",
      "Epoch 00039: val_acc did not improve from 0.98261\n",
      "Epoch 40/50\n",
      "32/32 [==============================] - 7s 224ms/step - loss: 0.2404 - acc: 0.9043 - val_loss: 0.3010 - val_acc: 0.9565\n",
      "\n",
      "Epoch 00040: val_acc did not improve from 0.98261\n",
      "Epoch 41/50\n",
      "32/32 [==============================] - 7s 217ms/step - loss: 0.2047 - acc: 0.9227 - val_loss: 0.3864 - val_acc: 0.9565\n",
      "\n",
      "Epoch 00041: val_acc did not improve from 0.98261\n",
      "Epoch 42/50\n",
      "32/32 [==============================] - 7s 214ms/step - loss: 0.2513 - acc: 0.8973 - val_loss: 0.2052 - val_acc: 0.9739\n",
      "\n",
      "Epoch 00042: val_acc did not improve from 0.98261\n",
      "Epoch 43/50\n",
      "32/32 [==============================] - 7s 233ms/step - loss: 0.2299 - acc: 0.9196 - val_loss: 0.5085 - val_acc: 0.9478\n",
      "\n",
      "Epoch 00043: val_acc did not improve from 0.98261\n",
      "Epoch 44/50\n",
      "32/32 [==============================] - 7s 228ms/step - loss: 0.2438 - acc: 0.8984 - val_loss: 0.3091 - val_acc: 0.9652\n",
      "\n",
      "Epoch 00044: val_acc did not improve from 0.98261\n",
      "Epoch 45/50\n",
      "32/32 [==============================] - 7s 225ms/step - loss: 0.2362 - acc: 0.9004 - val_loss: 0.2840 - val_acc: 0.9652\n",
      "\n",
      "Epoch 00045: val_acc did not improve from 0.98261\n",
      "Epoch 46/50\n",
      "32/32 [==============================] - 7s 231ms/step - loss: 0.2217 - acc: 0.9043 - val_loss: 0.3408 - val_acc: 0.9609\n",
      "\n",
      "Epoch 00046: val_acc did not improve from 0.98261\n",
      "Epoch 47/50\n",
      "32/32 [==============================] - 8s 248ms/step - loss: 0.1796 - acc: 0.9453 - val_loss: 0.2912 - val_acc: 0.9652\n",
      "\n",
      "Epoch 00047: val_acc did not improve from 0.98261\n",
      "Epoch 48/50\n",
      "32/32 [==============================] - 7s 210ms/step - loss: 0.2043 - acc: 0.9156 - val_loss: 0.3598 - val_acc: 0.9652\n",
      "\n",
      "Epoch 00048: val_acc did not improve from 0.98261\n",
      "Epoch 49/50\n",
      "32/32 [==============================] - 7s 228ms/step - loss: 0.2104 - acc: 0.9140 - val_loss: 0.2280 - val_acc: 0.9652\n",
      "\n",
      "Epoch 00049: val_acc did not improve from 0.98261\n",
      "Epoch 50/50\n",
      "32/32 [==============================] - 7s 222ms/step - loss: 0.2363 - acc: 0.9140 - val_loss: 0.2677 - val_acc: 0.9739\n",
      "\n",
      "Epoch 00050: val_acc did not improve from 0.98261\n"
     ]
    }
   ],
   "source": [
    "model_history = fine_tune_model(train_df,test_df,50,16,'hat','resnet50',\n",
    "                                224,None,preprocess_input)"
   ]
  },
  {
   "cell_type": "code",
   "execution_count": 87,
   "metadata": {},
   "outputs": [
    {
     "name": "stdout",
     "output_type": "stream",
     "text": [
      "highest test accuracy: 0.9826086956521739\n",
      "------------------\n",
      "highest train accuracy: 0.9446640316205533\n"
     ]
    }
   ],
   "source": [
    "highest_val_acc, highest_train_acc = max(model_history.history['val_acc']), max(model_history.history['acc'])\n",
    "print(f'highest test accuracy: {highest_val_acc}')\n",
    "print('------------------')\n",
    "print(f'highest train accuracy: {highest_train_acc}')"
   ]
  },
  {
   "cell_type": "code",
   "execution_count": 88,
   "metadata": {},
   "outputs": [
    {
     "name": "stdout",
     "output_type": "stream",
     "text": [
      "lowest test loss: 0.11923447184912536\n",
      "------------------\n",
      "lowest train loss: 0.1797588865158586\n"
     ]
    }
   ],
   "source": [
    "lowest_val_loss, lowest_train_loss = min(model_history.history['val_loss']), min(model_history.history['loss'])\n",
    "print(f'lowest test loss: {lowest_val_loss}')\n",
    "print('------------------')\n",
    "print(f'lowest train loss: {lowest_train_loss}')"
   ]
  },
  {
   "cell_type": "code",
   "execution_count": 89,
   "metadata": {},
   "outputs": [
    {
     "data": {
      "image/png": "[encoded data removed]",
      "text/plain": [
       "<Figure size 432x288 with 1 Axes>"
      ]
     },
     "metadata": {
      "needs_background": "light"
     },
     "output_type": "display_data"
    }
   ],
   "source": [
    "plt.plot(model_history.history['val_acc'], color = 'red', label = 'test')\n",
    "plt.plot(model_history.history['acc'], color = 'blue', label = 'train')\n",
    "plt.title('accuracy')\n",
    "plt.ylabel('accuracy')\n",
    "plt.legend()\n",
    "plt.show()"
   ]
  },
  {
   "cell_type": "code",
   "execution_count": 90,
   "metadata": {
    "scrolled": true
   },
   "outputs": [
    {
     "data": {
      "image/png": "[encoded data removed]",
      "text/plain": [
       "<Figure size 432x288 with 1 Axes>"
      ]
     },
     "metadata": {
      "needs_background": "light"
     },
     "output_type": "display_data"
    }
   ],
   "source": [
    "plt.plot(model_history.history['val_loss'], color = 'red', label = 'test')\n",
    "plt.plot(model_history.history['loss'], color = 'blue', label = 'train')\n",
    "plt.title('loss')\n",
    "plt.ylabel('loss')\n",
    "plt.legend()\n",
    "plt.show()"
   ]
  },
  {
   "cell_type": "markdown",
   "metadata": {},
   "source": [
    "### Save model "
   ]
  },
  {
   "cell_type": "code",
   "execution_count": null,
   "metadata": {},
   "outputs": [],
   "source": [
    "# # save model artchitecture \n",
    "# resnet50_model_8_up = model_history.model\n",
    "# resnet50_model_8_up_json = resnet50_model_8_up.to_json()"
   ]
  },
  {
   "cell_type": "code",
   "execution_count": null,
   "metadata": {},
   "outputs": [],
   "source": [
    "# # serialize model to JSON\n",
    "# with open(\"../tuning_data/resnet_data/resnet50_model_8_up.json\", \"w\") as json_file:\n",
    "#     json_file.write(resnet50_model_8_up_json)"
   ]
  },
  {
   "cell_type": "markdown",
   "metadata": {},
   "source": [
    "### Testing model"
   ]
  },
  {
   "cell_type": "code",
   "execution_count": 26,
   "metadata": {},
   "outputs": [],
   "source": [
    "# load json and create model\n",
    "def model_testing(df, model_path, weight_path, label,target_size,shuffle = False,\n",
    "                 batch_size = 32, rescale=None,preprocess_func=preprocess_input,\n",
    "                 class_mode ='binary', only_testing = True, old =False):\n",
    "    '''\n",
    "    df: the entire picture df \n",
    "    model_path: json model path\n",
    "    weight_path: path for weights \n",
    "    label: eyewear, hat, or beard\n",
    "    '''\n",
    "    # check the whole dataframe\n",
    "    sub_set = df[['pic_id',label]] \n",
    "    json_file = open(model_path, 'r')\n",
    "    loaded_model_json = json_file.read()\n",
    "    json_file.close()\n",
    "    loaded_model = model_from_json(loaded_model_json)\n",
    "    # load model weight yewear_decay_\n",
    "    loaded_model.load_weights(weight_path)\n",
    "    # test test data\n",
    "    data_generator= create_generator(None, df,label,shuffle,batch_size,\n",
    "                    rescale, preprocess_func, target_size,\n",
    "                    class_mode, only_testing = only_testing)\n",
    "    data_generator=data_generator[0]\n",
    "    labels = df[label].map({'1':1, '0':0})\n",
    "    \n",
    "    loaded_model.compile(loss='binary_crossentropy',\n",
    "             optimizer=optimizers.SGD(),\n",
    "             metrics=['accuracy']\n",
    "                        )\n",
    "    y_pred = np.around(loaded_model.predict_generator(data_generator, workers=8))\n",
    "    if old:\n",
    "        y_pred = [1-x for x in y_pred] # for old model \n",
    "    fpr, tpr, thresholds = roc_curve(labels, y_pred)\n",
    "    area = roc_auc_score(labels, y_pred)\n",
    "    plt.title('Receiver Operating Characteristic')\n",
    "    plt.plot(fpr, tpr, 'b', label = 'AUC = %0.2f' % area)\n",
    "    plt.legend(loc = 'lower right')\n",
    "    plt.plot([0, 1], [0, 1],'r--')\n",
    "    plt.xlim([0, 1])\n",
    "    plt.ylim([0, 1])\n",
    "    plt.ylabel('True Positive Rate')\n",
    "    plt.xlabel('False Positive Rate')\n",
    "    plt.show()\n",
    "    print(confusion_matrix(labels, y_pred))\n",
    "    print(classification_report(labels, y_pred))    "
   ]
  },
  {
   "cell_type": "markdown",
   "metadata": {},
   "source": [
    "### Best Resnet50 Eyewear"
   ]
  },
  {
   "cell_type": "code",
   "execution_count": 67,
   "metadata": {
    "scrolled": true
   },
   "outputs": [
    {
     "name": "stdout",
     "output_type": "stream",
     "text": [
      "Found 653 validated image filenames belonging to 2 classes.\n"
     ]
    },
    {
     "data": {
      "image/png": "[encoded data removed]",
      "text/plain": [
       "<Figure size 432x288 with 1 Axes>"
      ]
     },
     "metadata": {
      "needs_background": "light"
     },
     "output_type": "display_data"
    },
    {
     "name": "stdout",
     "output_type": "stream",
     "text": [
      "[[293  23]\n",
      " [  4 333]]\n",
      "              precision    recall  f1-score   support\n",
      "\n",
      "           0       0.99      0.93      0.96       316\n",
      "           1       0.94      0.99      0.96       337\n",
      "\n",
      "    accuracy                           0.96       653\n",
      "   macro avg       0.96      0.96      0.96       653\n",
      "weighted avg       0.96      0.96      0.96       653\n",
      "\n"
     ]
    }
   ],
   "source": [
    "model_testing(df=df,model_path='../tuning_data/resnet_data/resnet50_model_5_up.json',\n",
    "             weight_path='../tuning_data/resnet_data/untracked_resnet50/best_resnet50_model_eyewear.h5',\n",
    "              label='eyewear',target_size=(224,224), old = False)"
   ]
  },
  {
   "cell_type": "markdown",
   "metadata": {},
   "source": [
    "### Best VGG model for eyewear"
   ]
  },
  {
   "cell_type": "code",
   "execution_count": 25,
   "metadata": {
    "scrolled": true
   },
   "outputs": [
    {
     "name": "stdout",
     "output_type": "stream",
     "text": [
      "Found 653 validated image filenames belonging to 2 classes.\n"
     ]
    },
    {
     "data": {
      "image/png": "[encoded data removed]",
      "text/plain": [
       "<Figure size 432x288 with 1 Axes>"
      ]
     },
     "metadata": {
      "needs_background": "light"
     },
     "output_type": "display_data"
    },
    {
     "name": "stdout",
     "output_type": "stream",
     "text": [
      "[[283  33]\n",
      " [  3 334]]\n",
      "              precision    recall  f1-score   support\n",
      "\n",
      "           0       0.99      0.90      0.94       316\n",
      "           1       0.91      0.99      0.95       337\n",
      "\n",
      "    accuracy                           0.94       653\n",
      "   macro avg       0.95      0.94      0.94       653\n",
      "weighted avg       0.95      0.94      0.94       653\n",
      "\n"
     ]
    }
   ],
   "source": [
    "model_testing(df,'../tuning_data/VGG_16_tuning/vgg_model.json', \n",
    "              '../tuning_data/VGG_16_tuning/best_vgg16_model_eyewear.h5',\n",
    "              'eyewear',(150,150), old = False)"
   ]
  },
  {
   "cell_type": "markdown",
   "metadata": {},
   "source": [
    "### Best resnethat"
   ]
  },
  {
   "cell_type": "code",
   "execution_count": 92,
   "metadata": {},
   "outputs": [
    {
     "name": "stdout",
     "output_type": "stream",
     "text": [
      "Found 653 validated image filenames belonging to 2 classes.\n"
     ]
    },
    {
     "data": {
      "image/png": "[encoded data removed]",
      "text/plain": [
       "<Figure size 432x288 with 1 Axes>"
      ]
     },
     "metadata": {
      "needs_background": "light"
     },
     "output_type": "display_data"
    },
    {
     "name": "stdout",
     "output_type": "stream",
     "text": [
      "[[395   3]\n",
      " [ 36 219]]\n",
      "              precision    recall  f1-score   support\n",
      "\n",
      "           0       0.92      0.99      0.95       398\n",
      "           1       0.99      0.86      0.92       255\n",
      "\n",
      "    accuracy                           0.94       653\n",
      "   macro avg       0.95      0.93      0.94       653\n",
      "weighted avg       0.94      0.94      0.94       653\n",
      "\n"
     ]
    }
   ],
   "source": [
    "model_testing(df=df,model_path='../tuning_data/resnet_data/resnet50_model_5_up.json',\n",
    "             weight_path='../tuning_data/resnet_data/untracked_resnet50/best_resnet50_model_hat.h5',\n",
    "              label='hat', target_size=(224,224),old = False)"
   ]
  },
  {
   "cell_type": "markdown",
   "metadata": {},
   "source": [
    "### Best VggModelforhat"
   ]
  },
  {
   "cell_type": "code",
   "execution_count": 24,
   "metadata": {
    "scrolled": true
   },
   "outputs": [
    {
     "name": "stdout",
     "output_type": "stream",
     "text": [
      "Found 653 validated image filenames belonging to 2 classes.\n"
     ]
    },
    {
     "data": {
      "image/png": "[encoded data removed]",
      "text/plain": [
       "<Figure size 432x288 with 1 Axes>"
      ]
     },
     "metadata": {
      "needs_background": "light"
     },
     "output_type": "display_data"
    },
    {
     "name": "stdout",
     "output_type": "stream",
     "text": [
      "[[384  14]\n",
      " [ 23 232]]\n",
      "              precision    recall  f1-score   support\n",
      "\n",
      "           0       0.94      0.96      0.95       398\n",
      "           1       0.94      0.91      0.93       255\n",
      "\n",
      "    accuracy                           0.94       653\n",
      "   macro avg       0.94      0.94      0.94       653\n",
      "weighted avg       0.94      0.94      0.94       653\n",
      "\n"
     ]
    }
   ],
   "source": [
    "model_testing(df,'../tuning_data/VGG_16_tuning/vgg_model.json', \n",
    "              '../tuning_data/VGG_16_tuning/best_vgg16_model_hat.h5',\n",
    "              'hat',(150,150),old = False)\n",
    "# chosen as best hat model for vgg16"
   ]
  },
  {
   "cell_type": "markdown",
   "metadata": {},
   "source": [
    "### Best resnet50 beard model"
   ]
  },
  {
   "cell_type": "code",
   "execution_count": 66,
   "metadata": {},
   "outputs": [
    {
     "name": "stderr",
     "output_type": "stream",
     "text": [
      "W0905 23:06:05.504297 140427215234880 deprecation_wrapper.py:119] From /home/mindy/anaconda3/lib/python3.7/site-packages/keras/backend/tensorflow_backend.py:2041: The name tf.nn.fused_batch_norm is deprecated. Please use tf.compat.v1.nn.fused_batch_norm instead.\n",
      "\n"
     ]
    },
    {
     "name": "stdout",
     "output_type": "stream",
     "text": [
      "Found 653 validated image filenames belonging to 2 classes.\n"
     ]
    },
    {
     "data": {
      "image/png": "[encoded data removed]",
      "text/plain": [
       "<Figure size 432x288 with 1 Axes>"
      ]
     },
     "metadata": {
      "needs_background": "light"
     },
     "output_type": "display_data"
    },
    {
     "name": "stdout",
     "output_type": "stream",
     "text": [
      "[[402  24]\n",
      " [ 10 217]]\n",
      "              precision    recall  f1-score   support\n",
      "\n",
      "           0       0.98      0.94      0.96       426\n",
      "           1       0.90      0.96      0.93       227\n",
      "\n",
      "    accuracy                           0.95       653\n",
      "   macro avg       0.94      0.95      0.94       653\n",
      "weighted avg       0.95      0.95      0.95       653\n",
      "\n"
     ]
    }
   ],
   "source": [
    "model_testing(df=df,model_path='../tuning_data/resnet_data/resnet50_model_5_up.json',\n",
    "             weight_path='../tuning_data/resnet_data/untracked_resnet50/best_resnet50_model_beard.h5',\n",
    "              label='beard', target_size = (224,224), old = False)"
   ]
  },
  {
   "cell_type": "markdown",
   "metadata": {},
   "source": [
    "### best VGG beard model:"
   ]
  },
  {
   "cell_type": "code",
   "execution_count": 41,
   "metadata": {},
   "outputs": [
    {
     "name": "stdout",
     "output_type": "stream",
     "text": [
      "Found 653 validated image filenames belonging to 2 classes.\n"
     ]
    },
    {
     "data": {
      "image/png": "[encoded data removed]",
      "text/plain": [
       "<Figure size 432x288 with 1 Axes>"
      ]
     },
     "metadata": {
      "needs_background": "light"
     },
     "output_type": "display_data"
    },
    {
     "name": "stdout",
     "output_type": "stream",
     "text": [
      "[[403  23]\n",
      " [ 38 189]]\n",
      "              precision    recall  f1-score   support\n",
      "\n",
      "           0       0.91      0.95      0.93       426\n",
      "           1       0.89      0.83      0.86       227\n",
      "\n",
      "    accuracy                           0.91       653\n",
      "   macro avg       0.90      0.89      0.90       653\n",
      "weighted avg       0.91      0.91      0.91       653\n",
      "\n"
     ]
    }
   ],
   "source": [
    "model_testing(df,'../tuning_data/VGG_16_tuning/vgg_model.json', \n",
    "              '../tuning_data/VGG_16_tuning/best_vgg_model_beard.h5',\n",
    "              'beard',(150,150), old = True)\n",
    "# best model (old model)"
   ]
  }
 ],
 "metadata": {
  "kernelspec": {
   "display_name": "Python 3",
   "language": "python",
   "name": "python3"
  },
  "language_info": {
   "codemirror_mode": {
    "name": "ipython",
    "version": 3
   },
   "file_extension": ".py",
   "mimetype": "text/x-python",
   "name": "python",
   "nbconvert_exporter": "python",
   "pygments_lexer": "ipython3",
   "version": "3.7.1"
  }
 },
 "nbformat": 4,
 "nbformat_minor": 2
}
