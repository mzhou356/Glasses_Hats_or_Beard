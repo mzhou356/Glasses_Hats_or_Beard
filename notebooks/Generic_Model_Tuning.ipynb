{
 "cells": [
  {
   "cell_type": "markdown",
   "metadata": {},
   "source": [
    "## Transfer Learning Tuning:\n",
    "  * Use Resnet50 to reduce model size and improve accuracy \n",
    "      * see [base model info comparison](https://medium.com/@sidereal/cnns-architectures-lenet-alexnet-vgg-googlenet-resnet-and-more-666091488df5)\n",
    "      * [resnet50 blog](https://towardsdatascience.com/understanding-and-coding-a-resnet-in-keras-446d7ff84d33)\n",
    "     \n",
    "  * base_model: use RESNET50 and freeze at bottleneck layer (stop right before 2D AVERAGE POOL) \n",
    "  * top_model: tune dense layers (parameters are inspired by a few sources)\n",
    "     * [source1](https://www.kaggle.com/suniliitb96/tutorial-keras-transfer-learning-with-resnet50)\n",
    "     * [source2](https://www.kaggle.com/pmigdal/transfer-learning-with-resnet-50-in-keras)\n",
    "     * [source3](https://towardsdatascience.com/transfer-learning-for-image-classification-using-keras-c47ccf09c8c8)\n",
    "\n",
    "\n",
    "\n",
    "  \n",
    "---\n",
    "#### This cell is required in order to use GPU for running the model "
   ]
  },
  {
   "cell_type": "code",
   "execution_count": 1,
   "metadata": {},
   "outputs": [
    {
     "name": "stderr",
     "output_type": "stream",
     "text": [
      "Using TensorFlow backend.\n",
      "WARNING: Logging before flag parsing goes to stderr.\n",
      "W0904 22:15:01.711015 140310680033088 deprecation_wrapper.py:119] From /home/mindy/anaconda3/lib/python3.7/site-packages/keras/backend/tensorflow_backend.py:190: The name tf.get_default_session is deprecated. Please use tf.compat.v1.get_default_session instead.\n",
      "\n",
      "W0904 22:15:01.711992 140310680033088 deprecation_wrapper.py:119] From /home/mindy/anaconda3/lib/python3.7/site-packages/keras/backend/tensorflow_backend.py:207: The name tf.global_variables is deprecated. Please use tf.compat.v1.global_variables instead.\n",
      "\n"
     ]
    }
   ],
   "source": [
    "import warnings\n",
    "warnings.filterwarnings('ignore')\n",
    "import tensorflow as tf\n",
    "import keras\n",
    "from keras.backend.tensorflow_backend import set_session\n",
    "config = tf.ConfigProto()\n",
    "config.gpu_options.allow_growth = True  # dynamically grow the memory used on the GPU\n",
    "config.log_device_placement = True  # to log device placement (on which device the operation ran)\n",
    "                                    # (nothing gets printed in Jupyter, only if you run it standalone)\n",
    "sess = tf.Session(config=config)\n",
    "set_session(sess)  # set this TensorFlow session as the default session for Keras\n",
    "keras.backend.get_session().run(tf.global_variables_initializer())  "
   ]
  },
  {
   "cell_type": "markdown",
   "metadata": {},
   "source": [
    "---\n",
    "#### Import necessary libraries"
   ]
  },
  {
   "cell_type": "code",
   "execution_count": 2,
   "metadata": {},
   "outputs": [],
   "source": [
    "from sklearn.metrics import confusion_matrix, classification_report, roc_curve, roc_auc_score\n",
    "from sklearn.model_selection import train_test_split\n",
    "from sklearn.utils import class_weight\n",
    "from keras.callbacks import ModelCheckpoint\n",
    "from keras import optimizers\n",
    "from keras.applications.resnet50 import ResNet50, preprocess_input\n",
    "from keras.layers import Dropout, Flatten, Dense, GlobalAveragePooling2D\n",
    "from keras.models import Sequential, Model, model_from_json\n",
    "from keras_preprocessing.image import ImageDataGenerator\n",
    "import pandas as pd\n",
    "import numpy as np\n",
    "import matplotlib.pyplot as plt\n",
    "%matplotlib inline"
   ]
  },
  {
   "cell_type": "code",
   "execution_count": 6,
   "metadata": {},
   "outputs": [],
   "source": [
    "#  import total dataframe\n",
    "\n",
    "df = pd.read_pickle('../pickle_files/pic_df.pkl')"
   ]
  },
  {
   "cell_type": "code",
   "execution_count": 8,
   "metadata": {},
   "outputs": [],
   "source": [
    "# subset a dataframe \n",
    "def create_test_train(df,label):\n",
    "    '''\n",
    "    df: dateframe of pic_ids \n",
    "    label: eyewear,hat, or beard, a string\n",
    "    return: test and train df\n",
    "    '''\n",
    "    sub_set = df[['pic_id',label]]  # subset the label dataframe \n",
    "    X_train, X_test, y_train, y_test = train_test_split(sub_set['pic_id'], sub_set[label],\n",
    "                                                        stratify = sub_set[label],\n",
    "                                                        test_size = 0.2)\n",
    "    df_train = pd.concat([X_train,y_train], axis=1)\n",
    "    df_test = pd.concat([X_test,y_test], axis=1)\n",
    "    return df_train, df_test\n",
    "    "
   ]
  },
  {
   "cell_type": "code",
   "execution_count": 24,
   "metadata": {},
   "outputs": [],
   "source": [
    "def create_generator(train_df, test_df,label,shuffle,batch_size,\n",
    "                    rescale, preprocess_func, target_size,\n",
    "                    class_mode, only_testing = False):\n",
    "    '''\n",
    "    train_df, test_df: dataframe for train and test \n",
    "    label: eyewear,hat, or beard, a string\n",
    "    shuffle: weather to shuffle or not based upon feature extractor or not \n",
    "    batch_size: how many pictures per batch\n",
    "    preprocess_func: vgg16 preprocess or ResNet50\n",
    "    rescale: 1./255 or None\n",
    "    target_size: (224,224) or (150,150)\n",
    "    class_mode: none or binary \n",
    "    return:\n",
    "    train generator and test generator \n",
    "    '''\n",
    "    generators =[]\n",
    "    if not only_testing:\n",
    "        traingen = ImageDataGenerator(\n",
    "            rescale = rescale,\n",
    "            zoom_range= [0.8,1.7],\n",
    "            shear_range=0.2,\n",
    "            brightness_range=[0.5,1.5],\n",
    "            rotation_range = 40,\n",
    "            width_shift_range=0.2,\n",
    "            height_shift_range=0.2,\n",
    "            horizontal_flip=True,\n",
    "            preprocessing_function=preprocess_func)\n",
    "        \n",
    "        train_generator = traingen.flow_from_dataframe(\n",
    "            dataframe=train_df,\n",
    "            directory='../data/pics',\n",
    "            x_col='pic_id',\n",
    "            y_col=label,\n",
    "            batch_size=batch_size,\n",
    "            shuffle = shuffle,\n",
    "            target_size=target_size,\n",
    "            class_mode = class_mode)\n",
    "        generators.append(train_generator)\n",
    "        if class_mode:\n",
    "        # create classweights for train \n",
    "            classweights = class_weight.compute_class_weight(\n",
    "                'balanced',np.unique(train_generator.classes),train_generator.classes)\n",
    "            generators.append(classweights)\n",
    "    \n",
    "    testgen = ImageDataGenerator(\n",
    "        rescale = rescale,\n",
    "        preprocessing_function=preprocess_func)\n",
    "    \n",
    "    test_generator = testgen.flow_from_dataframe(\n",
    "        dataframe=test_df,\n",
    "        directory='../data/pics',\n",
    "        x_col='pic_id',\n",
    "        y_col=label,\n",
    "        batch_size=batch_size,\n",
    "        shuffle=shuffle,\n",
    "        target_size=target_size,\n",
    "        class_mode=class_mode)\n",
    "    generators.append(test_generator)\n",
    "    \n",
    "    return generators"
   ]
  },
  {
   "cell_type": "code",
   "execution_count": 11,
   "metadata": {},
   "outputs": [],
   "source": [
    "train_df, test_df = create_test_train(df,'beard')"
   ]
  },
  {
   "cell_type": "markdown",
   "metadata": {},
   "source": [
    "#### Get bottleneck features to tune top models"
   ]
  },
  {
   "cell_type": "code",
   "execution_count": 27,
   "metadata": {},
   "outputs": [],
   "source": [
    "def save_bottleneck_features(df, label, batch_size, model_type, preprocess_func, rescale,\n",
    "                            shuffle,target_size,class_mode):\n",
    "    '''\n",
    "    inputs:\n",
    "    df: dataframe for all eyewear, hat, and beard \n",
    "    label: a string, eyewear, hat, or beard\n",
    "    batch_size: process images in batches\n",
    "    model_type: ResNet50 or VGG16\n",
    "    shuffle: weather to shuffle or not based upon feature extractor or not \n",
    "    preprocess_func: vgg16 preprocess or ResNet50\n",
    "    rescale: 1./255 or None\n",
    "    target_size: (224,224) or (150,150)\n",
    "    class_mode: none or binary \n",
    "    outputs:\n",
    "    saves bottleneck features inside folder tuning_data as npy file\n",
    "    '''\n",
    "    # intialize the model, vgg16 or ResNet50 \n",
    "    # make sure not to train the top layers \n",
    "    base_model = model_type(weights = 'imagenet',include_top = False)\n",
    "    # generate test_train df\n",
    "    train_df, test_df = create_test_train(df,label)\n",
    "    # create train_generator and test_generator to get bottleneck inputs for train and test df \n",
    "    # make sure shuffle is False so we know the label follows the sequence of the dataframe \n",
    "    # so we can tune top_model \n",
    "    generators = create_generator(train_df=train_df,\n",
    "                                                   test_df=test_df,\n",
    "                                                   label=label,\n",
    "                                                   shuffle=shuffle,\n",
    "                                                   rescale=rescale,\n",
    "                                                   preprocess_func=preprocess_input,\n",
    "                                                   batch_size=16,\n",
    "                                                   target_size=target_size,\n",
    "                                                   class_mode=class_mode)  \n",
    "    train_generator, test_generator = generators[0],generators[1]\n",
    "    \n",
    "    # get features saved as .npy in tunign_data folder \n",
    "    bottleneck_features_train = base_model.predict_generator(\n",
    "        train_generator, train_df.shape[0]//batch_size)\n",
    "    np.save(open(f'../tuning_data/resnet_data/untracked_resnet50/bottleneck_features_train_{label}_resnet50_beta.npy','wb'),\n",
    "           bottleneck_features_train)\n",
    "    \n",
    "    bottleneck_features_test = base_model.predict_generator(\n",
    "        test_generator, test_df.shape[0]//batch_size)\n",
    "    np.save(open(f'../tuning_data/resnet_data/untracked_resnet50/bottleneck_features_test_{label}_resnet50_beta.npy','wb'),\n",
    "           bottleneck_features_test)\n",
    "    return train_df, test_df"
   ]
  },
  {
   "cell_type": "markdown",
   "metadata": {},
   "source": [
    "#### Save bottleneck_features"
   ]
  },
  {
   "cell_type": "code",
   "execution_count": 28,
   "metadata": {
    "scrolled": false
   },
   "outputs": [
    {
     "name": "stdout",
     "output_type": "stream",
     "text": [
      "Found 522 validated image filenames.\n",
      "Found 131 validated image filenames.\n"
     ]
    }
   ],
   "source": [
    "train_df, test_df = save_bottleneck_features(df,'beard',16,ResNet50,preprocess_input,\n",
    "                         None,False,(224,224),None)"
   ]
  },
  {
   "cell_type": "code",
   "execution_count": 29,
   "metadata": {},
   "outputs": [],
   "source": [
    "def resnet50_model(input_shape, dropout):\n",
    "    '''\n",
    "    input_shape: input_shape for pooling layer \n",
    "    dropout:percentage for Dropout layer \n",
    "    optimizer: optimizer for model compiles \n",
    "    returns resnet50 model\n",
    "    '''\n",
    "    model = Sequential()\n",
    "    model.add(GlobalAveragePooling2D(input_shape=input_shape))\n",
    "    model.add(Dense(512,activation='relu'))\n",
    "    model.add(Dropout(dropout))\n",
    "    model.add(Dense(1,activation='sigmoid'))\n",
    "    return model"
   ]
  },
  {
   "cell_type": "code",
   "execution_count": 30,
   "metadata": {},
   "outputs": [],
   "source": [
    "def vgg16_model(input_shape,dropout):\n",
    "    '''\n",
    "    input_shape: input_shape for pooling layer \n",
    "    dropout:percentage for Dropout layer \n",
    "    optimizer: optimizer for model compiles \n",
    "    returns vgg16 model\n",
    "    '''\n",
    "     # build top model\n",
    "    model = Sequential()\n",
    "    model.add(Flatten(input_shape=input_shape))\n",
    "    model.add(Dense(256, activation='relu'))\n",
    "    model.add(Dropout(dropout))\n",
    "    model.add(Dense(1, activation='sigmoid'))\n",
    "\n",
    "    return model    "
   ]
  },
  {
   "cell_type": "code",
   "execution_count": 40,
   "metadata": {},
   "outputs": [
    {
     "name": "stdout",
     "output_type": "stream",
     "text": [
      "Found 522 validated image filenames.\n",
      "Found 131 validated image filenames.\n"
     ]
    },
    {
     "data": {
      "text/plain": [
       "[<keras_preprocessing.image.dataframe_iterator.DataFrameIterator at 0x7f9a1cad1be0>,\n",
       " <keras_preprocessing.image.dataframe_iterator.DataFrameIterator at 0x7f9a1cad12b0>]"
      ]
     },
     "execution_count": 40,
     "metadata": {},
     "output_type": "execute_result"
    }
   ],
   "source": [
    "create_generator(train_df,test_df,'beard',False,16,None, preprocess_input,(224,224),'binary', False)"
   ]
  },
  {
   "cell_type": "markdown",
   "metadata": {},
   "source": [
    "### Quick tuning of top models "
   ]
  },
  {
   "cell_type": "code",
   "execution_count": 66,
   "metadata": {},
   "outputs": [],
   "source": [
    "def train_top_model(train_df, test_df, epoch, batch_size, label, model_type,rescale,preprocess_func,\n",
    "                   target_size):\n",
    "    '''\n",
    "    inputs:\n",
    "    train_df, test_df: dataframes returned from save_bottleneck_features functions \n",
    "    epoch: num of epochs in fit \n",
    "    batch_size: same as image generator batch size \n",
    "    label: a string, eyewear, hat, or beard\n",
    "    model_type: resnet50 or vgg16\n",
    "    output:\n",
    "    saves model weights in a folder \n",
    "    '''\n",
    "    train_data = np.load(open(f'../tuning_data/resnet_data/untracked_resnet50/bottleneck_features_train_{label}_resnet50_beta.npy','rb'))\n",
    "    # make sure train_data and train_label have same num of samples\n",
    "    train_label = np.array(train_df[label].map({'0':0, '1':1}))[:-(train_df.shape[0]%batch_size)]\n",
    "    \n",
    "    test_data = np.load(open(f'../tuning_data/resnet_data/untracked_resnet50/bottleneck_features_test_{label}_resnet50_beta.npy','rb'))\n",
    "    test_label = np.array(test_df[label].map({'0':0, '1':1}))[:-(test_df.shape[0]%batch_size)]\n",
    "    \n",
    "    # build top model\n",
    "    if model_type == 'resnet50':\n",
    "        model = resnet50_model(train_data.shape[1:],0.25)\n",
    "    if model_type == 'vgg16':\n",
    "        model = vgg16_model(train_data.shape[1:],0.5)\n",
    "        \n",
    "    model.compile(optimizer=optimizers.Adam(),\n",
    "                 loss='binary_crossentropy',\n",
    "                 metrics=['accuracy'])\n",
    "\n",
    "    # checkpoint for best weights \n",
    "    filepath=f\"../tuning_data/resnet_data/untracked_resnet50/best_bottleneck_resnet50_model_{label}_beta.h5\"\n",
    "    checkpoint = ModelCheckpoint(filepath, monitor='val_acc', verbose=1, save_best_only=True, mode='max')\n",
    "    callbacks_list = [checkpoint]\n",
    "    \n",
    "    classweight = create_generator(train_df, test_df,label,False,batch_size,\n",
    "                    rescale, preprocess_func, target_size,\n",
    "                    'binary', only_testing = False)[1]\n",
    "    \n",
    "    model.fit(train_data, train_label,\n",
    "             epochs=epoch,\n",
    "             batch_size=batch_size,\n",
    "             validation_data=(test_data,test_label),\n",
    "             callbacks=callbacks_list,\n",
    "             class_weight = classweight)\n",
    "    del model\n",
    "    keras.backend.clear_session()"
   ]
  },
  {
   "cell_type": "markdown",
   "metadata": {},
   "source": [
    "#### run train_top_model and save results in tuning_data"
   ]
  },
  {
   "cell_type": "code",
   "execution_count": 67,
   "metadata": {
    "scrolled": false
   },
   "outputs": [
    {
     "name": "stdout",
     "output_type": "stream",
     "text": [
      "Found 522 validated image filenames belonging to 2 classes.\n",
      "Found 131 validated image filenames belonging to 2 classes.\n",
      "Train on 512 samples, validate on 128 samples\n",
      "Epoch 1/50\n",
      "512/512 [==============================] - 3s 5ms/step - loss: 0.4666 - acc: 0.8145 - val_loss: 0.2921 - val_acc: 0.8594\n",
      "\n",
      "Epoch 00001: val_acc improved from -inf to 0.85938, saving model to ../tuning_data/resnet_data/untracked_resnet50/best_bottleneck_resnet50_model_beard_beta.h5\n",
      "Epoch 2/50\n",
      "512/512 [==============================] - 0s 397us/step - loss: 0.2090 - acc: 0.9062 - val_loss: 0.3751 - val_acc: 0.8672\n",
      "\n",
      "Epoch 00002: val_acc improved from 0.85938 to 0.86719, saving model to ../tuning_data/resnet_data/untracked_resnet50/best_bottleneck_resnet50_model_beard_beta.h5\n",
      "Epoch 3/50\n",
      "512/512 [==============================] - 0s 381us/step - loss: 0.1234 - acc: 0.9570 - val_loss: 0.2409 - val_acc: 0.8906\n",
      "\n",
      "Epoch 00003: val_acc improved from 0.86719 to 0.89062, saving model to ../tuning_data/resnet_data/untracked_resnet50/best_bottleneck_resnet50_model_beard_beta.h5\n",
      "Epoch 4/50\n",
      "512/512 [==============================] - 0s 401us/step - loss: 0.0846 - acc: 0.9668 - val_loss: 0.2188 - val_acc: 0.9141\n",
      "\n",
      "Epoch 00004: val_acc improved from 0.89062 to 0.91406, saving model to ../tuning_data/resnet_data/untracked_resnet50/best_bottleneck_resnet50_model_beard_beta.h5\n",
      "Epoch 5/50\n",
      "512/512 [==============================] - 0s 391us/step - loss: 0.1371 - acc: 0.9395 - val_loss: 0.3130 - val_acc: 0.8828\n",
      "\n",
      "Epoch 00005: val_acc did not improve from 0.91406\n",
      "Epoch 6/50\n",
      "512/512 [==============================] - 0s 379us/step - loss: 0.0543 - acc: 0.9766 - val_loss: 0.2801 - val_acc: 0.8906\n",
      "\n",
      "Epoch 00006: val_acc did not improve from 0.91406\n",
      "Epoch 7/50\n",
      "512/512 [==============================] - 0s 387us/step - loss: 0.0226 - acc: 0.9941 - val_loss: 0.2999 - val_acc: 0.8984\n",
      "\n",
      "Epoch 00007: val_acc did not improve from 0.91406\n",
      "Epoch 8/50\n",
      "512/512 [==============================] - 0s 387us/step - loss: 0.0190 - acc: 0.9980 - val_loss: 0.2881 - val_acc: 0.8984\n",
      "\n",
      "Epoch 00008: val_acc did not improve from 0.91406\n",
      "Epoch 9/50\n",
      "512/512 [==============================] - 0s 384us/step - loss: 0.0104 - acc: 1.0000 - val_loss: 0.4609 - val_acc: 0.8828\n",
      "\n",
      "Epoch 00009: val_acc did not improve from 0.91406\n",
      "Epoch 10/50\n",
      "512/512 [==============================] - 0s 398us/step - loss: 0.0093 - acc: 1.0000 - val_loss: 0.2995 - val_acc: 0.8906\n",
      "\n",
      "Epoch 00010: val_acc did not improve from 0.91406\n",
      "Epoch 11/50\n",
      "512/512 [==============================] - 0s 401us/step - loss: 0.0050 - acc: 1.0000 - val_loss: 0.3998 - val_acc: 0.8906\n",
      "\n",
      "Epoch 00011: val_acc did not improve from 0.91406\n",
      "Epoch 12/50\n",
      "512/512 [==============================] - 0s 388us/step - loss: 0.0079 - acc: 0.9980 - val_loss: 0.3387 - val_acc: 0.8906\n",
      "\n",
      "Epoch 00012: val_acc did not improve from 0.91406\n",
      "Epoch 13/50\n",
      "512/512 [==============================] - 0s 397us/step - loss: 0.0109 - acc: 0.9980 - val_loss: 0.2764 - val_acc: 0.8984\n",
      "\n",
      "Epoch 00013: val_acc did not improve from 0.91406\n",
      "Epoch 14/50\n",
      "512/512 [==============================] - 0s 419us/step - loss: 0.0099 - acc: 1.0000 - val_loss: 0.2733 - val_acc: 0.9141\n",
      "\n",
      "Epoch 00014: val_acc did not improve from 0.91406\n",
      "Epoch 15/50\n",
      "512/512 [==============================] - 0s 396us/step - loss: 0.0066 - acc: 1.0000 - val_loss: 0.3327 - val_acc: 0.8906\n",
      "\n",
      "Epoch 00015: val_acc did not improve from 0.91406\n",
      "Epoch 16/50\n",
      "512/512 [==============================] - 0s 406us/step - loss: 0.0024 - acc: 1.0000 - val_loss: 0.3693 - val_acc: 0.8906\n",
      "\n",
      "Epoch 00016: val_acc did not improve from 0.91406\n",
      "Epoch 17/50\n",
      "512/512 [==============================] - 0s 387us/step - loss: 0.0023 - acc: 1.0000 - val_loss: 0.4337 - val_acc: 0.9062\n",
      "\n",
      "Epoch 00017: val_acc did not improve from 0.91406\n",
      "Epoch 18/50\n",
      "512/512 [==============================] - 0s 379us/step - loss: 0.0019 - acc: 1.0000 - val_loss: 0.3527 - val_acc: 0.8906\n",
      "\n",
      "Epoch 00018: val_acc did not improve from 0.91406\n",
      "Epoch 19/50\n",
      "512/512 [==============================] - 0s 393us/step - loss: 0.0014 - acc: 1.0000 - val_loss: 0.3636 - val_acc: 0.8984\n",
      "\n",
      "Epoch 00019: val_acc did not improve from 0.91406\n",
      "Epoch 20/50\n",
      "512/512 [==============================] - 0s 386us/step - loss: 0.0014 - acc: 1.0000 - val_loss: 0.3661 - val_acc: 0.8984\n",
      "\n",
      "Epoch 00020: val_acc did not improve from 0.91406\n",
      "Epoch 21/50\n",
      "512/512 [==============================] - 0s 390us/step - loss: 0.0012 - acc: 1.0000 - val_loss: 0.3678 - val_acc: 0.8984\n",
      "\n",
      "Epoch 00021: val_acc did not improve from 0.91406\n",
      "Epoch 22/50\n",
      "512/512 [==============================] - 0s 390us/step - loss: 0.0010 - acc: 1.0000 - val_loss: 0.3904 - val_acc: 0.8984\n",
      "\n",
      "Epoch 00022: val_acc did not improve from 0.91406\n",
      "Epoch 23/50\n",
      "512/512 [==============================] - 0s 404us/step - loss: 0.0011 - acc: 1.0000 - val_loss: 0.3895 - val_acc: 0.8906\n",
      "\n",
      "Epoch 00023: val_acc did not improve from 0.91406\n",
      "Epoch 24/50\n",
      "512/512 [==============================] - 0s 413us/step - loss: 9.0353e-04 - acc: 1.0000 - val_loss: 0.4164 - val_acc: 0.8906\n",
      "\n",
      "Epoch 00024: val_acc did not improve from 0.91406\n",
      "Epoch 25/50\n",
      "512/512 [==============================] - 0s 396us/step - loss: 7.9085e-04 - acc: 1.0000 - val_loss: 0.4356 - val_acc: 0.9062\n",
      "\n",
      "Epoch 00025: val_acc did not improve from 0.91406\n",
      "Epoch 26/50\n",
      "512/512 [==============================] - 0s 406us/step - loss: 7.1334e-04 - acc: 1.0000 - val_loss: 0.4301 - val_acc: 0.9062\n",
      "\n",
      "Epoch 00026: val_acc did not improve from 0.91406\n",
      "Epoch 27/50\n",
      "512/512 [==============================] - 0s 408us/step - loss: 7.0052e-04 - acc: 1.0000 - val_loss: 0.4003 - val_acc: 0.8906\n",
      "\n",
      "Epoch 00027: val_acc did not improve from 0.91406\n",
      "Epoch 28/50\n",
      "512/512 [==============================] - 0s 393us/step - loss: 6.2078e-04 - acc: 1.0000 - val_loss: 0.4284 - val_acc: 0.8984\n",
      "\n",
      "Epoch 00028: val_acc did not improve from 0.91406\n",
      "Epoch 29/50\n",
      "512/512 [==============================] - 0s 409us/step - loss: 5.9189e-04 - acc: 1.0000 - val_loss: 0.4140 - val_acc: 0.8984\n",
      "\n",
      "Epoch 00029: val_acc did not improve from 0.91406\n",
      "Epoch 30/50\n",
      "512/512 [==============================] - 0s 391us/step - loss: 5.2717e-04 - acc: 1.0000 - val_loss: 0.4432 - val_acc: 0.8984\n",
      "\n",
      "Epoch 00030: val_acc did not improve from 0.91406\n",
      "Epoch 31/50\n",
      "512/512 [==============================] - 0s 389us/step - loss: 5.4967e-04 - acc: 1.0000 - val_loss: 0.3991 - val_acc: 0.8906\n",
      "\n",
      "Epoch 00031: val_acc did not improve from 0.91406\n",
      "Epoch 32/50\n",
      "512/512 [==============================] - 0s 396us/step - loss: 4.6615e-04 - acc: 1.0000 - val_loss: 0.4506 - val_acc: 0.8984\n",
      "\n",
      "Epoch 00032: val_acc did not improve from 0.91406\n",
      "Epoch 33/50\n",
      "512/512 [==============================] - 0s 390us/step - loss: 4.2205e-04 - acc: 1.0000 - val_loss: 0.4393 - val_acc: 0.8984\n",
      "\n",
      "Epoch 00033: val_acc did not improve from 0.91406\n",
      "Epoch 34/50\n",
      "512/512 [==============================] - 0s 387us/step - loss: 4.9228e-04 - acc: 1.0000 - val_loss: 0.4745 - val_acc: 0.9062\n",
      "\n",
      "Epoch 00034: val_acc did not improve from 0.91406\n",
      "Epoch 35/50\n",
      "512/512 [==============================] - 0s 400us/step - loss: 5.0244e-04 - acc: 1.0000 - val_loss: 0.4514 - val_acc: 0.8984\n",
      "\n",
      "Epoch 00035: val_acc did not improve from 0.91406\n",
      "Epoch 36/50\n",
      "512/512 [==============================] - 0s 399us/step - loss: 4.9500e-04 - acc: 1.0000 - val_loss: 0.4401 - val_acc: 0.8906\n",
      "\n",
      "Epoch 00036: val_acc did not improve from 0.91406\n",
      "Epoch 37/50\n",
      "512/512 [==============================] - 0s 398us/step - loss: 5.0700e-04 - acc: 1.0000 - val_loss: 0.4624 - val_acc: 0.8984\n",
      "\n",
      "Epoch 00037: val_acc did not improve from 0.91406\n",
      "Epoch 38/50\n",
      "512/512 [==============================] - 0s 403us/step - loss: 3.3809e-04 - acc: 1.0000 - val_loss: 0.4283 - val_acc: 0.8906\n",
      "\n",
      "Epoch 00038: val_acc did not improve from 0.91406\n",
      "Epoch 39/50\n",
      "512/512 [==============================] - 0s 384us/step - loss: 3.5818e-04 - acc: 1.0000 - val_loss: 0.4214 - val_acc: 0.8906\n",
      "\n",
      "Epoch 00039: val_acc did not improve from 0.91406\n",
      "Epoch 40/50\n",
      "512/512 [==============================] - 0s 393us/step - loss: 2.9726e-04 - acc: 1.0000 - val_loss: 0.4534 - val_acc: 0.8984\n",
      "\n",
      "Epoch 00040: val_acc did not improve from 0.91406\n",
      "Epoch 41/50\n"
     ]
    },
    {
     "name": "stdout",
     "output_type": "stream",
     "text": [
      "512/512 [==============================] - 0s 389us/step - loss: 2.7900e-04 - acc: 1.0000 - val_loss: 0.4463 - val_acc: 0.8984\n",
      "\n",
      "Epoch 00041: val_acc did not improve from 0.91406\n",
      "Epoch 42/50\n",
      "512/512 [==============================] - 0s 408us/step - loss: 3.6921e-04 - acc: 1.0000 - val_loss: 0.4833 - val_acc: 0.9062\n",
      "\n",
      "Epoch 00042: val_acc did not improve from 0.91406\n",
      "Epoch 43/50\n",
      "512/512 [==============================] - 0s 407us/step - loss: 3.2921e-04 - acc: 1.0000 - val_loss: 0.4669 - val_acc: 0.9062\n",
      "\n",
      "Epoch 00043: val_acc did not improve from 0.91406\n",
      "Epoch 44/50\n",
      "512/512 [==============================] - 0s 397us/step - loss: 2.6451e-04 - acc: 1.0000 - val_loss: 0.4254 - val_acc: 0.8906\n",
      "\n",
      "Epoch 00044: val_acc did not improve from 0.91406\n",
      "Epoch 45/50\n",
      "512/512 [==============================] - 0s 392us/step - loss: 2.7116e-04 - acc: 1.0000 - val_loss: 0.4616 - val_acc: 0.8984\n",
      "\n",
      "Epoch 00045: val_acc did not improve from 0.91406\n",
      "Epoch 46/50\n",
      "512/512 [==============================] - 0s 401us/step - loss: 2.6875e-04 - acc: 1.0000 - val_loss: 0.4961 - val_acc: 0.9062\n",
      "\n",
      "Epoch 00046: val_acc did not improve from 0.91406\n",
      "Epoch 47/50\n",
      "512/512 [==============================] - 0s 394us/step - loss: 2.9969e-04 - acc: 1.0000 - val_loss: 0.4989 - val_acc: 0.9062\n",
      "\n",
      "Epoch 00047: val_acc did not improve from 0.91406\n",
      "Epoch 48/50\n",
      "512/512 [==============================] - 0s 395us/step - loss: 2.2028e-04 - acc: 1.0000 - val_loss: 0.4505 - val_acc: 0.8984\n",
      "\n",
      "Epoch 00048: val_acc did not improve from 0.91406\n",
      "Epoch 49/50\n",
      "512/512 [==============================] - 0s 395us/step - loss: 2.5014e-04 - acc: 1.0000 - val_loss: 0.4386 - val_acc: 0.8984\n",
      "\n",
      "Epoch 00049: val_acc did not improve from 0.91406\n",
      "Epoch 50/50\n",
      "512/512 [==============================] - 0s 387us/step - loss: 2.3754e-04 - acc: 1.0000 - val_loss: 0.4465 - val_acc: 0.8984\n",
      "\n",
      "Epoch 00050: val_acc did not improve from 0.91406\n"
     ]
    }
   ],
   "source": [
    "train_top_model(train_df, test_df, 50, 16, 'beard','resnet50',None,preprocess_input,target_size=(224,224))"
   ]
  },
  {
   "cell_type": "markdown",
   "metadata": {},
   "source": [
    "### Fine Tune Top Model to improve accuracy"
   ]
  },
  {
   "cell_type": "code",
   "execution_count": 68,
   "metadata": {},
   "outputs": [],
   "source": [
    "def fine_tune_model(train_df, test_df,epoch, batch_size,label, \n",
    "                    model_type,dim, rescale, preprocess_func,print_model = False):\n",
    "    '''\n",
    "    inputs:\n",
    "    train_df, test_df: dataframes returned from save_bottleneck_features functions \n",
    "    epoch: num of epochs in fit \n",
    "    batch_size: same as image generator batch size \n",
    "    label: a string, eyewear, hat, or beard\n",
    "    model_type: resnet50 or vgg16\n",
    "    dim: 224 or 150 \n",
    "    rescale: None resnet50, 1./255 for vgg16\n",
    "    preprocess_func: depends on resnet or vgg16\n",
    "    return model \n",
    "    '''\n",
    "    # build model and freeze top layers\n",
    "    # input_shape: width, height, RGB (from image generator)\n",
    "    if model_type == 'resnet50':\n",
    "        base_model = ResNet50(weights='imagenet',include_top=False, input_shape=(dim,dim,3))\n",
    "        # build top model\n",
    "        top_model = resnet50_model(base_model.output_shape[1:],0.25)\n",
    "    if model_type == 'vgg16':\n",
    "        base_model = VGG16(weights='imagenet',include_top=False, input_shape=(dim,dim,3))\n",
    "        top_model = vgg16_model(base_model.output_shape[1:],0.5)\n",
    "    # load saved weights to fine tune parameters \n",
    "    top_model.load_weights(f'../tuning_data/resnet_data/untracked_resnet50/best_bottleneck_resnet50_model_{label}_beta.h5')\n",
    "    # add top model to model\n",
    "    model = Model(inputs=base_model.input, outputs=top_model(base_model.output))\n",
    "    # we will tune last 8 layers of the model: activation49 and fully connected layer \n",
    "    for layer in model.layers[:-5]:\n",
    "        layer.trainable = False\n",
    "    # we can tune the parameters for lr and momentum later to get better results\n",
    "    model.compile(loss='binary_crossentropy',\n",
    "             optimizer=optimizers.SGD(lr=5e-5, momentum = 0.9),\n",
    "             metrics=['accuracy'])\n",
    "    # prepare train generator using data augmentation to battle small sample size \n",
    "    generators = create_generator(train_df,test_df, label,True,16,rescale,\n",
    "                                                    preprocess_func,(dim,dim),\n",
    "                                                    'binary')\n",
    "    train_generator, classweight, test_generator = generators[0], generators[1], generators[2]\n",
    "    \n",
    "    # checkpoint for best weights \n",
    "    filepath=f\"../tuning_data/resnet_data/untracked_resnet50/best_resnet50_model_5_layer_{label}_0.25dobeta_2.h5\"\n",
    "    checkpoint = ModelCheckpoint(filepath, monitor='val_acc', verbose=1, save_best_only=True, mode='max')\n",
    "    callbacks_list = [checkpoint]\n",
    "    \n",
    "    # run and fit model \n",
    "    result = model.fit_generator(\n",
    "    train_generator,\n",
    "    steps_per_epoch=train_df.shape[0]//batch_size,\n",
    "    epochs=epoch,\n",
    "    validation_data=test_generator,\n",
    "    validation_steps=test_df.shape[0]//batch_size,\n",
    "    verbose=1,class_weight=list(classweight),\n",
    "    callbacks=callbacks_list\n",
    "    )\n",
    "    \n",
    "    if print_model:\n",
    "        model.summary()\n",
    "    \n",
    "    del model\n",
    "    keras.backend.clear_session()\n",
    "    return result                "
   ]
  },
  {
   "cell_type": "markdown",
   "metadata": {},
   "source": [
    "### save model history "
   ]
  },
  {
   "cell_type": "code",
   "execution_count": null,
   "metadata": {},
   "outputs": [
    {
     "name": "stdout",
     "output_type": "stream",
     "text": [
      "Found 522 validated image filenames belonging to 2 classes.\n",
      "Found 131 validated image filenames belonging to 2 classes.\n",
      "Epoch 1/50\n",
      "32/32 [==============================] - 8s 250ms/step - loss: 0.2814 - acc: 0.8816 - val_loss: 0.2244 - val_acc: 0.9141\n",
      "\n",
      "Epoch 00001: val_acc improved from -inf to 0.91406, saving model to ../tuning_data/resnet_data/untracked_resnet50/best_resnet50_model_5_layer_beard_0.25dobeta_2.h5\n",
      "Epoch 2/50\n",
      "32/32 [==============================] - 8s 253ms/step - loss: 0.2589 - acc: 0.8984 - val_loss: 0.2063 - val_acc: 0.9217\n",
      "\n",
      "Epoch 00002: val_acc improved from 0.91406 to 0.92174, saving model to ../tuning_data/resnet_data/untracked_resnet50/best_resnet50_model_5_layer_beard_0.25dobeta_2.h5\n",
      "Epoch 3/50\n",
      "32/32 [==============================] - 8s 235ms/step - loss: 0.2678 - acc: 0.8883 - val_loss: 0.2889 - val_acc: 0.8870\n",
      "\n",
      "Epoch 00003: val_acc did not improve from 0.92174\n",
      "Epoch 4/50\n",
      "32/32 [==============================] - 7s 223ms/step - loss: 0.2522 - acc: 0.8777 - val_loss: 0.2423 - val_acc: 0.9130\n",
      "\n",
      "Epoch 00004: val_acc did not improve from 0.92174\n",
      "Epoch 5/50\n",
      "32/32 [==============================] - 7s 234ms/step - loss: 0.2674 - acc: 0.8984 - val_loss: 0.2206 - val_acc: 0.9391\n",
      "\n",
      "Epoch 00005: val_acc improved from 0.92174 to 0.93913, saving model to ../tuning_data/resnet_data/untracked_resnet50/best_resnet50_model_5_layer_beard_0.25dobeta_2.h5\n",
      "Epoch 6/50\n",
      "32/32 [==============================] - 7s 224ms/step - loss: 0.2324 - acc: 0.9067 - val_loss: 0.1809 - val_acc: 0.9304\n",
      "\n",
      "Epoch 00006: val_acc did not improve from 0.93913\n",
      "Epoch 7/50\n",
      "32/32 [==============================] - 7s 227ms/step - loss: 0.2601 - acc: 0.8789 - val_loss: 0.1815 - val_acc: 0.9304\n",
      "\n",
      "Epoch 00007: val_acc did not improve from 0.93913\n",
      "Epoch 8/50\n",
      "32/32 [==============================] - 7s 232ms/step - loss: 0.2645 - acc: 0.8813 - val_loss: 0.1981 - val_acc: 0.9304\n",
      "\n",
      "Epoch 00008: val_acc did not improve from 0.93913\n",
      "Epoch 9/50\n",
      "32/32 [==============================] - 7s 225ms/step - loss: 0.2562 - acc: 0.8997 - val_loss: 0.2260 - val_acc: 0.9043\n",
      "\n",
      "Epoch 00009: val_acc did not improve from 0.93913\n",
      "Epoch 10/50\n",
      "32/32 [==============================] - 7s 226ms/step - loss: 0.1980 - acc: 0.9148 - val_loss: 0.2125 - val_acc: 0.9141\n",
      "\n",
      "Epoch 00010: val_acc did not improve from 0.93913\n",
      "Epoch 11/50\n",
      "32/32 [==============================] - 8s 248ms/step - loss: 0.2403 - acc: 0.8964 - val_loss: 0.2178 - val_acc: 0.9130\n",
      "\n",
      "Epoch 00011: val_acc did not improve from 0.93913\n",
      "Epoch 12/50\n",
      "32/32 [==============================] - 7s 234ms/step - loss: 0.2271 - acc: 0.8992 - val_loss: 0.1927 - val_acc: 0.9217\n",
      "\n",
      "Epoch 00012: val_acc did not improve from 0.93913\n",
      "Epoch 13/50\n",
      "32/32 [==============================] - 7s 231ms/step - loss: 0.1896 - acc: 0.9179 - val_loss: 0.1347 - val_acc: 0.9565\n",
      "\n",
      "Epoch 00013: val_acc improved from 0.93913 to 0.95652, saving model to ../tuning_data/resnet_data/untracked_resnet50/best_resnet50_model_5_layer_beard_0.25dobeta_2.h5\n",
      "Epoch 14/50\n",
      "32/32 [==============================] - 8s 236ms/step - loss: 0.2572 - acc: 0.8945 - val_loss: 0.2761 - val_acc: 0.8870\n",
      "\n",
      "Epoch 00014: val_acc did not improve from 0.95652\n",
      "Epoch 15/50\n",
      "32/32 [==============================] - 7s 225ms/step - loss: 0.1933 - acc: 0.9246 - val_loss: 0.1375 - val_acc: 0.9304\n",
      "\n",
      "Epoch 00015: val_acc did not improve from 0.95652\n",
      "Epoch 16/50\n",
      "32/32 [==============================] - 7s 230ms/step - loss: 0.1918 - acc: 0.9145 - val_loss: 0.2508 - val_acc: 0.8870\n",
      "\n",
      "Epoch 00016: val_acc did not improve from 0.95652\n",
      "Epoch 17/50\n",
      "32/32 [==============================] - 7s 211ms/step - loss: 0.2306 - acc: 0.9109 - val_loss: 0.1603 - val_acc: 0.9304\n",
      "\n",
      "Epoch 00017: val_acc did not improve from 0.95652\n",
      "Epoch 18/50\n",
      "32/32 [==============================] - 7s 231ms/step - loss: 0.1931 - acc: 0.9102 - val_loss: 0.2104 - val_acc: 0.9130\n",
      "\n",
      "Epoch 00018: val_acc did not improve from 0.95652\n",
      "Epoch 19/50\n",
      "32/32 [==============================] - 7s 228ms/step - loss: 0.2172 - acc: 0.9090 - val_loss: 0.1929 - val_acc: 0.9141\n",
      "\n",
      "Epoch 00019: val_acc did not improve from 0.95652\n",
      "Epoch 20/50\n",
      "32/32 [==============================] - 8s 248ms/step - loss: 0.2125 - acc: 0.9121 - val_loss: 0.2177 - val_acc: 0.9130\n",
      "\n",
      "Epoch 00020: val_acc did not improve from 0.95652\n",
      "Epoch 21/50\n",
      "32/32 [==============================] - 7s 233ms/step - loss: 0.1895 - acc: 0.9297 - val_loss: 0.1902 - val_acc: 0.9130\n",
      "\n",
      "Epoch 00021: val_acc did not improve from 0.95652\n",
      "Epoch 22/50\n",
      "32/32 [==============================] - 8s 238ms/step - loss: 0.2184 - acc: 0.9160 - val_loss: 0.1602 - val_acc: 0.9391\n",
      "\n",
      "Epoch 00022: val_acc did not improve from 0.95652\n",
      "Epoch 23/50\n",
      "32/32 [==============================] - 7s 228ms/step - loss: 0.2016 - acc: 0.9199 - val_loss: 0.1422 - val_acc: 0.9304\n",
      "\n",
      "Epoch 00023: val_acc did not improve from 0.95652\n",
      "Epoch 24/50\n",
      "32/32 [==============================] - 7s 229ms/step - loss: 0.1843 - acc: 0.9218 - val_loss: 0.2339 - val_acc: 0.8783\n",
      "\n",
      "Epoch 00024: val_acc did not improve from 0.95652\n",
      "Epoch 25/50\n",
      "32/32 [==============================] - 7s 216ms/step - loss: 0.2029 - acc: 0.9125 - val_loss: 0.2222 - val_acc: 0.9304\n",
      "\n",
      "Epoch 00025: val_acc did not improve from 0.95652\n",
      "Epoch 26/50\n",
      "32/32 [==============================] - 8s 238ms/step - loss: 0.1957 - acc: 0.9219 - val_loss: 0.1442 - val_acc: 0.9130\n",
      "\n",
      "Epoch 00026: val_acc did not improve from 0.95652\n",
      "Epoch 27/50\n",
      "32/32 [==============================] - 7s 216ms/step - loss: 0.1816 - acc: 0.9277 - val_loss: 0.2023 - val_acc: 0.9043\n",
      "\n",
      "Epoch 00027: val_acc did not improve from 0.95652\n",
      "Epoch 28/50\n",
      "32/32 [==============================] - 7s 228ms/step - loss: 0.2043 - acc: 0.9238 - val_loss: 0.1920 - val_acc: 0.9141\n",
      "\n",
      "Epoch 00028: val_acc did not improve from 0.95652\n",
      "Epoch 29/50\n",
      "32/32 [==============================] - 8s 241ms/step - loss: 0.1999 - acc: 0.9082 - val_loss: 0.1781 - val_acc: 0.9217\n",
      "\n",
      "Epoch 00029: val_acc did not improve from 0.95652\n",
      "Epoch 30/50\n",
      "32/32 [==============================] - 7s 225ms/step - loss: 0.2238 - acc: 0.9121 - val_loss: 0.2164 - val_acc: 0.8957\n",
      "\n",
      "Epoch 00030: val_acc did not improve from 0.95652\n",
      "Epoch 31/50\n",
      "32/32 [==============================] - 7s 232ms/step - loss: 0.2126 - acc: 0.8973 - val_loss: 0.1811 - val_acc: 0.9130\n",
      "\n",
      "Epoch 00031: val_acc did not improve from 0.95652\n",
      "Epoch 32/50\n",
      "32/32 [==============================] - 7s 220ms/step - loss: 0.1923 - acc: 0.9179 - val_loss: 0.1713 - val_acc: 0.9043\n",
      "\n",
      "Epoch 00032: val_acc did not improve from 0.95652\n",
      "Epoch 33/50\n",
      "32/32 [==============================] - 7s 227ms/step - loss: 0.1963 - acc: 0.9118 - val_loss: 0.2046 - val_acc: 0.9130\n",
      "\n",
      "Epoch 00033: val_acc did not improve from 0.95652\n",
      "Epoch 34/50\n",
      "32/32 [==============================] - 7s 227ms/step - loss: 0.1751 - acc: 0.9199 - val_loss: 0.1482 - val_acc: 0.9391\n",
      "\n",
      "Epoch 00034: val_acc did not improve from 0.95652\n",
      "Epoch 35/50\n",
      "32/32 [==============================] - 8s 239ms/step - loss: 0.2120 - acc: 0.9098 - val_loss: 0.1544 - val_acc: 0.9217\n",
      "\n",
      "Epoch 00035: val_acc did not improve from 0.95652\n",
      "Epoch 36/50\n",
      "32/32 [==============================] - 7s 219ms/step - loss: 0.1695 - acc: 0.9344 - val_loss: 0.1936 - val_acc: 0.9043\n",
      "\n",
      "Epoch 00036: val_acc did not improve from 0.95652\n",
      "Epoch 37/50\n",
      "32/32 [==============================] - 7s 232ms/step - loss: 0.1980 - acc: 0.9258 - val_loss: 0.1806 - val_acc: 0.9141\n",
      "\n",
      "Epoch 00037: val_acc did not improve from 0.95652\n",
      "Epoch 38/50\n",
      "32/32 [==============================] - 8s 249ms/step - loss: 0.2293 - acc: 0.9129 - val_loss: 0.1516 - val_acc: 0.9217\n",
      "\n",
      "Epoch 00038: val_acc did not improve from 0.95652\n",
      "Epoch 39/50\n",
      "32/32 [==============================] - 7s 226ms/step - loss: 0.1809 - acc: 0.9258 - val_loss: 0.1858 - val_acc: 0.9304\n",
      "\n",
      "Epoch 00039: val_acc did not improve from 0.95652\n",
      "Epoch 40/50\n",
      "32/32 [==============================] - 7s 226ms/step - loss: 0.1761 - acc: 0.9254 - val_loss: 0.1741 - val_acc: 0.9043\n",
      "\n",
      "Epoch 00040: val_acc did not improve from 0.95652\n",
      "Epoch 41/50\n",
      "32/32 [==============================] - 7s 226ms/step - loss: 0.2027 - acc: 0.9179 - val_loss: 0.2146 - val_acc: 0.8870\n",
      "\n",
      "Epoch 00041: val_acc did not improve from 0.95652\n",
      "Epoch 42/50\n"
     ]
    },
    {
     "name": "stdout",
     "output_type": "stream",
     "text": [
      "32/32 [==============================] - 7s 228ms/step - loss: 0.2254 - acc: 0.8945 - val_loss: 0.1941 - val_acc: 0.8957\n",
      "\n",
      "Epoch 00042: val_acc did not improve from 0.95652\n",
      "Epoch 43/50\n",
      "32/32 [==============================] - 8s 236ms/step - loss: 0.2142 - acc: 0.9121 - val_loss: 0.1210 - val_acc: 0.9217\n",
      "\n",
      "Epoch 00043: val_acc did not improve from 0.95652\n",
      "Epoch 44/50\n",
      "32/32 [==============================] - 8s 236ms/step - loss: 0.1734 - acc: 0.9246 - val_loss: 0.1710 - val_acc: 0.9304\n",
      "\n",
      "Epoch 00044: val_acc did not improve from 0.95652\n",
      "Epoch 45/50\n",
      "32/32 [==============================] - 7s 225ms/step - loss: 0.2030 - acc: 0.9188 - val_loss: 0.1859 - val_acc: 0.9130\n",
      "\n",
      "Epoch 00045: val_acc did not improve from 0.95652\n",
      "Epoch 46/50\n",
      "32/32 [==============================] - 7s 223ms/step - loss: 0.1893 - acc: 0.9140 - val_loss: 0.1750 - val_acc: 0.9219\n",
      "\n",
      "Epoch 00046: val_acc did not improve from 0.95652\n",
      "Epoch 47/50\n",
      "32/32 [==============================] - 7s 228ms/step - loss: 0.1737 - acc: 0.9336 - val_loss: 0.1802 - val_acc: 0.9043\n",
      "\n",
      "Epoch 00047: val_acc did not improve from 0.95652\n",
      "Epoch 48/50\n",
      "32/32 [==============================] - 8s 251ms/step - loss: 0.1784 - acc: 0.9383 - val_loss: 0.1559 - val_acc: 0.9217\n",
      "\n",
      "Epoch 00048: val_acc did not improve from 0.95652\n",
      "Epoch 49/50\n",
      "27/32 [========================>.....] - ETA: 0s - loss: 0.1372 - acc: 0.9421"
     ]
    }
   ],
   "source": [
    "model_history = fine_tune_model(train_df,test_df,50,16,'beard','resnet50',\n",
    "                                224,None,preprocess_input)"
   ]
  },
  {
   "cell_type": "code",
   "execution_count": 50,
   "metadata": {},
   "outputs": [
    {
     "name": "stdout",
     "output_type": "stream",
     "text": [
      "highest test accuracy: 0.9826086961704752\n",
      "------------------\n",
      "highest train accuracy: 0.9609375\n"
     ]
    }
   ],
   "source": [
    "highest_val_acc, highest_train_acc = max(model_history.history['val_acc']), max(model_history.history['acc'])\n",
    "print(f'highest test accuracy: {highest_val_acc}')\n",
    "print('------------------')\n",
    "print(f'highest train accuracy: {highest_train_acc}')"
   ]
  },
  {
   "cell_type": "code",
   "execution_count": 51,
   "metadata": {},
   "outputs": [
    {
     "name": "stdout",
     "output_type": "stream",
     "text": [
      "lowest test loss: 0.04747231845622477\n",
      "------------------\n",
      "lowest train loss: 0.11170079646399245\n"
     ]
    }
   ],
   "source": [
    "lowest_val_loss, lowest_train_loss = min(model_history.history['val_loss']), min(model_history.history['loss'])\n",
    "print(f'lowest test loss: {lowest_val_loss}')\n",
    "print('------------------')\n",
    "print(f'lowest train loss: {lowest_train_loss}')"
   ]
  },
  {
   "cell_type": "code",
   "execution_count": 52,
   "metadata": {},
   "outputs": [
    {
     "data": {
      "image/png": "[encoded data removed]",
      "text/plain": [
       "<Figure size 432x288 with 1 Axes>"
      ]
     },
     "metadata": {
      "needs_background": "light"
     },
     "output_type": "display_data"
    }
   ],
   "source": [
    "plt.plot(model_history.history['val_acc'], color = 'red', label = 'test')\n",
    "plt.plot(model_history.history['acc'], color = 'blue', label = 'train')\n",
    "plt.title('accuracy')\n",
    "plt.ylabel('accuracy')\n",
    "plt.legend()\n",
    "plt.show()"
   ]
  },
  {
   "cell_type": "code",
   "execution_count": 53,
   "metadata": {
    "scrolled": true
   },
   "outputs": [
    {
     "data": {
      "image/png": "[encoded data removed]",
      "text/plain": [
       "<Figure size 432x288 with 1 Axes>"
      ]
     },
     "metadata": {
      "needs_background": "light"
     },
     "output_type": "display_data"
    }
   ],
   "source": [
    "plt.plot(model_history.history['val_loss'], color = 'red', label = 'test')\n",
    "plt.plot(model_history.history['loss'], color = 'blue', label = 'train')\n",
    "plt.title('loss')\n",
    "plt.ylabel('loss')\n",
    "plt.legend()\n",
    "plt.show()"
   ]
  },
  {
   "cell_type": "markdown",
   "metadata": {},
   "source": [
    "### Save model "
   ]
  },
  {
   "cell_type": "code",
   "execution_count": 15,
   "metadata": {},
   "outputs": [],
   "source": [
    "# # save model artchitecture \n",
    "# resnet50_model_8_up = model_history.model\n",
    "# resnet50_model_8_up_json = resnet50_model_8_up.to_json()"
   ]
  },
  {
   "cell_type": "code",
   "execution_count": 16,
   "metadata": {},
   "outputs": [],
   "source": [
    "# # serialize model to JSON\n",
    "# with open(\"../tuning_data/resnet_data/resnet50_model_8_up.json\", \"w\") as json_file:\n",
    "#     json_file.write(resnet50_model_8_up_json)"
   ]
  },
  {
   "cell_type": "markdown",
   "metadata": {},
   "source": [
    "### Testing model"
   ]
  },
  {
   "cell_type": "code",
   "execution_count": 17,
   "metadata": {},
   "outputs": [
    {
     "data": {
      "text/html": [
       "<div>\n",
       "<style scoped>\n",
       "    .dataframe tbody tr th:only-of-type {\n",
       "        vertical-align: middle;\n",
       "    }\n",
       "\n",
       "    .dataframe tbody tr th {\n",
       "        vertical-align: top;\n",
       "    }\n",
       "\n",
       "    .dataframe thead th {\n",
       "        text-align: right;\n",
       "    }\n",
       "</style>\n",
       "<table border=\"1\" class=\"dataframe\">\n",
       "  <thead>\n",
       "    <tr style=\"text-align: right;\">\n",
       "      <th></th>\n",
       "      <th>pic_id</th>\n",
       "      <th>eyewear</th>\n",
       "    </tr>\n",
       "  </thead>\n",
       "  <tbody>\n",
       "    <tr>\n",
       "      <th>235</th>\n",
       "      <td>00964.jpg</td>\n",
       "      <td>not_eyewear</td>\n",
       "    </tr>\n",
       "    <tr>\n",
       "      <th>171</th>\n",
       "      <td>00872.jpg</td>\n",
       "      <td>not_eyewear</td>\n",
       "    </tr>\n",
       "    <tr>\n",
       "      <th>372</th>\n",
       "      <td>00412.jpg</td>\n",
       "      <td>eyewear</td>\n",
       "    </tr>\n",
       "    <tr>\n",
       "      <th>93</th>\n",
       "      <td>00745.jpg</td>\n",
       "      <td>not_eyewear</td>\n",
       "    </tr>\n",
       "    <tr>\n",
       "      <th>142</th>\n",
       "      <td>00822.jpg</td>\n",
       "      <td>not_eyewear</td>\n",
       "    </tr>\n",
       "  </tbody>\n",
       "</table>\n",
       "</div>"
      ],
      "text/plain": [
       "        pic_id      eyewear\n",
       "235  00964.jpg  not_eyewear\n",
       "171  00872.jpg  not_eyewear\n",
       "372  00412.jpg      eyewear\n",
       "93   00745.jpg  not_eyewear\n",
       "142  00822.jpg  not_eyewear"
      ]
     },
     "execution_count": 17,
     "metadata": {},
     "output_type": "execute_result"
    }
   ],
   "source": [
    "train_df, test_df = load_df('eyewear')\n",
    "df = pd.concat([train_df,test_df])\n",
    "df.head()"
   ]
  },
  {
   "cell_type": "code",
   "execution_count": 69,
   "metadata": {},
   "outputs": [],
   "source": [
    "# load json and create model\n",
    "def model_testing(df, model_path, weight_path, label, shuffle = False,\n",
    "                 batch_size = 32, rescale=None,preprocess_func=preprocess_input,\n",
    "                 target_size = (224,224),class_mode ='binary', only_testing = True):\n",
    "    '''\n",
    "    df: the entire picture df \n",
    "    model_path: json model path\n",
    "    weight_path: path for weights \n",
    "    label: eyewear, hat, or beard\n",
    "    '''\n",
    "    # check the whole dataframe\n",
    "    sub_set = df[['pic_id',label]] \n",
    "    json_file = open(model_path, 'r')\n",
    "    loaded_model_json = json_file.read()\n",
    "    json_file.close()\n",
    "    loaded_model = model_from_json(loaded_model_json)\n",
    "    # load model weight yewear_decay_\n",
    "    loaded_model.load_weights(weight_path)\n",
    "    # test test data\n",
    "    data_generator= create_generator(None, df,label,shuffle,batch_size,\n",
    "                    rescale, preprocess_func, target_size,\n",
    "                    class_mode, only_testing = only_testing)\n",
    "    data_generator=data_generator[0]\n",
    "    labels = df[label].map({'1':1, '0':0})\n",
    "    \n",
    "    loaded_model.compile(loss='binary_crossentropy',\n",
    "             optimizer=optimizers.SGD(),\n",
    "             metrics=['accuracy']\n",
    "                        )\n",
    "    y_pred = np.around(loaded_model.predict_generator(data_generator, workers=8))\n",
    "    fpr, tpr, thresholds = roc_curve(labels, y_pred)\n",
    "    area = roc_auc_score(labels, y_pred)\n",
    "    plt.title('Receiver Operating Characteristic')\n",
    "    plt.plot(fpr, tpr, 'b', label = 'AUC = %0.2f' % area)\n",
    "    plt.legend(loc = 'lower right')\n",
    "    plt.plot([0, 1], [0, 1],'r--')\n",
    "    plt.xlim([0, 1])\n",
    "    plt.ylim([0, 1])\n",
    "    plt.ylabel('True Positive Rate')\n",
    "    plt.xlabel('False Positive Rate')\n",
    "    plt.show()\n",
    "    print(confusion_matrix(labels, y_pred))\n",
    "    print(classification_report(labels, y_pred))    "
   ]
  },
  {
   "cell_type": "code",
   "execution_count": 71,
   "metadata": {
    "scrolled": true
   },
   "outputs": [
    {
     "name": "stdout",
     "output_type": "stream",
     "text": [
      "Found 653 validated image filenames belonging to 2 classes.\n"
     ]
    },
    {
     "data": {
      "image/png": "[encoded data removed]",
      "text/plain": [
       "<Figure size 432x288 with 1 Axes>"
      ]
     },
     "metadata": {
      "needs_background": "light"
     },
     "output_type": "display_data"
    },
    {
     "name": "stdout",
     "output_type": "stream",
     "text": [
      "[[293  23]\n",
      " [ 13 324]]\n",
      "              precision    recall  f1-score   support\n",
      "\n",
      "           0       0.96      0.93      0.94       316\n",
      "           1       0.93      0.96      0.95       337\n",
      "\n",
      "    accuracy                           0.94       653\n",
      "   macro avg       0.95      0.94      0.94       653\n",
      "weighted avg       0.95      0.94      0.94       653\n",
      "\n"
     ]
    }
   ],
   "source": [
    "model_testing(df=df,model_path='../tuning_data/resnet_data/resnet50_model_5_up.json',\n",
    "             weight_path='../tuning_data/resnet_data/untracked_resnet50/best_resnet50_model_5_layer_eyewear_0.25dobeta.h5',\n",
    "              label='eyewear')\n",
    "# use best_resnet50_model_5_layer_eyewear_0.25dobeta_2.h5"
   ]
  },
  {
   "cell_type": "code",
   "execution_count": 72,
   "metadata": {},
   "outputs": [
    {
     "name": "stdout",
     "output_type": "stream",
     "text": [
      "Found 653 validated image filenames belonging to 2 classes.\n"
     ]
    },
    {
     "data": {
      "image/png": "[encoded data removed]",
      "text/plain": [
       "<Figure size 432x288 with 1 Axes>"
      ]
     },
     "metadata": {
      "needs_background": "light"
     },
     "output_type": "display_data"
    },
    {
     "name": "stdout",
     "output_type": "stream",
     "text": [
      "[[293  23]\n",
      " [  4 333]]\n",
      "              precision    recall  f1-score   support\n",
      "\n",
      "           0       0.99      0.93      0.96       316\n",
      "           1       0.94      0.99      0.96       337\n",
      "\n",
      "    accuracy                           0.96       653\n",
      "   macro avg       0.96      0.96      0.96       653\n",
      "weighted avg       0.96      0.96      0.96       653\n",
      "\n"
     ]
    }
   ],
   "source": [
    "model_testing(df=df,model_path='../tuning_data/resnet_data/resnet50_model_5_up.json',\n",
    "             weight_path='../tuning_data/resnet_data/untracked_resnet50/best_resnet50_model_5_layer_eyewear_0.25dobeta_2.h5',\n",
    "              label='eyewear')"
   ]
  },
  {
   "cell_type": "code",
   "execution_count": 19,
   "metadata": {},
   "outputs": [
    {
     "name": "stdout",
     "output_type": "stream",
     "text": [
      "Found 632 validated image filenames belonging to 2 classes.\n"
     ]
    },
    {
     "data": {
      "image/png": "[encoded data removed]",
      "text/plain": [
       "<Figure size 432x288 with 1 Axes>"
      ]
     },
     "metadata": {
      "needs_background": "light"
     },
     "output_type": "display_data"
    },
    {
     "name": "stdout",
     "output_type": "stream",
     "text": [
      "[[303  13]\n",
      " [ 27 289]]\n",
      "              precision    recall  f1-score   support\n",
      "\n",
      "           0       0.92      0.96      0.94       316\n",
      "           1       0.96      0.91      0.94       316\n",
      "\n",
      "    accuracy                           0.94       632\n",
      "   macro avg       0.94      0.94      0.94       632\n",
      "weighted avg       0.94      0.94      0.94       632\n",
      "\n"
     ]
    }
   ],
   "source": [
    "model_testing('../tuning_data/resnet_data/resnet50_model_8_up.json', \n",
    "              '../tuning_data/resnet_data/untracked_resnet50/best_resnet50_model_8_layer_eyewear_0.5do.h5',\n",
    "              'eyewear')\n",
    "# keep best_resnet50_model_8_layer_eyewear_0.5do.h5"
   ]
  },
  {
   "cell_type": "code",
   "execution_count": 20,
   "metadata": {
    "scrolled": true
   },
   "outputs": [
    {
     "name": "stdout",
     "output_type": "stream",
     "text": [
      "Found 632 validated image filenames belonging to 2 classes.\n"
     ]
    },
    {
     "data": {
      "image/png": "[encoded data removed]",
      "text/plain": [
       "<Figure size 432x288 with 1 Axes>"
      ]
     },
     "metadata": {
      "needs_background": "light"
     },
     "output_type": "display_data"
    },
    {
     "name": "stdout",
     "output_type": "stream",
     "text": [
      "[[312   4]\n",
      " [ 26 290]]\n",
      "              precision    recall  f1-score   support\n",
      "\n",
      "           0       0.92      0.99      0.95       316\n",
      "           1       0.99      0.92      0.95       316\n",
      "\n",
      "    accuracy                           0.95       632\n",
      "   macro avg       0.95      0.95      0.95       632\n",
      "weighted avg       0.95      0.95      0.95       632\n",
      "\n"
     ]
    }
   ],
   "source": [
    "model_testing('../tuning_data/resnet_data/resnet50_model_5_up.json', \n",
    "              '../tuning_data/resnet_data/untracked_resnet50/best_resnet50_model_eyewear.h5',\n",
    "              'eyewear')"
   ]
  },
  {
   "cell_type": "markdown",
   "metadata": {},
   "source": [
    "### Testing hat "
   ]
  },
  {
   "cell_type": "code",
   "execution_count": 21,
   "metadata": {},
   "outputs": [
    {
     "name": "stdout",
     "output_type": "stream",
     "text": [
      "Found 510 validated image filenames belonging to 2 classes.\n"
     ]
    },
    {
     "data": {
      "image/png": "[encoded data removed]",
      "text/plain": [
       "<Figure size 432x288 with 1 Axes>"
      ]
     },
     "metadata": {
      "needs_background": "light"
     },
     "output_type": "display_data"
    },
    {
     "name": "stdout",
     "output_type": "stream",
     "text": [
      "[[219  36]\n",
      " [  5 250]]\n",
      "              precision    recall  f1-score   support\n",
      "\n",
      "           0       0.98      0.86      0.91       255\n",
      "           1       0.87      0.98      0.92       255\n",
      "\n",
      "    accuracy                           0.92       510\n",
      "   macro avg       0.93      0.92      0.92       510\n",
      "weighted avg       0.93      0.92      0.92       510\n",
      "\n"
     ]
    }
   ],
   "source": [
    "model_testing('../tuning_data/resnet_data/resnet50_model_8_up.json',\n",
    "              '../tuning_data/resnet_data/untracked_resnet50/best_resnet50_model_8_layer_hat_0.25do.h5','hat')\n",
    "\n",
    "# hat doesn't have enough data for tuning "
   ]
  },
  {
   "cell_type": "code",
   "execution_count": 23,
   "metadata": {
    "scrolled": true
   },
   "outputs": [
    {
     "name": "stdout",
     "output_type": "stream",
     "text": [
      "Found 510 validated image filenames belonging to 2 classes.\n"
     ]
    },
    {
     "data": {
      "image/png": "[encoded data removed]",
      "text/plain": [
       "<Figure size 432x288 with 1 Axes>"
      ]
     },
     "metadata": {
      "needs_background": "light"
     },
     "output_type": "display_data"
    },
    {
     "name": "stdout",
     "output_type": "stream",
     "text": [
      "[[230  25]\n",
      " [  1 254]]\n",
      "              precision    recall  f1-score   support\n",
      "\n",
      "           0       1.00      0.90      0.95       255\n",
      "           1       0.91      1.00      0.95       255\n",
      "\n",
      "    accuracy                           0.95       510\n",
      "   macro avg       0.95      0.95      0.95       510\n",
      "weighted avg       0.95      0.95      0.95       510\n",
      "\n"
     ]
    }
   ],
   "source": [
    "model_testing('../tuning_data/resnet_data/resnet50_model_8_up.json', \n",
    "              '../tuning_data/resnet_data/untracked_resnet50/best_resnet50_model_hat.h5',\n",
    "             'hat')"
   ]
  },
  {
   "cell_type": "markdown",
   "metadata": {},
   "source": [
    "### Testing beard"
   ]
  },
  {
   "cell_type": "code",
   "execution_count": 24,
   "metadata": {},
   "outputs": [
    {
     "name": "stdout",
     "output_type": "stream",
     "text": [
      "Found 454 validated image filenames belonging to 2 classes.\n"
     ]
    },
    {
     "data": {
      "image/png": "[encoded data removed]",
      "text/plain": [
       "<Figure size 432x288 with 1 Axes>"
      ]
     },
     "metadata": {
      "needs_background": "light"
     },
     "output_type": "display_data"
    },
    {
     "name": "stdout",
     "output_type": "stream",
     "text": [
      "[[209  18]\n",
      " [ 12 215]]\n",
      "              precision    recall  f1-score   support\n",
      "\n",
      "           0       0.95      0.92      0.93       227\n",
      "           1       0.92      0.95      0.93       227\n",
      "\n",
      "    accuracy                           0.93       454\n",
      "   macro avg       0.93      0.93      0.93       454\n",
      "weighted avg       0.93      0.93      0.93       454\n",
      "\n"
     ]
    }
   ],
   "source": [
    "model_testing('../tuning_data/resnet_data/resnet50_model_8_up.json',\n",
    "              '../tuning_data/resnet_data/untracked_resnet50/best_resnet50_model_8_layer_beard_0.25do.h5','beard')"
   ]
  },
  {
   "cell_type": "code",
   "execution_count": 25,
   "metadata": {},
   "outputs": [
    {
     "name": "stdout",
     "output_type": "stream",
     "text": [
      "Found 454 validated image filenames belonging to 2 classes.\n"
     ]
    },
    {
     "data": {
      "image/png": "[encoded data removed]",
      "text/plain": [
       "<Figure size 432x288 with 1 Axes>"
      ]
     },
     "metadata": {
      "needs_background": "light"
     },
     "output_type": "display_data"
    },
    {
     "name": "stdout",
     "output_type": "stream",
     "text": [
      "[[212  15]\n",
      " [ 15 212]]\n",
      "              precision    recall  f1-score   support\n",
      "\n",
      "           0       0.93      0.93      0.93       227\n",
      "           1       0.93      0.93      0.93       227\n",
      "\n",
      "    accuracy                           0.93       454\n",
      "   macro avg       0.93      0.93      0.93       454\n",
      "weighted avg       0.93      0.93      0.93       454\n",
      "\n"
     ]
    }
   ],
   "source": [
    "model_testing('../tuning_data/resnet_data/resnet50_model_5_up.json',\n",
    "              '../tuning_data/resnet_data/untracked_resnet50/best_resnet50_model_beard.h5','beard')"
   ]
  }
 ],
 "metadata": {
  "kernelspec": {
   "display_name": "Python 3",
   "language": "python",
   "name": "python3"
  },
  "language_info": {
   "codemirror_mode": {
    "name": "ipython",
    "version": 3
   },
   "file_extension": ".py",
   "mimetype": "text/x-python",
   "name": "python",
   "nbconvert_exporter": "python",
   "pygments_lexer": "ipython3",
   "version": "3.7.3"
  }
 },
 "nbformat": 4,
 "nbformat_minor": 2
}
