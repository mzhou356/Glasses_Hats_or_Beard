{
 "cells": [
  {
   "cell_type": "markdown",
   "metadata": {},
   "source": [
    "## Transfer Learning Tuning:\n",
    "  * Use Resnet50 to reduce model size and improve accuracy \n",
    "      * see [base model info comparison](https://medium.com/@sidereal/cnns-architectures-lenet-alexnet-vgg-googlenet-resnet-and-more-666091488df5)\n",
    "      * [resnet50 blog](https://towardsdatascience.com/understanding-and-coding-a-resnet-in-keras-446d7ff84d33)\n",
    "     \n",
    "  * base_model: use RESNET50 and freeze at bottleneck layer (stop right before 2D AVERAGE POOL) \n",
    "  * top_model: tune dense layers (parameters are inspired by a few sources)\n",
    "     * [source1](https://www.kaggle.com/suniliitb96/tutorial-keras-transfer-learning-with-resnet50)\n",
    "     * [source2](https://www.kaggle.com/pmigdal/transfer-learning-with-resnet-50-in-keras)\n",
    "     * [source3](https://towardsdatascience.com/transfer-learning-for-image-classification-using-keras-c47ccf09c8c8)\n",
    "\n",
    "\n",
    "\n",
    "  \n",
    "---\n",
    "#### This cell is required in order to use GPU for running the model "
   ]
  },
  {
   "cell_type": "code",
   "execution_count": 1,
   "metadata": {},
   "outputs": [
    {
     "name": "stderr",
     "output_type": "stream",
     "text": [
      "Using TensorFlow backend.\n"
     ]
    }
   ],
   "source": [
    "import warnings\n",
    "warnings.filterwarnings('ignore')\n",
    "import tensorflow as tf\n",
    "import keras\n",
    "from keras.backend.tensorflow_backend import set_session\n",
    "config = tf.ConfigProto()\n",
    "config.gpu_options.allow_growth = True  # dynamically grow the memory used on the GPU\n",
    "config.log_device_placement = True  # to log device placement (on which device the operation ran)\n",
    "                                    # (nothing gets printed in Jupyter, only if you run it standalone)\n",
    "sess = tf.Session(config=config)\n",
    "set_session(sess)  # set this TensorFlow session as the default session for Keras\n",
    "keras.backend.get_session().run(tf.global_variables_initializer())  "
   ]
  },
  {
   "cell_type": "markdown",
   "metadata": {},
   "source": [
    "---\n",
    "#### Import necessary libraries"
   ]
  },
  {
   "cell_type": "code",
   "execution_count": 2,
   "metadata": {},
   "outputs": [],
   "source": [
    "from sklearn.metrics import confusion_matrix, classification_report, roc_curve, roc_auc_score\n",
    "from sklearn.model_selection import train_test_split\n",
    "from sklearn.utils import class_weight\n",
    "from keras.callbacks import ModelCheckpoint\n",
    "from keras import optimizers\n",
    "from keras.applications.resnet50 import ResNet50, preprocess_input\n",
    "from keras.layers import Dropout, Flatten, Dense, GlobalAveragePooling2D\n",
    "from keras.models import Sequential, Model, model_from_json\n",
    "from keras_preprocessing.image import ImageDataGenerator\n",
    "import pandas as pd\n",
    "import numpy as np\n",
    "import matplotlib.pyplot as plt\n",
    "%matplotlib inline"
   ]
  },
  {
   "cell_type": "code",
   "execution_count": 3,
   "metadata": {},
   "outputs": [],
   "source": [
    "#  import total dataframe\n",
    "\n",
    "df = pd.read_pickle('../pickle_files/pic_df.pkl')"
   ]
  },
  {
   "cell_type": "code",
   "execution_count": 4,
   "metadata": {},
   "outputs": [],
   "source": [
    "# set each column as string for dataprocessing \n",
    "df = df.astype('str')"
   ]
  },
  {
   "cell_type": "code",
   "execution_count": 5,
   "metadata": {},
   "outputs": [],
   "source": [
    "df = df.reset_index().rename(columns = {'index':'pic_id'}) # try to predict on the whole data frame "
   ]
  },
  {
   "cell_type": "code",
   "execution_count": 6,
   "metadata": {
    "scrolled": true
   },
   "outputs": [
    {
     "data": {
      "text/html": [
       "<div>\n",
       "<style scoped>\n",
       "    .dataframe tbody tr th:only-of-type {\n",
       "        vertical-align: middle;\n",
       "    }\n",
       "\n",
       "    .dataframe tbody tr th {\n",
       "        vertical-align: top;\n",
       "    }\n",
       "\n",
       "    .dataframe thead th {\n",
       "        text-align: right;\n",
       "    }\n",
       "</style>\n",
       "<table border=\"1\" class=\"dataframe\">\n",
       "  <thead>\n",
       "    <tr style=\"text-align: right;\">\n",
       "      <th></th>\n",
       "      <th>pic_id</th>\n",
       "      <th>eyewear</th>\n",
       "      <th>hat</th>\n",
       "      <th>beard</th>\n",
       "    </tr>\n",
       "  </thead>\n",
       "  <tbody>\n",
       "    <tr>\n",
       "      <th>0</th>\n",
       "      <td>00018.jpg</td>\n",
       "      <td>0</td>\n",
       "      <td>0</td>\n",
       "      <td>1</td>\n",
       "    </tr>\n",
       "    <tr>\n",
       "      <th>1</th>\n",
       "      <td>00034.jpg</td>\n",
       "      <td>0</td>\n",
       "      <td>0</td>\n",
       "      <td>1</td>\n",
       "    </tr>\n",
       "    <tr>\n",
       "      <th>2</th>\n",
       "      <td>00048.jpg</td>\n",
       "      <td>1</td>\n",
       "      <td>0</td>\n",
       "      <td>0</td>\n",
       "    </tr>\n",
       "    <tr>\n",
       "      <th>3</th>\n",
       "      <td>00053.jpg</td>\n",
       "      <td>1</td>\n",
       "      <td>0</td>\n",
       "      <td>0</td>\n",
       "    </tr>\n",
       "    <tr>\n",
       "      <th>4</th>\n",
       "      <td>00061.jpg</td>\n",
       "      <td>1</td>\n",
       "      <td>0</td>\n",
       "      <td>0</td>\n",
       "    </tr>\n",
       "  </tbody>\n",
       "</table>\n",
       "</div>"
      ],
      "text/plain": [
       "      pic_id eyewear hat beard\n",
       "0  00018.jpg       0   0     1\n",
       "1  00034.jpg       0   0     1\n",
       "2  00048.jpg       1   0     0\n",
       "3  00053.jpg       1   0     0\n",
       "4  00061.jpg       1   0     0"
      ]
     },
     "execution_count": 6,
     "metadata": {},
     "output_type": "execute_result"
    }
   ],
   "source": [
    "df.head()"
   ]
  },
  {
   "cell_type": "code",
   "execution_count": 7,
   "metadata": {},
   "outputs": [],
   "source": [
    "# subset a dataframe \n",
    "def create_test_train(df,label):\n",
    "    '''\n",
    "    df: dateframe of pic_ids \n",
    "    label: eyewear,hat, or beard, a string\n",
    "    return: test and train df\n",
    "    '''\n",
    "    sub_set = df[['pic_id',label]]  # subset the label dataframe \n",
    "    X_train, X_test, y_train, y_test = train_test_split(sub_set['pic_id'], sub_set[label],\n",
    "                                                        stratify = sub_set[label],\n",
    "                                                        test_size = 0.2)\n",
    "    df_train = pd.concat([X_train,y_train], axis=1)\n",
    "    df_test = pd.concat([X_test,y_test], axis=1)\n",
    "    return df_train, df_test\n",
    "    "
   ]
  },
  {
   "cell_type": "code",
   "execution_count": 8,
   "metadata": {},
   "outputs": [],
   "source": [
    "def create_generator(train_df, test_df,label,shuffle,batch_size,\n",
    "                    rescale, preprocess_func, target_size,\n",
    "                    class_mode):\n",
    "    '''\n",
    "    train_df, test_df: dataframe for train and test \n",
    "    label: eyewear,hat, or beard, a string\n",
    "    shuffle: weather to shuffle or not based upon feature extractor or not \n",
    "    batch_size: how many pictures per batch\n",
    "    preprocess_func: vgg16 preprocess or ResNet50\n",
    "    rescale: 1./255 or None\n",
    "    target_size: (224,224) or (150,150)\n",
    "    class_mode: none or binary \n",
    "    return:\n",
    "    train generator and test generator \n",
    "    '''\n",
    "    traingen = ImageDataGenerator(\n",
    "        rescale = rescale,\n",
    "        zoom_range= [0.8,1.7],\n",
    "        shear_range=0.2,\n",
    "        brightness_range=[0.5,1.5],\n",
    "        rotation_range = 40,\n",
    "        width_shift_range=0.2,\n",
    "        height_shift_range=0.2,\n",
    "        horizontal_flip=True,\n",
    "        preprocessing_function=preprocess_func)\n",
    "        \n",
    "    train_generator = traingen.flow_from_dataframe(\n",
    "        dataframe=train_df,\n",
    "        directory='../data/pics',\n",
    "        x_col='pic_id',\n",
    "        y_col=label,\n",
    "        batch_size=batch_size,\n",
    "        shuffle = shuffle,\n",
    "        target_size=target_size,\n",
    "        class_mode = class_mode)\n",
    "    \n",
    "    testgen = ImageDataGenerator(\n",
    "        rescale = rescale,\n",
    "        preprocessing_function=preprocess_func)\n",
    "    \n",
    "    test_generator = testgen.flow_from_dataframe(\n",
    "        dataframe=test_df,\n",
    "        directory='../data/pics',\n",
    "        x_col='pic_id',\n",
    "        y_col=label,\n",
    "        batch_size=batch_size,\n",
    "        shuffle=shuffle,\n",
    "        target_size=target_size,\n",
    "        class_mode=class_mode)\n",
    "    return train_generator, test_generator\n",
    "\n",
    "# class_weights = class_weight.compute_class_weight(\n",
    "#           'balanced',\n",
    "#            np.unique(train_generator.classes),\n",
    "#            train_generator.classes)\n"
   ]
  },
  {
   "cell_type": "code",
   "execution_count": 9,
   "metadata": {},
   "outputs": [],
   "source": [
    "train_df, test_df = create_test_train(df,'eyewear')"
   ]
  },
  {
   "cell_type": "code",
   "execution_count": 43,
   "metadata": {},
   "outputs": [
    {
     "name": "stdout",
     "output_type": "stream",
     "text": [
      "Found 522 validated image filenames belonging to 2 classes.\n",
      "Found 131 validated image filenames belonging to 2 classes.\n"
     ]
    }
   ],
   "source": [
    "train_generator, test_generator = create_generator(train_df=train_df,\n",
    "                                                   test_df=test_df,\n",
    "                                                   label='eyewear',\n",
    "                                                   shuffle=False,\n",
    "                                                   rescale=None,\n",
    "                                                   preprocess_func=preprocess_input,\n",
    "                                                   batch_size=16,\n",
    "                                                   target_size=(224,224),\n",
    "                                                   class_mode='binary')                                                               "
   ]
  },
  {
   "cell_type": "code",
   "execution_count": 44,
   "metadata": {},
   "outputs": [],
   "source": [
    "# calculate class weights \n",
    "class_weights = class_weight.compute_class_weight('balanced',\n",
    "                                                  np.unique(train_generator.classes),\n",
    "                                                  train_generator.classes)"
   ]
  },
  {
   "cell_type": "code",
   "execution_count": 47,
   "metadata": {},
   "outputs": [
    {
     "data": {
      "text/plain": [
       "array([1.03162055, 0.97026022])"
      ]
     },
     "execution_count": 47,
     "metadata": {},
     "output_type": "execute_result"
    }
   ],
   "source": [
    "class_weights"
   ]
  },
  {
   "cell_type": "markdown",
   "metadata": {},
   "source": [
    "---\n",
    "#### Import train_df and test_df"
   ]
  },
  {
   "cell_type": "code",
   "execution_count": 48,
   "metadata": {},
   "outputs": [],
   "source": [
    "# def load_df(label):\n",
    "#     '''\n",
    "#     label: eyewear,beard, or hat a string\n",
    "#     return train and test df \n",
    "#     '''\n",
    "#     if label == 'eyewear':\n",
    "#         train_df = pd.read_pickle('../pickle_files/train_df_glasses.pkl')\n",
    "#         test_df = pd.read_pickle('../pickle_files/test_df_glasses.pkl')\n",
    "#     if label == 'beard':\n",
    "#         train_df = pd.read_pickle('../pickle_files/train_df_beard.pkl')\n",
    "#         test_df = pd.read_pickle('../pickle_files/test_df_beard.pkl')\n",
    "#     if label == 'hat':\n",
    "#         train_df = pd.read_pickle('../pickle_files/train_df_hat.pkl')\n",
    "#         test_df = pd.read_pickle('../pickle_files/test_df_hat.pkl')\n",
    "#     return train_df, test_df     "
   ]
  },
  {
   "cell_type": "code",
   "execution_count": 49,
   "metadata": {},
   "outputs": [],
   "source": [
    "# train_df, test_df = load_df('beard')"
   ]
  },
  {
   "cell_type": "code",
   "execution_count": 50,
   "metadata": {},
   "outputs": [],
   "source": [
    "# train_df.head()"
   ]
  },
  {
   "cell_type": "markdown",
   "metadata": {},
   "source": [
    "#### Get bottleneck features to tune top models"
   ]
  },
  {
   "cell_type": "code",
   "execution_count": 10,
   "metadata": {},
   "outputs": [],
   "source": [
    "def save_bottleneck_features(df, label, batch_size, model_type, preprocess_func, rescale,\n",
    "                            shuffle,target_size,class_mode):\n",
    "    '''\n",
    "    inputs:\n",
    "    df: dataframe for all eyewear, hat, and beard \n",
    "    label: a string, eyewear, hat, or beard\n",
    "    batch_size: process images in batches\n",
    "    model_type: ResNet50 or VGG16\n",
    "    shuffle: weather to shuffle or not based upon feature extractor or not \n",
    "    preprocess_func: vgg16 preprocess or ResNet50\n",
    "    rescale: 1./255 or None\n",
    "    target_size: (224,224) or (150,150)\n",
    "    class_mode: none or binary \n",
    "    outputs:\n",
    "    saves bottleneck features inside folder tuning_data as npy file\n",
    "    '''\n",
    "    # intialize the model, vgg16 or ResNet50 \n",
    "    # make sure not to train the top layers \n",
    "    base_model = model_type(weights = 'imagenet',include_top = False)\n",
    "    # generate test_train df\n",
    "    train_df, test_df = create_test_train(df,label)\n",
    "    # create train_generator and test_generator to get bottleneck inputs for train and test df \n",
    "    # make sure shuffle is False so we know the label follows the sequence of the dataframe \n",
    "    # so we can tune top_model \n",
    "    train_generator, test_generator = create_generator(train_df=train_df,\n",
    "                                                   test_df=test_df,\n",
    "                                                   label=label,\n",
    "                                                   shuffle=shuffle,\n",
    "                                                   rescale=rescale,\n",
    "                                                   preprocess_func=preprocess_input,\n",
    "                                                   batch_size=16,\n",
    "                                                   target_size=target_size,\n",
    "                                                   class_mode=class_mode)  \n",
    "    # get features saved as .npy in tunign_data folder \n",
    "    bottleneck_features_train = base_model.predict_generator(\n",
    "        train_generator, train_df.shape[0]//batch_size)\n",
    "    np.save(open(f'../tuning_data/resnet_data/untracked_resnet50/bottleneck_features_train_{label}_resnet50_beta.npy','wb'),\n",
    "           bottleneck_features_train)\n",
    "    \n",
    "    bottleneck_features_test = base_model.predict_generator(\n",
    "        test_generator, test_df.shape[0]//batch_size)\n",
    "    np.save(open(f'../tuning_data/resnet_data/untracked_resnet50/bottleneck_features_test_{label}_resnet50_beta.npy','wb'),\n",
    "           bottleneck_features_test)\n",
    "    return train_df, test_df"
   ]
  },
  {
   "cell_type": "markdown",
   "metadata": {},
   "source": [
    "#### Save bottleneck_features"
   ]
  },
  {
   "cell_type": "code",
   "execution_count": null,
   "metadata": {
    "scrolled": true
   },
   "outputs": [],
   "source": [
    "save_bottleneck_features(df,'eyewear',16,ResNet50,preprocess_input,\n",
    "                         None,False,(224,224),None)"
   ]
  },
  {
   "cell_type": "markdown",
   "metadata": {},
   "source": [
    "### Quick tuning of top models "
   ]
  },
  {
   "cell_type": "code",
   "execution_count": null,
   "metadata": {},
   "outputs": [],
   "source": [
    "def train_top_model_ResNet50(train_df, test_df, epoch, batch_size, label):\n",
    "    '''\n",
    "    inputs:\n",
    "    train_df, test_df: dataframes returned from save_bottleneck_features functions \n",
    "    epoch: num of epochs in fit \n",
    "    batch_size: same as image generator batch size \n",
    "    label: a string, eyewear, hat, or beard\n",
    "    output:\n",
    "    saves model weights in a folder \n",
    "    '''\n",
    "    train_data = np.load(open(f'../tuning_data/resnet_data/untracked_resnet50/bottleneck_features_train_{label}_resnet50_beta.npy','rb'))\n",
    "    # make sure train_data and train_label have same num of samples\n",
    "    train_label = np.array(train_df[label].map({'not_'+label:0, label:1}))[:-(train_df.shape[0]%batch_size)]\n",
    "    \n",
    "    test_data = np.load(open(f'../tuning_data/resnet_data/untracked_resnet50/bottleneck_features_test_{label}_resnet50_beta.npy','rb'))\n",
    "    test_label = np.array(test_df[label].map({'not_'+label:0, label:1}))[:-(test_df.shape[0]%batch_size)]\n",
    "    \n",
    "    # build top model\n",
    "    model = Sequential()\n",
    "    model.add(GlobalAveragePooling2D(input_shape=train_data.shape[1:]))\n",
    "    model.add(Dense(512, activation='relu'))\n",
    "    model.add(Dropout(0.25))\n",
    "    model.add(Dense(1, activation='sigmoid'))\n",
    "    \n",
    "    model.compile(optimizer= optimizers.Adam(),\n",
    "                 loss='binary_crossentropy',\n",
    "                 metrics=['accuracy'])\n",
    "    \n",
    "    # checkpoint for best weights \n",
    "    filepath=f\"../tuning_data/resnet_data/untracked_resnet50/best_bottleneck_resnet50_model_{label}_beta.h5\"\n",
    "    checkpoint = ModelCheckpoint(filepath, monitor='val_acc', verbose=1, save_best_only=True, mode='max')\n",
    "    callbacks_list = [checkpoint]\n",
    "    \n",
    "    model.fit(train_data, train_label,\n",
    "             epochs=epoch,\n",
    "             batch_size=batch_size,\n",
    "             validation_data=(test_data,test_label),\n",
    "             callbacks=callbacks_list)\n",
    "    del model\n",
    "    keras.backend.clear_session()"
   ]
  },
  {
   "cell_type": "markdown",
   "metadata": {},
   "source": [
    "#### run train_top_model and save results in tuning_data"
   ]
  },
  {
   "cell_type": "code",
   "execution_count": null,
   "metadata": {
    "scrolled": true
   },
   "outputs": [],
   "source": [
    "train_top_model(train_df, test_df, 100, 16, 'eyewear')"
   ]
  },
  {
   "cell_type": "markdown",
   "metadata": {},
   "source": [
    "### Fine Tune Top Model to improve accuracy"
   ]
  },
  {
   "cell_type": "code",
   "execution_count": 116,
   "metadata": {},
   "outputs": [],
   "source": [
    "def fine_tune_model(train_df, test_df,epoch, batch_size,label, print_model = True):\n",
    "    # build VGG16 model and freeze top layers\n",
    "    # input_shape: width, height, RGB (from image generator)\n",
    "    model_resnet50 = ResNet50(weights='imagenet',include_top=False, input_shape=(224,224,3))\n",
    "    # build top model\n",
    "    top_model = Sequential()\n",
    "    top_model.add(GlobalAveragePooling2D(input_shape=model_resnet50.output_shape[1:]))\n",
    "    top_model.add(Dense(512,activation='relu'))\n",
    "    top_model.add(Dropout(0.25))\n",
    "    top_model.add(Dense(1, activation='sigmoid'))\n",
    "    \n",
    "    # load saved weights to fine tune parameters \n",
    "    top_model.load_weights(f'../tuning_data/resnet_data/untracked_resnet50/best_bottleneck_resnet50_model_{label}.h5')\n",
    "    # add top model to model\n",
    "    model = Model(inputs=model_resnet50.input, outputs=top_model(model_resnet50.output))\n",
    "    # we will tune last 8 layers of the model: activation49 and fully connected layer \n",
    "    for layer in model.layers[:-8]:\n",
    "        layer.trainable = False\n",
    "    # we can tune the parameters for lr and momentum later to get better results\n",
    "    model.compile(loss='binary_crossentropy',\n",
    "             optimizer=optimizers.SGD(lr=5e-5, momentum = 0.9),\n",
    "             metrics=['accuracy'])\n",
    "    # prepare train generator using data augmentation to battle small sample size \n",
    "    train_gen = ImageDataGenerator(\n",
    "        zoom_range= [0.8,1.7],\n",
    "        shear_range=0.2,\n",
    "        rotation_range = 40,\n",
    "        width_shift_range=0.2,\n",
    "        height_shift_range=0.2,\n",
    "        horizontal_flip=True,\n",
    "        preprocessing_function=preprocess_input)\n",
    "    # not want to augment the test \n",
    "    test_gen = ImageDataGenerator(preprocessing_function=preprocess_input)\n",
    "    \n",
    "    train_generator =  train_gen.flow_from_dataframe(\n",
    "    dataframe=train_df,\n",
    "    directory='../data/pics',\n",
    "    x_col='pic_id',\n",
    "    y_col=label,\n",
    "    batch_size=batch_size,\n",
    "    target_size=(224,224),\n",
    "    class_mode = 'binary')\n",
    "    \n",
    "    test_generator =  test_gen.flow_from_dataframe(\n",
    "    dataframe=test_df,\n",
    "    directory='../data/pics',\n",
    "    x_col='pic_id',\n",
    "    y_col=label,\n",
    "    batch_size=batch_size,\n",
    "    target_size=(224,224),\n",
    "    class_mode = 'binary')\n",
    "    \n",
    "    # checkpoint for best weights \n",
    "    filepath=f\"../tuning_data/resnet_data/untracked_resnet50/best_resnet50_model_8_layer_{label}_0.25do.h5\"\n",
    "    checkpoint = ModelCheckpoint(filepath, monitor='val_acc', verbose=1, save_best_only=True, mode='max')\n",
    "    callbacks_list = [checkpoint]\n",
    "    \n",
    "    # run and fit model \n",
    "    result = model.fit_generator(\n",
    "    train_generator,\n",
    "    steps_per_epoch=train_df.shape[0]//batch_size,\n",
    "    epochs=epoch,\n",
    "    validation_data=test_generator,\n",
    "    validation_steps=test_df.shape[0]//batch_size,\n",
    "    verbose=1,\n",
    "    callbacks=callbacks_list)\n",
    "    \n",
    "    if print_model:\n",
    "        model.summary()\n",
    "    \n",
    "    del model\n",
    "    keras.backend.clear_session()\n",
    "    return result                "
   ]
  },
  {
   "cell_type": "markdown",
   "metadata": {},
   "source": [
    "### save model history "
   ]
  },
  {
   "cell_type": "code",
   "execution_count": 117,
   "metadata": {},
   "outputs": [
    {
     "name": "stdout",
     "output_type": "stream",
     "text": [
      "Found 363 validated image filenames belonging to 2 classes.\n",
      "Found 91 validated image filenames belonging to 2 classes.\n",
      "Epoch 1/100\n",
      "22/22 [==============================] - 5s 233ms/step - loss: 4.5504 - acc: 0.2437 - val_loss: 5.8995 - val_acc: 0.0875\n",
      "\n",
      "Epoch 00001: val_acc improved from -inf to 0.08750, saving model to ../tuning_data/resnet_data/untracked_resnet50/best_resnet50_model_8_layer_beard_0.25do.h5\n",
      "Epoch 2/100\n",
      "22/22 [==============================] - 4s 200ms/step - loss: 3.8024 - acc: 0.2359 - val_loss: 5.4729 - val_acc: 0.0533\n",
      "\n",
      "Epoch 00002: val_acc did not improve from 0.08750\n",
      "Epoch 3/100\n",
      "22/22 [==============================] - 4s 195ms/step - loss: 3.2095 - acc: 0.1633 - val_loss: 4.6971 - val_acc: 0.0800\n",
      "\n",
      "Epoch 00003: val_acc did not improve from 0.08750\n",
      "Epoch 4/100\n",
      "22/22 [==============================] - 4s 179ms/step - loss: 2.7993 - acc: 0.1534 - val_loss: 4.1538 - val_acc: 0.0267\n",
      "\n",
      "Epoch 00004: val_acc did not improve from 0.08750\n",
      "Epoch 5/100\n",
      "22/22 [==============================] - 4s 184ms/step - loss: 2.3842 - acc: 0.1415 - val_loss: 3.7383 - val_acc: 0.0667\n",
      "\n",
      "Epoch 00005: val_acc did not improve from 0.08750\n",
      "Epoch 6/100\n",
      "22/22 [==============================] - 4s 191ms/step - loss: 2.1311 - acc: 0.1108 - val_loss: 3.1812 - val_acc: 0.0933\n",
      "\n",
      "Epoch 00006: val_acc improved from 0.08750 to 0.09333, saving model to ../tuning_data/resnet_data/untracked_resnet50/best_resnet50_model_8_layer_beard_0.25do.h5\n",
      "Epoch 7/100\n",
      "22/22 [==============================] - 4s 175ms/step - loss: 1.9008 - acc: 0.1292 - val_loss: 2.9663 - val_acc: 0.0875\n",
      "\n",
      "Epoch 00007: val_acc did not improve from 0.09333\n",
      "Epoch 8/100\n",
      "22/22 [==============================] - 4s 201ms/step - loss: 1.7368 - acc: 0.1348 - val_loss: 2.5642 - val_acc: 0.0933\n",
      "\n",
      "Epoch 00008: val_acc did not improve from 0.09333\n",
      "Epoch 9/100\n",
      "22/22 [==============================] - 4s 178ms/step - loss: 1.5245 - acc: 0.1604 - val_loss: 2.6541 - val_acc: 0.0667\n",
      "\n",
      "Epoch 00009: val_acc did not improve from 0.09333\n",
      "Epoch 10/100\n",
      "22/22 [==============================] - 4s 192ms/step - loss: 1.4096 - acc: 0.1166 - val_loss: 2.0869 - val_acc: 0.1467\n",
      "\n",
      "Epoch 00010: val_acc improved from 0.09333 to 0.14667, saving model to ../tuning_data/resnet_data/untracked_resnet50/best_resnet50_model_8_layer_beard_0.25do.h5\n",
      "Epoch 11/100\n",
      "22/22 [==============================] - 4s 183ms/step - loss: 1.3032 - acc: 0.1702 - val_loss: 2.0896 - val_acc: 0.0667\n",
      "\n",
      "Epoch 00011: val_acc did not improve from 0.14667\n",
      "Epoch 12/100\n",
      "22/22 [==============================] - 4s 167ms/step - loss: 1.1866 - acc: 0.1651 - val_loss: 1.8704 - val_acc: 0.1200\n",
      "\n",
      "Epoch 00012: val_acc did not improve from 0.14667\n",
      "Epoch 13/100\n",
      "22/22 [==============================] - 4s 173ms/step - loss: 1.0702 - acc: 0.2254 - val_loss: 1.6861 - val_acc: 0.1250\n",
      "\n",
      "Epoch 00013: val_acc did not improve from 0.14667\n",
      "Epoch 14/100\n",
      "22/22 [==============================] - 5s 215ms/step - loss: 1.0168 - acc: 0.2528 - val_loss: 1.7039 - val_acc: 0.1067\n",
      "\n",
      "Epoch 00014: val_acc did not improve from 0.14667\n",
      "Epoch 15/100\n",
      "22/22 [==============================] - 4s 177ms/step - loss: 0.9459 - acc: 0.2882 - val_loss: 1.4010 - val_acc: 0.1467\n",
      "\n",
      "Epoch 00015: val_acc improved from 0.14667 to 0.14667, saving model to ../tuning_data/resnet_data/untracked_resnet50/best_resnet50_model_8_layer_beard_0.25do.h5\n",
      "Epoch 16/100\n",
      "22/22 [==============================] - 4s 169ms/step - loss: 0.9355 - acc: 0.2756 - val_loss: 1.4095 - val_acc: 0.1600\n",
      "\n",
      "Epoch 00016: val_acc improved from 0.14667 to 0.16000, saving model to ../tuning_data/resnet_data/untracked_resnet50/best_resnet50_model_8_layer_beard_0.25do.h5\n",
      "Epoch 17/100\n",
      "22/22 [==============================] - 4s 190ms/step - loss: 0.8567 - acc: 0.2921 - val_loss: 1.2958 - val_acc: 0.1467\n",
      "\n",
      "Epoch 00017: val_acc did not improve from 0.16000\n",
      "Epoch 18/100\n",
      "22/22 [==============================] - 4s 175ms/step - loss: 0.8053 - acc: 0.3862 - val_loss: 1.2136 - val_acc: 0.2267\n",
      "\n",
      "Epoch 00018: val_acc improved from 0.16000 to 0.22667, saving model to ../tuning_data/resnet_data/untracked_resnet50/best_resnet50_model_8_layer_beard_0.25do.h5\n",
      "Epoch 19/100\n",
      "22/22 [==============================] - 4s 178ms/step - loss: 0.7724 - acc: 0.4423 - val_loss: 1.1158 - val_acc: 0.2750\n",
      "\n",
      "Epoch 00019: val_acc improved from 0.22667 to 0.27500, saving model to ../tuning_data/resnet_data/untracked_resnet50/best_resnet50_model_8_layer_beard_0.25do.h5\n",
      "Epoch 20/100\n",
      "22/22 [==============================] - 4s 192ms/step - loss: 0.7557 - acc: 0.4606 - val_loss: 1.1169 - val_acc: 0.3067\n",
      "\n",
      "Epoch 00020: val_acc improved from 0.27500 to 0.30667, saving model to ../tuning_data/resnet_data/untracked_resnet50/best_resnet50_model_8_layer_beard_0.25do.h5\n",
      "Epoch 21/100\n",
      "22/22 [==============================] - 4s 174ms/step - loss: 0.7163 - acc: 0.5179 - val_loss: 0.9936 - val_acc: 0.3867\n",
      "\n",
      "Epoch 00021: val_acc improved from 0.30667 to 0.38667, saving model to ../tuning_data/resnet_data/untracked_resnet50/best_resnet50_model_8_layer_beard_0.25do.h5\n",
      "Epoch 22/100\n",
      "22/22 [==============================] - 4s 184ms/step - loss: 0.7036 - acc: 0.5399 - val_loss: 0.9388 - val_acc: 0.3200\n",
      "\n",
      "Epoch 00022: val_acc did not improve from 0.38667\n",
      "Epoch 23/100\n",
      "22/22 [==============================] - 4s 172ms/step - loss: 0.6653 - acc: 0.6088 - val_loss: 0.8823 - val_acc: 0.4533\n",
      "\n",
      "Epoch 00023: val_acc improved from 0.38667 to 0.45333, saving model to ../tuning_data/resnet_data/untracked_resnet50/best_resnet50_model_8_layer_beard_0.25do.h5\n",
      "Epoch 24/100\n",
      "22/22 [==============================] - 4s 177ms/step - loss: 0.6564 - acc: 0.6335 - val_loss: 0.8685 - val_acc: 0.3867\n",
      "\n",
      "Epoch 00024: val_acc did not improve from 0.45333\n",
      "Epoch 25/100\n",
      "22/22 [==============================] - 4s 182ms/step - loss: 0.6322 - acc: 0.6582 - val_loss: 0.7955 - val_acc: 0.4750\n",
      "\n",
      "Epoch 00025: val_acc improved from 0.45333 to 0.47500, saving model to ../tuning_data/resnet_data/untracked_resnet50/best_resnet50_model_8_layer_beard_0.25do.h5\n",
      "Epoch 26/100\n",
      "22/22 [==============================] - 4s 202ms/step - loss: 0.6124 - acc: 0.6733 - val_loss: 0.7826 - val_acc: 0.4533\n",
      "\n",
      "Epoch 00026: val_acc did not improve from 0.47500\n",
      "Epoch 27/100\n",
      "22/22 [==============================] - 4s 184ms/step - loss: 0.5926 - acc: 0.6880 - val_loss: 0.7382 - val_acc: 0.5200\n",
      "\n",
      "Epoch 00027: val_acc improved from 0.47500 to 0.52000, saving model to ../tuning_data/resnet_data/untracked_resnet50/best_resnet50_model_8_layer_beard_0.25do.h5\n",
      "Epoch 28/100\n",
      "22/22 [==============================] - 4s 185ms/step - loss: 0.5734 - acc: 0.7268 - val_loss: 0.7023 - val_acc: 0.5600\n",
      "\n",
      "Epoch 00028: val_acc improved from 0.52000 to 0.56000, saving model to ../tuning_data/resnet_data/untracked_resnet50/best_resnet50_model_8_layer_beard_0.25do.h5\n",
      "Epoch 29/100\n",
      "22/22 [==============================] - 4s 176ms/step - loss: 0.5542 - acc: 0.7528 - val_loss: 0.7015 - val_acc: 0.5733\n",
      "\n",
      "Epoch 00029: val_acc improved from 0.56000 to 0.57333, saving model to ../tuning_data/resnet_data/untracked_resnet50/best_resnet50_model_8_layer_beard_0.25do.h5\n",
      "Epoch 30/100\n",
      "22/22 [==============================] - 4s 170ms/step - loss: 0.5425 - acc: 0.7630 - val_loss: 0.6321 - val_acc: 0.6667\n",
      "\n",
      "Epoch 00030: val_acc improved from 0.57333 to 0.66667, saving model to ../tuning_data/resnet_data/untracked_resnet50/best_resnet50_model_8_layer_beard_0.25do.h5\n",
      "Epoch 31/100\n",
      "22/22 [==============================] - 4s 170ms/step - loss: 0.5380 - acc: 0.7657 - val_loss: 0.6210 - val_acc: 0.6625\n",
      "\n",
      "Epoch 00031: val_acc did not improve from 0.66667\n",
      "Epoch 32/100\n",
      "22/22 [==============================] - 5s 208ms/step - loss: 0.5247 - acc: 0.7632 - val_loss: 0.6094 - val_acc: 0.6800\n",
      "\n",
      "Epoch 00032: val_acc improved from 0.66667 to 0.68000, saving model to ../tuning_data/resnet_data/untracked_resnet50/best_resnet50_model_8_layer_beard_0.25do.h5\n",
      "Epoch 33/100\n",
      "22/22 [==============================] - 4s 166ms/step - loss: 0.5061 - acc: 0.7985 - val_loss: 0.5609 - val_acc: 0.7600\n",
      "\n",
      "Epoch 00033: val_acc improved from 0.68000 to 0.76000, saving model to ../tuning_data/resnet_data/untracked_resnet50/best_resnet50_model_8_layer_beard_0.25do.h5\n",
      "Epoch 34/100\n",
      "22/22 [==============================] - 4s 183ms/step - loss: 0.5136 - acc: 0.8055 - val_loss: 0.5790 - val_acc: 0.6533\n"
     ]
    },
    {
     "name": "stdout",
     "output_type": "stream",
     "text": [
      "\n",
      "Epoch 00034: val_acc did not improve from 0.76000\n",
      "Epoch 35/100\n",
      "22/22 [==============================] - 4s 191ms/step - loss: 0.4848 - acc: 0.8153 - val_loss: 0.5255 - val_acc: 0.7467\n",
      "\n",
      "Epoch 00035: val_acc did not improve from 0.76000\n",
      "Epoch 36/100\n",
      "22/22 [==============================] - 4s 167ms/step - loss: 0.4785 - acc: 0.8272 - val_loss: 0.5257 - val_acc: 0.7600\n",
      "\n",
      "Epoch 00036: val_acc did not improve from 0.76000\n",
      "Epoch 37/100\n",
      "22/22 [==============================] - 4s 197ms/step - loss: 0.4931 - acc: 0.7983 - val_loss: 0.4969 - val_acc: 0.7500\n",
      "\n",
      "Epoch 00037: val_acc did not improve from 0.76000\n",
      "Epoch 38/100\n",
      "22/22 [==============================] - 4s 183ms/step - loss: 0.4691 - acc: 0.8398 - val_loss: 0.5148 - val_acc: 0.7200\n",
      "\n",
      "Epoch 00038: val_acc did not improve from 0.76000\n",
      "Epoch 39/100\n",
      "22/22 [==============================] - 4s 185ms/step - loss: 0.4437 - acc: 0.8595 - val_loss: 0.4203 - val_acc: 0.8667\n",
      "\n",
      "Epoch 00039: val_acc improved from 0.76000 to 0.86667, saving model to ../tuning_data/resnet_data/untracked_resnet50/best_resnet50_model_8_layer_beard_0.25do.h5\n",
      "Epoch 40/100\n",
      "22/22 [==============================] - 4s 177ms/step - loss: 0.4542 - acc: 0.8494 - val_loss: 0.5161 - val_acc: 0.7333\n",
      "\n",
      "Epoch 00040: val_acc did not improve from 0.86667\n",
      "Epoch 41/100\n",
      "22/22 [==============================] - 4s 184ms/step - loss: 0.4344 - acc: 0.8292 - val_loss: 0.4265 - val_acc: 0.7867\n",
      "\n",
      "Epoch 00041: val_acc did not improve from 0.86667\n",
      "Epoch 42/100\n",
      "22/22 [==============================] - 4s 180ms/step - loss: 0.4160 - acc: 0.8835 - val_loss: 0.4442 - val_acc: 0.8000\n",
      "\n",
      "Epoch 00042: val_acc did not improve from 0.86667\n",
      "Epoch 43/100\n",
      "22/22 [==============================] - 4s 188ms/step - loss: 0.4276 - acc: 0.8456 - val_loss: 0.4334 - val_acc: 0.8000\n",
      "\n",
      "Epoch 00043: val_acc did not improve from 0.86667\n",
      "Epoch 44/100\n",
      "22/22 [==============================] - 5s 205ms/step - loss: 0.4293 - acc: 0.8213 - val_loss: 0.4032 - val_acc: 0.8267\n",
      "\n",
      "Epoch 00044: val_acc did not improve from 0.86667\n",
      "Epoch 45/100\n",
      "22/22 [==============================] - 4s 189ms/step - loss: 0.3976 - acc: 0.8838 - val_loss: 0.4051 - val_acc: 0.7867\n",
      "\n",
      "Epoch 00045: val_acc did not improve from 0.86667\n",
      "Epoch 46/100\n",
      "22/22 [==============================] - 4s 176ms/step - loss: 0.4114 - acc: 0.8639 - val_loss: 0.3779 - val_acc: 0.8800\n",
      "\n",
      "Epoch 00046: val_acc improved from 0.86667 to 0.88000, saving model to ../tuning_data/resnet_data/untracked_resnet50/best_resnet50_model_8_layer_beard_0.25do.h5\n",
      "Epoch 47/100\n",
      "22/22 [==============================] - 4s 186ms/step - loss: 0.3933 - acc: 0.8708 - val_loss: 0.4098 - val_acc: 0.7733\n",
      "\n",
      "Epoch 00047: val_acc did not improve from 0.88000\n",
      "Epoch 48/100\n",
      "22/22 [==============================] - 4s 184ms/step - loss: 0.4155 - acc: 0.8582 - val_loss: 0.3818 - val_acc: 0.8400\n",
      "\n",
      "Epoch 00048: val_acc did not improve from 0.88000\n",
      "Epoch 49/100\n",
      "22/22 [==============================] - 4s 188ms/step - loss: 0.4095 - acc: 0.8448 - val_loss: 0.3890 - val_acc: 0.8125\n",
      "\n",
      "Epoch 00049: val_acc did not improve from 0.88000\n",
      "Epoch 50/100\n",
      "22/22 [==============================] - 4s 202ms/step - loss: 0.3758 - acc: 0.8867 - val_loss: 0.3619 - val_acc: 0.8800\n",
      "\n",
      "Epoch 00050: val_acc did not improve from 0.88000\n",
      "Epoch 51/100\n",
      "22/22 [==============================] - 4s 180ms/step - loss: 0.3377 - acc: 0.8936 - val_loss: 0.3193 - val_acc: 0.8267\n",
      "\n",
      "Epoch 00051: val_acc did not improve from 0.88000\n",
      "Epoch 52/100\n",
      "22/22 [==============================] - 4s 179ms/step - loss: 0.3591 - acc: 0.8781 - val_loss: 0.3642 - val_acc: 0.8667\n",
      "\n",
      "Epoch 00052: val_acc did not improve from 0.88000\n",
      "Epoch 53/100\n",
      "22/22 [==============================] - 4s 189ms/step - loss: 0.3541 - acc: 0.8949 - val_loss: 0.3411 - val_acc: 0.8533\n",
      "\n",
      "Epoch 00053: val_acc did not improve from 0.88000\n",
      "Epoch 54/100\n",
      "22/22 [==============================] - 4s 170ms/step - loss: 0.3886 - acc: 0.8245 - val_loss: 0.3403 - val_acc: 0.8533\n",
      "\n",
      "Epoch 00054: val_acc did not improve from 0.88000\n",
      "Epoch 55/100\n",
      "22/22 [==============================] - 4s 184ms/step - loss: 0.3638 - acc: 0.8797 - val_loss: 0.3357 - val_acc: 0.8625\n",
      "\n",
      "Epoch 00055: val_acc did not improve from 0.88000\n",
      "Epoch 56/100\n",
      "22/22 [==============================] - 5s 214ms/step - loss: 0.3450 - acc: 0.8911 - val_loss: 0.3500 - val_acc: 0.8533\n",
      "\n",
      "Epoch 00056: val_acc did not improve from 0.88000\n",
      "Epoch 57/100\n",
      "22/22 [==============================] - 4s 166ms/step - loss: 0.3403 - acc: 0.8834 - val_loss: 0.2824 - val_acc: 0.9067\n",
      "\n",
      "Epoch 00057: val_acc improved from 0.88000 to 0.90667, saving model to ../tuning_data/resnet_data/untracked_resnet50/best_resnet50_model_8_layer_beard_0.25do.h5\n",
      "Epoch 58/100\n",
      "22/22 [==============================] - 4s 169ms/step - loss: 0.3425 - acc: 0.8793 - val_loss: 0.3473 - val_acc: 0.8933\n",
      "\n",
      "Epoch 00058: val_acc did not improve from 0.90667\n",
      "Epoch 59/100\n",
      "22/22 [==============================] - 4s 192ms/step - loss: 0.3232 - acc: 0.9006 - val_loss: 0.2833 - val_acc: 0.9200\n",
      "\n",
      "Epoch 00059: val_acc improved from 0.90667 to 0.92000, saving model to ../tuning_data/resnet_data/untracked_resnet50/best_resnet50_model_8_layer_beard_0.25do.h5\n",
      "Epoch 60/100\n",
      "22/22 [==============================] - 4s 172ms/step - loss: 0.3186 - acc: 0.9037 - val_loss: 0.3040 - val_acc: 0.8933\n",
      "\n",
      "Epoch 00060: val_acc did not improve from 0.92000\n",
      "Epoch 61/100\n",
      "22/22 [==============================] - 4s 188ms/step - loss: 0.3391 - acc: 0.8907 - val_loss: 0.3138 - val_acc: 0.9000\n",
      "\n",
      "Epoch 00061: val_acc did not improve from 0.92000\n",
      "Epoch 62/100\n",
      "22/22 [==============================] - 4s 202ms/step - loss: 0.2977 - acc: 0.9220 - val_loss: 0.2807 - val_acc: 0.9333\n",
      "\n",
      "Epoch 00062: val_acc improved from 0.92000 to 0.93333, saving model to ../tuning_data/resnet_data/untracked_resnet50/best_resnet50_model_8_layer_beard_0.25do.h5\n",
      "Epoch 63/100\n",
      "22/22 [==============================] - 4s 167ms/step - loss: 0.3324 - acc: 0.8806 - val_loss: 0.2755 - val_acc: 0.9200\n",
      "\n",
      "Epoch 00063: val_acc did not improve from 0.93333\n",
      "Epoch 64/100\n",
      "22/22 [==============================] - 4s 194ms/step - loss: 0.3127 - acc: 0.8807 - val_loss: 0.3282 - val_acc: 0.8667\n",
      "\n",
      "Epoch 00064: val_acc did not improve from 0.93333\n",
      "Epoch 65/100\n",
      "22/22 [==============================] - 4s 181ms/step - loss: 0.3031 - acc: 0.9163 - val_loss: 0.2554 - val_acc: 0.9200\n",
      "\n",
      "Epoch 00065: val_acc did not improve from 0.93333\n",
      "Epoch 66/100\n",
      "22/22 [==============================] - 4s 178ms/step - loss: 0.3144 - acc: 0.9090 - val_loss: 0.2786 - val_acc: 0.9200\n",
      "\n",
      "Epoch 00066: val_acc did not improve from 0.93333\n",
      "Epoch 67/100\n",
      "22/22 [==============================] - 4s 192ms/step - loss: 0.3160 - acc: 0.8725 - val_loss: 0.2691 - val_acc: 0.9125\n",
      "\n",
      "Epoch 00067: val_acc did not improve from 0.93333\n",
      "Epoch 68/100\n",
      "22/22 [==============================] - 4s 196ms/step - loss: 0.2989 - acc: 0.8996 - val_loss: 0.2970 - val_acc: 0.8933\n",
      "\n",
      "Epoch 00068: val_acc did not improve from 0.93333\n",
      "Epoch 69/100\n",
      "22/22 [==============================] - 4s 190ms/step - loss: 0.3003 - acc: 0.9006 - val_loss: 0.2551 - val_acc: 0.9200\n",
      "\n",
      "Epoch 00069: val_acc did not improve from 0.93333\n",
      "Epoch 70/100\n",
      "22/22 [==============================] - 4s 177ms/step - loss: 0.2685 - acc: 0.9305 - val_loss: 0.2687 - val_acc: 0.9333\n",
      "\n",
      "Epoch 00070: val_acc improved from 0.93333 to 0.93333, saving model to ../tuning_data/resnet_data/untracked_resnet50/best_resnet50_model_8_layer_beard_0.25do.h5\n",
      "Epoch 71/100\n",
      "22/22 [==============================] - 4s 194ms/step - loss: 0.3150 - acc: 0.8822 - val_loss: 0.2582 - val_acc: 0.8800\n",
      "\n",
      "Epoch 00071: val_acc did not improve from 0.93333\n",
      "Epoch 72/100\n",
      "22/22 [==============================] - 4s 185ms/step - loss: 0.2720 - acc: 0.9135 - val_loss: 0.2588 - val_acc: 0.9333\n",
      "\n",
      "Epoch 00072: val_acc did not improve from 0.93333\n",
      "Epoch 73/100\n",
      "22/22 [==============================] - 4s 182ms/step - loss: 0.3054 - acc: 0.8810 - val_loss: 0.2696 - val_acc: 0.9125\n",
      "\n",
      "Epoch 00073: val_acc did not improve from 0.93333\n",
      "Epoch 74/100\n",
      "22/22 [==============================] - 4s 201ms/step - loss: 0.2983 - acc: 0.8949 - val_loss: 0.2342 - val_acc: 0.9467\n",
      "\n",
      "Epoch 00074: val_acc improved from 0.93333 to 0.94667, saving model to ../tuning_data/resnet_data/untracked_resnet50/best_resnet50_model_8_layer_beard_0.25do.h5\n"
     ]
    },
    {
     "name": "stdout",
     "output_type": "stream",
     "text": [
      "Epoch 75/100\n",
      "22/22 [==============================] - 4s 179ms/step - loss: 0.3052 - acc: 0.9021 - val_loss: 0.2451 - val_acc: 0.8800\n",
      "\n",
      "Epoch 00075: val_acc did not improve from 0.94667\n",
      "Epoch 76/100\n",
      "22/22 [==============================] - 4s 171ms/step - loss: 0.2762 - acc: 0.8993 - val_loss: 0.2948 - val_acc: 0.8933\n",
      "\n",
      "Epoch 00076: val_acc did not improve from 0.94667\n",
      "Epoch 77/100\n",
      "22/22 [==============================] - 4s 193ms/step - loss: 0.2997 - acc: 0.8936 - val_loss: 0.2501 - val_acc: 0.9333\n",
      "\n",
      "Epoch 00077: val_acc did not improve from 0.94667\n",
      "Epoch 78/100\n",
      "22/22 [==============================] - 4s 177ms/step - loss: 0.2701 - acc: 0.9148 - val_loss: 0.2232 - val_acc: 0.9200\n",
      "\n",
      "Epoch 00078: val_acc did not improve from 0.94667\n",
      "Epoch 79/100\n",
      "22/22 [==============================] - 4s 188ms/step - loss: 0.2734 - acc: 0.9000 - val_loss: 0.2623 - val_acc: 0.9125\n",
      "\n",
      "Epoch 00079: val_acc did not improve from 0.94667\n",
      "Epoch 80/100\n",
      "22/22 [==============================] - 5s 207ms/step - loss: 0.2798 - acc: 0.8892 - val_loss: 0.1930 - val_acc: 0.9467\n",
      "\n",
      "Epoch 00080: val_acc did not improve from 0.94667\n",
      "Epoch 81/100\n",
      "22/22 [==============================] - 4s 187ms/step - loss: 0.2786 - acc: 0.8863 - val_loss: 0.2422 - val_acc: 0.9200\n",
      "\n",
      "Epoch 00081: val_acc did not improve from 0.94667\n",
      "Epoch 82/100\n",
      "22/22 [==============================] - 4s 194ms/step - loss: 0.2586 - acc: 0.9163 - val_loss: 0.2678 - val_acc: 0.8933\n",
      "\n",
      "Epoch 00082: val_acc did not improve from 0.94667\n",
      "Epoch 83/100\n",
      "22/22 [==============================] - 4s 165ms/step - loss: 0.2533 - acc: 0.9163 - val_loss: 0.2219 - val_acc: 0.9467\n",
      "\n",
      "Epoch 00083: val_acc did not improve from 0.94667\n",
      "Epoch 84/100\n",
      "22/22 [==============================] - 4s 179ms/step - loss: 0.2780 - acc: 0.8919 - val_loss: 0.2529 - val_acc: 0.9067\n",
      "\n",
      "Epoch 00084: val_acc did not improve from 0.94667\n",
      "Epoch 85/100\n",
      "22/22 [==============================] - 4s 181ms/step - loss: 0.2363 - acc: 0.9375 - val_loss: 0.2115 - val_acc: 0.9250\n",
      "\n",
      "Epoch 00085: val_acc did not improve from 0.94667\n",
      "Epoch 86/100\n",
      "22/22 [==============================] - 5s 211ms/step - loss: 0.2641 - acc: 0.8920 - val_loss: 0.2801 - val_acc: 0.9067\n",
      "\n",
      "Epoch 00086: val_acc did not improve from 0.94667\n",
      "Epoch 87/100\n",
      "22/22 [==============================] - 4s 189ms/step - loss: 0.2629 - acc: 0.9093 - val_loss: 0.1684 - val_acc: 0.9333\n",
      "\n",
      "Epoch 00087: val_acc did not improve from 0.94667\n",
      "Epoch 88/100\n",
      "22/22 [==============================] - 4s 166ms/step - loss: 0.2561 - acc: 0.9034 - val_loss: 0.2913 - val_acc: 0.9067\n",
      "\n",
      "Epoch 00088: val_acc did not improve from 0.94667\n",
      "Epoch 89/100\n",
      "22/22 [==============================] - 4s 200ms/step - loss: 0.2575 - acc: 0.9106 - val_loss: 0.1988 - val_acc: 0.9333\n",
      "\n",
      "Epoch 00089: val_acc did not improve from 0.94667\n",
      "Epoch 90/100\n",
      "22/22 [==============================] - 4s 167ms/step - loss: 0.2325 - acc: 0.9232 - val_loss: 0.2319 - val_acc: 0.9200\n",
      "\n",
      "Epoch 00090: val_acc did not improve from 0.94667\n",
      "Epoch 91/100\n",
      "22/22 [==============================] - 4s 191ms/step - loss: 0.2379 - acc: 0.9261 - val_loss: 0.2222 - val_acc: 0.9250\n",
      "\n",
      "Epoch 00091: val_acc did not improve from 0.94667\n",
      "Epoch 92/100\n",
      "22/22 [==============================] - 4s 203ms/step - loss: 0.2364 - acc: 0.9195 - val_loss: 0.2566 - val_acc: 0.9067\n",
      "\n",
      "Epoch 00092: val_acc did not improve from 0.94667\n",
      "Epoch 93/100\n",
      "22/22 [==============================] - 4s 177ms/step - loss: 0.2245 - acc: 0.9520 - val_loss: 0.1915 - val_acc: 0.9200\n",
      "\n",
      "Epoch 00093: val_acc did not improve from 0.94667\n",
      "Epoch 94/100\n",
      "22/22 [==============================] - 4s 197ms/step - loss: 0.2516 - acc: 0.9021 - val_loss: 0.2441 - val_acc: 0.9333\n",
      "\n",
      "Epoch 00094: val_acc did not improve from 0.94667\n",
      "Epoch 95/100\n",
      "22/22 [==============================] - 4s 188ms/step - loss: 0.2244 - acc: 0.9403 - val_loss: 0.2332 - val_acc: 0.9067\n",
      "\n",
      "Epoch 00095: val_acc did not improve from 0.94667\n",
      "Epoch 96/100\n",
      "22/22 [==============================] - 4s 171ms/step - loss: 0.2278 - acc: 0.9249 - val_loss: 0.1868 - val_acc: 0.9200\n",
      "\n",
      "Epoch 00096: val_acc did not improve from 0.94667\n",
      "Epoch 97/100\n",
      "22/22 [==============================] - 4s 196ms/step - loss: 0.2286 - acc: 0.9236 - val_loss: 0.2118 - val_acc: 0.9250\n",
      "\n",
      "Epoch 00097: val_acc did not improve from 0.94667\n",
      "Epoch 98/100\n",
      "22/22 [==============================] - 5s 205ms/step - loss: 0.2419 - acc: 0.8993 - val_loss: 0.2281 - val_acc: 0.9067\n",
      "\n",
      "Epoch 00098: val_acc did not improve from 0.94667\n",
      "Epoch 99/100\n",
      "22/22 [==============================] - 4s 178ms/step - loss: 0.2698 - acc: 0.8980 - val_loss: 0.2190 - val_acc: 0.9200\n",
      "\n",
      "Epoch 00099: val_acc did not improve from 0.94667\n",
      "Epoch 100/100\n",
      "22/22 [==============================] - 4s 178ms/step - loss: 0.2414 - acc: 0.9220 - val_loss: 0.1822 - val_acc: 0.9467\n",
      "\n",
      "Epoch 00100: val_acc did not improve from 0.94667\n"
     ]
    }
   ],
   "source": [
    "model_history = fine_tune_model(train_df, test_df,100,16,'beard', False)"
   ]
  },
  {
   "cell_type": "code",
   "execution_count": 118,
   "metadata": {},
   "outputs": [
    {
     "name": "stdout",
     "output_type": "stream",
     "text": [
      "highest test accuracy: 0.9466666706403096\n",
      "------------------\n",
      "highest train accuracy: 0.9538904897417734\n"
     ]
    }
   ],
   "source": [
    "highest_val_acc, highest_train_acc = max(model_history.history['val_acc']), max(model_history.history['acc'])\n",
    "print(f'highest test accuracy: {highest_val_acc}')\n",
    "print('------------------')\n",
    "print(f'highest train accuracy: {highest_train_acc}')"
   ]
  },
  {
   "cell_type": "code",
   "execution_count": 119,
   "metadata": {},
   "outputs": [
    {
     "name": "stdout",
     "output_type": "stream",
     "text": [
      "lowest test loss: 0.16835455457369486\n",
      "------------------\n",
      "lowest train loss: 0.22229859164194002\n"
     ]
    }
   ],
   "source": [
    "lowest_val_loss, lowest_train_loss = min(model_history.history['val_loss']), min(model_history.history['loss'])\n",
    "print(f'lowest test loss: {lowest_val_loss}')\n",
    "print('------------------')\n",
    "print(f'lowest train loss: {lowest_train_loss}')"
   ]
  },
  {
   "cell_type": "code",
   "execution_count": 120,
   "metadata": {},
   "outputs": [
    {
     "data": {
      "image/png": "[encoded data removed]",
      "text/plain": [
       "<Figure size 432x288 with 1 Axes>"
      ]
     },
     "metadata": {
      "needs_background": "light"
     },
     "output_type": "display_data"
    }
   ],
   "source": [
    "plt.plot(model_history.history['val_acc'][-40:], color = 'red', label = 'test')\n",
    "plt.plot(model_history.history['acc'][-40:], color = 'blue', label = 'train')\n",
    "plt.title('accuracy')\n",
    "plt.ylabel('accuracy')\n",
    "plt.legend()\n",
    "plt.show()"
   ]
  },
  {
   "cell_type": "code",
   "execution_count": 121,
   "metadata": {
    "scrolled": true
   },
   "outputs": [
    {
     "data": {
      "image/png": "[encoded data removed]",
      "text/plain": [
       "<Figure size 432x288 with 1 Axes>"
      ]
     },
     "metadata": {
      "needs_background": "light"
     },
     "output_type": "display_data"
    }
   ],
   "source": [
    "plt.plot(model_history.history['val_loss'][-40:], color = 'red', label = 'test')\n",
    "plt.plot(model_history.history['loss'][-40:], color = 'blue', label = 'train')\n",
    "plt.title('loss')\n",
    "plt.ylabel('loss')\n",
    "plt.legend()\n",
    "plt.show()"
   ]
  },
  {
   "cell_type": "code",
   "execution_count": 11,
   "metadata": {},
   "outputs": [
    {
     "name": "stdout",
     "output_type": "stream",
     "text": [
      "Model: \"model_1\"\n",
      "__________________________________________________________________________________________________\n",
      "Layer (type)                    Output Shape         Param #     Connected to                     \n",
      "==================================================================================================\n",
      "input_1 (InputLayer)            (None, 224, 224, 3)  0                                            \n",
      "__________________________________________________________________________________________________\n",
      "conv1_pad (ZeroPadding2D)       (None, 230, 230, 3)  0           input_1[0][0]                    \n",
      "__________________________________________________________________________________________________\n",
      "conv1 (Conv2D)                  (None, 112, 112, 64) 9472        conv1_pad[0][0]                  \n",
      "__________________________________________________________________________________________________\n",
      "bn_conv1 (BatchNormalization)   (None, 112, 112, 64) 256         conv1[0][0]                      \n",
      "__________________________________________________________________________________________________\n",
      "activation_1 (Activation)       (None, 112, 112, 64) 0           bn_conv1[0][0]                   \n",
      "__________________________________________________________________________________________________\n",
      "pool1_pad (ZeroPadding2D)       (None, 114, 114, 64) 0           activation_1[0][0]               \n",
      "__________________________________________________________________________________________________\n",
      "max_pooling2d_1 (MaxPooling2D)  (None, 56, 56, 64)   0           pool1_pad[0][0]                  \n",
      "__________________________________________________________________________________________________\n",
      "res2a_branch2a (Conv2D)         (None, 56, 56, 64)   4160        max_pooling2d_1[0][0]            \n",
      "__________________________________________________________________________________________________\n",
      "bn2a_branch2a (BatchNormalizati (None, 56, 56, 64)   256         res2a_branch2a[0][0]             \n",
      "__________________________________________________________________________________________________\n",
      "activation_2 (Activation)       (None, 56, 56, 64)   0           bn2a_branch2a[0][0]              \n",
      "__________________________________________________________________________________________________\n",
      "res2a_branch2b (Conv2D)         (None, 56, 56, 64)   36928       activation_2[0][0]               \n",
      "__________________________________________________________________________________________________\n",
      "bn2a_branch2b (BatchNormalizati (None, 56, 56, 64)   256         res2a_branch2b[0][0]             \n",
      "__________________________________________________________________________________________________\n",
      "activation_3 (Activation)       (None, 56, 56, 64)   0           bn2a_branch2b[0][0]              \n",
      "__________________________________________________________________________________________________\n",
      "res2a_branch2c (Conv2D)         (None, 56, 56, 256)  16640       activation_3[0][0]               \n",
      "__________________________________________________________________________________________________\n",
      "res2a_branch1 (Conv2D)          (None, 56, 56, 256)  16640       max_pooling2d_1[0][0]            \n",
      "__________________________________________________________________________________________________\n",
      "bn2a_branch2c (BatchNormalizati (None, 56, 56, 256)  1024        res2a_branch2c[0][0]             \n",
      "__________________________________________________________________________________________________\n",
      "bn2a_branch1 (BatchNormalizatio (None, 56, 56, 256)  1024        res2a_branch1[0][0]              \n",
      "__________________________________________________________________________________________________\n",
      "add_1 (Add)                     (None, 56, 56, 256)  0           bn2a_branch2c[0][0]              \n",
      "                                                                 bn2a_branch1[0][0]               \n",
      "__________________________________________________________________________________________________\n",
      "activation_4 (Activation)       (None, 56, 56, 256)  0           add_1[0][0]                      \n",
      "__________________________________________________________________________________________________\n",
      "res2b_branch2a (Conv2D)         (None, 56, 56, 64)   16448       activation_4[0][0]               \n",
      "__________________________________________________________________________________________________\n",
      "bn2b_branch2a (BatchNormalizati (None, 56, 56, 64)   256         res2b_branch2a[0][0]             \n",
      "__________________________________________________________________________________________________\n",
      "activation_5 (Activation)       (None, 56, 56, 64)   0           bn2b_branch2a[0][0]              \n",
      "__________________________________________________________________________________________________\n",
      "res2b_branch2b (Conv2D)         (None, 56, 56, 64)   36928       activation_5[0][0]               \n",
      "__________________________________________________________________________________________________\n",
      "bn2b_branch2b (BatchNormalizati (None, 56, 56, 64)   256         res2b_branch2b[0][0]             \n",
      "__________________________________________________________________________________________________\n",
      "activation_6 (Activation)       (None, 56, 56, 64)   0           bn2b_branch2b[0][0]              \n",
      "__________________________________________________________________________________________________\n",
      "res2b_branch2c (Conv2D)         (None, 56, 56, 256)  16640       activation_6[0][0]               \n",
      "__________________________________________________________________________________________________\n",
      "bn2b_branch2c (BatchNormalizati (None, 56, 56, 256)  1024        res2b_branch2c[0][0]             \n",
      "__________________________________________________________________________________________________\n",
      "add_2 (Add)                     (None, 56, 56, 256)  0           bn2b_branch2c[0][0]              \n",
      "                                                                 activation_4[0][0]               \n",
      "__________________________________________________________________________________________________\n",
      "activation_7 (Activation)       (None, 56, 56, 256)  0           add_2[0][0]                      \n",
      "__________________________________________________________________________________________________\n",
      "res2c_branch2a (Conv2D)         (None, 56, 56, 64)   16448       activation_7[0][0]               \n",
      "__________________________________________________________________________________________________\n",
      "bn2c_branch2a (BatchNormalizati (None, 56, 56, 64)   256         res2c_branch2a[0][0]             \n",
      "__________________________________________________________________________________________________\n",
      "activation_8 (Activation)       (None, 56, 56, 64)   0           bn2c_branch2a[0][0]              \n",
      "__________________________________________________________________________________________________\n",
      "res2c_branch2b (Conv2D)         (None, 56, 56, 64)   36928       activation_8[0][0]               \n",
      "__________________________________________________________________________________________________\n",
      "bn2c_branch2b (BatchNormalizati (None, 56, 56, 64)   256         res2c_branch2b[0][0]             \n",
      "__________________________________________________________________________________________________\n",
      "activation_9 (Activation)       (None, 56, 56, 64)   0           bn2c_branch2b[0][0]              \n",
      "__________________________________________________________________________________________________\n",
      "res2c_branch2c (Conv2D)         (None, 56, 56, 256)  16640       activation_9[0][0]               \n",
      "__________________________________________________________________________________________________\n",
      "bn2c_branch2c (BatchNormalizati (None, 56, 56, 256)  1024        res2c_branch2c[0][0]             \n",
      "__________________________________________________________________________________________________\n",
      "add_3 (Add)                     (None, 56, 56, 256)  0           bn2c_branch2c[0][0]              \n",
      "                                                                 activation_7[0][0]               \n",
      "__________________________________________________________________________________________________\n",
      "activation_10 (Activation)      (None, 56, 56, 256)  0           add_3[0][0]                      \n",
      "__________________________________________________________________________________________________\n",
      "res3a_branch2a (Conv2D)         (None, 28, 28, 128)  32896       activation_10[0][0]              \n",
      "__________________________________________________________________________________________________\n",
      "bn3a_branch2a (BatchNormalizati (None, 28, 28, 128)  512         res3a_branch2a[0][0]             \n",
      "__________________________________________________________________________________________________\n",
      "activation_11 (Activation)      (None, 28, 28, 128)  0           bn3a_branch2a[0][0]              \n",
      "__________________________________________________________________________________________________\n",
      "res3a_branch2b (Conv2D)         (None, 28, 28, 128)  147584      activation_11[0][0]              \n",
      "__________________________________________________________________________________________________\n",
      "bn3a_branch2b (BatchNormalizati (None, 28, 28, 128)  512         res3a_branch2b[0][0]             \n",
      "__________________________________________________________________________________________________\n",
      "activation_12 (Activation)      (None, 28, 28, 128)  0           bn3a_branch2b[0][0]              \n",
      "__________________________________________________________________________________________________\n",
      "res3a_branch2c (Conv2D)         (None, 28, 28, 512)  66048       activation_12[0][0]              \n",
      "__________________________________________________________________________________________________\n",
      "res3a_branch1 (Conv2D)          (None, 28, 28, 512)  131584      activation_10[0][0]              \n",
      "__________________________________________________________________________________________________\n",
      "bn3a_branch2c (BatchNormalizati (None, 28, 28, 512)  2048        res3a_branch2c[0][0]             \n",
      "__________________________________________________________________________________________________\n",
      "bn3a_branch1 (BatchNormalizatio (None, 28, 28, 512)  2048        res3a_branch1[0][0]              \n",
      "__________________________________________________________________________________________________\n",
      "add_4 (Add)                     (None, 28, 28, 512)  0           bn3a_branch2c[0][0]              \n",
      "                                                                 bn3a_branch1[0][0]               \n",
      "__________________________________________________________________________________________________\n",
      "activation_13 (Activation)      (None, 28, 28, 512)  0           add_4[0][0]                      \n",
      "__________________________________________________________________________________________________\n",
      "res3b_branch2a (Conv2D)         (None, 28, 28, 128)  65664       activation_13[0][0]              \n",
      "__________________________________________________________________________________________________\n",
      "bn3b_branch2a (BatchNormalizati (None, 28, 28, 128)  512         res3b_branch2a[0][0]             \n",
      "__________________________________________________________________________________________________\n",
      "activation_14 (Activation)      (None, 28, 28, 128)  0           bn3b_branch2a[0][0]              \n",
      "__________________________________________________________________________________________________\n",
      "res3b_branch2b (Conv2D)         (None, 28, 28, 128)  147584      activation_14[0][0]              \n",
      "__________________________________________________________________________________________________\n",
      "bn3b_branch2b (BatchNormalizati (None, 28, 28, 128)  512         res3b_branch2b[0][0]             \n",
      "__________________________________________________________________________________________________\n",
      "activation_15 (Activation)      (None, 28, 28, 128)  0           bn3b_branch2b[0][0]              \n",
      "__________________________________________________________________________________________________\n",
      "res3b_branch2c (Conv2D)         (None, 28, 28, 512)  66048       activation_15[0][0]              \n",
      "__________________________________________________________________________________________________\n",
      "bn3b_branch2c (BatchNormalizati (None, 28, 28, 512)  2048        res3b_branch2c[0][0]             \n",
      "__________________________________________________________________________________________________\n",
      "add_5 (Add)                     (None, 28, 28, 512)  0           bn3b_branch2c[0][0]              \n",
      "                                                                 activation_13[0][0]              \n",
      "__________________________________________________________________________________________________\n",
      "activation_16 (Activation)      (None, 28, 28, 512)  0           add_5[0][0]                      \n",
      "__________________________________________________________________________________________________\n",
      "res3c_branch2a (Conv2D)         (None, 28, 28, 128)  65664       activation_16[0][0]              \n",
      "__________________________________________________________________________________________________\n",
      "bn3c_branch2a (BatchNormalizati (None, 28, 28, 128)  512         res3c_branch2a[0][0]             \n",
      "__________________________________________________________________________________________________\n",
      "activation_17 (Activation)      (None, 28, 28, 128)  0           bn3c_branch2a[0][0]              \n",
      "__________________________________________________________________________________________________\n",
      "res3c_branch2b (Conv2D)         (None, 28, 28, 128)  147584      activation_17[0][0]              \n",
      "__________________________________________________________________________________________________\n",
      "bn3c_branch2b (BatchNormalizati (None, 28, 28, 128)  512         res3c_branch2b[0][0]             \n",
      "__________________________________________________________________________________________________\n",
      "activation_18 (Activation)      (None, 28, 28, 128)  0           bn3c_branch2b[0][0]              \n",
      "__________________________________________________________________________________________________\n",
      "res3c_branch2c (Conv2D)         (None, 28, 28, 512)  66048       activation_18[0][0]              \n",
      "__________________________________________________________________________________________________\n",
      "bn3c_branch2c (BatchNormalizati (None, 28, 28, 512)  2048        res3c_branch2c[0][0]             \n",
      "__________________________________________________________________________________________________\n",
      "add_6 (Add)                     (None, 28, 28, 512)  0           bn3c_branch2c[0][0]              \n",
      "                                                                 activation_16[0][0]              \n",
      "__________________________________________________________________________________________________\n",
      "activation_19 (Activation)      (None, 28, 28, 512)  0           add_6[0][0]                      \n",
      "__________________________________________________________________________________________________\n",
      "res3d_branch2a (Conv2D)         (None, 28, 28, 128)  65664       activation_19[0][0]              \n",
      "__________________________________________________________________________________________________\n",
      "bn3d_branch2a (BatchNormalizati (None, 28, 28, 128)  512         res3d_branch2a[0][0]             \n",
      "__________________________________________________________________________________________________\n",
      "activation_20 (Activation)      (None, 28, 28, 128)  0           bn3d_branch2a[0][0]              \n",
      "__________________________________________________________________________________________________\n",
      "res3d_branch2b (Conv2D)         (None, 28, 28, 128)  147584      activation_20[0][0]              \n",
      "__________________________________________________________________________________________________\n",
      "bn3d_branch2b (BatchNormalizati (None, 28, 28, 128)  512         res3d_branch2b[0][0]             \n",
      "__________________________________________________________________________________________________\n",
      "activation_21 (Activation)      (None, 28, 28, 128)  0           bn3d_branch2b[0][0]              \n",
      "__________________________________________________________________________________________________\n",
      "res3d_branch2c (Conv2D)         (None, 28, 28, 512)  66048       activation_21[0][0]              \n",
      "__________________________________________________________________________________________________\n",
      "bn3d_branch2c (BatchNormalizati (None, 28, 28, 512)  2048        res3d_branch2c[0][0]             \n",
      "__________________________________________________________________________________________________\n",
      "add_7 (Add)                     (None, 28, 28, 512)  0           bn3d_branch2c[0][0]              \n",
      "                                                                 activation_19[0][0]              \n",
      "__________________________________________________________________________________________________\n",
      "activation_22 (Activation)      (None, 28, 28, 512)  0           add_7[0][0]                      \n",
      "__________________________________________________________________________________________________\n",
      "res4a_branch2a (Conv2D)         (None, 14, 14, 256)  131328      activation_22[0][0]              \n",
      "__________________________________________________________________________________________________\n",
      "bn4a_branch2a (BatchNormalizati (None, 14, 14, 256)  1024        res4a_branch2a[0][0]             \n",
      "__________________________________________________________________________________________________\n",
      "activation_23 (Activation)      (None, 14, 14, 256)  0           bn4a_branch2a[0][0]              \n",
      "__________________________________________________________________________________________________\n",
      "res4a_branch2b (Conv2D)         (None, 14, 14, 256)  590080      activation_23[0][0]              \n",
      "__________________________________________________________________________________________________\n",
      "bn4a_branch2b (BatchNormalizati (None, 14, 14, 256)  1024        res4a_branch2b[0][0]             \n",
      "__________________________________________________________________________________________________\n",
      "activation_24 (Activation)      (None, 14, 14, 256)  0           bn4a_branch2b[0][0]              \n",
      "__________________________________________________________________________________________________\n",
      "res4a_branch2c (Conv2D)         (None, 14, 14, 1024) 263168      activation_24[0][0]              \n",
      "__________________________________________________________________________________________________\n",
      "res4a_branch1 (Conv2D)          (None, 14, 14, 1024) 525312      activation_22[0][0]              \n",
      "__________________________________________________________________________________________________\n",
      "bn4a_branch2c (BatchNormalizati (None, 14, 14, 1024) 4096        res4a_branch2c[0][0]             \n",
      "__________________________________________________________________________________________________\n",
      "bn4a_branch1 (BatchNormalizatio (None, 14, 14, 1024) 4096        res4a_branch1[0][0]              \n",
      "__________________________________________________________________________________________________\n",
      "add_8 (Add)                     (None, 14, 14, 1024) 0           bn4a_branch2c[0][0]              \n",
      "                                                                 bn4a_branch1[0][0]               \n",
      "__________________________________________________________________________________________________\n",
      "activation_25 (Activation)      (None, 14, 14, 1024) 0           add_8[0][0]                      \n",
      "__________________________________________________________________________________________________\n",
      "res4b_branch2a (Conv2D)         (None, 14, 14, 256)  262400      activation_25[0][0]              \n",
      "__________________________________________________________________________________________________\n",
      "bn4b_branch2a (BatchNormalizati (None, 14, 14, 256)  1024        res4b_branch2a[0][0]             \n",
      "__________________________________________________________________________________________________\n",
      "activation_26 (Activation)      (None, 14, 14, 256)  0           bn4b_branch2a[0][0]              \n",
      "__________________________________________________________________________________________________\n",
      "res4b_branch2b (Conv2D)         (None, 14, 14, 256)  590080      activation_26[0][0]              \n",
      "__________________________________________________________________________________________________\n",
      "bn4b_branch2b (BatchNormalizati (None, 14, 14, 256)  1024        res4b_branch2b[0][0]             \n",
      "__________________________________________________________________________________________________\n",
      "activation_27 (Activation)      (None, 14, 14, 256)  0           bn4b_branch2b[0][0]              \n",
      "__________________________________________________________________________________________________\n",
      "res4b_branch2c (Conv2D)         (None, 14, 14, 1024) 263168      activation_27[0][0]              \n",
      "__________________________________________________________________________________________________\n",
      "bn4b_branch2c (BatchNormalizati (None, 14, 14, 1024) 4096        res4b_branch2c[0][0]             \n",
      "__________________________________________________________________________________________________\n",
      "add_9 (Add)                     (None, 14, 14, 1024) 0           bn4b_branch2c[0][0]              \n",
      "                                                                 activation_25[0][0]              \n",
      "__________________________________________________________________________________________________\n",
      "activation_28 (Activation)      (None, 14, 14, 1024) 0           add_9[0][0]                      \n",
      "__________________________________________________________________________________________________\n",
      "res4c_branch2a (Conv2D)         (None, 14, 14, 256)  262400      activation_28[0][0]              \n",
      "__________________________________________________________________________________________________\n",
      "bn4c_branch2a (BatchNormalizati (None, 14, 14, 256)  1024        res4c_branch2a[0][0]             \n",
      "__________________________________________________________________________________________________\n",
      "activation_29 (Activation)      (None, 14, 14, 256)  0           bn4c_branch2a[0][0]              \n",
      "__________________________________________________________________________________________________\n",
      "res4c_branch2b (Conv2D)         (None, 14, 14, 256)  590080      activation_29[0][0]              \n",
      "__________________________________________________________________________________________________\n",
      "bn4c_branch2b (BatchNormalizati (None, 14, 14, 256)  1024        res4c_branch2b[0][0]             \n",
      "__________________________________________________________________________________________________\n",
      "activation_30 (Activation)      (None, 14, 14, 256)  0           bn4c_branch2b[0][0]              \n",
      "__________________________________________________________________________________________________\n",
      "res4c_branch2c (Conv2D)         (None, 14, 14, 1024) 263168      activation_30[0][0]              \n",
      "__________________________________________________________________________________________________\n",
      "bn4c_branch2c (BatchNormalizati (None, 14, 14, 1024) 4096        res4c_branch2c[0][0]             \n",
      "__________________________________________________________________________________________________\n",
      "add_10 (Add)                    (None, 14, 14, 1024) 0           bn4c_branch2c[0][0]              \n",
      "                                                                 activation_28[0][0]              \n",
      "__________________________________________________________________________________________________\n",
      "activation_31 (Activation)      (None, 14, 14, 1024) 0           add_10[0][0]                     \n",
      "__________________________________________________________________________________________________\n",
      "res4d_branch2a (Conv2D)         (None, 14, 14, 256)  262400      activation_31[0][0]              \n",
      "__________________________________________________________________________________________________\n",
      "bn4d_branch2a (BatchNormalizati (None, 14, 14, 256)  1024        res4d_branch2a[0][0]             \n",
      "__________________________________________________________________________________________________\n",
      "activation_32 (Activation)      (None, 14, 14, 256)  0           bn4d_branch2a[0][0]              \n",
      "__________________________________________________________________________________________________\n",
      "res4d_branch2b (Conv2D)         (None, 14, 14, 256)  590080      activation_32[0][0]              \n",
      "__________________________________________________________________________________________________\n",
      "bn4d_branch2b (BatchNormalizati (None, 14, 14, 256)  1024        res4d_branch2b[0][0]             \n",
      "__________________________________________________________________________________________________\n",
      "activation_33 (Activation)      (None, 14, 14, 256)  0           bn4d_branch2b[0][0]              \n",
      "__________________________________________________________________________________________________\n",
      "res4d_branch2c (Conv2D)         (None, 14, 14, 1024) 263168      activation_33[0][0]              \n",
      "__________________________________________________________________________________________________\n",
      "bn4d_branch2c (BatchNormalizati (None, 14, 14, 1024) 4096        res4d_branch2c[0][0]             \n",
      "__________________________________________________________________________________________________\n",
      "add_11 (Add)                    (None, 14, 14, 1024) 0           bn4d_branch2c[0][0]              \n",
      "                                                                 activation_31[0][0]              \n",
      "__________________________________________________________________________________________________\n",
      "activation_34 (Activation)      (None, 14, 14, 1024) 0           add_11[0][0]                     \n",
      "__________________________________________________________________________________________________\n",
      "res4e_branch2a (Conv2D)         (None, 14, 14, 256)  262400      activation_34[0][0]              \n",
      "__________________________________________________________________________________________________\n",
      "bn4e_branch2a (BatchNormalizati (None, 14, 14, 256)  1024        res4e_branch2a[0][0]             \n",
      "__________________________________________________________________________________________________\n",
      "activation_35 (Activation)      (None, 14, 14, 256)  0           bn4e_branch2a[0][0]              \n",
      "__________________________________________________________________________________________________\n",
      "res4e_branch2b (Conv2D)         (None, 14, 14, 256)  590080      activation_35[0][0]              \n",
      "__________________________________________________________________________________________________\n",
      "bn4e_branch2b (BatchNormalizati (None, 14, 14, 256)  1024        res4e_branch2b[0][0]             \n",
      "__________________________________________________________________________________________________\n",
      "activation_36 (Activation)      (None, 14, 14, 256)  0           bn4e_branch2b[0][0]              \n",
      "__________________________________________________________________________________________________\n",
      "res4e_branch2c (Conv2D)         (None, 14, 14, 1024) 263168      activation_36[0][0]              \n",
      "__________________________________________________________________________________________________\n",
      "bn4e_branch2c (BatchNormalizati (None, 14, 14, 1024) 4096        res4e_branch2c[0][0]             \n",
      "__________________________________________________________________________________________________\n",
      "add_12 (Add)                    (None, 14, 14, 1024) 0           bn4e_branch2c[0][0]              \n",
      "                                                                 activation_34[0][0]              \n",
      "__________________________________________________________________________________________________\n",
      "activation_37 (Activation)      (None, 14, 14, 1024) 0           add_12[0][0]                     \n",
      "__________________________________________________________________________________________________\n",
      "res4f_branch2a (Conv2D)         (None, 14, 14, 256)  262400      activation_37[0][0]              \n",
      "__________________________________________________________________________________________________\n",
      "bn4f_branch2a (BatchNormalizati (None, 14, 14, 256)  1024        res4f_branch2a[0][0]             \n",
      "__________________________________________________________________________________________________\n",
      "activation_38 (Activation)      (None, 14, 14, 256)  0           bn4f_branch2a[0][0]              \n",
      "__________________________________________________________________________________________________\n",
      "res4f_branch2b (Conv2D)         (None, 14, 14, 256)  590080      activation_38[0][0]              \n",
      "__________________________________________________________________________________________________\n",
      "bn4f_branch2b (BatchNormalizati (None, 14, 14, 256)  1024        res4f_branch2b[0][0]             \n",
      "__________________________________________________________________________________________________\n",
      "activation_39 (Activation)      (None, 14, 14, 256)  0           bn4f_branch2b[0][0]              \n",
      "__________________________________________________________________________________________________\n",
      "res4f_branch2c (Conv2D)         (None, 14, 14, 1024) 263168      activation_39[0][0]              \n",
      "__________________________________________________________________________________________________\n",
      "bn4f_branch2c (BatchNormalizati (None, 14, 14, 1024) 4096        res4f_branch2c[0][0]             \n",
      "__________________________________________________________________________________________________\n",
      "add_13 (Add)                    (None, 14, 14, 1024) 0           bn4f_branch2c[0][0]              \n",
      "                                                                 activation_37[0][0]              \n",
      "__________________________________________________________________________________________________\n",
      "activation_40 (Activation)      (None, 14, 14, 1024) 0           add_13[0][0]                     \n",
      "__________________________________________________________________________________________________\n",
      "res5a_branch2a (Conv2D)         (None, 7, 7, 512)    524800      activation_40[0][0]              \n",
      "__________________________________________________________________________________________________\n",
      "bn5a_branch2a (BatchNormalizati (None, 7, 7, 512)    2048        res5a_branch2a[0][0]             \n",
      "__________________________________________________________________________________________________\n",
      "activation_41 (Activation)      (None, 7, 7, 512)    0           bn5a_branch2a[0][0]              \n",
      "__________________________________________________________________________________________________\n",
      "res5a_branch2b (Conv2D)         (None, 7, 7, 512)    2359808     activation_41[0][0]              \n",
      "__________________________________________________________________________________________________\n",
      "bn5a_branch2b (BatchNormalizati (None, 7, 7, 512)    2048        res5a_branch2b[0][0]             \n",
      "__________________________________________________________________________________________________\n",
      "activation_42 (Activation)      (None, 7, 7, 512)    0           bn5a_branch2b[0][0]              \n",
      "__________________________________________________________________________________________________\n",
      "res5a_branch2c (Conv2D)         (None, 7, 7, 2048)   1050624     activation_42[0][0]              \n",
      "__________________________________________________________________________________________________\n",
      "res5a_branch1 (Conv2D)          (None, 7, 7, 2048)   2099200     activation_40[0][0]              \n",
      "__________________________________________________________________________________________________\n",
      "bn5a_branch2c (BatchNormalizati (None, 7, 7, 2048)   8192        res5a_branch2c[0][0]             \n",
      "__________________________________________________________________________________________________\n",
      "bn5a_branch1 (BatchNormalizatio (None, 7, 7, 2048)   8192        res5a_branch1[0][0]              \n",
      "__________________________________________________________________________________________________\n",
      "add_14 (Add)                    (None, 7, 7, 2048)   0           bn5a_branch2c[0][0]              \n",
      "                                                                 bn5a_branch1[0][0]               \n",
      "__________________________________________________________________________________________________\n",
      "activation_43 (Activation)      (None, 7, 7, 2048)   0           add_14[0][0]                     \n",
      "__________________________________________________________________________________________________\n",
      "res5b_branch2a (Conv2D)         (None, 7, 7, 512)    1049088     activation_43[0][0]              \n",
      "__________________________________________________________________________________________________\n",
      "bn5b_branch2a (BatchNormalizati (None, 7, 7, 512)    2048        res5b_branch2a[0][0]             \n",
      "__________________________________________________________________________________________________\n",
      "activation_44 (Activation)      (None, 7, 7, 512)    0           bn5b_branch2a[0][0]              \n",
      "__________________________________________________________________________________________________\n",
      "res5b_branch2b (Conv2D)         (None, 7, 7, 512)    2359808     activation_44[0][0]              \n",
      "__________________________________________________________________________________________________\n",
      "bn5b_branch2b (BatchNormalizati (None, 7, 7, 512)    2048        res5b_branch2b[0][0]             \n",
      "__________________________________________________________________________________________________\n",
      "activation_45 (Activation)      (None, 7, 7, 512)    0           bn5b_branch2b[0][0]              \n",
      "__________________________________________________________________________________________________\n",
      "res5b_branch2c (Conv2D)         (None, 7, 7, 2048)   1050624     activation_45[0][0]              \n",
      "__________________________________________________________________________________________________\n",
      "bn5b_branch2c (BatchNormalizati (None, 7, 7, 2048)   8192        res5b_branch2c[0][0]             \n",
      "__________________________________________________________________________________________________\n",
      "add_15 (Add)                    (None, 7, 7, 2048)   0           bn5b_branch2c[0][0]              \n",
      "                                                                 activation_43[0][0]              \n",
      "__________________________________________________________________________________________________\n",
      "activation_46 (Activation)      (None, 7, 7, 2048)   0           add_15[0][0]                     \n",
      "__________________________________________________________________________________________________\n",
      "res5c_branch2a (Conv2D)         (None, 7, 7, 512)    1049088     activation_46[0][0]              \n",
      "__________________________________________________________________________________________________\n",
      "bn5c_branch2a (BatchNormalizati (None, 7, 7, 512)    2048        res5c_branch2a[0][0]             \n",
      "__________________________________________________________________________________________________\n",
      "activation_47 (Activation)      (None, 7, 7, 512)    0           bn5c_branch2a[0][0]              \n",
      "__________________________________________________________________________________________________\n",
      "res5c_branch2b (Conv2D)         (None, 7, 7, 512)    2359808     activation_47[0][0]              \n",
      "__________________________________________________________________________________________________\n",
      "bn5c_branch2b (BatchNormalizati (None, 7, 7, 512)    2048        res5c_branch2b[0][0]             \n",
      "__________________________________________________________________________________________________\n",
      "activation_48 (Activation)      (None, 7, 7, 512)    0           bn5c_branch2b[0][0]              \n",
      "__________________________________________________________________________________________________\n",
      "res5c_branch2c (Conv2D)         (None, 7, 7, 2048)   1050624     activation_48[0][0]              \n",
      "__________________________________________________________________________________________________\n",
      "bn5c_branch2c (BatchNormalizati (None, 7, 7, 2048)   8192        res5c_branch2c[0][0]             \n",
      "__________________________________________________________________________________________________\n",
      "add_16 (Add)                    (None, 7, 7, 2048)   0           bn5c_branch2c[0][0]              \n",
      "                                                                 activation_46[0][0]              \n",
      "__________________________________________________________________________________________________\n",
      "activation_49 (Activation)      (None, 7, 7, 2048)   0           add_16[0][0]                     \n",
      "__________________________________________________________________________________________________\n",
      "sequential_1 (Sequential)       (None, 1)            1049601     activation_49[0][0]              \n",
      "==================================================================================================\n",
      "Total params: 24,637,313\n",
      "Trainable params: 4,465,153\n",
      "Non-trainable params: 20,172,160\n",
      "__________________________________________________________________________________________________\n"
     ]
    }
   ],
   "source": [
    "model_history.model.summary()"
   ]
  },
  {
   "cell_type": "markdown",
   "metadata": {},
   "source": [
    "### Save model "
   ]
  },
  {
   "cell_type": "code",
   "execution_count": 15,
   "metadata": {},
   "outputs": [],
   "source": [
    "# # save model artchitecture \n",
    "# resnet50_model_8_up = model_history.model\n",
    "# resnet50_model_8_up_json = resnet50_model_8_up.to_json()"
   ]
  },
  {
   "cell_type": "code",
   "execution_count": 16,
   "metadata": {},
   "outputs": [],
   "source": [
    "# # serialize model to JSON\n",
    "# with open(\"../tuning_data/resnet_data/resnet50_model_8_up.json\", \"w\") as json_file:\n",
    "#     json_file.write(resnet50_model_8_up_json)"
   ]
  },
  {
   "cell_type": "markdown",
   "metadata": {},
   "source": [
    "### Testing model"
   ]
  },
  {
   "cell_type": "code",
   "execution_count": 17,
   "metadata": {},
   "outputs": [
    {
     "data": {
      "text/html": [
       "<div>\n",
       "<style scoped>\n",
       "    .dataframe tbody tr th:only-of-type {\n",
       "        vertical-align: middle;\n",
       "    }\n",
       "\n",
       "    .dataframe tbody tr th {\n",
       "        vertical-align: top;\n",
       "    }\n",
       "\n",
       "    .dataframe thead th {\n",
       "        text-align: right;\n",
       "    }\n",
       "</style>\n",
       "<table border=\"1\" class=\"dataframe\">\n",
       "  <thead>\n",
       "    <tr style=\"text-align: right;\">\n",
       "      <th></th>\n",
       "      <th>pic_id</th>\n",
       "      <th>eyewear</th>\n",
       "    </tr>\n",
       "  </thead>\n",
       "  <tbody>\n",
       "    <tr>\n",
       "      <th>235</th>\n",
       "      <td>00964.jpg</td>\n",
       "      <td>not_eyewear</td>\n",
       "    </tr>\n",
       "    <tr>\n",
       "      <th>171</th>\n",
       "      <td>00872.jpg</td>\n",
       "      <td>not_eyewear</td>\n",
       "    </tr>\n",
       "    <tr>\n",
       "      <th>372</th>\n",
       "      <td>00412.jpg</td>\n",
       "      <td>eyewear</td>\n",
       "    </tr>\n",
       "    <tr>\n",
       "      <th>93</th>\n",
       "      <td>00745.jpg</td>\n",
       "      <td>not_eyewear</td>\n",
       "    </tr>\n",
       "    <tr>\n",
       "      <th>142</th>\n",
       "      <td>00822.jpg</td>\n",
       "      <td>not_eyewear</td>\n",
       "    </tr>\n",
       "  </tbody>\n",
       "</table>\n",
       "</div>"
      ],
      "text/plain": [
       "        pic_id      eyewear\n",
       "235  00964.jpg  not_eyewear\n",
       "171  00872.jpg  not_eyewear\n",
       "372  00412.jpg      eyewear\n",
       "93   00745.jpg  not_eyewear\n",
       "142  00822.jpg  not_eyewear"
      ]
     },
     "execution_count": 17,
     "metadata": {},
     "output_type": "execute_result"
    }
   ],
   "source": [
    "train_df, test_df = load_df('eyewear')\n",
    "df = pd.concat([train_df,test_df])\n",
    "df.head()"
   ]
  },
  {
   "cell_type": "code",
   "execution_count": 18,
   "metadata": {},
   "outputs": [],
   "source": [
    "# load json and create model\n",
    "def model_testing(model_path, weight_path, label):\n",
    "    '''\n",
    "    model_path: json model path\n",
    "    weight_path: path for weights \n",
    "    label: eyewear, hat, or beard\n",
    "    '''\n",
    "    train_df, test_df = load_df(label)\n",
    "    df = pd.concat([train_df,test_df])\n",
    "    json_file = open(model_path, 'r')\n",
    "    loaded_model_json = json_file.read()\n",
    "    json_file.close()\n",
    "    loaded_model = model_from_json(loaded_model_json)\n",
    "    # load model weight yewear_decay_\n",
    "    loaded_model.load_weights(weight_path)\n",
    "    # test test data\n",
    "    data_gen = ImageDataGenerator(preprocessing_function=preprocess_input)\n",
    "    data_generator = data_gen.flow_from_dataframe(\n",
    "        dataframe=df,\n",
    "        directory='../data/pics',\n",
    "        x_col='pic_id',\n",
    "        y_col=label,\n",
    "        batch_size=300,\n",
    "        target_size=(224,224),\n",
    "        class_mode = 'binary',\n",
    "        shuffle = False\n",
    "    )\n",
    "    labels = df[label].map({f'not_{label}':1, f'{label}':0})\n",
    "    \n",
    "    loaded_model.compile(loss='binary_crossentropy',\n",
    "             optimizer=optimizers.SGD(),\n",
    "             metrics=['accuracy']\n",
    "                        )\n",
    "    y_pred = np.around(loaded_model.predict_generator(data_generator, workers=8))\n",
    "    fpr, tpr, thresholds = roc_curve(labels, y_pred)\n",
    "    area = roc_auc_score(labels, y_pred)\n",
    "    plt.title('Receiver Operating Characteristic')\n",
    "    plt.plot(fpr, tpr, 'b', label = 'AUC = %0.2f' % area)\n",
    "    plt.legend(loc = 'lower right')\n",
    "    plt.plot([0, 1], [0, 1],'r--')\n",
    "    plt.xlim([0, 1])\n",
    "    plt.ylim([0, 1])\n",
    "    plt.ylabel('True Positive Rate')\n",
    "    plt.xlabel('False Positive Rate')\n",
    "    plt.show()\n",
    "    print(confusion_matrix(labels, y_pred))\n",
    "    print(classification_report(labels, y_pred))    "
   ]
  },
  {
   "cell_type": "code",
   "execution_count": 19,
   "metadata": {},
   "outputs": [
    {
     "name": "stdout",
     "output_type": "stream",
     "text": [
      "Found 632 validated image filenames belonging to 2 classes.\n"
     ]
    },
    {
     "data": {
      "image/png": "[encoded data removed]",
      "text/plain": [
       "<Figure size 432x288 with 1 Axes>"
      ]
     },
     "metadata": {
      "needs_background": "light"
     },
     "output_type": "display_data"
    },
    {
     "name": "stdout",
     "output_type": "stream",
     "text": [
      "[[303  13]\n",
      " [ 27 289]]\n",
      "              precision    recall  f1-score   support\n",
      "\n",
      "           0       0.92      0.96      0.94       316\n",
      "           1       0.96      0.91      0.94       316\n",
      "\n",
      "    accuracy                           0.94       632\n",
      "   macro avg       0.94      0.94      0.94       632\n",
      "weighted avg       0.94      0.94      0.94       632\n",
      "\n"
     ]
    }
   ],
   "source": [
    "model_testing('../tuning_data/resnet_data/resnet50_model_8_up.json', \n",
    "              '../tuning_data/resnet_data/untracked_resnet50/best_resnet50_model_8_layer_eyewear_0.5do.h5',\n",
    "              'eyewear')\n",
    "# keep best_resnet50_model_8_layer_eyewear_0.5do.h5"
   ]
  },
  {
   "cell_type": "code",
   "execution_count": 20,
   "metadata": {
    "scrolled": true
   },
   "outputs": [
    {
     "name": "stdout",
     "output_type": "stream",
     "text": [
      "Found 632 validated image filenames belonging to 2 classes.\n"
     ]
    },
    {
     "data": {
      "image/png": "[encoded data removed]",
      "text/plain": [
       "<Figure size 432x288 with 1 Axes>"
      ]
     },
     "metadata": {
      "needs_background": "light"
     },
     "output_type": "display_data"
    },
    {
     "name": "stdout",
     "output_type": "stream",
     "text": [
      "[[312   4]\n",
      " [ 26 290]]\n",
      "              precision    recall  f1-score   support\n",
      "\n",
      "           0       0.92      0.99      0.95       316\n",
      "           1       0.99      0.92      0.95       316\n",
      "\n",
      "    accuracy                           0.95       632\n",
      "   macro avg       0.95      0.95      0.95       632\n",
      "weighted avg       0.95      0.95      0.95       632\n",
      "\n"
     ]
    }
   ],
   "source": [
    "model_testing('../tuning_data/resnet_data/resnet50_model_5_up.json', \n",
    "              '../tuning_data/resnet_data/untracked_resnet50/best_resnet50_model_eyewear.h5',\n",
    "              'eyewear')"
   ]
  },
  {
   "cell_type": "markdown",
   "metadata": {},
   "source": [
    "### Testing hat "
   ]
  },
  {
   "cell_type": "code",
   "execution_count": 21,
   "metadata": {},
   "outputs": [
    {
     "name": "stdout",
     "output_type": "stream",
     "text": [
      "Found 510 validated image filenames belonging to 2 classes.\n"
     ]
    },
    {
     "data": {
      "image/png": "[encoded data removed]",
      "text/plain": [
       "<Figure size 432x288 with 1 Axes>"
      ]
     },
     "metadata": {
      "needs_background": "light"
     },
     "output_type": "display_data"
    },
    {
     "name": "stdout",
     "output_type": "stream",
     "text": [
      "[[219  36]\n",
      " [  5 250]]\n",
      "              precision    recall  f1-score   support\n",
      "\n",
      "           0       0.98      0.86      0.91       255\n",
      "           1       0.87      0.98      0.92       255\n",
      "\n",
      "    accuracy                           0.92       510\n",
      "   macro avg       0.93      0.92      0.92       510\n",
      "weighted avg       0.93      0.92      0.92       510\n",
      "\n"
     ]
    }
   ],
   "source": [
    "model_testing('../tuning_data/resnet_data/resnet50_model_8_up.json',\n",
    "              '../tuning_data/resnet_data/untracked_resnet50/best_resnet50_model_8_layer_hat_0.25do.h5','hat')\n",
    "\n",
    "# hat doesn't have enough data for tuning "
   ]
  },
  {
   "cell_type": "code",
   "execution_count": 23,
   "metadata": {
    "scrolled": true
   },
   "outputs": [
    {
     "name": "stdout",
     "output_type": "stream",
     "text": [
      "Found 510 validated image filenames belonging to 2 classes.\n"
     ]
    },
    {
     "data": {
      "image/png": "[encoded data removed]",
      "text/plain": [
       "<Figure size 432x288 with 1 Axes>"
      ]
     },
     "metadata": {
      "needs_background": "light"
     },
     "output_type": "display_data"
    },
    {
     "name": "stdout",
     "output_type": "stream",
     "text": [
      "[[230  25]\n",
      " [  1 254]]\n",
      "              precision    recall  f1-score   support\n",
      "\n",
      "           0       1.00      0.90      0.95       255\n",
      "           1       0.91      1.00      0.95       255\n",
      "\n",
      "    accuracy                           0.95       510\n",
      "   macro avg       0.95      0.95      0.95       510\n",
      "weighted avg       0.95      0.95      0.95       510\n",
      "\n"
     ]
    }
   ],
   "source": [
    "model_testing('../tuning_data/resnet_data/resnet50_model_8_up.json', \n",
    "              '../tuning_data/resnet_data/untracked_resnet50/best_resnet50_model_hat.h5',\n",
    "             'hat')"
   ]
  },
  {
   "cell_type": "markdown",
   "metadata": {},
   "source": [
    "### Testing beard"
   ]
  },
  {
   "cell_type": "code",
   "execution_count": 24,
   "metadata": {},
   "outputs": [
    {
     "name": "stdout",
     "output_type": "stream",
     "text": [
      "Found 454 validated image filenames belonging to 2 classes.\n"
     ]
    },
    {
     "data": {
      "image/png": "[encoded data removed]",
      "text/plain": [
       "<Figure size 432x288 with 1 Axes>"
      ]
     },
     "metadata": {
      "needs_background": "light"
     },
     "output_type": "display_data"
    },
    {
     "name": "stdout",
     "output_type": "stream",
     "text": [
      "[[209  18]\n",
      " [ 12 215]]\n",
      "              precision    recall  f1-score   support\n",
      "\n",
      "           0       0.95      0.92      0.93       227\n",
      "           1       0.92      0.95      0.93       227\n",
      "\n",
      "    accuracy                           0.93       454\n",
      "   macro avg       0.93      0.93      0.93       454\n",
      "weighted avg       0.93      0.93      0.93       454\n",
      "\n"
     ]
    }
   ],
   "source": [
    "model_testing('../tuning_data/resnet_data/resnet50_model_8_up.json',\n",
    "              '../tuning_data/resnet_data/untracked_resnet50/best_resnet50_model_8_layer_beard_0.25do.h5','beard')"
   ]
  },
  {
   "cell_type": "code",
   "execution_count": 25,
   "metadata": {},
   "outputs": [
    {
     "name": "stdout",
     "output_type": "stream",
     "text": [
      "Found 454 validated image filenames belonging to 2 classes.\n"
     ]
    },
    {
     "data": {
      "image/png": "[encoded data removed]",
      "text/plain": [
       "<Figure size 432x288 with 1 Axes>"
      ]
     },
     "metadata": {
      "needs_background": "light"
     },
     "output_type": "display_data"
    },
    {
     "name": "stdout",
     "output_type": "stream",
     "text": [
      "[[212  15]\n",
      " [ 15 212]]\n",
      "              precision    recall  f1-score   support\n",
      "\n",
      "           0       0.93      0.93      0.93       227\n",
      "           1       0.93      0.93      0.93       227\n",
      "\n",
      "    accuracy                           0.93       454\n",
      "   macro avg       0.93      0.93      0.93       454\n",
      "weighted avg       0.93      0.93      0.93       454\n",
      "\n"
     ]
    }
   ],
   "source": [
    "model_testing('../tuning_data/resnet_data/resnet50_model_5_up.json',\n",
    "              '../tuning_data/resnet_data/untracked_resnet50/best_resnet50_model_beard.h5','beard')"
   ]
  }
 ],
 "metadata": {
  "kernelspec": {
   "display_name": "Python 3",
   "language": "python",
   "name": "python3"
  },
  "language_info": {
   "codemirror_mode": {
    "name": "ipython",
    "version": 3
   },
   "file_extension": ".py",
   "mimetype": "text/x-python",
   "name": "python",
   "nbconvert_exporter": "python",
   "pygments_lexer": "ipython3",
   "version": "3.7.1"
  }
 },
 "nbformat": 4,
 "nbformat_minor": 2
}
