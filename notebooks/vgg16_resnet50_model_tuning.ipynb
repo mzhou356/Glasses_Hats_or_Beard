{
 "cells": [
  {
   "cell_type": "markdown",
   "metadata": {},
   "source": [
    "## Transfer learning tuning and saving best models:\n",
    "\n",
    "### VGG16:\n",
    " * model parameter and other information can be found below:\n",
    "     * [source](https://blog.keras.io/building-powerful-image-classification-models-using-very-little-data.html)\n",
    "     \n",
    "  * base_model: use vgg16 as base model and freeze at bottleneck layer (stop right before flatten layer). \n",
    "  * top_model: tune dense layers (parameters are inspired by the blog source):\n",
    "     * batch_size 16 seems to work best for small data set \n",
    "  * freezed the first 15 layers and fined tuned the last 5 layers (block5 and fully connected layer).\n",
    "  * extra blog source for callbacks and saving models:\n",
    "    * [call_backs for best weights](https://machinelearningmastery.com/check-point-deep-learning-models-keras/)\n",
    "    * [saving models](https://machinelearningmastery.com/save-load-keras-deep-learning-models/)\n",
    "\n",
    "### ResNet50:\n",
    "  * Use Resnet50 to help further improve accuracy:\n",
    "      * see [base model info comparison](https://medium.com/@sidereal/cnns-architectures-lenet-alexnet-vgg-googlenet-resnet-and-more-666091488df5)\n",
    "      * [resnet50 blog](https://towardsdatascience.com/understanding-and-coding-a-resnet-in-keras-446d7ff84d33)\n",
    "     \n",
    "  * base_model: use RESNET50 and freeze at bottleneck layer (stop right before 2D AVERAGE POOL). \n",
    "  * top_model: tune dense layers (parameters are inspired by a few sources):\n",
    "     * [source1](https://www.kaggle.com/suniliitb96/tutorial-keras-transfer-learning-with-resnet50)\n",
    "     * [source2](https://www.kaggle.com/pmigdal/transfer-learning-with-resnet-50-in-keras)\n",
    "     * [source3](https://towardsdatascience.com/transfer-learning-for-image-classification-using-keras-c47ccf09c8c8)\n",
    "  * unfreezed the last 5 layers (after activation48 and fully connected layer).\n",
    "  \n",
    "---\n",
    "#### This cell is required in order to use GPU for running the model "
   ]
  },
  {
   "cell_type": "code",
   "execution_count": 1,
   "metadata": {},
   "outputs": [
    {
     "name": "stderr",
     "output_type": "stream",
     "text": [
      "Using TensorFlow backend.\n"
     ]
    }
   ],
   "source": [
    "import warnings\n",
    "warnings.filterwarnings('ignore')\n",
    "import tensorflow as tf\n",
    "# disable tensorflow logging\n",
    "tf.compat.v1.logging.set_verbosity(tf.compat.v1.logging.ERROR)\n",
    "import keras\n",
    "from keras.backend.tensorflow_backend import set_session\n",
    "config = tf.ConfigProto()\n",
    "# dynamically grow the memory used on the GPU\n",
    "config.gpu_options.allow_growth = True \n",
    "# to log device placement (on which device the operation ran)\n",
    "# (nothing gets printed in Jupyter, only if you run it standalone)\n",
    "config.log_device_placement = False\n",
    "# set this TensorFlow session as the default session for Keras                                    \n",
    "sess = tf.Session(config=config)\n",
    "set_session(sess) \n",
    "keras.backend.get_session().run(tf.global_variables_initializer())  "
   ]
  },
  {
   "cell_type": "markdown",
   "metadata": {},
   "source": [
    "---\n",
    "#### Import necessary libraries:"
   ]
  },
  {
   "cell_type": "code",
   "execution_count": 2,
   "metadata": {},
   "outputs": [],
   "source": [
    "import sys\n",
    "from keras.applications.resnet50 import ResNet50, preprocess_input\n",
    "from keras.applications.vgg16 import VGG16\n",
    "import matplotlib.pyplot as plt\n",
    "%matplotlib inline"
   ]
  },
  {
   "cell_type": "markdown",
   "metadata": {},
   "source": [
    "#### Load in python files with helper functions and BaseClassifier"
   ]
  },
  {
   "cell_type": "code",
   "execution_count": 3,
   "metadata": {
    "scrolled": false
   },
   "outputs": [],
   "source": [
    "%load_ext autoreload\n",
    "%autoreload 1\n",
    "\n",
    "sys.path.append(\"../python_files/\")\n",
    "\n",
    "import vgg16_preprocess\n",
    "import model_tuning_evaluation as mte\n",
    "\n",
    "%aimport vgg16_preprocess\n",
    "%aimport model_tuning_evaluation"
   ]
  },
  {
   "cell_type": "markdown",
   "metadata": {},
   "source": [
    "----\n",
    "#### Train VGG16 models, save the best weights and show results\n",
    "* set file_paths and preprocess functions for hat, beard, and eyewear:"
   ]
  },
  {
   "cell_type": "code",
   "execution_count": 4,
   "metadata": {},
   "outputs": [],
   "source": [
    "FILE_PATH1_HAT_V = '../tuning_data/VGG_16_tuning/bottleneck_train_hat.npy'\n",
    "FILE_PATH2_HAT_V = '../tuning_data/VGG_16_tuning/bottleneck_test_hat.npy'\n",
    "FILE_PATH3_HAT_V = '../tuning_data/VGG_16_tuning/top_model_weights_hat.h5'\n",
    "FILE_PATH4_HAT_V = '../tuning_data/VGG_16_tuning/best_vgg16_model_hattest.h5'\n",
    "FILE_PATH1_BEARD_V = '../tuning_data/VGG_16_tuning/bottleneck_train_beard.npy'\n",
    "FILE_PATH2_BEARD_V = '../tuning_data/VGG_16_tuning/bottleneck_test_beard.npy'\n",
    "FILE_PATH3_BEARD_V = '../tuning_data/VGG_16_tuning/top_model_weights_beard.h5'\n",
    "FILE_PATH4_BEARD_V = '../tuning_data/VGG_16_tuning/best_vgg16_model_beardtest.h5'\n",
    "FILE_PATH1_EYEWEAR_V = '../tuning_data/VGG_16_tuning/bottleneck_train_eyewear.npy'\n",
    "FILE_PATH2_EYEWEAR_V = '../tuning_data/VGG_16_tuning/bottleneck_test_eyewear.npy'\n",
    "FILE_PATH3_EYEWEAR_V = '../tuning_data/VGG_16_tuning/top_model_weights_eyewear.h5'\n",
    "FILE_PATH4_EYEWEAR_V = '../tuning_data/VGG_16_tuning/best_vgg16_model_eyeweartest.h5'\n",
    "RESCALE_V = 1./255\n",
    "PROCESS_FUNC_V = vgg16_preprocess.preprocess_input\n",
    "DIM_V = 150\n",
    "VGG16_MODEL_PATH = '../tuning_data/VGG_16_tuning/vgg_modeltest.json'"
   ]
  },
  {
   "cell_type": "markdown",
   "metadata": {},
   "source": [
    "#### VGG16_HAT"
   ]
  },
  {
   "cell_type": "code",
   "execution_count": null,
   "metadata": {},
   "outputs": [
    {
     "name": "stdout",
     "output_type": "stream",
     "text": [
      "Found 522 validated image filenames.\n",
      "Found 131 validated image filenames.\n",
      "Found 522 validated image filenames belonging to 2 classes.\n",
      "Found 131 validated image filenames belonging to 2 classes.\n",
      "Found 522 validated image filenames belonging to 2 classes.\n",
      "Found 131 validated image filenames belonging to 2 classes.\n"
     ]
    }
   ],
   "source": [
    "# intialize classifier and tune hat Classifier \n",
    "hat_vgg16 = mte.BaseClassifier('hat',RESCALE_V,PROCESS_FUNC_V,DIM_V,VGG16,'vgg16')\n",
    "hat_vgg16.save_bottleneck_features(FILE_PATH1_HAT_V,FILE_PATH2_HAT_V)\n",
    "hat_vgg16.train_top_model(50,FILE_PATH3_HAT_V,verbose=0)\n",
    "hat_vgg16.fine_tune_model(50,FILE_PATH4_HAT_V)\n",
    "# save model architecture just once\n",
    "hat_vgg16.save_model(VGG16_MODEL_PATH)\n",
    "hat_vgg16.plot_model_history()"
   ]
  },
  {
   "cell_type": "code",
   "execution_count": null,
   "metadata": {},
   "outputs": [],
   "source": [
    "# hat_vgg16.file4 = '../tuning_data/VGG_16_tuning/best_vgg16_model_hat.h5'"
   ]
  },
  {
   "cell_type": "code",
   "execution_count": null,
   "metadata": {},
   "outputs": [],
   "source": [
    "hat_vgg16.model_testing()"
   ]
  },
  {
   "cell_type": "markdown",
   "metadata": {
    "scrolled": true
   },
   "source": [
    "#### VGG16_BEARD"
   ]
  },
  {
   "cell_type": "code",
   "execution_count": null,
   "metadata": {},
   "outputs": [],
   "source": [
    "# intialize classifier and tune beard Classifier \n",
    "beard_vgg16 = mte.BaseClassifier('beard',RESCALE_V,PROCESS_FUNC_V,DIM_V,VGG16,'vgg16')\n",
    "beard_vgg16.save_bottleneck_features(FILE_PATH1_BEARD_V,FILE_PATH2_BEARD_V)\n",
    "beard_vgg16.train_top_model(50,FILE_PATH3_BEARD_V,verbose=0)\n",
    "beard_vgg16.fine_tune_model(50,FILE_PATH4_BEARD_V)\n",
    "beard_vgg16.plot_model_history()"
   ]
  },
  {
   "cell_type": "code",
   "execution_count": null,
   "metadata": {},
   "outputs": [],
   "source": [
    "# beard_vgg16.file4 = '../tuning_data/VGG_16_tuning/best_vgg16_model_beard.h5'"
   ]
  },
  {
   "cell_type": "code",
   "execution_count": null,
   "metadata": {},
   "outputs": [],
   "source": [
    "beard_vgg16.model_testing()"
   ]
  },
  {
   "cell_type": "markdown",
   "metadata": {},
   "source": [
    "#### VGG16_EYEWEAR"
   ]
  },
  {
   "cell_type": "code",
   "execution_count": null,
   "metadata": {},
   "outputs": [],
   "source": [
    "# intialize classifier and tune eyewear Classifier \n",
    "eyewear_vgg16 = mte.BaseClassifier('EYEWEAR',RESCALE_V,PROCESS_FUNC_V,DIM_V,VGG16,'vgg16')\n",
    "eyewear_vgg16.save_bottleneck_features(FILE_PATH1_EYEWEAR_V,FILE_PATH2_EYEWEAR_V)\n",
    "eyewear_vgg16.train_top_model(50,FILE_PATH3_EYEWEAR_V,verbose=0)\n",
    "eyewear_vgg16.fine_tune_model(50,FILE_PATH4_EYEWEAR_V)\n",
    "eyewear_vgg16.plot_model_history()"
   ]
  },
  {
   "cell_type": "code",
   "execution_count": null,
   "metadata": {},
   "outputs": [],
   "source": [
    "# eyewear_vgg16.file4 = '../tuning_data/VGG_16_tuning/best_vgg16_model_eyeweartest.h5'"
   ]
  },
  {
   "cell_type": "code",
   "execution_count": null,
   "metadata": {},
   "outputs": [],
   "source": [
    "eyewear_vgg16.model_testing()"
   ]
  },
  {
   "cell_type": "markdown",
   "metadata": {},
   "source": [
    "----\n",
    "#### Train resnet50 models, save the best weights and show results:\n",
    "* set file_paths for hat, beard, and eyewear:"
   ]
  },
  {
   "cell_type": "code",
   "execution_count": null,
   "metadata": {},
   "outputs": [],
   "source": [
    "FILE_PATH1_HAT_R = '../tuning_data/resnet_data/bottleneck_train_hat.npy'\n",
    "FILE_PATH2_HAT_R = '../tuning_data/resnet_data/bottleneck_test_hat.npy'\n",
    "FILE_PATH3_HAT_R = '../tuning_data/resnet_data/top_model_weights_hat.h5'\n",
    "FILE_PATH4_HAT_R = '../tuning_data/resnet_data/untracked_resnet50/best_resnet50_model_hattest.h5'\n",
    "FILE_PATH1_BEARD_R = '../tuning_data/resnet_data/bottleneck_train_beard.npy'\n",
    "FILE_PATH2_BEARD_R = '../tuning_data/resnet_data/bottleneck_test_beard.npy'\n",
    "FILE_PATH3_BEARD_R = '../tuning_data/resnet_data/top_model_weights_beard.h5'\n",
    "FILE_PATH4_BEARD_R = '../tuning_data/resnet_data/untracked_resnet50/best_resnet50_model_beardtest.h5'\n",
    "FILE_PATH1_EYEWEAR_R = '../tuning_data/resnet_data/bottleneck_train_eyewear.npy'\n",
    "FILE_PATH2_EYEWEAR_R = '../tuning_data/resnet_data/bottleneck_test_eyewear.npy'\n",
    "FILE_PATH3_EYEWEAR_R = '../tuning_data/resnet_data/top_model_weights_eyewear.h5'\n",
    "FILE_PATH4_EYEWEAR_R = '../tuning_data/resnet_data/untracked_resnet50/best_resnet50_model_eyeweartest.h5'\n",
    "RESNET_MODEL_PATH = '../tuning_data/resnet_data/resnet50_model_5_uptest.json'\n",
    "RESCALE_R = None\n",
    "PROCESS_FUNC_R = preprocess_input\n",
    "DIM_R = 224"
   ]
  },
  {
   "cell_type": "markdown",
   "metadata": {},
   "source": [
    "#### ResNet50_HAT"
   ]
  },
  {
   "cell_type": "code",
   "execution_count": null,
   "metadata": {
    "scrolled": true
   },
   "outputs": [],
   "source": [
    "# intialize classifier and tune hat Classifier \n",
    "hat_resnet50 = mte.BaseClassifier('hat',RESCALE_R,PROCESS_FUNC_R,DIM_R,ResNet50,'resnet50')\n",
    "hat_resnet50.save_bottleneck_features(FILE_PATH1_HAT_R,FILE_PATH2_HAT_R)\n",
    "hat_resnet50.train_top_model(50,FILE_PATH3_HAT_R,verbose=0)\n",
    "hat_resnet50.fine_tune_model(50,FILE_PATH4_HAT_R)\n",
    "# save model architecture just once\n",
    "hat_resnet50.save_model(RESNET_MODEL_PATH)\n",
    "hat_resnet50.plot_model_history()"
   ]
  },
  {
   "cell_type": "code",
   "execution_count": null,
   "metadata": {},
   "outputs": [],
   "source": [
    "# hat_resnet50.path4 = '../tuning_data/resnet_data/untracked_resnet50/best_resnet50_model_hat.h5'"
   ]
  },
  {
   "cell_type": "code",
   "execution_count": null,
   "metadata": {},
   "outputs": [],
   "source": [
    "hat_resnet50.model_testing()"
   ]
  },
  {
   "cell_type": "markdown",
   "metadata": {},
   "source": [
    "#### ResNet50_BEARD"
   ]
  },
  {
   "cell_type": "code",
   "execution_count": null,
   "metadata": {},
   "outputs": [],
   "source": [
    "# intialize classifier and tune beard Classifier \n",
    "beard_resnet50 = mte.BaseClassifier('beard',RESCALE_R,PROCESS_FUNC_R,DIM_R,ResNet50,'resnet50')\n",
    "beard_resnet50.save_bottleneck_features(FILE_PATH1_BEARD_R,FILE_PATH2_BEARD_R)\n",
    "beard_resnet50.train_top_model(50,FILE_PATH3_BEARD_R,verbose=0)\n",
    "beard_resnet50.fine_tune_model(50,FILE_PATH4_BEARD_R)\n",
    "beard_resnet50.plot_model_history()()"
   ]
  },
  {
   "cell_type": "code",
   "execution_count": null,
   "metadata": {},
   "outputs": [],
   "source": [
    "# beard_resnet50.path4 = ../tuning_data/resnet_data/untracked_resnet50/best_resnet50_model_beard.h5'"
   ]
  },
  {
   "cell_type": "code",
   "execution_count": null,
   "metadata": {},
   "outputs": [],
   "source": [
    "beard_resnet50.model_testing()"
   ]
  },
  {
   "cell_type": "markdown",
   "metadata": {},
   "source": [
    "#### ResNet50_EYEWEAR"
   ]
  },
  {
   "cell_type": "code",
   "execution_count": null,
   "metadata": {},
   "outputs": [],
   "source": [
    "# intialize classifier and tune eyewear Classifier \n",
    "eyewear_resnet50 = mte.BaseClassifier('eyewear',RESCALE_R,PROCESS_FUNC_R,DIM_R,ResNet50,'resnet50')\n",
    "eyewear_resnet50.save_bottleneck_features(FILE_PATH1_EYEWEAR_R,FILE_PATH2_EYEWEAR_R)\n",
    "eyewear_resnet50.train_top_model(50,FILE_PATH3_EYEWEAR_R,verbose=0)\n",
    "eyewear_resnet50.fine_tune_model(50,FILE_PATH4_EYEWEAR_R)\n",
    "eyewear_resnet50.plot_model_history()()"
   ]
  },
  {
   "cell_type": "code",
   "execution_count": null,
   "metadata": {},
   "outputs": [],
   "source": [
    "# eyewear_resnet50.path4= '../tuning_data/resnet_data/untracked_resnet50/best_resnet50_model_eyeweartest.h5'"
   ]
  },
  {
   "cell_type": "code",
   "execution_count": null,
   "metadata": {},
   "outputs": [],
   "source": [
    "eyewear_resnet50.model_testing()"
   ]
  }
 ],
 "metadata": {
  "kernelspec": {
   "display_name": "Python 3",
   "language": "python",
   "name": "python3"
  },
  "language_info": {
   "codemirror_mode": {
    "name": "ipython",
    "version": 3
   },
   "file_extension": ".py",
   "mimetype": "text/x-python",
   "name": "python",
   "nbconvert_exporter": "python",
   "pygments_lexer": "ipython3",
   "version": "3.7.3"
  }
 },
 "nbformat": 4,
 "nbformat_minor": 2
}
