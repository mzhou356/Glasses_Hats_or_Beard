{
 "cells": [
  {
   "cell_type": "markdown",
   "metadata": {},
   "source": [
    "## Transfer learning tuning and saving best models:\n",
    "\n",
    "### VGG16:\n",
    " * model parameter and other information can be found below:\n",
    "     * [source](https://blog.keras.io/building-powerful-image-classification-models-using-very-little-data.html)\n",
    "     \n",
    "  * base_model: use vgg16 as base model and freeze at bottleneck layer (stop right before flatten layer). \n",
    "  * top_model: tune dense layers (parameters are inspired by the blog source):\n",
    "     * batch_size 16 seems to work best for small data set \n",
    "  * freezed the first 15 layers and fined tuned the last 5 layers (block5 and fully connected layer).\n",
    "  * extra blog source for callbacks and saving models:\n",
    "    * [call_backs for best weights](https://machinelearningmastery.com/check-point-deep-learning-models-keras/)\n",
    "    * [saving models](https://machinelearningmastery.com/save-load-keras-deep-learning-models/)\n",
    "\n",
    "### ResNet50:\n",
    "  * Use Resnet50 to help further improve accuracy:\n",
    "      * see [base model info comparison](https://medium.com/@sidereal/cnns-architectures-lenet-alexnet-vgg-googlenet-resnet-and-more-666091488df5)\n",
    "      * [resnet50 blog](https://towardsdatascience.com/understanding-and-coding-a-resnet-in-keras-446d7ff84d33)\n",
    "     \n",
    "  * base_model: use RESNET50 and freeze at bottleneck layer (stop right before 2D AVERAGE POOL). \n",
    "  * top_model: tune dense layers (parameters are inspired by a few sources):\n",
    "     * [source1](https://www.kaggle.com/suniliitb96/tutorial-keras-transfer-learning-with-resnet50)\n",
    "     * [source2](https://www.kaggle.com/pmigdal/transfer-learning-with-resnet-50-in-keras)\n",
    "     * [source3](https://towardsdatascience.com/transfer-learning-for-image-classification-using-keras-c47ccf09c8c8)\n",
    "  * unfreezed the last 5 layers (after activation48 and fully connected layer).\n",
    "  \n",
    "---\n",
    "#### This cell is required in order to use GPU for running the model "
   ]
  },
  {
   "cell_type": "code",
   "execution_count": 4,
   "metadata": {},
   "outputs": [],
   "source": [
    "import warnings\n",
    "warnings.filterwarnings('ignore')\n",
    "import tensorflow as tf\n",
    "import keras\n",
    "from keras.backend.tensorflow_backend import set_session\n",
    "config = tf.ConfigProto()\n",
    "# dynamically grow the memory used on the GPU\n",
    "config.gpu_options.allow_growth = True \n",
    "# to log device placement (on which device the operation ran)\n",
    "# (nothing gets printed in Jupyter, only if you run it standalone)\n",
    "config.log_device_placement = False\n",
    "# set this TensorFlow session as the default session for Keras                                    \n",
    "sess = tf.Session(config=config)\n",
    "set_session(sess) \n",
    "keras.backend.get_session().run(tf.global_variables_initializer())  "
   ]
  },
  {
   "cell_type": "markdown",
   "metadata": {},
   "source": [
    "---\n",
    "#### Import necessary libraries:"
   ]
  },
  {
   "cell_type": "code",
   "execution_count": 48,
   "metadata": {},
   "outputs": [],
   "source": [
    "import sys\n",
    "from keras.applications.resnet50 import ResNet50, preprocess_input\n",
    "from keras.applications.vgg16 import VGG16\n",
    "import matplotlib.pyplot as plt\n",
    "%matplotlib inline"
   ]
  },
  {
   "cell_type": "markdown",
   "metadata": {},
   "source": [
    "#### Load in python files with helper functions:"
   ]
  },
  {
   "cell_type": "code",
   "execution_count": 6,
   "metadata": {
    "scrolled": false
   },
   "outputs": [],
   "source": [
    "%load_ext autoreload\n",
    "%autoreload 1\n",
    "\n",
    "sys.path.append(\"../python_files/\")\n",
    "\n",
    "import vgg16_preprocess\n",
    "import model_tuning\n",
    "import model_evaluation\n",
    "\n",
    "\n",
    "%aimport vgg16_preprocess\n",
    "%aimport model_tuning\n",
    "%aimport model_evaluation"
   ]
  },
  {
   "cell_type": "code",
   "execution_count": 21,
   "metadata": {},
   "outputs": [],
   "source": [
    "# import libaries\n",
    "import os\n",
    "import keras\n",
    "import pandas as pd\n",
    "import numpy as np\n",
    "from sklearn.model_selection import train_test_split\n",
    "from sklearn.utils import class_weight\n",
    "from keras.applications.resnet50 import ResNet50\n",
    "from keras.applications.vgg16 import VGG16\n",
    "from keras_preprocessing.image import ImageDataGenerator\n",
    "from keras.layers import Dropout, Flatten, Dense, GlobalAveragePooling2D\n",
    "from keras.models import Sequential, Model\n",
    "from keras import optimizers\n",
    "from keras.callbacks import ModelCheckpoint\n",
    "from keras.models import model_from_json\n",
    "from sklearn.metrics import (confusion_matrix, classification_report,\n",
    "                             roc_curve, roc_auc_score)"
   ]
  },
  {
   "cell_type": "code",
   "execution_count": null,
   "metadata": {},
   "outputs": [],
   "source": [
    "class BaseClassifier:\n",
    "    def __init__(self,label,rescale, preprocess_func, dim, modelname,modeltype, pkl='../pickle_files/pic_df.pkl'):\n",
    "        self.df = pd.read_pickle(pkl)\n",
    "        self.label = label\n",
    "        self.rescale = rescale\n",
    "        self.preprocess_func = preprocess_func\n",
    "        self.dim = dim\n",
    "        self.modelname = modelname\n",
    "        self.modeltype = modeltype\n",
    "        self.train_df = None\n",
    "        self.test_df = None\n",
    "        self.path1 = None\n",
    "        self.path2 = None\n",
    "        self.path3 = None\n",
    "        self.path4 = None\n",
    "        self.modelresult = None\n",
    "        self.modelpath = None\n",
    "        \n",
    "    def create_train_test(self):\n",
    "        \"\"\"convert self.df into test and train pandas\n",
    "       dataframe with specified classification label and test_size \n",
    "       defaults to 0.2.\n",
    "        # Arguments\n",
    "        # Returns\n",
    "        test and train pandas dataframe with the specified classification\n",
    "        label.\n",
    "        \"\"\"\n",
    "        # subset the label dataframe\n",
    "        sub_set = self.df[['pic_id',self.label]]\n",
    "        X_train, X_test, y_train, y_test = train_test_split(sub_set['pic_id'],\n",
    "                                                        sub_set[self.label],\n",
    "                                                    stratify = sub_set[self.label],\n",
    "                                                        test_size = 0.2\n",
    "                                                        )\n",
    "        df_train = pd.concat([X_train,y_train], axis=1)\n",
    "        df_test = pd.concat([X_test,y_test], axis=1)\n",
    "        return df_train, df_test\n",
    "    \n",
    "    def create_generator(self,train_df, test_df,shuffle,batch_size,class_mode, only_testing = False):\n",
    "        \"\"\"creates test and train generators for model.fit_generator.\n",
    "\n",
    "        # Arguments\n",
    "            shuffle: shuffle the data sequence for each batch generator.\n",
    "            batch_size: how many images per generator.\n",
    "            class_mode: None or binary in this case.\n",
    "            only_testing: model testing purpose or model tuning purpose, default\n",
    "            is False.\n",
    "        # Returns\n",
    "            generators as a tuple. If class_mode is None, creates train and test\n",
    "            generators but if class_model is binary, creates train, classweights,\n",
    "            and test generators.\n",
    "        \"\"\"\n",
    "        # initialize an empty list\n",
    "        generators =[]\n",
    "        # only generator traingenerator if it is for model tuning\n",
    "        if not only_testing:\n",
    "            traingen = ImageDataGenerator(\n",
    "                rescale = self.rescale,\n",
    "                zoom_range= [0.8,1.7],\n",
    "                shear_range=0.2,\n",
    "                brightness_range=[0.5,1.5],\n",
    "                rotation_range = 40,\n",
    "                width_shift_range=0.2,\n",
    "                height_shift_range=0.2,\n",
    "                horizontal_flip=True,\n",
    "                preprocessing_function=self.preprocess_func)\n",
    "\n",
    "            train_generator = traingen.flow_from_dataframe(\n",
    "                dataframe=train_df,\n",
    "                directory='../data/pics',\n",
    "                x_col='pic_id',\n",
    "                y_col=self.label,\n",
    "                batch_size=batch_size,\n",
    "                shuffle = shuffle,\n",
    "                target_size=(self.dim,self.dim),\n",
    "                class_mode = class_mode)\n",
    "            generators.append(train_generator)\n",
    "            if class_mode:\n",
    "            # create classweights for train\n",
    "                classweights = class_weight.compute_class_weight(\n",
    "                    'balanced',np.unique(train_generator.classes),\n",
    "                    train_generator.classes)\n",
    "                generators.append(classweights)\n",
    "\n",
    "        testgen = ImageDataGenerator(\n",
    "            rescale = self.rescale,\n",
    "            preprocessing_function=self.preprocess_func)\n",
    "\n",
    "        test_generator = testgen.flow_from_dataframe(\n",
    "            dataframe=test_df,\n",
    "            directory='../data/pics',\n",
    "            x_col='pic_id',\n",
    "            y_col=self.label,\n",
    "            batch_size=batch_size,\n",
    "            shuffle=shuffle,\n",
    "            target_size=(self.dim,self.dim),\n",
    "            class_mode=class_mode)\n",
    "        generators.append(test_generator)\n",
    "        return tuple(generators)\n",
    "    \n",
    "    def save_bottleneck_features(self,file_path1,file_path2):\n",
    "        \"\"\"save output of model features from the vgg16 or resnet50 non dense\n",
    "           layers as npy files in file_path1 and file_path2. Returns corresponding\n",
    "           test and train df for model tuning.\n",
    "        # Arguments\n",
    "            file_path1: folder path to save train data npy.\n",
    "            file_path2: folder path to save test data npy.\n",
    "        # Returns\n",
    "            train and test df for fully connected layer tuning.\n",
    "        \"\"\"\n",
    "        # intialize the model, vgg16 or ResNet50.\n",
    "        # make sure not to train the top layers.\n",
    "        base_model = self.modelname(weights = 'imagenet',include_top = False)\n",
    "        # generate test_train df.\n",
    "        train_df, test_df = self.create_train_test()\n",
    "        # update train_df and test_df\n",
    "        self.train_df = train_df\n",
    "        self.test_df = test_df\n",
    "        # create train_generator and test_generator to get bottleneck inputs for\n",
    "        # train and test df.\n",
    "        # make sure shuffle is False so we know the label follows the sequence of\n",
    "        # the dataframe so we can tune top_model and class_mode is None.\n",
    "        generators = self.create_generator(self.train_df, self.test_df,shuffle=False,\n",
    "                                  batch_size=16,class_mode=None)\n",
    "        # in this case we know the class_mode is None\n",
    "        train_generator, test_generator = generators\n",
    "        \n",
    "        # update file_path1 and file_path2\n",
    "        self.file_path1 = file_path1\n",
    "        self.file_path2 = file_path2\n",
    "\n",
    "        # get features saved as .npy in file_path1 and file_path2\n",
    "        bottleneck_features_train = base_model.predict_generator(\n",
    "            train_generator, self.train_df.shape[0]//16)\n",
    "        np.save(open(self.file_path1,'wb'),\n",
    "               bottleneck_features_train)\n",
    "\n",
    "        bottleneck_features_test = base_model.predict_generator(\n",
    "            test_generator, self.test_df.shape[0]//16)\n",
    "        np.save(open(self.file_path2,'wb'),\n",
    "               bottleneck_features_test)\n",
    "    \n",
    "    def resnet50_model(self, input_shape, dropout=0.25):\n",
    "        \"\"\" create dense layer for resnet50 model.\n",
    "        # Arguments\n",
    "            input_shape: input_shape for pooling layer.\n",
    "            dropout:percentage for Dropout layer to prevent overfitting, default\n",
    "            is 0.25.\n",
    "        # Returns\n",
    "            fully connected top model for resnet50.\n",
    "        \"\"\"\n",
    "        model = Sequential()\n",
    "        model.add(GlobalAveragePooling2D(input_shape=input_shape))\n",
    "        model.add(Dense(512,activation='relu'))\n",
    "        model.add(Dropout(dropout))\n",
    "        model.add(Dense(1,activation='sigmoid'))\n",
    "        return model\n",
    "    \n",
    "    def vgg16_model(self, input_shape,dropout=0.5):\n",
    "        \"\"\" create dense layer for vgg16 model.\n",
    "        # Arguments\n",
    "            input_shape: input_shape for flatten layer.\n",
    "            dropout:percentage for Dropout layer to prevent overfitting, default\n",
    "            is 0.5.\n",
    "        # Returns\n",
    "            fully connected top model for vgg16.\n",
    "        \"\"\"\n",
    "        model = Sequential()\n",
    "        model.add(Flatten(input_shape=input_shape))\n",
    "        model.add(Dense(256, activation='relu'))\n",
    "        model.add(Dropout(dropout))\n",
    "        model.add(Dense(1, activation='sigmoid'))\n",
    "        return model\n",
    "    \n",
    "    def train_top_model(self, epoch, file_path3, verbose=0):\n",
    "        \"\"\" train fully connected top model and save best weights to help fine\n",
    "            tuning models when we unfreeze additional layers.\n",
    "        # Arguments\n",
    "            epoch: number of epochs in model tuning.\n",
    "            file_path3: folder path to save top model best weights h5.\n",
    "            verbose: show tuning progress, default is 0\n",
    "        \"\"\"\n",
    "        # update file_path3\n",
    "        self.file_path3 = file_path3\n",
    "        # retrieve train and test\n",
    "        train_data = np.load(open(self.file_path1,'rb'))\n",
    "        # make sure train_data and train_label have same num of samples\n",
    "        # convert string label to 1 or 0 for model tuning\n",
    "        train_label = np.array(\n",
    "        self.train_df[self.label].map({'0':0, '1':1})\n",
    "        )[:-(self.train_df.shape[0]%16)]\n",
    "\n",
    "        test_data = np.load(open(self.file_path2,'rb'))\n",
    "        test_label = np.array(\n",
    "            self.test_df[self.label].map({'0':0, '1':1})\n",
    "        )[:-(self.test_df.shape[0]%16)]\n",
    "\n",
    "        # build top model\n",
    "        if self.modeltype == 'resnet50':\n",
    "            model = self.resnet50_model(train_data.shape[1:])\n",
    "        if self.modeltype == 'vgg16':\n",
    "            model = self.vgg16_model(train_data.shape[1:])\n",
    "\n",
    "        model.compile(optimizer=optimizers.Adam(),\n",
    "                     loss='binary_crossentropy',\n",
    "                     metrics=['accuracy'])\n",
    "\n",
    "        # checkpoint for best weights\n",
    "        checkpoint = ModelCheckpoint(self.file_path3,\n",
    "            monitor='val_acc', verbose=verbose, save_best_only=True, mode='max'\n",
    "            )\n",
    "        callbacks_list = [checkpoint]\n",
    "\n",
    "        _, classweight, _  = self.create_generator(self.train_df, self.test_df,False,16,\n",
    "                    'binary', only_testing = False)\n",
    "        \n",
    "        model.fit(train_data, train_label,\n",
    "                 epochs=epoch,\n",
    "                 batch_size=16,\n",
    "                 validation_data=(test_data,test_label),\n",
    "                 callbacks=callbacks_list,\n",
    "                 class_weight = classweight, verbose=verbose)\n",
    "        # clears the model to enable next model tuning\n",
    "        del model\n",
    "        keras.backend.clear_session()\n",
    "\n",
    "\n",
    "    def fine_tune_model(self, epoch, file_path4, verbose=0):\n",
    "        \"\"\" Fine tunes the model in addition to the top model. Both vgg16 and\n",
    "            resnet50 goes 4 layers up in addition to the dense layer.\n",
    "        # Arguments\n",
    "            epoch: number of epochs in model tuning.\n",
    "            file_path4: folder path to save fine_tune model best weights h5.\n",
    "            verbose: show progress, default is 0\n",
    "        # Returns\n",
    "            model results\n",
    "        \"\"\"\n",
    "        # build model and freeze top layers\n",
    "        if self.modeltype == 'resnet50':\n",
    "            base_model = ResNet50(weights='imagenet',include_top=False,\n",
    "                              input_shape=(self.dim,self.dim,3))\n",
    "            # build top model\n",
    "            top_model = self.resnet50_model(base_model.output_shape[1:],0.25)\n",
    "        if self.modeltype == 'vgg16':\n",
    "            base_model = VGG16(weights='imagenet',include_top=False,\n",
    "                               input_shape=(self.dim,self.dim,3))\n",
    "            top_model = self.vgg16_model(base_model.output_shape[1:],0.5)\n",
    "        # load saved weights to fine tune parameters\n",
    "        top_model.load_weights(self.file_path3)\n",
    "        # add top model to model\n",
    "        model = Model(inputs=base_model.input, outputs=top_model(base_model.output))\n",
    "        # we will tune last 5 layers of the model for both vgg16 and resnet50\n",
    "        for layer in model.layers[:-5]:\n",
    "            layer.trainable = False\n",
    "        # we can tune the parameters for lr and momentum later to get better\n",
    "        # results\n",
    "        model.compile(loss='binary_crossentropy',\n",
    "                 optimizer=optimizers.SGD(lr=5e-5, momentum = 0.9),\n",
    "                 metrics=['accuracy'])\n",
    "        # prepare train generator using data augmentation to battle small\n",
    "        # sample size\n",
    "        generators = self.create_generator(self.train_df,self.test_df,True,16,'binary')\n",
    "        \n",
    "        train_generator, classweight, test_generator = generators\n",
    "        # checkpoint for best weights\n",
    "        # update file_path4\n",
    "        self.file_path4 = file_path4\n",
    "        checkpoint = ModelCheckpoint(self.file_path4, monitor='val_acc', verbose=verbose,\n",
    "                                save_best_only=True, mode='max')\n",
    "        callbacks_list = [checkpoint]\n",
    "\n",
    "        # run and fit model\n",
    "        result = model.fit_generator(\n",
    "        train_generator,\n",
    "        steps_per_epoch=self.train_df.shape[0]//16,\n",
    "        epochs=epoch,\n",
    "        validation_data=test_generator,\n",
    "        validation_steps=self.test_df.shape[0]//16,\n",
    "        verbose=verbose,class_weight=list(classweight),\n",
    "        callbacks=callbacks_list\n",
    "        )\n",
    "        self.modelresult = result\n",
    "       # clears the model to enable next model tuning\n",
    "        del model\n",
    "        keras.backend.clear_session()\n",
    "        \n",
    "    def plot_model_history(self):\n",
    "        \"\"\"plot model accuracy and loss for test and train.\n",
    "        \"\"\"\n",
    "        # obtain model tuning history for train and test\n",
    "        model_history = self.modelresult.history\n",
    "        # create plots\n",
    "        # subplot 1\n",
    "        plt.figure(figsize=(8,4))\n",
    "        plt.subplot(1, 2, 1)\n",
    "        plt.plot(model_history['val_acc'], color = 'red', label = 'test')\n",
    "        plt.plot(model_history['acc'], color = 'blue', label = 'train')\n",
    "        plt.title('Accuracy', size=12)\n",
    "        plt.ylabel('Accuracy', size=10)\n",
    "        plt.xlabel('Epoch number', size=10)\n",
    "        plt.legend()\n",
    "        # subplot 2\n",
    "        plt.subplot(1, 2, 2)\n",
    "        plt.plot(model_history['val_loss'], color = 'red', label = 'test')\n",
    "        plt.plot(model_history['loss'], color = 'blue', label = 'train')\n",
    "        plt.title('Loss',size=12)\n",
    "        plt.ylabel('Loss', size=10)\n",
    "        plt.xlabel('Epoch number', size=10)\n",
    "        plt.legend()\n",
    "        # show the plot\n",
    "        plt.show()\n",
    "        \n",
    "    def save_model(self,modelpath):\n",
    "        \"\"\"save model as json.\n",
    "        # Arguments\n",
    "        modelpath: file_path to save the model as a json file\n",
    "        \"\"\"\n",
    "        if not self.modelpath:\n",
    "                self.modelpath = modelpath\n",
    "        # check if the model is already saved\n",
    "        if os.path.exists(self.modelpath):\n",
    "            print('Model already exists')\n",
    "            return \n",
    "        model = self.modelresult.model\n",
    "        model_json = model.to_json()\n",
    "        # serialize model to json\n",
    "        with open(self.modelpath, 'w') as json_file:\n",
    "            json_file.write(model_json)\n",
    "            \n",
    "    def model_testing(self):\n",
    "        \"\"\"Evaluates model on the entire pic_df. Generates confusion matrix and\n",
    "           prints classification_report.\n",
    "        \"\"\"\n",
    "        # subset the label dataframe\n",
    "        sub_set = self.df[['pic_id',self.label]]\n",
    "        # open and load the model\n",
    "        json_file = open(self.modelpath, 'r')\n",
    "        loaded_model_json = json_file.read()\n",
    "        json_file.close()\n",
    "        loaded_model = model_from_json(loaded_model_json)\n",
    "        # load the saved model weights\n",
    "        loaded_model.load_weights(self.file_path4)\n",
    "        # test the entire pic_df\n",
    "        generators= self.create_generator(None, self.df,False,32,'binary', True)\n",
    "        \n",
    "        data_generator = generators[0]\n",
    "        # convert labels from string to integer for model evaluation\n",
    "        labels = self.df[self.label].astype('int')\n",
    "        # compile models to predict the labels\n",
    "        loaded_model.compile(loss='binary_crossentropy',\n",
    "                 optimizer=optimizers.SGD(),\n",
    "                 metrics=['accuracy']\n",
    "                        )\n",
    "        # predict labels\n",
    "        y_pred = np.around(loaded_model.predict_generator(data_generator,\n",
    "                                                      workers=8)\n",
    "                      )\n",
    "        # plot ROC curve with AUC value\n",
    "        fpr, tpr, thresholds = roc_curve(labels, y_pred)\n",
    "        area = roc_auc_score(labels, y_pred)\n",
    "        plt.title(f'Receiver Operating Characteristic for {self.modeltype}_{self.label}')\n",
    "        plt.plot(fpr, tpr, 'b', label = 'AUC = %0.2f' % area)\n",
    "        plt.legend(loc = 'lower right')\n",
    "        plt.plot([0, 1], [0, 1],'r--')\n",
    "        plt.xlim([0, 1])\n",
    "        plt.ylim([0, 1])\n",
    "        plt.ylabel('True Positive Rate')\n",
    "        plt.xlabel('False Positive Rate')\n",
    "        plt.show()\n",
    "        cm = confusion_matrix(labels, y_pred)\n",
    "        print(pd.DataFrame(cm, index=['True_0','True_1'],\n",
    "                       columns=['Pred_0','Pred_1']))\n",
    "        print(classification_report(labels, y_pred))      "
   ]
  },
  {
   "cell_type": "markdown",
   "metadata": {},
   "source": [
    "----\n",
    "#### Train VGG16 models, save the best weights and show results\n",
    "* set file_paths and preprocess functions for hat, beard, and eyewear:"
   ]
  },
  {
   "cell_type": "code",
   "execution_count": 23,
   "metadata": {},
   "outputs": [],
   "source": [
    "file_path1_hat = '../tuning_data/VGG_16_tuning/bottleneck_train_hat.npy'\n",
    "file_path2_hat = '../tuning_data/VGG_16_tuning/bottleneck_test_hat.npy'\n",
    "file_path3_hat = '../tuning_data/VGG_16_tuning/top_model_weights_hat.h5'\n",
    "file_path4_hat = '../tuning_data/VGG_16_tuning/best_vgg16_model_hattest.h5'\n",
    "file_path1_beard = '../tuning_data/VGG_16_tuning/bottleneck_train_beard.npy'\n",
    "file_path2_beard = '../tuning_data/VGG_16_tuning/bottleneck_test_beard.npy'\n",
    "file_path3_beard = '../tuning_data/VGG_16_tuning/top_model_weights_beard.h5'\n",
    "file_path4_beard = '../tuning_data/VGG_16_tuning/best_vgg16_model_beardtest.h5'\n",
    "file_path1_eyewear = '../tuning_data/VGG_16_tuning/bottleneck_train_eyewear.npy'\n",
    "file_path2_eyewear = '../tuning_data/VGG_16_tuning/bottleneck_test_eyewear.npy'\n",
    "file_path3_eyewear = '../tuning_data/VGG_16_tuning/top_model_weights_eyewear.h5'\n",
    "file_path4_eyewear = '../tuning_data/VGG_16_tuning/best_vgg16_model_eyeweartest.h5'\n",
    "rescale_v = 1./255\n",
    "process_func_v = vgg16_preprocess.preprocess_input\n",
    "dim_v = 150\n",
    "vgg16_model_path = '../tuning_data/VGG_16_tuning/vgg_modeltest.json'"
   ]
  },
  {
   "cell_type": "code",
   "execution_count": 85,
   "metadata": {},
   "outputs": [],
   "source": [
    "beard_resnet = BaseClassifier('beard',rescale_r,process_input_r,dim_r,ResNet50,'resnet50')"
   ]
  },
  {
   "cell_type": "code",
   "execution_count": 86,
   "metadata": {},
   "outputs": [
    {
     "name": "stderr",
     "output_type": "stream",
     "text": [
      "W0909 22:40:00.867984 139721468995392 deprecation_wrapper.py:119] From /home/mindy/anaconda3/lib/python3.7/site-packages/keras/backend/tensorflow_backend.py:2041: The name tf.nn.fused_batch_norm is deprecated. Please use tf.compat.v1.nn.fused_batch_norm instead.\n",
      "\n"
     ]
    },
    {
     "name": "stdout",
     "output_type": "stream",
     "text": [
      "Found 522 validated image filenames.\n",
      "Found 131 validated image filenames.\n"
     ]
    }
   ],
   "source": [
    "beard_resnet.save_bottleneck_features(file_path1_beard,file_path2_beard)"
   ]
  },
  {
   "cell_type": "code",
   "execution_count": 87,
   "metadata": {},
   "outputs": [
    {
     "name": "stdout",
     "output_type": "stream",
     "text": [
      "Found 522 validated image filenames belonging to 2 classes.\n",
      "Found 131 validated image filenames belonging to 2 classes.\n"
     ]
    }
   ],
   "source": [
    "beard_resnet.train_top_model(20,file_path3_beard,verbose=0)"
   ]
  },
  {
   "cell_type": "code",
   "execution_count": 89,
   "metadata": {
    "scrolled": true
   },
   "outputs": [
    {
     "name": "stdout",
     "output_type": "stream",
     "text": [
      "Found 522 validated image filenames belonging to 2 classes.\n",
      "Found 131 validated image filenames belonging to 2 classes.\n"
     ]
    }
   ],
   "source": [
    "beard_resnet.fine_tune_model(20,file_path4_beard)"
   ]
  },
  {
   "cell_type": "code",
   "execution_count": 93,
   "metadata": {},
   "outputs": [
    {
     "data": {
      "image/png": "[encoded data removed]",
      "text/plain": [
       "<Figure size 576x288 with 2 Axes>"
      ]
     },
     "metadata": {
      "needs_background": "light"
     },
     "output_type": "display_data"
    }
   ],
   "source": [
    "beard_resnet.plot_model_result()"
   ]
  },
  {
   "cell_type": "code",
   "execution_count": 91,
   "metadata": {},
   "outputs": [],
   "source": [
    "beard_resnet.save_model(resnet_model_path)"
   ]
  },
  {
   "cell_type": "code",
   "execution_count": 94,
   "metadata": {},
   "outputs": [
    {
     "name": "stdout",
     "output_type": "stream",
     "text": [
      "Found 653 validated image filenames belonging to 2 classes.\n"
     ]
    },
    {
     "data": {
      "image/png": "[encoded data removed]",
      "text/plain": [
       "<Figure size 432x288 with 1 Axes>"
      ]
     },
     "metadata": {
      "needs_background": "light"
     },
     "output_type": "display_data"
    },
    {
     "name": "stdout",
     "output_type": "stream",
     "text": [
      "        Pred_0  Pred_1\n",
      "True_0     397      29\n",
      "True_1       5     222\n",
      "              precision    recall  f1-score   support\n",
      "\n",
      "           0       0.99      0.93      0.96       426\n",
      "           1       0.88      0.98      0.93       227\n",
      "\n",
      "    accuracy                           0.95       653\n",
      "   macro avg       0.94      0.95      0.94       653\n",
      "weighted avg       0.95      0.95      0.95       653\n",
      "\n"
     ]
    }
   ],
   "source": [
    "beard_resnet.model_testing()"
   ]
  },
  {
   "cell_type": "markdown",
   "metadata": {},
   "source": [
    "* save and create test and train df for hat, beard, and eyewear for vgg16:"
   ]
  },
  {
   "cell_type": "code",
   "execution_count": 5,
   "metadata": {
    "scrolled": true
   },
   "outputs": [],
   "source": [
    "train_df_hat_v, test_df_hat_v  = model_tuning.save_bottleneck_features('hat',VGG16,process_func_v,1./255,(150,150),\n",
    "                                                                       file_path1_hat, file_path2_hat)\n",
    "train_df_beard_v, test_df_beard_v  = model_tuning.save_bottleneck_features('beard',VGG16,process_func_v,1./255,\n",
    "                                                                           (150,150), file_path1_beard,\n",
    "                                                                           file_path2_beard)\n",
    "train_df_eyewear_v, test_df_eyewear_v  = model_tuning.save_bottleneck_features('eyewear',VGG16,process_func_v,\n",
    "                                                                               1./255,(150,150),\n",
    "                                                                               file_path1_eyewear,\n",
    "                                                                               file_path2_eyewear)"
   ]
  },
  {
   "cell_type": "markdown",
   "metadata": {},
   "source": [
    "* quickly train top models and save best weights for model fine tuning:"
   ]
  },
  {
   "cell_type": "code",
   "execution_count": 6,
   "metadata": {
    "scrolled": true
   },
   "outputs": [],
   "source": [
    "# hat\n",
    "print('Tuning vgg16 hat:')\n",
    "model_tuning.train_top_model(train_df_hat_v, test_df_hat_v,50, 'hat', 'vgg16',\n",
    "                             1./255, process_func_v, (150,150),\n",
    "                             file_path1_hat,file_path2_hat, file_path3_hat)\n",
    "# beard\n",
    "print('\\n\\nTuning vgg16 beard:')\n",
    "model_tuning.train_top_model(train_df_beard_v,test_df_beard_v,50, 'beard', 'vgg16',\n",
    "                             1./255, process_func_v, (150,150),\n",
    "                             file_path1_beard, file_path2_beard, file_path3_beard)\n",
    "# eyewear\n",
    "print('\\n\\nTuning vgg16 eyewear:')\n",
    "model_tuning.train_top_model(train_df_eyewear_v,test_df_eyewear_v, 50, 'eyewear','vgg16',\n",
    "                             1./2255, process_func_v, (150,150),\n",
    "                             file_path1_eyewear, file_path2_eyewear, file_path3_eyewear)"
   ]
  },
  {
   "cell_type": "markdown",
   "metadata": {},
   "source": [
    "* fine tune models and save best weights for final model"
   ]
  },
  {
   "cell_type": "code",
   "execution_count": 7,
   "metadata": {
    "scrolled": true
   },
   "outputs": [],
   "source": [
    "# hat\n",
    "print('Tuning vgg16 hat:')\n",
    "model_result_hat = model_tuning.fine_tune_model(train_df_hat_v,test_df_hat_v,50,'hat','vgg16',\n",
    "                                150,1./255,process_func_v,file_path3_hat, file_path4_hat)\n",
    "# beard\n",
    "print('\\n\\nTuning vgg16 beard:')\n",
    "model_result_beard = model_tuning.fine_tune_model(train_df_beard_v,test_df_beard_v,50,'beard','vgg16',\n",
    "                                150,1./255,process_func_v,file_path3_beard, file_path4_beard)\n",
    "# eyewear\n",
    "print('\\n\\nTuning vgg16 eyewear:')\n",
    "model_result_eyewear = model_tuning.fine_tune_model(train_df_eyewear_v,test_df_eyewear_v,50,'eyewear','vgg16',\n",
    "                                150,1./255,process_func_v,file_path3_eyewear, file_path4_eyewear)"
   ]
  },
  {
   "cell_type": "markdown",
   "metadata": {},
   "source": [
    "* save model, we only need to save one model as they are the same model architecture:"
   ]
  },
  {
   "cell_type": "code",
   "execution_count": 8,
   "metadata": {},
   "outputs": [],
   "source": [
    "model_evaluation.save_model(model_result_hat, vgg16_model_path)"
   ]
  },
  {
   "cell_type": "markdown",
   "metadata": {},
   "source": [
    "* plot model accuracy and loss curves with each epoch:"
   ]
  },
  {
   "cell_type": "code",
   "execution_count": 13,
   "metadata": {},
   "outputs": [],
   "source": [
    "# hat\n",
    "print('Check vgg16 hat model result:')\n",
    "model_evaluation.plot_model_result(model_result_hat)\n",
    "# beard\n",
    "print('\\n\\n Check vgg16 beard model result:')\n",
    "model_evaluation.plot_model_result(model_result_beard)\n",
    "# eyewear\n",
    "print('\\n\\n Check vgg16 eyewear model result:')\n",
    "model_evaluation.plot_model_result(model_result_eyewear)"
   ]
  },
  {
   "cell_type": "markdown",
   "metadata": {},
   "source": [
    "* test model on entire pic_df"
   ]
  },
  {
   "cell_type": "code",
   "execution_count": 15,
   "metadata": {
    "scrolled": false
   },
   "outputs": [
    {
     "name": "stdout",
     "output_type": "stream",
     "text": [
      "vgg16 hat model evaluation:\n"
     ]
    },
    {
     "name": "stderr",
     "output_type": "stream",
     "text": [
      "W0908 20:37:46.435916 140299869275968 deprecation_wrapper.py:119] From /home/mindy/anaconda3/lib/python3.7/site-packages/keras/optimizers.py:793: The name tf.train.Optimizer is deprecated. Please use tf.compat.v1.train.Optimizer instead.\n",
      "\n",
      "W0908 20:37:46.440665 140299869275968 deprecation.py:323] From /home/mindy/anaconda3/lib/python3.7/site-packages/tensorflow/python/ops/nn_impl.py:180: add_dispatch_support.<locals>.wrapper (from tensorflow.python.ops.array_ops) is deprecated and will be removed in a future version.\n",
      "Instructions for updating:\n",
      "Use tf.where in 2.0, which has the same broadcast rule as np.where\n"
     ]
    },
    {
     "name": "stdout",
     "output_type": "stream",
     "text": [
      "Found 653 validated image filenames belonging to 2 classes.\n"
     ]
    },
    {
     "data": {
      "image/png": "[encoded data removed]",
      "text/plain": [
       "<Figure size 432x288 with 1 Axes>"
      ]
     },
     "metadata": {
      "needs_background": "light"
     },
     "output_type": "display_data"
    },
    {
     "name": "stdout",
     "output_type": "stream",
     "text": [
      "        Pred_0  Pred_1\n",
      "True_0     395       3\n",
      "True_1       8     247\n",
      "              precision    recall  f1-score   support\n",
      "\n",
      "           0       0.98      0.99      0.99       398\n",
      "           1       0.99      0.97      0.98       255\n",
      "\n",
      "    accuracy                           0.98       653\n",
      "   macro avg       0.98      0.98      0.98       653\n",
      "weighted avg       0.98      0.98      0.98       653\n",
      "\n",
      "\n",
      "\n",
      "vgg16 beard model evaluation:\n",
      "Found 653 validated image filenames belonging to 2 classes.\n"
     ]
    },
    {
     "data": {
      "image/png": "[encoded data removed]",
      "text/plain": [
       "<Figure size 432x288 with 1 Axes>"
      ]
     },
     "metadata": {
      "needs_background": "light"
     },
     "output_type": "display_data"
    },
    {
     "name": "stdout",
     "output_type": "stream",
     "text": [
      "        Pred_0  Pred_1\n",
      "True_0     410      16\n",
      "True_1       7     220\n",
      "              precision    recall  f1-score   support\n",
      "\n",
      "           0       0.98      0.96      0.97       426\n",
      "           1       0.93      0.97      0.95       227\n",
      "\n",
      "    accuracy                           0.96       653\n",
      "   macro avg       0.96      0.97      0.96       653\n",
      "weighted avg       0.97      0.96      0.96       653\n",
      "\n",
      "\n",
      "\n",
      "vgg16 eyewear model evaluation:\n",
      "Found 653 validated image filenames belonging to 2 classes.\n"
     ]
    },
    {
     "data": {
      "image/png": "[encoded data removed]",
      "text/plain": [
       "<Figure size 432x288 with 1 Axes>"
      ]
     },
     "metadata": {
      "needs_background": "light"
     },
     "output_type": "display_data"
    },
    {
     "name": "stdout",
     "output_type": "stream",
     "text": [
      "        Pred_0  Pred_1\n",
      "True_0     311       5\n",
      "True_1       6     331\n",
      "              precision    recall  f1-score   support\n",
      "\n",
      "           0       0.98      0.98      0.98       316\n",
      "           1       0.99      0.98      0.98       337\n",
      "\n",
      "    accuracy                           0.98       653\n",
      "   macro avg       0.98      0.98      0.98       653\n",
      "weighted avg       0.98      0.98      0.98       653\n",
      "\n"
     ]
    }
   ],
   "source": [
    " # hat\n",
    "print('vgg16 hat model evaluation:')\n",
    "model_evaluation.model_testing(pickle_file_path,'hat',vgg16_model_path,file_path4_hat,\n",
    "                              (150,150),1./255,process_func_v, 'vgg16')\n",
    "# beard\n",
    "print('\\n\\nvgg16 beard model evaluation:')\n",
    "model_evaluation.model_testing(pickle_file_path, 'beard', vgg16_model_path, file_path4_beard,\n",
    "                              (150,150),1./255, process_func_v, 'vgg16')\n",
    "# eyewear\n",
    "print('\\n\\nvgg16 eyewear model evaluation:')\n",
    "model_evaluation.model_testing(pickle_file_path, 'eyewear', vgg16_model_path, file_path4_eyewear,\n",
    "                              (150,150),1./255, process_func_v, 'vgg16')"
   ]
  },
  {
   "cell_type": "markdown",
   "metadata": {},
   "source": [
    "----\n",
    "#### Train resnet50 models, save the best weights and show results:\n",
    "* set file_paths for hat, beard, and eyewear:"
   ]
  },
  {
   "cell_type": "code",
   "execution_count": 84,
   "metadata": {},
   "outputs": [],
   "source": [
    "# set file_pathsand preprocess functions for hat, beard, and eyewear\n",
    "file_path1_hat = '../tuning_data/resnet_data/bottleneck_train_hat.npy'\n",
    "file_path2_hat = '../tuning_data/resnet_data/bottleneck_test_hat.npy'\n",
    "file_path3_hat = '../tuning_data/resnet_data/top_model_weights_hat.h5'\n",
    "file_path4_hat = '../tuning_data/resnet_data/untracked_resnet50/best_resnet50_model_hattest.h5'\n",
    "file_path1_beard = '../tuning_data/resnet_data/bottleneck_train_beard.npy'\n",
    "file_path2_beard = '../tuning_data/resnet_data/bottleneck_test_beard.npy'\n",
    "file_path3_beard = '../tuning_data/resnet_data/top_model_weights_beard.h5'\n",
    "file_path4_beard = '../tuning_data/resnet_data/untracked_resnet50/best_resnet50_model_beardtest.h5'\n",
    "file_path1_eyewear = '../tuning_data/resnet_data/bottleneck_train_eyewear.npy'\n",
    "file_path2_eyewear = '../tuning_data/resnet_data/bottleneck_test_eyewear.npy'\n",
    "file_path3_eyewear = '../tuning_data/resnet_data/top_model_weights_eyewear.h5'\n",
    "file_path4_eyewear = '../tuning_data/resnet_data/untracked_resnet50/best_resnet50_model_eyeweartest.h5'\n",
    "resnet_model_path = '../tuning_data/resnet_data/resnet50_model_5_uptest.json'\n",
    "rescale_r = None\n",
    "process_input_r = preprocess_input\n",
    "dim_r = 224"
   ]
  },
  {
   "cell_type": "markdown",
   "metadata": {},
   "source": [
    "* save and create test and train df for hat, beard, and eyewear for resnet50:"
   ]
  },
  {
   "cell_type": "code",
   "execution_count": 17,
   "metadata": {},
   "outputs": [],
   "source": [
    "train_df_hat_r, test_df_hat_r  = model_tuning.save_bottleneck_features('hat',ResNet50,preprocess_input,None,\n",
    "                                                                       (224,224),file_path1_hat, file_path2_hat)\n",
    "train_df_beard_r, test_df_beard_r  = model_tuning.save_bottleneck_features('beard',ResNet50,preprocess_input,None,\n",
    "                                                                           (224,224), file_path1_beard,\n",
    "                                                                           file_path2_beard)\n",
    "train_df_eyewear_r, test_df_eyewear_r  = model_tuning.save_bottleneck_features('eyewear',ResNet50,preprocess_input,\n",
    "                                                                               None,(224,224),\n",
    "                                                                               file_path1_eyewear,\n",
    "                                                                               file_path2_eyewear)"
   ]
  },
  {
   "cell_type": "markdown",
   "metadata": {},
   "source": [
    "* quickly train top models and save best weights for model fine tuning:"
   ]
  },
  {
   "cell_type": "code",
   "execution_count": 18,
   "metadata": {},
   "outputs": [],
   "source": [
    "# hat\n",
    "print('Tuning resnet50 hat:')\n",
    "model_tuning.train_top_model(train_df_hat_r, test_df_hat_r,50, 'hat', 'resnet50',\n",
    "                             None, preprocess_input,(224,224),\n",
    "                             file_path1_hat,file_path2_hat, file_path3_hat)\n",
    "# beard\n",
    "print('\\n\\nTuning resnet50 beard:')\n",
    "model_tuning.train_top_model(train_df_beard_r, test_df_beard_r,50, 'beard', 'resnet50',\n",
    "                             None, preprocess_input,(224,224),\n",
    "                             file_path1_beard, file_path2_beard, file_path3_beard)\n",
    "# eyewear\n",
    "print('\\n\\nTuning resnet50 eyewear:')\n",
    "model_tuning.train_top_model(train_df_eyewear_r,test_df_eyewear_r, 50, 'eyewear','resnet50',\n",
    "                              None, preprocess_input,(224,224),\n",
    "                             file_path1_eyewear, file_path2_eyewear, file_path3_eyewear)"
   ]
  },
  {
   "cell_type": "markdown",
   "metadata": {},
   "source": [
    "* fine tune models and save best weights for final model:"
   ]
  },
  {
   "cell_type": "code",
   "execution_count": 19,
   "metadata": {},
   "outputs": [],
   "source": [
    "# hat\n",
    "print('Tuning resnet50 hat:')\n",
    "model_result_hat = model_tuning.fine_tune_model(train_df_hat_r,test_df_hat_r,50,'hat','resnet50',\n",
    "                                224,None,preprocess_input,file_path3_hat, file_path4_hat)\n",
    "# beard\n",
    "print('\\n\\nTuning resnet50 beard:')\n",
    "model_result_beard = model_tuning.fine_tune_model(train_df_beard_r,test_df_beard_r,50,'beard','resnet50',\n",
    "                                224,None,preprocess_input,file_path3_beard, file_path4_beard)\n",
    "# eyewear\n",
    "print('\\n\\nTuning resnet50 eyewear:')\n",
    "model_result_eyewear = model_tuning.fine_tune_model(train_df_eyewear_r,test_df_eyewear_r,50,'eyewear','resnet50',\n",
    "                                224,None,preprocess_input, file_path3_eyewear, file_path4_eyewear)"
   ]
  },
  {
   "cell_type": "markdown",
   "metadata": {},
   "source": [
    "* save model, we only need to save one model as they are the same model architecture:"
   ]
  },
  {
   "cell_type": "code",
   "execution_count": 20,
   "metadata": {},
   "outputs": [],
   "source": [
    "model_evaluation.save_model(model_result_hat, resnet_model_path)"
   ]
  },
  {
   "cell_type": "markdown",
   "metadata": {},
   "source": [
    "* plot model accuracy and loss curves with each epoch:"
   ]
  },
  {
   "cell_type": "code",
   "execution_count": 21,
   "metadata": {
    "scrolled": true
   },
   "outputs": [],
   "source": [
    "# hat\n",
    "print('Check resnet hat model result:')\n",
    "model_evaluation.plot_model_result(model_result_hat)\n",
    "# beard\n",
    "print('\\n\\n Check resnet beard model result:')\n",
    "model_evaluation.plot_model_result(model_result_beard)\n",
    "# eyewear\n",
    "print('\\n\\n Check resnet eyewear model result:')\n",
    "model_evaluation.plot_model_result(model_result_eyewear)"
   ]
  },
  {
   "cell_type": "markdown",
   "metadata": {},
   "source": [
    "* test model on entire pic_df:"
   ]
  },
  {
   "cell_type": "code",
   "execution_count": 22,
   "metadata": {},
   "outputs": [
    {
     "name": "stderr",
     "output_type": "stream",
     "text": [
      "W0908 20:43:35.258756 140299869275968 deprecation_wrapper.py:119] From /home/mindy/anaconda3/lib/python3.7/site-packages/keras/backend/tensorflow_backend.py:2041: The name tf.nn.fused_batch_norm is deprecated. Please use tf.compat.v1.nn.fused_batch_norm instead.\n",
      "\n"
     ]
    },
    {
     "name": "stdout",
     "output_type": "stream",
     "text": [
      "resnet50 hat model evaluation:\n",
      "Found 653 validated image filenames belonging to 2 classes.\n"
     ]
    },
    {
     "data": {
      "image/png": "[encoded data removed]",
      "text/plain": [
       "<Figure size 432x288 with 1 Axes>"
      ]
     },
     "metadata": {
      "needs_background": "light"
     },
     "output_type": "display_data"
    },
    {
     "name": "stdout",
     "output_type": "stream",
     "text": [
      "        Pred_0  Pred_1\n",
      "True_0     395       3\n",
      "True_1      36     219\n",
      "              precision    recall  f1-score   support\n",
      "\n",
      "           0       0.92      0.99      0.95       398\n",
      "           1       0.99      0.86      0.92       255\n",
      "\n",
      "    accuracy                           0.94       653\n",
      "   macro avg       0.95      0.93      0.94       653\n",
      "weighted avg       0.94      0.94      0.94       653\n",
      "\n",
      "\n",
      "\n",
      "resnet50 beard model evaluation:\n",
      "Found 653 validated image filenames belonging to 2 classes.\n"
     ]
    },
    {
     "data": {
      "image/png": "[encoded data removed]",
      "text/plain": [
       "<Figure size 432x288 with 1 Axes>"
      ]
     },
     "metadata": {
      "needs_background": "light"
     },
     "output_type": "display_data"
    },
    {
     "name": "stdout",
     "output_type": "stream",
     "text": [
      "        Pred_0  Pred_1\n",
      "True_0     402      24\n",
      "True_1      10     217\n",
      "              precision    recall  f1-score   support\n",
      "\n",
      "           0       0.98      0.94      0.96       426\n",
      "           1       0.90      0.96      0.93       227\n",
      "\n",
      "    accuracy                           0.95       653\n",
      "   macro avg       0.94      0.95      0.94       653\n",
      "weighted avg       0.95      0.95      0.95       653\n",
      "\n",
      "\n",
      "\n",
      "resnet50 eyewear model evaluation:\n",
      "Found 653 validated image filenames belonging to 2 classes.\n"
     ]
    },
    {
     "data": {
      "image/png": "[encoded data removed]",
      "text/plain": [
       "<Figure size 432x288 with 1 Axes>"
      ]
     },
     "metadata": {
      "needs_background": "light"
     },
     "output_type": "display_data"
    },
    {
     "name": "stdout",
     "output_type": "stream",
     "text": [
      "        Pred_0  Pred_1\n",
      "True_0     293      23\n",
      "True_1       4     333\n",
      "              precision    recall  f1-score   support\n",
      "\n",
      "           0       0.99      0.93      0.96       316\n",
      "           1       0.94      0.99      0.96       337\n",
      "\n",
      "    accuracy                           0.96       653\n",
      "   macro avg       0.96      0.96      0.96       653\n",
      "weighted avg       0.96      0.96      0.96       653\n",
      "\n"
     ]
    }
   ],
   "source": [
    "# hat\n",
    "print('resnet50 hat model evaluation:')\n",
    "model_evaluation.model_testing(pickle_file_path,'hat',resnet_model_path,file_path4_hat,\n",
    "                              (224,224),None,preprocess_input, 'resnet50')\n",
    "# beard\n",
    "print('\\n\\nresnet50 beard model evaluation:')\n",
    "model_evaluation.model_testing(pickle_file_path, 'beard', resnet_model_path, file_path4_beard,\n",
    "                              (224,224),None,preprocess_input, 'resnet50')\n",
    "# eyewear\n",
    "print('\\n\\nresnet50 eyewear model evaluation:')\n",
    "model_evaluation.model_testing(pickle_file_path, 'eyewear', resnet_model_path, file_path4_eyewear,\n",
    "                              (224,224),None,preprocess_input, 'resnet50')"
   ]
  }
 ],
 "metadata": {
  "kernelspec": {
   "display_name": "Python 3",
   "language": "python",
   "name": "python3"
  },
  "language_info": {
   "codemirror_mode": {
    "name": "ipython",
    "version": 3
   },
   "file_extension": ".py",
   "mimetype": "text/x-python",
   "name": "python",
   "nbconvert_exporter": "python",
   "pygments_lexer": "ipython3",
   "version": "3.7.3"
  }
 },
 "nbformat": 4,
 "nbformat_minor": 2
}
