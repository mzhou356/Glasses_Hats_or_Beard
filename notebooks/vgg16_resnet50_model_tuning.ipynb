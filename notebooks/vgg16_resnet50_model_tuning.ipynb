{
 "cells": [
  {
   "cell_type": "markdown",
   "metadata": {},
   "source": [
    "## Transfer learning tuning and saving best models:\n",
    "\n",
    "### VGG16:\n",
    " * model parameter and other information can be found below:\n",
    "     * [source](https://blog.keras.io/building-powerful-image-classification-models-using-very-little-data.html)\n",
    "     \n",
    "  * base_model: use vgg16 as base model and freeze at bottleneck layer (stop right before flatten layer). \n",
    "  * top_model: tune dense layers (parameters are inspired by the blog source):\n",
    "     * batch_size 16 seems to work best for small data set \n",
    "  * freezed the first 15 layers and fined tuned the last 5 layers (block5 and fully connected layer).\n",
    "  * extra blog source for callbacks and saving models:\n",
    "    * [call_backs for best weights](https://machinelearningmastery.com/check-point-deep-learning-models-keras/)\n",
    "    * [saving models](https://machinelearningmastery.com/save-load-keras-deep-learning-models/)\n",
    "\n",
    "### ResNet50:\n",
    "  * Use Resnet50 to help further improve accuracy:\n",
    "      * see [base model info comparison](https://medium.com/@sidereal/cnns-architectures-lenet-alexnet-vgg-googlenet-resnet-and-more-666091488df5)\n",
    "      * [resnet50 blog](https://towardsdatascience.com/understanding-and-coding-a-resnet-in-keras-446d7ff84d33)\n",
    "     \n",
    "  * base_model: use RESNET50 and freeze at bottleneck layer (stop right before 2D AVERAGE POOL). \n",
    "  * top_model: tune dense layers (parameters are inspired by a few sources):\n",
    "     * [source1](https://www.kaggle.com/suniliitb96/tutorial-keras-transfer-learning-with-resnet50)\n",
    "     * [source2](https://www.kaggle.com/pmigdal/transfer-learning-with-resnet-50-in-keras)\n",
    "     * [source3](https://towardsdatascience.com/transfer-learning-for-image-classification-using-keras-c47ccf09c8c8)\n",
    "  * unfreezed the last 5 layers (after activation48 and fully connected layer).\n",
    "  \n",
    "---\n",
    "#### This cell is required in order to use GPU for running the model "
   ]
  },
  {
   "cell_type": "code",
   "execution_count": 1,
   "metadata": {},
   "outputs": [
    {
     "name": "stderr",
     "output_type": "stream",
     "text": [
      "Using TensorFlow backend.\n",
      "WARNING: Logging before flag parsing goes to stderr.\n",
      "W0908 20:27:22.756683 140299869275968 deprecation_wrapper.py:119] From /home/mindy/anaconda3/lib/python3.7/site-packages/keras/backend/tensorflow_backend.py:190: The name tf.get_default_session is deprecated. Please use tf.compat.v1.get_default_session instead.\n",
      "\n",
      "W0908 20:27:22.757494 140299869275968 deprecation_wrapper.py:119] From /home/mindy/anaconda3/lib/python3.7/site-packages/keras/backend/tensorflow_backend.py:207: The name tf.global_variables is deprecated. Please use tf.compat.v1.global_variables instead.\n",
      "\n"
     ]
    }
   ],
   "source": [
    "import warnings\n",
    "warnings.filterwarnings('ignore')\n",
    "import tensorflow as tf\n",
    "import keras\n",
    "from keras.backend.tensorflow_backend import set_session\n",
    "config = tf.ConfigProto()\n",
    "# dynamically grow the memory used on the GPU\n",
    "config.gpu_options.allow_growth = True \n",
    "# to log device placement (on which device the operation ran)\n",
    "# (nothing gets printed in Jupyter, only if you run it standalone)\n",
    "config.log_device_placement = True  \n",
    "# set this TensorFlow session as the default session for Keras                                    \n",
    "sess = tf.Session(config=config)\n",
    "set_session(sess) \n",
    "keras.backend.get_session().run(tf.global_variables_initializer())  "
   ]
  },
  {
   "cell_type": "markdown",
   "metadata": {},
   "source": [
    "---\n",
    "#### Import necessary libraries:"
   ]
  },
  {
   "cell_type": "code",
   "execution_count": 2,
   "metadata": {},
   "outputs": [],
   "source": [
    "import sys\n",
    "from keras.applications.resnet50 import ResNet50, preprocess_input\n",
    "from keras.applications.vgg16 import VGG16\n",
    "%matplotlib inline"
   ]
  },
  {
   "cell_type": "markdown",
   "metadata": {},
   "source": [
    "#### Load in python files with helper functions:"
   ]
  },
  {
   "cell_type": "code",
   "execution_count": 3,
   "metadata": {
    "scrolled": false
   },
   "outputs": [],
   "source": [
    "%load_ext autoreload\n",
    "%autoreload 1\n",
    "\n",
    "sys.path.append(\"../python_files/\")\n",
    "\n",
    "import vgg16_preprocess\n",
    "import model_tuning\n",
    "import model_evaluation\n",
    "\n",
    "\n",
    "%aimport vgg16_preprocess\n",
    "%aimport model_tuning\n",
    "%aimport model_evaluation"
   ]
  },
  {
   "cell_type": "markdown",
   "metadata": {},
   "source": [
    "----\n",
    "#### Train VGG16 models, save the best weights and show results\n",
    "* set file_paths and preprocess functions for hat, beard, and eyewear:"
   ]
  },
  {
   "cell_type": "code",
   "execution_count": 14,
   "metadata": {},
   "outputs": [],
   "source": [
    "file_path1_hat = '../tuning_data/VGG_16_tuning/bottleneck_train_hat.npy'\n",
    "file_path2_hat = '../tuning_data/VGG_16_tuning/bottleneck_test_hat.npy'\n",
    "file_path3_hat = '../tuning_data/VGG_16_tuning/top_model_weights_hat.h5'\n",
    "file_path4_hat = '../tuning_data/VGG_16_tuning/best_vgg16_model_hat.h5'\n",
    "file_path1_beard = '../tuning_data/VGG_16_tuning/bottleneck_train_beard.npy'\n",
    "file_path2_beard = '../tuning_data/VGG_16_tuning/bottleneck_test_beard.npy'\n",
    "file_path3_beard = '../tuning_data/VGG_16_tuning/top_model_weights_beard.h5'\n",
    "file_path4_beard = '../tuning_data/VGG_16_tuning/best_vgg16_model_beard.h5'\n",
    "file_path1_eyewear = '../tuning_data/VGG_16_tuning/bottleneck_train_eyewear.npy'\n",
    "file_path2_eyewear = '../tuning_data/VGG_16_tuning/bottleneck_test_eyewear.npy'\n",
    "file_path3_eyewear = '../tuning_data/VGG_16_tuning/top_model_weights_eyewear.h5'\n",
    "file_path4_eyewear = '../tuning_data/VGG_16_tuning/best_vgg16_model_eyewear.h5'\n",
    "process_func_v = vgg16_preprocess.preprocess_input\n",
    "vgg16_model_path = '../tuning_data/VGG_16_tuning/vgg_model.json'\n",
    "pickle_file_path = '../pickle_files/pic_df.pkl'"
   ]
  },
  {
   "cell_type": "markdown",
   "metadata": {},
   "source": [
    "* save and create test and train df for hat, beard, and eyewear for vgg16:"
   ]
  },
  {
   "cell_type": "code",
   "execution_count": 5,
   "metadata": {
    "scrolled": true
   },
   "outputs": [],
   "source": [
    "train_df_hat_v, test_df_hat_v  = model_tuning.save_bottleneck_features('hat',VGG16,process_func_v,1./255,(150,150),\n",
    "                                                                       file_path1_hat, file_path2_hat)\n",
    "train_df_beard_v, test_df_beard_v  = model_tuning.save_bottleneck_features('beard',VGG16,process_func_v,1./255,\n",
    "                                                                           (150,150), file_path1_beard,\n",
    "                                                                           file_path2_beard)\n",
    "train_df_eyewear_v, test_df_eyewear_v  = model_tuning.save_bottleneck_features('eyewear',VGG16,process_func_v,\n",
    "                                                                               1./255,(150,150),\n",
    "                                                                               file_path1_eyewear,\n",
    "                                                                               file_path2_eyewear)"
   ]
  },
  {
   "cell_type": "markdown",
   "metadata": {},
   "source": [
    "* quickly train top models and save best weights for model fine tuning:"
   ]
  },
  {
   "cell_type": "code",
   "execution_count": 6,
   "metadata": {
    "scrolled": true
   },
   "outputs": [],
   "source": [
    "# hat\n",
    "print('Tuning vgg16 hat:')\n",
    "model_tuning.train_top_model(train_df_hat_v, test_df_hat_v,50, 'hat', 'vgg16',\n",
    "                             1./255, process_func_v, (150,150),\n",
    "                             file_path1_hat,file_path2_hat, file_path3_hat)\n",
    "# beard\n",
    "print('\\n\\nTuning vgg16 beard:')\n",
    "model_tuning.train_top_model(train_df_beard_v,test_df_beard_v,50, 'beard', 'vgg16',\n",
    "                             1./255, process_func_v, (150,150),\n",
    "                             file_path1_beard, file_path2_beard, file_path3_beard)\n",
    "# eyewear\n",
    "print('\\n\\nTuning vgg16 eyewear:')\n",
    "model_tuning.train_top_model(train_df_eyewear_v,test_df_eyewear_v, 50, 'eyewear','vgg16',\n",
    "                             1./2255, process_func_v, (150,150),\n",
    "                             file_path1_eyewear, file_path2_eyewear, file_path3_eyewear)"
   ]
  },
  {
   "cell_type": "markdown",
   "metadata": {},
   "source": [
    "* fine tune models and save best weights for final model"
   ]
  },
  {
   "cell_type": "code",
   "execution_count": 7,
   "metadata": {
    "scrolled": true
   },
   "outputs": [],
   "source": [
    "# hat\n",
    "print('Tuning vgg16 hat:')\n",
    "model_result_hat = model_tuning.fine_tune_model(train_df_hat_v,test_df_hat_v,50,'hat','vgg16',\n",
    "                                150,1./255,process_func_v,file_path3_hat, file_path4_hat)\n",
    "# beard\n",
    "print('\\n\\nTuning vgg16 beard:')\n",
    "model_result_beard = model_tuning.fine_tune_model(train_df_beard_v,test_df_beard_v,50,'beard','vgg16',\n",
    "                                150,1./255,process_func_v,file_path3_beard, file_path4_beard)\n",
    "# eyewear\n",
    "print('\\n\\nTuning vgg16 eyewear:')\n",
    "model_result_eyewear = model_tuning.fine_tune_model(train_df_eyewear_v,test_df_eyewear_v,50,'eyewear','vgg16',\n",
    "                                150,1./255,process_func_v,file_path3_eyewear, file_path4_eyewear)"
   ]
  },
  {
   "cell_type": "markdown",
   "metadata": {},
   "source": [
    "* save model, we only need to save one model as they are the same model architecture:"
   ]
  },
  {
   "cell_type": "code",
   "execution_count": 8,
   "metadata": {},
   "outputs": [],
   "source": [
    "model_evaluation.save_model(model_result_hat, vgg16_model_path)"
   ]
  },
  {
   "cell_type": "markdown",
   "metadata": {},
   "source": [
    "* plot model accuracy and loss curves with each epoch:"
   ]
  },
  {
   "cell_type": "code",
   "execution_count": 13,
   "metadata": {},
   "outputs": [],
   "source": [
    "# hat\n",
    "print('Check vgg16 hat model result:')\n",
    "model_evaluation.plot_model_result(model_result_hat)\n",
    "# beard\n",
    "print('\\n\\n Check vgg16 beard model result:')\n",
    "model_evaluation.plot_model_result(model_result_beard)\n",
    "# eyewear\n",
    "print('\\n\\n Check vgg16 eyewear model result:')\n",
    "model_evaluation.plot_model_result(model_result_eyewear)"
   ]
  },
  {
   "cell_type": "markdown",
   "metadata": {},
   "source": [
    "* test model on entire pic_df"
   ]
  },
  {
   "cell_type": "code",
   "execution_count": 15,
   "metadata": {
    "scrolled": false
   },
   "outputs": [
    {
     "name": "stdout",
     "output_type": "stream",
     "text": [
      "vgg16 hat model evaluation:\n"
     ]
    },
    {
     "name": "stderr",
     "output_type": "stream",
     "text": [
      "W0908 20:37:46.435916 140299869275968 deprecation_wrapper.py:119] From /home/mindy/anaconda3/lib/python3.7/site-packages/keras/optimizers.py:793: The name tf.train.Optimizer is deprecated. Please use tf.compat.v1.train.Optimizer instead.\n",
      "\n",
      "W0908 20:37:46.440665 140299869275968 deprecation.py:323] From /home/mindy/anaconda3/lib/python3.7/site-packages/tensorflow/python/ops/nn_impl.py:180: add_dispatch_support.<locals>.wrapper (from tensorflow.python.ops.array_ops) is deprecated and will be removed in a future version.\n",
      "Instructions for updating:\n",
      "Use tf.where in 2.0, which has the same broadcast rule as np.where\n"
     ]
    },
    {
     "name": "stdout",
     "output_type": "stream",
     "text": [
      "Found 653 validated image filenames belonging to 2 classes.\n"
     ]
    },
    {
     "data": {
      "image/png": "[encoded data removed]",
      "text/plain": [
       "<Figure size 432x288 with 1 Axes>"
      ]
     },
     "metadata": {
      "needs_background": "light"
     },
     "output_type": "display_data"
    },
    {
     "name": "stdout",
     "output_type": "stream",
     "text": [
      "        Pred_0  Pred_1\n",
      "True_0     395       3\n",
      "True_1       8     247\n",
      "              precision    recall  f1-score   support\n",
      "\n",
      "           0       0.98      0.99      0.99       398\n",
      "           1       0.99      0.97      0.98       255\n",
      "\n",
      "    accuracy                           0.98       653\n",
      "   macro avg       0.98      0.98      0.98       653\n",
      "weighted avg       0.98      0.98      0.98       653\n",
      "\n",
      "\n",
      "\n",
      "vgg16 beard model evaluation:\n",
      "Found 653 validated image filenames belonging to 2 classes.\n"
     ]
    },
    {
     "data": {
      "image/png": "[encoded data removed]",
      "text/plain": [
       "<Figure size 432x288 with 1 Axes>"
      ]
     },
     "metadata": {
      "needs_background": "light"
     },
     "output_type": "display_data"
    },
    {
     "name": "stdout",
     "output_type": "stream",
     "text": [
      "        Pred_0  Pred_1\n",
      "True_0     410      16\n",
      "True_1       7     220\n",
      "              precision    recall  f1-score   support\n",
      "\n",
      "           0       0.98      0.96      0.97       426\n",
      "           1       0.93      0.97      0.95       227\n",
      "\n",
      "    accuracy                           0.96       653\n",
      "   macro avg       0.96      0.97      0.96       653\n",
      "weighted avg       0.97      0.96      0.96       653\n",
      "\n",
      "\n",
      "\n",
      "vgg16 eyewear model evaluation:\n",
      "Found 653 validated image filenames belonging to 2 classes.\n"
     ]
    },
    {
     "data": {
      "image/png": "[encoded data removed]",
      "text/plain": [
       "<Figure size 432x288 with 1 Axes>"
      ]
     },
     "metadata": {
      "needs_background": "light"
     },
     "output_type": "display_data"
    },
    {
     "name": "stdout",
     "output_type": "stream",
     "text": [
      "        Pred_0  Pred_1\n",
      "True_0     311       5\n",
      "True_1       6     331\n",
      "              precision    recall  f1-score   support\n",
      "\n",
      "           0       0.98      0.98      0.98       316\n",
      "           1       0.99      0.98      0.98       337\n",
      "\n",
      "    accuracy                           0.98       653\n",
      "   macro avg       0.98      0.98      0.98       653\n",
      "weighted avg       0.98      0.98      0.98       653\n",
      "\n"
     ]
    }
   ],
   "source": [
    " # hat\n",
    "print('vgg16 hat model evaluation:')\n",
    "model_evaluation.model_testing(pickle_file_path,'hat',vgg16_model_path,file_path4_hat,\n",
    "                              (150,150),1./255,process_func_v, 'vgg16')\n",
    "# beard\n",
    "print('\\n\\nvgg16 beard model evaluation:')\n",
    "model_evaluation.model_testing(pickle_file_path, 'beard', vgg16_model_path, file_path4_beard,\n",
    "                              (150,150),1./255, process_func_v, 'vgg16')\n",
    "# eyewear\n",
    "print('\\n\\nvgg16 eyewear model evaluation:')\n",
    "model_evaluation.model_testing(pickle_file_path, 'eyewear', vgg16_model_path, file_path4_eyewear,\n",
    "                              (150,150),1./255, process_func_v, 'vgg16')"
   ]
  },
  {
   "cell_type": "markdown",
   "metadata": {},
   "source": [
    "----\n",
    "#### Train resnet50 models, save the best weights and show results:\n",
    "* set file_paths for hat, beard, and eyewear:"
   ]
  },
  {
   "cell_type": "code",
   "execution_count": 16,
   "metadata": {},
   "outputs": [],
   "source": [
    "# set file_pathsand preprocess functions for hat, beard, and eyewear\n",
    "file_path1_hat = '../tuning_data/resnet_data/bottleneck_train_hat.npy'\n",
    "file_path2_hat = '../tuning_data/resnet_data/bottleneck_test_hat.npy'\n",
    "file_path3_hat = '../tuning_data/resnet_data/top_model_weights_hat.h5'\n",
    "file_path4_hat = '../tuning_data/resnet_data/untracked_resnet50/best_resnet50_model_hat.h5'\n",
    "file_path1_beard = '../tuning_data/resnet_data/bottleneck_train_beard.npy'\n",
    "file_path2_beard = '../tuning_data/resnet_data/bottleneck_test_beard.npy'\n",
    "file_path3_beard = '../tuning_data/resnet_data/top_model_weights_beard.h5'\n",
    "file_path4_beard = '../tuning_data/resnet_data/untracked_resnet50/best_resnet50_model_beard.h5'\n",
    "file_path1_eyewear = '../tuning_data/resnet_data/bottleneck_train_eyewear.npy'\n",
    "file_path2_eyewear = '../tuning_data/resnet_data/bottleneck_test_eyewear.npy'\n",
    "file_path3_eyewear = '../tuning_data/resnet_data/top_model_weights_eyewear.h5'\n",
    "file_path4_eyewear = '../tuning_data/resnet_data/untracked_resnet50/best_resnet50_model_eyewear.h5'\n",
    "resnet_model_path = '../tuning_data/resnet_data/resnet50_model_5_up.json'"
   ]
  },
  {
   "cell_type": "markdown",
   "metadata": {},
   "source": [
    "* save and create test and train df for hat, beard, and eyewear for resnet50:"
   ]
  },
  {
   "cell_type": "code",
   "execution_count": 17,
   "metadata": {},
   "outputs": [],
   "source": [
    "train_df_hat_r, test_df_hat_r  = model_tuning.save_bottleneck_features('hat',ResNet50,preprocess_input,None,\n",
    "                                                                       (224,224),file_path1_hat, file_path2_hat)\n",
    "train_df_beard_r, test_df_beard_r  = model_tuning.save_bottleneck_features('beard',ResNet50,preprocess_input,None,\n",
    "                                                                           (224,224), file_path1_beard,\n",
    "                                                                           file_path2_beard)\n",
    "train_df_eyewear_r, test_df_eyewear_r  = model_tuning.save_bottleneck_features('eyewear',ResNet50,preprocess_input,\n",
    "                                                                               None,(224,224),\n",
    "                                                                               file_path1_eyewear,\n",
    "                                                                               file_path2_eyewear)"
   ]
  },
  {
   "cell_type": "markdown",
   "metadata": {},
   "source": [
    "* quickly train top models and save best weights for model fine tuning:"
   ]
  },
  {
   "cell_type": "code",
   "execution_count": 18,
   "metadata": {},
   "outputs": [],
   "source": [
    "# hat\n",
    "print('Tuning resnet50 hat:')\n",
    "model_tuning.train_top_model(train_df_hat_r, test_df_hat_r,50, 'hat', 'resnet50',\n",
    "                             None, preprocess_input,(224,224),\n",
    "                             file_path1_hat,file_path2_hat, file_path3_hat)\n",
    "# beard\n",
    "print('\\n\\nTuning resnet50 beard:')\n",
    "model_tuning.train_top_model(train_df_beard_r, test_df_beard_r,50, 'beard', 'resnet50',\n",
    "                             None, preprocess_input,(224,224),\n",
    "                             file_path1_beard, file_path2_beard, file_path3_beard)\n",
    "# eyewear\n",
    "print('\\n\\nTuning resnet50 eyewear:')\n",
    "model_tuning.train_top_model(train_df_eyewear_r,test_df_eyewear_r, 50, 'eyewear','resnet50',\n",
    "                              None, preprocess_input,(224,224),\n",
    "                             file_path1_eyewear, file_path2_eyewear, file_path3_eyewear)"
   ]
  },
  {
   "cell_type": "markdown",
   "metadata": {},
   "source": [
    "* fine tune models and save best weights for final model:"
   ]
  },
  {
   "cell_type": "code",
   "execution_count": 19,
   "metadata": {},
   "outputs": [],
   "source": [
    "# hat\n",
    "print('Tuning resnet50 hat:')\n",
    "model_result_hat = model_tuning.fine_tune_model(train_df_hat_r,test_df_hat_r,50,'hat','resnet50',\n",
    "                                224,None,preprocess_input,file_path3_hat, file_path4_hat)\n",
    "# beard\n",
    "print('\\n\\nTuning resnet50 beard:')\n",
    "model_result_beard = model_tuning.fine_tune_model(train_df_beard_r,test_df_beard_r,50,'beard','resnet50',\n",
    "                                224,None,preprocess_input,file_path3_beard, file_path4_beard)\n",
    "# eyewear\n",
    "print('\\n\\nTuning resnet50 eyewear:')\n",
    "model_result_eyewear = model_tuning.fine_tune_model(train_df_eyewear_r,test_df_eyewear_r,50,'eyewear','resnet50',\n",
    "                                224,None,preprocess_input, file_path3_eyewear, file_path4_eyewear)"
   ]
  },
  {
   "cell_type": "markdown",
   "metadata": {},
   "source": [
    "* save model, we only need to save one model as they are the same model architecture:"
   ]
  },
  {
   "cell_type": "code",
   "execution_count": 20,
   "metadata": {},
   "outputs": [],
   "source": [
    "model_evaluation.save_model(model_result_hat, resnet_model_path)"
   ]
  },
  {
   "cell_type": "markdown",
   "metadata": {},
   "source": [
    "* plot model accuracy and loss curves with each epoch:"
   ]
  },
  {
   "cell_type": "code",
   "execution_count": 21,
   "metadata": {
    "scrolled": true
   },
   "outputs": [],
   "source": [
    "# hat\n",
    "print('Check resnet hat model result:')\n",
    "model_evaluation.plot_model_result(model_result_hat)\n",
    "# beard\n",
    "print('\\n\\n Check resnet beard model result:')\n",
    "model_evaluation.plot_model_result(model_result_beard)\n",
    "# eyewear\n",
    "print('\\n\\n Check resnet eyewear model result:')\n",
    "model_evaluation.plot_model_result(model_result_eyewear)"
   ]
  },
  {
   "cell_type": "markdown",
   "metadata": {},
   "source": [
    "* test model on entire pic_df:"
   ]
  },
  {
   "cell_type": "code",
   "execution_count": 22,
   "metadata": {},
   "outputs": [
    {
     "name": "stderr",
     "output_type": "stream",
     "text": [
      "W0908 20:43:35.258756 140299869275968 deprecation_wrapper.py:119] From /home/mindy/anaconda3/lib/python3.7/site-packages/keras/backend/tensorflow_backend.py:2041: The name tf.nn.fused_batch_norm is deprecated. Please use tf.compat.v1.nn.fused_batch_norm instead.\n",
      "\n"
     ]
    },
    {
     "name": "stdout",
     "output_type": "stream",
     "text": [
      "resnet50 hat model evaluation:\n",
      "Found 653 validated image filenames belonging to 2 classes.\n"
     ]
    },
    {
     "data": {
      "image/png": "[encoded data removed]",
      "text/plain": [
       "<Figure size 432x288 with 1 Axes>"
      ]
     },
     "metadata": {
      "needs_background": "light"
     },
     "output_type": "display_data"
    },
    {
     "name": "stdout",
     "output_type": "stream",
     "text": [
      "        Pred_0  Pred_1\n",
      "True_0     395       3\n",
      "True_1      36     219\n",
      "              precision    recall  f1-score   support\n",
      "\n",
      "           0       0.92      0.99      0.95       398\n",
      "           1       0.99      0.86      0.92       255\n",
      "\n",
      "    accuracy                           0.94       653\n",
      "   macro avg       0.95      0.93      0.94       653\n",
      "weighted avg       0.94      0.94      0.94       653\n",
      "\n",
      "\n",
      "\n",
      "resnet50 beard model evaluation:\n",
      "Found 653 validated image filenames belonging to 2 classes.\n"
     ]
    },
    {
     "data": {
      "image/png": "[encoded data removed]",
      "text/plain": [
       "<Figure size 432x288 with 1 Axes>"
      ]
     },
     "metadata": {
      "needs_background": "light"
     },
     "output_type": "display_data"
    },
    {
     "name": "stdout",
     "output_type": "stream",
     "text": [
      "        Pred_0  Pred_1\n",
      "True_0     402      24\n",
      "True_1      10     217\n",
      "              precision    recall  f1-score   support\n",
      "\n",
      "           0       0.98      0.94      0.96       426\n",
      "           1       0.90      0.96      0.93       227\n",
      "\n",
      "    accuracy                           0.95       653\n",
      "   macro avg       0.94      0.95      0.94       653\n",
      "weighted avg       0.95      0.95      0.95       653\n",
      "\n",
      "\n",
      "\n",
      "resnet50 eyewear model evaluation:\n",
      "Found 653 validated image filenames belonging to 2 classes.\n"
     ]
    },
    {
     "data": {
      "image/png": "[encoded data removed]",
      "text/plain": [
       "<Figure size 432x288 with 1 Axes>"
      ]
     },
     "metadata": {
      "needs_background": "light"
     },
     "output_type": "display_data"
    },
    {
     "name": "stdout",
     "output_type": "stream",
     "text": [
      "        Pred_0  Pred_1\n",
      "True_0     293      23\n",
      "True_1       4     333\n",
      "              precision    recall  f1-score   support\n",
      "\n",
      "           0       0.99      0.93      0.96       316\n",
      "           1       0.94      0.99      0.96       337\n",
      "\n",
      "    accuracy                           0.96       653\n",
      "   macro avg       0.96      0.96      0.96       653\n",
      "weighted avg       0.96      0.96      0.96       653\n",
      "\n"
     ]
    }
   ],
   "source": [
    "# hat\n",
    "print('resnet50 hat model evaluation:')\n",
    "model_evaluation.model_testing(pickle_file_path,'hat',resnet_model_path,file_path4_hat,\n",
    "                              (224,224),None,preprocess_input, 'resnet50')\n",
    "# beard\n",
    "print('\\n\\nresnet50 beard model evaluation:')\n",
    "model_evaluation.model_testing(pickle_file_path, 'beard', resnet_model_path, file_path4_beard,\n",
    "                              (224,224),None,preprocess_input, 'resnet50')\n",
    "# eyewear\n",
    "print('\\n\\nresnet50 eyewear model evaluation:')\n",
    "model_evaluation.model_testing(pickle_file_path, 'eyewear', resnet_model_path, file_path4_eyewear,\n",
    "                              (224,224),None,preprocess_input, 'resnet50')"
   ]
  }
 ],
 "metadata": {
  "kernelspec": {
   "display_name": "Python 3",
   "language": "python",
   "name": "python3"
  },
  "language_info": {
   "codemirror_mode": {
    "name": "ipython",
    "version": 3
   },
   "file_extension": ".py",
   "mimetype": "text/x-python",
   "name": "python",
   "nbconvert_exporter": "python",
   "pygments_lexer": "ipython3",
   "version": "3.7.3"
  }
 },
 "nbformat": 4,
 "nbformat_minor": 2
}
