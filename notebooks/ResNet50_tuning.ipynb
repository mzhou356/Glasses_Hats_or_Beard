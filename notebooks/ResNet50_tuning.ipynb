{
 "cells": [
  {
   "cell_type": "markdown",
   "metadata": {},
   "source": [
    "## Transfer Learning Tuning:\n",
    "  * Use Resnet50 to reduce model size and improve accuracy \n",
    "      * see [base model info comparison](https://medium.com/@sidereal/cnns-architectures-lenet-alexnet-vgg-googlenet-resnet-and-more-666091488df5)\n",
    "     \n",
    "  * base_model: use RESNET50 and freeze at bottleneck layer (stop right before 2D AVERAGE POOL) \n",
    "  * top_model: tune dense layers (parameters are inspired by a few sources)\n",
    "     * [source1](https://www.kaggle.com/suniliitb96/tutorial-keras-transfer-learning-with-resnet50)\n",
    "     * [source2](https://www.kaggle.com/pmigdal/transfer-learning-with-resnet-50-in-keras)\n",
    "     * [source3](https://towardsdatascience.com/transfer-learning-for-image-classification-using-keras-c47ccf09c8c8)\n",
    "\n",
    "\n",
    "  \n",
    "---\n",
    "#### This cell is required in order to use GPU for running the model "
   ]
  },
  {
   "cell_type": "code",
   "execution_count": 1,
   "metadata": {},
   "outputs": [
    {
     "name": "stderr",
     "output_type": "stream",
     "text": [
      "Using TensorFlow backend.\n",
      "WARNING: Logging before flag parsing goes to stderr.\n",
      "W0901 19:40:18.684003 140700394764096 deprecation_wrapper.py:119] From /home/mindy/anaconda3/lib/python3.7/site-packages/keras/backend/tensorflow_backend.py:190: The name tf.get_default_session is deprecated. Please use tf.compat.v1.get_default_session instead.\n",
      "\n",
      "W0901 19:40:18.684831 140700394764096 deprecation_wrapper.py:119] From /home/mindy/anaconda3/lib/python3.7/site-packages/keras/backend/tensorflow_backend.py:207: The name tf.global_variables is deprecated. Please use tf.compat.v1.global_variables instead.\n",
      "\n"
     ]
    }
   ],
   "source": [
    "import warnings\n",
    "warnings.filterwarnings('ignore')\n",
    "import tensorflow as tf\n",
    "import keras\n",
    "from keras.backend.tensorflow_backend import set_session\n",
    "config = tf.ConfigProto()\n",
    "config.gpu_options.allow_growth = True  # dynamically grow the memory used on the GPU\n",
    "config.log_device_placement = True  # to log device placement (on which device the operation ran)\n",
    "                                    # (nothing gets printed in Jupyter, only if you run it standalone)\n",
    "sess = tf.Session(config=config)\n",
    "set_session(sess)  # set this TensorFlow session as the default session for Keras\n",
    "keras.backend.get_session().run(tf.global_variables_initializer())  "
   ]
  },
  {
   "cell_type": "markdown",
   "metadata": {},
   "source": [
    "---\n",
    "#### Import necessary libraries"
   ]
  },
  {
   "cell_type": "code",
   "execution_count": 5,
   "metadata": {},
   "outputs": [],
   "source": [
    "import pandas as pd\n",
    "import numpy as np\n",
    "import matplotlib.pyplot as plt\n",
    "%matplotlib inline\n",
    "from keras_preprocessing.image import ImageDataGenerator\n",
    "from keras.models import Sequential, Model\n",
    "from keras.layers import Dropout, Flatten, Dense\n",
    "from keras.applications.resnet50 import ResNet50, preprocess_input\n",
    "from keras import optimizers"
   ]
  },
  {
   "cell_type": "markdown",
   "metadata": {},
   "source": [
    "---\n",
    "#### Import train_df and test_df"
   ]
  },
  {
   "cell_type": "code",
   "execution_count": 3,
   "metadata": {},
   "outputs": [],
   "source": [
    "train_df = pd.read_pickle('../pickle_files/train_df_glasses.pkl')\n",
    "test_df = pd.read_pickle('../pickle_files/test_df_glasses.pkl')"
   ]
  },
  {
   "cell_type": "code",
   "execution_count": 6,
   "metadata": {},
   "outputs": [
    {
     "name": "stderr",
     "output_type": "stream",
     "text": [
      "W0901 19:45:05.962327 140700394764096 deprecation_wrapper.py:119] From /home/mindy/anaconda3/lib/python3.7/site-packages/keras/backend/tensorflow_backend.py:66: The name tf.get_default_graph is deprecated. Please use tf.compat.v1.get_default_graph instead.\n",
      "\n",
      "W0901 19:45:05.963354 140700394764096 deprecation_wrapper.py:119] From /home/mindy/anaconda3/lib/python3.7/site-packages/keras/backend/tensorflow_backend.py:541: The name tf.placeholder is deprecated. Please use tf.compat.v1.placeholder instead.\n",
      "\n",
      "W0901 19:45:05.969139 140700394764096 deprecation_wrapper.py:119] From /home/mindy/anaconda3/lib/python3.7/site-packages/keras/backend/tensorflow_backend.py:4479: The name tf.truncated_normal is deprecated. Please use tf.random.truncated_normal instead.\n",
      "\n",
      "W0901 19:45:07.050203 140700394764096 deprecation_wrapper.py:119] From /home/mindy/anaconda3/lib/python3.7/site-packages/keras/backend/tensorflow_backend.py:2041: The name tf.nn.fused_batch_norm is deprecated. Please use tf.compat.v1.nn.fused_batch_norm instead.\n",
      "\n",
      "W0901 19:45:07.087777 140700394764096 deprecation_wrapper.py:119] From /home/mindy/anaconda3/lib/python3.7/site-packages/keras/backend/tensorflow_backend.py:4267: The name tf.nn.max_pool is deprecated. Please use tf.nn.max_pool2d instead.\n",
      "\n"
     ]
    },
    {
     "data": {
      "text/plain": [
       "<keras.engine.training.Model at 0x7ff54a316e80>"
      ]
     },
     "execution_count": 6,
     "metadata": {},
     "output_type": "execute_result"
    }
   ],
   "source": [
    "ResNet50(weights = 'imagenet',pooling = 'avg', include_top=False)"
   ]
  },
  {
   "cell_type": "markdown",
   "metadata": {},
   "source": [
    "#### Get bottleneck features to tune top models"
   ]
  },
  {
   "cell_type": "code",
   "execution_count": 9,
   "metadata": {},
   "outputs": [],
   "source": [
    "def save_bottleneck_features(train_df, test_df, label, batch_size):\n",
    "    '''\n",
    "    inputs:\n",
    "    train_df, test_df: train and test dataframes saved in pickle_files folder\n",
    "    label: a string, eyewear, hat, or beard\n",
    "    batch_size: process images in batches\n",
    "    outputs:\n",
    "    saves bottleneck features inside folder tuning_data as npy file\n",
    "    '''\n",
    "    # intialize the vgg16 model \n",
    "    # make sure not to train the top layers \n",
    "    base_model = ResNet50(weights = 'imagenet', pooling = 'avg', include_top = False)\n",
    "    # create train_generator and test_generator to get bottleneck inputs for train and test df \n",
    "    datagen = ImageDataGenerator(\n",
    "        zoom_range= [0.8,1.7],\n",
    "        shear_range=0.2,\n",
    "        rotation_range = 40,\n",
    "        width_shift_range=0.2,\n",
    "        height_shift_range=0.2,\n",
    "        horizontal_flip=True,\n",
    "        preprocessing_function=preprocess_input)\n",
    "    # make sure shuffle is False so we know the label follows the sequence of the dataframe \n",
    "    # so we can tune top_model \n",
    "    train_generator = datagen.flow_from_dataframe(\n",
    "    dataframe=train_df,\n",
    "    directory='../data/pics',\n",
    "    x_col='pic_id',\n",
    "    y_col=label,\n",
    "    batch_size=batch_size,\n",
    "    shuffle = False,\n",
    "    target_size=(224,224),\n",
    "    class_mode = None)\n",
    "    # get features saved as .npy in tunign_data folder \n",
    "    bottleneck_features_train = base_model.predict_generator(\n",
    "        train_generator, train_df.shape[0]//batch_size)\n",
    "    np.save(open(f'../tuning_data/bottleneck_features_train_{label}_resnet50.npy','wb'),\n",
    "           bottleneck_features_train)\n",
    "    \n",
    "    test_generator = datagen.flow_from_dataframe(\n",
    "    dataframe=test_df,\n",
    "    directory='../data/pics',\n",
    "    x_col='pic_id',\n",
    "    y_col=label,\n",
    "    batch_size=batch_size,\n",
    "    shuffle = False,\n",
    "    target_size=(224,224),\n",
    "    class_mode = None)\n",
    "    bottleneck_features_test = base_model.predict_generator(\n",
    "        test_generator, test_df.shape[0]//batch_size)\n",
    "    np.save(open(f'../tuning_data/bottleneck_features_test_{label}_resnet50.npy','wb'),\n",
    "           bottleneck_features_test)"
   ]
  },
  {
   "cell_type": "markdown",
   "metadata": {},
   "source": [
    "#### Save bottleneck_features"
   ]
  },
  {
   "cell_type": "code",
   "execution_count": 10,
   "metadata": {
    "scrolled": true
   },
   "outputs": [
    {
     "name": "stdout",
     "output_type": "stream",
     "text": [
      "Found 505 validated image filenames.\n",
      "Found 127 validated image filenames.\n"
     ]
    }
   ],
   "source": [
    "save_bottleneck_features(train_df,test_df,'eyewear',16)"
   ]
  },
  {
   "cell_type": "markdown",
   "metadata": {},
   "source": [
    "### Quick tuning of top models "
   ]
  },
  {
   "cell_type": "code",
   "execution_count": 6,
   "metadata": {},
   "outputs": [],
   "source": [
    "def train_top_model(train_df, test_df, epoch, batch_size, label):\n",
    "    '''\n",
    "    inputs:\n",
    "    train_df, test_df: dataframes saved in pickle_files to generate train and test labels \n",
    "    epoch: num of epochs in fit \n",
    "    batch_size: same as image generator batch size \n",
    "    label: a string, eyewear, hat, or beard\n",
    "    output:\n",
    "    saves model weights in a folder \n",
    "    '''\n",
    "    train_data = np.load(open('../tuning_data/bottleneck_features_train.npy','rb'))\n",
    "    # make sure train_data and train_label have same num of samples\n",
    "    train_label = np.array(train_df.eyewear.map({'not_'+label:0, label:1}))[:-(train_df.shape[0]%batch_size)]\n",
    "    \n",
    "    test_data = np.load(open('../tuning_data/bottleneck_features_test.npy','rb'))\n",
    "    test_label = np.array(test_df.eyewear.map({'not_'+label:0, label:1}))[:-(test_df.shape[0]%batch_size)]\n",
    "    \n",
    "    # build top model\n",
    "    model = Sequential()\n",
    "    model.add(Flatten(input_shape=train_data.shape[1:]))\n",
    "    model.add(Dense(256, activation='relu'))\n",
    "    model.add(Dropout(0.5))\n",
    "    model.add(Dense(1, activation='sigmoid'))\n",
    "    \n",
    "    model.compile(optimizer='rmsprop',\n",
    "                 loss='binary_crossentropy',\n",
    "                 metrics=['accuracy'])\n",
    "    \n",
    "    model.fit(train_data, train_label,\n",
    "             epochs=epoch,\n",
    "             batch_size=batch_size,\n",
    "             validation_data=(test_data,test_label))\n",
    "    model.save_weights('../tuning_data/bottleneck_vgg_model.h5')"
   ]
  },
  {
   "cell_type": "markdown",
   "metadata": {},
   "source": [
    "#### run train_top_model and save results in tuning_data"
   ]
  },
  {
   "cell_type": "code",
   "execution_count": 7,
   "metadata": {
    "scrolled": false
   },
   "outputs": [
    {
     "name": "stderr",
     "output_type": "stream",
     "text": [
      "W0828 23:23:18.357803 139651446925120 deprecation.py:506] From /home/mindy/anaconda3/lib/python3.7/site-packages/keras/backend/tensorflow_backend.py:3733: calling dropout (from tensorflow.python.ops.nn_ops) with keep_prob is deprecated and will be removed in a future version.\n",
      "Instructions for updating:\n",
      "Please use `rate` instead of `keep_prob`. Rate should be set to `rate = 1 - keep_prob`.\n",
      "W0828 23:23:18.370305 139651446925120 deprecation_wrapper.py:119] From /home/mindy/anaconda3/lib/python3.7/site-packages/keras/optimizers.py:793: The name tf.train.Optimizer is deprecated. Please use tf.compat.v1.train.Optimizer instead.\n",
      "\n",
      "W0828 23:23:18.380046 139651446925120 deprecation.py:323] From /home/mindy/anaconda3/lib/python3.7/site-packages/tensorflow/python/ops/nn_impl.py:180: add_dispatch_support.<locals>.wrapper (from tensorflow.python.ops.array_ops) is deprecated and will be removed in a future version.\n",
      "Instructions for updating:\n",
      "Use tf.where in 2.0, which has the same broadcast rule as np.where\n"
     ]
    },
    {
     "name": "stdout",
     "output_type": "stream",
     "text": [
      "Train on 496 samples, validate on 112 samples\n",
      "Epoch 1/50\n",
      "496/496 [==============================] - 0s 856us/step - loss: 1.4508 - acc: 0.6270 - val_loss: 0.3181 - val_acc: 0.8929\n",
      "Epoch 2/50\n",
      "496/496 [==============================] - 0s 193us/step - loss: 0.4379 - acc: 0.7964 - val_loss: 0.3116 - val_acc: 0.8750\n",
      "Epoch 3/50\n",
      "496/496 [==============================] - 0s 193us/step - loss: 0.4097 - acc: 0.8508 - val_loss: 0.4574 - val_acc: 0.7857\n",
      "Epoch 4/50\n",
      "496/496 [==============================] - 0s 202us/step - loss: 0.2228 - acc: 0.9032 - val_loss: 0.2842 - val_acc: 0.9018\n",
      "Epoch 5/50\n",
      "496/496 [==============================] - 0s 205us/step - loss: 0.2718 - acc: 0.9032 - val_loss: 0.7909 - val_acc: 0.6964\n",
      "Epoch 6/50\n",
      "496/496 [==============================] - 0s 197us/step - loss: 0.1653 - acc: 0.9234 - val_loss: 0.5791 - val_acc: 0.7857\n",
      "Epoch 7/50\n",
      "496/496 [==============================] - 0s 197us/step - loss: 0.2001 - acc: 0.9294 - val_loss: 0.4871 - val_acc: 0.8125\n",
      "Epoch 8/50\n",
      "496/496 [==============================] - 0s 195us/step - loss: 0.1183 - acc: 0.9496 - val_loss: 0.3665 - val_acc: 0.8929\n",
      "Epoch 9/50\n",
      "496/496 [==============================] - 0s 188us/step - loss: 0.0714 - acc: 0.9698 - val_loss: 0.3963 - val_acc: 0.9107\n",
      "Epoch 10/50\n",
      "496/496 [==============================] - 0s 193us/step - loss: 0.0985 - acc: 0.9577 - val_loss: 0.3861 - val_acc: 0.8929\n",
      "Epoch 11/50\n",
      "496/496 [==============================] - 0s 191us/step - loss: 0.0706 - acc: 0.9738 - val_loss: 0.4232 - val_acc: 0.9107\n",
      "Epoch 12/50\n",
      "496/496 [==============================] - 0s 193us/step - loss: 0.0439 - acc: 0.9798 - val_loss: 0.6971 - val_acc: 0.8661\n",
      "Epoch 13/50\n",
      "496/496 [==============================] - 0s 187us/step - loss: 0.0820 - acc: 0.9677 - val_loss: 0.5127 - val_acc: 0.8929\n",
      "Epoch 14/50\n",
      "496/496 [==============================] - 0s 186us/step - loss: 0.0541 - acc: 0.9819 - val_loss: 0.5642 - val_acc: 0.8750\n",
      "Epoch 15/50\n",
      "496/496 [==============================] - 0s 191us/step - loss: 0.0303 - acc: 0.9899 - val_loss: 0.5650 - val_acc: 0.9107\n",
      "Epoch 16/50\n",
      "496/496 [==============================] - 0s 186us/step - loss: 0.0108 - acc: 0.9960 - val_loss: 0.5791 - val_acc: 0.8929\n",
      "Epoch 17/50\n",
      "496/496 [==============================] - 0s 186us/step - loss: 0.0201 - acc: 0.9940 - val_loss: 0.7957 - val_acc: 0.8929\n",
      "Epoch 18/50\n",
      "496/496 [==============================] - 0s 189us/step - loss: 0.0295 - acc: 0.9859 - val_loss: 0.5461 - val_acc: 0.9018\n",
      "Epoch 19/50\n",
      "496/496 [==============================] - 0s 195us/step - loss: 0.0109 - acc: 0.9960 - val_loss: 0.6072 - val_acc: 0.8929\n",
      "Epoch 20/50\n",
      "496/496 [==============================] - 0s 199us/step - loss: 0.0120 - acc: 0.9960 - val_loss: 0.6396 - val_acc: 0.9107\n",
      "Epoch 21/50\n",
      "496/496 [==============================] - 0s 195us/step - loss: 0.0230 - acc: 0.9899 - val_loss: 0.6524 - val_acc: 0.9018\n",
      "Epoch 22/50\n",
      "496/496 [==============================] - 0s 199us/step - loss: 0.0022 - acc: 1.0000 - val_loss: 1.1213 - val_acc: 0.8482\n",
      "Epoch 23/50\n",
      "496/496 [==============================] - 0s 192us/step - loss: 0.0326 - acc: 0.9859 - val_loss: 0.7070 - val_acc: 0.8839\n",
      "Epoch 24/50\n",
      "496/496 [==============================] - 0s 192us/step - loss: 0.0271 - acc: 0.9919 - val_loss: 0.6469 - val_acc: 0.8839\n",
      "Epoch 25/50\n",
      "496/496 [==============================] - 0s 194us/step - loss: 0.0024 - acc: 1.0000 - val_loss: 0.6911 - val_acc: 0.9196\n",
      "Epoch 26/50\n",
      "496/496 [==============================] - 0s 190us/step - loss: 0.0013 - acc: 1.0000 - val_loss: 0.7466 - val_acc: 0.9107\n",
      "Epoch 27/50\n",
      "496/496 [==============================] - 0s 192us/step - loss: 0.0384 - acc: 0.9899 - val_loss: 0.9217 - val_acc: 0.8571\n",
      "Epoch 28/50\n",
      "496/496 [==============================] - 0s 194us/step - loss: 0.0219 - acc: 0.9919 - val_loss: 0.7689 - val_acc: 0.8750\n",
      "Epoch 29/50\n",
      "496/496 [==============================] - 0s 194us/step - loss: 0.0016 - acc: 1.0000 - val_loss: 0.7039 - val_acc: 0.9196\n",
      "Epoch 30/50\n",
      "496/496 [==============================] - 0s 186us/step - loss: 0.0071 - acc: 1.0000 - val_loss: 0.6821 - val_acc: 0.9107\n",
      "Epoch 31/50\n",
      "496/496 [==============================] - 0s 188us/step - loss: 0.0011 - acc: 1.0000 - val_loss: 0.7442 - val_acc: 0.9107\n",
      "Epoch 32/50\n",
      "496/496 [==============================] - 0s 195us/step - loss: 0.0101 - acc: 0.9980 - val_loss: 0.7138 - val_acc: 0.9196\n",
      "Epoch 33/50\n",
      "496/496 [==============================] - 0s 198us/step - loss: 0.0107 - acc: 0.9960 - val_loss: 0.7996 - val_acc: 0.8929\n",
      "Epoch 34/50\n",
      "496/496 [==============================] - 0s 200us/step - loss: 0.0069 - acc: 0.9960 - val_loss: 0.7818 - val_acc: 0.9107\n",
      "Epoch 35/50\n",
      "496/496 [==============================] - 0s 195us/step - loss: 8.1884e-04 - acc: 1.0000 - val_loss: 0.8915 - val_acc: 0.8929\n",
      "Epoch 36/50\n",
      "496/496 [==============================] - 0s 194us/step - loss: 0.0014 - acc: 1.0000 - val_loss: 0.8302 - val_acc: 0.9196\n",
      "Epoch 37/50\n",
      "496/496 [==============================] - 0s 199us/step - loss: 0.0143 - acc: 0.9940 - val_loss: 0.7815 - val_acc: 0.9196\n",
      "Epoch 38/50\n",
      "496/496 [==============================] - 0s 194us/step - loss: 0.0022 - acc: 1.0000 - val_loss: 0.8022 - val_acc: 0.8929\n",
      "Epoch 39/50\n",
      "496/496 [==============================] - 0s 194us/step - loss: 7.2540e-04 - acc: 1.0000 - val_loss: 0.9223 - val_acc: 0.8839\n",
      "Epoch 40/50\n",
      "496/496 [==============================] - 0s 200us/step - loss: 9.7055e-04 - acc: 1.0000 - val_loss: 0.8476 - val_acc: 0.8839\n",
      "Epoch 41/50\n",
      "496/496 [==============================] - 0s 207us/step - loss: 0.0021 - acc: 1.0000 - val_loss: 0.8317 - val_acc: 0.9196\n",
      "Epoch 42/50\n",
      "496/496 [==============================] - 0s 199us/step - loss: 7.6580e-05 - acc: 1.0000 - val_loss: 0.8291 - val_acc: 0.9107\n",
      "Epoch 43/50\n",
      "496/496 [==============================] - 0s 192us/step - loss: 0.0017 - acc: 1.0000 - val_loss: 0.8243 - val_acc: 0.8929\n",
      "Epoch 44/50\n",
      "496/496 [==============================] - 0s 194us/step - loss: 0.0048 - acc: 0.9980 - val_loss: 0.8450 - val_acc: 0.8929\n",
      "Epoch 45/50\n",
      "496/496 [==============================] - 0s 197us/step - loss: 6.0843e-04 - acc: 1.0000 - val_loss: 0.9172 - val_acc: 0.8661\n",
      "Epoch 46/50\n",
      "496/496 [==============================] - 0s 195us/step - loss: 2.1779e-05 - acc: 1.0000 - val_loss: 0.8596 - val_acc: 0.9107\n",
      "Epoch 47/50\n",
      "496/496 [==============================] - 0s 195us/step - loss: 0.0016 - acc: 1.0000 - val_loss: 0.8888 - val_acc: 0.9107\n",
      "Epoch 48/50\n",
      "496/496 [==============================] - 0s 191us/step - loss: 0.0013 - acc: 1.0000 - val_loss: 1.2795 - val_acc: 0.8571\n",
      "Epoch 49/50\n",
      "496/496 [==============================] - 0s 198us/step - loss: 0.0062 - acc: 0.9980 - val_loss: 0.8982 - val_acc: 0.9107\n",
      "Epoch 50/50\n",
      "496/496 [==============================] - 0s 204us/step - loss: 8.4145e-05 - acc: 1.0000 - val_loss: 0.9157 - val_acc: 0.9107\n"
     ]
    }
   ],
   "source": [
    "train_top_model(train_df, test_df, 50, 16, 'eyewear')"
   ]
  },
  {
   "cell_type": "markdown",
   "metadata": {},
   "source": [
    "### Fine Tune Top Model to improve accuracy"
   ]
  },
  {
   "cell_type": "code",
   "execution_count": 4,
   "metadata": {},
   "outputs": [],
   "source": [
    "def fine_tune_model(train_df, test_df,epoch, batch_size,label, print_model = True):\n",
    "    # build VGG16 model and freeze top layers\n",
    "    # input_shape: width, height, RGB (from image generator)\n",
    "    model_vgg = VGG16(weights='imagenet',include_top=False, input_shape=(150,150,3))\n",
    "    # build top model\n",
    "    top_model = Sequential()\n",
    "    top_model.add(Flatten(input_shape=model_vgg.output_shape[1:]))\n",
    "    top_model.add(Dense(256,activation='relu'))\n",
    "    top_model.add(Dropout(0.5))\n",
    "    top_model.add(Dense(1, activation='sigmoid'))\n",
    "    \n",
    "    # load saved weights to fine tune parameters \n",
    "    top_model.load_weights('../tuning_data/bottleneck_vgg_model.h5')\n",
    "    # add top model to model\n",
    "    model = Model(inputs=model_vgg.input, outputs=top_model(model_vgg.output))\n",
    "    # we will tune last 5 layers of the model: block5 and fully connected layer \n",
    "    for layer in model.layers[:15]:\n",
    "        layer.trainable = False\n",
    "    # we can tune the parameters for lr and momentum later to get better results\n",
    "    model.compile(loss='binary_crossentropy',\n",
    "             optimizer=optimizers.SGD(lr=1e-4, momentum=0.9),\n",
    "             metrics=['accuracy'])\n",
    "    # prepare train generator using data augmentation to battle small sample size \n",
    "    train_gen = ImageDataGenerator(\n",
    "        rescale=1./255,\n",
    "        shear_range=0.2,\n",
    "        zoom_range=0.2,\n",
    "        horizontal_flip=True)\n",
    "    # not want to augment the test \n",
    "    test_gen = ImageDataGenerator(rescale=1./255)\n",
    "    \n",
    "    train_generator =  train_gen.flow_from_dataframe(\n",
    "    dataframe=train_df,\n",
    "    directory='../data/pics',\n",
    "    x_col='pic_id',\n",
    "    y_col=label,\n",
    "    batch_size=batch_size,\n",
    "    target_size=(150,150),\n",
    "    class_mode = 'binary')\n",
    "    \n",
    "    test_generator =  test_gen.flow_from_dataframe(\n",
    "    dataframe=test_df,\n",
    "    directory='../data/pics',\n",
    "    x_col='pic_id',\n",
    "    y_col=label,\n",
    "    batch_size=batch_size,\n",
    "    target_size=(150,150),\n",
    "    class_mode = 'binary')\n",
    "    \n",
    "    # run and fit model \n",
    "    history = model.fit_generator(\n",
    "    train_generator,\n",
    "    steps_per_epoch=train_df.shape[0]//batch_size,\n",
    "    epochs=epoch,\n",
    "    validation_data=test_generator,\n",
    "    validation_steps=test_df.shape[0]//batch_size,\n",
    "    verbose=1)\n",
    "    \n",
    "    if print_model:\n",
    "        model.summary()\n",
    "    return history                  "
   ]
  },
  {
   "cell_type": "markdown",
   "metadata": {},
   "source": [
    "### save model history "
   ]
  },
  {
   "cell_type": "code",
   "execution_count": 5,
   "metadata": {},
   "outputs": [
    {
     "name": "stderr",
     "output_type": "stream",
     "text": [
      "W0828 22:36:14.788554 139674723813184 deprecation_wrapper.py:119] From /home/mindy/anaconda3/lib/python3.7/site-packages/keras/backend/tensorflow_backend.py:66: The name tf.get_default_graph is deprecated. Please use tf.compat.v1.get_default_graph instead.\n",
      "\n",
      "W0828 22:36:14.789565 139674723813184 deprecation_wrapper.py:119] From /home/mindy/anaconda3/lib/python3.7/site-packages/keras/backend/tensorflow_backend.py:541: The name tf.placeholder is deprecated. Please use tf.compat.v1.placeholder instead.\n",
      "\n",
      "W0828 22:36:14.791611 139674723813184 deprecation_wrapper.py:119] From /home/mindy/anaconda3/lib/python3.7/site-packages/keras/backend/tensorflow_backend.py:4432: The name tf.random_uniform is deprecated. Please use tf.random.uniform instead.\n",
      "\n",
      "W0828 22:36:14.808292 139674723813184 deprecation_wrapper.py:119] From /home/mindy/anaconda3/lib/python3.7/site-packages/keras/backend/tensorflow_backend.py:4267: The name tf.nn.max_pool is deprecated. Please use tf.nn.max_pool2d instead.\n",
      "\n",
      "W0828 22:36:15.410909 139674723813184 deprecation.py:506] From /home/mindy/anaconda3/lib/python3.7/site-packages/keras/backend/tensorflow_backend.py:3733: calling dropout (from tensorflow.python.ops.nn_ops) with keep_prob is deprecated and will be removed in a future version.\n",
      "Instructions for updating:\n",
      "Please use `rate` instead of `keep_prob`. Rate should be set to `rate = 1 - keep_prob`.\n",
      "W0828 22:36:15.495265 139674723813184 deprecation_wrapper.py:119] From /home/mindy/anaconda3/lib/python3.7/site-packages/keras/optimizers.py:793: The name tf.train.Optimizer is deprecated. Please use tf.compat.v1.train.Optimizer instead.\n",
      "\n",
      "W0828 22:36:15.499559 139674723813184 deprecation.py:323] From /home/mindy/anaconda3/lib/python3.7/site-packages/tensorflow/python/ops/nn_impl.py:180: add_dispatch_support.<locals>.wrapper (from tensorflow.python.ops.array_ops) is deprecated and will be removed in a future version.\n",
      "Instructions for updating:\n",
      "Use tf.where in 2.0, which has the same broadcast rule as np.where\n"
     ]
    },
    {
     "name": "stdout",
     "output_type": "stream",
     "text": [
      "Found 505 validated image filenames belonging to 2 classes.\n",
      "Found 127 validated image filenames belonging to 2 classes.\n",
      "Epoch 1/50\n",
      "31/31 [==============================] - 4s 142ms/step - loss: 6.2363 - acc: 0.3933 - val_loss: 0.7344 - val_acc: 0.5089\n",
      "Epoch 2/50\n",
      "31/31 [==============================] - 4s 137ms/step - loss: 0.7142 - acc: 0.5603 - val_loss: 0.6393 - val_acc: 0.7568\n",
      "Epoch 3/50\n",
      "31/31 [==============================] - 4s 140ms/step - loss: 0.6679 - acc: 0.6107 - val_loss: 0.6403 - val_acc: 0.7297\n",
      "Epoch 4/50\n",
      "31/31 [==============================] - 4s 140ms/step - loss: 0.6555 - acc: 0.5955 - val_loss: 0.5844 - val_acc: 0.7658\n",
      "Epoch 5/50\n",
      "31/31 [==============================] - 4s 137ms/step - loss: 0.6072 - acc: 0.6774 - val_loss: 0.6024 - val_acc: 0.6216\n",
      "Epoch 6/50\n",
      "31/31 [==============================] - 4s 125ms/step - loss: 0.5799 - acc: 0.6894 - val_loss: 0.5150 - val_acc: 0.7748\n",
      "Epoch 7/50\n",
      "31/31 [==============================] - 4s 122ms/step - loss: 0.5586 - acc: 0.7371 - val_loss: 0.4902 - val_acc: 0.8649\n",
      "Epoch 8/50\n",
      "31/31 [==============================] - 4s 129ms/step - loss: 0.5315 - acc: 0.7665 - val_loss: 0.4724 - val_acc: 0.7658\n",
      "Epoch 9/50\n",
      "31/31 [==============================] - 4s 122ms/step - loss: 0.4950 - acc: 0.7863 - val_loss: 0.4321 - val_acc: 0.8482\n",
      "Epoch 10/50\n",
      "31/31 [==============================] - 5s 146ms/step - loss: 0.4461 - acc: 0.8058 - val_loss: 0.3803 - val_acc: 0.8288\n",
      "Epoch 11/50\n",
      "31/31 [==============================] - 4s 118ms/step - loss: 0.4159 - acc: 0.8306 - val_loss: 0.3445 - val_acc: 0.9009\n",
      "Epoch 12/50\n",
      "31/31 [==============================] - 4s 133ms/step - loss: 0.4023 - acc: 0.8512 - val_loss: 0.3312 - val_acc: 0.8919\n",
      "Epoch 13/50\n",
      "31/31 [==============================] - 4s 121ms/step - loss: 0.3619 - acc: 0.8427 - val_loss: 0.3142 - val_acc: 0.8829\n",
      "Epoch 14/50\n",
      "31/31 [==============================] - 4s 131ms/step - loss: 0.3663 - acc: 0.8316 - val_loss: 0.2906 - val_acc: 0.8829\n",
      "Epoch 15/50\n",
      "31/31 [==============================] - 4s 141ms/step - loss: 0.3151 - acc: 0.8831 - val_loss: 0.2781 - val_acc: 0.8649\n",
      "Epoch 16/50\n",
      "31/31 [==============================] - 4s 118ms/step - loss: 0.3067 - acc: 0.9062 - val_loss: 0.2487 - val_acc: 0.8919\n",
      "Epoch 17/50\n",
      "31/31 [==============================] - 4s 125ms/step - loss: 0.3160 - acc: 0.8654 - val_loss: 0.2358 - val_acc: 0.9107\n",
      "Epoch 18/50\n",
      "31/31 [==============================] - 4s 143ms/step - loss: 0.2502 - acc: 0.9194 - val_loss: 0.2245 - val_acc: 0.9009\n",
      "Epoch 19/50\n",
      "31/31 [==============================] - 4s 129ms/step - loss: 0.2401 - acc: 0.9167 - val_loss: 0.2470 - val_acc: 0.8919\n",
      "Epoch 20/50\n",
      "31/31 [==============================] - 4s 135ms/step - loss: 0.2337 - acc: 0.9173 - val_loss: 0.1613 - val_acc: 0.9459\n",
      "Epoch 21/50\n",
      "31/31 [==============================] - 4s 129ms/step - loss: 0.2235 - acc: 0.9193 - val_loss: 0.1977 - val_acc: 0.9009\n",
      "Epoch 22/50\n",
      "31/31 [==============================] - 4s 119ms/step - loss: 0.2022 - acc: 0.9258 - val_loss: 0.1763 - val_acc: 0.9099\n",
      "Epoch 23/50\n",
      "31/31 [==============================] - 4s 121ms/step - loss: 0.2070 - acc: 0.9355 - val_loss: 0.1887 - val_acc: 0.9009\n",
      "Epoch 24/50\n",
      "31/31 [==============================] - 4s 125ms/step - loss: 0.1792 - acc: 0.9299 - val_loss: 0.1833 - val_acc: 0.9009\n",
      "Epoch 25/50\n",
      "31/31 [==============================] - 4s 130ms/step - loss: 0.1708 - acc: 0.9420 - val_loss: 0.1682 - val_acc: 0.9286\n",
      "Epoch 26/50\n",
      "31/31 [==============================] - 4s 145ms/step - loss: 0.1934 - acc: 0.9294 - val_loss: 0.1625 - val_acc: 0.9369\n",
      "Epoch 27/50\n",
      "31/31 [==============================] - 4s 124ms/step - loss: 0.1759 - acc: 0.9319 - val_loss: 0.1208 - val_acc: 0.9369\n",
      "Epoch 28/50\n",
      "31/31 [==============================] - 4s 135ms/step - loss: 0.1636 - acc: 0.9455 - val_loss: 0.1947 - val_acc: 0.9189\n",
      "Epoch 29/50\n",
      "31/31 [==============================] - 4s 117ms/step - loss: 0.1770 - acc: 0.9415 - val_loss: 0.1456 - val_acc: 0.9550\n",
      "Epoch 30/50\n",
      "31/31 [==============================] - 4s 128ms/step - loss: 0.1534 - acc: 0.9440 - val_loss: 0.1561 - val_acc: 0.9189\n",
      "Epoch 31/50\n",
      "31/31 [==============================] - 4s 127ms/step - loss: 0.1692 - acc: 0.9274 - val_loss: 0.2275 - val_acc: 0.9189\n",
      "Epoch 32/50\n",
      "31/31 [==============================] - 4s 121ms/step - loss: 0.1600 - acc: 0.9344 - val_loss: 0.1197 - val_acc: 0.9459\n",
      "Epoch 33/50\n",
      "31/31 [==============================] - 4s 129ms/step - loss: 0.1257 - acc: 0.9622 - val_loss: 0.1352 - val_acc: 0.9464\n",
      "Epoch 34/50\n",
      "31/31 [==============================] - 5s 146ms/step - loss: 0.1320 - acc: 0.9556 - val_loss: 0.1313 - val_acc: 0.9279\n",
      "Epoch 35/50\n",
      "31/31 [==============================] - 5s 148ms/step - loss: 0.1259 - acc: 0.9556 - val_loss: 0.1813 - val_acc: 0.9099\n",
      "Epoch 36/50\n",
      "31/31 [==============================] - 4s 143ms/step - loss: 0.1203 - acc: 0.9576 - val_loss: 0.1321 - val_acc: 0.9459\n",
      "Epoch 37/50\n",
      "31/31 [==============================] - 4s 127ms/step - loss: 0.1165 - acc: 0.9576 - val_loss: 0.1273 - val_acc: 0.9459\n",
      "Epoch 38/50\n",
      "31/31 [==============================] - 4s 126ms/step - loss: 0.1250 - acc: 0.9697 - val_loss: 0.0967 - val_acc: 0.9730\n",
      "Epoch 39/50\n",
      "31/31 [==============================] - 4s 130ms/step - loss: 0.1000 - acc: 0.9617 - val_loss: 0.1606 - val_acc: 0.9369\n",
      "Epoch 40/50\n",
      "31/31 [==============================] - 4s 124ms/step - loss: 0.0998 - acc: 0.9657 - val_loss: 0.0946 - val_acc: 0.9550\n",
      "Epoch 41/50\n",
      "31/31 [==============================] - 4s 134ms/step - loss: 0.1162 - acc: 0.9657 - val_loss: 0.2042 - val_acc: 0.9286\n",
      "Epoch 42/50\n",
      "31/31 [==============================] - 4s 140ms/step - loss: 0.0969 - acc: 0.9657 - val_loss: 0.1216 - val_acc: 0.9459\n",
      "Epoch 43/50\n",
      "31/31 [==============================] - 4s 116ms/step - loss: 0.1072 - acc: 0.9657 - val_loss: 0.1856 - val_acc: 0.9279\n",
      "Epoch 44/50\n",
      "31/31 [==============================] - 4s 138ms/step - loss: 0.0790 - acc: 0.9839 - val_loss: 0.1139 - val_acc: 0.9550\n",
      "Epoch 45/50\n",
      "31/31 [==============================] - 4s 116ms/step - loss: 0.0629 - acc: 0.9823 - val_loss: 0.1345 - val_acc: 0.9459\n",
      "Epoch 46/50\n",
      "31/31 [==============================] - 4s 135ms/step - loss: 0.0829 - acc: 0.9718 - val_loss: 0.2091 - val_acc: 0.9189\n",
      "Epoch 47/50\n",
      "31/31 [==============================] - 4s 127ms/step - loss: 0.1058 - acc: 0.9743 - val_loss: 0.0919 - val_acc: 0.9550\n",
      "Epoch 48/50\n",
      "31/31 [==============================] - 4s 118ms/step - loss: 0.0676 - acc: 0.9798 - val_loss: 0.1151 - val_acc: 0.9459\n",
      "Epoch 49/50\n",
      "31/31 [==============================] - 4s 132ms/step - loss: 0.0651 - acc: 0.9778 - val_loss: 0.1360 - val_acc: 0.9464\n",
      "Epoch 50/50\n",
      "31/31 [==============================] - 4s 138ms/step - loss: 0.0646 - acc: 0.9818 - val_loss: 0.0973 - val_acc: 0.9640\n",
      "Model: \"model_1\"\n",
      "_________________________________________________________________\n",
      "Layer (type)                 Output Shape              Param #   \n",
      "=================================================================\n",
      "input_1 (InputLayer)         (None, 150, 150, 3)       0         \n",
      "_________________________________________________________________\n",
      "block1_conv1 (Conv2D)        (None, 150, 150, 64)      1792      \n",
      "_________________________________________________________________\n",
      "block1_conv2 (Conv2D)        (None, 150, 150, 64)      36928     \n",
      "_________________________________________________________________\n",
      "block1_pool (MaxPooling2D)   (None, 75, 75, 64)        0         \n",
      "_________________________________________________________________\n",
      "block2_conv1 (Conv2D)        (None, 75, 75, 128)       73856     \n",
      "_________________________________________________________________\n",
      "block2_conv2 (Conv2D)        (None, 75, 75, 128)       147584    \n",
      "_________________________________________________________________\n",
      "block2_pool (MaxPooling2D)   (None, 37, 37, 128)       0         \n",
      "_________________________________________________________________\n",
      "block3_conv1 (Conv2D)        (None, 37, 37, 256)       295168    \n",
      "_________________________________________________________________\n",
      "block3_conv2 (Conv2D)        (None, 37, 37, 256)       590080    \n",
      "_________________________________________________________________\n",
      "block3_conv3 (Conv2D)        (None, 37, 37, 256)       590080    \n",
      "_________________________________________________________________\n",
      "block3_pool (MaxPooling2D)   (None, 18, 18, 256)       0         \n",
      "_________________________________________________________________\n",
      "block4_conv1 (Conv2D)        (None, 18, 18, 512)       1180160   \n",
      "_________________________________________________________________\n",
      "block4_conv2 (Conv2D)        (None, 18, 18, 512)       2359808   \n",
      "_________________________________________________________________\n",
      "block4_conv3 (Conv2D)        (None, 18, 18, 512)       2359808   \n",
      "_________________________________________________________________\n",
      "block4_pool (MaxPooling2D)   (None, 9, 9, 512)         0         \n",
      "_________________________________________________________________\n",
      "block5_conv1 (Conv2D)        (None, 9, 9, 512)         2359808   \n",
      "_________________________________________________________________\n",
      "block5_conv2 (Conv2D)        (None, 9, 9, 512)         2359808   \n",
      "_________________________________________________________________\n",
      "block5_conv3 (Conv2D)        (None, 9, 9, 512)         2359808   \n",
      "_________________________________________________________________\n",
      "block5_pool (MaxPooling2D)   (None, 4, 4, 512)         0         \n",
      "_________________________________________________________________\n",
      "sequential_1 (Sequential)    (None, 1)                 2097665   \n",
      "=================================================================\n",
      "Total params: 16,812,353\n",
      "Trainable params: 9,177,089\n",
      "Non-trainable params: 7,635,264\n",
      "_________________________________________________________________\n"
     ]
    }
   ],
   "source": [
    "model_history = fine_tune_model(train_df, test_df,50,16,'eyewear')"
   ]
  },
  {
   "cell_type": "code",
   "execution_count": 6,
   "metadata": {},
   "outputs": [
    {
     "name": "stdout",
     "output_type": "stream",
     "text": [
      "highest test accuracy: 0.972972972972973\n",
      "------------------\n",
      "highest train accuracy: 0.9838709677419355\n"
     ]
    }
   ],
   "source": [
    "highest_val_acc, highest_train_acc = max(model_history.history['val_acc']), max(model_history.history['acc'])\n",
    "print(f'highest test accuracy: {highest_val_acc}')\n",
    "print('------------------')\n",
    "print(f'highest train accuracy: {highest_train_acc}')"
   ]
  },
  {
   "cell_type": "code",
   "execution_count": 8,
   "metadata": {},
   "outputs": [
    {
     "name": "stdout",
     "output_type": "stream",
     "text": [
      "lowest test loss: 0.0918908021874256\n",
      "------------------\n",
      "lowest train loss: 0.062466412995978125\n"
     ]
    }
   ],
   "source": [
    "lowest_val_loss, lowest_train_loss = min(model_history.history['val_loss']), min(model_history.history['loss'])\n",
    "print(f'lowest test loss: {lowest_val_loss}')\n",
    "print('------------------')\n",
    "print(f'lowest train loss: {lowest_train_loss}')"
   ]
  },
  {
   "cell_type": "code",
   "execution_count": 10,
   "metadata": {},
   "outputs": [
    {
     "data": {
      "image/png": "[encoded data removed]",
      "text/plain": [
       "<Figure size 432x288 with 1 Axes>"
      ]
     },
     "metadata": {
      "needs_background": "light"
     },
     "output_type": "display_data"
    }
   ],
   "source": [
    "plt.plot(model_history.history['val_acc'], color = 'red', label = 'test')\n",
    "plt.plot(model_history.history['acc'], color = 'blue', label = 'train')\n",
    "plt.title('accuracy')\n",
    "plt.ylabel('accuracy')\n",
    "plt.legend()\n",
    "plt.show()"
   ]
  },
  {
   "cell_type": "code",
   "execution_count": 11,
   "metadata": {},
   "outputs": [
    {
     "data": {
      "image/png": "[encoded data removed]",
      "text/plain": [
       "<Figure size 432x288 with 1 Axes>"
      ]
     },
     "metadata": {
      "needs_background": "light"
     },
     "output_type": "display_data"
    }
   ],
   "source": [
    "plt.plot(model_history.history['val_loss'], color = 'red', label = 'test')\n",
    "plt.plot(model_history.history['loss'], color = 'blue', label = 'train')\n",
    "plt.title('loss')\n",
    "plt.ylabel('loss')\n",
    "plt.legend()\n",
    "plt.show()"
   ]
  }
 ],
 "metadata": {
  "kernelspec": {
   "display_name": "Python 3",
   "language": "python",
   "name": "python3"
  },
  "language_info": {
   "codemirror_mode": {
    "name": "ipython",
    "version": 3
   },
   "file_extension": ".py",
   "mimetype": "text/x-python",
   "name": "python",
   "nbconvert_exporter": "python",
   "pygments_lexer": "ipython3",
   "version": "3.7.3"
  }
 },
 "nbformat": 4,
 "nbformat_minor": 2
}
