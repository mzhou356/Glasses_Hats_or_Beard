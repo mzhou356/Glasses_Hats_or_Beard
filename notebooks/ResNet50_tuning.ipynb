{
 "cells": [
  {
   "cell_type": "markdown",
   "metadata": {},
   "source": [
    "## Transfer Learning Tuning:\n",
    "  * Use Resnet50 to reduce model size and improve accuracy \n",
    "      * see [base model info comparison](https://medium.com/@sidereal/cnns-architectures-lenet-alexnet-vgg-googlenet-resnet-and-more-666091488df5)\n",
    "     \n",
    "  * base_model: use RESNET50 and freeze at bottleneck layer (stop right before 2D AVERAGE POOL) \n",
    "  * top_model: tune dense layers (parameters are inspired by a few sources)\n",
    "     * [source1](https://www.kaggle.com/suniliitb96/tutorial-keras-transfer-learning-with-resnet50)\n",
    "     * [source2](https://www.kaggle.com/pmigdal/transfer-learning-with-resnet-50-in-keras)\n",
    "     * [source3](https://towardsdatascience.com/transfer-learning-for-image-classification-using-keras-c47ccf09c8c8)\n",
    "\n",
    "\n",
    "  \n",
    "---\n",
    "#### This cell is required in order to use GPU for running the model "
   ]
  },
  {
   "cell_type": "code",
   "execution_count": 1,
   "metadata": {},
   "outputs": [
    {
     "name": "stderr",
     "output_type": "stream",
     "text": [
      "Using TensorFlow backend.\n",
      "WARNING: Logging before flag parsing goes to stderr.\n",
      "W0901 21:06:38.794243 140378810799936 deprecation_wrapper.py:119] From /home/mindy/anaconda3/lib/python3.7/site-packages/keras/backend/tensorflow_backend.py:190: The name tf.get_default_session is deprecated. Please use tf.compat.v1.get_default_session instead.\n",
      "\n",
      "W0901 21:06:38.795095 140378810799936 deprecation_wrapper.py:119] From /home/mindy/anaconda3/lib/python3.7/site-packages/keras/backend/tensorflow_backend.py:207: The name tf.global_variables is deprecated. Please use tf.compat.v1.global_variables instead.\n",
      "\n"
     ]
    }
   ],
   "source": [
    "import warnings\n",
    "warnings.filterwarnings('ignore')\n",
    "import tensorflow as tf\n",
    "import keras\n",
    "from keras.backend.tensorflow_backend import set_session\n",
    "config = tf.ConfigProto()\n",
    "config.gpu_options.allow_growth = True  # dynamically grow the memory used on the GPU\n",
    "config.log_device_placement = True  # to log device placement (on which device the operation ran)\n",
    "                                    # (nothing gets printed in Jupyter, only if you run it standalone)\n",
    "sess = tf.Session(config=config)\n",
    "set_session(sess)  # set this TensorFlow session as the default session for Keras\n",
    "keras.backend.get_session().run(tf.global_variables_initializer())  "
   ]
  },
  {
   "cell_type": "markdown",
   "metadata": {},
   "source": [
    "---\n",
    "#### Import necessary libraries"
   ]
  },
  {
   "cell_type": "code",
   "execution_count": 24,
   "metadata": {},
   "outputs": [],
   "source": [
    "import pandas as pd\n",
    "import numpy as np\n",
    "import matplotlib.pyplot as plt\n",
    "%matplotlib inline\n",
    "from keras_preprocessing.image import ImageDataGenerator\n",
    "from keras.models import Sequential, Model, model_from_json\n",
    "from keras.layers import Dropout, Flatten, Dense, GlobalAveragePooling2D\n",
    "from keras.applications.resnet50 import ResNet50, preprocess_input\n",
    "from keras import optimizers\n",
    "from keras.callbacks import ModelCheckpoint"
   ]
  },
  {
   "cell_type": "markdown",
   "metadata": {},
   "source": [
    "---\n",
    "#### Import train_df and test_df"
   ]
  },
  {
   "cell_type": "code",
   "execution_count": 3,
   "metadata": {},
   "outputs": [],
   "source": [
    "train_df = pd.read_pickle('../pickle_files/train_df_glasses.pkl')\n",
    "test_df = pd.read_pickle('../pickle_files/test_df_glasses.pkl')"
   ]
  },
  {
   "cell_type": "markdown",
   "metadata": {},
   "source": [
    "#### Get bottleneck features to tune top models"
   ]
  },
  {
   "cell_type": "code",
   "execution_count": 13,
   "metadata": {},
   "outputs": [],
   "source": [
    "def save_bottleneck_features(train_df, test_df, label, batch_size):\n",
    "    '''\n",
    "    inputs:\n",
    "    train_df, test_df: train and test dataframes saved in pickle_files folder\n",
    "    label: a string, eyewear, hat, or beard\n",
    "    batch_size: process images in batches\n",
    "    outputs:\n",
    "    saves bottleneck features inside folder tuning_data as npy file\n",
    "    '''\n",
    "    # intialize the vgg16 model \n",
    "    # make sure not to train the top layers \n",
    "    base_model = ResNet50(weights = 'imagenet',include_top = False)\n",
    "    # create train_generator and test_generator to get bottleneck inputs for train and test df \n",
    "    datagen = ImageDataGenerator(\n",
    "        zoom_range= [0.8,1.7],\n",
    "        shear_range=0.2,\n",
    "        rotation_range = 40,\n",
    "        width_shift_range=0.2,\n",
    "        height_shift_range=0.2,\n",
    "        horizontal_flip=True,\n",
    "        preprocessing_function=preprocess_input)\n",
    "    # make sure shuffle is False so we know the label follows the sequence of the dataframe \n",
    "    # so we can tune top_model \n",
    "    train_generator = datagen.flow_from_dataframe(\n",
    "    dataframe=train_df,\n",
    "    directory='../data/pics',\n",
    "    x_col='pic_id',\n",
    "    y_col=label,\n",
    "    batch_size=batch_size,\n",
    "    shuffle = False,\n",
    "    target_size=(224,224),\n",
    "    class_mode = None)\n",
    "    # get features saved as .npy in tunign_data folder \n",
    "    bottleneck_features_train = base_model.predict_generator(\n",
    "        train_generator, train_df.shape[0]//batch_size)\n",
    "    np.save(open(f'../tuning_data/resnet_data/bottleneck_features_train_{label}_resnet50.npy','wb'),\n",
    "           bottleneck_features_train)\n",
    "    \n",
    "    test_generator = datagen.flow_from_dataframe(\n",
    "    dataframe=test_df,\n",
    "    directory='../data/pics',\n",
    "    x_col='pic_id',\n",
    "    y_col=label,\n",
    "    batch_size=batch_size,\n",
    "    shuffle = False,\n",
    "    target_size=(224,224),\n",
    "    class_mode = None)\n",
    "    bottleneck_features_test = base_model.predict_generator(\n",
    "        test_generator, test_df.shape[0]//batch_size)\n",
    "    np.save(open(f'../tuning_data/resnet_data/bottleneck_features_test_{label}_resnet50.npy','wb'),\n",
    "           bottleneck_features_test)"
   ]
  },
  {
   "cell_type": "markdown",
   "metadata": {},
   "source": [
    "#### Save bottleneck_features"
   ]
  },
  {
   "cell_type": "code",
   "execution_count": 14,
   "metadata": {
    "scrolled": true
   },
   "outputs": [
    {
     "name": "stdout",
     "output_type": "stream",
     "text": [
      "Found 505 validated image filenames.\n",
      "Found 127 validated image filenames.\n"
     ]
    }
   ],
   "source": [
    "save_bottleneck_features(train_df,test_df,'eyewear',16)"
   ]
  },
  {
   "cell_type": "markdown",
   "metadata": {},
   "source": [
    "### Quick tuning of top models "
   ]
  },
  {
   "cell_type": "code",
   "execution_count": 23,
   "metadata": {},
   "outputs": [],
   "source": [
    "def train_top_model(train_df, test_df, epoch, batch_size, label):\n",
    "    '''\n",
    "    inputs:\n",
    "    train_df, test_df: dataframes saved in pickle_files to generate train and test labels \n",
    "    epoch: num of epochs in fit \n",
    "    batch_size: same as image generator batch size \n",
    "    label: a string, eyewear, hat, or beard\n",
    "    output:\n",
    "    saves model weights in a folder \n",
    "    '''\n",
    "    train_data = np.load(open(f'../tuning_data/resnet_data/bottleneck_features_train_{label}_resnet50.npy','rb'))\n",
    "    # make sure train_data and train_label have same num of samples\n",
    "    train_label = np.array(train_df[label].map({'not_'+label:0, label:1}))[:-(train_df.shape[0]%batch_size)]\n",
    "    \n",
    "    test_data = np.load(open(f'../tuning_data/resnet_data/bottleneck_features_test_{label}_resnet50.npy','rb'))\n",
    "    test_label = np.array(test_df[label].map({'not_'+label:0, label:1}))[:-(test_df.shape[0]%batch_size)]\n",
    "    \n",
    "    # build top model\n",
    "    model = Sequential()\n",
    "    model.add(GlobalAveragePooling2D(input_shape=train_data.shape[1:]))\n",
    "    model.add(Dense(512, activation='relu'))\n",
    "    model.add(Dropout(0.25))\n",
    "    model.add(Dense(1, activation='sigmoid'))\n",
    "    \n",
    "    model.compile(optimizer= optimizers.Adam(),\n",
    "                 loss='binary_crossentropy',\n",
    "                 metrics=['accuracy'])\n",
    "    \n",
    "    # checkpoint for best weights \n",
    "    filepath=f\"../tuning_data/resnet_data/best_bottleneck_resnet50_model_{label}.h5\"\n",
    "    checkpoint = ModelCheckpoint(filepath, monitor='val_acc', verbose=1, save_best_only=True, mode='max')\n",
    "    callbacks_list = [checkpoint]\n",
    "    \n",
    "    model.fit(train_data, train_label,\n",
    "             epochs=epoch,\n",
    "             batch_size=batch_size,\n",
    "             validation_data=(test_data,test_label),\n",
    "             callbacks=callbacks_list)\n",
    "    del model\n",
    "    keras.backend.clear_session()"
   ]
  },
  {
   "cell_type": "markdown",
   "metadata": {},
   "source": [
    "#### run train_top_model and save results in tuning_data"
   ]
  },
  {
   "cell_type": "code",
   "execution_count": 24,
   "metadata": {
    "scrolled": true
   },
   "outputs": [
    {
     "name": "stdout",
     "output_type": "stream",
     "text": [
      "Train on 496 samples, validate on 112 samples\n",
      "Epoch 1/50\n",
      "496/496 [==============================] - 3s 5ms/step - loss: 0.4655 - acc: 0.7923 - val_loss: 0.3515 - val_acc: 0.8750\n",
      "\n",
      "Epoch 00001: val_acc improved from -inf to 0.87500, saving model to ../tuning_data/resnet_data/best_bottleneck_resnet50_model_eyewear.h5\n",
      "Epoch 2/50\n",
      "496/496 [==============================] - 0s 343us/step - loss: 0.1458 - acc: 0.9335 - val_loss: 0.5241 - val_acc: 0.8661\n",
      "\n",
      "Epoch 00002: val_acc did not improve from 0.87500\n",
      "Epoch 3/50\n",
      "496/496 [==============================] - 0s 341us/step - loss: 0.1151 - acc: 0.9516 - val_loss: 0.3062 - val_acc: 0.9196\n",
      "\n",
      "Epoch 00003: val_acc improved from 0.87500 to 0.91964, saving model to ../tuning_data/resnet_data/best_bottleneck_resnet50_model_eyewear.h5\n",
      "Epoch 4/50\n",
      "496/496 [==============================] - 0s 341us/step - loss: 0.0598 - acc: 0.9798 - val_loss: 0.2553 - val_acc: 0.9375\n",
      "\n",
      "Epoch 00004: val_acc improved from 0.91964 to 0.93750, saving model to ../tuning_data/resnet_data/best_bottleneck_resnet50_model_eyewear.h5\n",
      "Epoch 5/50\n",
      "496/496 [==============================] - 0s 346us/step - loss: 0.0480 - acc: 0.9839 - val_loss: 0.3699 - val_acc: 0.9018\n",
      "\n",
      "Epoch 00005: val_acc did not improve from 0.93750\n",
      "Epoch 6/50\n",
      "496/496 [==============================] - 0s 347us/step - loss: 0.0259 - acc: 0.9960 - val_loss: 0.3119 - val_acc: 0.9196\n",
      "\n",
      "Epoch 00006: val_acc did not improve from 0.93750\n",
      "Epoch 7/50\n",
      "496/496 [==============================] - 0s 351us/step - loss: 0.0168 - acc: 0.9960 - val_loss: 0.3191 - val_acc: 0.9196\n",
      "\n",
      "Epoch 00007: val_acc did not improve from 0.93750\n",
      "Epoch 8/50\n",
      "496/496 [==============================] - 0s 351us/step - loss: 0.0095 - acc: 1.0000 - val_loss: 0.3221 - val_acc: 0.9286\n",
      "\n",
      "Epoch 00008: val_acc did not improve from 0.93750\n",
      "Epoch 9/50\n",
      "496/496 [==============================] - 0s 350us/step - loss: 0.0055 - acc: 1.0000 - val_loss: 0.3174 - val_acc: 0.9286\n",
      "\n",
      "Epoch 00009: val_acc did not improve from 0.93750\n",
      "Epoch 10/50\n",
      "496/496 [==============================] - 0s 338us/step - loss: 0.0030 - acc: 1.0000 - val_loss: 0.3145 - val_acc: 0.9375\n",
      "\n",
      "Epoch 00010: val_acc did not improve from 0.93750\n",
      "Epoch 11/50\n",
      "496/496 [==============================] - 0s 346us/step - loss: 0.0034 - acc: 1.0000 - val_loss: 0.3295 - val_acc: 0.9375\n",
      "\n",
      "Epoch 00011: val_acc did not improve from 0.93750\n",
      "Epoch 12/50\n",
      "496/496 [==============================] - 0s 353us/step - loss: 0.0033 - acc: 1.0000 - val_loss: 0.3366 - val_acc: 0.9375\n",
      "\n",
      "Epoch 00012: val_acc did not improve from 0.93750\n",
      "Epoch 13/50\n",
      "496/496 [==============================] - 0s 354us/step - loss: 0.0040 - acc: 1.0000 - val_loss: 0.3446 - val_acc: 0.9464\n",
      "\n",
      "Epoch 00013: val_acc improved from 0.93750 to 0.94643, saving model to ../tuning_data/resnet_data/best_bottleneck_resnet50_model_eyewear.h5\n",
      "Epoch 14/50\n",
      "496/496 [==============================] - 0s 346us/step - loss: 0.0025 - acc: 1.0000 - val_loss: 0.3436 - val_acc: 0.9375\n",
      "\n",
      "Epoch 00014: val_acc did not improve from 0.94643\n",
      "Epoch 15/50\n",
      "496/496 [==============================] - 0s 341us/step - loss: 0.0019 - acc: 1.0000 - val_loss: 0.3468 - val_acc: 0.9375\n",
      "\n",
      "Epoch 00015: val_acc did not improve from 0.94643\n",
      "Epoch 16/50\n",
      "496/496 [==============================] - 0s 353us/step - loss: 0.0017 - acc: 1.0000 - val_loss: 0.3629 - val_acc: 0.9464\n",
      "\n",
      "Epoch 00016: val_acc did not improve from 0.94643\n",
      "Epoch 17/50\n",
      "496/496 [==============================] - 0s 324us/step - loss: 0.0015 - acc: 1.0000 - val_loss: 0.3721 - val_acc: 0.9375\n",
      "\n",
      "Epoch 00017: val_acc did not improve from 0.94643\n",
      "Epoch 18/50\n",
      "496/496 [==============================] - 0s 346us/step - loss: 0.0014 - acc: 1.0000 - val_loss: 0.3656 - val_acc: 0.9464\n",
      "\n",
      "Epoch 00018: val_acc did not improve from 0.94643\n",
      "Epoch 19/50\n",
      "496/496 [==============================] - 0s 350us/step - loss: 0.0010 - acc: 1.0000 - val_loss: 0.3667 - val_acc: 0.9464\n",
      "\n",
      "Epoch 00019: val_acc did not improve from 0.94643\n",
      "Epoch 20/50\n",
      "496/496 [==============================] - 0s 361us/step - loss: 8.8118e-04 - acc: 1.0000 - val_loss: 0.3687 - val_acc: 0.9375\n",
      "\n",
      "Epoch 00020: val_acc did not improve from 0.94643\n",
      "Epoch 21/50\n",
      "496/496 [==============================] - 0s 355us/step - loss: 0.0011 - acc: 1.0000 - val_loss: 0.3737 - val_acc: 0.9375\n",
      "\n",
      "Epoch 00021: val_acc did not improve from 0.94643\n",
      "Epoch 22/50\n",
      "496/496 [==============================] - 0s 355us/step - loss: 7.2272e-04 - acc: 1.0000 - val_loss: 0.3732 - val_acc: 0.9464\n",
      "\n",
      "Epoch 00022: val_acc did not improve from 0.94643\n",
      "Epoch 23/50\n",
      "496/496 [==============================] - 0s 338us/step - loss: 6.2274e-04 - acc: 1.0000 - val_loss: 0.3762 - val_acc: 0.9375\n",
      "\n",
      "Epoch 00023: val_acc did not improve from 0.94643\n",
      "Epoch 24/50\n",
      "496/496 [==============================] - 0s 346us/step - loss: 0.0010 - acc: 1.0000 - val_loss: 0.3759 - val_acc: 0.9375\n",
      "\n",
      "Epoch 00024: val_acc did not improve from 0.94643\n",
      "Epoch 25/50\n",
      "496/496 [==============================] - 0s 348us/step - loss: 7.1277e-04 - acc: 1.0000 - val_loss: 0.3735 - val_acc: 0.9375\n",
      "\n",
      "Epoch 00025: val_acc did not improve from 0.94643\n",
      "Epoch 26/50\n",
      "496/496 [==============================] - 0s 346us/step - loss: 8.5151e-04 - acc: 1.0000 - val_loss: 0.3818 - val_acc: 0.9375\n",
      "\n",
      "Epoch 00026: val_acc did not improve from 0.94643\n",
      "Epoch 27/50\n",
      "496/496 [==============================] - 0s 352us/step - loss: 7.3124e-04 - acc: 1.0000 - val_loss: 0.3784 - val_acc: 0.9464\n",
      "\n",
      "Epoch 00027: val_acc did not improve from 0.94643\n",
      "Epoch 28/50\n",
      "496/496 [==============================] - 0s 349us/step - loss: 4.2728e-04 - acc: 1.0000 - val_loss: 0.3810 - val_acc: 0.9375\n",
      "\n",
      "Epoch 00028: val_acc did not improve from 0.94643\n",
      "Epoch 29/50\n",
      "496/496 [==============================] - 0s 345us/step - loss: 5.8653e-04 - acc: 1.0000 - val_loss: 0.3853 - val_acc: 0.9375\n",
      "\n",
      "Epoch 00029: val_acc did not improve from 0.94643\n",
      "Epoch 30/50\n",
      "496/496 [==============================] - 0s 348us/step - loss: 5.7656e-04 - acc: 1.0000 - val_loss: 0.3860 - val_acc: 0.9375\n",
      "\n",
      "Epoch 00030: val_acc did not improve from 0.94643\n",
      "Epoch 31/50\n",
      "496/496 [==============================] - 0s 347us/step - loss: 4.1155e-04 - acc: 1.0000 - val_loss: 0.3881 - val_acc: 0.9375\n",
      "\n",
      "Epoch 00031: val_acc did not improve from 0.94643\n",
      "Epoch 32/50\n",
      "496/496 [==============================] - 0s 350us/step - loss: 4.1591e-04 - acc: 1.0000 - val_loss: 0.3904 - val_acc: 0.9464\n",
      "\n",
      "Epoch 00032: val_acc did not improve from 0.94643\n",
      "Epoch 33/50\n",
      "496/496 [==============================] - 0s 351us/step - loss: 4.3743e-04 - acc: 1.0000 - val_loss: 0.3929 - val_acc: 0.9375\n",
      "\n",
      "Epoch 00033: val_acc did not improve from 0.94643\n",
      "Epoch 34/50\n",
      "496/496 [==============================] - 0s 349us/step - loss: 5.2231e-04 - acc: 1.0000 - val_loss: 0.3878 - val_acc: 0.9375\n",
      "\n",
      "Epoch 00034: val_acc did not improve from 0.94643\n",
      "Epoch 35/50\n",
      "496/496 [==============================] - 0s 342us/step - loss: 3.9126e-04 - acc: 1.0000 - val_loss: 0.3982 - val_acc: 0.9375\n",
      "\n",
      "Epoch 00035: val_acc did not improve from 0.94643\n",
      "Epoch 36/50\n",
      "496/496 [==============================] - 0s 338us/step - loss: 3.6904e-04 - acc: 1.0000 - val_loss: 0.3988 - val_acc: 0.9375\n",
      "\n",
      "Epoch 00036: val_acc did not improve from 0.94643\n",
      "Epoch 37/50\n",
      "496/496 [==============================] - 0s 346us/step - loss: 3.5567e-04 - acc: 1.0000 - val_loss: 0.4015 - val_acc: 0.9375\n",
      "\n",
      "Epoch 00037: val_acc did not improve from 0.94643\n",
      "Epoch 38/50\n",
      "496/496 [==============================] - 0s 346us/step - loss: 2.8752e-04 - acc: 1.0000 - val_loss: 0.3976 - val_acc: 0.9375\n",
      "\n",
      "Epoch 00038: val_acc did not improve from 0.94643\n",
      "Epoch 39/50\n",
      "496/496 [==============================] - 0s 352us/step - loss: 2.7310e-04 - acc: 1.0000 - val_loss: 0.4013 - val_acc: 0.9375\n",
      "\n",
      "Epoch 00039: val_acc did not improve from 0.94643\n",
      "Epoch 40/50\n",
      "496/496 [==============================] - 0s 335us/step - loss: 3.5751e-04 - acc: 1.0000 - val_loss: 0.4007 - val_acc: 0.9464\n",
      "\n",
      "Epoch 00040: val_acc did not improve from 0.94643\n",
      "Epoch 41/50\n",
      "496/496 [==============================] - 0s 352us/step - loss: 2.9408e-04 - acc: 1.0000 - val_loss: 0.4063 - val_acc: 0.9375\n",
      "\n",
      "Epoch 00041: val_acc did not improve from 0.94643\n",
      "Epoch 42/50\n",
      "496/496 [==============================] - 0s 356us/step - loss: 2.8716e-04 - acc: 1.0000 - val_loss: 0.4091 - val_acc: 0.9375\n",
      "\n",
      "Epoch 00042: val_acc did not improve from 0.94643\n",
      "Epoch 43/50\n",
      "496/496 [==============================] - 0s 340us/step - loss: 2.1131e-04 - acc: 1.0000 - val_loss: 0.4104 - val_acc: 0.9375\n",
      "\n",
      "Epoch 00043: val_acc did not improve from 0.94643\n",
      "Epoch 44/50\n",
      "496/496 [==============================] - 0s 331us/step - loss: 3.2940e-04 - acc: 1.0000 - val_loss: 0.4119 - val_acc: 0.9464\n",
      "\n",
      "Epoch 00044: val_acc did not improve from 0.94643\n",
      "Epoch 45/50\n",
      "496/496 [==============================] - 0s 337us/step - loss: 1.8590e-04 - acc: 1.0000 - val_loss: 0.4134 - val_acc: 0.9375\n",
      "\n",
      "Epoch 00045: val_acc did not improve from 0.94643\n",
      "Epoch 46/50\n",
      "496/496 [==============================] - 0s 350us/step - loss: 1.8492e-04 - acc: 1.0000 - val_loss: 0.4160 - val_acc: 0.9464\n",
      "\n",
      "Epoch 00046: val_acc did not improve from 0.94643\n",
      "Epoch 47/50\n",
      "496/496 [==============================] - 0s 353us/step - loss: 2.0933e-04 - acc: 1.0000 - val_loss: 0.4199 - val_acc: 0.9464\n",
      "\n",
      "Epoch 00047: val_acc did not improve from 0.94643\n",
      "Epoch 48/50\n",
      "496/496 [==============================] - 0s 337us/step - loss: 1.6287e-04 - acc: 1.0000 - val_loss: 0.4173 - val_acc: 0.9464\n",
      "\n",
      "Epoch 00048: val_acc did not improve from 0.94643\n",
      "Epoch 49/50\n",
      "496/496 [==============================] - 0s 347us/step - loss: 1.7289e-04 - acc: 1.0000 - val_loss: 0.4191 - val_acc: 0.9375\n",
      "\n",
      "Epoch 00049: val_acc did not improve from 0.94643\n",
      "Epoch 50/50\n",
      "496/496 [==============================] - 0s 328us/step - loss: 1.6109e-04 - acc: 1.0000 - val_loss: 0.4222 - val_acc: 0.9464\n",
      "\n",
      "Epoch 00050: val_acc did not improve from 0.94643\n"
     ]
    }
   ],
   "source": [
    "train_top_model(train_df, test_df, 50, 16, 'eyewear')"
   ]
  },
  {
   "cell_type": "markdown",
   "metadata": {},
   "source": [
    "### Fine Tune Top Model to improve accuracy"
   ]
  },
  {
   "cell_type": "code",
   "execution_count": 21,
   "metadata": {},
   "outputs": [],
   "source": [
    "def fine_tune_model(train_df, test_df,epoch, batch_size,label, print_model = True):\n",
    "    # build VGG16 model and freeze top layers\n",
    "    # input_shape: width, height, RGB (from image generator)\n",
    "    model_resnet50 = ResNet50(weights='imagenet',include_top=False, input_shape=(224,224,3))\n",
    "    # build top model\n",
    "    top_model = Sequential()\n",
    "    top_model.add(GlobalAveragePooling2D(input_shape=model_resnet50.output_shape[1:]))\n",
    "    top_model.add(Dense(512,activation='relu'))\n",
    "    top_model.add(Dropout(0.25))\n",
    "    top_model.add(Dense(1, activation='sigmoid'))\n",
    "    \n",
    "    # load saved weights to fine tune parameters \n",
    "    top_model.load_weights(f'../tuning_data/resnet_data/best_bottleneck_resnet50_model_{label}.h5')\n",
    "    # add top model to model\n",
    "    model = Model(inputs=model_resnet50.input, outputs=top_model(model_resnet50.output))\n",
    "    # we will tune last 5 layers of the model: activation49 and fully connected layer \n",
    "    for layer in model.layers[:-5]:\n",
    "        layer.trainable = False\n",
    "    # we can tune the parameters for lr and momentum later to get better results\n",
    "    model.compile(loss='binary_crossentropy',\n",
    "             optimizer=optimizers.SGD(lr=1e-4, momentum = 0.9),\n",
    "             metrics=['accuracy'])\n",
    "    # prepare train generator using data augmentation to battle small sample size \n",
    "    train_gen = ImageDataGenerator(\n",
    "        zoom_range= [0.8,1.7],\n",
    "        shear_range=0.2,\n",
    "        rotation_range = 40,\n",
    "        width_shift_range=0.2,\n",
    "        height_shift_range=0.2,\n",
    "        horizontal_flip=True,\n",
    "        preprocessing_function=preprocess_input)\n",
    "    # not want to augment the test \n",
    "    test_gen = ImageDataGenerator(preprocessing_function=preprocess_input)\n",
    "    \n",
    "    train_generator =  train_gen.flow_from_dataframe(\n",
    "    dataframe=train_df,\n",
    "    directory='../data/pics',\n",
    "    x_col='pic_id',\n",
    "    y_col=label,\n",
    "    batch_size=batch_size,\n",
    "    target_size=(224,224),\n",
    "    class_mode = 'binary')\n",
    "    \n",
    "    test_generator =  test_gen.flow_from_dataframe(\n",
    "    dataframe=test_df,\n",
    "    directory='../data/pics',\n",
    "    x_col='pic_id',\n",
    "    y_col=label,\n",
    "    batch_size=batch_size,\n",
    "    target_size=(224,224),\n",
    "    class_mode = 'binary')\n",
    "    \n",
    "    # checkpoint for best weights \n",
    "    filepath=f\"../tuning_data/resnet_data/best_resnet50_model_{label}_decay_sdg_0.h5\"\n",
    "    checkpoint = ModelCheckpoint(filepath, monitor='val_acc', verbose=1, save_best_only=True, mode='max')\n",
    "    callbacks_list = [checkpoint]\n",
    "    \n",
    "    # run and fit model \n",
    "    result = model.fit_generator(\n",
    "    train_generator,\n",
    "    steps_per_epoch=train_df.shape[0]//batch_size,\n",
    "    epochs=epoch,\n",
    "    validation_data=test_generator,\n",
    "    validation_steps=test_df.shape[0]//batch_size,\n",
    "    verbose=1,\n",
    "    callbacks=callbacks_list)\n",
    "    \n",
    "    if print_model:\n",
    "        model.summary()\n",
    "    \n",
    "    del model\n",
    "    keras.backend.clear_session()\n",
    "    return result                "
   ]
  },
  {
   "cell_type": "markdown",
   "metadata": {},
   "source": [
    "### save model history "
   ]
  },
  {
   "cell_type": "code",
   "execution_count": 22,
   "metadata": {},
   "outputs": [
    {
     "name": "stdout",
     "output_type": "stream",
     "text": [
      "Found 505 validated image filenames belonging to 2 classes.\n",
      "Found 127 validated image filenames belonging to 2 classes.\n",
      "Epoch 1/50\n",
      "31/31 [==============================] - 6s 203ms/step - loss: 6.1580 - acc: 0.0963 - val_loss: 8.0185 - val_acc: 0.0804\n",
      "\n",
      "Epoch 00001: val_acc improved from -inf to 0.08036, saving model to ../tuning_data/resnet_data/best_resnet50_model_eyewear_decay_sdg_0.h5\n",
      "Epoch 2/50\n",
      "31/31 [==============================] - 7s 213ms/step - loss: 3.7037 - acc: 0.1048 - val_loss: 4.6570 - val_acc: 0.1261\n",
      "\n",
      "Epoch 00002: val_acc improved from 0.08036 to 0.12613, saving model to ../tuning_data/resnet_data/best_resnet50_model_eyewear_decay_sdg_0.h5\n",
      "Epoch 3/50\n",
      "31/31 [==============================] - 6s 194ms/step - loss: 2.2963 - acc: 0.1287 - val_loss: 2.8646 - val_acc: 0.0811\n",
      "\n",
      "Epoch 00003: val_acc did not improve from 0.12613\n",
      "Epoch 4/50\n",
      "31/31 [==============================] - 6s 188ms/step - loss: 1.3822 - acc: 0.1866 - val_loss: 1.6555 - val_acc: 0.1712\n",
      "\n",
      "Epoch 00004: val_acc improved from 0.12613 to 0.17117, saving model to ../tuning_data/resnet_data/best_resnet50_model_eyewear_decay_sdg_0.h5\n",
      "Epoch 5/50\n",
      "31/31 [==============================] - 5s 174ms/step - loss: 0.9231 - acc: 0.3306 - val_loss: 1.0356 - val_acc: 0.3243\n",
      "\n",
      "Epoch 00005: val_acc improved from 0.17117 to 0.32432, saving model to ../tuning_data/resnet_data/best_resnet50_model_eyewear_decay_sdg_0.h5\n",
      "Epoch 6/50\n",
      "31/31 [==============================] - 6s 178ms/step - loss: 0.7022 - acc: 0.5429 - val_loss: 0.6663 - val_acc: 0.6216\n",
      "\n",
      "Epoch 00006: val_acc improved from 0.32432 to 0.62162, saving model to ../tuning_data/resnet_data/best_resnet50_model_eyewear_decay_sdg_0.h5\n",
      "Epoch 7/50\n",
      "31/31 [==============================] - 5s 175ms/step - loss: 0.5754 - acc: 0.6989 - val_loss: 0.4641 - val_acc: 0.9099\n",
      "\n",
      "Epoch 00007: val_acc improved from 0.62162 to 0.90991, saving model to ../tuning_data/resnet_data/best_resnet50_model_eyewear_decay_sdg_0.h5\n",
      "Epoch 8/50\n",
      "31/31 [==============================] - 6s 186ms/step - loss: 0.4816 - acc: 0.7944 - val_loss: 0.3810 - val_acc: 0.9009\n",
      "\n",
      "Epoch 00008: val_acc did not improve from 0.90991\n",
      "Epoch 9/50\n",
      "31/31 [==============================] - 5s 173ms/step - loss: 0.4438 - acc: 0.8199 - val_loss: 0.3187 - val_acc: 0.9107\n",
      "\n",
      "Epoch 00009: val_acc improved from 0.90991 to 0.91071, saving model to ../tuning_data/resnet_data/best_resnet50_model_eyewear_decay_sdg_0.h5\n",
      "Epoch 10/50\n",
      "31/31 [==============================] - 6s 207ms/step - loss: 0.4152 - acc: 0.8472 - val_loss: 0.2750 - val_acc: 0.9279\n",
      "\n",
      "Epoch 00010: val_acc improved from 0.91071 to 0.92793, saving model to ../tuning_data/resnet_data/best_resnet50_model_eyewear_decay_sdg_0.h5\n",
      "Epoch 11/50\n",
      "31/31 [==============================] - 6s 179ms/step - loss: 0.3893 - acc: 0.8548 - val_loss: 0.2417 - val_acc: 0.9189\n",
      "\n",
      "Epoch 00011: val_acc did not improve from 0.92793\n",
      "Epoch 12/50\n",
      "31/31 [==============================] - 6s 185ms/step - loss: 0.3731 - acc: 0.8698 - val_loss: 0.2692 - val_acc: 0.9009\n",
      "\n",
      "Epoch 00012: val_acc did not improve from 0.92793\n",
      "Epoch 13/50\n",
      "31/31 [==============================] - 6s 181ms/step - loss: 0.3441 - acc: 0.8710 - val_loss: 0.2575 - val_acc: 0.9189\n",
      "\n",
      "Epoch 00013: val_acc did not improve from 0.92793\n",
      "Epoch 14/50\n",
      "31/31 [==============================] - 5s 176ms/step - loss: 0.3448 - acc: 0.8719 - val_loss: 0.2004 - val_acc: 0.9369\n",
      "\n",
      "Epoch 00014: val_acc improved from 0.92793 to 0.93694, saving model to ../tuning_data/resnet_data/best_resnet50_model_eyewear_decay_sdg_0.h5\n",
      "Epoch 15/50\n",
      "31/31 [==============================] - 6s 178ms/step - loss: 0.3006 - acc: 0.8920 - val_loss: 0.2379 - val_acc: 0.9009\n",
      "\n",
      "Epoch 00015: val_acc did not improve from 0.93694\n",
      "Epoch 16/50\n",
      "31/31 [==============================] - 6s 180ms/step - loss: 0.3155 - acc: 0.8548 - val_loss: 0.1904 - val_acc: 0.9189\n",
      "\n",
      "Epoch 00016: val_acc did not improve from 0.93694\n",
      "Epoch 17/50\n",
      "31/31 [==============================] - 6s 188ms/step - loss: 0.2839 - acc: 0.9027 - val_loss: 0.2280 - val_acc: 0.9018\n",
      "\n",
      "Epoch 00017: val_acc did not improve from 0.93694\n",
      "Epoch 18/50\n",
      "31/31 [==============================] - 6s 207ms/step - loss: 0.2950 - acc: 0.8870 - val_loss: 0.2139 - val_acc: 0.9189\n",
      "\n",
      "Epoch 00018: val_acc did not improve from 0.93694\n",
      "Epoch 19/50\n",
      "31/31 [==============================] - 5s 158ms/step - loss: 0.2768 - acc: 0.8880 - val_loss: 0.1733 - val_acc: 0.9369\n",
      "\n",
      "Epoch 00019: val_acc improved from 0.93694 to 0.93694, saving model to ../tuning_data/resnet_data/best_resnet50_model_eyewear_decay_sdg_0.h5\n",
      "Epoch 20/50\n",
      "31/31 [==============================] - 6s 187ms/step - loss: 0.2865 - acc: 0.8911 - val_loss: 0.2175 - val_acc: 0.9099\n",
      "\n",
      "Epoch 00020: val_acc did not improve from 0.93694\n",
      "Epoch 21/50\n",
      "31/31 [==============================] - 6s 191ms/step - loss: 0.2518 - acc: 0.9012 - val_loss: 0.3075 - val_acc: 0.8739\n",
      "\n",
      "Epoch 00021: val_acc did not improve from 0.93694\n",
      "Epoch 22/50\n",
      "31/31 [==============================] - 6s 178ms/step - loss: 0.2512 - acc: 0.8941 - val_loss: 0.1743 - val_acc: 0.9459\n",
      "\n",
      "Epoch 00022: val_acc improved from 0.93694 to 0.94595, saving model to ../tuning_data/resnet_data/best_resnet50_model_eyewear_decay_sdg_0.h5\n",
      "Epoch 23/50\n",
      "31/31 [==============================] - 6s 179ms/step - loss: 0.2888 - acc: 0.8956 - val_loss: 0.2058 - val_acc: 0.9099\n",
      "\n",
      "Epoch 00023: val_acc did not improve from 0.94595\n",
      "Epoch 24/50\n",
      "31/31 [==============================] - 5s 171ms/step - loss: 0.2096 - acc: 0.9365 - val_loss: 0.2381 - val_acc: 0.9099\n",
      "\n",
      "Epoch 00024: val_acc did not improve from 0.94595\n",
      "Epoch 25/50\n",
      "31/31 [==============================] - 6s 187ms/step - loss: 0.2249 - acc: 0.9082 - val_loss: 0.2352 - val_acc: 0.9196\n",
      "\n",
      "Epoch 00025: val_acc did not improve from 0.94595\n",
      "Epoch 26/50\n",
      "31/31 [==============================] - 6s 196ms/step - loss: 0.2660 - acc: 0.8931 - val_loss: 0.2141 - val_acc: 0.9189\n",
      "\n",
      "Epoch 00026: val_acc did not improve from 0.94595\n",
      "Epoch 27/50\n",
      "31/31 [==============================] - 6s 182ms/step - loss: 0.2240 - acc: 0.9177 - val_loss: 0.1914 - val_acc: 0.9099\n",
      "\n",
      "Epoch 00027: val_acc did not improve from 0.94595\n",
      "Epoch 28/50\n",
      "31/31 [==============================] - 6s 178ms/step - loss: 0.2403 - acc: 0.9133 - val_loss: 0.2476 - val_acc: 0.9009\n",
      "\n",
      "Epoch 00028: val_acc did not improve from 0.94595\n",
      "Epoch 29/50\n",
      "31/31 [==============================] - 6s 194ms/step - loss: 0.1973 - acc: 0.9254 - val_loss: 0.1961 - val_acc: 0.9279\n",
      "\n",
      "Epoch 00029: val_acc did not improve from 0.94595\n",
      "Epoch 30/50\n",
      "31/31 [==============================] - 5s 177ms/step - loss: 0.2486 - acc: 0.9026 - val_loss: 0.2474 - val_acc: 0.9099\n",
      "\n",
      "Epoch 00030: val_acc did not improve from 0.94595\n",
      "Epoch 31/50\n",
      "31/31 [==============================] - 6s 185ms/step - loss: 0.1779 - acc: 0.9355 - val_loss: 0.2330 - val_acc: 0.9099\n",
      "\n",
      "Epoch 00031: val_acc did not improve from 0.94595\n",
      "Epoch 32/50\n",
      "31/31 [==============================] - 5s 173ms/step - loss: 0.2176 - acc: 0.9158 - val_loss: 0.2439 - val_acc: 0.9099\n",
      "\n",
      "Epoch 00032: val_acc did not improve from 0.94595\n",
      "Epoch 33/50\n",
      "31/31 [==============================] - 6s 179ms/step - loss: 0.1948 - acc: 0.9324 - val_loss: 0.2566 - val_acc: 0.9018\n",
      "\n",
      "Epoch 00033: val_acc did not improve from 0.94595\n",
      "Epoch 34/50\n",
      "31/31 [==============================] - 6s 197ms/step - loss: 0.1950 - acc: 0.9218 - val_loss: 0.2265 - val_acc: 0.9279\n",
      "\n",
      "Epoch 00034: val_acc did not improve from 0.94595\n",
      "Epoch 35/50\n",
      "31/31 [==============================] - 6s 194ms/step - loss: 0.2116 - acc: 0.9093 - val_loss: 0.2521 - val_acc: 0.8919\n",
      "\n",
      "Epoch 00035: val_acc did not improve from 0.94595\n",
      "Epoch 36/50\n",
      "31/31 [==============================] - 6s 191ms/step - loss: 0.1922 - acc: 0.9274 - val_loss: 0.1444 - val_acc: 0.9550\n",
      "\n",
      "Epoch 00036: val_acc improved from 0.94595 to 0.95495, saving model to ../tuning_data/resnet_data/best_resnet50_model_eyewear_decay_sdg_0.h5\n",
      "Epoch 37/50\n",
      "31/31 [==============================] - 6s 182ms/step - loss: 0.1753 - acc: 0.9344 - val_loss: 0.3173 - val_acc: 0.8559\n",
      "\n",
      "Epoch 00037: val_acc did not improve from 0.95495\n",
      "Epoch 38/50\n",
      "31/31 [==============================] - 6s 182ms/step - loss: 0.1880 - acc: 0.9435 - val_loss: 0.1676 - val_acc: 0.9550\n",
      "\n",
      "Epoch 00038: val_acc improved from 0.95495 to 0.95495, saving model to ../tuning_data/resnet_data/best_resnet50_model_eyewear_decay_sdg_0.h5\n"
     ]
    },
    {
     "name": "stdout",
     "output_type": "stream",
     "text": [
      "Epoch 39/50\n",
      "31/31 [==============================] - 5s 177ms/step - loss: 0.1923 - acc: 0.9173 - val_loss: 0.3415 - val_acc: 0.8739\n",
      "\n",
      "Epoch 00039: val_acc did not improve from 0.95495\n",
      "Epoch 40/50\n",
      "31/31 [==============================] - 5s 177ms/step - loss: 0.1681 - acc: 0.9315 - val_loss: 0.1737 - val_acc: 0.9189\n",
      "\n",
      "Epoch 00040: val_acc did not improve from 0.95495\n",
      "Epoch 41/50\n",
      "31/31 [==============================] - 6s 188ms/step - loss: 0.2010 - acc: 0.9067 - val_loss: 0.2218 - val_acc: 0.9196\n",
      "\n",
      "Epoch 00041: val_acc did not improve from 0.95495\n",
      "Epoch 42/50\n",
      "31/31 [==============================] - 6s 208ms/step - loss: 0.1864 - acc: 0.9395 - val_loss: 0.2842 - val_acc: 0.9099\n",
      "\n",
      "Epoch 00042: val_acc did not improve from 0.95495\n",
      "Epoch 43/50\n",
      "31/31 [==============================] - 5s 176ms/step - loss: 0.2021 - acc: 0.9239 - val_loss: 0.2302 - val_acc: 0.8919\n",
      "\n",
      "Epoch 00043: val_acc did not improve from 0.95495\n",
      "Epoch 44/50\n",
      "31/31 [==============================] - 6s 190ms/step - loss: 0.1748 - acc: 0.9334 - val_loss: 0.2661 - val_acc: 0.8919\n",
      "\n",
      "Epoch 00044: val_acc did not improve from 0.95495\n",
      "Epoch 45/50\n",
      "31/31 [==============================] - 5s 173ms/step - loss: 0.1643 - acc: 0.9415 - val_loss: 0.2835 - val_acc: 0.8739\n",
      "\n",
      "Epoch 00045: val_acc did not improve from 0.95495\n",
      "Epoch 46/50\n",
      "31/31 [==============================] - 6s 190ms/step - loss: 0.2014 - acc: 0.9092 - val_loss: 0.2180 - val_acc: 0.9189\n",
      "\n",
      "Epoch 00046: val_acc did not improve from 0.95495\n",
      "Epoch 47/50\n",
      "31/31 [==============================] - 5s 172ms/step - loss: 0.1883 - acc: 0.9173 - val_loss: 0.2294 - val_acc: 0.9189\n",
      "\n",
      "Epoch 00047: val_acc did not improve from 0.95495\n",
      "Epoch 48/50\n",
      "31/31 [==============================] - 6s 182ms/step - loss: 0.1783 - acc: 0.9395 - val_loss: 0.2803 - val_acc: 0.8919\n",
      "\n",
      "Epoch 00048: val_acc did not improve from 0.95495\n",
      "Epoch 49/50\n",
      "31/31 [==============================] - 6s 179ms/step - loss: 0.1694 - acc: 0.9470 - val_loss: 0.1666 - val_acc: 0.9286\n",
      "\n",
      "Epoch 00049: val_acc did not improve from 0.95495\n",
      "Epoch 50/50\n",
      "31/31 [==============================] - 6s 198ms/step - loss: 0.1524 - acc: 0.9375 - val_loss: 0.3477 - val_acc: 0.8829\n",
      "\n",
      "Epoch 00050: val_acc did not improve from 0.95495\n"
     ]
    }
   ],
   "source": [
    "model_history = fine_tune_model(train_df, test_df,50,16,'eyewear', False)"
   ]
  },
  {
   "cell_type": "code",
   "execution_count": 43,
   "metadata": {},
   "outputs": [
    {
     "name": "stdout",
     "output_type": "stream",
     "text": [
      "highest test accuracy: 0.9729729740469305\n",
      "------------------\n",
      "highest train accuracy: 0.9605809128630706\n"
     ]
    }
   ],
   "source": [
    "highest_val_acc, highest_train_acc = max(model_history.history['val_acc']), max(model_history.history['acc'])\n",
    "print(f'highest test accuracy: {highest_val_acc}')\n",
    "print('------------------')\n",
    "print(f'highest train accuracy: {highest_train_acc}')\n",
    "# _1.h5 has 0.973 accuracy (better than 0.95 as _0.h5)\n",
    "# consistent above 95% with 3 repeats of data generator \n",
    "# remove adam "
   ]
  },
  {
   "cell_type": "code",
   "execution_count": 44,
   "metadata": {},
   "outputs": [
    {
     "name": "stdout",
     "output_type": "stream",
     "text": [
      "lowest test loss: 0.11295136594557548\n",
      "------------------\n",
      "lowest train loss: 0.12572764363025596\n"
     ]
    }
   ],
   "source": [
    "lowest_val_loss, lowest_train_loss = min(model_history.history['val_loss']), min(model_history.history['loss'])\n",
    "print(f'lowest test loss: {lowest_val_loss}')\n",
    "print('------------------')\n",
    "print(f'lowest train loss: {lowest_train_loss}')"
   ]
  },
  {
   "cell_type": "code",
   "execution_count": 19,
   "metadata": {},
   "outputs": [
    {
     "data": {
      "image/png": "[encoded data removed]",
      "text/plain": [
       "<Figure size 432x288 with 1 Axes>"
      ]
     },
     "metadata": {
      "needs_background": "light"
     },
     "output_type": "display_data"
    }
   ],
   "source": [
    "plt.plot(model_history.history['val_acc'][-40:], color = 'red', label = 'test')\n",
    "plt.plot(model_history.history['acc'][-40:], color = 'blue', label = 'train')\n",
    "plt.title('accuracy')\n",
    "plt.ylabel('accuracy')\n",
    "plt.legend()\n",
    "plt.show()"
   ]
  },
  {
   "cell_type": "code",
   "execution_count": 20,
   "metadata": {
    "scrolled": true
   },
   "outputs": [
    {
     "data": {
      "image/png": "[encoded data removed]",
      "text/plain": [
       "<Figure size 432x288 with 1 Axes>"
      ]
     },
     "metadata": {
      "needs_background": "light"
     },
     "output_type": "display_data"
    }
   ],
   "source": [
    "plt.plot(model_history.history['val_loss'][-40:], color = 'red', label = 'test')\n",
    "plt.plot(model_history.history['loss'][-40:], color = 'blue', label = 'train')\n",
    "plt.title('loss')\n",
    "plt.ylabel('loss')\n",
    "plt.legend()\n",
    "plt.show()"
   ]
  },
  {
   "cell_type": "code",
   "execution_count": 23,
   "metadata": {},
   "outputs": [
    {
     "name": "stdout",
     "output_type": "stream",
     "text": [
      "Model: \"model_1\"\n",
      "__________________________________________________________________________________________________\n",
      "Layer (type)                    Output Shape         Param #     Connected to                     \n",
      "==================================================================================================\n",
      "input_1 (InputLayer)            (None, 224, 224, 3)  0                                            \n",
      "__________________________________________________________________________________________________\n",
      "conv1_pad (ZeroPadding2D)       (None, 230, 230, 3)  0           input_1[0][0]                    \n",
      "__________________________________________________________________________________________________\n",
      "conv1 (Conv2D)                  (None, 112, 112, 64) 9472        conv1_pad[0][0]                  \n",
      "__________________________________________________________________________________________________\n",
      "bn_conv1 (BatchNormalization)   (None, 112, 112, 64) 256         conv1[0][0]                      \n",
      "__________________________________________________________________________________________________\n",
      "activation_1 (Activation)       (None, 112, 112, 64) 0           bn_conv1[0][0]                   \n",
      "__________________________________________________________________________________________________\n",
      "pool1_pad (ZeroPadding2D)       (None, 114, 114, 64) 0           activation_1[0][0]               \n",
      "__________________________________________________________________________________________________\n",
      "max_pooling2d_1 (MaxPooling2D)  (None, 56, 56, 64)   0           pool1_pad[0][0]                  \n",
      "__________________________________________________________________________________________________\n",
      "res2a_branch2a (Conv2D)         (None, 56, 56, 64)   4160        max_pooling2d_1[0][0]            \n",
      "__________________________________________________________________________________________________\n",
      "bn2a_branch2a (BatchNormalizati (None, 56, 56, 64)   256         res2a_branch2a[0][0]             \n",
      "__________________________________________________________________________________________________\n",
      "activation_2 (Activation)       (None, 56, 56, 64)   0           bn2a_branch2a[0][0]              \n",
      "__________________________________________________________________________________________________\n",
      "res2a_branch2b (Conv2D)         (None, 56, 56, 64)   36928       activation_2[0][0]               \n",
      "__________________________________________________________________________________________________\n",
      "bn2a_branch2b (BatchNormalizati (None, 56, 56, 64)   256         res2a_branch2b[0][0]             \n",
      "__________________________________________________________________________________________________\n",
      "activation_3 (Activation)       (None, 56, 56, 64)   0           bn2a_branch2b[0][0]              \n",
      "__________________________________________________________________________________________________\n",
      "res2a_branch2c (Conv2D)         (None, 56, 56, 256)  16640       activation_3[0][0]               \n",
      "__________________________________________________________________________________________________\n",
      "res2a_branch1 (Conv2D)          (None, 56, 56, 256)  16640       max_pooling2d_1[0][0]            \n",
      "__________________________________________________________________________________________________\n",
      "bn2a_branch2c (BatchNormalizati (None, 56, 56, 256)  1024        res2a_branch2c[0][0]             \n",
      "__________________________________________________________________________________________________\n",
      "bn2a_branch1 (BatchNormalizatio (None, 56, 56, 256)  1024        res2a_branch1[0][0]              \n",
      "__________________________________________________________________________________________________\n",
      "add_1 (Add)                     (None, 56, 56, 256)  0           bn2a_branch2c[0][0]              \n",
      "                                                                 bn2a_branch1[0][0]               \n",
      "__________________________________________________________________________________________________\n",
      "activation_4 (Activation)       (None, 56, 56, 256)  0           add_1[0][0]                      \n",
      "__________________________________________________________________________________________________\n",
      "res2b_branch2a (Conv2D)         (None, 56, 56, 64)   16448       activation_4[0][0]               \n",
      "__________________________________________________________________________________________________\n",
      "bn2b_branch2a (BatchNormalizati (None, 56, 56, 64)   256         res2b_branch2a[0][0]             \n",
      "__________________________________________________________________________________________________\n",
      "activation_5 (Activation)       (None, 56, 56, 64)   0           bn2b_branch2a[0][0]              \n",
      "__________________________________________________________________________________________________\n",
      "res2b_branch2b (Conv2D)         (None, 56, 56, 64)   36928       activation_5[0][0]               \n",
      "__________________________________________________________________________________________________\n",
      "bn2b_branch2b (BatchNormalizati (None, 56, 56, 64)   256         res2b_branch2b[0][0]             \n",
      "__________________________________________________________________________________________________\n",
      "activation_6 (Activation)       (None, 56, 56, 64)   0           bn2b_branch2b[0][0]              \n",
      "__________________________________________________________________________________________________\n",
      "res2b_branch2c (Conv2D)         (None, 56, 56, 256)  16640       activation_6[0][0]               \n",
      "__________________________________________________________________________________________________\n",
      "bn2b_branch2c (BatchNormalizati (None, 56, 56, 256)  1024        res2b_branch2c[0][0]             \n",
      "__________________________________________________________________________________________________\n",
      "add_2 (Add)                     (None, 56, 56, 256)  0           bn2b_branch2c[0][0]              \n",
      "                                                                 activation_4[0][0]               \n",
      "__________________________________________________________________________________________________\n",
      "activation_7 (Activation)       (None, 56, 56, 256)  0           add_2[0][0]                      \n",
      "__________________________________________________________________________________________________\n",
      "res2c_branch2a (Conv2D)         (None, 56, 56, 64)   16448       activation_7[0][0]               \n",
      "__________________________________________________________________________________________________\n",
      "bn2c_branch2a (BatchNormalizati (None, 56, 56, 64)   256         res2c_branch2a[0][0]             \n",
      "__________________________________________________________________________________________________\n",
      "activation_8 (Activation)       (None, 56, 56, 64)   0           bn2c_branch2a[0][0]              \n",
      "__________________________________________________________________________________________________\n",
      "res2c_branch2b (Conv2D)         (None, 56, 56, 64)   36928       activation_8[0][0]               \n",
      "__________________________________________________________________________________________________\n",
      "bn2c_branch2b (BatchNormalizati (None, 56, 56, 64)   256         res2c_branch2b[0][0]             \n",
      "__________________________________________________________________________________________________\n",
      "activation_9 (Activation)       (None, 56, 56, 64)   0           bn2c_branch2b[0][0]              \n",
      "__________________________________________________________________________________________________\n",
      "res2c_branch2c (Conv2D)         (None, 56, 56, 256)  16640       activation_9[0][0]               \n",
      "__________________________________________________________________________________________________\n",
      "bn2c_branch2c (BatchNormalizati (None, 56, 56, 256)  1024        res2c_branch2c[0][0]             \n",
      "__________________________________________________________________________________________________\n",
      "add_3 (Add)                     (None, 56, 56, 256)  0           bn2c_branch2c[0][0]              \n",
      "                                                                 activation_7[0][0]               \n",
      "__________________________________________________________________________________________________\n",
      "activation_10 (Activation)      (None, 56, 56, 256)  0           add_3[0][0]                      \n",
      "__________________________________________________________________________________________________\n",
      "res3a_branch2a (Conv2D)         (None, 28, 28, 128)  32896       activation_10[0][0]              \n",
      "__________________________________________________________________________________________________\n",
      "bn3a_branch2a (BatchNormalizati (None, 28, 28, 128)  512         res3a_branch2a[0][0]             \n",
      "__________________________________________________________________________________________________\n",
      "activation_11 (Activation)      (None, 28, 28, 128)  0           bn3a_branch2a[0][0]              \n",
      "__________________________________________________________________________________________________\n",
      "res3a_branch2b (Conv2D)         (None, 28, 28, 128)  147584      activation_11[0][0]              \n",
      "__________________________________________________________________________________________________\n",
      "bn3a_branch2b (BatchNormalizati (None, 28, 28, 128)  512         res3a_branch2b[0][0]             \n",
      "__________________________________________________________________________________________________\n",
      "activation_12 (Activation)      (None, 28, 28, 128)  0           bn3a_branch2b[0][0]              \n",
      "__________________________________________________________________________________________________\n",
      "res3a_branch2c (Conv2D)         (None, 28, 28, 512)  66048       activation_12[0][0]              \n",
      "__________________________________________________________________________________________________\n",
      "res3a_branch1 (Conv2D)          (None, 28, 28, 512)  131584      activation_10[0][0]              \n",
      "__________________________________________________________________________________________________\n",
      "bn3a_branch2c (BatchNormalizati (None, 28, 28, 512)  2048        res3a_branch2c[0][0]             \n",
      "__________________________________________________________________________________________________\n",
      "bn3a_branch1 (BatchNormalizatio (None, 28, 28, 512)  2048        res3a_branch1[0][0]              \n",
      "__________________________________________________________________________________________________\n",
      "add_4 (Add)                     (None, 28, 28, 512)  0           bn3a_branch2c[0][0]              \n",
      "                                                                 bn3a_branch1[0][0]               \n",
      "__________________________________________________________________________________________________\n",
      "activation_13 (Activation)      (None, 28, 28, 512)  0           add_4[0][0]                      \n",
      "__________________________________________________________________________________________________\n",
      "res3b_branch2a (Conv2D)         (None, 28, 28, 128)  65664       activation_13[0][0]              \n",
      "__________________________________________________________________________________________________\n",
      "bn3b_branch2a (BatchNormalizati (None, 28, 28, 128)  512         res3b_branch2a[0][0]             \n",
      "__________________________________________________________________________________________________\n",
      "activation_14 (Activation)      (None, 28, 28, 128)  0           bn3b_branch2a[0][0]              \n",
      "__________________________________________________________________________________________________\n",
      "res3b_branch2b (Conv2D)         (None, 28, 28, 128)  147584      activation_14[0][0]              \n",
      "__________________________________________________________________________________________________\n",
      "bn3b_branch2b (BatchNormalizati (None, 28, 28, 128)  512         res3b_branch2b[0][0]             \n",
      "__________________________________________________________________________________________________\n",
      "activation_15 (Activation)      (None, 28, 28, 128)  0           bn3b_branch2b[0][0]              \n",
      "__________________________________________________________________________________________________\n",
      "res3b_branch2c (Conv2D)         (None, 28, 28, 512)  66048       activation_15[0][0]              \n",
      "__________________________________________________________________________________________________\n",
      "bn3b_branch2c (BatchNormalizati (None, 28, 28, 512)  2048        res3b_branch2c[0][0]             \n",
      "__________________________________________________________________________________________________\n",
      "add_5 (Add)                     (None, 28, 28, 512)  0           bn3b_branch2c[0][0]              \n",
      "                                                                 activation_13[0][0]              \n",
      "__________________________________________________________________________________________________\n",
      "activation_16 (Activation)      (None, 28, 28, 512)  0           add_5[0][0]                      \n",
      "__________________________________________________________________________________________________\n",
      "res3c_branch2a (Conv2D)         (None, 28, 28, 128)  65664       activation_16[0][0]              \n",
      "__________________________________________________________________________________________________\n",
      "bn3c_branch2a (BatchNormalizati (None, 28, 28, 128)  512         res3c_branch2a[0][0]             \n",
      "__________________________________________________________________________________________________\n",
      "activation_17 (Activation)      (None, 28, 28, 128)  0           bn3c_branch2a[0][0]              \n",
      "__________________________________________________________________________________________________\n",
      "res3c_branch2b (Conv2D)         (None, 28, 28, 128)  147584      activation_17[0][0]              \n",
      "__________________________________________________________________________________________________\n",
      "bn3c_branch2b (BatchNormalizati (None, 28, 28, 128)  512         res3c_branch2b[0][0]             \n",
      "__________________________________________________________________________________________________\n",
      "activation_18 (Activation)      (None, 28, 28, 128)  0           bn3c_branch2b[0][0]              \n",
      "__________________________________________________________________________________________________\n",
      "res3c_branch2c (Conv2D)         (None, 28, 28, 512)  66048       activation_18[0][0]              \n",
      "__________________________________________________________________________________________________\n",
      "bn3c_branch2c (BatchNormalizati (None, 28, 28, 512)  2048        res3c_branch2c[0][0]             \n",
      "__________________________________________________________________________________________________\n",
      "add_6 (Add)                     (None, 28, 28, 512)  0           bn3c_branch2c[0][0]              \n",
      "                                                                 activation_16[0][0]              \n",
      "__________________________________________________________________________________________________\n",
      "activation_19 (Activation)      (None, 28, 28, 512)  0           add_6[0][0]                      \n",
      "__________________________________________________________________________________________________\n",
      "res3d_branch2a (Conv2D)         (None, 28, 28, 128)  65664       activation_19[0][0]              \n",
      "__________________________________________________________________________________________________\n",
      "bn3d_branch2a (BatchNormalizati (None, 28, 28, 128)  512         res3d_branch2a[0][0]             \n",
      "__________________________________________________________________________________________________\n",
      "activation_20 (Activation)      (None, 28, 28, 128)  0           bn3d_branch2a[0][0]              \n",
      "__________________________________________________________________________________________________\n",
      "res3d_branch2b (Conv2D)         (None, 28, 28, 128)  147584      activation_20[0][0]              \n",
      "__________________________________________________________________________________________________\n",
      "bn3d_branch2b (BatchNormalizati (None, 28, 28, 128)  512         res3d_branch2b[0][0]             \n",
      "__________________________________________________________________________________________________\n",
      "activation_21 (Activation)      (None, 28, 28, 128)  0           bn3d_branch2b[0][0]              \n",
      "__________________________________________________________________________________________________\n",
      "res3d_branch2c (Conv2D)         (None, 28, 28, 512)  66048       activation_21[0][0]              \n",
      "__________________________________________________________________________________________________\n",
      "bn3d_branch2c (BatchNormalizati (None, 28, 28, 512)  2048        res3d_branch2c[0][0]             \n",
      "__________________________________________________________________________________________________\n",
      "add_7 (Add)                     (None, 28, 28, 512)  0           bn3d_branch2c[0][0]              \n",
      "                                                                 activation_19[0][0]              \n",
      "__________________________________________________________________________________________________\n",
      "activation_22 (Activation)      (None, 28, 28, 512)  0           add_7[0][0]                      \n",
      "__________________________________________________________________________________________________\n",
      "res4a_branch2a (Conv2D)         (None, 14, 14, 256)  131328      activation_22[0][0]              \n",
      "__________________________________________________________________________________________________\n",
      "bn4a_branch2a (BatchNormalizati (None, 14, 14, 256)  1024        res4a_branch2a[0][0]             \n",
      "__________________________________________________________________________________________________\n",
      "activation_23 (Activation)      (None, 14, 14, 256)  0           bn4a_branch2a[0][0]              \n",
      "__________________________________________________________________________________________________\n",
      "res4a_branch2b (Conv2D)         (None, 14, 14, 256)  590080      activation_23[0][0]              \n",
      "__________________________________________________________________________________________________\n",
      "bn4a_branch2b (BatchNormalizati (None, 14, 14, 256)  1024        res4a_branch2b[0][0]             \n",
      "__________________________________________________________________________________________________\n",
      "activation_24 (Activation)      (None, 14, 14, 256)  0           bn4a_branch2b[0][0]              \n",
      "__________________________________________________________________________________________________\n",
      "res4a_branch2c (Conv2D)         (None, 14, 14, 1024) 263168      activation_24[0][0]              \n",
      "__________________________________________________________________________________________________\n",
      "res4a_branch1 (Conv2D)          (None, 14, 14, 1024) 525312      activation_22[0][0]              \n",
      "__________________________________________________________________________________________________\n",
      "bn4a_branch2c (BatchNormalizati (None, 14, 14, 1024) 4096        res4a_branch2c[0][0]             \n",
      "__________________________________________________________________________________________________\n",
      "bn4a_branch1 (BatchNormalizatio (None, 14, 14, 1024) 4096        res4a_branch1[0][0]              \n",
      "__________________________________________________________________________________________________\n",
      "add_8 (Add)                     (None, 14, 14, 1024) 0           bn4a_branch2c[0][0]              \n",
      "                                                                 bn4a_branch1[0][0]               \n",
      "__________________________________________________________________________________________________\n",
      "activation_25 (Activation)      (None, 14, 14, 1024) 0           add_8[0][0]                      \n",
      "__________________________________________________________________________________________________\n",
      "res4b_branch2a (Conv2D)         (None, 14, 14, 256)  262400      activation_25[0][0]              \n",
      "__________________________________________________________________________________________________\n",
      "bn4b_branch2a (BatchNormalizati (None, 14, 14, 256)  1024        res4b_branch2a[0][0]             \n",
      "__________________________________________________________________________________________________\n",
      "activation_26 (Activation)      (None, 14, 14, 256)  0           bn4b_branch2a[0][0]              \n",
      "__________________________________________________________________________________________________\n",
      "res4b_branch2b (Conv2D)         (None, 14, 14, 256)  590080      activation_26[0][0]              \n",
      "__________________________________________________________________________________________________\n",
      "bn4b_branch2b (BatchNormalizati (None, 14, 14, 256)  1024        res4b_branch2b[0][0]             \n",
      "__________________________________________________________________________________________________\n",
      "activation_27 (Activation)      (None, 14, 14, 256)  0           bn4b_branch2b[0][0]              \n",
      "__________________________________________________________________________________________________\n",
      "res4b_branch2c (Conv2D)         (None, 14, 14, 1024) 263168      activation_27[0][0]              \n",
      "__________________________________________________________________________________________________\n",
      "bn4b_branch2c (BatchNormalizati (None, 14, 14, 1024) 4096        res4b_branch2c[0][0]             \n",
      "__________________________________________________________________________________________________\n",
      "add_9 (Add)                     (None, 14, 14, 1024) 0           bn4b_branch2c[0][0]              \n",
      "                                                                 activation_25[0][0]              \n",
      "__________________________________________________________________________________________________\n",
      "activation_28 (Activation)      (None, 14, 14, 1024) 0           add_9[0][0]                      \n",
      "__________________________________________________________________________________________________\n",
      "res4c_branch2a (Conv2D)         (None, 14, 14, 256)  262400      activation_28[0][0]              \n",
      "__________________________________________________________________________________________________\n",
      "bn4c_branch2a (BatchNormalizati (None, 14, 14, 256)  1024        res4c_branch2a[0][0]             \n",
      "__________________________________________________________________________________________________\n",
      "activation_29 (Activation)      (None, 14, 14, 256)  0           bn4c_branch2a[0][0]              \n",
      "__________________________________________________________________________________________________\n",
      "res4c_branch2b (Conv2D)         (None, 14, 14, 256)  590080      activation_29[0][0]              \n",
      "__________________________________________________________________________________________________\n",
      "bn4c_branch2b (BatchNormalizati (None, 14, 14, 256)  1024        res4c_branch2b[0][0]             \n",
      "__________________________________________________________________________________________________\n",
      "activation_30 (Activation)      (None, 14, 14, 256)  0           bn4c_branch2b[0][0]              \n",
      "__________________________________________________________________________________________________\n",
      "res4c_branch2c (Conv2D)         (None, 14, 14, 1024) 263168      activation_30[0][0]              \n",
      "__________________________________________________________________________________________________\n",
      "bn4c_branch2c (BatchNormalizati (None, 14, 14, 1024) 4096        res4c_branch2c[0][0]             \n",
      "__________________________________________________________________________________________________\n",
      "add_10 (Add)                    (None, 14, 14, 1024) 0           bn4c_branch2c[0][0]              \n",
      "                                                                 activation_28[0][0]              \n",
      "__________________________________________________________________________________________________\n",
      "activation_31 (Activation)      (None, 14, 14, 1024) 0           add_10[0][0]                     \n",
      "__________________________________________________________________________________________________\n",
      "res4d_branch2a (Conv2D)         (None, 14, 14, 256)  262400      activation_31[0][0]              \n",
      "__________________________________________________________________________________________________\n",
      "bn4d_branch2a (BatchNormalizati (None, 14, 14, 256)  1024        res4d_branch2a[0][0]             \n",
      "__________________________________________________________________________________________________\n",
      "activation_32 (Activation)      (None, 14, 14, 256)  0           bn4d_branch2a[0][0]              \n",
      "__________________________________________________________________________________________________\n",
      "res4d_branch2b (Conv2D)         (None, 14, 14, 256)  590080      activation_32[0][0]              \n",
      "__________________________________________________________________________________________________\n",
      "bn4d_branch2b (BatchNormalizati (None, 14, 14, 256)  1024        res4d_branch2b[0][0]             \n",
      "__________________________________________________________________________________________________\n",
      "activation_33 (Activation)      (None, 14, 14, 256)  0           bn4d_branch2b[0][0]              \n",
      "__________________________________________________________________________________________________\n",
      "res4d_branch2c (Conv2D)         (None, 14, 14, 1024) 263168      activation_33[0][0]              \n",
      "__________________________________________________________________________________________________\n",
      "bn4d_branch2c (BatchNormalizati (None, 14, 14, 1024) 4096        res4d_branch2c[0][0]             \n",
      "__________________________________________________________________________________________________\n",
      "add_11 (Add)                    (None, 14, 14, 1024) 0           bn4d_branch2c[0][0]              \n",
      "                                                                 activation_31[0][0]              \n",
      "__________________________________________________________________________________________________\n",
      "activation_34 (Activation)      (None, 14, 14, 1024) 0           add_11[0][0]                     \n",
      "__________________________________________________________________________________________________\n",
      "res4e_branch2a (Conv2D)         (None, 14, 14, 256)  262400      activation_34[0][0]              \n",
      "__________________________________________________________________________________________________\n",
      "bn4e_branch2a (BatchNormalizati (None, 14, 14, 256)  1024        res4e_branch2a[0][0]             \n",
      "__________________________________________________________________________________________________\n",
      "activation_35 (Activation)      (None, 14, 14, 256)  0           bn4e_branch2a[0][0]              \n",
      "__________________________________________________________________________________________________\n",
      "res4e_branch2b (Conv2D)         (None, 14, 14, 256)  590080      activation_35[0][0]              \n",
      "__________________________________________________________________________________________________\n",
      "bn4e_branch2b (BatchNormalizati (None, 14, 14, 256)  1024        res4e_branch2b[0][0]             \n",
      "__________________________________________________________________________________________________\n",
      "activation_36 (Activation)      (None, 14, 14, 256)  0           bn4e_branch2b[0][0]              \n",
      "__________________________________________________________________________________________________\n",
      "res4e_branch2c (Conv2D)         (None, 14, 14, 1024) 263168      activation_36[0][0]              \n",
      "__________________________________________________________________________________________________\n",
      "bn4e_branch2c (BatchNormalizati (None, 14, 14, 1024) 4096        res4e_branch2c[0][0]             \n",
      "__________________________________________________________________________________________________\n",
      "add_12 (Add)                    (None, 14, 14, 1024) 0           bn4e_branch2c[0][0]              \n",
      "                                                                 activation_34[0][0]              \n",
      "__________________________________________________________________________________________________\n",
      "activation_37 (Activation)      (None, 14, 14, 1024) 0           add_12[0][0]                     \n",
      "__________________________________________________________________________________________________\n",
      "res4f_branch2a (Conv2D)         (None, 14, 14, 256)  262400      activation_37[0][0]              \n",
      "__________________________________________________________________________________________________\n",
      "bn4f_branch2a (BatchNormalizati (None, 14, 14, 256)  1024        res4f_branch2a[0][0]             \n",
      "__________________________________________________________________________________________________\n",
      "activation_38 (Activation)      (None, 14, 14, 256)  0           bn4f_branch2a[0][0]              \n",
      "__________________________________________________________________________________________________\n",
      "res4f_branch2b (Conv2D)         (None, 14, 14, 256)  590080      activation_38[0][0]              \n",
      "__________________________________________________________________________________________________\n",
      "bn4f_branch2b (BatchNormalizati (None, 14, 14, 256)  1024        res4f_branch2b[0][0]             \n",
      "__________________________________________________________________________________________________\n",
      "activation_39 (Activation)      (None, 14, 14, 256)  0           bn4f_branch2b[0][0]              \n",
      "__________________________________________________________________________________________________\n",
      "res4f_branch2c (Conv2D)         (None, 14, 14, 1024) 263168      activation_39[0][0]              \n",
      "__________________________________________________________________________________________________\n",
      "bn4f_branch2c (BatchNormalizati (None, 14, 14, 1024) 4096        res4f_branch2c[0][0]             \n",
      "__________________________________________________________________________________________________\n",
      "add_13 (Add)                    (None, 14, 14, 1024) 0           bn4f_branch2c[0][0]              \n",
      "                                                                 activation_37[0][0]              \n",
      "__________________________________________________________________________________________________\n",
      "activation_40 (Activation)      (None, 14, 14, 1024) 0           add_13[0][0]                     \n",
      "__________________________________________________________________________________________________\n",
      "res5a_branch2a (Conv2D)         (None, 7, 7, 512)    524800      activation_40[0][0]              \n",
      "__________________________________________________________________________________________________\n",
      "bn5a_branch2a (BatchNormalizati (None, 7, 7, 512)    2048        res5a_branch2a[0][0]             \n",
      "__________________________________________________________________________________________________\n",
      "activation_41 (Activation)      (None, 7, 7, 512)    0           bn5a_branch2a[0][0]              \n",
      "__________________________________________________________________________________________________\n",
      "res5a_branch2b (Conv2D)         (None, 7, 7, 512)    2359808     activation_41[0][0]              \n",
      "__________________________________________________________________________________________________\n",
      "bn5a_branch2b (BatchNormalizati (None, 7, 7, 512)    2048        res5a_branch2b[0][0]             \n",
      "__________________________________________________________________________________________________\n",
      "activation_42 (Activation)      (None, 7, 7, 512)    0           bn5a_branch2b[0][0]              \n",
      "__________________________________________________________________________________________________\n",
      "res5a_branch2c (Conv2D)         (None, 7, 7, 2048)   1050624     activation_42[0][0]              \n",
      "__________________________________________________________________________________________________\n",
      "res5a_branch1 (Conv2D)          (None, 7, 7, 2048)   2099200     activation_40[0][0]              \n",
      "__________________________________________________________________________________________________\n",
      "bn5a_branch2c (BatchNormalizati (None, 7, 7, 2048)   8192        res5a_branch2c[0][0]             \n",
      "__________________________________________________________________________________________________\n",
      "bn5a_branch1 (BatchNormalizatio (None, 7, 7, 2048)   8192        res5a_branch1[0][0]              \n",
      "__________________________________________________________________________________________________\n",
      "add_14 (Add)                    (None, 7, 7, 2048)   0           bn5a_branch2c[0][0]              \n",
      "                                                                 bn5a_branch1[0][0]               \n",
      "__________________________________________________________________________________________________\n",
      "activation_43 (Activation)      (None, 7, 7, 2048)   0           add_14[0][0]                     \n",
      "__________________________________________________________________________________________________\n",
      "res5b_branch2a (Conv2D)         (None, 7, 7, 512)    1049088     activation_43[0][0]              \n",
      "__________________________________________________________________________________________________\n",
      "bn5b_branch2a (BatchNormalizati (None, 7, 7, 512)    2048        res5b_branch2a[0][0]             \n",
      "__________________________________________________________________________________________________\n",
      "activation_44 (Activation)      (None, 7, 7, 512)    0           bn5b_branch2a[0][0]              \n",
      "__________________________________________________________________________________________________\n",
      "res5b_branch2b (Conv2D)         (None, 7, 7, 512)    2359808     activation_44[0][0]              \n",
      "__________________________________________________________________________________________________\n",
      "bn5b_branch2b (BatchNormalizati (None, 7, 7, 512)    2048        res5b_branch2b[0][0]             \n",
      "__________________________________________________________________________________________________\n",
      "activation_45 (Activation)      (None, 7, 7, 512)    0           bn5b_branch2b[0][0]              \n",
      "__________________________________________________________________________________________________\n",
      "res5b_branch2c (Conv2D)         (None, 7, 7, 2048)   1050624     activation_45[0][0]              \n",
      "__________________________________________________________________________________________________\n",
      "bn5b_branch2c (BatchNormalizati (None, 7, 7, 2048)   8192        res5b_branch2c[0][0]             \n",
      "__________________________________________________________________________________________________\n",
      "add_15 (Add)                    (None, 7, 7, 2048)   0           bn5b_branch2c[0][0]              \n",
      "                                                                 activation_43[0][0]              \n",
      "__________________________________________________________________________________________________\n",
      "activation_46 (Activation)      (None, 7, 7, 2048)   0           add_15[0][0]                     \n",
      "__________________________________________________________________________________________________\n",
      "res5c_branch2a (Conv2D)         (None, 7, 7, 512)    1049088     activation_46[0][0]              \n",
      "__________________________________________________________________________________________________\n",
      "bn5c_branch2a (BatchNormalizati (None, 7, 7, 512)    2048        res5c_branch2a[0][0]             \n",
      "__________________________________________________________________________________________________\n",
      "activation_47 (Activation)      (None, 7, 7, 512)    0           bn5c_branch2a[0][0]              \n",
      "__________________________________________________________________________________________________\n",
      "res5c_branch2b (Conv2D)         (None, 7, 7, 512)    2359808     activation_47[0][0]              \n",
      "__________________________________________________________________________________________________\n",
      "bn5c_branch2b (BatchNormalizati (None, 7, 7, 512)    2048        res5c_branch2b[0][0]             \n",
      "__________________________________________________________________________________________________\n",
      "activation_48 (Activation)      (None, 7, 7, 512)    0           bn5c_branch2b[0][0]              \n",
      "__________________________________________________________________________________________________\n",
      "res5c_branch2c (Conv2D)         (None, 7, 7, 2048)   1050624     activation_48[0][0]              \n",
      "__________________________________________________________________________________________________\n",
      "bn5c_branch2c (BatchNormalizati (None, 7, 7, 2048)   8192        res5c_branch2c[0][0]             \n",
      "__________________________________________________________________________________________________\n",
      "add_16 (Add)                    (None, 7, 7, 2048)   0           bn5c_branch2c[0][0]              \n",
      "                                                                 activation_46[0][0]              \n",
      "__________________________________________________________________________________________________\n",
      "activation_49 (Activation)      (None, 7, 7, 2048)   0           add_16[0][0]                     \n",
      "__________________________________________________________________________________________________\n",
      "sequential_1 (Sequential)       (None, 1)            1049601     activation_49[0][0]              \n",
      "==================================================================================================\n",
      "Total params: 24,637,313\n",
      "Trainable params: 2,104,321\n",
      "Non-trainable params: 22,532,992\n",
      "__________________________________________________________________________________________________\n"
     ]
    }
   ],
   "source": [
    "model_history.model.summary()"
   ]
  },
  {
   "cell_type": "markdown",
   "metadata": {},
   "source": [
    "### Save model "
   ]
  },
  {
   "cell_type": "code",
   "execution_count": 25,
   "metadata": {},
   "outputs": [],
   "source": [
    "# save model artchitecture \n",
    "resnet50_model_5_up = model_history.model\n",
    "resnet50_model_5_up_json = resnet50_model_5_up.to_json()"
   ]
  },
  {
   "cell_type": "code",
   "execution_count": 26,
   "metadata": {},
   "outputs": [],
   "source": [
    "# serialize model to JSON\n",
    "with open(\"../tuning_data/resnet_data/resnet50_model_5_up.json\", \"w\") as json_file:\n",
    "    json_file.write(resnet50_model_5_up_json)"
   ]
  },
  {
   "cell_type": "code",
   "execution_count": 29,
   "metadata": {},
   "outputs": [],
   "source": [
    "# load json and create model\n",
    "json_file = open('../tuning_data/resnet_data/resnet50_model_5_up.json', 'r')\n",
    "loaded_model_json = json_file.read()\n",
    "json_file.close()\n",
    "loaded_model = model_from_json(loaded_model_json)"
   ]
  },
  {
   "cell_type": "code",
   "execution_count": 100,
   "metadata": {},
   "outputs": [],
   "source": [
    "# load model weight yewear_decay_\n",
    "loaded_model.load_weights('../tuning_data/resnet_data/best_resnet50_model_eyewear_1.h5')"
   ]
  },
  {
   "cell_type": "code",
   "execution_count": 101,
   "metadata": {},
   "outputs": [
    {
     "name": "stdout",
     "output_type": "stream",
     "text": [
      "Found 127 validated image filenames belonging to 2 classes.\n"
     ]
    }
   ],
   "source": [
    "test_gen = ImageDataGenerator(preprocessing_function=preprocess_input)\n",
    "test_generator =  test_gen.flow_from_dataframe(\n",
    "    dataframe=test_df,\n",
    "    directory='../data/pics',\n",
    "    x_col='pic_id',\n",
    "    y_col='eyewear',\n",
    "    batch_size=127,\n",
    "    target_size=(224,224),\n",
    "    class_mode = 'binary',\n",
    "    shuffle = False)"
   ]
  },
  {
   "cell_type": "code",
   "execution_count": 102,
   "metadata": {},
   "outputs": [],
   "source": [
    "loaded_model.compile(loss='binary_crossentropy',\n",
    "             optimizer=optimizers.SGD(lr=1e-4, momentum=0.9),\n",
    "             metrics=['accuracy'])"
   ]
  },
  {
   "cell_type": "code",
   "execution_count": 103,
   "metadata": {},
   "outputs": [
    {
     "data": {
      "text/plain": [
       "[0.22826288640499115, 0.9212598204612732]"
      ]
     },
     "execution_count": 103,
     "metadata": {},
     "output_type": "execute_result"
    }
   ],
   "source": [
    "loaded_model.evaluate_generator(test_generator)"
   ]
  },
  {
   "cell_type": "code",
   "execution_count": 104,
   "metadata": {},
   "outputs": [],
   "source": [
    "feature, label = next(test_generator)"
   ]
  },
  {
   "cell_type": "code",
   "execution_count": 105,
   "metadata": {},
   "outputs": [],
   "source": [
    "# save the model\n",
    "y_pred = np.around(loaded_model.predict_generator(test_generator, workers=8))"
   ]
  },
  {
   "cell_type": "code",
   "execution_count": 106,
   "metadata": {
    "scrolled": true
   },
   "outputs": [
    {
     "data": {
      "text/plain": [
       "127"
      ]
     },
     "execution_count": 106,
     "metadata": {},
     "output_type": "execute_result"
    }
   ],
   "source": [
    "len(label)"
   ]
  },
  {
   "cell_type": "code",
   "execution_count": 107,
   "metadata": {},
   "outputs": [],
   "source": [
    "from sklearn.metrics import confusion_matrix, classification_report, roc_curve, roc_auc_score"
   ]
  },
  {
   "cell_type": "code",
   "execution_count": 108,
   "metadata": {},
   "outputs": [],
   "source": [
    "fpr, tpr, thresholds = roc_curve(label, y_pred)\n",
    "area = roc_auc_score(label, y_pred)"
   ]
  },
  {
   "cell_type": "code",
   "execution_count": 109,
   "metadata": {},
   "outputs": [
    {
     "data": {
      "text/plain": [
       "0.9217509920634921"
      ]
     },
     "execution_count": 109,
     "metadata": {},
     "output_type": "execute_result"
    }
   ],
   "source": [
    "area"
   ]
  },
  {
   "cell_type": "code",
   "execution_count": 110,
   "metadata": {},
   "outputs": [
    {
     "data": {
      "image/png": "[encoded data removed]",
      "text/plain": [
       "<Figure size 432x288 with 1 Axes>"
      ]
     },
     "metadata": {
      "needs_background": "light"
     },
     "output_type": "display_data"
    }
   ],
   "source": [
    "plt.title('Receiver Operating Characteristic')\n",
    "plt.plot(fpr, tpr, 'b', label = 'AUC = %0.2f' % area)\n",
    "plt.legend(loc = 'lower right')\n",
    "plt.plot([0, 1], [0, 1],'r--')\n",
    "plt.xlim([0, 1])\n",
    "plt.ylim([0, 1])\n",
    "plt.ylabel('True Positive Rate')\n",
    "plt.xlabel('False Positive Rate')\n",
    "plt.show()\n"
   ]
  },
  {
   "cell_type": "code",
   "execution_count": 111,
   "metadata": {},
   "outputs": [
    {
     "data": {
      "text/plain": [
       "array([[62,  1],\n",
       "       [ 9, 55]])"
      ]
     },
     "execution_count": 111,
     "metadata": {},
     "output_type": "execute_result"
    }
   ],
   "source": [
    "confusion_matrix(label, y_pred )"
   ]
  },
  {
   "cell_type": "code",
   "execution_count": 77,
   "metadata": {},
   "outputs": [
    {
     "name": "stdout",
     "output_type": "stream",
     "text": [
      "              precision    recall  f1-score   support\n",
      "\n",
      "         0.0       0.87      0.97      0.92        63\n",
      "         1.0       0.96      0.86      0.91        64\n",
      "\n",
      "    accuracy                           0.91       127\n",
      "   macro avg       0.92      0.91      0.91       127\n",
      "weighted avg       0.92      0.91      0.91       127\n",
      "\n"
     ]
    }
   ],
   "source": [
    "print(classification_report(label, y_pred))"
   ]
  },
  {
   "cell_type": "code",
   "execution_count": 112,
   "metadata": {},
   "outputs": [
    {
     "name": "stdout",
     "output_type": "stream",
     "text": [
      "              precision    recall  f1-score   support\n",
      "\n",
      "         0.0       0.87      0.98      0.93        63\n",
      "         1.0       0.98      0.86      0.92        64\n",
      "\n",
      "    accuracy                           0.92       127\n",
      "   macro avg       0.93      0.92      0.92       127\n",
      "weighted avg       0.93      0.92      0.92       127\n",
      "\n"
     ]
    }
   ],
   "source": [
    "print(classification_report(label, y_pred))"
   ]
  },
  {
   "cell_type": "code",
   "execution_count": 47,
   "metadata": {},
   "outputs": [
    {
     "name": "stderr",
     "output_type": "stream",
     "text": [
      "W0901 22:01:58.699104 140378810799936 image.py:693] Clipping input data to the valid range for imshow with RGB data ([0..1] for floats or [0..255] for integers).\n"
     ]
    },
    {
     "data": {
      "image/png": "[encoded data removed]",
      "text/plain": [
       "<Figure size 432x288 with 1 Axes>"
      ]
     },
     "metadata": {
      "needs_background": "light"
     },
     "output_type": "display_data"
    }
   ],
   "source": [
    "plt.imshow(feature[1])\n",
    "plt.show()"
   ]
  }
 ],
 "metadata": {
  "kernelspec": {
   "display_name": "Python 3",
   "language": "python",
   "name": "python3"
  },
  "language_info": {
   "codemirror_mode": {
    "name": "ipython",
    "version": 3
   },
   "file_extension": ".py",
   "mimetype": "text/x-python",
   "name": "python",
   "nbconvert_exporter": "python",
   "pygments_lexer": "ipython3",
   "version": "3.7.3"
  }
 },
 "nbformat": 4,
 "nbformat_minor": 2
}
