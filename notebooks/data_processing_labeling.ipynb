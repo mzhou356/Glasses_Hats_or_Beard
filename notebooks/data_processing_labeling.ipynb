{
 "cells": [
  {
   "cell_type": "markdown",
   "metadata": {},
   "source": [
    "### Images Directory to DataFrame with MultiLabels:\n",
    "\n",
    "* Images are scraped from google image manually:\n",
    "   * [blog link for scraping](https://www.pyimagesearch.com/2017/12/04/how-to-create-a-deep-learning-dataset-using-google-images/)\n",
    "   * images are saved in a local file (can't distribute due to copyrights)\n",
    "     * edit image directory for your own code if use this notebook\n",
    "     \n",
    " -----\n",
    " \n",
    " #### Import Necessary Libaries"
   ]
  },
  {
   "cell_type": "code",
   "execution_count": 18,
   "metadata": {},
   "outputs": [],
   "source": [
    "import os\n",
    "import pandas as pd\n",
    "import pickle"
   ]
  },
  {
   "cell_type": "code",
   "execution_count": 19,
   "metadata": {},
   "outputs": [],
   "source": [
    "def dict_from_data():\n",
    "    '''\n",
    "    input: a folder structure (data with subfolders with label as the foldername, glasses,beard, and hats)\n",
    "            this folder structure is in a local folder, not accessible, please modify function for your usages\n",
    "    output: a dictionary with imagename and labels as a list\n",
    "    '''\n",
    "    result = {} # final dictionary\n",
    "    for dirname, _, files in os.walk('/Datastore/cropped'):\n",
    "        if len(dirname)<=18: # ignore other filess in the cropped folders \n",
    "            continue\n",
    "        label = os.path.split(dirname)[-1]\n",
    "        for pic in files:\n",
    "            if pic == '.DS_Store': # mac issue, make sure it is not in the dictionary\n",
    "                continue\n",
    "            if pic in result:\n",
    "                result[pic].append(label)\n",
    "            else:\n",
    "                result[pic]=[label]\n",
    "    return result "
   ]
  },
  {
   "cell_type": "markdown",
   "metadata": {},
   "source": [
    "#### Convert Image data directories into a dictionary"
   ]
  },
  {
   "cell_type": "code",
   "execution_count": 20,
   "metadata": {},
   "outputs": [],
   "source": [
    "img_dict =dict_from_data()"
   ]
  },
  {
   "cell_type": "code",
   "execution_count": 22,
   "metadata": {},
   "outputs": [
    {
     "data": {
      "text/plain": [
       "653"
      ]
     },
     "execution_count": 22,
     "metadata": {},
     "output_type": "execute_result"
    }
   ],
   "source": [
    "len(img_dict)"
   ]
  },
  {
   "cell_type": "code",
   "execution_count": 4,
   "metadata": {},
   "outputs": [],
   "source": [
    "pics_name = []\n",
    "beard = []\n",
    "hat = []\n",
    "eyewear = []\n",
    "for k, v in file_dict.items():\n",
    "    pics_name.append(k)\n",
    "    if 'beard' in v:\n",
    "        beard.append(1)\n",
    "    else:\n",
    "        beard.append(0)\n",
    "    if 'hat' in v:\n",
    "        hat.append(1)\n",
    "    else:\n",
    "        hat.append(0)\n",
    "    if 'eyewear' in v:\n",
    "        eyewear.append(1)\n",
    "    else:\n",
    "        eyewear.append(0)    "
   ]
  },
  {
   "cell_type": "code",
   "execution_count": 5,
   "metadata": {},
   "outputs": [],
   "source": [
    "pic_df = pd.DataFrame({'beard':beard, 'hat':hat, 'eyewear':eyewear}, index = pics_name)"
   ]
  },
  {
   "cell_type": "code",
   "execution_count": 6,
   "metadata": {},
   "outputs": [
    {
     "data": {
      "text/html": [
       "<div>\n",
       "<style scoped>\n",
       "    .dataframe tbody tr th:only-of-type {\n",
       "        vertical-align: middle;\n",
       "    }\n",
       "\n",
       "    .dataframe tbody tr th {\n",
       "        vertical-align: top;\n",
       "    }\n",
       "\n",
       "    .dataframe thead th {\n",
       "        text-align: right;\n",
       "    }\n",
       "</style>\n",
       "<table border=\"1\" class=\"dataframe\">\n",
       "  <thead>\n",
       "    <tr style=\"text-align: right;\">\n",
       "      <th></th>\n",
       "      <th>beard</th>\n",
       "      <th>hat</th>\n",
       "      <th>eyewear</th>\n",
       "    </tr>\n",
       "  </thead>\n",
       "  <tbody>\n",
       "    <tr>\n",
       "      <th>01006.jpg</th>\n",
       "      <td>0</td>\n",
       "      <td>1</td>\n",
       "      <td>0</td>\n",
       "    </tr>\n",
       "    <tr>\n",
       "      <th>00981.jpg</th>\n",
       "      <td>0</td>\n",
       "      <td>1</td>\n",
       "      <td>0</td>\n",
       "    </tr>\n",
       "    <tr>\n",
       "      <th>01090.jpg</th>\n",
       "      <td>0</td>\n",
       "      <td>0</td>\n",
       "      <td>1</td>\n",
       "    </tr>\n",
       "    <tr>\n",
       "      <th>00537.jpg</th>\n",
       "      <td>0</td>\n",
       "      <td>1</td>\n",
       "      <td>1</td>\n",
       "    </tr>\n",
       "    <tr>\n",
       "      <th>01256.jpg</th>\n",
       "      <td>0</td>\n",
       "      <td>1</td>\n",
       "      <td>1</td>\n",
       "    </tr>\n",
       "  </tbody>\n",
       "</table>\n",
       "</div>"
      ],
      "text/plain": [
       "           beard  hat  eyewear\n",
       "01006.jpg      0    1        0\n",
       "00981.jpg      0    1        0\n",
       "01090.jpg      0    0        1\n",
       "00537.jpg      0    1        1\n",
       "01256.jpg      0    1        1"
      ]
     },
     "execution_count": 6,
     "metadata": {},
     "output_type": "execute_result"
    }
   ],
   "source": [
    "pic_df.tail()"
   ]
  },
  {
   "cell_type": "code",
   "execution_count": 7,
   "metadata": {},
   "outputs": [
    {
     "data": {
      "text/plain": [
       "0    426\n",
       "1    227\n",
       "Name: beard, dtype: int64"
      ]
     },
     "execution_count": 7,
     "metadata": {},
     "output_type": "execute_result"
    }
   ],
   "source": [
    "pic_df.beard.value_counts()"
   ]
  },
  {
   "cell_type": "code",
   "execution_count": 8,
   "metadata": {},
   "outputs": [
    {
     "data": {
      "text/plain": [
       "0    398\n",
       "1    255\n",
       "Name: hat, dtype: int64"
      ]
     },
     "execution_count": 8,
     "metadata": {},
     "output_type": "execute_result"
    }
   ],
   "source": [
    "pic_df.hat.value_counts()"
   ]
  },
  {
   "cell_type": "code",
   "execution_count": 9,
   "metadata": {},
   "outputs": [
    {
     "data": {
      "text/plain": [
       "1    337\n",
       "0    316\n",
       "Name: eyewear, dtype: int64"
      ]
     },
     "execution_count": 9,
     "metadata": {},
     "output_type": "execute_result"
    }
   ],
   "source": [
    "pic_df.eyewear.value_counts()"
   ]
  },
  {
   "cell_type": "code",
   "execution_count": 10,
   "metadata": {},
   "outputs": [],
   "source": [
    "# save datalabel dataframe \n",
    "pic_df.to_pickle('finished_pickles/pic_df.pkl')"
   ]
  },
  {
   "cell_type": "code",
   "execution_count": 11,
   "metadata": {
    "scrolled": false
   },
   "outputs": [],
   "source": [
    "pic_df = pd.read_pickle('finished_pickles/pic_df.pkl')"
   ]
  },
  {
   "cell_type": "code",
   "execution_count": 12,
   "metadata": {},
   "outputs": [
    {
     "name": "stdout",
     "output_type": "stream",
     "text": [
      "<class 'pandas.core.frame.DataFrame'>\n",
      "Index: 653 entries, 00670.jpg to 01256.jpg\n",
      "Data columns (total 3 columns):\n",
      "beard      653 non-null int64\n",
      "hat        653 non-null int64\n",
      "eyewear    653 non-null int64\n",
      "dtypes: int64(3)\n",
      "memory usage: 20.4+ KB\n"
     ]
    }
   ],
   "source": [
    "pic_df.info()"
   ]
  }
 ],
 "metadata": {
  "kernelspec": {
   "display_name": "Python 3",
   "language": "python",
   "name": "python3"
  },
  "language_info": {
   "codemirror_mode": {
    "name": "ipython",
    "version": 3
   },
   "file_extension": ".py",
   "mimetype": "text/x-python",
   "name": "python",
   "nbconvert_exporter": "python",
   "pygments_lexer": "ipython3",
   "version": "3.7.3"
  }
 },
 "nbformat": 4,
 "nbformat_minor": 2
}
