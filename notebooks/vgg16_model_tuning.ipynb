{
 "cells": [
  {
   "cell_type": "code",
   "execution_count": 1,
   "metadata": {},
   "outputs": [
    {
     "name": "stderr",
     "output_type": "stream",
     "text": [
      "Using TensorFlow backend.\n",
      "WARNING: Logging before flag parsing goes to stderr.\n",
      "W0827 22:47:24.168667 140658272417600 deprecation_wrapper.py:119] From /home/mindy/anaconda3/lib/python3.7/site-packages/keras/backend/tensorflow_backend.py:190: The name tf.get_default_session is deprecated. Please use tf.compat.v1.get_default_session instead.\n",
      "\n",
      "W0827 22:47:24.169420 140658272417600 deprecation_wrapper.py:119] From /home/mindy/anaconda3/lib/python3.7/site-packages/keras/backend/tensorflow_backend.py:207: The name tf.global_variables is deprecated. Please use tf.compat.v1.global_variables instead.\n",
      "\n"
     ]
    }
   ],
   "source": [
    "import tensorflow as tf\n",
    "import keras\n",
    "from keras.backend.tensorflow_backend import set_session\n",
    "config = tf.ConfigProto()\n",
    "config.gpu_options.allow_growth = True  # dynamically grow the memory used on the GPU\n",
    "config.log_device_placement = True  # to log device placement (on which device the operation ran)\n",
    "                                    # (nothing gets printed in Jupyter, only if you run it standalone)\n",
    "sess = tf.Session(config=config)\n",
    "set_session(sess)  # set this TensorFlow session as the default session for Keras\n",
    "keras.backend.get_session().run(tf.global_variables_initializer())  "
   ]
  },
  {
   "cell_type": "code",
   "execution_count": 2,
   "metadata": {},
   "outputs": [],
   "source": [
    "import pandas as pd\n",
    "import numpy as np\n",
    "import matplotlib.pyplot as plt\n",
    "%matplotlib inline\n",
    "from keras.models import Sequential\n",
    "from keras.layers import Dropout, Flatten, Dense\n",
    "from keras.applications.vgg16 import VGG16\n",
    "import warnings\n",
    "warnings.filterwarnings('ignore')"
   ]
  },
  {
   "cell_type": "code",
   "execution_count": 3,
   "metadata": {},
   "outputs": [],
   "source": [
    "# load train and test df for labels \n",
    "train_df = pd.read_pickle('finished_pickles/train_df_glasses.pkl')\n",
    "test_df = pd.read_pickle('finished_pickles/test_df_glasses.pkl')"
   ]
  },
  {
   "cell_type": "code",
   "execution_count": 35,
   "metadata": {},
   "outputs": [],
   "source": [
    "train_data = np.load(open('bottleneck_model_weights/bottleneck_features_train.npy','rb'))\n",
    "train_label = np.array(train_df.eyewear.map({'Not_Glasses':0, 'Glasses':1}))\n",
    "    \n",
    "test_data = np.load(open('bottleneck_model_weights/bottleneck_features_test.npy','rb'))\n",
    "test_label = np.array(test_df.eyewear.map({'Not_Glasses':0, 'Glasses':1}))[:-3]  # didn't run all 131 samples "
   ]
  },
  {
   "cell_type": "code",
   "execution_count": 50,
   "metadata": {},
   "outputs": [
    {
     "data": {
      "text/plain": [
       "(512,)"
      ]
     },
     "execution_count": 50,
     "metadata": {},
     "output_type": "execute_result"
    }
   ],
   "source": [
    "train_label[:-10].shape"
   ]
  },
  {
   "cell_type": "code",
   "execution_count": 53,
   "metadata": {},
   "outputs": [],
   "source": [
    "def train_top_model():\n",
    "    train_data = np.load(open('bottleneck_model_weights/bottleneck_features_train.npy','rb'))\n",
    "    train_label = np.array(train_df.eyewear.map({'Not_Glasses':0, 'Glasses':1}))[:-10]\n",
    "    \n",
    "    test_data = np.load(open('bottleneck_model_weights/bottleneck_features_test.npy','rb'))\n",
    "    test_label = np.array(test_df.eyewear.map({'Not_Glasses':0, 'Glasses':1}))[:-3]\n",
    "    \n",
    "    model = Sequential()\n",
    "    model.add(Flatten(input_shape=train_data.shape[1:]))\n",
    "    model.add(Dense(256, activation='relu'))\n",
    "    model.add(Dropout(0.5))\n",
    "    model.add(Dense(1, activation='sigmoid'))\n",
    "    \n",
    "    model.compile(optimizer='rmsprop',\n",
    "                 loss='binary_crossentropy',\n",
    "                 metrics=['accuracy'])\n",
    "    \n",
    "    model.fit(train_data, train_label,\n",
    "             epochs=50,\n",
    "             batch_size=16,\n",
    "             validation_data=(test_data,test_label))\n",
    "    model.save_weights('bottleneck_model_weights/bottleneck_vgg_model.h5')"
   ]
  },
  {
   "cell_type": "code",
   "execution_count": 54,
   "metadata": {},
   "outputs": [
    {
     "name": "stdout",
     "output_type": "stream",
     "text": [
      "Train on 512 samples, validate on 128 samples\n",
      "Epoch 1/50\n",
      "512/512 [==============================] - 0s 715us/step - loss: 1.4844 - acc: 0.6133 - val_loss: 0.5525 - val_acc: 0.6875\n",
      "Epoch 2/50\n",
      "512/512 [==============================] - 0s 199us/step - loss: 0.5770 - acc: 0.7188 - val_loss: 0.7599 - val_acc: 0.6406\n",
      "Epoch 3/50\n",
      "512/512 [==============================] - 0s 202us/step - loss: 0.4187 - acc: 0.8223 - val_loss: 0.8598 - val_acc: 0.6406\n",
      "Epoch 4/50\n",
      "512/512 [==============================] - 0s 195us/step - loss: 0.4532 - acc: 0.8008 - val_loss: 0.4884 - val_acc: 0.7812\n",
      "Epoch 5/50\n",
      "512/512 [==============================] - 0s 194us/step - loss: 0.2966 - acc: 0.8848 - val_loss: 0.5101 - val_acc: 0.7969\n",
      "Epoch 6/50\n",
      "512/512 [==============================] - 0s 190us/step - loss: 0.2718 - acc: 0.8945 - val_loss: 1.0055 - val_acc: 0.6250\n",
      "Epoch 7/50\n",
      "512/512 [==============================] - 0s 191us/step - loss: 0.2571 - acc: 0.8965 - val_loss: 0.4931 - val_acc: 0.7734\n",
      "Epoch 8/50\n",
      "512/512 [==============================] - 0s 198us/step - loss: 0.1854 - acc: 0.9199 - val_loss: 0.6307 - val_acc: 0.7422\n",
      "Epoch 9/50\n",
      "512/512 [==============================] - 0s 196us/step - loss: 0.1353 - acc: 0.9551 - val_loss: 0.9189 - val_acc: 0.7578\n",
      "Epoch 10/50\n",
      "512/512 [==============================] - 0s 198us/step - loss: 0.1553 - acc: 0.9297 - val_loss: 0.7467 - val_acc: 0.7266\n",
      "Epoch 11/50\n",
      "512/512 [==============================] - 0s 198us/step - loss: 0.1158 - acc: 0.9590 - val_loss: 0.6126 - val_acc: 0.7969\n",
      "Epoch 12/50\n",
      "512/512 [==============================] - 0s 194us/step - loss: 0.0729 - acc: 0.9785 - val_loss: 1.0346 - val_acc: 0.7031\n",
      "Epoch 13/50\n",
      "512/512 [==============================] - 0s 193us/step - loss: 0.0979 - acc: 0.9668 - val_loss: 0.6218 - val_acc: 0.8281\n",
      "Epoch 14/50\n",
      "512/512 [==============================] - 0s 193us/step - loss: 0.0573 - acc: 0.9766 - val_loss: 0.6489 - val_acc: 0.8359\n",
      "Epoch 15/50\n",
      "512/512 [==============================] - 0s 196us/step - loss: 0.0438 - acc: 0.9863 - val_loss: 0.7368 - val_acc: 0.8047\n",
      "Epoch 16/50\n",
      "512/512 [==============================] - 0s 193us/step - loss: 0.0957 - acc: 0.9668 - val_loss: 0.7718 - val_acc: 0.8203\n",
      "Epoch 17/50\n",
      "512/512 [==============================] - 0s 204us/step - loss: 0.0668 - acc: 0.9707 - val_loss: 0.7339 - val_acc: 0.8203\n",
      "Epoch 18/50\n",
      "512/512 [==============================] - 0s 200us/step - loss: 0.0333 - acc: 0.9922 - val_loss: 0.8415 - val_acc: 0.8125\n",
      "Epoch 19/50\n",
      "512/512 [==============================] - 0s 190us/step - loss: 0.0334 - acc: 0.9863 - val_loss: 0.8569 - val_acc: 0.8203\n",
      "Epoch 20/50\n",
      "512/512 [==============================] - 0s 198us/step - loss: 0.0228 - acc: 0.9922 - val_loss: 0.8490 - val_acc: 0.8203\n",
      "Epoch 21/50\n",
      "512/512 [==============================] - 0s 192us/step - loss: 0.0126 - acc: 0.9961 - val_loss: 0.9359 - val_acc: 0.7969\n",
      "Epoch 22/50\n",
      "512/512 [==============================] - 0s 193us/step - loss: 0.0614 - acc: 0.9805 - val_loss: 0.8420 - val_acc: 0.8203\n",
      "Epoch 23/50\n",
      "512/512 [==============================] - 0s 195us/step - loss: 0.0180 - acc: 0.9941 - val_loss: 0.9555 - val_acc: 0.7969\n",
      "Epoch 24/50\n",
      "512/512 [==============================] - 0s 200us/step - loss: 0.0271 - acc: 0.9883 - val_loss: 0.9493 - val_acc: 0.8125\n",
      "Epoch 25/50\n",
      "512/512 [==============================] - 0s 201us/step - loss: 0.0015 - acc: 1.0000 - val_loss: 1.0952 - val_acc: 0.8047\n",
      "Epoch 26/50\n",
      "512/512 [==============================] - 0s 205us/step - loss: 0.0841 - acc: 0.9746 - val_loss: 0.9482 - val_acc: 0.8125\n",
      "Epoch 27/50\n",
      "512/512 [==============================] - 0s 201us/step - loss: 0.0014 - acc: 1.0000 - val_loss: 1.0289 - val_acc: 0.8203\n",
      "Epoch 28/50\n",
      "512/512 [==============================] - 0s 200us/step - loss: 0.0580 - acc: 0.9844 - val_loss: 0.9996 - val_acc: 0.8125\n",
      "Epoch 29/50\n",
      "512/512 [==============================] - 0s 192us/step - loss: 5.9747e-04 - acc: 1.0000 - val_loss: 1.0855 - val_acc: 0.8125\n",
      "Epoch 30/50\n",
      "512/512 [==============================] - 0s 200us/step - loss: 0.0214 - acc: 0.9922 - val_loss: 0.9893 - val_acc: 0.8047\n",
      "Epoch 31/50\n",
      "512/512 [==============================] - 0s 200us/step - loss: 0.0017 - acc: 1.0000 - val_loss: 1.0980 - val_acc: 0.8047\n",
      "Epoch 32/50\n",
      "512/512 [==============================] - 0s 204us/step - loss: 0.0116 - acc: 0.9980 - val_loss: 1.1403 - val_acc: 0.8203\n",
      "Epoch 33/50\n",
      "512/512 [==============================] - 0s 197us/step - loss: 0.0192 - acc: 0.9902 - val_loss: 1.1299 - val_acc: 0.8281\n",
      "Epoch 34/50\n",
      "512/512 [==============================] - 0s 191us/step - loss: 0.0343 - acc: 0.9863 - val_loss: 1.1631 - val_acc: 0.8203\n",
      "Epoch 35/50\n",
      "512/512 [==============================] - 0s 187us/step - loss: 2.6465e-04 - acc: 1.0000 - val_loss: 1.2626 - val_acc: 0.8047\n",
      "Epoch 36/50\n",
      "512/512 [==============================] - 0s 193us/step - loss: 0.0053 - acc: 0.9980 - val_loss: 1.2961 - val_acc: 0.8047\n",
      "Epoch 37/50\n",
      "512/512 [==============================] - 0s 197us/step - loss: 0.0223 - acc: 0.9922 - val_loss: 1.4112 - val_acc: 0.7969\n",
      "Epoch 38/50\n",
      "512/512 [==============================] - 0s 193us/step - loss: 0.0012 - acc: 1.0000 - val_loss: 1.3701 - val_acc: 0.7969\n",
      "Epoch 39/50\n",
      "512/512 [==============================] - 0s 194us/step - loss: 0.0154 - acc: 0.9961 - val_loss: 1.3870 - val_acc: 0.8047\n",
      "Epoch 40/50\n",
      "512/512 [==============================] - 0s 198us/step - loss: 2.9146e-04 - acc: 1.0000 - val_loss: 1.4947 - val_acc: 0.7969\n",
      "Epoch 41/50\n",
      "512/512 [==============================] - 0s 200us/step - loss: 0.0060 - acc: 0.9980 - val_loss: 1.6214 - val_acc: 0.7969\n",
      "Epoch 42/50\n",
      "512/512 [==============================] - 0s 195us/step - loss: 0.0096 - acc: 0.9961 - val_loss: 1.4340 - val_acc: 0.7969\n",
      "Epoch 43/50\n",
      "512/512 [==============================] - 0s 193us/step - loss: 0.0111 - acc: 0.9980 - val_loss: 1.4221 - val_acc: 0.8047\n",
      "Epoch 44/50\n",
      "512/512 [==============================] - 0s 198us/step - loss: 0.0012 - acc: 1.0000 - val_loss: 1.4456 - val_acc: 0.8047\n",
      "Epoch 45/50\n",
      "512/512 [==============================] - 0s 195us/step - loss: 1.7444e-04 - acc: 1.0000 - val_loss: 1.5022 - val_acc: 0.8125\n",
      "Epoch 46/50\n",
      "512/512 [==============================] - 0s 197us/step - loss: 0.0086 - acc: 0.9980 - val_loss: 1.4878 - val_acc: 0.8047\n",
      "Epoch 47/50\n",
      "512/512 [==============================] - 0s 196us/step - loss: 0.0433 - acc: 0.9922 - val_loss: 1.4720 - val_acc: 0.8125\n",
      "Epoch 48/50\n",
      "512/512 [==============================] - 0s 198us/step - loss: 4.5187e-04 - acc: 1.0000 - val_loss: 1.5052 - val_acc: 0.7812\n",
      "Epoch 49/50\n",
      "512/512 [==============================] - 0s 192us/step - loss: 1.2887e-04 - acc: 1.0000 - val_loss: 1.5647 - val_acc: 0.7891\n",
      "Epoch 50/50\n",
      "512/512 [==============================] - 0s 188us/step - loss: 0.0026 - acc: 0.9980 - val_loss: 1.6998 - val_acc: 0.7891\n"
     ]
    }
   ],
   "source": [
    "train_top_model()"
   ]
  },
  {
   "cell_type": "code",
   "execution_count": null,
   "metadata": {},
   "outputs": [],
   "source": []
  }
 ],
 "metadata": {
  "kernelspec": {
   "display_name": "Python 3",
   "language": "python",
   "name": "python3"
  },
  "language_info": {
   "codemirror_mode": {
    "name": "ipython",
    "version": 3
   },
   "file_extension": ".py",
   "mimetype": "text/x-python",
   "name": "python",
   "nbconvert_exporter": "python",
   "pygments_lexer": "ipython3",
   "version": "3.7.3"
  }
 },
 "nbformat": 4,
 "nbformat_minor": 2
}
