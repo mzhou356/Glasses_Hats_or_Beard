{
 "cells": [
  {
   "cell_type": "markdown",
   "metadata": {},
   "source": [
    "## Transfer Learning Tuning:\n",
    "  * model parameter and other information can be found below:\n",
    "     * [source](https://blog.keras.io/building-powerful-image-classification-models-using-very-little-data.html)\n",
    "     \n",
    "  * base_model: use vgg16 and freeze at bottleneck layer (stop right before flatten layer) \n",
    "  * top_model: tune dense layers (parameters are inspired by source)\n",
    "  \n",
    "---\n",
    "#### This cell is required in order to use GPU for running the model "
   ]
  },
  {
   "cell_type": "code",
   "execution_count": 3,
   "metadata": {},
   "outputs": [],
   "source": [
    "import warnings\n",
    "warnings.filterwarnings('ignore')\n",
    "import tensorflow as tf\n",
    "import keras\n",
    "from keras.backend.tensorflow_backend import set_session\n",
    "config = tf.ConfigProto()\n",
    "config.gpu_options.allow_growth = True  # dynamically grow the memory used on the GPU\n",
    "config.log_device_placement = True  # to log device placement (on which device the operation ran)\n",
    "                                    # (nothing gets printed in Jupyter, only if you run it standalone)\n",
    "sess = tf.Session(config=config)\n",
    "set_session(sess)  # set this TensorFlow session as the default session for Keras\n",
    "keras.backend.get_session().run(tf.global_variables_initializer())  "
   ]
  },
  {
   "cell_type": "markdown",
   "metadata": {},
   "source": [
    "---\n",
    "#### Import necessary libraries"
   ]
  },
  {
   "cell_type": "code",
   "execution_count": 14,
   "metadata": {},
   "outputs": [],
   "source": [
    "import pandas as pd\n",
    "import numpy as np\n",
    "import matplotlib.pyplot as plt\n",
    "%matplotlib inline\n",
    "from keras_preprocessing.image import ImageDataGenerator\n",
    "from keras.models import Sequential, Model\n",
    "from keras.layers import Dropout, Flatten, Dense\n",
    "from keras.applications.vgg16 import VGG16\n",
    "from keras import optimizers"
   ]
  },
  {
   "cell_type": "markdown",
   "metadata": {},
   "source": [
    "---\n",
    "#### Import train_df and test_df"
   ]
  },
  {
   "cell_type": "code",
   "execution_count": 6,
   "metadata": {},
   "outputs": [],
   "source": [
    "train_df = pd.read_pickle('../pickle_files/train_df_glasses.pkl')\n",
    "test_df = pd.read_pickle('../pickle_files/test_df_glasses.pkl')"
   ]
  },
  {
   "cell_type": "code",
   "execution_count": 8,
   "metadata": {},
   "outputs": [
    {
     "data": {
      "text/plain": [
       "505"
      ]
     },
     "execution_count": 8,
     "metadata": {},
     "output_type": "execute_result"
    }
   ],
   "source": [
    "train_df.shape[0]"
   ]
  },
  {
   "cell_type": "markdown",
   "metadata": {},
   "source": [
    "#### Get bottleneck features to tune top models"
   ]
  },
  {
   "cell_type": "code",
   "execution_count": 9,
   "metadata": {},
   "outputs": [],
   "source": [
    "def save_bottleneck_features(train_df, test_df, label, batch_size):\n",
    "    '''\n",
    "    inputs:\n",
    "    train_df, test_df: train and test dataframes saved in pickle_files folder\n",
    "    label: a string, eyewear, hat, or beard\n",
    "    batch_size: process images in batches\n",
    "    outputs:\n",
    "    saves bottleneck features inside folder tuning_data as npy file\n",
    "    '''\n",
    "    # intialize the vgg16 model \n",
    "    # make sure not to train the top layers \n",
    "    base_model = VGG16(weights = 'imagenet', include_top = False)\n",
    "    # create train_generator and test_generator to get bottleneck inputs for train and test df \n",
    "    # no image preprocessing other than rescale \n",
    "    datagen = ImageDataGenerator(rescale=1. / 255)\n",
    "    # make sure shuffle is False so we know the label follows the sequence of the dataframe \n",
    "    # so we can tune top_model \n",
    "    train_generator = datagen.flow_from_dataframe(\n",
    "    dataframe=train_df,\n",
    "    directory='../data/pics',\n",
    "    x_col='pic_id',\n",
    "    y_col=label,\n",
    "    batch_size=batch_size,\n",
    "    shuffle = False,\n",
    "    target_size=(150,150),\n",
    "    class_mode = None)\n",
    "    # get features saved as .npy in tunign_data folder \n",
    "    bottleneck_features_train = base_model.predict_generator(\n",
    "        train_generator, train_df.shape[0]//batch_size)\n",
    "    np.save(open('../tuning_data/bottleneck_features_train.npy','wb'),\n",
    "           bottleneck_features_train)\n",
    "    \n",
    "    test_generator = datagen.flow_from_dataframe(\n",
    "    dataframe=test_df,\n",
    "    directory='../data/pics',\n",
    "    x_col='pic_id',\n",
    "    y_col=label,\n",
    "    batch_size=batch_size,\n",
    "    shuffle = False,\n",
    "    target_size=(150,150),\n",
    "    class_mode = None)\n",
    "    bottleneck_features_test = base_model.predict_generator(\n",
    "        test_generator, test_df.shape[0]//batch_size)\n",
    "    np.save(open('../tuning_data/bottleneck_features_test.npy','wb'),\n",
    "           bottleneck_features_test)"
   ]
  },
  {
   "cell_type": "markdown",
   "metadata": {},
   "source": [
    "#### Save bottleneck_features"
   ]
  },
  {
   "cell_type": "code",
   "execution_count": 13,
   "metadata": {
    "scrolled": true
   },
   "outputs": [
    {
     "name": "stdout",
     "output_type": "stream",
     "text": [
      "Found 505 validated image filenames.\n",
      "Found 127 validated image filenames.\n"
     ]
    }
   ],
   "source": [
    "save_bottleneck_features(train_df,test_df,'eyewear',96)"
   ]
  },
  {
   "cell_type": "code",
   "execution_count": 21,
   "metadata": {},
   "outputs": [
    {
     "data": {
      "text/plain": [
       "25"
      ]
     },
     "execution_count": 21,
     "metadata": {},
     "output_type": "execute_result"
    }
   ],
   "source": [
    "train_data = np.load(open('../tuning_data/bottleneck_features_train.npy','rb'))\n",
    "train_label = np.array(train_df.eyewear.map({'not_'+'eyewear':0, 'eyewear':1}))\n",
    "len(train_label)%96"
   ]
  },
  {
   "cell_type": "markdown",
   "metadata": {},
   "source": [
    "### Quick tuning of top models "
   ]
  },
  {
   "cell_type": "code",
   "execution_count": 31,
   "metadata": {},
   "outputs": [],
   "source": [
    "def train_top_model(train_df, test_df, epoch, batch_size, label):\n",
    "    '''\n",
    "    inputs:\n",
    "    train_df, test_df: dataframes saved in pickle_files to generate train and test labels \n",
    "    epoch: num of epochs in fit \n",
    "    batch_size: same as image generator batch size \n",
    "    label: a string, eyewear, hat, or beard\n",
    "    output:\n",
    "    saves model weights in a folder \n",
    "    '''\n",
    "    train_data = np.load(open('../tuning_data/bottleneck_features_train.npy','rb'))\n",
    "    # make sure train_data and train_label have same num of samples\n",
    "    train_label = np.array(train_df.eyewear.map({'not_'+label:0, label:1}))[:-(train_df.shape[0]%batch_size)]\n",
    "    \n",
    "    test_data = np.load(open('../tuning_data/bottleneck_features_test.npy','rb'))\n",
    "    test_label = np.array(test_df.eyewear.map({'not_'+label:0, label:1}))[:-(test_df.shape[0]%batch_size)]\n",
    "    \n",
    "    # build top model\n",
    "    model = Sequential()\n",
    "    model.add(Flatten(input_shape=train_data.shape[1:]))\n",
    "    model.add(Dense(256, activation='relu'))\n",
    "    model.add(Dropout(0.5))\n",
    "    model.add(Dense(1, activation='sigmoid'))\n",
    "    \n",
    "    model.compile(optimizer='rmsprop',\n",
    "                 loss='binary_crossentropy',\n",
    "                 metrics=['accuracy'])\n",
    "    \n",
    "    model.fit(train_data, train_label,\n",
    "             epochs=epoch,\n",
    "             batch_size=batch_size,\n",
    "             validation_data=(test_data,test_label))\n",
    "    model.save_weights('../tuning_data/bottleneck_vgg_model.h5')"
   ]
  },
  {
   "cell_type": "code",
   "execution_count": 30,
   "metadata": {},
   "outputs": [
    {
     "data": {
      "text/plain": [
       "array([0, 0, 1, 0, 0, 0, 1, 1, 1, 0, 0, 1, 1, 0, 0, 0, 1, 0, 0, 1, 1, 0,\n",
       "       0, 0, 0, 1, 0, 1, 0, 1, 0, 0, 1, 1, 1, 0, 0, 1, 0, 0, 0, 0, 0, 0,\n",
       "       0, 0, 1, 1, 0, 0, 1, 1, 1, 0, 0, 0, 0, 0, 1, 0, 1, 0, 1, 1, 1, 1,\n",
       "       1, 0, 0, 1, 1, 0, 1, 0, 0, 1, 1, 0, 0, 0, 1, 1, 0, 1, 1, 1, 0, 0,\n",
       "       0, 0, 0, 1, 0, 1, 0, 1, 1, 1, 1, 0, 0, 1, 1, 1, 1, 0, 0, 1, 1, 1,\n",
       "       0, 0, 0, 1, 1, 0, 0, 1, 0, 0, 1, 1, 0, 0, 1, 1, 1, 0, 1, 1, 0, 0,\n",
       "       1, 0, 1, 0, 1, 1, 1, 1, 0, 0, 0, 0, 0, 0, 1, 0, 0, 1, 0, 0, 0, 1,\n",
       "       1, 0, 1, 1, 0, 0, 0, 0, 0, 1, 0, 1, 1, 1, 1, 1, 1, 1, 0, 1, 0, 0,\n",
       "       1, 1, 1, 0, 1, 1, 0, 1, 0, 0, 1, 0, 1, 1, 0, 0, 0, 0, 1, 0, 0, 0,\n",
       "       1, 0, 0, 0, 1, 1, 0, 0, 1, 0, 1, 0, 1, 0, 0, 1, 1, 1, 1, 1, 0, 0,\n",
       "       0, 1, 1, 1, 0, 1, 0, 0, 0, 0, 1, 0, 0, 0, 0, 0, 1, 1, 0, 0, 1, 1,\n",
       "       0, 1, 1, 1, 1, 1, 1, 1, 1, 0, 0, 1, 0, 0, 1, 1, 0, 0, 0, 1, 1, 0,\n",
       "       1, 0, 1, 1, 1, 1, 1, 0, 0, 0, 0, 0, 1, 1, 1, 1, 0, 1, 1, 0, 0, 1,\n",
       "       1, 0, 0, 0, 0, 1, 0, 1, 0, 0, 1, 0, 0, 0, 1, 0, 0, 1, 0, 0, 0, 0,\n",
       "       1, 1, 0, 0, 0, 0, 1, 1, 1, 1, 0, 1, 0, 0, 1, 1, 0, 1, 0, 0, 0, 0,\n",
       "       1, 1, 0, 0, 1, 0, 1, 0, 0, 0, 1, 0, 0, 0, 1, 1, 1, 1, 1, 1, 1, 0,\n",
       "       1, 1, 1, 1, 1, 1, 0, 0, 0, 0, 0, 0, 1, 1, 0, 0, 1, 1, 1, 0, 1, 0,\n",
       "       0, 1, 1, 0, 1, 1, 1, 1, 0, 0, 1, 1, 0, 0, 0, 1, 0, 1, 1, 1, 1, 1,\n",
       "       1, 1, 0, 0, 1, 1, 0, 1, 1, 1, 0, 0, 0, 1, 1, 1, 1, 0, 1, 0, 0, 0,\n",
       "       1, 1, 1, 1, 1, 1, 1, 0, 1, 0, 1, 1, 0, 1, 1, 0, 1, 1, 0, 0, 0, 0,\n",
       "       1, 0, 0, 1, 1, 1, 0, 1, 0, 1, 1, 0, 0, 1, 1, 1, 0, 1, 1, 0, 0, 1,\n",
       "       0, 1, 0, 0, 1, 1, 0, 0, 0, 1, 0, 1, 1, 1, 1, 0, 0, 0])"
      ]
     },
     "execution_count": 30,
     "metadata": {},
     "output_type": "execute_result"
    }
   ],
   "source": [
    "train_data = np.load(open('../tuning_data/bottleneck_features_train.npy','rb'))\n",
    "label = 'eyewear'\n",
    "train_label = np.array(train_df.eyewear.map({'not_'+label:0, label:1}))[:-(train_df.shape[0]%96)]\n",
    "train_label"
   ]
  },
  {
   "cell_type": "code",
   "execution_count": 32,
   "metadata": {},
   "outputs": [
    {
     "name": "stdout",
     "output_type": "stream",
     "text": [
      "Train on 480 samples, validate on 96 samples\n",
      "Epoch 1/50\n",
      "480/480 [==============================] - 0s 687us/step - loss: 3.3371 - acc: 0.5625 - val_loss: 2.2513 - val_acc: 0.5000\n",
      "Epoch 2/50\n",
      "480/480 [==============================] - 0s 37us/step - loss: 1.8445 - acc: 0.5750 - val_loss: 0.4074 - val_acc: 0.8750\n",
      "Epoch 3/50\n",
      "480/480 [==============================] - 0s 39us/step - loss: 0.5149 - acc: 0.7771 - val_loss: 0.5397 - val_acc: 0.6771\n",
      "Epoch 4/50\n",
      "480/480 [==============================] - 0s 42us/step - loss: 0.6530 - acc: 0.7458 - val_loss: 0.3292 - val_acc: 0.9167\n",
      "Epoch 5/50\n",
      "480/480 [==============================] - 0s 41us/step - loss: 0.3033 - acc: 0.8708 - val_loss: 0.4934 - val_acc: 0.7604\n",
      "Epoch 6/50\n",
      "480/480 [==============================] - 0s 42us/step - loss: 0.5840 - acc: 0.7333 - val_loss: 0.2958 - val_acc: 0.9167\n",
      "Epoch 7/50\n",
      "480/480 [==============================] - 0s 44us/step - loss: 0.1975 - acc: 0.9375 - val_loss: 0.3794 - val_acc: 0.8125\n",
      "Epoch 8/50\n",
      "480/480 [==============================] - 0s 41us/step - loss: 0.1547 - acc: 0.9438 - val_loss: 0.2910 - val_acc: 0.8958\n",
      "Epoch 9/50\n",
      "480/480 [==============================] - 0s 43us/step - loss: 0.5494 - acc: 0.7833 - val_loss: 0.6259 - val_acc: 0.6771\n",
      "Epoch 10/50\n",
      "480/480 [==============================] - 0s 42us/step - loss: 0.2018 - acc: 0.9125 - val_loss: 0.2884 - val_acc: 0.9062\n",
      "Epoch 11/50\n",
      "480/480 [==============================] - 0s 42us/step - loss: 0.1371 - acc: 0.9625 - val_loss: 0.3113 - val_acc: 0.8854\n",
      "Epoch 12/50\n",
      "480/480 [==============================] - 0s 42us/step - loss: 0.3653 - acc: 0.8125 - val_loss: 0.3146 - val_acc: 0.8333\n",
      "Epoch 13/50\n",
      "480/480 [==============================] - 0s 43us/step - loss: 0.1154 - acc: 0.9667 - val_loss: 0.3054 - val_acc: 0.8958\n",
      "Epoch 14/50\n",
      "480/480 [==============================] - 0s 41us/step - loss: 0.0701 - acc: 0.9937 - val_loss: 0.3371 - val_acc: 0.9062\n",
      "Epoch 15/50\n",
      "480/480 [==============================] - 0s 42us/step - loss: 0.4710 - acc: 0.8146 - val_loss: 0.3809 - val_acc: 0.8021\n",
      "Epoch 16/50\n",
      "480/480 [==============================] - 0s 44us/step - loss: 0.0897 - acc: 0.9750 - val_loss: 0.3176 - val_acc: 0.8854\n",
      "Epoch 17/50\n",
      "480/480 [==============================] - 0s 43us/step - loss: 0.0522 - acc: 0.9896 - val_loss: 0.3437 - val_acc: 0.8750\n",
      "Epoch 18/50\n",
      "480/480 [==============================] - 0s 41us/step - loss: 0.0533 - acc: 0.9896 - val_loss: 0.3858 - val_acc: 0.8958\n",
      "Epoch 19/50\n",
      "480/480 [==============================] - 0s 40us/step - loss: 0.5134 - acc: 0.7958 - val_loss: 0.2846 - val_acc: 0.9062\n",
      "Epoch 20/50\n",
      "480/480 [==============================] - 0s 42us/step - loss: 0.0593 - acc: 0.9896 - val_loss: 0.3264 - val_acc: 0.8958\n",
      "Epoch 21/50\n",
      "480/480 [==============================] - 0s 42us/step - loss: 0.0396 - acc: 0.9979 - val_loss: 0.3513 - val_acc: 0.8958\n",
      "Epoch 22/50\n",
      "480/480 [==============================] - 0s 40us/step - loss: 0.0273 - acc: 0.9958 - val_loss: 0.3661 - val_acc: 0.9062\n",
      "Epoch 23/50\n",
      "480/480 [==============================] - 0s 43us/step - loss: 0.0343 - acc: 0.9937 - val_loss: 0.4291 - val_acc: 0.8646\n",
      "Epoch 24/50\n",
      "480/480 [==============================] - 0s 42us/step - loss: 0.0451 - acc: 0.9937 - val_loss: 0.4006 - val_acc: 0.8958\n",
      "Epoch 25/50\n",
      "480/480 [==============================] - 0s 41us/step - loss: 0.0197 - acc: 0.9979 - val_loss: 0.4280 - val_acc: 0.8958\n",
      "Epoch 26/50\n",
      "480/480 [==============================] - 0s 40us/step - loss: 0.0120 - acc: 1.0000 - val_loss: 0.4414 - val_acc: 0.8854\n",
      "Epoch 27/50\n",
      "480/480 [==============================] - 0s 43us/step - loss: 0.0117 - acc: 1.0000 - val_loss: 0.5359 - val_acc: 0.8646\n",
      "Epoch 28/50\n",
      "480/480 [==============================] - 0s 44us/step - loss: 0.7379 - acc: 0.7875 - val_loss: 0.3811 - val_acc: 0.9167\n",
      "Epoch 29/50\n",
      "480/480 [==============================] - 0s 45us/step - loss: 0.0326 - acc: 0.9958 - val_loss: 0.3918 - val_acc: 0.8958\n",
      "Epoch 30/50\n",
      "480/480 [==============================] - 0s 44us/step - loss: 0.0174 - acc: 1.0000 - val_loss: 0.4224 - val_acc: 0.8854\n",
      "Epoch 31/50\n",
      "480/480 [==============================] - 0s 41us/step - loss: 0.0109 - acc: 1.0000 - val_loss: 0.4396 - val_acc: 0.8854\n",
      "Epoch 32/50\n",
      "480/480 [==============================] - 0s 43us/step - loss: 0.0115 - acc: 0.9979 - val_loss: 0.4493 - val_acc: 0.8750\n",
      "Epoch 33/50\n",
      "480/480 [==============================] - 0s 44us/step - loss: 0.0094 - acc: 1.0000 - val_loss: 0.4623 - val_acc: 0.8958\n",
      "Epoch 34/50\n",
      "480/480 [==============================] - 0s 43us/step - loss: 0.0092 - acc: 1.0000 - val_loss: 0.4810 - val_acc: 0.8958\n",
      "Epoch 35/50\n",
      "480/480 [==============================] - 0s 39us/step - loss: 0.0080 - acc: 1.0000 - val_loss: 0.4887 - val_acc: 0.8750\n",
      "Epoch 36/50\n",
      "480/480 [==============================] - 0s 42us/step - loss: 0.0062 - acc: 1.0000 - val_loss: 0.5040 - val_acc: 0.8958\n",
      "Epoch 37/50\n",
      "480/480 [==============================] - 0s 42us/step - loss: 0.0114 - acc: 1.0000 - val_loss: 0.5968 - val_acc: 0.8542\n",
      "Epoch 38/50\n",
      "480/480 [==============================] - 0s 44us/step - loss: 0.7749 - acc: 0.8000 - val_loss: 0.4051 - val_acc: 0.8958\n",
      "Epoch 39/50\n",
      "480/480 [==============================] - 0s 40us/step - loss: 0.0119 - acc: 1.0000 - val_loss: 0.4313 - val_acc: 0.8958\n",
      "Epoch 40/50\n",
      "480/480 [==============================] - 0s 41us/step - loss: 0.0105 - acc: 1.0000 - val_loss: 0.4582 - val_acc: 0.8958\n",
      "Epoch 41/50\n",
      "480/480 [==============================] - 0s 41us/step - loss: 0.0073 - acc: 1.0000 - val_loss: 0.4878 - val_acc: 0.8854\n",
      "Epoch 42/50\n",
      "480/480 [==============================] - 0s 40us/step - loss: 0.0048 - acc: 1.0000 - val_loss: 0.5128 - val_acc: 0.8958\n",
      "Epoch 43/50\n",
      "480/480 [==============================] - 0s 41us/step - loss: 0.0066 - acc: 1.0000 - val_loss: 0.5189 - val_acc: 0.8750\n",
      "Epoch 44/50\n",
      "480/480 [==============================] - 0s 43us/step - loss: 0.0042 - acc: 1.0000 - val_loss: 0.5495 - val_acc: 0.8750\n",
      "Epoch 45/50\n",
      "480/480 [==============================] - 0s 42us/step - loss: 0.0041 - acc: 1.0000 - val_loss: 0.5703 - val_acc: 0.8750\n",
      "Epoch 46/50\n",
      "480/480 [==============================] - 0s 43us/step - loss: 0.0027 - acc: 1.0000 - val_loss: 0.5800 - val_acc: 0.8854\n",
      "Epoch 47/50\n",
      "480/480 [==============================] - 0s 41us/step - loss: 0.0025 - acc: 1.0000 - val_loss: 0.5820 - val_acc: 0.8958\n",
      "Epoch 48/50\n",
      "480/480 [==============================] - 0s 41us/step - loss: 0.0023 - acc: 1.0000 - val_loss: 0.5886 - val_acc: 0.8854\n",
      "Epoch 49/50\n",
      "480/480 [==============================] - 0s 44us/step - loss: 0.0037 - acc: 1.0000 - val_loss: 0.6225 - val_acc: 0.8750\n",
      "Epoch 50/50\n",
      "480/480 [==============================] - 0s 44us/step - loss: 0.0020 - acc: 1.0000 - val_loss: 0.6194 - val_acc: 0.8958\n"
     ]
    }
   ],
   "source": [
    "train_top_model(train_df, test_df, 50, 96, 'eyewear')"
   ]
  },
  {
   "cell_type": "code",
   "execution_count": 3,
   "metadata": {},
   "outputs": [],
   "source": [
    "# load train and test df for labels \n",
    "train_df = pd.read_pickle('finished_pickles/train_df_glasses.pkl')\n",
    "test_df = pd.read_pickle('finished_pickles/test_df_glasses.pkl')"
   ]
  },
  {
   "cell_type": "code",
   "execution_count": 35,
   "metadata": {},
   "outputs": [],
   "source": [
    "train_data = np.load(open('bottleneck_model_weights/bottleneck_features_train.npy','rb'))\n",
    "train_label = np.array(train_df.eyewear.map({'Not_Glasses':0, 'Glasses':1}))\n",
    "    \n",
    "test_data = np.load(open('bottleneck_model_weights/bottleneck_features_test.npy','rb'))\n",
    "test_label = np.array(test_df.eyewear.map({'Not_Glasses':0, 'Glasses':1}))[:-3]  # didn't run all 131 samples "
   ]
  },
  {
   "cell_type": "code",
   "execution_count": 50,
   "metadata": {},
   "outputs": [
    {
     "data": {
      "text/plain": [
       "(512,)"
      ]
     },
     "execution_count": 50,
     "metadata": {},
     "output_type": "execute_result"
    }
   ],
   "source": [
    "train_label[:-10].shape"
   ]
  },
  {
   "cell_type": "code",
   "execution_count": 53,
   "metadata": {},
   "outputs": [],
   "source": [
    "def train_top_model():\n",
    "    train_data = np.load(open('bottleneck_model_weights/bottleneck_features_train.npy','rb'))\n",
    "    train_label = np.array(train_df.eyewear.map({'Not_Glasses':0, 'Glasses':1}))[:-10]\n",
    "    \n",
    "    test_data = np.load(open('bottleneck_model_weights/bottleneck_features_test.npy','rb'))\n",
    "    test_label = np.array(test_df.eyewear.map({'Not_Glasses':0, 'Glasses':1}))[:-3]\n",
    "    \n",
    "    model = Sequential()\n",
    "    model.add(Flatten(input_shape=train_data.shape[1:]))\n",
    "    model.add(Dense(256, activation='relu'))\n",
    "    model.add(Dropout(0.5))\n",
    "    model.add(Dense(1, activation='sigmoid'))\n",
    "    \n",
    "    model.compile(optimizer='rmsprop',\n",
    "                 loss='binary_crossentropy',\n",
    "                 metrics=['accuracy'])\n",
    "    \n",
    "    model.fit(train_data, train_label,\n",
    "             epochs=50,\n",
    "             batch_size=16,\n",
    "             validation_data=(test_data,test_label))\n",
    "    model.save_weights('bottleneck_model_weights/bottleneck_vgg_model.h5')"
   ]
  },
  {
   "cell_type": "code",
   "execution_count": 54,
   "metadata": {},
   "outputs": [
    {
     "name": "stdout",
     "output_type": "stream",
     "text": [
      "Train on 512 samples, validate on 128 samples\n",
      "Epoch 1/50\n",
      "512/512 [==============================] - 0s 715us/step - loss: 1.4844 - acc: 0.6133 - val_loss: 0.5525 - val_acc: 0.6875\n",
      "Epoch 2/50\n",
      "512/512 [==============================] - 0s 199us/step - loss: 0.5770 - acc: 0.7188 - val_loss: 0.7599 - val_acc: 0.6406\n",
      "Epoch 3/50\n",
      "512/512 [==============================] - 0s 202us/step - loss: 0.4187 - acc: 0.8223 - val_loss: 0.8598 - val_acc: 0.6406\n",
      "Epoch 4/50\n",
      "512/512 [==============================] - 0s 195us/step - loss: 0.4532 - acc: 0.8008 - val_loss: 0.4884 - val_acc: 0.7812\n",
      "Epoch 5/50\n",
      "512/512 [==============================] - 0s 194us/step - loss: 0.2966 - acc: 0.8848 - val_loss: 0.5101 - val_acc: 0.7969\n",
      "Epoch 6/50\n",
      "512/512 [==============================] - 0s 190us/step - loss: 0.2718 - acc: 0.8945 - val_loss: 1.0055 - val_acc: 0.6250\n",
      "Epoch 7/50\n",
      "512/512 [==============================] - 0s 191us/step - loss: 0.2571 - acc: 0.8965 - val_loss: 0.4931 - val_acc: 0.7734\n",
      "Epoch 8/50\n",
      "512/512 [==============================] - 0s 198us/step - loss: 0.1854 - acc: 0.9199 - val_loss: 0.6307 - val_acc: 0.7422\n",
      "Epoch 9/50\n",
      "512/512 [==============================] - 0s 196us/step - loss: 0.1353 - acc: 0.9551 - val_loss: 0.9189 - val_acc: 0.7578\n",
      "Epoch 10/50\n",
      "512/512 [==============================] - 0s 198us/step - loss: 0.1553 - acc: 0.9297 - val_loss: 0.7467 - val_acc: 0.7266\n",
      "Epoch 11/50\n",
      "512/512 [==============================] - 0s 198us/step - loss: 0.1158 - acc: 0.9590 - val_loss: 0.6126 - val_acc: 0.7969\n",
      "Epoch 12/50\n",
      "512/512 [==============================] - 0s 194us/step - loss: 0.0729 - acc: 0.9785 - val_loss: 1.0346 - val_acc: 0.7031\n",
      "Epoch 13/50\n",
      "512/512 [==============================] - 0s 193us/step - loss: 0.0979 - acc: 0.9668 - val_loss: 0.6218 - val_acc: 0.8281\n",
      "Epoch 14/50\n",
      "512/512 [==============================] - 0s 193us/step - loss: 0.0573 - acc: 0.9766 - val_loss: 0.6489 - val_acc: 0.8359\n",
      "Epoch 15/50\n",
      "512/512 [==============================] - 0s 196us/step - loss: 0.0438 - acc: 0.9863 - val_loss: 0.7368 - val_acc: 0.8047\n",
      "Epoch 16/50\n",
      "512/512 [==============================] - 0s 193us/step - loss: 0.0957 - acc: 0.9668 - val_loss: 0.7718 - val_acc: 0.8203\n",
      "Epoch 17/50\n",
      "512/512 [==============================] - 0s 204us/step - loss: 0.0668 - acc: 0.9707 - val_loss: 0.7339 - val_acc: 0.8203\n",
      "Epoch 18/50\n",
      "512/512 [==============================] - 0s 200us/step - loss: 0.0333 - acc: 0.9922 - val_loss: 0.8415 - val_acc: 0.8125\n",
      "Epoch 19/50\n",
      "512/512 [==============================] - 0s 190us/step - loss: 0.0334 - acc: 0.9863 - val_loss: 0.8569 - val_acc: 0.8203\n",
      "Epoch 20/50\n",
      "512/512 [==============================] - 0s 198us/step - loss: 0.0228 - acc: 0.9922 - val_loss: 0.8490 - val_acc: 0.8203\n",
      "Epoch 21/50\n",
      "512/512 [==============================] - 0s 192us/step - loss: 0.0126 - acc: 0.9961 - val_loss: 0.9359 - val_acc: 0.7969\n",
      "Epoch 22/50\n",
      "512/512 [==============================] - 0s 193us/step - loss: 0.0614 - acc: 0.9805 - val_loss: 0.8420 - val_acc: 0.8203\n",
      "Epoch 23/50\n",
      "512/512 [==============================] - 0s 195us/step - loss: 0.0180 - acc: 0.9941 - val_loss: 0.9555 - val_acc: 0.7969\n",
      "Epoch 24/50\n",
      "512/512 [==============================] - 0s 200us/step - loss: 0.0271 - acc: 0.9883 - val_loss: 0.9493 - val_acc: 0.8125\n",
      "Epoch 25/50\n",
      "512/512 [==============================] - 0s 201us/step - loss: 0.0015 - acc: 1.0000 - val_loss: 1.0952 - val_acc: 0.8047\n",
      "Epoch 26/50\n",
      "512/512 [==============================] - 0s 205us/step - loss: 0.0841 - acc: 0.9746 - val_loss: 0.9482 - val_acc: 0.8125\n",
      "Epoch 27/50\n",
      "512/512 [==============================] - 0s 201us/step - loss: 0.0014 - acc: 1.0000 - val_loss: 1.0289 - val_acc: 0.8203\n",
      "Epoch 28/50\n",
      "512/512 [==============================] - 0s 200us/step - loss: 0.0580 - acc: 0.9844 - val_loss: 0.9996 - val_acc: 0.8125\n",
      "Epoch 29/50\n",
      "512/512 [==============================] - 0s 192us/step - loss: 5.9747e-04 - acc: 1.0000 - val_loss: 1.0855 - val_acc: 0.8125\n",
      "Epoch 30/50\n",
      "512/512 [==============================] - 0s 200us/step - loss: 0.0214 - acc: 0.9922 - val_loss: 0.9893 - val_acc: 0.8047\n",
      "Epoch 31/50\n",
      "512/512 [==============================] - 0s 200us/step - loss: 0.0017 - acc: 1.0000 - val_loss: 1.0980 - val_acc: 0.8047\n",
      "Epoch 32/50\n",
      "512/512 [==============================] - 0s 204us/step - loss: 0.0116 - acc: 0.9980 - val_loss: 1.1403 - val_acc: 0.8203\n",
      "Epoch 33/50\n",
      "512/512 [==============================] - 0s 197us/step - loss: 0.0192 - acc: 0.9902 - val_loss: 1.1299 - val_acc: 0.8281\n",
      "Epoch 34/50\n",
      "512/512 [==============================] - 0s 191us/step - loss: 0.0343 - acc: 0.9863 - val_loss: 1.1631 - val_acc: 0.8203\n",
      "Epoch 35/50\n",
      "512/512 [==============================] - 0s 187us/step - loss: 2.6465e-04 - acc: 1.0000 - val_loss: 1.2626 - val_acc: 0.8047\n",
      "Epoch 36/50\n",
      "512/512 [==============================] - 0s 193us/step - loss: 0.0053 - acc: 0.9980 - val_loss: 1.2961 - val_acc: 0.8047\n",
      "Epoch 37/50\n",
      "512/512 [==============================] - 0s 197us/step - loss: 0.0223 - acc: 0.9922 - val_loss: 1.4112 - val_acc: 0.7969\n",
      "Epoch 38/50\n",
      "512/512 [==============================] - 0s 193us/step - loss: 0.0012 - acc: 1.0000 - val_loss: 1.3701 - val_acc: 0.7969\n",
      "Epoch 39/50\n",
      "512/512 [==============================] - 0s 194us/step - loss: 0.0154 - acc: 0.9961 - val_loss: 1.3870 - val_acc: 0.8047\n",
      "Epoch 40/50\n",
      "512/512 [==============================] - 0s 198us/step - loss: 2.9146e-04 - acc: 1.0000 - val_loss: 1.4947 - val_acc: 0.7969\n",
      "Epoch 41/50\n",
      "512/512 [==============================] - 0s 200us/step - loss: 0.0060 - acc: 0.9980 - val_loss: 1.6214 - val_acc: 0.7969\n",
      "Epoch 42/50\n",
      "512/512 [==============================] - 0s 195us/step - loss: 0.0096 - acc: 0.9961 - val_loss: 1.4340 - val_acc: 0.7969\n",
      "Epoch 43/50\n",
      "512/512 [==============================] - 0s 193us/step - loss: 0.0111 - acc: 0.9980 - val_loss: 1.4221 - val_acc: 0.8047\n",
      "Epoch 44/50\n",
      "512/512 [==============================] - 0s 198us/step - loss: 0.0012 - acc: 1.0000 - val_loss: 1.4456 - val_acc: 0.8047\n",
      "Epoch 45/50\n",
      "512/512 [==============================] - 0s 195us/step - loss: 1.7444e-04 - acc: 1.0000 - val_loss: 1.5022 - val_acc: 0.8125\n",
      "Epoch 46/50\n",
      "512/512 [==============================] - 0s 197us/step - loss: 0.0086 - acc: 0.9980 - val_loss: 1.4878 - val_acc: 0.8047\n",
      "Epoch 47/50\n",
      "512/512 [==============================] - 0s 196us/step - loss: 0.0433 - acc: 0.9922 - val_loss: 1.4720 - val_acc: 0.8125\n",
      "Epoch 48/50\n",
      "512/512 [==============================] - 0s 198us/step - loss: 4.5187e-04 - acc: 1.0000 - val_loss: 1.5052 - val_acc: 0.7812\n",
      "Epoch 49/50\n",
      "512/512 [==============================] - 0s 192us/step - loss: 1.2887e-04 - acc: 1.0000 - val_loss: 1.5647 - val_acc: 0.7891\n",
      "Epoch 50/50\n",
      "512/512 [==============================] - 0s 188us/step - loss: 0.0026 - acc: 0.9980 - val_loss: 1.6998 - val_acc: 0.7891\n"
     ]
    }
   ],
   "source": [
    "train_top_model()"
   ]
  },
  {
   "cell_type": "code",
   "execution_count": null,
   "metadata": {},
   "outputs": [],
   "source": []
  }
 ],
 "metadata": {
  "kernelspec": {
   "display_name": "Python 3",
   "language": "python",
   "name": "python3"
  },
  "language_info": {
   "codemirror_mode": {
    "name": "ipython",
    "version": 3
   },
   "file_extension": ".py",
   "mimetype": "text/x-python",
   "name": "python",
   "nbconvert_exporter": "python",
   "pygments_lexer": "ipython3",
   "version": "3.7.3"
  }
 },
 "nbformat": 4,
 "nbformat_minor": 2
}
