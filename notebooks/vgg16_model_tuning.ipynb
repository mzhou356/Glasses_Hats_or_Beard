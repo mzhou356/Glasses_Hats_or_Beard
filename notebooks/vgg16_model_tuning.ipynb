{
 "cells": [
  {
   "cell_type": "markdown",
   "metadata": {},
   "source": [
    "## Transfer Learning Tuning:\n",
    "  * model parameter and other information can be found below:\n",
    "     * [source](https://blog.keras.io/building-powerful-image-classification-models-using-very-little-data.html)\n",
    "     \n",
    "  * base_model: use vgg16 and freeze at bottleneck layer (stop right before flatten layer) \n",
    "  * top_model: tune dense layers (parameters are inspired by source)\n",
    "  \n",
    "---\n",
    "#### This cell is required in order to use GPU for running the model "
   ]
  },
  {
   "cell_type": "code",
   "execution_count": 3,
   "metadata": {},
   "outputs": [],
   "source": [
    "import warnings\n",
    "warnings.filterwarnings('ignore')\n",
    "import tensorflow as tf\n",
    "import keras\n",
    "from keras.backend.tensorflow_backend import set_session\n",
    "config = tf.ConfigProto()\n",
    "config.gpu_options.allow_growth = True  # dynamically grow the memory used on the GPU\n",
    "config.log_device_placement = True  # to log device placement (on which device the operation ran)\n",
    "                                    # (nothing gets printed in Jupyter, only if you run it standalone)\n",
    "sess = tf.Session(config=config)\n",
    "set_session(sess)  # set this TensorFlow session as the default session for Keras\n",
    "keras.backend.get_session().run(tf.global_variables_initializer())  "
   ]
  },
  {
   "cell_type": "markdown",
   "metadata": {},
   "source": [
    "---\n",
    "#### Import necessary libraries"
   ]
  },
  {
   "cell_type": "code",
   "execution_count": 14,
   "metadata": {},
   "outputs": [],
   "source": [
    "import pandas as pd\n",
    "import numpy as np\n",
    "import matplotlib.pyplot as plt\n",
    "%matplotlib inline\n",
    "from keras_preprocessing.image import ImageDataGenerator\n",
    "from keras.models import Sequential, Model\n",
    "from keras.layers import Dropout, Flatten, Dense\n",
    "from keras.applications.vgg16 import VGG16\n",
    "from keras import optimizers"
   ]
  },
  {
   "cell_type": "markdown",
   "metadata": {},
   "source": [
    "---\n",
    "#### Import train_df and test_df"
   ]
  },
  {
   "cell_type": "code",
   "execution_count": 6,
   "metadata": {},
   "outputs": [],
   "source": [
    "train_df = pd.read_pickle('../pickle_files/train_df_glasses.pkl')\n",
    "test_df = pd.read_pickle('../pickle_files/test_df_glasses.pkl')"
   ]
  },
  {
   "cell_type": "code",
   "execution_count": 8,
   "metadata": {},
   "outputs": [
    {
     "data": {
      "text/plain": [
       "505"
      ]
     },
     "execution_count": 8,
     "metadata": {},
     "output_type": "execute_result"
    }
   ],
   "source": [
    "train_df.shape[0]"
   ]
  },
  {
   "cell_type": "markdown",
   "metadata": {},
   "source": [
    "#### Get bottleneck features to tune top models"
   ]
  },
  {
   "cell_type": "code",
   "execution_count": 9,
   "metadata": {},
   "outputs": [],
   "source": [
    "def save_bottleneck_features(train_df, test_df, label, batch_size):\n",
    "    '''\n",
    "    inputs:\n",
    "    train_df, test_df: train and test dataframes saved in pickle_files folder\n",
    "    label: a string, eyewear, hat, or beard\n",
    "    batch_size: process images in batches\n",
    "    outputs:\n",
    "    saves bottleneck features inside folder tuning_data as npy file\n",
    "    '''\n",
    "    # intialize the vgg16 model \n",
    "    # make sure not to train the top layers \n",
    "    base_model = VGG16(weights = 'imagenet', include_top = False)\n",
    "    # create train_generator and test_generator to get bottleneck inputs for train and test df \n",
    "    # no image preprocessing other than rescale \n",
    "    datagen = ImageDataGenerator(rescale=1. / 255)\n",
    "    # make sure shuffle is False so we know the label follows the sequence of the dataframe \n",
    "    # so we can tune top_model \n",
    "    train_generator = datagen.flow_from_dataframe(\n",
    "    dataframe=train_df,\n",
    "    directory='../data/pics',\n",
    "    x_col='pic_id',\n",
    "    y_col=label,\n",
    "    batch_size=batch_size,\n",
    "    shuffle = False,\n",
    "    target_size=(150,150),\n",
    "    class_mode = None)\n",
    "    # get features saved as .npy in tunign_data folder \n",
    "    bottleneck_features_train = base_model.predict_generator(\n",
    "        train_generator, train_df.shape[0]//batch_size)\n",
    "    np.save(open('../tuning_data/bottleneck_features_train.npy','wb'),\n",
    "           bottleneck_features_train)\n",
    "    \n",
    "    test_generator = datagen.flow_from_dataframe(\n",
    "    dataframe=test_df,\n",
    "    directory='../data/pics',\n",
    "    x_col='pic_id',\n",
    "    y_col=label,\n",
    "    batch_size=batch_size,\n",
    "    shuffle = False,\n",
    "    target_size=(150,150),\n",
    "    class_mode = None)\n",
    "    bottleneck_features_test = base_model.predict_generator(\n",
    "        test_generator, test_df.shape[0]//batch_size)\n",
    "    np.save(open('../tuning_data/bottleneck_features_test.npy','wb'),\n",
    "           bottleneck_features_test)"
   ]
  },
  {
   "cell_type": "markdown",
   "metadata": {},
   "source": [
    "#### Save bottleneck_features"
   ]
  },
  {
   "cell_type": "code",
   "execution_count": 13,
   "metadata": {
    "scrolled": true
   },
   "outputs": [
    {
     "name": "stdout",
     "output_type": "stream",
     "text": [
      "Found 505 validated image filenames.\n",
      "Found 127 validated image filenames.\n"
     ]
    }
   ],
   "source": [
    "save_bottleneck_features(train_df,test_df,'eyewear',96)"
   ]
  },
  {
   "cell_type": "code",
   "execution_count": 21,
   "metadata": {},
   "outputs": [
    {
     "data": {
      "text/plain": [
       "25"
      ]
     },
     "execution_count": 21,
     "metadata": {},
     "output_type": "execute_result"
    }
   ],
   "source": [
    "train_data = np.load(open('../tuning_data/bottleneck_features_train.npy','rb'))\n",
    "train_label = np.array(train_df.eyewear.map({'not_'+'eyewear':0, 'eyewear':1}))\n",
    "len(train_label)%96"
   ]
  },
  {
   "cell_type": "markdown",
   "metadata": {},
   "source": [
    "### Quick tuning of top models "
   ]
  },
  {
   "cell_type": "code",
   "execution_count": 31,
   "metadata": {},
   "outputs": [],
   "source": [
    "def train_top_model(train_df, test_df, epoch, batch_size, label):\n",
    "    '''\n",
    "    inputs:\n",
    "    train_df, test_df: dataframes saved in pickle_files to generate train and test labels \n",
    "    epoch: num of epochs in fit \n",
    "    batch_size: same as image generator batch size \n",
    "    label: a string, eyewear, hat, or beard\n",
    "    output:\n",
    "    saves model weights in a folder \n",
    "    '''\n",
    "    train_data = np.load(open('../tuning_data/bottleneck_features_train.npy','rb'))\n",
    "    # make sure train_data and train_label have same num of samples\n",
    "    train_label = np.array(train_df.eyewear.map({'not_'+label:0, label:1}))[:-(train_df.shape[0]%batch_size)]\n",
    "    \n",
    "    test_data = np.load(open('../tuning_data/bottleneck_features_test.npy','rb'))\n",
    "    test_label = np.array(test_df.eyewear.map({'not_'+label:0, label:1}))[:-(test_df.shape[0]%batch_size)]\n",
    "    \n",
    "    # build top model\n",
    "    model = Sequential()\n",
    "    model.add(Flatten(input_shape=train_data.shape[1:]))\n",
    "    model.add(Dense(256, activation='relu'))\n",
    "    model.add(Dropout(0.5))\n",
    "    model.add(Dense(1, activation='sigmoid'))\n",
    "    \n",
    "    model.compile(optimizer='rmsprop',\n",
    "                 loss='binary_crossentropy',\n",
    "                 metrics=['accuracy'])\n",
    "    \n",
    "    model.fit(train_data, train_label,\n",
    "             epochs=epoch,\n",
    "             batch_size=batch_size,\n",
    "             validation_data=(test_data,test_label))\n",
    "    model.save_weights('../tuning_data/bottleneck_vgg_model.h5')"
   ]
  },
  {
   "cell_type": "markdown",
   "metadata": {},
   "source": [
    "#### run train_top_model and save results in tuning_data"
   ]
  },
  {
   "cell_type": "code",
   "execution_count": 32,
   "metadata": {
    "scrolled": false
   },
   "outputs": [
    {
     "name": "stdout",
     "output_type": "stream",
     "text": [
      "Train on 480 samples, validate on 96 samples\n",
      "Epoch 1/50\n",
      "480/480 [==============================] - 0s 687us/step - loss: 3.3371 - acc: 0.5625 - val_loss: 2.2513 - val_acc: 0.5000\n",
      "Epoch 2/50\n",
      "480/480 [==============================] - 0s 37us/step - loss: 1.8445 - acc: 0.5750 - val_loss: 0.4074 - val_acc: 0.8750\n",
      "Epoch 3/50\n",
      "480/480 [==============================] - 0s 39us/step - loss: 0.5149 - acc: 0.7771 - val_loss: 0.5397 - val_acc: 0.6771\n",
      "Epoch 4/50\n",
      "480/480 [==============================] - 0s 42us/step - loss: 0.6530 - acc: 0.7458 - val_loss: 0.3292 - val_acc: 0.9167\n",
      "Epoch 5/50\n",
      "480/480 [==============================] - 0s 41us/step - loss: 0.3033 - acc: 0.8708 - val_loss: 0.4934 - val_acc: 0.7604\n",
      "Epoch 6/50\n",
      "480/480 [==============================] - 0s 42us/step - loss: 0.5840 - acc: 0.7333 - val_loss: 0.2958 - val_acc: 0.9167\n",
      "Epoch 7/50\n",
      "480/480 [==============================] - 0s 44us/step - loss: 0.1975 - acc: 0.9375 - val_loss: 0.3794 - val_acc: 0.8125\n",
      "Epoch 8/50\n",
      "480/480 [==============================] - 0s 41us/step - loss: 0.1547 - acc: 0.9438 - val_loss: 0.2910 - val_acc: 0.8958\n",
      "Epoch 9/50\n",
      "480/480 [==============================] - 0s 43us/step - loss: 0.5494 - acc: 0.7833 - val_loss: 0.6259 - val_acc: 0.6771\n",
      "Epoch 10/50\n",
      "480/480 [==============================] - 0s 42us/step - loss: 0.2018 - acc: 0.9125 - val_loss: 0.2884 - val_acc: 0.9062\n",
      "Epoch 11/50\n",
      "480/480 [==============================] - 0s 42us/step - loss: 0.1371 - acc: 0.9625 - val_loss: 0.3113 - val_acc: 0.8854\n",
      "Epoch 12/50\n",
      "480/480 [==============================] - 0s 42us/step - loss: 0.3653 - acc: 0.8125 - val_loss: 0.3146 - val_acc: 0.8333\n",
      "Epoch 13/50\n",
      "480/480 [==============================] - 0s 43us/step - loss: 0.1154 - acc: 0.9667 - val_loss: 0.3054 - val_acc: 0.8958\n",
      "Epoch 14/50\n",
      "480/480 [==============================] - 0s 41us/step - loss: 0.0701 - acc: 0.9937 - val_loss: 0.3371 - val_acc: 0.9062\n",
      "Epoch 15/50\n",
      "480/480 [==============================] - 0s 42us/step - loss: 0.4710 - acc: 0.8146 - val_loss: 0.3809 - val_acc: 0.8021\n",
      "Epoch 16/50\n",
      "480/480 [==============================] - 0s 44us/step - loss: 0.0897 - acc: 0.9750 - val_loss: 0.3176 - val_acc: 0.8854\n",
      "Epoch 17/50\n",
      "480/480 [==============================] - 0s 43us/step - loss: 0.0522 - acc: 0.9896 - val_loss: 0.3437 - val_acc: 0.8750\n",
      "Epoch 18/50\n",
      "480/480 [==============================] - 0s 41us/step - loss: 0.0533 - acc: 0.9896 - val_loss: 0.3858 - val_acc: 0.8958\n",
      "Epoch 19/50\n",
      "480/480 [==============================] - 0s 40us/step - loss: 0.5134 - acc: 0.7958 - val_loss: 0.2846 - val_acc: 0.9062\n",
      "Epoch 20/50\n",
      "480/480 [==============================] - 0s 42us/step - loss: 0.0593 - acc: 0.9896 - val_loss: 0.3264 - val_acc: 0.8958\n",
      "Epoch 21/50\n",
      "480/480 [==============================] - 0s 42us/step - loss: 0.0396 - acc: 0.9979 - val_loss: 0.3513 - val_acc: 0.8958\n",
      "Epoch 22/50\n",
      "480/480 [==============================] - 0s 40us/step - loss: 0.0273 - acc: 0.9958 - val_loss: 0.3661 - val_acc: 0.9062\n",
      "Epoch 23/50\n",
      "480/480 [==============================] - 0s 43us/step - loss: 0.0343 - acc: 0.9937 - val_loss: 0.4291 - val_acc: 0.8646\n",
      "Epoch 24/50\n",
      "480/480 [==============================] - 0s 42us/step - loss: 0.0451 - acc: 0.9937 - val_loss: 0.4006 - val_acc: 0.8958\n",
      "Epoch 25/50\n",
      "480/480 [==============================] - 0s 41us/step - loss: 0.0197 - acc: 0.9979 - val_loss: 0.4280 - val_acc: 0.8958\n",
      "Epoch 26/50\n",
      "480/480 [==============================] - 0s 40us/step - loss: 0.0120 - acc: 1.0000 - val_loss: 0.4414 - val_acc: 0.8854\n",
      "Epoch 27/50\n",
      "480/480 [==============================] - 0s 43us/step - loss: 0.0117 - acc: 1.0000 - val_loss: 0.5359 - val_acc: 0.8646\n",
      "Epoch 28/50\n",
      "480/480 [==============================] - 0s 44us/step - loss: 0.7379 - acc: 0.7875 - val_loss: 0.3811 - val_acc: 0.9167\n",
      "Epoch 29/50\n",
      "480/480 [==============================] - 0s 45us/step - loss: 0.0326 - acc: 0.9958 - val_loss: 0.3918 - val_acc: 0.8958\n",
      "Epoch 30/50\n",
      "480/480 [==============================] - 0s 44us/step - loss: 0.0174 - acc: 1.0000 - val_loss: 0.4224 - val_acc: 0.8854\n",
      "Epoch 31/50\n",
      "480/480 [==============================] - 0s 41us/step - loss: 0.0109 - acc: 1.0000 - val_loss: 0.4396 - val_acc: 0.8854\n",
      "Epoch 32/50\n",
      "480/480 [==============================] - 0s 43us/step - loss: 0.0115 - acc: 0.9979 - val_loss: 0.4493 - val_acc: 0.8750\n",
      "Epoch 33/50\n",
      "480/480 [==============================] - 0s 44us/step - loss: 0.0094 - acc: 1.0000 - val_loss: 0.4623 - val_acc: 0.8958\n",
      "Epoch 34/50\n",
      "480/480 [==============================] - 0s 43us/step - loss: 0.0092 - acc: 1.0000 - val_loss: 0.4810 - val_acc: 0.8958\n",
      "Epoch 35/50\n",
      "480/480 [==============================] - 0s 39us/step - loss: 0.0080 - acc: 1.0000 - val_loss: 0.4887 - val_acc: 0.8750\n",
      "Epoch 36/50\n",
      "480/480 [==============================] - 0s 42us/step - loss: 0.0062 - acc: 1.0000 - val_loss: 0.5040 - val_acc: 0.8958\n",
      "Epoch 37/50\n",
      "480/480 [==============================] - 0s 42us/step - loss: 0.0114 - acc: 1.0000 - val_loss: 0.5968 - val_acc: 0.8542\n",
      "Epoch 38/50\n",
      "480/480 [==============================] - 0s 44us/step - loss: 0.7749 - acc: 0.8000 - val_loss: 0.4051 - val_acc: 0.8958\n",
      "Epoch 39/50\n",
      "480/480 [==============================] - 0s 40us/step - loss: 0.0119 - acc: 1.0000 - val_loss: 0.4313 - val_acc: 0.8958\n",
      "Epoch 40/50\n",
      "480/480 [==============================] - 0s 41us/step - loss: 0.0105 - acc: 1.0000 - val_loss: 0.4582 - val_acc: 0.8958\n",
      "Epoch 41/50\n",
      "480/480 [==============================] - 0s 41us/step - loss: 0.0073 - acc: 1.0000 - val_loss: 0.4878 - val_acc: 0.8854\n",
      "Epoch 42/50\n",
      "480/480 [==============================] - 0s 40us/step - loss: 0.0048 - acc: 1.0000 - val_loss: 0.5128 - val_acc: 0.8958\n",
      "Epoch 43/50\n",
      "480/480 [==============================] - 0s 41us/step - loss: 0.0066 - acc: 1.0000 - val_loss: 0.5189 - val_acc: 0.8750\n",
      "Epoch 44/50\n",
      "480/480 [==============================] - 0s 43us/step - loss: 0.0042 - acc: 1.0000 - val_loss: 0.5495 - val_acc: 0.8750\n",
      "Epoch 45/50\n",
      "480/480 [==============================] - 0s 42us/step - loss: 0.0041 - acc: 1.0000 - val_loss: 0.5703 - val_acc: 0.8750\n",
      "Epoch 46/50\n",
      "480/480 [==============================] - 0s 43us/step - loss: 0.0027 - acc: 1.0000 - val_loss: 0.5800 - val_acc: 0.8854\n",
      "Epoch 47/50\n",
      "480/480 [==============================] - 0s 41us/step - loss: 0.0025 - acc: 1.0000 - val_loss: 0.5820 - val_acc: 0.8958\n",
      "Epoch 48/50\n",
      "480/480 [==============================] - 0s 41us/step - loss: 0.0023 - acc: 1.0000 - val_loss: 0.5886 - val_acc: 0.8854\n",
      "Epoch 49/50\n",
      "480/480 [==============================] - 0s 44us/step - loss: 0.0037 - acc: 1.0000 - val_loss: 0.6225 - val_acc: 0.8750\n",
      "Epoch 50/50\n",
      "480/480 [==============================] - 0s 44us/step - loss: 0.0020 - acc: 1.0000 - val_loss: 0.6194 - val_acc: 0.8958\n"
     ]
    }
   ],
   "source": [
    "train_top_model(train_df, test_df, 50, 96, 'eyewear')"
   ]
  },
  {
   "cell_type": "markdown",
   "metadata": {},
   "source": [
    "### Fine Tune Top Model to improve accuracy"
   ]
  },
  {
   "cell_type": "code",
   "execution_count": 41,
   "metadata": {},
   "outputs": [],
   "source": [
    "def fine_tune_model(train_df, test_df,epoch, batch_size,label, print_model = True):\n",
    "    # build VGG16 model and freeze top layers\n",
    "    # input_shape: width, height, RGB (from image generator)\n",
    "    model_vgg = VGG16(weights='imagenet',include_top=False, input_shape=(150,150,3))\n",
    "    # build top model\n",
    "    top_model = Sequential()\n",
    "    top_model.add(Flatten(input_shape=model_vgg.output_shape[1:]))\n",
    "    top_model.add(Dense(256,activation='relu'))\n",
    "    top_model.add(Dropout(0.5))\n",
    "    top_model.add(Dense(1, activation='sigmoid'))\n",
    "    \n",
    "    # load saved weights to fine tune parameters \n",
    "    top_model.load_weights('../tuning_data/bottleneck_vgg_model.h5')\n",
    "    # add top model to model\n",
    "    model = Model(inputs=model_vgg.input, outputs=top_model(model_vgg.output))\n",
    "    # we will tune last 5 layers of the model: block5 and fully connected layer \n",
    "    for layer in model.layers[:15]:\n",
    "        layer.trainable = False\n",
    "    # we can tune the parameters for lr and momentum later to get better results\n",
    "    model.compile(loss='binary_crossentropy',\n",
    "             optimizer=optimizers.SGD(lr=1e-4, momentum=0.9),\n",
    "             metrics=['accuracy'])\n",
    "    # prepare train generator using data augmentation to battle small sample size \n",
    "    train_gen = ImageDataGenerator(\n",
    "        rescale=1./255,\n",
    "        shear_range=0.2,\n",
    "        zoom_range=0.2,\n",
    "        horizontal_flip=True)\n",
    "    # not want to augment the test \n",
    "    test_gen = ImageDataGenerator(rescale=1./255)\n",
    "    \n",
    "    train_generator =  train_gen.flow_from_dataframe(\n",
    "    dataframe=train_df,\n",
    "    directory='../data/pics',\n",
    "    x_col='pic_id',\n",
    "    y_col=label,\n",
    "    batch_size=batch_size,\n",
    "    target_size=(150,150),\n",
    "    class_mode = 'binary')\n",
    "    \n",
    "    test_generator =  test_gen.flow_from_dataframe(\n",
    "    dataframe=test_df,\n",
    "    directory='../data/pics',\n",
    "    x_col='pic_id',\n",
    "    y_col=label,\n",
    "    batch_size=batch_size,\n",
    "    target_size=(150,150),\n",
    "    class_mode = 'binary')\n",
    "    \n",
    "    # run and fit model \n",
    "    history = model.fit_generator(\n",
    "    train_generator,\n",
    "    steps_per_epoch=train_df.shape[0]//batch_size,\n",
    "    epochs=epoch,\n",
    "    validation_data=test_generator,\n",
    "    validation_steps=test_df.shape[0]//batch_size,\n",
    "    verbose=1)\n",
    "    \n",
    "    if print_model:\n",
    "        model.summary()\n",
    "    return history                  "
   ]
  },
  {
   "cell_type": "code",
   "execution_count": 42,
   "metadata": {},
   "outputs": [
    {
     "name": "stdout",
     "output_type": "stream",
     "text": [
      "Found 505 validated image filenames belonging to 2 classes.\n",
      "Found 127 validated image filenames belonging to 2 classes.\n",
      "Epoch 1/50\n",
      "5/5 [==============================] - 4s 736ms/step - loss: 6.6087 - acc: 0.0855 - val_loss: 4.0217 - val_acc: 0.1458\n",
      "Epoch 2/50\n",
      "5/5 [==============================] - 4s 743ms/step - loss: 2.4473 - acc: 0.2725 - val_loss: 1.5629 - val_acc: 0.3548\n",
      "Epoch 3/50\n",
      "5/5 [==============================] - 3s 561ms/step - loss: 1.0780 - acc: 0.4984 - val_loss: 0.8595 - val_acc: 0.5000\n",
      "Epoch 4/50\n",
      "5/5 [==============================] - 3s 609ms/step - loss: 0.8200 - acc: 0.4920 - val_loss: 0.7002 - val_acc: 0.6129\n",
      "Epoch 5/50\n",
      "5/5 [==============================] - 4s 796ms/step - loss: 0.7123 - acc: 0.5021 - val_loss: 0.6650 - val_acc: 0.5938\n",
      "Epoch 6/50\n",
      "5/5 [==============================] - 3s 663ms/step - loss: 0.7147 - acc: 0.5293 - val_loss: 0.6652 - val_acc: 0.5806\n",
      "Epoch 7/50\n",
      "5/5 [==============================] - 4s 740ms/step - loss: 0.6869 - acc: 0.5573 - val_loss: 0.6397 - val_acc: 0.7083\n",
      "Epoch 8/50\n",
      "5/5 [==============================] - 4s 752ms/step - loss: 0.6771 - acc: 0.5854 - val_loss: 0.6550 - val_acc: 0.6774\n",
      "Epoch 9/50\n",
      "5/5 [==============================] - 3s 583ms/step - loss: 0.6642 - acc: 0.5847 - val_loss: 0.6337 - val_acc: 0.6875\n",
      "Epoch 10/50\n",
      "5/5 [==============================] - 3s 627ms/step - loss: 0.6715 - acc: 0.6144 - val_loss: 0.6587 - val_acc: 0.5806\n",
      "Epoch 11/50\n",
      "5/5 [==============================] - 4s 820ms/step - loss: 0.6611 - acc: 0.6333 - val_loss: 0.6199 - val_acc: 0.7292\n",
      "Epoch 12/50\n",
      "5/5 [==============================] - 3s 618ms/step - loss: 0.6468 - acc: 0.6484 - val_loss: 0.5929 - val_acc: 0.8065\n",
      "Epoch 13/50\n",
      "5/5 [==============================] - 3s 683ms/step - loss: 0.6488 - acc: 0.6463 - val_loss: 0.5927 - val_acc: 0.7708\n",
      "Epoch 14/50\n",
      "5/5 [==============================] - 3s 676ms/step - loss: 0.6358 - acc: 0.6521 - val_loss: 0.6112 - val_acc: 0.7097\n",
      "Epoch 15/50\n",
      "5/5 [==============================] - 3s 699ms/step - loss: 0.6125 - acc: 0.7123 - val_loss: 0.5833 - val_acc: 0.7708\n",
      "Epoch 16/50\n",
      "5/5 [==============================] - 3s 597ms/step - loss: 0.6173 - acc: 0.6995 - val_loss: 0.5681 - val_acc: 0.8065\n",
      "Epoch 17/50\n",
      "5/5 [==============================] - 4s 818ms/step - loss: 0.6135 - acc: 0.6854 - val_loss: 0.5656 - val_acc: 0.7812\n",
      "Epoch 18/50\n",
      "5/5 [==============================] - 3s 617ms/step - loss: 0.6150 - acc: 0.6804 - val_loss: 0.5671 - val_acc: 0.7419\n",
      "Epoch 19/50\n",
      "5/5 [==============================] - 4s 808ms/step - loss: 0.5989 - acc: 0.7125 - val_loss: 0.5525 - val_acc: 0.7708\n",
      "Epoch 20/50\n",
      "5/5 [==============================] - 2s 482ms/step - loss: 0.6039 - acc: 0.7670 - val_loss: 0.5150 - val_acc: 0.9032\n",
      "Epoch 21/50\n",
      "5/5 [==============================] - 4s 890ms/step - loss: 0.5797 - acc: 0.7562 - val_loss: 0.5272 - val_acc: 0.7917\n",
      "Epoch 22/50\n",
      "5/5 [==============================] - 3s 514ms/step - loss: 0.5854 - acc: 0.7156 - val_loss: 0.5230 - val_acc: 0.8710\n",
      "Epoch 23/50\n",
      "5/5 [==============================] - 4s 818ms/step - loss: 0.5733 - acc: 0.7563 - val_loss: 0.5265 - val_acc: 0.8333\n",
      "Epoch 24/50\n",
      "5/5 [==============================] - 3s 636ms/step - loss: 0.5502 - acc: 0.7859 - val_loss: 0.4866 - val_acc: 0.8387\n",
      "Epoch 25/50\n",
      "5/5 [==============================] - 4s 716ms/step - loss: 0.5380 - acc: 0.8210 - val_loss: 0.4824 - val_acc: 0.8021\n",
      "Epoch 26/50\n",
      "5/5 [==============================] - 4s 741ms/step - loss: 0.5475 - acc: 0.7771 - val_loss: 0.5291 - val_acc: 0.8387\n",
      "Epoch 27/50\n",
      "5/5 [==============================] - 3s 573ms/step - loss: 0.5358 - acc: 0.7991 - val_loss: 0.4866 - val_acc: 0.8125\n",
      "Epoch 28/50\n",
      "5/5 [==============================] - 3s 644ms/step - loss: 0.5120 - acc: 0.8272 - val_loss: 0.4287 - val_acc: 0.9032\n",
      "Epoch 29/50\n",
      "5/5 [==============================] - 4s 828ms/step - loss: 0.5232 - acc: 0.7979 - val_loss: 0.4695 - val_acc: 0.8125\n",
      "Epoch 30/50\n",
      "5/5 [==============================] - 3s 609ms/step - loss: 0.4983 - acc: 0.8081 - val_loss: 0.4054 - val_acc: 0.9355\n",
      "Epoch 31/50\n",
      "5/5 [==============================] - 4s 714ms/step - loss: 0.4811 - acc: 0.8465 - val_loss: 0.4390 - val_acc: 0.8646\n",
      "Epoch 32/50\n",
      "5/5 [==============================] - 3s 616ms/step - loss: 0.4984 - acc: 0.8073 - val_loss: 0.4123 - val_acc: 0.9355\n",
      "Epoch 33/50\n",
      "5/5 [==============================] - 4s 785ms/step - loss: 0.4743 - acc: 0.8250 - val_loss: 0.4084 - val_acc: 0.8854\n",
      "Epoch 34/50\n",
      "5/5 [==============================] - 3s 675ms/step - loss: 0.4617 - acc: 0.8637 - val_loss: 0.4346 - val_acc: 0.8710\n",
      "Epoch 35/50\n",
      "5/5 [==============================] - 4s 712ms/step - loss: 0.4571 - acc: 0.8375 - val_loss: 0.3887 - val_acc: 0.9062\n",
      "Epoch 36/50\n",
      "5/5 [==============================] - 3s 624ms/step - loss: 0.4487 - acc: 0.8373 - val_loss: 0.4356 - val_acc: 0.8387\n",
      "Epoch 37/50\n",
      "5/5 [==============================] - 3s 699ms/step - loss: 0.4209 - acc: 0.8652 - val_loss: 0.3967 - val_acc: 0.8750\n",
      "Epoch 38/50\n",
      "5/5 [==============================] - 3s 619ms/step - loss: 0.4453 - acc: 0.8431 - val_loss: 0.3316 - val_acc: 0.9355\n",
      "Epoch 39/50\n",
      "5/5 [==============================] - 4s 847ms/step - loss: 0.4006 - acc: 0.8729 - val_loss: 0.3495 - val_acc: 0.9271\n",
      "Epoch 40/50\n",
      "5/5 [==============================] - 3s 596ms/step - loss: 0.4135 - acc: 0.8587 - val_loss: 0.3966 - val_acc: 0.8710\n",
      "Epoch 41/50\n",
      "5/5 [==============================] - 4s 716ms/step - loss: 0.3618 - acc: 0.9065 - val_loss: 0.3610 - val_acc: 0.8958\n",
      "Epoch 42/50\n",
      "5/5 [==============================] - 3s 628ms/step - loss: 0.4139 - acc: 0.8577 - val_loss: 0.3036 - val_acc: 0.9032\n",
      "Epoch 43/50\n",
      "5/5 [==============================] - 3s 657ms/step - loss: 0.3714 - acc: 0.9136 - val_loss: 0.3324 - val_acc: 0.9167\n",
      "Epoch 44/50\n",
      "5/5 [==============================] - 4s 750ms/step - loss: 0.3571 - acc: 0.8792 - val_loss: 0.3612 - val_acc: 0.8387\n",
      "Epoch 45/50\n",
      "5/5 [==============================] - 4s 734ms/step - loss: 0.3763 - acc: 0.8682 - val_loss: 0.3078 - val_acc: 0.9062\n",
      "Epoch 46/50\n",
      "5/5 [==============================] - 3s 652ms/step - loss: 0.3524 - acc: 0.8860 - val_loss: 0.3518 - val_acc: 0.8710\n",
      "Epoch 47/50\n",
      "5/5 [==============================] - 3s 649ms/step - loss: 0.3674 - acc: 0.8716 - val_loss: 0.3044 - val_acc: 0.9062\n",
      "Epoch 48/50\n",
      "5/5 [==============================] - 3s 686ms/step - loss: 0.3385 - acc: 0.8900 - val_loss: 0.3567 - val_acc: 0.8710\n",
      "Epoch 49/50\n",
      "5/5 [==============================] - 3s 682ms/step - loss: 0.2888 - acc: 0.9243 - val_loss: 0.2704 - val_acc: 0.9271\n",
      "Epoch 50/50\n",
      "5/5 [==============================] - 3s 627ms/step - loss: 0.3710 - acc: 0.8510 - val_loss: 0.3795 - val_acc: 0.8710\n",
      "Model: \"model_3\"\n",
      "_________________________________________________________________\n",
      "Layer (type)                 Output Shape              Param #   \n",
      "=================================================================\n",
      "input_7 (InputLayer)         (None, 150, 150, 3)       0         \n",
      "_________________________________________________________________\n",
      "block1_conv1 (Conv2D)        (None, 150, 150, 64)      1792      \n",
      "_________________________________________________________________\n",
      "block1_conv2 (Conv2D)        (None, 150, 150, 64)      36928     \n",
      "_________________________________________________________________\n",
      "block1_pool (MaxPooling2D)   (None, 75, 75, 64)        0         \n",
      "_________________________________________________________________\n",
      "block2_conv1 (Conv2D)        (None, 75, 75, 128)       73856     \n",
      "_________________________________________________________________\n",
      "block2_conv2 (Conv2D)        (None, 75, 75, 128)       147584    \n",
      "_________________________________________________________________\n",
      "block2_pool (MaxPooling2D)   (None, 37, 37, 128)       0         \n",
      "_________________________________________________________________\n",
      "block3_conv1 (Conv2D)        (None, 37, 37, 256)       295168    \n",
      "_________________________________________________________________\n",
      "block3_conv2 (Conv2D)        (None, 37, 37, 256)       590080    \n",
      "_________________________________________________________________\n",
      "block3_conv3 (Conv2D)        (None, 37, 37, 256)       590080    \n",
      "_________________________________________________________________\n",
      "block3_pool (MaxPooling2D)   (None, 18, 18, 256)       0         \n",
      "_________________________________________________________________\n",
      "block4_conv1 (Conv2D)        (None, 18, 18, 512)       1180160   \n",
      "_________________________________________________________________\n",
      "block4_conv2 (Conv2D)        (None, 18, 18, 512)       2359808   \n",
      "_________________________________________________________________\n",
      "block4_conv3 (Conv2D)        (None, 18, 18, 512)       2359808   \n",
      "_________________________________________________________________\n",
      "block4_pool (MaxPooling2D)   (None, 9, 9, 512)         0         \n",
      "_________________________________________________________________\n",
      "block5_conv1 (Conv2D)        (None, 9, 9, 512)         2359808   \n",
      "_________________________________________________________________\n",
      "block5_conv2 (Conv2D)        (None, 9, 9, 512)         2359808   \n",
      "_________________________________________________________________\n",
      "block5_conv3 (Conv2D)        (None, 9, 9, 512)         2359808   \n",
      "_________________________________________________________________\n",
      "block5_pool (MaxPooling2D)   (None, 4, 4, 512)         0         \n",
      "_________________________________________________________________\n",
      "sequential_7 (Sequential)    (None, 1)                 2097665   \n",
      "=================================================================\n",
      "Total params: 16,812,353\n",
      "Trainable params: 9,177,089\n",
      "Non-trainable params: 7,635,264\n",
      "_________________________________________________________________\n"
     ]
    },
    {
     "data": {
      "text/plain": [
       "<keras.callbacks.History at 0x7f2e5027e588>"
      ]
     },
     "execution_count": 42,
     "metadata": {},
     "output_type": "execute_result"
    }
   ],
   "source": [
    "model_history = fine_tune_model(train_df, test_df,50,96,'eyewear')"
   ]
  }
 ],
 "metadata": {
  "kernelspec": {
   "display_name": "Python 3",
   "language": "python",
   "name": "python3"
  },
  "language_info": {
   "codemirror_mode": {
    "name": "ipython",
    "version": 3
   },
   "file_extension": ".py",
   "mimetype": "text/x-python",
   "name": "python",
   "nbconvert_exporter": "python",
   "pygments_lexer": "ipython3",
   "version": "3.7.3"
  }
 },
 "nbformat": 4,
 "nbformat_minor": 2
}
