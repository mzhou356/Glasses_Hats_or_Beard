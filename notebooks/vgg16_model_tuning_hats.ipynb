{
 "cells": [
  {
   "cell_type": "markdown",
   "metadata": {},
   "source": [
    "## Transfer Learning Tuning_Hats:\n",
    "  * model parameter and other information can be found below:\n",
    "     * [source](https://blog.keras.io/building-powerful-image-classification-models-using-very-little-data.html)\n",
    "     \n",
    "  * base_model: use vgg16 and freeze at bottleneck layer (stop right before flatten layer) \n",
    "  * top_model: tune dense layers (parameters are inspired by source)\n",
    "     * batch_size 16 seems to work best for small data set \n",
    "\n",
    "##### warnings: make sure to restart kernel in between running different model tuning \n",
    "  \n",
    "---\n",
    "#### This cell is required in order to use GPU for running the model "
   ]
  },
  {
   "cell_type": "code",
   "execution_count": 1,
   "metadata": {},
   "outputs": [
    {
     "name": "stderr",
     "output_type": "stream",
     "text": [
      "Using TensorFlow backend.\n",
      "WARNING: Logging before flag parsing goes to stderr.\n",
      "W0829 12:48:19.973269 140460642596672 deprecation_wrapper.py:119] From /home/mindy/anaconda3/lib/python3.7/site-packages/keras/backend/tensorflow_backend.py:190: The name tf.get_default_session is deprecated. Please use tf.compat.v1.get_default_session instead.\n",
      "\n",
      "W0829 12:48:19.974265 140460642596672 deprecation_wrapper.py:119] From /home/mindy/anaconda3/lib/python3.7/site-packages/keras/backend/tensorflow_backend.py:207: The name tf.global_variables is deprecated. Please use tf.compat.v1.global_variables instead.\n",
      "\n"
     ]
    }
   ],
   "source": [
    "import warnings\n",
    "warnings.filterwarnings('ignore')\n",
    "import tensorflow as tf\n",
    "import keras\n",
    "from keras.backend.tensorflow_backend import set_session\n",
    "config = tf.ConfigProto()\n",
    "config.gpu_options.allow_growth = True  # dynamically grow the memory used on the GPU\n",
    "config.log_device_placement = True  # to log device placement (on which device the operation ran)\n",
    "                                    # (nothing gets printed in Jupyter, only if you run it standalone)\n",
    "sess = tf.Session(config=config)\n",
    "set_session(sess)  # set this TensorFlow session as the default session for Keras\n",
    "keras.backend.get_session().run(tf.global_variables_initializer())  "
   ]
  },
  {
   "cell_type": "markdown",
   "metadata": {},
   "source": [
    "---\n",
    "#### Import necessary libraries"
   ]
  },
  {
   "cell_type": "code",
   "execution_count": 23,
   "metadata": {},
   "outputs": [],
   "source": [
    "import pandas as pd\n",
    "import numpy as np\n",
    "import matplotlib.pyplot as plt\n",
    "%matplotlib inline\n",
    "from keras_preprocessing.image import ImageDataGenerator\n",
    "from keras.models import Sequential, Model\n",
    "from keras.layers import Dropout, Flatten, Dense\n",
    "from keras.applications.vgg16 import VGG16\n",
    "from keras import optimizers\n",
    "from keras.models import model_from_json\n",
    "from keras.callbacks import ModelCheckpoint"
   ]
  },
  {
   "cell_type": "markdown",
   "metadata": {},
   "source": [
    "---\n",
    "#### Import train_df and test_df for hats"
   ]
  },
  {
   "cell_type": "code",
   "execution_count": 3,
   "metadata": {},
   "outputs": [],
   "source": [
    "train_df = pd.read_pickle('../pickle_files/train_df_hat.pkl')\n",
    "test_df = pd.read_pickle('../pickle_files/test_df_hat.pkl')"
   ]
  },
  {
   "cell_type": "markdown",
   "metadata": {},
   "source": [
    "#### Get bottleneck features to tune top models"
   ]
  },
  {
   "cell_type": "code",
   "execution_count": 4,
   "metadata": {},
   "outputs": [],
   "source": [
    "def save_bottleneck_features(train_df, test_df, label, batch_size):\n",
    "    '''\n",
    "    inputs:\n",
    "    train_df, test_df: train and test dataframes saved in pickle_files folder\n",
    "    label: a string, eyewear, hat, or beard\n",
    "    batch_size: process images in batches\n",
    "    outputs:\n",
    "    saves bottleneck features inside folder tuning_data as npy file\n",
    "    '''\n",
    "    # intialize the vgg16 model \n",
    "    # make sure not to train the top layers \n",
    "    base_model = VGG16(weights = 'imagenet', include_top = False)\n",
    "    # create train_generator and test_generator to get bottleneck inputs for train and test df \n",
    "    # remove zoom range for hats\n",
    "    datagen = ImageDataGenerator(\n",
    "        rescale=1./255,\n",
    "        rotation_range=40,\n",
    "        shear_range=0.2,\n",
    "        horizontal_flip=True)\n",
    "    # make sure shuffle is False so we know the label follows the sequence of the dataframe \n",
    "    # so we can tune top_model \n",
    "    train_generator = datagen.flow_from_dataframe(\n",
    "    dataframe=train_df,\n",
    "    directory='../data/pics',\n",
    "    x_col='pic_id',\n",
    "    y_col=label,\n",
    "    batch_size=batch_size,\n",
    "    shuffle = False,\n",
    "    target_size=(150,150),\n",
    "    class_mode = None)\n",
    "    # get features saved as .npy in tunign_data folder \n",
    "    bottleneck_features_train = base_model.predict_generator(\n",
    "        train_generator, train_df.shape[0]//batch_size)\n",
    "    np.save(open('../tuning_data/bottleneck_features_train_hat.npy','wb'),\n",
    "           bottleneck_features_train)\n",
    "    \n",
    "    test_generator = datagen.flow_from_dataframe(\n",
    "    dataframe=test_df,\n",
    "    directory='../data/pics',\n",
    "    x_col='pic_id',\n",
    "    y_col=label,\n",
    "    batch_size=batch_size,\n",
    "    shuffle = False,\n",
    "    target_size=(150,150),\n",
    "    class_mode = None)\n",
    "    bottleneck_features_test = base_model.predict_generator(\n",
    "        test_generator, test_df.shape[0]//batch_size)\n",
    "    np.save(open('../tuning_data/bottleneck_features_test_hat.npy','wb'),\n",
    "           bottleneck_features_test)"
   ]
  },
  {
   "cell_type": "markdown",
   "metadata": {},
   "source": [
    "#### Save bottleneck_features"
   ]
  },
  {
   "cell_type": "code",
   "execution_count": 5,
   "metadata": {
    "scrolled": true
   },
   "outputs": [
    {
     "name": "stderr",
     "output_type": "stream",
     "text": [
      "W0829 12:48:35.696041 140460642596672 deprecation_wrapper.py:119] From /home/mindy/anaconda3/lib/python3.7/site-packages/keras/backend/tensorflow_backend.py:66: The name tf.get_default_graph is deprecated. Please use tf.compat.v1.get_default_graph instead.\n",
      "\n",
      "W0829 12:48:35.697094 140460642596672 deprecation_wrapper.py:119] From /home/mindy/anaconda3/lib/python3.7/site-packages/keras/backend/tensorflow_backend.py:541: The name tf.placeholder is deprecated. Please use tf.compat.v1.placeholder instead.\n",
      "\n",
      "W0829 12:48:35.699244 140460642596672 deprecation_wrapper.py:119] From /home/mindy/anaconda3/lib/python3.7/site-packages/keras/backend/tensorflow_backend.py:4432: The name tf.random_uniform is deprecated. Please use tf.random.uniform instead.\n",
      "\n",
      "W0829 12:48:35.714792 140460642596672 deprecation_wrapper.py:119] From /home/mindy/anaconda3/lib/python3.7/site-packages/keras/backend/tensorflow_backend.py:4267: The name tf.nn.max_pool is deprecated. Please use tf.nn.max_pool2d instead.\n",
      "\n"
     ]
    },
    {
     "name": "stdout",
     "output_type": "stream",
     "text": [
      "Found 408 validated image filenames.\n",
      "Found 102 validated image filenames.\n"
     ]
    }
   ],
   "source": [
    "save_bottleneck_features(train_df,test_df,'hat',16)"
   ]
  },
  {
   "cell_type": "markdown",
   "metadata": {},
   "source": [
    "### Quick tuning of top models "
   ]
  },
  {
   "cell_type": "code",
   "execution_count": 7,
   "metadata": {},
   "outputs": [],
   "source": [
    "def train_top_model(train_df, test_df, epoch, batch_size, label):\n",
    "    '''\n",
    "    inputs:\n",
    "    train_df, test_df: dataframes saved in pickle_files to generate train and test labels \n",
    "    epoch: num of epochs in fit \n",
    "    batch_size: same as image generator batch size \n",
    "    label: a string, eyewear, hat, or beard\n",
    "    output:\n",
    "    saves model weights in a folder \n",
    "    '''\n",
    "    train_data = np.load(open('../tuning_data/bottleneck_features_train_hat.npy','rb'))\n",
    "    # make sure train_data and train_label have same num of samples\n",
    "    train_label = np.array(train_df[label].map({'not_'+label:0, label:1}))[:-(train_df.shape[0]%batch_size)]\n",
    "    \n",
    "    test_data = np.load(open('../tuning_data/bottleneck_features_test_hat.npy','rb'))\n",
    "    test_label = np.array(test_df[label].map({'not_'+label:0, label:1}))[:-(test_df.shape[0]%batch_size)]\n",
    "    \n",
    "    # build top model\n",
    "    model = Sequential()\n",
    "    model.add(Flatten(input_shape=train_data.shape[1:]))\n",
    "    model.add(Dense(256, activation='relu'))\n",
    "    model.add(Dropout(0.5))\n",
    "    model.add(Dense(1, activation='sigmoid'))\n",
    "    \n",
    "    model.compile(optimizer='rmsprop',\n",
    "                 loss='binary_crossentropy',\n",
    "                 metrics=['accuracy'])\n",
    "    # checkpoint for best weights \n",
    "    filepath=\"../tuning_data/best_bottleneck_vgg_model_hat.h5\"\n",
    "    checkpoint = ModelCheckpoint(filepath, monitor='val_acc', verbose=1, save_best_only=True, mode='max')\n",
    "    callbacks_list = [checkpoint]\n",
    "    \n",
    "    model.fit(train_data, train_label,\n",
    "             epochs=epoch,\n",
    "             batch_size=batch_size,\n",
    "             validation_data=(test_data,test_label),\n",
    "             callbacks=callbacks_list\n",
    "    del model\n",
    "    keras.backend.clear_session()"
   ]
  },
  {
   "cell_type": "markdown",
   "metadata": {},
   "source": [
    "#### run train_top_model and save results in tuning_data"
   ]
  },
  {
   "cell_type": "code",
   "execution_count": 8,
   "metadata": {
    "scrolled": false
   },
   "outputs": [
    {
     "name": "stderr",
     "output_type": "stream",
     "text": [
      "W0829 12:50:13.310716 140460642596672 deprecation.py:506] From /home/mindy/anaconda3/lib/python3.7/site-packages/keras/backend/tensorflow_backend.py:3733: calling dropout (from tensorflow.python.ops.nn_ops) with keep_prob is deprecated and will be removed in a future version.\n",
      "Instructions for updating:\n",
      "Please use `rate` instead of `keep_prob`. Rate should be set to `rate = 1 - keep_prob`.\n",
      "W0829 12:50:13.324867 140460642596672 deprecation_wrapper.py:119] From /home/mindy/anaconda3/lib/python3.7/site-packages/keras/optimizers.py:793: The name tf.train.Optimizer is deprecated. Please use tf.compat.v1.train.Optimizer instead.\n",
      "\n",
      "W0829 12:50:13.334949 140460642596672 deprecation.py:323] From /home/mindy/anaconda3/lib/python3.7/site-packages/tensorflow/python/ops/nn_impl.py:180: add_dispatch_support.<locals>.wrapper (from tensorflow.python.ops.array_ops) is deprecated and will be removed in a future version.\n",
      "Instructions for updating:\n",
      "Use tf.where in 2.0, which has the same broadcast rule as np.where\n"
     ]
    },
    {
     "name": "stdout",
     "output_type": "stream",
     "text": [
      "Train on 400 samples, validate on 96 samples\n",
      "Epoch 1/50\n",
      "400/400 [==============================] - 0s 1ms/step - loss: 1.5178 - acc: 0.6600 - val_loss: 0.5571 - val_acc: 0.7604\n",
      "\n",
      "Epoch 00001: val_acc improved from -inf to 0.76042, saving model to ../tuning_data/best_bottleneck_vgg_model_hat.h5\n",
      "Epoch 2/50\n",
      "400/400 [==============================] - 0s 181us/step - loss: 0.4906 - acc: 0.7875 - val_loss: 0.5413 - val_acc: 0.7396\n",
      "\n",
      "Epoch 00002: val_acc did not improve from 0.76042\n",
      "Epoch 3/50\n",
      "400/400 [==============================] - 0s 188us/step - loss: 0.3463 - acc: 0.8600 - val_loss: 0.3461 - val_acc: 0.8958\n",
      "\n",
      "Epoch 00003: val_acc improved from 0.76042 to 0.89583, saving model to ../tuning_data/best_bottleneck_vgg_model_hat.h5\n",
      "Epoch 4/50\n",
      "400/400 [==============================] - 0s 190us/step - loss: 0.2700 - acc: 0.9025 - val_loss: 0.9688 - val_acc: 0.7292\n",
      "\n",
      "Epoch 00004: val_acc did not improve from 0.89583\n",
      "Epoch 5/50\n",
      "400/400 [==============================] - 0s 202us/step - loss: 0.3247 - acc: 0.8700 - val_loss: 0.3138 - val_acc: 0.8958\n",
      "\n",
      "Epoch 00005: val_acc did not improve from 0.89583\n",
      "Epoch 6/50\n",
      "400/400 [==============================] - 0s 211us/step - loss: 0.2164 - acc: 0.9100 - val_loss: 0.5717 - val_acc: 0.7708\n",
      "\n",
      "Epoch 00006: val_acc did not improve from 0.89583\n",
      "Epoch 7/50\n",
      "400/400 [==============================] - 0s 213us/step - loss: 0.2349 - acc: 0.9075 - val_loss: 0.7248 - val_acc: 0.7500\n",
      "\n",
      "Epoch 00007: val_acc did not improve from 0.89583\n",
      "Epoch 8/50\n",
      "400/400 [==============================] - 0s 217us/step - loss: 0.1890 - acc: 0.9500 - val_loss: 0.4762 - val_acc: 0.8438\n",
      "\n",
      "Epoch 00008: val_acc did not improve from 0.89583\n",
      "Epoch 9/50\n",
      "400/400 [==============================] - 0s 202us/step - loss: 0.1549 - acc: 0.9400 - val_loss: 0.4671 - val_acc: 0.8854\n",
      "\n",
      "Epoch 00009: val_acc did not improve from 0.89583\n",
      "Epoch 10/50\n",
      "400/400 [==============================] - 0s 190us/step - loss: 0.0830 - acc: 0.9700 - val_loss: 0.4728 - val_acc: 0.8854\n",
      "\n",
      "Epoch 00010: val_acc did not improve from 0.89583\n",
      "Epoch 11/50\n",
      "400/400 [==============================] - 0s 195us/step - loss: 0.1115 - acc: 0.9700 - val_loss: 0.4604 - val_acc: 0.8750\n",
      "\n",
      "Epoch 00011: val_acc did not improve from 0.89583\n",
      "Epoch 12/50\n",
      "400/400 [==============================] - 0s 194us/step - loss: 0.0501 - acc: 0.9750 - val_loss: 1.1527 - val_acc: 0.7396\n",
      "\n",
      "Epoch 00012: val_acc did not improve from 0.89583\n",
      "Epoch 13/50\n",
      "400/400 [==============================] - 0s 207us/step - loss: 0.0415 - acc: 0.9800 - val_loss: 0.6657 - val_acc: 0.8646\n",
      "\n",
      "Epoch 00013: val_acc did not improve from 0.89583\n",
      "Epoch 14/50\n",
      "400/400 [==============================] - 0s 204us/step - loss: 0.0971 - acc: 0.9700 - val_loss: 0.5093 - val_acc: 0.8750\n",
      "\n",
      "Epoch 00014: val_acc did not improve from 0.89583\n",
      "Epoch 15/50\n",
      "400/400 [==============================] - 0s 206us/step - loss: 0.0157 - acc: 0.9975 - val_loss: 0.7636 - val_acc: 0.8229\n",
      "\n",
      "Epoch 00015: val_acc did not improve from 0.89583\n",
      "Epoch 16/50\n",
      "400/400 [==============================] - 0s 214us/step - loss: 0.0447 - acc: 0.9850 - val_loss: 0.6313 - val_acc: 0.8438\n",
      "\n",
      "Epoch 00016: val_acc did not improve from 0.89583\n",
      "Epoch 17/50\n",
      "400/400 [==============================] - 0s 205us/step - loss: 0.0062 - acc: 0.9975 - val_loss: 0.7113 - val_acc: 0.8438\n",
      "\n",
      "Epoch 00017: val_acc did not improve from 0.89583\n",
      "Epoch 18/50\n",
      "400/400 [==============================] - 0s 191us/step - loss: 0.0160 - acc: 0.9950 - val_loss: 0.7822 - val_acc: 0.8438\n",
      "\n",
      "Epoch 00018: val_acc did not improve from 0.89583\n",
      "Epoch 19/50\n",
      "400/400 [==============================] - 0s 196us/step - loss: 0.0205 - acc: 0.9875 - val_loss: 0.7813 - val_acc: 0.8438\n",
      "\n",
      "Epoch 00019: val_acc did not improve from 0.89583\n",
      "Epoch 20/50\n",
      "400/400 [==============================] - 0s 193us/step - loss: 0.0180 - acc: 0.9900 - val_loss: 0.8830 - val_acc: 0.8438\n",
      "\n",
      "Epoch 00020: val_acc did not improve from 0.89583\n",
      "Epoch 21/50\n",
      "400/400 [==============================] - 0s 193us/step - loss: 0.0802 - acc: 0.9725 - val_loss: 0.8106 - val_acc: 0.8333\n",
      "\n",
      "Epoch 00021: val_acc did not improve from 0.89583\n",
      "Epoch 22/50\n",
      "400/400 [==============================] - 0s 192us/step - loss: 0.0068 - acc: 0.9950 - val_loss: 0.8548 - val_acc: 0.8438\n",
      "\n",
      "Epoch 00022: val_acc did not improve from 0.89583\n",
      "Epoch 23/50\n",
      "400/400 [==============================] - 0s 190us/step - loss: 0.0165 - acc: 0.9975 - val_loss: 0.8626 - val_acc: 0.8438\n",
      "\n",
      "Epoch 00023: val_acc did not improve from 0.89583\n",
      "Epoch 24/50\n",
      "400/400 [==============================] - 0s 194us/step - loss: 0.0688 - acc: 0.9825 - val_loss: 0.8874 - val_acc: 0.8333\n",
      "\n",
      "Epoch 00024: val_acc did not improve from 0.89583\n",
      "Epoch 25/50\n",
      "400/400 [==============================] - 0s 192us/step - loss: 0.0056 - acc: 1.0000 - val_loss: 0.8819 - val_acc: 0.8542\n",
      "\n",
      "Epoch 00025: val_acc did not improve from 0.89583\n",
      "Epoch 26/50\n",
      "400/400 [==============================] - 0s 199us/step - loss: 0.0138 - acc: 0.9950 - val_loss: 0.8496 - val_acc: 0.8438\n",
      "\n",
      "Epoch 00026: val_acc did not improve from 0.89583\n",
      "Epoch 27/50\n",
      "400/400 [==============================] - 0s 187us/step - loss: 0.0132 - acc: 0.9925 - val_loss: 0.8851 - val_acc: 0.8542\n",
      "\n",
      "Epoch 00027: val_acc did not improve from 0.89583\n",
      "Epoch 28/50\n",
      "400/400 [==============================] - 0s 196us/step - loss: 0.0012 - acc: 1.0000 - val_loss: 0.9495 - val_acc: 0.8438\n",
      "\n",
      "Epoch 00028: val_acc did not improve from 0.89583\n",
      "Epoch 29/50\n",
      "400/400 [==============================] - 0s 192us/step - loss: 0.0030 - acc: 1.0000 - val_loss: 0.9645 - val_acc: 0.8646\n",
      "\n",
      "Epoch 00029: val_acc did not improve from 0.89583\n",
      "Epoch 30/50\n",
      "400/400 [==============================] - 0s 200us/step - loss: 0.0142 - acc: 0.9925 - val_loss: 0.9525 - val_acc: 0.8646\n",
      "\n",
      "Epoch 00030: val_acc did not improve from 0.89583\n",
      "Epoch 31/50\n",
      "400/400 [==============================] - 0s 191us/step - loss: 0.0260 - acc: 0.9900 - val_loss: 1.0000 - val_acc: 0.8229\n",
      "\n",
      "Epoch 00031: val_acc did not improve from 0.89583\n",
      "Epoch 32/50\n",
      "400/400 [==============================] - 0s 201us/step - loss: 5.7713e-04 - acc: 1.0000 - val_loss: 1.0458 - val_acc: 0.8438\n",
      "\n",
      "Epoch 00032: val_acc did not improve from 0.89583\n",
      "Epoch 33/50\n",
      "400/400 [==============================] - 0s 196us/step - loss: 0.0276 - acc: 0.9925 - val_loss: 1.0135 - val_acc: 0.8438\n",
      "\n",
      "Epoch 00033: val_acc did not improve from 0.89583\n",
      "Epoch 34/50\n",
      "400/400 [==============================] - 0s 195us/step - loss: 0.0021 - acc: 1.0000 - val_loss: 1.0873 - val_acc: 0.8229\n",
      "\n",
      "Epoch 00034: val_acc did not improve from 0.89583\n",
      "Epoch 35/50\n",
      "400/400 [==============================] - 0s 184us/step - loss: 0.0044 - acc: 0.9975 - val_loss: 1.1965 - val_acc: 0.8438\n",
      "\n",
      "Epoch 00035: val_acc did not improve from 0.89583\n",
      "Epoch 36/50\n",
      "400/400 [==============================] - 0s 200us/step - loss: 0.0247 - acc: 0.9875 - val_loss: 1.1760 - val_acc: 0.8438\n",
      "\n",
      "Epoch 00036: val_acc did not improve from 0.89583\n",
      "Epoch 37/50\n",
      "400/400 [==============================] - 0s 198us/step - loss: 0.0018 - acc: 1.0000 - val_loss: 1.1635 - val_acc: 0.8229\n",
      "\n",
      "Epoch 00037: val_acc did not improve from 0.89583\n",
      "Epoch 38/50\n",
      "400/400 [==============================] - 0s 197us/step - loss: 0.0017 - acc: 1.0000 - val_loss: 1.1068 - val_acc: 0.8125\n",
      "\n",
      "Epoch 00038: val_acc did not improve from 0.89583\n",
      "Epoch 39/50\n",
      "400/400 [==============================] - 0s 191us/step - loss: 5.6738e-04 - acc: 1.0000 - val_loss: 1.2384 - val_acc: 0.8438\n",
      "\n",
      "Epoch 00039: val_acc did not improve from 0.89583\n",
      "Epoch 40/50\n",
      "400/400 [==============================] - 0s 198us/step - loss: 0.0034 - acc: 0.9975 - val_loss: 1.1927 - val_acc: 0.8229\n",
      "\n",
      "Epoch 00040: val_acc did not improve from 0.89583\n",
      "Epoch 41/50\n",
      "400/400 [==============================] - 0s 194us/step - loss: 9.3295e-05 - acc: 1.0000 - val_loss: 1.2905 - val_acc: 0.8438\n",
      "\n",
      "Epoch 00041: val_acc did not improve from 0.89583\n",
      "Epoch 42/50\n",
      "400/400 [==============================] - 0s 201us/step - loss: 0.0461 - acc: 0.9850 - val_loss: 1.3832 - val_acc: 0.8333\n",
      "\n",
      "Epoch 00042: val_acc did not improve from 0.89583\n",
      "Epoch 43/50\n",
      "400/400 [==============================] - 0s 207us/step - loss: 0.0023 - acc: 0.9975 - val_loss: 1.3291 - val_acc: 0.8125\n",
      "\n",
      "Epoch 00043: val_acc did not improve from 0.89583\n",
      "Epoch 44/50\n",
      "400/400 [==============================] - 0s 201us/step - loss: 4.9307e-04 - acc: 1.0000 - val_loss: 1.2603 - val_acc: 0.8333\n",
      "\n",
      "Epoch 00044: val_acc did not improve from 0.89583\n",
      "Epoch 45/50\n",
      "400/400 [==============================] - 0s 207us/step - loss: 7.7928e-05 - acc: 1.0000 - val_loss: 1.2727 - val_acc: 0.8438\n",
      "\n",
      "Epoch 00045: val_acc did not improve from 0.89583\n",
      "Epoch 46/50\n",
      "400/400 [==============================] - 0s 190us/step - loss: 7.4260e-06 - acc: 1.0000 - val_loss: 1.2853 - val_acc: 0.8438\n",
      "\n",
      "Epoch 00046: val_acc did not improve from 0.89583\n",
      "Epoch 47/50\n",
      "400/400 [==============================] - 0s 195us/step - loss: 2.3657e-04 - acc: 1.0000 - val_loss: 1.4924 - val_acc: 0.8125\n",
      "\n",
      "Epoch 00047: val_acc did not improve from 0.89583\n",
      "Epoch 48/50\n",
      "400/400 [==============================] - 0s 191us/step - loss: 0.0065 - acc: 0.9975 - val_loss: 1.4027 - val_acc: 0.8229\n",
      "\n",
      "Epoch 00048: val_acc did not improve from 0.89583\n",
      "Epoch 49/50\n",
      "400/400 [==============================] - 0s 191us/step - loss: 5.6997e-04 - acc: 1.0000 - val_loss: 1.3721 - val_acc: 0.8333\n",
      "\n",
      "Epoch 00049: val_acc did not improve from 0.89583\n",
      "Epoch 50/50\n",
      "400/400 [==============================] - 0s 191us/step - loss: 1.2182e-05 - acc: 1.0000 - val_loss: 1.3709 - val_acc: 0.8229\n",
      "\n",
      "Epoch 00050: val_acc did not improve from 0.89583\n"
     ]
    }
   ],
   "source": [
    "train_top_model(train_df, test_df, 50, 16, 'hat')"
   ]
  },
  {
   "cell_type": "markdown",
   "metadata": {},
   "source": [
    "### Fine Tune Top Model to improve accuracy"
   ]
  },
  {
   "cell_type": "code",
   "execution_count": 9,
   "metadata": {},
   "outputs": [],
   "source": [
    "def fine_tune_model(train_df, test_df,epoch, batch_size,label, print_model = True):\n",
    "    # build VGG16 model and freeze top layers\n",
    "    # input_shape: width, height, RGB (from image generator)\n",
    "    model_vgg = VGG16(weights='imagenet',include_top=False, input_shape=(150,150,3))\n",
    "    # build top model\n",
    "    top_model = Sequential()\n",
    "    top_model.add(Flatten(input_shape=model_vgg.output_shape[1:]))\n",
    "    top_model.add(Dense(256,activation='relu'))\n",
    "    top_model.add(Dropout(0.5))\n",
    "    top_model.add(Dense(1, activation='sigmoid'))\n",
    "    \n",
    "    # load saved weights to fine tune parameters \n",
    "    top_model.load_weights('../tuning_data/best_bottleneck_vgg_model_hat.h5')\n",
    "    # add top model to model\n",
    "    model = Model(inputs=model_vgg.input, outputs=top_model(model_vgg.output))\n",
    "    # we will tune last 5 layers of the model: block5 and fully connected layer \n",
    "    for layer in model.layers[:15]:\n",
    "        layer.trainable = False\n",
    "    # we can tune the parameters for lr and momentum later to get better results\n",
    "    model.compile(loss='binary_crossentropy',\n",
    "             optimizer=optimizers.SGD(lr=1e-4, momentum=0.9),\n",
    "             metrics=['accuracy'])\n",
    "    # prepare train generator using data augmentation to battle small sample size \n",
    "    train_gen = ImageDataGenerator(\n",
    "        rescale=1./255,\n",
    "        rotation_range=40,\n",
    "        shear_range=0.2,\n",
    "        horizontal_flip=True)\n",
    "    # not want to augment the test \n",
    "    test_gen = ImageDataGenerator(rescale=1./255)\n",
    "    \n",
    "    train_generator =  train_gen.flow_from_dataframe(\n",
    "    dataframe=train_df,\n",
    "    directory='../data/pics',\n",
    "    x_col='pic_id',\n",
    "    y_col=label,\n",
    "    batch_size=batch_size,\n",
    "    target_size=(150,150),\n",
    "    class_mode = 'binary')\n",
    "    \n",
    "    test_generator =  test_gen.flow_from_dataframe(\n",
    "    dataframe=test_df,\n",
    "    directory='../data/pics',\n",
    "    x_col='pic_id',\n",
    "    y_col=label,\n",
    "    batch_size=batch_size,\n",
    "    target_size=(150,150),\n",
    "    class_mode = 'binary')\n",
    "    \n",
    "    # checkpoint for best weights \n",
    "    filepath=\"../tuning_data/best_vgg_model_hat.h5\"\n",
    "    checkpoint = ModelCheckpoint(filepath, monitor='val_acc', verbose=1, save_best_only=True, mode='max')\n",
    "    callbacks_list = [checkpoint]\n",
    "    \n",
    "    # run and fit model \n",
    "    result = model.fit_generator(\n",
    "    train_generator,\n",
    "    steps_per_epoch=train_df.shape[0]//batch_size,\n",
    "    epochs=epoch,\n",
    "    validation_data=test_generator,\n",
    "    validation_steps=test_df.shape[0]//batch_size,\n",
    "    verbose=1, callbacks=callbacks_list)\n",
    "    \n",
    "    # model.save_weights('../tuning_data/vgg16_model_hat.h5')\n",
    "    \n",
    "    if print_model:\n",
    "        model.summary()\n",
    "    del model\n",
    "    keras.backend.clear_session()    \n",
    "    return result"
   ]
  },
  {
   "cell_type": "markdown",
   "metadata": {},
   "source": [
    "### save model history "
   ]
  },
  {
   "cell_type": "code",
   "execution_count": 11,
   "metadata": {
    "scrolled": false
   },
   "outputs": [
    {
     "name": "stdout",
     "output_type": "stream",
     "text": [
      "Found 408 validated image filenames belonging to 2 classes.\n",
      "Found 102 validated image filenames belonging to 2 classes.\n",
      "Epoch 1/50\n",
      "25/25 [==============================] - 3s 128ms/step - loss: 1.8946 - acc: 0.2350 - val_loss: 0.7968 - val_acc: 0.3646\n",
      "\n",
      "Epoch 00001: val_acc improved from -inf to 0.36458, saving model to ../tuning_data/best_vgg_model_hat.h5\n",
      "Epoch 2/50\n",
      "25/25 [==============================] - 3s 140ms/step - loss: 0.7555 - acc: 0.4777 - val_loss: 0.7257 - val_acc: 0.3605\n",
      "\n",
      "Epoch 00002: val_acc did not improve from 0.36458\n",
      "Epoch 3/50\n",
      "25/25 [==============================] - 3s 127ms/step - loss: 0.7289 - acc: 0.4350 - val_loss: 0.7108 - val_acc: 0.4302\n",
      "\n",
      "Epoch 00003: val_acc improved from 0.36458 to 0.43023, saving model to ../tuning_data/best_vgg_model_hat.h5\n",
      "Epoch 4/50\n",
      "25/25 [==============================] - 3s 129ms/step - loss: 0.7045 - acc: 0.5077 - val_loss: 0.7020 - val_acc: 0.4651\n",
      "\n",
      "Epoch 00004: val_acc improved from 0.43023 to 0.46512, saving model to ../tuning_data/best_vgg_model_hat.h5\n",
      "Epoch 5/50\n",
      "25/25 [==============================] - 3s 116ms/step - loss: 0.7221 - acc: 0.4577 - val_loss: 0.6886 - val_acc: 0.5698\n",
      "\n",
      "Epoch 00005: val_acc improved from 0.46512 to 0.56977, saving model to ../tuning_data/best_vgg_model_hat.h5\n",
      "Epoch 6/50\n",
      "25/25 [==============================] - 3s 120ms/step - loss: 0.6763 - acc: 0.5750 - val_loss: 0.6832 - val_acc: 0.5581\n",
      "\n",
      "Epoch 00006: val_acc did not improve from 0.56977\n",
      "Epoch 7/50\n",
      "25/25 [==============================] - 3s 115ms/step - loss: 0.6848 - acc: 0.5404 - val_loss: 0.6798 - val_acc: 0.5698\n",
      "\n",
      "Epoch 00007: val_acc did not improve from 0.56977\n",
      "Epoch 8/50\n",
      "25/25 [==============================] - 3s 119ms/step - loss: 0.6690 - acc: 0.5850 - val_loss: 0.6678 - val_acc: 0.6042\n",
      "\n",
      "Epoch 00008: val_acc improved from 0.56977 to 0.60417, saving model to ../tuning_data/best_vgg_model_hat.h5\n",
      "Epoch 9/50\n",
      "25/25 [==============================] - 3s 131ms/step - loss: 0.6593 - acc: 0.5925 - val_loss: 0.6633 - val_acc: 0.6279\n",
      "\n",
      "Epoch 00009: val_acc improved from 0.60417 to 0.62791, saving model to ../tuning_data/best_vgg_model_hat.h5\n",
      "Epoch 10/50\n",
      "25/25 [==============================] - 3s 125ms/step - loss: 0.6456 - acc: 0.6600 - val_loss: 0.6600 - val_acc: 0.5930\n",
      "\n",
      "Epoch 00010: val_acc did not improve from 0.62791\n",
      "Epoch 11/50\n",
      "25/25 [==============================] - 3s 106ms/step - loss: 0.6278 - acc: 0.6725 - val_loss: 0.6143 - val_acc: 0.7093\n",
      "\n",
      "Epoch 00011: val_acc improved from 0.62791 to 0.70930, saving model to ../tuning_data/best_vgg_model_hat.h5\n",
      "Epoch 12/50\n",
      "25/25 [==============================] - 3s 111ms/step - loss: 0.6177 - acc: 0.7053 - val_loss: 0.6131 - val_acc: 0.6977\n",
      "\n",
      "Epoch 00012: val_acc did not improve from 0.70930\n",
      "Epoch 13/50\n",
      "25/25 [==============================] - 3s 125ms/step - loss: 0.5990 - acc: 0.7150 - val_loss: 0.6113 - val_acc: 0.6628\n",
      "\n",
      "Epoch 00013: val_acc did not improve from 0.70930\n",
      "Epoch 14/50\n",
      "25/25 [==============================] - 3s 121ms/step - loss: 0.5657 - acc: 0.7551 - val_loss: 0.5734 - val_acc: 0.7907\n",
      "\n",
      "Epoch 00014: val_acc improved from 0.70930 to 0.79070, saving model to ../tuning_data/best_vgg_model_hat.h5\n",
      "Epoch 15/50\n",
      "25/25 [==============================] - 3s 119ms/step - loss: 0.5303 - acc: 0.7677 - val_loss: 0.5594 - val_acc: 0.7604\n",
      "\n",
      "Epoch 00015: val_acc did not improve from 0.79070\n",
      "Epoch 16/50\n",
      "25/25 [==============================] - 3s 136ms/step - loss: 0.5241 - acc: 0.7625 - val_loss: 0.4990 - val_acc: 0.8140\n",
      "\n",
      "Epoch 00016: val_acc improved from 0.79070 to 0.81395, saving model to ../tuning_data/best_vgg_model_hat.h5\n",
      "Epoch 17/50\n",
      "25/25 [==============================] - 3s 113ms/step - loss: 0.4904 - acc: 0.7750 - val_loss: 0.5179 - val_acc: 0.7209\n",
      "\n",
      "Epoch 00017: val_acc did not improve from 0.81395\n",
      "Epoch 18/50\n",
      "25/25 [==============================] - 3s 123ms/step - loss: 0.4472 - acc: 0.8276 - val_loss: 0.5050 - val_acc: 0.7558\n",
      "\n",
      "Epoch 00018: val_acc did not improve from 0.81395\n",
      "Epoch 19/50\n",
      "25/25 [==============================] - 3s 111ms/step - loss: 0.4340 - acc: 0.8350 - val_loss: 0.4111 - val_acc: 0.7791\n",
      "\n",
      "Epoch 00019: val_acc did not improve from 0.81395\n",
      "Epoch 20/50\n",
      "25/25 [==============================] - 3s 115ms/step - loss: 0.4261 - acc: 0.8375 - val_loss: 0.4249 - val_acc: 0.8488\n",
      "\n",
      "Epoch 00020: val_acc improved from 0.81395 to 0.84884, saving model to ../tuning_data/best_vgg_model_hat.h5\n",
      "Epoch 21/50\n",
      "25/25 [==============================] - 3s 114ms/step - loss: 0.3869 - acc: 0.8275 - val_loss: 0.3907 - val_acc: 0.8721\n",
      "\n",
      "Epoch 00021: val_acc improved from 0.84884 to 0.87209, saving model to ../tuning_data/best_vgg_model_hat.h5\n",
      "Epoch 22/50\n",
      "25/25 [==============================] - 3s 113ms/step - loss: 0.3585 - acc: 0.8849 - val_loss: 0.3416 - val_acc: 0.8854\n",
      "\n",
      "Epoch 00022: val_acc improved from 0.87209 to 0.88542, saving model to ../tuning_data/best_vgg_model_hat.h5\n",
      "Epoch 23/50\n",
      "25/25 [==============================] - 4s 151ms/step - loss: 0.3583 - acc: 0.8825 - val_loss: 0.4179 - val_acc: 0.8256\n",
      "\n",
      "Epoch 00023: val_acc did not improve from 0.88542\n",
      "Epoch 24/50\n",
      "25/25 [==============================] - 3s 105ms/step - loss: 0.3392 - acc: 0.8550 - val_loss: 0.3393 - val_acc: 0.8605\n",
      "\n",
      "Epoch 00024: val_acc did not improve from 0.88542\n",
      "Epoch 25/50\n",
      "25/25 [==============================] - 3s 116ms/step - loss: 0.3329 - acc: 0.8751 - val_loss: 0.3240 - val_acc: 0.8721\n",
      "\n",
      "Epoch 00025: val_acc did not improve from 0.88542\n",
      "Epoch 26/50\n",
      "25/25 [==============================] - 3s 117ms/step - loss: 0.3079 - acc: 0.8800 - val_loss: 0.2955 - val_acc: 0.9070\n",
      "\n",
      "Epoch 00026: val_acc improved from 0.88542 to 0.90698, saving model to ../tuning_data/best_vgg_model_hat.h5\n",
      "Epoch 27/50\n",
      "25/25 [==============================] - 3s 121ms/step - loss: 0.3132 - acc: 0.8750 - val_loss: 0.2348 - val_acc: 0.9302\n",
      "\n",
      "Epoch 00027: val_acc improved from 0.90698 to 0.93023, saving model to ../tuning_data/best_vgg_model_hat.h5\n",
      "Epoch 28/50\n",
      "25/25 [==============================] - 3s 116ms/step - loss: 0.2874 - acc: 0.8924 - val_loss: 0.3155 - val_acc: 0.8605\n",
      "\n",
      "Epoch 00028: val_acc did not improve from 0.93023\n",
      "Epoch 29/50\n",
      "25/25 [==============================] - 3s 123ms/step - loss: 0.2884 - acc: 0.8851 - val_loss: 0.2944 - val_acc: 0.9062\n",
      "\n",
      "Epoch 00029: val_acc did not improve from 0.93023\n",
      "Epoch 30/50\n",
      "25/25 [==============================] - 3s 138ms/step - loss: 0.2735 - acc: 0.9049 - val_loss: 0.2513 - val_acc: 0.9186\n",
      "\n",
      "Epoch 00030: val_acc did not improve from 0.93023\n",
      "Epoch 31/50\n",
      "25/25 [==============================] - 3s 130ms/step - loss: 0.2394 - acc: 0.9174 - val_loss: 0.2856 - val_acc: 0.8721\n",
      "\n",
      "Epoch 00031: val_acc did not improve from 0.93023\n",
      "Epoch 32/50\n",
      "25/25 [==============================] - 3s 129ms/step - loss: 0.2694 - acc: 0.9025 - val_loss: 0.2062 - val_acc: 0.9535\n",
      "\n",
      "Epoch 00032: val_acc improved from 0.93023 to 0.95349, saving model to ../tuning_data/best_vgg_model_hat.h5\n",
      "Epoch 33/50\n",
      "25/25 [==============================] - 3s 111ms/step - loss: 0.2309 - acc: 0.9050 - val_loss: 0.2381 - val_acc: 0.9302\n",
      "\n",
      "Epoch 00033: val_acc did not improve from 0.95349\n",
      "Epoch 34/50\n",
      "25/25 [==============================] - 3s 115ms/step - loss: 0.3061 - acc: 0.8701 - val_loss: 0.2758 - val_acc: 0.9186\n",
      "\n",
      "Epoch 00034: val_acc did not improve from 0.95349\n",
      "Epoch 35/50\n",
      "25/25 [==============================] - 3s 124ms/step - loss: 0.2364 - acc: 0.9100 - val_loss: 0.2675 - val_acc: 0.9070\n",
      "\n",
      "Epoch 00035: val_acc did not improve from 0.95349\n",
      "Epoch 36/50\n",
      "25/25 [==============================] - 3s 116ms/step - loss: 0.2129 - acc: 0.9224 - val_loss: 0.2208 - val_acc: 0.9271\n",
      "\n",
      "Epoch 00036: val_acc did not improve from 0.95349\n",
      "Epoch 37/50\n",
      "25/25 [==============================] - 3s 135ms/step - loss: 0.2153 - acc: 0.9325 - val_loss: 0.2308 - val_acc: 0.8953\n",
      "\n",
      "Epoch 00037: val_acc did not improve from 0.95349\n",
      "Epoch 38/50\n",
      "25/25 [==============================] - 3s 115ms/step - loss: 0.2230 - acc: 0.9125 - val_loss: 0.2298 - val_acc: 0.8953\n",
      "\n",
      "Epoch 00038: val_acc did not improve from 0.95349\n",
      "Epoch 39/50\n",
      "25/25 [==============================] - 3s 129ms/step - loss: 0.2095 - acc: 0.9226 - val_loss: 0.2621 - val_acc: 0.8953\n",
      "\n",
      "Epoch 00039: val_acc did not improve from 0.95349\n",
      "Epoch 40/50\n",
      "25/25 [==============================] - 3s 108ms/step - loss: 0.2128 - acc: 0.9349 - val_loss: 0.1973 - val_acc: 0.9302\n",
      "\n",
      "Epoch 00040: val_acc did not improve from 0.95349\n",
      "Epoch 41/50\n",
      "25/25 [==============================] - 3s 114ms/step - loss: 0.1717 - acc: 0.9450 - val_loss: 0.1928 - val_acc: 0.9186\n",
      "\n",
      "Epoch 00041: val_acc did not improve from 0.95349\n",
      "Epoch 42/50\n",
      "25/25 [==============================] - 3s 118ms/step - loss: 0.2160 - acc: 0.9251 - val_loss: 0.2039 - val_acc: 0.9302\n",
      "\n",
      "Epoch 00042: val_acc did not improve from 0.95349\n",
      "Epoch 43/50\n",
      "25/25 [==============================] - 3s 125ms/step - loss: 0.2046 - acc: 0.9349 - val_loss: 0.3146 - val_acc: 0.8438\n",
      "\n",
      "Epoch 00043: val_acc did not improve from 0.95349\n",
      "Epoch 44/50\n",
      "25/25 [==============================] - 3s 133ms/step - loss: 0.1974 - acc: 0.9350 - val_loss: 0.2320 - val_acc: 0.8953\n",
      "\n",
      "Epoch 00044: val_acc did not improve from 0.95349\n",
      "Epoch 45/50\n",
      "25/25 [==============================] - 3s 110ms/step - loss: 0.1748 - acc: 0.9377 - val_loss: 0.1679 - val_acc: 0.9419\n",
      "\n",
      "Epoch 00045: val_acc did not improve from 0.95349\n",
      "Epoch 46/50\n",
      "25/25 [==============================] - 3s 130ms/step - loss: 0.1924 - acc: 0.9375 - val_loss: 0.2329 - val_acc: 0.9186\n",
      "\n",
      "Epoch 00046: val_acc did not improve from 0.95349\n",
      "Epoch 47/50\n",
      "25/25 [==============================] - 3s 117ms/step - loss: 0.1628 - acc: 0.9450 - val_loss: 0.1918 - val_acc: 0.9070\n",
      "\n",
      "Epoch 00047: val_acc did not improve from 0.95349\n",
      "Epoch 48/50\n",
      "25/25 [==============================] - 3s 109ms/step - loss: 0.1993 - acc: 0.9300 - val_loss: 0.1648 - val_acc: 0.9419\n",
      "\n",
      "Epoch 00048: val_acc did not improve from 0.95349\n",
      "Epoch 49/50\n",
      "25/25 [==============================] - 3s 121ms/step - loss: 0.1449 - acc: 0.9500 - val_loss: 0.2307 - val_acc: 0.9070\n",
      "\n",
      "Epoch 00049: val_acc did not improve from 0.95349\n",
      "Epoch 50/50\n",
      "25/25 [==============================] - 3s 128ms/step - loss: 0.1392 - acc: 0.9551 - val_loss: 0.1820 - val_acc: 0.9271\n",
      "\n",
      "Epoch 00050: val_acc did not improve from 0.95349\n",
      "Model: \"model_1\"\n",
      "_________________________________________________________________\n",
      "Layer (type)                 Output Shape              Param #   \n",
      "=================================================================\n",
      "input_1 (InputLayer)         (None, 150, 150, 3)       0         \n",
      "_________________________________________________________________\n",
      "block1_conv1 (Conv2D)        (None, 150, 150, 64)      1792      \n",
      "_________________________________________________________________\n",
      "block1_conv2 (Conv2D)        (None, 150, 150, 64)      36928     \n",
      "_________________________________________________________________\n",
      "block1_pool (MaxPooling2D)   (None, 75, 75, 64)        0         \n",
      "_________________________________________________________________\n",
      "block2_conv1 (Conv2D)        (None, 75, 75, 128)       73856     \n",
      "_________________________________________________________________\n",
      "block2_conv2 (Conv2D)        (None, 75, 75, 128)       147584    \n",
      "_________________________________________________________________\n",
      "block2_pool (MaxPooling2D)   (None, 37, 37, 128)       0         \n",
      "_________________________________________________________________\n",
      "block3_conv1 (Conv2D)        (None, 37, 37, 256)       295168    \n",
      "_________________________________________________________________\n",
      "block3_conv2 (Conv2D)        (None, 37, 37, 256)       590080    \n",
      "_________________________________________________________________\n",
      "block3_conv3 (Conv2D)        (None, 37, 37, 256)       590080    \n",
      "_________________________________________________________________\n",
      "block3_pool (MaxPooling2D)   (None, 18, 18, 256)       0         \n",
      "_________________________________________________________________\n",
      "block4_conv1 (Conv2D)        (None, 18, 18, 512)       1180160   \n",
      "_________________________________________________________________\n",
      "block4_conv2 (Conv2D)        (None, 18, 18, 512)       2359808   \n",
      "_________________________________________________________________\n",
      "block4_conv3 (Conv2D)        (None, 18, 18, 512)       2359808   \n",
      "_________________________________________________________________\n",
      "block4_pool (MaxPooling2D)   (None, 9, 9, 512)         0         \n",
      "_________________________________________________________________\n",
      "block5_conv1 (Conv2D)        (None, 9, 9, 512)         2359808   \n",
      "_________________________________________________________________\n",
      "block5_conv2 (Conv2D)        (None, 9, 9, 512)         2359808   \n",
      "_________________________________________________________________\n",
      "block5_conv3 (Conv2D)        (None, 9, 9, 512)         2359808   \n",
      "_________________________________________________________________\n",
      "block5_pool (MaxPooling2D)   (None, 4, 4, 512)         0         \n",
      "_________________________________________________________________\n",
      "sequential_1 (Sequential)    (None, 1)                 2097665   \n",
      "=================================================================\n",
      "Total params: 16,812,353\n",
      "Trainable params: 9,177,089\n",
      "Non-trainable params: 7,635,264\n",
      "_________________________________________________________________\n"
     ]
    }
   ],
   "source": [
    "model_history = fine_tune_model(train_df, test_df,50,16,'hat')"
   ]
  },
  {
   "cell_type": "code",
   "execution_count": 12,
   "metadata": {},
   "outputs": [
    {
     "name": "stdout",
     "output_type": "stream",
     "text": [
      "highest test accuracy: 0.9534883720930233\n",
      "------------------\n",
      "highest train accuracy: 0.9566326530612245\n"
     ]
    }
   ],
   "source": [
    "highest_val_acc, highest_train_acc = max(model_history.history['val_acc']), max(model_history.history['acc'])\n",
    "print(f'highest test accuracy: {highest_val_acc}')\n",
    "print('------------------')\n",
    "print(f'highest train accuracy: {highest_train_acc}')"
   ]
  },
  {
   "cell_type": "code",
   "execution_count": 13,
   "metadata": {},
   "outputs": [
    {
     "name": "stdout",
     "output_type": "stream",
     "text": [
      "lowest test loss: 0.16477232824924382\n",
      "------------------\n",
      "lowest train loss: 0.13535378827732436\n"
     ]
    }
   ],
   "source": [
    "lowest_val_loss, lowest_train_loss = min(model_history.history['val_loss']), min(model_history.history['loss'])\n",
    "print(f'lowest test loss: {lowest_val_loss}')\n",
    "print('------------------')\n",
    "print(f'lowest train loss: {lowest_train_loss}')"
   ]
  },
  {
   "cell_type": "code",
   "execution_count": 14,
   "metadata": {},
   "outputs": [
    {
     "data": {
      "image/png": "[encoded data removed]",
      "text/plain": [
       "<Figure size 432x288 with 1 Axes>"
      ]
     },
     "metadata": {
      "needs_background": "light"
     },
     "output_type": "display_data"
    }
   ],
   "source": [
    "plt.plot(model_history.history['val_acc'], color = 'red', label = 'test')\n",
    "plt.plot(model_history.history['acc'], color = 'blue', label = 'train')\n",
    "plt.title('accuracy')\n",
    "plt.ylabel('accuracy')\n",
    "plt.legend()\n",
    "plt.show()"
   ]
  },
  {
   "cell_type": "code",
   "execution_count": 15,
   "metadata": {
    "scrolled": false
   },
   "outputs": [
    {
     "data": {
      "image/png": "[encoded data removed]",
      "text/plain": [
       "<Figure size 432x288 with 1 Axes>"
      ]
     },
     "metadata": {
      "needs_background": "light"
     },
     "output_type": "display_data"
    }
   ],
   "source": [
    "plt.plot(model_history.history['val_loss'], color = 'red', label = 'test')\n",
    "plt.plot(model_history.history['loss'], color = 'blue', label = 'train')\n",
    "plt.title('loss')\n",
    "plt.ylabel('loss')\n",
    "plt.legend()\n",
    "plt.show()"
   ]
  },
  {
   "cell_type": "markdown",
   "metadata": {},
   "source": [
    "### Save model "
   ]
  },
  {
   "cell_type": "code",
   "execution_count": 16,
   "metadata": {},
   "outputs": [],
   "source": [
    "# save model artchitecture \n",
    "hat_model = model_history.model\n",
    "hat_model_json = hat_model.to_json()"
   ]
  },
  {
   "cell_type": "code",
   "execution_count": 17,
   "metadata": {},
   "outputs": [],
   "source": [
    "# serialize model to JSON\n",
    "with open(\"hat_model.json\", \"w\") as json_file:\n",
    "    json_file.write(hat_model_json)"
   ]
  },
  {
   "cell_type": "code",
   "execution_count": 18,
   "metadata": {},
   "outputs": [],
   "source": [
    "# load json and create model\n",
    "json_file = open('hat_model.json', 'r')\n",
    "loaded_model_json = json_file.read()\n",
    "json_file.close()\n",
    "loaded_model_hat = model_from_json(loaded_model_json)"
   ]
  },
  {
   "cell_type": "code",
   "execution_count": 19,
   "metadata": {},
   "outputs": [],
   "source": [
    "# load model weight \n",
    "loaded_model_hat.load_weights('../tuning_data/best_vgg_model_hat.h5')"
   ]
  },
  {
   "cell_type": "code",
   "execution_count": 20,
   "metadata": {},
   "outputs": [
    {
     "name": "stdout",
     "output_type": "stream",
     "text": [
      "Found 102 validated image filenames belonging to 2 classes.\n"
     ]
    }
   ],
   "source": [
    "test_gen = ImageDataGenerator(rescale=1./255)\n",
    "test_generator =  test_gen.flow_from_dataframe(\n",
    "    dataframe=test_df,\n",
    "    directory='../data/pics',\n",
    "    x_col='pic_id',\n",
    "    y_col='hat',\n",
    "    batch_size=16,\n",
    "    target_size=(150,150),\n",
    "    class_mode = 'binary')"
   ]
  },
  {
   "cell_type": "code",
   "execution_count": 21,
   "metadata": {},
   "outputs": [],
   "source": [
    "loaded_model_hat.compile(loss='binary_crossentropy',\n",
    "             optimizer=optimizers.SGD(lr=1e-4, momentum=0.9),\n",
    "             metrics=['accuracy'])"
   ]
  },
  {
   "cell_type": "code",
   "execution_count": 22,
   "metadata": {},
   "outputs": [
    {
     "data": {
      "text/plain": [
       "[0.24847973737062193, 0.9215686274509803]"
      ]
     },
     "execution_count": 22,
     "metadata": {},
     "output_type": "execute_result"
    }
   ],
   "source": [
    "loaded_model_hat.evaluate_generator(test_generator)"
   ]
  }
 ],
 "metadata": {
  "kernelspec": {
   "display_name": "Python 3",
   "language": "python",
   "name": "python3"
  },
  "language_info": {
   "codemirror_mode": {
    "name": "ipython",
    "version": 3
   },
   "file_extension": ".py",
   "mimetype": "text/x-python",
   "name": "python",
   "nbconvert_exporter": "python",
   "pygments_lexer": "ipython3",
   "version": "3.7.3"
  }
 },
 "nbformat": 4,
 "nbformat_minor": 2
}
