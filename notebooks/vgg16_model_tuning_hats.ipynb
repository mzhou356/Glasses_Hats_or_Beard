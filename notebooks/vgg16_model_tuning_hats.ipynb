{
 "cells": [
  {
   "cell_type": "markdown",
   "metadata": {},
   "source": [
    "## Transfer Learning Tuning_Hats:\n",
    "  * model parameter and other information can be found below:\n",
    "     * [source](https://blog.keras.io/building-powerful-image-classification-models-using-very-little-data.html)\n",
    "     \n",
    "  * base_model: use vgg16 and freeze at bottleneck layer (stop right before flatten layer) \n",
    "  * top_model: tune dense layers (parameters are inspired by source)\n",
    "     * batch_size 16 seems to work best for small data set \n",
    "\n",
    "##### warnings: make sure to restart kernel in between running different model tuning \n",
    "  \n",
    "---\n",
    "#### This cell is required in order to use GPU for running the model "
   ]
  },
  {
   "cell_type": "code",
   "execution_count": 1,
   "metadata": {},
   "outputs": [
    {
     "name": "stderr",
     "output_type": "stream",
     "text": [
      "Using TensorFlow backend.\n",
      "WARNING: Logging before flag parsing goes to stderr.\n",
      "W0828 23:50:44.756250 140270788245312 deprecation_wrapper.py:119] From /home/mindy/anaconda3/lib/python3.7/site-packages/keras/backend/tensorflow_backend.py:190: The name tf.get_default_session is deprecated. Please use tf.compat.v1.get_default_session instead.\n",
      "\n",
      "W0828 23:50:44.757252 140270788245312 deprecation_wrapper.py:119] From /home/mindy/anaconda3/lib/python3.7/site-packages/keras/backend/tensorflow_backend.py:207: The name tf.global_variables is deprecated. Please use tf.compat.v1.global_variables instead.\n",
      "\n"
     ]
    }
   ],
   "source": [
    "import warnings\n",
    "warnings.filterwarnings('ignore')\n",
    "import tensorflow as tf\n",
    "import keras\n",
    "from keras.backend.tensorflow_backend import set_session\n",
    "config = tf.ConfigProto()\n",
    "config.gpu_options.allow_growth = True  # dynamically grow the memory used on the GPU\n",
    "config.log_device_placement = True  # to log device placement (on which device the operation ran)\n",
    "                                    # (nothing gets printed in Jupyter, only if you run it standalone)\n",
    "sess = tf.Session(config=config)\n",
    "set_session(sess)  # set this TensorFlow session as the default session for Keras\n",
    "keras.backend.get_session().run(tf.global_variables_initializer())  "
   ]
  },
  {
   "cell_type": "markdown",
   "metadata": {},
   "source": [
    "---\n",
    "#### Import necessary libraries"
   ]
  },
  {
   "cell_type": "code",
   "execution_count": 2,
   "metadata": {},
   "outputs": [],
   "source": [
    "import pandas as pd\n",
    "import numpy as np\n",
    "import matplotlib.pyplot as plt\n",
    "%matplotlib inline\n",
    "from keras_preprocessing.image import ImageDataGenerator\n",
    "from keras.models import Sequential, Model\n",
    "from keras.layers import Dropout, Flatten, Dense\n",
    "from keras.applications.vgg16 import VGG16\n",
    "from keras import optimizers"
   ]
  },
  {
   "cell_type": "markdown",
   "metadata": {},
   "source": [
    "---\n",
    "#### Import train_df and test_df for hats"
   ]
  },
  {
   "cell_type": "code",
   "execution_count": 3,
   "metadata": {},
   "outputs": [],
   "source": [
    "train_df = pd.read_pickle('../pickle_files/train_df_hat.pkl')\n",
    "test_df = pd.read_pickle('../pickle_files/test_df_hat.pkl')"
   ]
  },
  {
   "cell_type": "markdown",
   "metadata": {},
   "source": [
    "#### Get bottleneck features to tune top models"
   ]
  },
  {
   "cell_type": "code",
   "execution_count": 5,
   "metadata": {},
   "outputs": [],
   "source": [
    "def save_bottleneck_features(train_df, test_df, label, batch_size):\n",
    "    '''\n",
    "    inputs:\n",
    "    train_df, test_df: train and test dataframes saved in pickle_files folder\n",
    "    label: a string, eyewear, hat, or beard\n",
    "    batch_size: process images in batches\n",
    "    outputs:\n",
    "    saves bottleneck features inside folder tuning_data as npy file\n",
    "    '''\n",
    "    # intialize the vgg16 model \n",
    "    # make sure not to train the top layers \n",
    "    base_model = VGG16(weights = 'imagenet', include_top = False)\n",
    "    # create train_generator and test_generator to get bottleneck inputs for train and test df \n",
    "    datagen = ImageDataGenerator(\n",
    "        rescale=1./255,\n",
    "        shear_range=0.2,\n",
    "        zoom_range=0.2,\n",
    "        horizontal_flip=True)\n",
    "    # make sure shuffle is False so we know the label follows the sequence of the dataframe \n",
    "    # so we can tune top_model \n",
    "    train_generator = datagen.flow_from_dataframe(\n",
    "    dataframe=train_df,\n",
    "    directory='../data/pics',\n",
    "    x_col='pic_id',\n",
    "    y_col=label,\n",
    "    batch_size=batch_size,\n",
    "    shuffle = False,\n",
    "    target_size=(150,150),\n",
    "    class_mode = None)\n",
    "    # get features saved as .npy in tunign_data folder \n",
    "    bottleneck_features_train = base_model.predict_generator(\n",
    "        train_generator, train_df.shape[0]//batch_size)\n",
    "    np.save(open('../tuning_data/bottleneck_features_train_hat.npy','wb'),\n",
    "           bottleneck_features_train)\n",
    "    \n",
    "    test_generator = datagen.flow_from_dataframe(\n",
    "    dataframe=test_df,\n",
    "    directory='../data/pics',\n",
    "    x_col='pic_id',\n",
    "    y_col=label,\n",
    "    batch_size=batch_size,\n",
    "    shuffle = False,\n",
    "    target_size=(150,150),\n",
    "    class_mode = None)\n",
    "    bottleneck_features_test = base_model.predict_generator(\n",
    "        test_generator, test_df.shape[0]//batch_size)\n",
    "    np.save(open('../tuning_data/bottleneck_features_test_hat.npy','wb'),\n",
    "           bottleneck_features_test)"
   ]
  },
  {
   "cell_type": "markdown",
   "metadata": {},
   "source": [
    "#### Save bottleneck_features"
   ]
  },
  {
   "cell_type": "code",
   "execution_count": 6,
   "metadata": {
    "scrolled": true
   },
   "outputs": [
    {
     "name": "stderr",
     "output_type": "stream",
     "text": [
      "W0828 23:41:35.554416 140480709474112 deprecation_wrapper.py:119] From /home/mindy/anaconda3/lib/python3.7/site-packages/keras/backend/tensorflow_backend.py:66: The name tf.get_default_graph is deprecated. Please use tf.compat.v1.get_default_graph instead.\n",
      "\n",
      "W0828 23:41:35.555227 140480709474112 deprecation_wrapper.py:119] From /home/mindy/anaconda3/lib/python3.7/site-packages/keras/backend/tensorflow_backend.py:541: The name tf.placeholder is deprecated. Please use tf.compat.v1.placeholder instead.\n",
      "\n",
      "W0828 23:41:35.557566 140480709474112 deprecation_wrapper.py:119] From /home/mindy/anaconda3/lib/python3.7/site-packages/keras/backend/tensorflow_backend.py:4432: The name tf.random_uniform is deprecated. Please use tf.random.uniform instead.\n",
      "\n",
      "W0828 23:41:35.576461 140480709474112 deprecation_wrapper.py:119] From /home/mindy/anaconda3/lib/python3.7/site-packages/keras/backend/tensorflow_backend.py:4267: The name tf.nn.max_pool is deprecated. Please use tf.nn.max_pool2d instead.\n",
      "\n"
     ]
    },
    {
     "name": "stdout",
     "output_type": "stream",
     "text": [
      "Found 408 validated image filenames.\n",
      "Found 102 validated image filenames.\n"
     ]
    }
   ],
   "source": [
    "save_bottleneck_features(train_df,test_df,'hat',16)"
   ]
  },
  {
   "cell_type": "markdown",
   "metadata": {},
   "source": [
    "### Quick tuning of top models "
   ]
  },
  {
   "cell_type": "code",
   "execution_count": 9,
   "metadata": {},
   "outputs": [],
   "source": [
    "def train_top_model(train_df, test_df, epoch, batch_size, label):\n",
    "    '''\n",
    "    inputs:\n",
    "    train_df, test_df: dataframes saved in pickle_files to generate train and test labels \n",
    "    epoch: num of epochs in fit \n",
    "    batch_size: same as image generator batch size \n",
    "    label: a string, eyewear, hat, or beard\n",
    "    output:\n",
    "    saves model weights in a folder \n",
    "    '''\n",
    "    train_data = np.load(open('../tuning_data/bottleneck_features_train_hat.npy','rb'))\n",
    "    # make sure train_data and train_label have same num of samples\n",
    "    train_label = np.array(train_df[label].map({'not_'+label:0, label:1}))[:-(train_df.shape[0]%batch_size)]\n",
    "    \n",
    "    test_data = np.load(open('../tuning_data/bottleneck_features_test_hat.npy','rb'))\n",
    "    test_label = np.array(test_df[label].map({'not_'+label:0, label:1}))[:-(test_df.shape[0]%batch_size)]\n",
    "    \n",
    "    # build top model\n",
    "    model = Sequential()\n",
    "    model.add(Flatten(input_shape=train_data.shape[1:]))\n",
    "    model.add(Dense(256, activation='relu'))\n",
    "    model.add(Dropout(0.5))\n",
    "    model.add(Dense(1, activation='sigmoid'))\n",
    "    \n",
    "    model.compile(optimizer='rmsprop',\n",
    "                 loss='binary_crossentropy',\n",
    "                 metrics=['accuracy'])\n",
    "    \n",
    "    model.fit(train_data, train_label,\n",
    "             epochs=epoch,\n",
    "             batch_size=batch_size,\n",
    "             validation_data=(test_data,test_label))\n",
    "    model.save_weights('../tuning_data/bottleneck_vgg_model_hat.h5')"
   ]
  },
  {
   "cell_type": "markdown",
   "metadata": {},
   "source": [
    "#### run train_top_model and save results in tuning_data"
   ]
  },
  {
   "cell_type": "code",
   "execution_count": 10,
   "metadata": {
    "scrolled": false
   },
   "outputs": [
    {
     "name": "stderr",
     "output_type": "stream",
     "text": [
      "W0828 23:42:30.142699 140480709474112 deprecation.py:506] From /home/mindy/anaconda3/lib/python3.7/site-packages/keras/backend/tensorflow_backend.py:3733: calling dropout (from tensorflow.python.ops.nn_ops) with keep_prob is deprecated and will be removed in a future version.\n",
      "Instructions for updating:\n",
      "Please use `rate` instead of `keep_prob`. Rate should be set to `rate = 1 - keep_prob`.\n",
      "W0828 23:42:30.199279 140480709474112 deprecation_wrapper.py:119] From /home/mindy/anaconda3/lib/python3.7/site-packages/keras/optimizers.py:793: The name tf.train.Optimizer is deprecated. Please use tf.compat.v1.train.Optimizer instead.\n",
      "\n",
      "W0828 23:42:30.208793 140480709474112 deprecation.py:323] From /home/mindy/anaconda3/lib/python3.7/site-packages/tensorflow/python/ops/nn_impl.py:180: add_dispatch_support.<locals>.wrapper (from tensorflow.python.ops.array_ops) is deprecated and will be removed in a future version.\n",
      "Instructions for updating:\n",
      "Use tf.where in 2.0, which has the same broadcast rule as np.where\n"
     ]
    },
    {
     "name": "stdout",
     "output_type": "stream",
     "text": [
      "Train on 400 samples, validate on 96 samples\n",
      "Epoch 1/50\n",
      "400/400 [==============================] - 0s 1ms/step - loss: 1.2050 - acc: 0.6925 - val_loss: 1.0183 - val_acc: 0.6667\n",
      "Epoch 2/50\n",
      "400/400 [==============================] - 0s 198us/step - loss: 0.4606 - acc: 0.8250 - val_loss: 0.2948 - val_acc: 0.8750\n",
      "Epoch 3/50\n",
      "400/400 [==============================] - 0s 200us/step - loss: 0.3382 - acc: 0.8975 - val_loss: 1.1490 - val_acc: 0.6667\n",
      "Epoch 4/50\n",
      "400/400 [==============================] - 0s 193us/step - loss: 0.3413 - acc: 0.9000 - val_loss: 0.7379 - val_acc: 0.7917\n",
      "Epoch 5/50\n",
      "400/400 [==============================] - 0s 200us/step - loss: 0.2150 - acc: 0.9150 - val_loss: 0.3191 - val_acc: 0.8750\n",
      "Epoch 6/50\n",
      "400/400 [==============================] - 0s 202us/step - loss: 0.2616 - acc: 0.9225 - val_loss: 0.3234 - val_acc: 0.8438\n",
      "Epoch 7/50\n",
      "400/400 [==============================] - 0s 206us/step - loss: 0.1480 - acc: 0.9550 - val_loss: 0.4162 - val_acc: 0.8958\n",
      "Epoch 8/50\n",
      "400/400 [==============================] - 0s 206us/step - loss: 0.0639 - acc: 0.9850 - val_loss: 0.4054 - val_acc: 0.8542\n",
      "Epoch 9/50\n",
      "400/400 [==============================] - 0s 204us/step - loss: 0.1176 - acc: 0.9450 - val_loss: 0.4042 - val_acc: 0.8958\n",
      "Epoch 10/50\n",
      "400/400 [==============================] - 0s 200us/step - loss: 0.0767 - acc: 0.9725 - val_loss: 0.3520 - val_acc: 0.8958\n",
      "Epoch 11/50\n",
      "400/400 [==============================] - 0s 208us/step - loss: 0.1009 - acc: 0.9625 - val_loss: 0.4822 - val_acc: 0.8854\n",
      "Epoch 12/50\n",
      "400/400 [==============================] - 0s 195us/step - loss: 0.0685 - acc: 0.9750 - val_loss: 0.3966 - val_acc: 0.9062\n",
      "Epoch 13/50\n",
      "400/400 [==============================] - 0s 197us/step - loss: 0.0553 - acc: 0.9775 - val_loss: 0.4657 - val_acc: 0.8750\n",
      "Epoch 14/50\n",
      "400/400 [==============================] - 0s 198us/step - loss: 0.0899 - acc: 0.9725 - val_loss: 0.3987 - val_acc: 0.8854\n",
      "Epoch 15/50\n",
      "400/400 [==============================] - 0s 199us/step - loss: 0.0197 - acc: 0.9925 - val_loss: 0.9247 - val_acc: 0.7812\n",
      "Epoch 16/50\n",
      "400/400 [==============================] - 0s 191us/step - loss: 0.0919 - acc: 0.9675 - val_loss: 0.5213 - val_acc: 0.8854\n",
      "Epoch 17/50\n",
      "400/400 [==============================] - 0s 188us/step - loss: 0.0326 - acc: 0.9875 - val_loss: 0.5078 - val_acc: 0.8958\n",
      "Epoch 18/50\n",
      "400/400 [==============================] - 0s 199us/step - loss: 0.0095 - acc: 0.9950 - val_loss: 0.5523 - val_acc: 0.8750\n",
      "Epoch 19/50\n",
      "400/400 [==============================] - 0s 197us/step - loss: 0.0377 - acc: 0.9825 - val_loss: 0.6089 - val_acc: 0.8854\n",
      "Epoch 20/50\n",
      "400/400 [==============================] - 0s 195us/step - loss: 0.0160 - acc: 0.9975 - val_loss: 0.5693 - val_acc: 0.8958\n",
      "Epoch 21/50\n",
      "400/400 [==============================] - 0s 184us/step - loss: 0.0018 - acc: 1.0000 - val_loss: 0.7241 - val_acc: 0.8646\n",
      "Epoch 22/50\n",
      "400/400 [==============================] - 0s 195us/step - loss: 0.0975 - acc: 0.9725 - val_loss: 0.7185 - val_acc: 0.8854\n",
      "Epoch 23/50\n",
      "400/400 [==============================] - 0s 193us/step - loss: 0.0273 - acc: 0.9875 - val_loss: 0.6856 - val_acc: 0.8750\n",
      "Epoch 24/50\n",
      "400/400 [==============================] - 0s 190us/step - loss: 0.0068 - acc: 0.9975 - val_loss: 0.6902 - val_acc: 0.8958\n",
      "Epoch 25/50\n",
      "400/400 [==============================] - 0s 195us/step - loss: 0.0486 - acc: 0.9825 - val_loss: 0.7188 - val_acc: 0.8646\n",
      "Epoch 26/50\n",
      "400/400 [==============================] - 0s 197us/step - loss: 3.8784e-04 - acc: 1.0000 - val_loss: 0.7173 - val_acc: 0.8750\n",
      "Epoch 27/50\n",
      "400/400 [==============================] - 0s 192us/step - loss: 0.0102 - acc: 0.9950 - val_loss: 0.6660 - val_acc: 0.8958\n",
      "Epoch 28/50\n",
      "400/400 [==============================] - 0s 194us/step - loss: 0.0042 - acc: 1.0000 - val_loss: 0.6872 - val_acc: 0.8958\n",
      "Epoch 29/50\n",
      "400/400 [==============================] - 0s 189us/step - loss: 1.8415e-04 - acc: 1.0000 - val_loss: 0.7108 - val_acc: 0.8958\n",
      "Epoch 30/50\n",
      "400/400 [==============================] - 0s 197us/step - loss: 0.0016 - acc: 1.0000 - val_loss: 0.6659 - val_acc: 0.8958\n",
      "Epoch 31/50\n",
      "400/400 [==============================] - 0s 194us/step - loss: 0.0061 - acc: 0.9950 - val_loss: 0.7469 - val_acc: 0.8854\n",
      "Epoch 32/50\n",
      "400/400 [==============================] - 0s 195us/step - loss: 0.0213 - acc: 0.9900 - val_loss: 0.9018 - val_acc: 0.9062\n",
      "Epoch 33/50\n",
      "400/400 [==============================] - 0s 193us/step - loss: 0.0460 - acc: 0.9825 - val_loss: 0.8131 - val_acc: 0.8646\n",
      "Epoch 34/50\n",
      "400/400 [==============================] - 0s 192us/step - loss: 0.0013 - acc: 1.0000 - val_loss: 0.7880 - val_acc: 0.8854\n",
      "Epoch 35/50\n",
      "400/400 [==============================] - 0s 195us/step - loss: 1.5762e-04 - acc: 1.0000 - val_loss: 0.8385 - val_acc: 0.8646\n",
      "Epoch 36/50\n",
      "400/400 [==============================] - 0s 194us/step - loss: 0.0130 - acc: 0.9950 - val_loss: 0.7606 - val_acc: 0.8750\n",
      "Epoch 37/50\n",
      "400/400 [==============================] - 0s 206us/step - loss: 3.2117e-04 - acc: 1.0000 - val_loss: 0.7860 - val_acc: 0.8958\n",
      "Epoch 38/50\n",
      "400/400 [==============================] - 0s 204us/step - loss: 7.6999e-04 - acc: 1.0000 - val_loss: 0.7418 - val_acc: 0.9062\n",
      "Epoch 39/50\n",
      "400/400 [==============================] - 0s 195us/step - loss: 0.0053 - acc: 0.9975 - val_loss: 0.8723 - val_acc: 0.8750\n",
      "Epoch 40/50\n",
      "400/400 [==============================] - 0s 193us/step - loss: 0.0106 - acc: 0.9975 - val_loss: 0.8064 - val_acc: 0.8958\n",
      "Epoch 41/50\n",
      "400/400 [==============================] - 0s 191us/step - loss: 0.0081 - acc: 0.9975 - val_loss: 0.8267 - val_acc: 0.8958\n",
      "Epoch 42/50\n",
      "400/400 [==============================] - 0s 187us/step - loss: 9.3322e-04 - acc: 1.0000 - val_loss: 0.9230 - val_acc: 0.9062\n",
      "Epoch 43/50\n",
      "400/400 [==============================] - 0s 199us/step - loss: 0.0112 - acc: 0.9925 - val_loss: 0.8491 - val_acc: 0.8958\n",
      "Epoch 44/50\n",
      "400/400 [==============================] - 0s 204us/step - loss: 3.1020e-05 - acc: 1.0000 - val_loss: 0.8649 - val_acc: 0.8958\n",
      "Epoch 45/50\n",
      "400/400 [==============================] - 0s 208us/step - loss: 1.5965e-05 - acc: 1.0000 - val_loss: 0.8764 - val_acc: 0.8958\n",
      "Epoch 46/50\n",
      "400/400 [==============================] - 0s 215us/step - loss: 0.0099 - acc: 0.9975 - val_loss: 0.8534 - val_acc: 0.8958\n",
      "Epoch 47/50\n",
      "400/400 [==============================] - 0s 207us/step - loss: 7.3791e-05 - acc: 1.0000 - val_loss: 0.8749 - val_acc: 0.8958\n",
      "Epoch 48/50\n",
      "400/400 [==============================] - 0s 193us/step - loss: 6.2467e-06 - acc: 1.0000 - val_loss: 0.8858 - val_acc: 0.8958\n",
      "Epoch 49/50\n",
      "400/400 [==============================] - 0s 193us/step - loss: 0.0108 - acc: 0.9975 - val_loss: 0.9009 - val_acc: 0.8958\n",
      "Epoch 50/50\n",
      "400/400 [==============================] - 0s 195us/step - loss: 0.0059 - acc: 0.9975 - val_loss: 0.8788 - val_acc: 0.8958\n"
     ]
    }
   ],
   "source": [
    "train_top_model(train_df, test_df, 50, 16, 'hat')"
   ]
  },
  {
   "cell_type": "markdown",
   "metadata": {},
   "source": [
    "### Fine Tune Top Model to improve accuracy"
   ]
  },
  {
   "cell_type": "code",
   "execution_count": 4,
   "metadata": {},
   "outputs": [],
   "source": [
    "def fine_tune_model(train_df, test_df,epoch, batch_size,label, print_model = True):\n",
    "    # build VGG16 model and freeze top layers\n",
    "    # input_shape: width, height, RGB (from image generator)\n",
    "    model_vgg = VGG16(weights='imagenet',include_top=False, input_shape=(150,150,3))\n",
    "    # build top model\n",
    "    top_model = Sequential()\n",
    "    top_model.add(Flatten(input_shape=model_vgg.output_shape[1:]))\n",
    "    top_model.add(Dense(256,activation='relu'))\n",
    "    top_model.add(Dropout(0.5))\n",
    "    top_model.add(Dense(1, activation='sigmoid'))\n",
    "    \n",
    "    # load saved weights to fine tune parameters \n",
    "    top_model.load_weights('../tuning_data/bottleneck_vgg_model_hat.h5')\n",
    "    # add top model to model\n",
    "    model = Model(inputs=model_vgg.input, outputs=top_model(model_vgg.output))\n",
    "    # we will tune last 5 layers of the model: block5 and fully connected layer \n",
    "    for layer in model.layers[:15]:\n",
    "        layer.trainable = False\n",
    "    # we can tune the parameters for lr and momentum later to get better results\n",
    "    model.compile(loss='binary_crossentropy',\n",
    "             optimizer=optimizers.SGD(lr=1e-4, momentum=0.9),\n",
    "             metrics=['accuracy'])\n",
    "    # prepare train generator using data augmentation to battle small sample size \n",
    "    train_gen = ImageDataGenerator(\n",
    "        rescale=1./255,\n",
    "        shear_range=0.2,\n",
    "        zoom_range=0.2,\n",
    "        horizontal_flip=True)\n",
    "    # not want to augment the test \n",
    "    test_gen = ImageDataGenerator(rescale=1./255)\n",
    "    \n",
    "    train_generator =  train_gen.flow_from_dataframe(\n",
    "    dataframe=train_df,\n",
    "    directory='../data/pics',\n",
    "    x_col='pic_id',\n",
    "    y_col=label,\n",
    "    batch_size=batch_size,\n",
    "    target_size=(150,150),\n",
    "    class_mode = 'binary')\n",
    "    \n",
    "    test_generator =  test_gen.flow_from_dataframe(\n",
    "    dataframe=test_df,\n",
    "    directory='../data/pics',\n",
    "    x_col='pic_id',\n",
    "    y_col=label,\n",
    "    batch_size=batch_size,\n",
    "    target_size=(150,150),\n",
    "    class_mode = 'binary')\n",
    "    \n",
    "    # run and fit model \n",
    "    history = model.fit_generator(\n",
    "    train_generator,\n",
    "    steps_per_epoch=train_df.shape[0]//batch_size,\n",
    "    epochs=epoch,\n",
    "    validation_data=test_generator,\n",
    "    validation_steps=test_df.shape[0]//batch_size,\n",
    "    verbose=1)\n",
    "    \n",
    "    if print_model:\n",
    "        model.summary()\n",
    "    return history                  "
   ]
  },
  {
   "cell_type": "markdown",
   "metadata": {},
   "source": [
    "### save model history "
   ]
  },
  {
   "cell_type": "code",
   "execution_count": 5,
   "metadata": {},
   "outputs": [
    {
     "name": "stderr",
     "output_type": "stream",
     "text": [
      "W0828 23:51:01.262376 140270788245312 deprecation_wrapper.py:119] From /home/mindy/anaconda3/lib/python3.7/site-packages/keras/backend/tensorflow_backend.py:66: The name tf.get_default_graph is deprecated. Please use tf.compat.v1.get_default_graph instead.\n",
      "\n",
      "W0828 23:51:01.263641 140270788245312 deprecation_wrapper.py:119] From /home/mindy/anaconda3/lib/python3.7/site-packages/keras/backend/tensorflow_backend.py:541: The name tf.placeholder is deprecated. Please use tf.compat.v1.placeholder instead.\n",
      "\n",
      "W0828 23:51:01.265417 140270788245312 deprecation_wrapper.py:119] From /home/mindy/anaconda3/lib/python3.7/site-packages/keras/backend/tensorflow_backend.py:4432: The name tf.random_uniform is deprecated. Please use tf.random.uniform instead.\n",
      "\n",
      "W0828 23:51:01.283140 140270788245312 deprecation_wrapper.py:119] From /home/mindy/anaconda3/lib/python3.7/site-packages/keras/backend/tensorflow_backend.py:4267: The name tf.nn.max_pool is deprecated. Please use tf.nn.max_pool2d instead.\n",
      "\n",
      "W0828 23:51:01.899982 140270788245312 deprecation.py:506] From /home/mindy/anaconda3/lib/python3.7/site-packages/keras/backend/tensorflow_backend.py:3733: calling dropout (from tensorflow.python.ops.nn_ops) with keep_prob is deprecated and will be removed in a future version.\n",
      "Instructions for updating:\n",
      "Please use `rate` instead of `keep_prob`. Rate should be set to `rate = 1 - keep_prob`.\n",
      "W0828 23:51:01.990326 140270788245312 deprecation_wrapper.py:119] From /home/mindy/anaconda3/lib/python3.7/site-packages/keras/optimizers.py:793: The name tf.train.Optimizer is deprecated. Please use tf.compat.v1.train.Optimizer instead.\n",
      "\n",
      "W0828 23:51:01.994895 140270788245312 deprecation.py:323] From /home/mindy/anaconda3/lib/python3.7/site-packages/tensorflow/python/ops/nn_impl.py:180: add_dispatch_support.<locals>.wrapper (from tensorflow.python.ops.array_ops) is deprecated and will be removed in a future version.\n",
      "Instructions for updating:\n",
      "Use tf.where in 2.0, which has the same broadcast rule as np.where\n"
     ]
    },
    {
     "name": "stdout",
     "output_type": "stream",
     "text": [
      "Found 408 validated image filenames belonging to 2 classes.\n",
      "Found 102 validated image filenames belonging to 2 classes.\n",
      "Epoch 1/50\n",
      "25/25 [==============================] - 4s 146ms/step - loss: 8.7501 - acc: 0.4126 - val_loss: 7.8051 - val_acc: 0.5104\n",
      "Epoch 2/50\n",
      "25/25 [==============================] - 4s 145ms/step - loss: 7.9329 - acc: 0.5024 - val_loss: 7.9712 - val_acc: 0.5000\n",
      "Epoch 3/50\n",
      "25/25 [==============================] - 3s 128ms/step - loss: 7.6935 - acc: 0.5174 - val_loss: 7.7858 - val_acc: 0.5116\n",
      "Epoch 4/50\n",
      "25/25 [==============================] - 3s 129ms/step - loss: 8.3299 - acc: 0.4775 - val_loss: 8.3419 - val_acc: 0.4767\n",
      "Epoch 5/50\n",
      "25/25 [==============================] - 3s 112ms/step - loss: 7.8163 - acc: 0.5097 - val_loss: 7.7858 - val_acc: 0.5116\n",
      "Epoch 6/50\n",
      "25/25 [==============================] - 3s 127ms/step - loss: 8.1276 - acc: 0.4902 - val_loss: 7.7858 - val_acc: 0.5116\n",
      "Epoch 7/50\n",
      "25/25 [==============================] - 3s 110ms/step - loss: 7.6521 - acc: 0.5200 - val_loss: 8.3419 - val_acc: 0.4767\n",
      "Epoch 8/50\n",
      "25/25 [==============================] - 3s 117ms/step - loss: 8.2887 - acc: 0.4801 - val_loss: 7.8051 - val_acc: 0.5104\n",
      "Epoch 9/50\n",
      "25/25 [==============================] - 4s 153ms/step - loss: 8.0908 - acc: 0.4925 - val_loss: 8.3419 - val_acc: 0.4767\n",
      "Epoch 10/50\n",
      "25/25 [==============================] - 3s 110ms/step - loss: 7.4522 - acc: 0.5326 - val_loss: 7.4151 - val_acc: 0.5349\n",
      "Epoch 11/50\n",
      "25/25 [==============================] - 3s 118ms/step - loss: 8.3286 - acc: 0.4776 - val_loss: 7.4151 - val_acc: 0.5349\n",
      "Epoch 12/50\n",
      "25/25 [==============================] - 3s 111ms/step - loss: 8.0509 - acc: 0.4950 - val_loss: 9.4542 - val_acc: 0.4070\n",
      "Epoch 13/50\n",
      "25/25 [==============================] - 3s 114ms/step - loss: 8.0079 - acc: 0.4977 - val_loss: 7.4151 - val_acc: 0.5349\n",
      "Epoch 14/50\n",
      "25/25 [==============================] - 3s 112ms/step - loss: 8.0111 - acc: 0.4975 - val_loss: 7.9712 - val_acc: 0.5000\n",
      "Epoch 15/50\n",
      "25/25 [==============================] - 3s 124ms/step - loss: 8.0463 - acc: 0.4953 - val_loss: 7.9712 - val_acc: 0.5000\n",
      "Epoch 16/50\n",
      "25/25 [==============================] - 3s 132ms/step - loss: 8.0110 - acc: 0.4975 - val_loss: 7.9712 - val_acc: 0.5000\n",
      "Epoch 17/50\n",
      "25/25 [==============================] - 3s 125ms/step - loss: 7.9712 - acc: 0.5000 - val_loss: 7.6004 - val_acc: 0.5233\n",
      "Epoch 18/50\n",
      "25/25 [==============================] - 3s 117ms/step - loss: 7.7366 - acc: 0.5147 - val_loss: 8.7127 - val_acc: 0.4535\n",
      "Epoch 19/50\n",
      "25/25 [==============================] - 3s 106ms/step - loss: 7.9297 - acc: 0.5026 - val_loss: 7.4151 - val_acc: 0.5349\n",
      "Epoch 20/50\n",
      "25/25 [==============================] - 3s 125ms/step - loss: 8.0110 - acc: 0.4975 - val_loss: 8.5273 - val_acc: 0.4651\n",
      "Epoch 21/50\n",
      "25/25 [==============================] - 3s 112ms/step - loss: 8.0541 - acc: 0.4948 - val_loss: 7.6004 - val_acc: 0.5233\n",
      "Epoch 22/50\n",
      "25/25 [==============================] - 3s 126ms/step - loss: 7.8515 - acc: 0.5075 - val_loss: 7.8051 - val_acc: 0.5104\n",
      "Epoch 23/50\n",
      "25/25 [==============================] - 3s 133ms/step - loss: 7.8883 - acc: 0.5052 - val_loss: 7.4151 - val_acc: 0.5349\n",
      "Epoch 24/50\n",
      "25/25 [==============================] - 3s 122ms/step - loss: 8.0525 - acc: 0.4949 - val_loss: 8.5273 - val_acc: 0.4651\n",
      "Epoch 25/50\n",
      "25/25 [==============================] - 3s 116ms/step - loss: 8.1323 - acc: 0.4899 - val_loss: 8.5273 - val_acc: 0.4651\n",
      "Epoch 26/50\n",
      "25/25 [==============================] - 3s 111ms/step - loss: 7.8899 - acc: 0.5051 - val_loss: 7.2297 - val_acc: 0.5465\n",
      "Epoch 27/50\n",
      "25/25 [==============================] - 3s 122ms/step - loss: 7.9297 - acc: 0.5026 - val_loss: 8.3419 - val_acc: 0.4767\n",
      "Epoch 28/50\n",
      "25/25 [==============================] - 3s 123ms/step - loss: 8.0494 - acc: 0.4951 - val_loss: 7.9712 - val_acc: 0.5000\n",
      "Epoch 29/50\n",
      "25/25 [==============================] - 3s 124ms/step - loss: 8.1738 - acc: 0.4873 - val_loss: 7.9712 - val_acc: 0.5000\n",
      "Epoch 30/50\n",
      "25/25 [==============================] - 4s 143ms/step - loss: 7.5340 - acc: 0.5274 - val_loss: 7.7858 - val_acc: 0.5116\n",
      "Epoch 31/50\n",
      "25/25 [==============================] - 3s 135ms/step - loss: 8.3701 - acc: 0.4750 - val_loss: 9.0835 - val_acc: 0.4302\n",
      "Epoch 32/50\n",
      "25/25 [==============================] - 3s 125ms/step - loss: 7.7719 - acc: 0.5125 - val_loss: 6.8589 - val_acc: 0.5698\n",
      "Epoch 33/50\n",
      "25/25 [==============================] - 3s 111ms/step - loss: 7.9712 - acc: 0.5000 - val_loss: 8.3419 - val_acc: 0.4767\n",
      "Epoch 34/50\n",
      "25/25 [==============================] - 3s 110ms/step - loss: 7.8516 - acc: 0.5075 - val_loss: 7.7858 - val_acc: 0.5116\n",
      "Epoch 35/50\n",
      "25/25 [==============================] - 3s 121ms/step - loss: 7.8546 - acc: 0.5073 - val_loss: 7.9712 - val_acc: 0.5000\n",
      "Epoch 36/50\n",
      "25/25 [==============================] - 3s 124ms/step - loss: 8.3317 - acc: 0.4774 - val_loss: 7.9712 - val_acc: 0.5000\n",
      "Epoch 37/50\n",
      "25/25 [==============================] - 4s 142ms/step - loss: 7.5726 - acc: 0.5250 - val_loss: 7.7858 - val_acc: 0.5116\n",
      "Epoch 38/50\n",
      "25/25 [==============================] - 3s 118ms/step - loss: 8.1706 - acc: 0.4875 - val_loss: 7.9712 - val_acc: 0.5000\n",
      "Epoch 39/50\n",
      "25/25 [==============================] - 3s 118ms/step - loss: 7.9345 - acc: 0.5023 - val_loss: 8.7127 - val_acc: 0.4535\n",
      "Epoch 40/50\n",
      "25/25 [==============================] - 3s 112ms/step - loss: 7.6922 - acc: 0.5175 - val_loss: 7.6004 - val_acc: 0.5233\n",
      "Epoch 41/50\n",
      "25/25 [==============================] - 3s 117ms/step - loss: 8.1724 - acc: 0.4874 - val_loss: 7.6004 - val_acc: 0.5233\n",
      "Epoch 42/50\n",
      "25/25 [==============================] - 3s 116ms/step - loss: 7.6922 - acc: 0.5175 - val_loss: 8.1566 - val_acc: 0.4884\n",
      "Epoch 43/50\n",
      "25/25 [==============================] - 3s 123ms/step - loss: 8.3286 - acc: 0.4776 - val_loss: 8.1373 - val_acc: 0.4896\n",
      "Epoch 44/50\n",
      "25/25 [==============================] - 3s 129ms/step - loss: 7.8115 - acc: 0.5100 - val_loss: 7.6004 - val_acc: 0.5233\n",
      "Epoch 45/50\n",
      "25/25 [==============================] - 3s 119ms/step - loss: 7.8132 - acc: 0.5099 - val_loss: 7.9712 - val_acc: 0.5000\n",
      "Epoch 46/50\n",
      "25/25 [==============================] - 3s 120ms/step - loss: 7.8118 - acc: 0.5100 - val_loss: 7.9712 - val_acc: 0.5000\n",
      "Epoch 47/50\n",
      "25/25 [==============================] - 3s 115ms/step - loss: 8.0494 - acc: 0.4951 - val_loss: 8.5273 - val_acc: 0.4651\n",
      "Epoch 48/50\n",
      "25/25 [==============================] - 3s 120ms/step - loss: 8.2107 - acc: 0.4850 - val_loss: 7.0443 - val_acc: 0.5581\n",
      "Epoch 49/50\n",
      "25/25 [==============================] - 3s 115ms/step - loss: 7.9712 - acc: 0.5000 - val_loss: 8.5273 - val_acc: 0.4651\n",
      "Epoch 50/50\n",
      "25/25 [==============================] - 3s 118ms/step - loss: 8.0862 - acc: 0.4928 - val_loss: 8.4694 - val_acc: 0.4688\n",
      "Model: \"model_1\"\n",
      "_________________________________________________________________\n",
      "Layer (type)                 Output Shape              Param #   \n",
      "=================================================================\n",
      "input_1 (InputLayer)         (None, 150, 150, 3)       0         \n",
      "_________________________________________________________________\n",
      "block1_conv1 (Conv2D)        (None, 150, 150, 64)      1792      \n",
      "_________________________________________________________________\n",
      "block1_conv2 (Conv2D)        (None, 150, 150, 64)      36928     \n",
      "_________________________________________________________________\n",
      "block1_pool (MaxPooling2D)   (None, 75, 75, 64)        0         \n",
      "_________________________________________________________________\n",
      "block2_conv1 (Conv2D)        (None, 75, 75, 128)       73856     \n",
      "_________________________________________________________________\n",
      "block2_conv2 (Conv2D)        (None, 75, 75, 128)       147584    \n",
      "_________________________________________________________________\n",
      "block2_pool (MaxPooling2D)   (None, 37, 37, 128)       0         \n",
      "_________________________________________________________________\n",
      "block3_conv1 (Conv2D)        (None, 37, 37, 256)       295168    \n",
      "_________________________________________________________________\n",
      "block3_conv2 (Conv2D)        (None, 37, 37, 256)       590080    \n",
      "_________________________________________________________________\n",
      "block3_conv3 (Conv2D)        (None, 37, 37, 256)       590080    \n",
      "_________________________________________________________________\n",
      "block3_pool (MaxPooling2D)   (None, 18, 18, 256)       0         \n",
      "_________________________________________________________________\n",
      "block4_conv1 (Conv2D)        (None, 18, 18, 512)       1180160   \n",
      "_________________________________________________________________\n",
      "block4_conv2 (Conv2D)        (None, 18, 18, 512)       2359808   \n",
      "_________________________________________________________________\n",
      "block4_conv3 (Conv2D)        (None, 18, 18, 512)       2359808   \n",
      "_________________________________________________________________\n",
      "block4_pool (MaxPooling2D)   (None, 9, 9, 512)         0         \n",
      "_________________________________________________________________\n",
      "block5_conv1 (Conv2D)        (None, 9, 9, 512)         2359808   \n",
      "_________________________________________________________________\n",
      "block5_conv2 (Conv2D)        (None, 9, 9, 512)         2359808   \n",
      "_________________________________________________________________\n",
      "block5_conv3 (Conv2D)        (None, 9, 9, 512)         2359808   \n",
      "_________________________________________________________________\n",
      "block5_pool (MaxPooling2D)   (None, 4, 4, 512)         0         \n",
      "_________________________________________________________________\n",
      "sequential_1 (Sequential)    (None, 1)                 2097665   \n",
      "=================================================================\n",
      "Total params: 16,812,353\n",
      "Trainable params: 9,177,089\n",
      "Non-trainable params: 7,635,264\n",
      "_________________________________________________________________\n"
     ]
    }
   ],
   "source": [
    "model_history = fine_tune_model(train_df, test_df,50,16,'hat')"
   ]
  },
  {
   "cell_type": "code",
   "execution_count": 6,
   "metadata": {},
   "outputs": [
    {
     "name": "stdout",
     "output_type": "stream",
     "text": [
      "highest test accuracy: 0.972972972972973\n",
      "------------------\n",
      "highest train accuracy: 0.9838709677419355\n"
     ]
    }
   ],
   "source": [
    "highest_val_acc, highest_train_acc = max(model_history.history['val_acc']), max(model_history.history['acc'])\n",
    "print(f'highest test accuracy: {highest_val_acc}')\n",
    "print('------------------')\n",
    "print(f'highest train accuracy: {highest_train_acc}')"
   ]
  },
  {
   "cell_type": "code",
   "execution_count": 8,
   "metadata": {},
   "outputs": [
    {
     "name": "stdout",
     "output_type": "stream",
     "text": [
      "lowest test loss: 0.0918908021874256\n",
      "------------------\n",
      "lowest train loss: 0.062466412995978125\n"
     ]
    }
   ],
   "source": [
    "lowest_val_loss, lowest_train_loss = min(model_history.history['val_loss']), min(model_history.history['loss'])\n",
    "print(f'lowest test loss: {lowest_val_loss}')\n",
    "print('------------------')\n",
    "print(f'lowest train loss: {lowest_train_loss}')"
   ]
  },
  {
   "cell_type": "code",
   "execution_count": 10,
   "metadata": {},
   "outputs": [
    {
     "data": {
      "image/png": "[encoded data removed]",
      "text/plain": [
       "<Figure size 432x288 with 1 Axes>"
      ]
     },
     "metadata": {
      "needs_background": "light"
     },
     "output_type": "display_data"
    }
   ],
   "source": [
    "plt.plot(model_history.history['val_acc'], color = 'red', label = 'test')\n",
    "plt.plot(model_history.history['acc'], color = 'blue', label = 'train')\n",
    "plt.title('accuracy')\n",
    "plt.ylabel('accuracy')\n",
    "plt.legend()\n",
    "plt.show()"
   ]
  },
  {
   "cell_type": "code",
   "execution_count": 11,
   "metadata": {},
   "outputs": [
    {
     "data": {
      "image/png": "[encoded data removed]",
      "text/plain": [
       "<Figure size 432x288 with 1 Axes>"
      ]
     },
     "metadata": {
      "needs_background": "light"
     },
     "output_type": "display_data"
    }
   ],
   "source": [
    "plt.plot(model_history.history['val_loss'], color = 'red', label = 'test')\n",
    "plt.plot(model_history.history['loss'], color = 'blue', label = 'train')\n",
    "plt.title('loss')\n",
    "plt.ylabel('loss')\n",
    "plt.legend()\n",
    "plt.show()"
   ]
  }
 ],
 "metadata": {
  "kernelspec": {
   "display_name": "Python 3",
   "language": "python",
   "name": "python3"
  },
  "language_info": {
   "codemirror_mode": {
    "name": "ipython",
    "version": 3
   },
   "file_extension": ".py",
   "mimetype": "text/x-python",
   "name": "python",
   "nbconvert_exporter": "python",
   "pygments_lexer": "ipython3",
   "version": "3.7.3"
  }
 },
 "nbformat": 4,
 "nbformat_minor": 2
}
