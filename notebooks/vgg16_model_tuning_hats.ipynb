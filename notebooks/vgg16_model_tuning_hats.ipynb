{
 "cells": [
  {
   "cell_type": "markdown",
   "metadata": {},
   "source": [
    "## Transfer Learning Tuning_Hats:\n",
    "  * model parameter and other information can be found below:\n",
    "     * [source](https://blog.keras.io/building-powerful-image-classification-models-using-very-little-data.html)\n",
    "     \n",
    "  * base_model: use vgg16 and freeze at bottleneck layer (stop right before flatten layer) \n",
    "  * top_model: tune dense layers (parameters are inspired by source)\n",
    "     * batch_size 16 seems to work best for small data set \n",
    "\n",
    "##### warnings: make sure to restart kernel in between running different model tuning \n",
    "  \n",
    "---\n",
    "#### This cell is required in order to use GPU for running the model "
   ]
  },
  {
   "cell_type": "code",
   "execution_count": 1,
   "metadata": {},
   "outputs": [
    {
     "name": "stderr",
     "output_type": "stream",
     "text": [
      "Using TensorFlow backend.\n",
      "WARNING: Logging before flag parsing goes to stderr.\n",
      "W0829 00:41:34.068196 140472394508096 deprecation_wrapper.py:119] From /home/mindy/anaconda3/lib/python3.7/site-packages/keras/backend/tensorflow_backend.py:190: The name tf.get_default_session is deprecated. Please use tf.compat.v1.get_default_session instead.\n",
      "\n",
      "W0829 00:41:34.069166 140472394508096 deprecation_wrapper.py:119] From /home/mindy/anaconda3/lib/python3.7/site-packages/keras/backend/tensorflow_backend.py:207: The name tf.global_variables is deprecated. Please use tf.compat.v1.global_variables instead.\n",
      "\n"
     ]
    }
   ],
   "source": [
    "import warnings\n",
    "warnings.filterwarnings('ignore')\n",
    "import tensorflow as tf\n",
    "import keras\n",
    "from keras.backend.tensorflow_backend import set_session\n",
    "config = tf.ConfigProto()\n",
    "config.gpu_options.allow_growth = True  # dynamically grow the memory used on the GPU\n",
    "config.log_device_placement = True  # to log device placement (on which device the operation ran)\n",
    "                                    # (nothing gets printed in Jupyter, only if you run it standalone)\n",
    "sess = tf.Session(config=config)\n",
    "set_session(sess)  # set this TensorFlow session as the default session for Keras\n",
    "keras.backend.get_session().run(tf.global_variables_initializer())  "
   ]
  },
  {
   "cell_type": "markdown",
   "metadata": {},
   "source": [
    "---\n",
    "#### Import necessary libraries"
   ]
  },
  {
   "cell_type": "code",
   "execution_count": 2,
   "metadata": {},
   "outputs": [],
   "source": [
    "import pandas as pd\n",
    "import numpy as np\n",
    "import matplotlib.pyplot as plt\n",
    "%matplotlib inline\n",
    "from keras_preprocessing.image import ImageDataGenerator\n",
    "from keras.models import Sequential, Model\n",
    "from keras.layers import Dropout, Flatten, Dense\n",
    "from keras.applications.vgg16 import VGG16\n",
    "from keras import optimizers"
   ]
  },
  {
   "cell_type": "markdown",
   "metadata": {},
   "source": [
    "---\n",
    "#### Import train_df and test_df for hats"
   ]
  },
  {
   "cell_type": "code",
   "execution_count": 3,
   "metadata": {},
   "outputs": [],
   "source": [
    "train_df = pd.read_pickle('../pickle_files/train_df_hat.pkl')\n",
    "test_df = pd.read_pickle('../pickle_files/test_df_hat.pkl')"
   ]
  },
  {
   "cell_type": "markdown",
   "metadata": {},
   "source": [
    "#### Get bottleneck features to tune top models"
   ]
  },
  {
   "cell_type": "code",
   "execution_count": 4,
   "metadata": {},
   "outputs": [],
   "source": [
    "def save_bottleneck_features(train_df, test_df, label, batch_size):\n",
    "    '''\n",
    "    inputs:\n",
    "    train_df, test_df: train and test dataframes saved in pickle_files folder\n",
    "    label: a string, eyewear, hat, or beard\n",
    "    batch_size: process images in batches\n",
    "    outputs:\n",
    "    saves bottleneck features inside folder tuning_data as npy file\n",
    "    '''\n",
    "    # intialize the vgg16 model \n",
    "    # make sure not to train the top layers \n",
    "    base_model = VGG16(weights = 'imagenet', include_top = False)\n",
    "    # create train_generator and test_generator to get bottleneck inputs for train and test df \n",
    "    datagen = ImageDataGenerator(\n",
    "        rescale=1./255,\n",
    "        shear_range=0.2,\n",
    "        zoom_range=0.2,\n",
    "        horizontal_flip=True)\n",
    "    # make sure shuffle is False so we know the label follows the sequence of the dataframe \n",
    "    # so we can tune top_model \n",
    "    train_generator = datagen.flow_from_dataframe(\n",
    "    dataframe=train_df,\n",
    "    directory='../data/pics',\n",
    "    x_col='pic_id',\n",
    "    y_col=label,\n",
    "    batch_size=batch_size,\n",
    "    shuffle = False,\n",
    "    target_size=(150,150),\n",
    "    class_mode = None)\n",
    "    # get features saved as .npy in tunign_data folder \n",
    "    bottleneck_features_train = base_model.predict_generator(\n",
    "        train_generator, train_df.shape[0]//batch_size)\n",
    "    np.save(open('../tuning_data/bottleneck_features_train_hat.npy','wb'),\n",
    "           bottleneck_features_train)\n",
    "    \n",
    "    test_generator = datagen.flow_from_dataframe(\n",
    "    dataframe=test_df,\n",
    "    directory='../data/pics',\n",
    "    x_col='pic_id',\n",
    "    y_col=label,\n",
    "    batch_size=batch_size,\n",
    "    shuffle = False,\n",
    "    target_size=(150,150),\n",
    "    class_mode = None)\n",
    "    bottleneck_features_test = base_model.predict_generator(\n",
    "        test_generator, test_df.shape[0]//batch_size)\n",
    "    np.save(open('../tuning_data/bottleneck_features_test_hat.npy','wb'),\n",
    "           bottleneck_features_test)"
   ]
  },
  {
   "cell_type": "markdown",
   "metadata": {},
   "source": [
    "#### Save bottleneck_features"
   ]
  },
  {
   "cell_type": "code",
   "execution_count": 5,
   "metadata": {
    "scrolled": true
   },
   "outputs": [
    {
     "name": "stderr",
     "output_type": "stream",
     "text": [
      "W0829 00:22:28.914157 139767128643392 deprecation_wrapper.py:119] From /home/mindy/anaconda3/lib/python3.7/site-packages/keras/backend/tensorflow_backend.py:66: The name tf.get_default_graph is deprecated. Please use tf.compat.v1.get_default_graph instead.\n",
      "\n",
      "W0829 00:22:28.915163 139767128643392 deprecation_wrapper.py:119] From /home/mindy/anaconda3/lib/python3.7/site-packages/keras/backend/tensorflow_backend.py:541: The name tf.placeholder is deprecated. Please use tf.compat.v1.placeholder instead.\n",
      "\n",
      "W0829 00:22:28.917662 139767128643392 deprecation_wrapper.py:119] From /home/mindy/anaconda3/lib/python3.7/site-packages/keras/backend/tensorflow_backend.py:4432: The name tf.random_uniform is deprecated. Please use tf.random.uniform instead.\n",
      "\n",
      "W0829 00:22:28.933845 139767128643392 deprecation_wrapper.py:119] From /home/mindy/anaconda3/lib/python3.7/site-packages/keras/backend/tensorflow_backend.py:4267: The name tf.nn.max_pool is deprecated. Please use tf.nn.max_pool2d instead.\n",
      "\n"
     ]
    },
    {
     "name": "stdout",
     "output_type": "stream",
     "text": [
      "Found 408 validated image filenames.\n",
      "Found 102 validated image filenames.\n"
     ]
    }
   ],
   "source": [
    "save_bottleneck_features(train_df,test_df,'hat',16)"
   ]
  },
  {
   "cell_type": "markdown",
   "metadata": {},
   "source": [
    "### Quick tuning of top models "
   ]
  },
  {
   "cell_type": "code",
   "execution_count": 6,
   "metadata": {},
   "outputs": [],
   "source": [
    "def train_top_model(train_df, test_df, epoch, batch_size, label):\n",
    "    '''\n",
    "    inputs:\n",
    "    train_df, test_df: dataframes saved in pickle_files to generate train and test labels \n",
    "    epoch: num of epochs in fit \n",
    "    batch_size: same as image generator batch size \n",
    "    label: a string, eyewear, hat, or beard\n",
    "    output:\n",
    "    saves model weights in a folder \n",
    "    '''\n",
    "    train_data = np.load(open('../tuning_data/bottleneck_features_train_hat.npy','rb'))\n",
    "    # make sure train_data and train_label have same num of samples\n",
    "    train_label = np.array(train_df[label].map({'not_'+label:0, label:1}))[:-(train_df.shape[0]%batch_size)]\n",
    "    \n",
    "    test_data = np.load(open('../tuning_data/bottleneck_features_test_hat.npy','rb'))\n",
    "    test_label = np.array(test_df[label].map({'not_'+label:0, label:1}))[:-(test_df.shape[0]%batch_size)]\n",
    "    \n",
    "    # build top model\n",
    "    model = Sequential()\n",
    "    model.add(Flatten(input_shape=train_data.shape[1:]))\n",
    "    model.add(Dense(256, activation='relu'))\n",
    "    model.add(Dropout(0.5))\n",
    "    model.add(Dense(1, activation='sigmoid'))\n",
    "    \n",
    "    model.compile(optimizer='rmsprop',\n",
    "                 loss='binary_crossentropy',\n",
    "                 metrics=['accuracy'])\n",
    "    \n",
    "    model.fit(train_data, train_label,\n",
    "             epochs=epoch,\n",
    "             batch_size=batch_size,\n",
    "             validation_data=(test_data,test_label))\n",
    "    model.save_weights('../tuning_data/bottleneck_vgg_model_hat.h5')\n",
    "    del model\n",
    "    keras.backend.clear_session()"
   ]
  },
  {
   "cell_type": "markdown",
   "metadata": {},
   "source": [
    "#### run train_top_model and save results in tuning_data"
   ]
  },
  {
   "cell_type": "code",
   "execution_count": 7,
   "metadata": {
    "scrolled": false
   },
   "outputs": [
    {
     "name": "stderr",
     "output_type": "stream",
     "text": [
      "W0829 00:22:47.230726 139767128643392 deprecation.py:506] From /home/mindy/anaconda3/lib/python3.7/site-packages/keras/backend/tensorflow_backend.py:3733: calling dropout (from tensorflow.python.ops.nn_ops) with keep_prob is deprecated and will be removed in a future version.\n",
      "Instructions for updating:\n",
      "Please use `rate` instead of `keep_prob`. Rate should be set to `rate = 1 - keep_prob`.\n",
      "W0829 00:22:47.243236 139767128643392 deprecation_wrapper.py:119] From /home/mindy/anaconda3/lib/python3.7/site-packages/keras/optimizers.py:793: The name tf.train.Optimizer is deprecated. Please use tf.compat.v1.train.Optimizer instead.\n",
      "\n",
      "W0829 00:22:47.252807 139767128643392 deprecation.py:323] From /home/mindy/anaconda3/lib/python3.7/site-packages/tensorflow/python/ops/nn_impl.py:180: add_dispatch_support.<locals>.wrapper (from tensorflow.python.ops.array_ops) is deprecated and will be removed in a future version.\n",
      "Instructions for updating:\n",
      "Use tf.where in 2.0, which has the same broadcast rule as np.where\n"
     ]
    },
    {
     "name": "stdout",
     "output_type": "stream",
     "text": [
      "Train on 400 samples, validate on 96 samples\n",
      "Epoch 1/50\n",
      "400/400 [==============================] - 0s 1ms/step - loss: 1.1834 - acc: 0.7175 - val_loss: 0.5773 - val_acc: 0.8229\n",
      "Epoch 2/50\n",
      "400/400 [==============================] - 0s 190us/step - loss: 0.4401 - acc: 0.8425 - val_loss: 0.4970 - val_acc: 0.7812\n",
      "Epoch 3/50\n",
      "400/400 [==============================] - 0s 194us/step - loss: 0.3759 - acc: 0.8675 - val_loss: 0.3626 - val_acc: 0.8750\n",
      "Epoch 4/50\n",
      "400/400 [==============================] - 0s 198us/step - loss: 0.1992 - acc: 0.9300 - val_loss: 0.5282 - val_acc: 0.8333\n",
      "Epoch 5/50\n",
      "400/400 [==============================] - 0s 196us/step - loss: 0.2596 - acc: 0.8950 - val_loss: 0.4943 - val_acc: 0.8438\n",
      "Epoch 6/50\n",
      "400/400 [==============================] - 0s 199us/step - loss: 0.1682 - acc: 0.9550 - val_loss: 0.3862 - val_acc: 0.8750\n",
      "Epoch 7/50\n",
      "400/400 [==============================] - 0s 198us/step - loss: 0.1901 - acc: 0.9425 - val_loss: 0.5741 - val_acc: 0.8021\n",
      "Epoch 8/50\n",
      "400/400 [==============================] - 0s 213us/step - loss: 0.1078 - acc: 0.9700 - val_loss: 0.4156 - val_acc: 0.8646\n",
      "Epoch 9/50\n",
      "400/400 [==============================] - 0s 213us/step - loss: 0.0903 - acc: 0.9700 - val_loss: 0.4665 - val_acc: 0.8750\n",
      "Epoch 10/50\n",
      "400/400 [==============================] - 0s 214us/step - loss: 0.1472 - acc: 0.9475 - val_loss: 0.9694 - val_acc: 0.7188\n",
      "Epoch 11/50\n",
      "400/400 [==============================] - 0s 212us/step - loss: 0.1191 - acc: 0.9700 - val_loss: 0.7111 - val_acc: 0.8125\n",
      "Epoch 12/50\n",
      "400/400 [==============================] - 0s 201us/step - loss: 0.0225 - acc: 0.9975 - val_loss: 0.4571 - val_acc: 0.8750\n",
      "Epoch 13/50\n",
      "400/400 [==============================] - 0s 200us/step - loss: 0.0677 - acc: 0.9775 - val_loss: 0.5431 - val_acc: 0.8750\n",
      "Epoch 14/50\n",
      "400/400 [==============================] - 0s 211us/step - loss: 0.0038 - acc: 1.0000 - val_loss: 1.1293 - val_acc: 0.8333\n",
      "Epoch 15/50\n",
      "400/400 [==============================] - 0s 203us/step - loss: 0.0907 - acc: 0.9750 - val_loss: 0.4777 - val_acc: 0.8750\n",
      "Epoch 16/50\n",
      "400/400 [==============================] - 0s 204us/step - loss: 0.0237 - acc: 0.9925 - val_loss: 0.5293 - val_acc: 0.8854\n",
      "Epoch 17/50\n",
      "400/400 [==============================] - 0s 198us/step - loss: 0.0393 - acc: 0.9850 - val_loss: 0.7489 - val_acc: 0.8750\n",
      "Epoch 18/50\n",
      "400/400 [==============================] - 0s 199us/step - loss: 0.0106 - acc: 0.9950 - val_loss: 1.0777 - val_acc: 0.8542\n",
      "Epoch 19/50\n",
      "400/400 [==============================] - 0s 194us/step - loss: 0.0695 - acc: 0.9700 - val_loss: 0.8030 - val_acc: 0.8750\n",
      "Epoch 20/50\n",
      "400/400 [==============================] - 0s 205us/step - loss: 0.0203 - acc: 0.9900 - val_loss: 0.6261 - val_acc: 0.8542\n",
      "Epoch 21/50\n",
      "400/400 [==============================] - 0s 201us/step - loss: 0.0253 - acc: 0.9925 - val_loss: 0.5454 - val_acc: 0.8646\n",
      "Epoch 22/50\n",
      "400/400 [==============================] - 0s 204us/step - loss: 0.0426 - acc: 0.9900 - val_loss: 0.6123 - val_acc: 0.8646\n",
      "Epoch 23/50\n",
      "400/400 [==============================] - 0s 207us/step - loss: 0.0076 - acc: 0.9975 - val_loss: 0.8568 - val_acc: 0.8542\n",
      "Epoch 24/50\n",
      "400/400 [==============================] - 0s 203us/step - loss: 0.0863 - acc: 0.9625 - val_loss: 0.7749 - val_acc: 0.8646\n",
      "Epoch 25/50\n",
      "400/400 [==============================] - 0s 200us/step - loss: 5.8819e-04 - acc: 1.0000 - val_loss: 0.7792 - val_acc: 0.8646\n",
      "Epoch 26/50\n",
      "400/400 [==============================] - 0s 205us/step - loss: 3.7118e-04 - acc: 1.0000 - val_loss: 0.7244 - val_acc: 0.8750\n",
      "Epoch 27/50\n",
      "400/400 [==============================] - 0s 213us/step - loss: 0.0044 - acc: 1.0000 - val_loss: 0.6907 - val_acc: 0.8646\n",
      "Epoch 28/50\n",
      "400/400 [==============================] - 0s 205us/step - loss: 0.0070 - acc: 1.0000 - val_loss: 0.7135 - val_acc: 0.8958\n",
      "Epoch 29/50\n",
      "400/400 [==============================] - 0s 206us/step - loss: 0.0053 - acc: 1.0000 - val_loss: 0.9419 - val_acc: 0.8646\n",
      "Epoch 30/50\n",
      "400/400 [==============================] - 0s 198us/step - loss: 0.0047 - acc: 0.9975 - val_loss: 1.2592 - val_acc: 0.8125\n",
      "Epoch 31/50\n",
      "400/400 [==============================] - 0s 200us/step - loss: 0.0144 - acc: 0.9950 - val_loss: 0.8079 - val_acc: 0.8646\n",
      "Epoch 32/50\n",
      "400/400 [==============================] - 0s 214us/step - loss: 0.0177 - acc: 0.9900 - val_loss: 1.0745 - val_acc: 0.8438\n",
      "Epoch 33/50\n",
      "400/400 [==============================] - 0s 212us/step - loss: 0.0056 - acc: 0.9975 - val_loss: 0.8870 - val_acc: 0.8542\n",
      "Epoch 34/50\n",
      "400/400 [==============================] - 0s 205us/step - loss: 4.0595e-05 - acc: 1.0000 - val_loss: 0.8715 - val_acc: 0.8542\n",
      "Epoch 35/50\n",
      "400/400 [==============================] - 0s 196us/step - loss: 0.0410 - acc: 0.9925 - val_loss: 0.8601 - val_acc: 0.8646\n",
      "Epoch 36/50\n",
      "400/400 [==============================] - 0s 198us/step - loss: 5.2154e-04 - acc: 1.0000 - val_loss: 0.8780 - val_acc: 0.8750\n",
      "Epoch 37/50\n",
      "400/400 [==============================] - 0s 200us/step - loss: 1.6374e-04 - acc: 1.0000 - val_loss: 0.8821 - val_acc: 0.8646\n",
      "Epoch 38/50\n",
      "400/400 [==============================] - 0s 206us/step - loss: 0.0100 - acc: 0.9975 - val_loss: 0.8306 - val_acc: 0.8542\n",
      "Epoch 39/50\n",
      "400/400 [==============================] - 0s 196us/step - loss: 7.0156e-05 - acc: 1.0000 - val_loss: 0.8907 - val_acc: 0.8542\n",
      "Epoch 40/50\n",
      "400/400 [==============================] - 0s 199us/step - loss: 5.7915e-04 - acc: 1.0000 - val_loss: 0.8666 - val_acc: 0.8750\n",
      "Epoch 41/50\n",
      "400/400 [==============================] - 0s 198us/step - loss: 7.1564e-05 - acc: 1.0000 - val_loss: 0.9151 - val_acc: 0.8750\n",
      "Epoch 42/50\n",
      "400/400 [==============================] - 0s 198us/step - loss: 0.0242 - acc: 0.9975 - val_loss: 0.8715 - val_acc: 0.8438\n",
      "Epoch 43/50\n",
      "400/400 [==============================] - 0s 195us/step - loss: 0.0019 - acc: 1.0000 - val_loss: 1.3515 - val_acc: 0.8542\n",
      "Epoch 44/50\n",
      "400/400 [==============================] - 0s 209us/step - loss: 8.0324e-05 - acc: 1.0000 - val_loss: 1.0595 - val_acc: 0.8438\n",
      "Epoch 45/50\n",
      "400/400 [==============================] - 0s 205us/step - loss: 0.0493 - acc: 0.9900 - val_loss: 0.9686 - val_acc: 0.8333\n",
      "Epoch 46/50\n",
      "400/400 [==============================] - 0s 203us/step - loss: 0.0011 - acc: 1.0000 - val_loss: 0.9771 - val_acc: 0.8646\n",
      "Epoch 47/50\n",
      "400/400 [==============================] - 0s 206us/step - loss: 5.3178e-04 - acc: 1.0000 - val_loss: 1.0054 - val_acc: 0.8542\n",
      "Epoch 48/50\n",
      "400/400 [==============================] - 0s 197us/step - loss: 0.0758 - acc: 0.9750 - val_loss: 0.9718 - val_acc: 0.8646\n",
      "Epoch 49/50\n",
      "400/400 [==============================] - 0s 200us/step - loss: 1.8558e-04 - acc: 1.0000 - val_loss: 0.9902 - val_acc: 0.8750\n",
      "Epoch 50/50\n",
      "400/400 [==============================] - 0s 187us/step - loss: 4.8252e-05 - acc: 1.0000 - val_loss: 0.9761 - val_acc: 0.8646\n"
     ]
    }
   ],
   "source": [
    "train_top_model(train_df, test_df, 50, 16, 'hat')"
   ]
  },
  {
   "cell_type": "markdown",
   "metadata": {},
   "source": [
    "### Fine Tune Top Model to improve accuracy"
   ]
  },
  {
   "cell_type": "code",
   "execution_count": 4,
   "metadata": {},
   "outputs": [],
   "source": [
    "def fine_tune_model(train_df, test_df,epoch, batch_size,label, print_model = True):\n",
    "    # build VGG16 model and freeze top layers\n",
    "    # input_shape: width, height, RGB (from image generator)\n",
    "    model_vgg = VGG16(weights='imagenet',include_top=False, input_shape=(150,150,3))\n",
    "    # build top model\n",
    "    top_model = Sequential()\n",
    "    top_model.add(Flatten(input_shape=model_vgg.output_shape[1:]))\n",
    "    top_model.add(Dense(256,activation='relu'))\n",
    "    top_model.add(Dropout(0.5))\n",
    "    top_model.add(Dense(1, activation='sigmoid'))\n",
    "    \n",
    "    # load saved weights to fine tune parameters \n",
    "    top_model.load_weights('../tuning_data/bottleneck_vgg_model_hat.h5')\n",
    "    # add top model to model\n",
    "    model = Model(inputs=model_vgg.input, outputs=top_model(model_vgg.output))\n",
    "    # we will tune last 5 layers of the model: block5 and fully connected layer \n",
    "    for layer in model.layers[:15]:\n",
    "        layer.trainable = False\n",
    "    # we can tune the parameters for lr and momentum later to get better results\n",
    "    model.compile(loss='binary_crossentropy',\n",
    "             optimizer=optimizers.SGD(lr=1e-3, momentum=0.3),\n",
    "             metrics=['accuracy'])\n",
    "    # prepare train generator using data augmentation to battle small sample size \n",
    "    train_gen = ImageDataGenerator(\n",
    "        rescale=1./255,\n",
    "        shear_range=0.2,\n",
    "        zoom_range=0.2,\n",
    "        horizontal_flip=True)\n",
    "    # not want to augment the test \n",
    "    test_gen = ImageDataGenerator(rescale=1./255)\n",
    "    \n",
    "    train_generator =  train_gen.flow_from_dataframe(\n",
    "    dataframe=train_df,\n",
    "    directory='../data/pics',\n",
    "    x_col='pic_id',\n",
    "    y_col=label,\n",
    "    batch_size=batch_size,\n",
    "    target_size=(150,150),\n",
    "    class_mode = 'binary')\n",
    "    \n",
    "    test_generator =  test_gen.flow_from_dataframe(\n",
    "    dataframe=test_df,\n",
    "    directory='../data/pics',\n",
    "    x_col='pic_id',\n",
    "    y_col=label,\n",
    "    batch_size=batch_size,\n",
    "    target_size=(150,150),\n",
    "    class_mode = 'binary')\n",
    "    \n",
    "    # run and fit model \n",
    "    history = model.fit_generator(\n",
    "    train_generator,\n",
    "    steps_per_epoch=train_df.shape[0]//batch_size,\n",
    "    epochs=epoch,\n",
    "    validation_data=test_generator,\n",
    "    validation_steps=test_df.shape[0]//batch_size,\n",
    "    verbose=1)\n",
    "    \n",
    "    if print_model:\n",
    "        model.summary()\n",
    "    del model\n",
    "    keras.backend.clear_session()\n",
    "    return history                  "
   ]
  },
  {
   "cell_type": "markdown",
   "metadata": {},
   "source": [
    "### save model history "
   ]
  },
  {
   "cell_type": "code",
   "execution_count": 5,
   "metadata": {},
   "outputs": [
    {
     "name": "stderr",
     "output_type": "stream",
     "text": [
      "W0829 00:42:00.462143 140472394508096 deprecation_wrapper.py:119] From /home/mindy/anaconda3/lib/python3.7/site-packages/keras/backend/tensorflow_backend.py:66: The name tf.get_default_graph is deprecated. Please use tf.compat.v1.get_default_graph instead.\n",
      "\n",
      "W0829 00:42:00.463239 140472394508096 deprecation_wrapper.py:119] From /home/mindy/anaconda3/lib/python3.7/site-packages/keras/backend/tensorflow_backend.py:541: The name tf.placeholder is deprecated. Please use tf.compat.v1.placeholder instead.\n",
      "\n",
      "W0829 00:42:00.465578 140472394508096 deprecation_wrapper.py:119] From /home/mindy/anaconda3/lib/python3.7/site-packages/keras/backend/tensorflow_backend.py:4432: The name tf.random_uniform is deprecated. Please use tf.random.uniform instead.\n",
      "\n",
      "W0829 00:42:00.480695 140472394508096 deprecation_wrapper.py:119] From /home/mindy/anaconda3/lib/python3.7/site-packages/keras/backend/tensorflow_backend.py:4267: The name tf.nn.max_pool is deprecated. Please use tf.nn.max_pool2d instead.\n",
      "\n",
      "W0829 00:42:01.102012 140472394508096 deprecation.py:506] From /home/mindy/anaconda3/lib/python3.7/site-packages/keras/backend/tensorflow_backend.py:3733: calling dropout (from tensorflow.python.ops.nn_ops) with keep_prob is deprecated and will be removed in a future version.\n",
      "Instructions for updating:\n",
      "Please use `rate` instead of `keep_prob`. Rate should be set to `rate = 1 - keep_prob`.\n",
      "W0829 00:42:01.188767 140472394508096 deprecation_wrapper.py:119] From /home/mindy/anaconda3/lib/python3.7/site-packages/keras/optimizers.py:793: The name tf.train.Optimizer is deprecated. Please use tf.compat.v1.train.Optimizer instead.\n",
      "\n",
      "W0829 00:42:01.193508 140472394508096 deprecation.py:323] From /home/mindy/anaconda3/lib/python3.7/site-packages/tensorflow/python/ops/nn_impl.py:180: add_dispatch_support.<locals>.wrapper (from tensorflow.python.ops.array_ops) is deprecated and will be removed in a future version.\n",
      "Instructions for updating:\n",
      "Use tf.where in 2.0, which has the same broadcast rule as np.where\n"
     ]
    },
    {
     "name": "stdout",
     "output_type": "stream",
     "text": [
      "Found 408 validated image filenames belonging to 2 classes.\n",
      "Found 102 validated image filenames belonging to 2 classes.\n",
      "Epoch 1/50\n",
      "25/25 [==============================] - 4s 152ms/step - loss: 8.5199 - acc: 0.4551 - val_loss: 7.8912 - val_acc: 0.5104\n",
      "Epoch 2/50\n",
      "25/25 [==============================] - 3s 137ms/step - loss: 8.2204 - acc: 0.4900 - val_loss: 7.6842 - val_acc: 0.5233\n",
      "Epoch 3/50\n",
      "25/25 [==============================] - 3s 128ms/step - loss: 7.7380 - acc: 0.5199 - val_loss: 8.8087 - val_acc: 0.4535\n",
      "Epoch 4/50\n",
      "25/25 [==============================] - 3s 134ms/step - loss: 8.2002 - acc: 0.4899 - val_loss: 7.7223 - val_acc: 0.5000\n",
      "Epoch 5/50\n",
      "25/25 [==============================] - 3s 116ms/step - loss: 1.5986 - acc: 0.4572 - val_loss: 0.6981 - val_acc: 0.5465\n",
      "Epoch 6/50\n",
      "25/25 [==============================] - 3s 120ms/step - loss: 0.6476 - acc: 0.6050 - val_loss: 0.6137 - val_acc: 0.7442\n",
      "Epoch 7/50\n",
      "25/25 [==============================] - 3s 120ms/step - loss: 0.5383 - acc: 0.7499 - val_loss: 0.5631 - val_acc: 0.6977\n",
      "Epoch 8/50\n",
      "25/25 [==============================] - 3s 128ms/step - loss: 0.4540 - acc: 0.7900 - val_loss: 0.4524 - val_acc: 0.8229\n",
      "Epoch 9/50\n",
      "25/25 [==============================] - 3s 129ms/step - loss: 0.3800 - acc: 0.8376 - val_loss: 0.7442 - val_acc: 0.6395\n",
      "Epoch 10/50\n",
      "25/25 [==============================] - 3s 123ms/step - loss: 0.3798 - acc: 0.8525 - val_loss: 0.4692 - val_acc: 0.7791\n",
      "Epoch 11/50\n",
      "25/25 [==============================] - 3s 107ms/step - loss: 0.3185 - acc: 0.8750 - val_loss: 0.3195 - val_acc: 0.8953\n",
      "Epoch 12/50\n",
      "25/25 [==============================] - 3s 121ms/step - loss: 0.2343 - acc: 0.9149 - val_loss: 0.3735 - val_acc: 0.8721\n",
      "Epoch 13/50\n",
      "25/25 [==============================] - 3s 126ms/step - loss: 0.2885 - acc: 0.8800 - val_loss: 0.2903 - val_acc: 0.8721\n",
      "Epoch 14/50\n",
      "25/25 [==============================] - 3s 118ms/step - loss: 0.1873 - acc: 0.9274 - val_loss: 0.3146 - val_acc: 0.8953\n",
      "Epoch 15/50\n",
      "25/25 [==============================] - 3s 112ms/step - loss: 0.1861 - acc: 0.9349 - val_loss: 0.2862 - val_acc: 0.8958\n",
      "Epoch 16/50\n",
      "25/25 [==============================] - 3s 134ms/step - loss: 0.1563 - acc: 0.9349 - val_loss: 0.3212 - val_acc: 0.8256\n",
      "Epoch 17/50\n",
      "25/25 [==============================] - 3s 119ms/step - loss: 0.1305 - acc: 0.9575 - val_loss: 0.2606 - val_acc: 0.8721\n",
      "Epoch 18/50\n",
      "25/25 [==============================] - 3s 117ms/step - loss: 0.1247 - acc: 0.9625 - val_loss: 0.3453 - val_acc: 0.8140\n",
      "Epoch 19/50\n",
      "25/25 [==============================] - 3s 132ms/step - loss: 0.1398 - acc: 0.9550 - val_loss: 0.2190 - val_acc: 0.9070\n",
      "Epoch 20/50\n",
      "25/25 [==============================] - 3s 103ms/step - loss: 0.1222 - acc: 0.9575 - val_loss: 0.3613 - val_acc: 0.8140\n",
      "Epoch 21/50\n",
      "25/25 [==============================] - 3s 121ms/step - loss: 0.1178 - acc: 0.9600 - val_loss: 0.2541 - val_acc: 0.8837\n",
      "Epoch 22/50\n",
      "25/25 [==============================] - 3s 116ms/step - loss: 0.0729 - acc: 0.9800 - val_loss: 0.2746 - val_acc: 0.8750\n",
      "Epoch 23/50\n",
      "25/25 [==============================] - 3s 137ms/step - loss: 0.0682 - acc: 0.9775 - val_loss: 0.3600 - val_acc: 0.8721\n",
      "Epoch 24/50\n",
      "25/25 [==============================] - 3s 117ms/step - loss: 0.0805 - acc: 0.9751 - val_loss: 0.2727 - val_acc: 0.9186\n",
      "Epoch 25/50\n",
      "25/25 [==============================] - 3s 117ms/step - loss: 0.0608 - acc: 0.9776 - val_loss: 0.2788 - val_acc: 0.8953\n",
      "Epoch 26/50\n",
      "25/25 [==============================] - 3s 115ms/step - loss: 0.0598 - acc: 0.9850 - val_loss: 0.2374 - val_acc: 0.8953\n",
      "Epoch 27/50\n",
      "25/25 [==============================] - 3s 118ms/step - loss: 0.0448 - acc: 0.9925 - val_loss: 0.3535 - val_acc: 0.8605\n",
      "Epoch 28/50\n",
      "25/25 [==============================] - 3s 121ms/step - loss: 0.0482 - acc: 0.9876 - val_loss: 0.2391 - val_acc: 0.9186\n",
      "Epoch 29/50\n",
      "25/25 [==============================] - 3s 116ms/step - loss: 0.0528 - acc: 0.9850 - val_loss: 0.2866 - val_acc: 0.9062\n",
      "Epoch 30/50\n",
      "25/25 [==============================] - 4s 148ms/step - loss: 0.0390 - acc: 0.9925 - val_loss: 0.2800 - val_acc: 0.9070\n",
      "Epoch 31/50\n",
      "25/25 [==============================] - 3s 134ms/step - loss: 0.0344 - acc: 0.9925 - val_loss: 0.1798 - val_acc: 0.9419\n",
      "Epoch 32/50\n",
      "25/25 [==============================] - 3s 126ms/step - loss: 0.0254 - acc: 0.9950 - val_loss: 0.2998 - val_acc: 0.9070\n",
      "Epoch 33/50\n",
      "25/25 [==============================] - 3s 116ms/step - loss: 0.0292 - acc: 0.9925 - val_loss: 0.3160 - val_acc: 0.8837\n",
      "Epoch 34/50\n",
      "25/25 [==============================] - 3s 113ms/step - loss: 0.0441 - acc: 0.9900 - val_loss: 0.2136 - val_acc: 0.9302\n",
      "Epoch 35/50\n",
      "25/25 [==============================] - 3s 119ms/step - loss: 0.0215 - acc: 1.0000 - val_loss: 0.3169 - val_acc: 0.9070\n",
      "Epoch 36/50\n",
      "25/25 [==============================] - 3s 124ms/step - loss: 0.0318 - acc: 0.9975 - val_loss: 0.2583 - val_acc: 0.9062\n",
      "Epoch 37/50\n",
      "25/25 [==============================] - 3s 139ms/step - loss: 0.0310 - acc: 0.9875 - val_loss: 0.2907 - val_acc: 0.9186\n",
      "Epoch 38/50\n",
      "25/25 [==============================] - 3s 113ms/step - loss: 0.0232 - acc: 0.9925 - val_loss: 0.2082 - val_acc: 0.9302\n",
      "Epoch 39/50\n",
      "25/25 [==============================] - 3s 115ms/step - loss: 0.0358 - acc: 0.9900 - val_loss: 0.3182 - val_acc: 0.8721\n",
      "Epoch 40/50\n",
      "25/25 [==============================] - 3s 119ms/step - loss: 0.0164 - acc: 1.0000 - val_loss: 0.3444 - val_acc: 0.8837\n",
      "Epoch 41/50\n",
      "25/25 [==============================] - 3s 115ms/step - loss: 0.0207 - acc: 0.9925 - val_loss: 0.3063 - val_acc: 0.8953\n",
      "Epoch 42/50\n",
      "25/25 [==============================] - 3s 124ms/step - loss: 0.0126 - acc: 0.9975 - val_loss: 0.2531 - val_acc: 0.9302\n",
      "Epoch 43/50\n",
      "25/25 [==============================] - 3s 120ms/step - loss: 0.0161 - acc: 0.9975 - val_loss: 0.3044 - val_acc: 0.8542\n",
      "Epoch 44/50\n",
      "25/25 [==============================] - 3s 136ms/step - loss: 0.0241 - acc: 0.9950 - val_loss: 0.3033 - val_acc: 0.8721\n",
      "Epoch 45/50\n",
      "25/25 [==============================] - 3s 118ms/step - loss: 0.0149 - acc: 0.9975 - val_loss: 0.2473 - val_acc: 0.9302\n",
      "Epoch 46/50\n",
      "25/25 [==============================] - 3s 124ms/step - loss: 0.0167 - acc: 0.9950 - val_loss: 0.3296 - val_acc: 0.8837\n",
      "Epoch 47/50\n",
      "25/25 [==============================] - 3s 116ms/step - loss: 0.0150 - acc: 0.9975 - val_loss: 0.2674 - val_acc: 0.9070\n",
      "Epoch 48/50\n",
      "25/25 [==============================] - 3s 114ms/step - loss: 0.0123 - acc: 0.9950 - val_loss: 0.3500 - val_acc: 0.8953\n",
      "Epoch 49/50\n",
      "25/25 [==============================] - 3s 113ms/step - loss: 0.0222 - acc: 0.9950 - val_loss: 0.2412 - val_acc: 0.9302\n",
      "Epoch 50/50\n",
      "25/25 [==============================] - 3s 125ms/step - loss: 0.0107 - acc: 0.9975 - val_loss: 0.2639 - val_acc: 0.9062\n",
      "Model: \"model_1\"\n",
      "_________________________________________________________________\n",
      "Layer (type)                 Output Shape              Param #   \n",
      "=================================================================\n",
      "input_1 (InputLayer)         (None, 150, 150, 3)       0         \n",
      "_________________________________________________________________\n",
      "block1_conv1 (Conv2D)        (None, 150, 150, 64)      1792      \n",
      "_________________________________________________________________\n",
      "block1_conv2 (Conv2D)        (None, 150, 150, 64)      36928     \n",
      "_________________________________________________________________\n",
      "block1_pool (MaxPooling2D)   (None, 75, 75, 64)        0         \n",
      "_________________________________________________________________\n",
      "block2_conv1 (Conv2D)        (None, 75, 75, 128)       73856     \n",
      "_________________________________________________________________\n",
      "block2_conv2 (Conv2D)        (None, 75, 75, 128)       147584    \n",
      "_________________________________________________________________\n",
      "block2_pool (MaxPooling2D)   (None, 37, 37, 128)       0         \n",
      "_________________________________________________________________\n",
      "block3_conv1 (Conv2D)        (None, 37, 37, 256)       295168    \n",
      "_________________________________________________________________\n",
      "block3_conv2 (Conv2D)        (None, 37, 37, 256)       590080    \n",
      "_________________________________________________________________\n",
      "block3_conv3 (Conv2D)        (None, 37, 37, 256)       590080    \n",
      "_________________________________________________________________\n",
      "block3_pool (MaxPooling2D)   (None, 18, 18, 256)       0         \n",
      "_________________________________________________________________\n",
      "block4_conv1 (Conv2D)        (None, 18, 18, 512)       1180160   \n",
      "_________________________________________________________________\n",
      "block4_conv2 (Conv2D)        (None, 18, 18, 512)       2359808   \n",
      "_________________________________________________________________\n",
      "block4_conv3 (Conv2D)        (None, 18, 18, 512)       2359808   \n",
      "_________________________________________________________________\n",
      "block4_pool (MaxPooling2D)   (None, 9, 9, 512)         0         \n",
      "_________________________________________________________________\n",
      "block5_conv1 (Conv2D)        (None, 9, 9, 512)         2359808   \n",
      "_________________________________________________________________\n",
      "block5_conv2 (Conv2D)        (None, 9, 9, 512)         2359808   \n",
      "_________________________________________________________________\n",
      "block5_conv3 (Conv2D)        (None, 9, 9, 512)         2359808   \n",
      "_________________________________________________________________\n",
      "block5_pool (MaxPooling2D)   (None, 4, 4, 512)         0         \n",
      "_________________________________________________________________\n",
      "sequential_1 (Sequential)    (None, 1)                 2097665   \n",
      "=================================================================\n",
      "Total params: 16,812,353\n",
      "Trainable params: 9,177,089\n",
      "Non-trainable params: 7,635,264\n",
      "_________________________________________________________________\n"
     ]
    }
   ],
   "source": [
    "model_history = fine_tune_model(train_df, test_df,50,16,'hat')"
   ]
  },
  {
   "cell_type": "code",
   "execution_count": 6,
   "metadata": {},
   "outputs": [
    {
     "name": "stdout",
     "output_type": "stream",
     "text": [
      "highest test accuracy: 0.9418604637301246\n",
      "------------------\n",
      "highest train accuracy: 1.0\n"
     ]
    }
   ],
   "source": [
    "highest_val_acc, highest_train_acc = max(model_history.history['val_acc']), max(model_history.history['acc'])\n",
    "print(f'highest test accuracy: {highest_val_acc}')\n",
    "print('------------------')\n",
    "print(f'highest train accuracy: {highest_train_acc}')"
   ]
  },
  {
   "cell_type": "code",
   "execution_count": 7,
   "metadata": {},
   "outputs": [
    {
     "name": "stdout",
     "output_type": "stream",
     "text": [
      "lowest test loss: 0.17976882533971653\n",
      "------------------\n",
      "lowest train loss: 0.010703578011645955\n"
     ]
    }
   ],
   "source": [
    "lowest_val_loss, lowest_train_loss = min(model_history.history['val_loss']), min(model_history.history['loss'])\n",
    "print(f'lowest test loss: {lowest_val_loss}')\n",
    "print('------------------')\n",
    "print(f'lowest train loss: {lowest_train_loss}')"
   ]
  },
  {
   "cell_type": "code",
   "execution_count": 8,
   "metadata": {},
   "outputs": [
    {
     "data": {
      "image/png": "[encoded data removed]",
      "text/plain": [
       "<Figure size 432x288 with 1 Axes>"
      ]
     },
     "metadata": {
      "needs_background": "light"
     },
     "output_type": "display_data"
    }
   ],
   "source": [
    "plt.plot(model_history.history['val_acc'], color = 'red', label = 'test')\n",
    "plt.plot(model_history.history['acc'], color = 'blue', label = 'train')\n",
    "plt.title('accuracy')\n",
    "plt.ylabel('accuracy')\n",
    "plt.legend()\n",
    "plt.show()"
   ]
  },
  {
   "cell_type": "code",
   "execution_count": 9,
   "metadata": {},
   "outputs": [
    {
     "data": {
      "image/png": "[encoded data removed]",
      "text/plain": [
       "<Figure size 432x288 with 1 Axes>"
      ]
     },
     "metadata": {
      "needs_background": "light"
     },
     "output_type": "display_data"
    }
   ],
   "source": [
    "plt.plot(model_history.history['val_loss'], color = 'red', label = 'test')\n",
    "plt.plot(model_history.history['loss'], color = 'blue', label = 'train')\n",
    "plt.title('loss')\n",
    "plt.ylabel('loss')\n",
    "plt.legend()\n",
    "plt.show()"
   ]
  }
 ],
 "metadata": {
  "kernelspec": {
   "display_name": "Python 3",
   "language": "python",
   "name": "python3"
  },
  "language_info": {
   "codemirror_mode": {
    "name": "ipython",
    "version": 3
   },
   "file_extension": ".py",
   "mimetype": "text/x-python",
   "name": "python",
   "nbconvert_exporter": "python",
   "pygments_lexer": "ipython3",
   "version": "3.7.3"
  }
 },
 "nbformat": 4,
 "nbformat_minor": 2
}
