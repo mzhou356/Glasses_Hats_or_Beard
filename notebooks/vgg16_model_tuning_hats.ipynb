{
 "cells": [
  {
   "cell_type": "markdown",
   "metadata": {},
   "source": [
    "## Transfer Learning Tuning_Hats:\n",
    "  * model parameter and other information can be found below:\n",
    "     * [source](https://blog.keras.io/building-powerful-image-classification-models-using-very-little-data.html)\n",
    "     \n",
    "  * base_model: use vgg16 and freeze at bottleneck layer (stop right before flatten layer) \n",
    "  * top_model: tune dense layers (parameters are inspired by source)\n",
    "     * batch_size 16 seems to work best for small data set \n",
    "\n",
    "##### warnings: make sure to restart kernel in between running different model tuning \n",
    "  \n",
    "---\n",
    "#### This cell is required in order to use GPU for running the model "
   ]
  },
  {
   "cell_type": "code",
   "execution_count": 1,
   "metadata": {},
   "outputs": [
    {
     "name": "stderr",
     "output_type": "stream",
     "text": [
      "Using TensorFlow backend.\n",
      "WARNING: Logging before flag parsing goes to stderr.\n",
      "W0829 11:42:25.209820 140644739823424 deprecation_wrapper.py:119] From /home/mindy/anaconda3/lib/python3.7/site-packages/keras/backend/tensorflow_backend.py:190: The name tf.get_default_session is deprecated. Please use tf.compat.v1.get_default_session instead.\n",
      "\n",
      "W0829 11:42:25.210842 140644739823424 deprecation_wrapper.py:119] From /home/mindy/anaconda3/lib/python3.7/site-packages/keras/backend/tensorflow_backend.py:207: The name tf.global_variables is deprecated. Please use tf.compat.v1.global_variables instead.\n",
      "\n"
     ]
    }
   ],
   "source": [
    "import warnings\n",
    "warnings.filterwarnings('ignore')\n",
    "import tensorflow as tf\n",
    "import keras\n",
    "from keras.backend.tensorflow_backend import set_session\n",
    "config = tf.ConfigProto()\n",
    "config.gpu_options.allow_growth = True  # dynamically grow the memory used on the GPU\n",
    "config.log_device_placement = True  # to log device placement (on which device the operation ran)\n",
    "                                    # (nothing gets printed in Jupyter, only if you run it standalone)\n",
    "sess = tf.Session(config=config)\n",
    "set_session(sess)  # set this TensorFlow session as the default session for Keras\n",
    "keras.backend.get_session().run(tf.global_variables_initializer())  "
   ]
  },
  {
   "cell_type": "markdown",
   "metadata": {},
   "source": [
    "---\n",
    "#### Import necessary libraries"
   ]
  },
  {
   "cell_type": "code",
   "execution_count": 2,
   "metadata": {},
   "outputs": [],
   "source": [
    "import pandas as pd\n",
    "import numpy as np\n",
    "import matplotlib.pyplot as plt\n",
    "%matplotlib inline\n",
    "from keras_preprocessing.image import ImageDataGenerator\n",
    "from keras.models import Sequential, Model\n",
    "from keras.layers import Dropout, Flatten, Dense\n",
    "from keras.applications.vgg16 import VGG16\n",
    "from keras import optimizers"
   ]
  },
  {
   "cell_type": "markdown",
   "metadata": {},
   "source": [
    "---\n",
    "#### Import train_df and test_df for hats"
   ]
  },
  {
   "cell_type": "code",
   "execution_count": 3,
   "metadata": {},
   "outputs": [],
   "source": [
    "train_df = pd.read_pickle('../pickle_files/train_df_hat.pkl')\n",
    "test_df = pd.read_pickle('../pickle_files/test_df_hat.pkl')"
   ]
  },
  {
   "cell_type": "markdown",
   "metadata": {},
   "source": [
    "#### Get bottleneck features to tune top models"
   ]
  },
  {
   "cell_type": "code",
   "execution_count": 4,
   "metadata": {},
   "outputs": [],
   "source": [
    "def save_bottleneck_features(train_df, test_df, label, batch_size):\n",
    "    '''\n",
    "    inputs:\n",
    "    train_df, test_df: train and test dataframes saved in pickle_files folder\n",
    "    label: a string, eyewear, hat, or beard\n",
    "    batch_size: process images in batches\n",
    "    outputs:\n",
    "    saves bottleneck features inside folder tuning_data as npy file\n",
    "    '''\n",
    "    # intialize the vgg16 model \n",
    "    # make sure not to train the top layers \n",
    "    base_model = VGG16(weights = 'imagenet', include_top = False)\n",
    "    # create train_generator and test_generator to get bottleneck inputs for train and test df \n",
    "    # remove zoom range for hats\n",
    "    datagen = ImageDataGenerator(\n",
    "        rescale=1./255,\n",
    "        rotation_range=40,\n",
    "        shear_range=0.2,\n",
    "        horizontal_flip=True)\n",
    "    # make sure shuffle is False so we know the label follows the sequence of the dataframe \n",
    "    # so we can tune top_model \n",
    "    train_generator = datagen.flow_from_dataframe(\n",
    "    dataframe=train_df,\n",
    "    directory='../data/pics',\n",
    "    x_col='pic_id',\n",
    "    y_col=label,\n",
    "    batch_size=batch_size,\n",
    "    shuffle = False,\n",
    "    target_size=(150,150),\n",
    "    class_mode = None)\n",
    "    # get features saved as .npy in tunign_data folder \n",
    "    bottleneck_features_train = base_model.predict_generator(\n",
    "        train_generator, train_df.shape[0]//batch_size)\n",
    "    np.save(open('../tuning_data/bottleneck_features_train_hat.npy','wb'),\n",
    "           bottleneck_features_train)\n",
    "    \n",
    "    test_generator = datagen.flow_from_dataframe(\n",
    "    dataframe=test_df,\n",
    "    directory='../data/pics',\n",
    "    x_col='pic_id',\n",
    "    y_col=label,\n",
    "    batch_size=batch_size,\n",
    "    shuffle = False,\n",
    "    target_size=(150,150),\n",
    "    class_mode = None)\n",
    "    bottleneck_features_test = base_model.predict_generator(\n",
    "        test_generator, test_df.shape[0]//batch_size)\n",
    "    np.save(open('../tuning_data/bottleneck_features_test_hat.npy','wb'),\n",
    "           bottleneck_features_test)"
   ]
  },
  {
   "cell_type": "markdown",
   "metadata": {},
   "source": [
    "#### Save bottleneck_features"
   ]
  },
  {
   "cell_type": "code",
   "execution_count": 5,
   "metadata": {
    "scrolled": true
   },
   "outputs": [
    {
     "name": "stderr",
     "output_type": "stream",
     "text": [
      "W0829 11:42:36.656015 140644739823424 deprecation_wrapper.py:119] From /home/mindy/anaconda3/lib/python3.7/site-packages/keras/backend/tensorflow_backend.py:66: The name tf.get_default_graph is deprecated. Please use tf.compat.v1.get_default_graph instead.\n",
      "\n",
      "W0829 11:42:36.656861 140644739823424 deprecation_wrapper.py:119] From /home/mindy/anaconda3/lib/python3.7/site-packages/keras/backend/tensorflow_backend.py:541: The name tf.placeholder is deprecated. Please use tf.compat.v1.placeholder instead.\n",
      "\n",
      "W0829 11:42:36.659497 140644739823424 deprecation_wrapper.py:119] From /home/mindy/anaconda3/lib/python3.7/site-packages/keras/backend/tensorflow_backend.py:4432: The name tf.random_uniform is deprecated. Please use tf.random.uniform instead.\n",
      "\n",
      "W0829 11:42:36.676868 140644739823424 deprecation_wrapper.py:119] From /home/mindy/anaconda3/lib/python3.7/site-packages/keras/backend/tensorflow_backend.py:4267: The name tf.nn.max_pool is deprecated. Please use tf.nn.max_pool2d instead.\n",
      "\n"
     ]
    },
    {
     "name": "stdout",
     "output_type": "stream",
     "text": [
      "Found 408 validated image filenames.\n",
      "Found 102 validated image filenames.\n"
     ]
    }
   ],
   "source": [
    "save_bottleneck_features(train_df,test_df,'hat',16)"
   ]
  },
  {
   "cell_type": "markdown",
   "metadata": {},
   "source": [
    "### Quick tuning of top models "
   ]
  },
  {
   "cell_type": "code",
   "execution_count": 6,
   "metadata": {},
   "outputs": [],
   "source": [
    "def train_top_model(train_df, test_df, epoch, batch_size, label):\n",
    "    '''\n",
    "    inputs:\n",
    "    train_df, test_df: dataframes saved in pickle_files to generate train and test labels \n",
    "    epoch: num of epochs in fit \n",
    "    batch_size: same as image generator batch size \n",
    "    label: a string, eyewear, hat, or beard\n",
    "    output:\n",
    "    saves model weights in a folder \n",
    "    '''\n",
    "    train_data = np.load(open('../tuning_data/bottleneck_features_train_hat.npy','rb'))\n",
    "    # make sure train_data and train_label have same num of samples\n",
    "    train_label = np.array(train_df[label].map({'not_'+label:0, label:1}))[:-(train_df.shape[0]%batch_size)]\n",
    "    \n",
    "    test_data = np.load(open('../tuning_data/bottleneck_features_test_hat.npy','rb'))\n",
    "    test_label = np.array(test_df[label].map({'not_'+label:0, label:1}))[:-(test_df.shape[0]%batch_size)]\n",
    "    \n",
    "    # build top model\n",
    "    model = Sequential()\n",
    "    model.add(Flatten(input_shape=train_data.shape[1:]))\n",
    "    model.add(Dense(256, activation='relu'))\n",
    "    model.add(Dropout(0.5))\n",
    "    model.add(Dense(1, activation='sigmoid'))\n",
    "    \n",
    "    model.compile(optimizer='rmsprop',\n",
    "                 loss='binary_crossentropy',\n",
    "                 metrics=['accuracy'])\n",
    "    \n",
    "    model.fit(train_data, train_label,\n",
    "             epochs=epoch,\n",
    "             batch_size=batch_size,\n",
    "             validation_data=(test_data,test_label))\n",
    "    model.save_weights('../tuning_data/bottleneck_vgg_model_hat.h5')\n",
    "    del model\n",
    "    keras.backend.clear_session()"
   ]
  },
  {
   "cell_type": "markdown",
   "metadata": {},
   "source": [
    "#### run train_top_model and save results in tuning_data"
   ]
  },
  {
   "cell_type": "code",
   "execution_count": 7,
   "metadata": {
    "scrolled": false
   },
   "outputs": [
    {
     "name": "stderr",
     "output_type": "stream",
     "text": [
      "W0829 11:42:48.642454 140644739823424 deprecation.py:506] From /home/mindy/anaconda3/lib/python3.7/site-packages/keras/backend/tensorflow_backend.py:3733: calling dropout (from tensorflow.python.ops.nn_ops) with keep_prob is deprecated and will be removed in a future version.\n",
      "Instructions for updating:\n",
      "Please use `rate` instead of `keep_prob`. Rate should be set to `rate = 1 - keep_prob`.\n",
      "W0829 11:42:48.654592 140644739823424 deprecation_wrapper.py:119] From /home/mindy/anaconda3/lib/python3.7/site-packages/keras/optimizers.py:793: The name tf.train.Optimizer is deprecated. Please use tf.compat.v1.train.Optimizer instead.\n",
      "\n",
      "W0829 11:42:48.663880 140644739823424 deprecation.py:323] From /home/mindy/anaconda3/lib/python3.7/site-packages/tensorflow/python/ops/nn_impl.py:180: add_dispatch_support.<locals>.wrapper (from tensorflow.python.ops.array_ops) is deprecated and will be removed in a future version.\n",
      "Instructions for updating:\n",
      "Use tf.where in 2.0, which has the same broadcast rule as np.where\n"
     ]
    },
    {
     "name": "stdout",
     "output_type": "stream",
     "text": [
      "Train on 400 samples, validate on 96 samples\n",
      "Epoch 1/50\n",
      "400/400 [==============================] - 0s 982us/step - loss: 1.6711 - acc: 0.6575 - val_loss: 0.6711 - val_acc: 0.6667\n",
      "Epoch 2/50\n",
      "400/400 [==============================] - 0s 196us/step - loss: 0.5072 - acc: 0.8250 - val_loss: 0.3610 - val_acc: 0.8646\n",
      "Epoch 3/50\n",
      "400/400 [==============================] - 0s 186us/step - loss: 0.3261 - acc: 0.8875 - val_loss: 0.3757 - val_acc: 0.7604\n",
      "Epoch 4/50\n",
      "400/400 [==============================] - 0s 192us/step - loss: 0.3797 - acc: 0.8475 - val_loss: 0.4160 - val_acc: 0.8229\n",
      "Epoch 5/50\n",
      "400/400 [==============================] - 0s 198us/step - loss: 0.2086 - acc: 0.9250 - val_loss: 0.7700 - val_acc: 0.6771\n",
      "Epoch 6/50\n",
      "400/400 [==============================] - 0s 192us/step - loss: 0.2353 - acc: 0.8950 - val_loss: 0.4434 - val_acc: 0.8958\n",
      "Epoch 7/50\n",
      "400/400 [==============================] - 0s 196us/step - loss: 0.1044 - acc: 0.9550 - val_loss: 0.3533 - val_acc: 0.8542\n",
      "Epoch 8/50\n",
      "400/400 [==============================] - 0s 193us/step - loss: 0.1361 - acc: 0.9525 - val_loss: 0.4413 - val_acc: 0.8958\n",
      "Epoch 9/50\n",
      "400/400 [==============================] - 0s 188us/step - loss: 0.1309 - acc: 0.9425 - val_loss: 0.4767 - val_acc: 0.8021\n",
      "Epoch 10/50\n",
      "400/400 [==============================] - 0s 194us/step - loss: 0.0951 - acc: 0.9675 - val_loss: 0.3848 - val_acc: 0.8542\n",
      "Epoch 11/50\n",
      "400/400 [==============================] - 0s 200us/step - loss: 0.1396 - acc: 0.9525 - val_loss: 0.5554 - val_acc: 0.8750\n",
      "Epoch 12/50\n",
      "400/400 [==============================] - 0s 196us/step - loss: 0.0396 - acc: 0.9875 - val_loss: 0.4705 - val_acc: 0.8438\n",
      "Epoch 13/50\n",
      "400/400 [==============================] - 0s 190us/step - loss: 0.0930 - acc: 0.9650 - val_loss: 0.6432 - val_acc: 0.8958\n",
      "Epoch 14/50\n",
      "400/400 [==============================] - 0s 193us/step - loss: 0.1179 - acc: 0.9550 - val_loss: 0.5127 - val_acc: 0.9062\n",
      "Epoch 15/50\n",
      "400/400 [==============================] - 0s 188us/step - loss: 0.0094 - acc: 0.9975 - val_loss: 0.4991 - val_acc: 0.8750\n",
      "Epoch 16/50\n",
      "400/400 [==============================] - 0s 204us/step - loss: 0.0193 - acc: 0.9975 - val_loss: 0.6216 - val_acc: 0.8542\n",
      "Epoch 17/50\n",
      "400/400 [==============================] - 0s 209us/step - loss: 0.0588 - acc: 0.9775 - val_loss: 0.5471 - val_acc: 0.8542\n",
      "Epoch 18/50\n",
      "400/400 [==============================] - 0s 210us/step - loss: 0.0261 - acc: 0.9875 - val_loss: 0.5508 - val_acc: 0.8854\n",
      "Epoch 19/50\n",
      "400/400 [==============================] - 0s 209us/step - loss: 0.0213 - acc: 0.9950 - val_loss: 0.5639 - val_acc: 0.8854\n",
      "Epoch 20/50\n",
      "400/400 [==============================] - 0s 201us/step - loss: 0.0249 - acc: 0.9900 - val_loss: 0.6778 - val_acc: 0.8750\n",
      "Epoch 21/50\n",
      "400/400 [==============================] - 0s 199us/step - loss: 0.0020 - acc: 1.0000 - val_loss: 0.6024 - val_acc: 0.9062\n",
      "Epoch 22/50\n",
      "400/400 [==============================] - 0s 185us/step - loss: 0.0579 - acc: 0.9850 - val_loss: 0.7456 - val_acc: 0.8958\n",
      "Epoch 23/50\n",
      "400/400 [==============================] - 0s 189us/step - loss: 0.0065 - acc: 0.9975 - val_loss: 0.6753 - val_acc: 0.8958\n",
      "Epoch 24/50\n",
      "400/400 [==============================] - 0s 185us/step - loss: 6.2279e-04 - acc: 1.0000 - val_loss: 1.0636 - val_acc: 0.8438\n",
      "Epoch 25/50\n",
      "400/400 [==============================] - 0s 192us/step - loss: 0.0124 - acc: 0.9950 - val_loss: 0.6050 - val_acc: 0.8646\n",
      "Epoch 26/50\n",
      "400/400 [==============================] - 0s 195us/step - loss: 0.0019 - acc: 1.0000 - val_loss: 0.7874 - val_acc: 0.8958\n",
      "Epoch 27/50\n",
      "400/400 [==============================] - 0s 188us/step - loss: 0.0419 - acc: 0.9875 - val_loss: 0.9146 - val_acc: 0.8854\n",
      "Epoch 28/50\n",
      "400/400 [==============================] - 0s 190us/step - loss: 3.3038e-04 - acc: 1.0000 - val_loss: 0.7545 - val_acc: 0.8750\n",
      "Epoch 29/50\n",
      "400/400 [==============================] - 0s 194us/step - loss: 0.0777 - acc: 0.9825 - val_loss: 0.9259 - val_acc: 0.8750\n",
      "Epoch 30/50\n",
      "400/400 [==============================] - 0s 197us/step - loss: 0.0019 - acc: 1.0000 - val_loss: 0.7995 - val_acc: 0.8854\n",
      "Epoch 31/50\n",
      "400/400 [==============================] - 0s 190us/step - loss: 2.0623e-04 - acc: 1.0000 - val_loss: 1.0077 - val_acc: 0.8750\n",
      "Epoch 32/50\n",
      "400/400 [==============================] - 0s 187us/step - loss: 0.0025 - acc: 1.0000 - val_loss: 0.9392 - val_acc: 0.8750\n",
      "Epoch 33/50\n",
      "400/400 [==============================] - 0s 200us/step - loss: 0.0304 - acc: 0.9875 - val_loss: 0.7371 - val_acc: 0.8958\n",
      "Epoch 34/50\n",
      "400/400 [==============================] - 0s 195us/step - loss: 0.0025 - acc: 0.9975 - val_loss: 0.8790 - val_acc: 0.8750\n",
      "Epoch 35/50\n",
      "400/400 [==============================] - 0s 205us/step - loss: 0.0025 - acc: 1.0000 - val_loss: 0.7504 - val_acc: 0.8958\n",
      "Epoch 36/50\n",
      "400/400 [==============================] - 0s 206us/step - loss: 4.8651e-04 - acc: 1.0000 - val_loss: 0.9715 - val_acc: 0.8854\n",
      "Epoch 37/50\n",
      "400/400 [==============================] - 0s 202us/step - loss: 0.0013 - acc: 1.0000 - val_loss: 0.8612 - val_acc: 0.8750\n",
      "Epoch 38/50\n",
      "400/400 [==============================] - 0s 204us/step - loss: 3.7634e-05 - acc: 1.0000 - val_loss: 0.8885 - val_acc: 0.8958\n",
      "Epoch 39/50\n",
      "400/400 [==============================] - 0s 206us/step - loss: 0.0205 - acc: 0.9900 - val_loss: 0.8337 - val_acc: 0.8854\n",
      "Epoch 40/50\n",
      "400/400 [==============================] - 0s 192us/step - loss: 0.0078 - acc: 0.9975 - val_loss: 0.9087 - val_acc: 0.8646\n",
      "Epoch 41/50\n",
      "400/400 [==============================] - 0s 193us/step - loss: 4.0834e-04 - acc: 1.0000 - val_loss: 0.8883 - val_acc: 0.8854\n",
      "Epoch 42/50\n",
      "400/400 [==============================] - 0s 202us/step - loss: 1.6789e-04 - acc: 1.0000 - val_loss: 0.9676 - val_acc: 0.8750\n",
      "Epoch 43/50\n",
      "400/400 [==============================] - 0s 194us/step - loss: 0.0068 - acc: 0.9975 - val_loss: 0.9268 - val_acc: 0.8750\n",
      "Epoch 44/50\n",
      "400/400 [==============================] - 0s 194us/step - loss: 0.0057 - acc: 0.9975 - val_loss: 1.2466 - val_acc: 0.8750\n",
      "Epoch 45/50\n",
      "400/400 [==============================] - 0s 196us/step - loss: 0.0035 - acc: 0.9975 - val_loss: 0.8616 - val_acc: 0.8958\n",
      "Epoch 46/50\n",
      "400/400 [==============================] - 0s 200us/step - loss: 2.2658e-04 - acc: 1.0000 - val_loss: 0.9658 - val_acc: 0.8958\n",
      "Epoch 47/50\n",
      "400/400 [==============================] - 0s 191us/step - loss: 0.0047 - acc: 0.9975 - val_loss: 1.3656 - val_acc: 0.8438\n",
      "Epoch 48/50\n",
      "400/400 [==============================] - 0s 191us/step - loss: 1.5873e-04 - acc: 1.0000 - val_loss: 0.9273 - val_acc: 0.8958\n",
      "Epoch 49/50\n",
      "400/400 [==============================] - 0s 192us/step - loss: 7.3072e-05 - acc: 1.0000 - val_loss: 0.9469 - val_acc: 0.8958\n",
      "Epoch 50/50\n",
      "400/400 [==============================] - 0s 200us/step - loss: 2.9435e-05 - acc: 1.0000 - val_loss: 0.8832 - val_acc: 0.9062\n"
     ]
    }
   ],
   "source": [
    "train_top_model(train_df, test_df, 50, 16, 'hat')"
   ]
  },
  {
   "cell_type": "markdown",
   "metadata": {},
   "source": [
    "### Fine Tune Top Model to improve accuracy"
   ]
  },
  {
   "cell_type": "code",
   "execution_count": 49,
   "metadata": {},
   "outputs": [],
   "source": [
    "def fine_tune_model(train_df, test_df,epoch, batch_size,label, print_model = True):\n",
    "    # build VGG16 model and freeze top layers\n",
    "    # input_shape: width, height, RGB (from image generator)\n",
    "    model_vgg = VGG16(weights='imagenet',include_top=False, input_shape=(150,150,3))\n",
    "    # build top model\n",
    "    top_model = Sequential()\n",
    "    top_model.add(Flatten(input_shape=model_vgg.output_shape[1:]))\n",
    "    top_model.add(Dense(256,activation='relu'))\n",
    "    top_model.add(Dropout(0.5))\n",
    "    top_model.add(Dense(1, activation='sigmoid'))\n",
    "    \n",
    "    # load saved weights to fine tune parameters \n",
    "    top_model.load_weights('../tuning_data/bottleneck_vgg_model_hat.h5')\n",
    "    # add top model to model\n",
    "    model = Model(inputs=model_vgg.input, outputs=top_model(model_vgg.output))\n",
    "    # we will tune last 5 layers of the model: block5 and fully connected layer \n",
    "    for layer in model.layers[:15]:\n",
    "        layer.trainable = False\n",
    "    # we can tune the parameters for lr and momentum later to get better results\n",
    "    model.compile(loss='binary_crossentropy',\n",
    "             optimizer=optimizers.SGD(lr=1e-4, momentum=0.9),\n",
    "             metrics=['accuracy'])\n",
    "    # prepare train generator using data augmentation to battle small sample size \n",
    "    train_gen = ImageDataGenerator(\n",
    "        rescale=1./255,\n",
    "        rotation_range=40,\n",
    "        shear_range=0.2,\n",
    "        horizontal_flip=True)\n",
    "    # not want to augment the test \n",
    "    test_gen = ImageDataGenerator(rescale=1./255)\n",
    "    \n",
    "    train_generator =  train_gen.flow_from_dataframe(\n",
    "    dataframe=train_df,\n",
    "    directory='../data/pics',\n",
    "    x_col='pic_id',\n",
    "    y_col=label,\n",
    "    batch_size=batch_size,\n",
    "    target_size=(150,150),\n",
    "    class_mode = 'binary')\n",
    "    \n",
    "    test_generator =  test_gen.flow_from_dataframe(\n",
    "    dataframe=test_df,\n",
    "    directory='../data/pics',\n",
    "    x_col='pic_id',\n",
    "    y_col=label,\n",
    "    batch_size=batch_size,\n",
    "    target_size=(150,150),\n",
    "    class_mode = 'binary')\n",
    "    \n",
    "    # run and fit model \n",
    "    result = model.fit_generator(\n",
    "    train_generator,\n",
    "    steps_per_epoch=train_df.shape[0]//batch_size,\n",
    "    epochs=epoch,\n",
    "    validation_data=test_generator,\n",
    "    validation_steps=test_df.shape[0]//batch_size,\n",
    "    verbose=1)\n",
    "    \n",
    "    model.save_weights('../tuning_data/vgg16_model_hat.h5')\n",
    "    \n",
    "    if print_model:\n",
    "        model.summary()\n",
    "    del model\n",
    "    keras.backend.clear_session()    \n",
    "    return result"
   ]
  },
  {
   "cell_type": "markdown",
   "metadata": {},
   "source": [
    "### save model history "
   ]
  },
  {
   "cell_type": "code",
   "execution_count": 50,
   "metadata": {
    "scrolled": false
   },
   "outputs": [
    {
     "name": "stdout",
     "output_type": "stream",
     "text": [
      "Found 408 validated image filenames belonging to 2 classes.\n",
      "Found 102 validated image filenames belonging to 2 classes.\n",
      "Epoch 1/25\n",
      "25/25 [==============================] - 3s 120ms/step - loss: 6.3567 - acc: 0.3928 - val_loss: 0.7488 - val_acc: 0.5312\n",
      "Epoch 2/25\n",
      "25/25 [==============================] - 4s 148ms/step - loss: 0.7190 - acc: 0.5874 - val_loss: 0.6468 - val_acc: 0.6512\n",
      "Epoch 3/25\n",
      "25/25 [==============================] - 3s 129ms/step - loss: 0.5379 - acc: 0.7175 - val_loss: 0.5117 - val_acc: 0.7674\n",
      "Epoch 4/25\n",
      "25/25 [==============================] - 3s 128ms/step - loss: 0.4549 - acc: 0.7750 - val_loss: 0.4990 - val_acc: 0.7907\n",
      "Epoch 5/25\n",
      "25/25 [==============================] - 3s 109ms/step - loss: 0.4458 - acc: 0.7877 - val_loss: 0.4982 - val_acc: 0.7442\n",
      "Epoch 6/25\n",
      "25/25 [==============================] - 3s 124ms/step - loss: 0.3373 - acc: 0.8650 - val_loss: 0.4711 - val_acc: 0.7674\n",
      "Epoch 7/25\n",
      "25/25 [==============================] - 3s 125ms/step - loss: 0.2949 - acc: 0.8875 - val_loss: 0.3438 - val_acc: 0.8488\n",
      "Epoch 8/25\n",
      "25/25 [==============================] - 3s 113ms/step - loss: 0.3553 - acc: 0.8575 - val_loss: 0.3140 - val_acc: 0.8750\n",
      "Epoch 9/25\n",
      "25/25 [==============================] - 4s 149ms/step - loss: 0.2607 - acc: 0.8975 - val_loss: 0.3596 - val_acc: 0.8140\n",
      "Epoch 10/25\n",
      "25/25 [==============================] - 3s 105ms/step - loss: 0.2789 - acc: 0.8702 - val_loss: 0.2266 - val_acc: 0.9302\n",
      "Epoch 11/25\n",
      "25/25 [==============================] - 3s 122ms/step - loss: 0.2441 - acc: 0.9175 - val_loss: 0.3240 - val_acc: 0.8488\n",
      "Epoch 12/25\n",
      "25/25 [==============================] - 3s 120ms/step - loss: 0.2013 - acc: 0.9275 - val_loss: 0.2925 - val_acc: 0.8837\n",
      "Epoch 13/25\n",
      "25/25 [==============================] - 3s 112ms/step - loss: 0.2126 - acc: 0.9250 - val_loss: 0.3369 - val_acc: 0.8837\n",
      "Epoch 14/25\n",
      "25/25 [==============================] - 3s 118ms/step - loss: 0.2036 - acc: 0.9249 - val_loss: 0.2733 - val_acc: 0.9070\n",
      "Epoch 15/25\n",
      "25/25 [==============================] - 3s 125ms/step - loss: 0.2060 - acc: 0.9125 - val_loss: 0.2777 - val_acc: 0.8854\n",
      "Epoch 16/25\n",
      "25/25 [==============================] - 4s 142ms/step - loss: 0.2081 - acc: 0.9274 - val_loss: 0.2812 - val_acc: 0.8837\n",
      "Epoch 17/25\n",
      "25/25 [==============================] - 3s 102ms/step - loss: 0.2101 - acc: 0.9274 - val_loss: 0.2405 - val_acc: 0.8837\n",
      "Epoch 18/25\n",
      "25/25 [==============================] - 3s 111ms/step - loss: 0.1795 - acc: 0.9200 - val_loss: 0.2588 - val_acc: 0.8605\n",
      "Epoch 19/25\n",
      "25/25 [==============================] - 3s 123ms/step - loss: 0.1420 - acc: 0.9650 - val_loss: 0.2626 - val_acc: 0.9070\n",
      "Epoch 20/25\n",
      "25/25 [==============================] - 3s 123ms/step - loss: 0.1625 - acc: 0.9625 - val_loss: 0.3268 - val_acc: 0.8953\n",
      "Epoch 21/25\n",
      "25/25 [==============================] - 3s 115ms/step - loss: 0.1963 - acc: 0.9249 - val_loss: 0.2987 - val_acc: 0.8837\n",
      "Epoch 22/25\n",
      "25/25 [==============================] - 3s 115ms/step - loss: 0.1683 - acc: 0.9401 - val_loss: 0.2869 - val_acc: 0.8854\n",
      "Epoch 23/25\n",
      "25/25 [==============================] - 4s 143ms/step - loss: 0.1459 - acc: 0.9601 - val_loss: 0.3061 - val_acc: 0.8953\n",
      "Epoch 24/25\n",
      "25/25 [==============================] - 3s 114ms/step - loss: 0.1337 - acc: 0.9475 - val_loss: 0.2639 - val_acc: 0.9070\n",
      "Epoch 25/25\n",
      "25/25 [==============================] - 3s 117ms/step - loss: 0.1272 - acc: 0.9500 - val_loss: 0.2612 - val_acc: 0.9070\n",
      "Model: \"model_1\"\n",
      "_________________________________________________________________\n",
      "Layer (type)                 Output Shape              Param #   \n",
      "=================================================================\n",
      "input_1 (InputLayer)         (None, 150, 150, 3)       0         \n",
      "_________________________________________________________________\n",
      "block1_conv1 (Conv2D)        (None, 150, 150, 64)      1792      \n",
      "_________________________________________________________________\n",
      "block1_conv2 (Conv2D)        (None, 150, 150, 64)      36928     \n",
      "_________________________________________________________________\n",
      "block1_pool (MaxPooling2D)   (None, 75, 75, 64)        0         \n",
      "_________________________________________________________________\n",
      "block2_conv1 (Conv2D)        (None, 75, 75, 128)       73856     \n",
      "_________________________________________________________________\n",
      "block2_conv2 (Conv2D)        (None, 75, 75, 128)       147584    \n",
      "_________________________________________________________________\n",
      "block2_pool (MaxPooling2D)   (None, 37, 37, 128)       0         \n",
      "_________________________________________________________________\n",
      "block3_conv1 (Conv2D)        (None, 37, 37, 256)       295168    \n",
      "_________________________________________________________________\n",
      "block3_conv2 (Conv2D)        (None, 37, 37, 256)       590080    \n",
      "_________________________________________________________________\n",
      "block3_conv3 (Conv2D)        (None, 37, 37, 256)       590080    \n",
      "_________________________________________________________________\n",
      "block3_pool (MaxPooling2D)   (None, 18, 18, 256)       0         \n",
      "_________________________________________________________________\n",
      "block4_conv1 (Conv2D)        (None, 18, 18, 512)       1180160   \n",
      "_________________________________________________________________\n",
      "block4_conv2 (Conv2D)        (None, 18, 18, 512)       2359808   \n",
      "_________________________________________________________________\n",
      "block4_conv3 (Conv2D)        (None, 18, 18, 512)       2359808   \n",
      "_________________________________________________________________\n",
      "block4_pool (MaxPooling2D)   (None, 9, 9, 512)         0         \n",
      "_________________________________________________________________\n",
      "block5_conv1 (Conv2D)        (None, 9, 9, 512)         2359808   \n",
      "_________________________________________________________________\n",
      "block5_conv2 (Conv2D)        (None, 9, 9, 512)         2359808   \n",
      "_________________________________________________________________\n",
      "block5_conv3 (Conv2D)        (None, 9, 9, 512)         2359808   \n",
      "_________________________________________________________________\n",
      "block5_pool (MaxPooling2D)   (None, 4, 4, 512)         0         \n",
      "_________________________________________________________________\n",
      "sequential_1 (Sequential)    (None, 1)                 2097665   \n",
      "=================================================================\n",
      "Total params: 16,812,353\n",
      "Trainable params: 9,177,089\n",
      "Non-trainable params: 7,635,264\n",
      "_________________________________________________________________\n"
     ]
    }
   ],
   "source": [
    "model_history = fine_tune_model(train_df, test_df,25,16,'hat')"
   ]
  },
  {
   "cell_type": "code",
   "execution_count": 51,
   "metadata": {},
   "outputs": [
    {
     "name": "stdout",
     "output_type": "stream",
     "text": [
      "highest test accuracy: 0.9302325581395349\n",
      "------------------\n",
      "highest train accuracy: 0.9642857142857143\n"
     ]
    }
   ],
   "source": [
    "highest_val_acc, highest_train_acc = max(model_history.history['val_acc']), max(model_history.history['acc'])\n",
    "print(f'highest test accuracy: {highest_val_acc}')\n",
    "print('------------------')\n",
    "print(f'highest train accuracy: {highest_train_acc}')"
   ]
  },
  {
   "cell_type": "code",
   "execution_count": 52,
   "metadata": {},
   "outputs": [
    {
     "name": "stdout",
     "output_type": "stream",
     "text": [
      "lowest test loss: 0.22663214906703594\n",
      "------------------\n",
      "lowest train loss: 0.12735276486800642\n"
     ]
    }
   ],
   "source": [
    "lowest_val_loss, lowest_train_loss = min(model_history.history['val_loss']), min(model_history.history['loss'])\n",
    "print(f'lowest test loss: {lowest_val_loss}')\n",
    "print('------------------')\n",
    "print(f'lowest train loss: {lowest_train_loss}')"
   ]
  },
  {
   "cell_type": "code",
   "execution_count": 53,
   "metadata": {},
   "outputs": [
    {
     "data": {
      "image/png": "[encoded data removed]",
      "text/plain": [
       "<Figure size 432x288 with 1 Axes>"
      ]
     },
     "metadata": {
      "needs_background": "light"
     },
     "output_type": "display_data"
    }
   ],
   "source": [
    "plt.plot(model_history.history['val_acc'], color = 'red', label = 'test')\n",
    "plt.plot(model_history.history['acc'], color = 'blue', label = 'train')\n",
    "plt.title('accuracy')\n",
    "plt.ylabel('accuracy')\n",
    "plt.legend()\n",
    "plt.show()"
   ]
  },
  {
   "cell_type": "code",
   "execution_count": 54,
   "metadata": {
    "scrolled": false
   },
   "outputs": [
    {
     "data": {
      "image/png": "[encoded data removed]",
      "text/plain": [
       "<Figure size 432x288 with 1 Axes>"
      ]
     },
     "metadata": {
      "needs_background": "light"
     },
     "output_type": "display_data"
    }
   ],
   "source": [
    "plt.plot(model_history.history['val_loss'], color = 'red', label = 'test')\n",
    "plt.plot(model_history.history['loss'], color = 'blue', label = 'train')\n",
    "plt.title('loss')\n",
    "plt.ylabel('loss')\n",
    "plt.legend()\n",
    "plt.show()"
   ]
  },
  {
   "cell_type": "markdown",
   "metadata": {},
   "source": [
    "### Save model "
   ]
  },
  {
   "cell_type": "code",
   "execution_count": 55,
   "metadata": {},
   "outputs": [],
   "source": [
    "# save model artchitecture \n",
    "hat_model = model_history.model\n",
    "hat_model_json = hat_model.to_json()"
   ]
  },
  {
   "cell_type": "code",
   "execution_count": 56,
   "metadata": {},
   "outputs": [],
   "source": [
    "# serialize model to JSON\n",
    "with open(\"hat_model.json\", \"w\") as json_file:\n",
    "    json_file.write(hat_model_json)"
   ]
  },
  {
   "cell_type": "code",
   "execution_count": 57,
   "metadata": {},
   "outputs": [],
   "source": [
    "# load json and create model\n",
    "from keras.models import model_from_json\n",
    "json_file = open('hat_model.json', 'r')\n",
    "loaded_model_json = json_file.read()\n",
    "json_file.close()\n",
    "loaded_model_hat = model_from_json(loaded_model_json)"
   ]
  },
  {
   "cell_type": "code",
   "execution_count": 58,
   "metadata": {},
   "outputs": [],
   "source": [
    "# load model weight \n",
    "loaded_model_hat.load_weights('../tuning_data/vgg16_model_hat.h5')"
   ]
  },
  {
   "cell_type": "code",
   "execution_count": 59,
   "metadata": {},
   "outputs": [
    {
     "name": "stdout",
     "output_type": "stream",
     "text": [
      "Found 102 validated image filenames belonging to 2 classes.\n"
     ]
    }
   ],
   "source": [
    "test_gen = ImageDataGenerator(rescale=1./255)\n",
    "test_generator =  test_gen.flow_from_dataframe(\n",
    "    dataframe=test_df,\n",
    "    directory='../data/pics',\n",
    "    x_col='pic_id',\n",
    "    y_col='hat',\n",
    "    batch_size=16,\n",
    "    target_size=(150,150),\n",
    "    class_mode = 'binary')"
   ]
  },
  {
   "cell_type": "code",
   "execution_count": 64,
   "metadata": {},
   "outputs": [],
   "source": [
    "loaded_model_hat.compile(loss='binary_crossentropy',\n",
    "             optimizer=optimizers.SGD(lr=1e-4, momentum=0.9),\n",
    "             metrics=['accuracy'])"
   ]
  },
  {
   "cell_type": "code",
   "execution_count": 65,
   "metadata": {},
   "outputs": [
    {
     "data": {
      "text/plain": [
       "[0.2803758091348059, 0.8823529411764706]"
      ]
     },
     "execution_count": 65,
     "metadata": {},
     "output_type": "execute_result"
    }
   ],
   "source": [
    "loaded_model_hat.evaluate_generator(test_generator)"
   ]
  },
  {
   "cell_type": "code",
   "execution_count": null,
   "metadata": {},
   "outputs": [],
   "source": []
  }
 ],
 "metadata": {
  "kernelspec": {
   "display_name": "Python 3",
   "language": "python",
   "name": "python3"
  },
  "language_info": {
   "codemirror_mode": {
    "name": "ipython",
    "version": 3
   },
   "file_extension": ".py",
   "mimetype": "text/x-python",
   "name": "python",
   "nbconvert_exporter": "python",
   "pygments_lexer": "ipython3",
   "version": "3.7.3"
  }
 },
 "nbformat": 4,
 "nbformat_minor": 2
}
