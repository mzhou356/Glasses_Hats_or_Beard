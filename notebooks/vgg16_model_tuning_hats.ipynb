{
 "cells": [
  {
   "cell_type": "markdown",
   "metadata": {},
   "source": [
    "## Transfer Learning Tuning_Hats:\n",
    "  * model parameter and other information can be found below:\n",
    "     * [source](https://blog.keras.io/building-powerful-image-classification-models-using-very-little-data.html)\n",
    "     \n",
    "  * base_model: use vgg16 and freeze at bottleneck layer (stop right before flatten layer) \n",
    "  * top_model: tune dense layers (parameters are inspired by source)\n",
    "     * batch_size 16 seems to work best for small data set \n",
    "\n",
    "##### warnings: make sure to restart kernel in between running different model tuning \n",
    "  \n",
    "---\n",
    "#### This cell is required in order to use GPU for running the model "
   ]
  },
  {
   "cell_type": "code",
   "execution_count": 2,
   "metadata": {},
   "outputs": [
    {
     "name": "stderr",
     "output_type": "stream",
     "text": [
      "Using TensorFlow backend.\n",
      "WARNING: Logging before flag parsing goes to stderr.\n",
      "W0829 11:27:21.783397 140470387205952 deprecation_wrapper.py:119] From /home/mindy/anaconda3/lib/python3.7/site-packages/keras/backend/tensorflow_backend.py:190: The name tf.get_default_session is deprecated. Please use tf.compat.v1.get_default_session instead.\n",
      "\n",
      "W0829 11:27:21.784180 140470387205952 deprecation_wrapper.py:119] From /home/mindy/anaconda3/lib/python3.7/site-packages/keras/backend/tensorflow_backend.py:207: The name tf.global_variables is deprecated. Please use tf.compat.v1.global_variables instead.\n",
      "\n"
     ]
    }
   ],
   "source": [
    "import warnings\n",
    "warnings.filterwarnings('ignore')\n",
    "import tensorflow as tf\n",
    "import keras\n",
    "from keras.backend.tensorflow_backend import set_session\n",
    "config = tf.ConfigProto()\n",
    "config.gpu_options.allow_growth = True  # dynamically grow the memory used on the GPU\n",
    "config.log_device_placement = True  # to log device placement (on which device the operation ran)\n",
    "                                    # (nothing gets printed in Jupyter, only if you run it standalone)\n",
    "sess = tf.Session(config=config)\n",
    "set_session(sess)  # set this TensorFlow session as the default session for Keras\n",
    "keras.backend.get_session().run(tf.global_variables_initializer())  "
   ]
  },
  {
   "cell_type": "markdown",
   "metadata": {},
   "source": [
    "---\n",
    "#### Import necessary libraries"
   ]
  },
  {
   "cell_type": "code",
   "execution_count": 3,
   "metadata": {},
   "outputs": [],
   "source": [
    "import pandas as pd\n",
    "import numpy as np\n",
    "import matplotlib.pyplot as plt\n",
    "%matplotlib inline\n",
    "from keras_preprocessing.image import ImageDataGenerator\n",
    "from keras.models import Sequential, Model\n",
    "from keras.layers import Dropout, Flatten, Dense\n",
    "from keras.applications.vgg16 import VGG16\n",
    "from keras import optimizers"
   ]
  },
  {
   "cell_type": "markdown",
   "metadata": {},
   "source": [
    "---\n",
    "#### Import train_df and test_df for hats"
   ]
  },
  {
   "cell_type": "code",
   "execution_count": 3,
   "metadata": {},
   "outputs": [],
   "source": [
    "train_df = pd.read_pickle('../pickle_files/train_df_hat.pkl')\n",
    "test_df = pd.read_pickle('../pickle_files/test_df_hat.pkl')"
   ]
  },
  {
   "cell_type": "markdown",
   "metadata": {},
   "source": [
    "#### Get bottleneck features to tune top models"
   ]
  },
  {
   "cell_type": "code",
   "execution_count": 4,
   "metadata": {},
   "outputs": [],
   "source": [
    "def save_bottleneck_features(train_df, test_df, label, batch_size):\n",
    "    '''\n",
    "    inputs:\n",
    "    train_df, test_df: train and test dataframes saved in pickle_files folder\n",
    "    label: a string, eyewear, hat, or beard\n",
    "    batch_size: process images in batches\n",
    "    outputs:\n",
    "    saves bottleneck features inside folder tuning_data as npy file\n",
    "    '''\n",
    "    # intialize the vgg16 model \n",
    "    # make sure not to train the top layers \n",
    "    base_model = VGG16(weights = 'imagenet', include_top = False)\n",
    "    # create train_generator and test_generator to get bottleneck inputs for train and test df \n",
    "    # remove zoom range for hats\n",
    "    datagen = ImageDataGenerator(\n",
    "        rescale=1./255,\n",
    "        shear_range=0.2,\n",
    "        horizontal_flip=True)\n",
    "    # make sure shuffle is False so we know the label follows the sequence of the dataframe \n",
    "    # so we can tune top_model \n",
    "    train_generator = datagen.flow_from_dataframe(\n",
    "    dataframe=train_df,\n",
    "    directory='../data/pics',\n",
    "    x_col='pic_id',\n",
    "    y_col=label,\n",
    "    batch_size=batch_size,\n",
    "    shuffle = False,\n",
    "    target_size=(150,150),\n",
    "    class_mode = None)\n",
    "    # get features saved as .npy in tunign_data folder \n",
    "    bottleneck_features_train = base_model.predict_generator(\n",
    "        train_generator, train_df.shape[0]//batch_size)\n",
    "    np.save(open('../tuning_data/bottleneck_features_train_hat.npy','wb'),\n",
    "           bottleneck_features_train)\n",
    "    \n",
    "    test_generator = datagen.flow_from_dataframe(\n",
    "    dataframe=test_df,\n",
    "    directory='../data/pics',\n",
    "    x_col='pic_id',\n",
    "    y_col=label,\n",
    "    batch_size=batch_size,\n",
    "    shuffle = False,\n",
    "    target_size=(150,150),\n",
    "    class_mode = None)\n",
    "    bottleneck_features_test = base_model.predict_generator(\n",
    "        test_generator, test_df.shape[0]//batch_size)\n",
    "    np.save(open('../tuning_data/bottleneck_features_test_hat.npy','wb'),\n",
    "           bottleneck_features_test)"
   ]
  },
  {
   "cell_type": "markdown",
   "metadata": {},
   "source": [
    "#### Save bottleneck_features"
   ]
  },
  {
   "cell_type": "code",
   "execution_count": 5,
   "metadata": {
    "scrolled": true
   },
   "outputs": [
    {
     "name": "stderr",
     "output_type": "stream",
     "text": [
      "W0829 10:55:39.228076 140125600503616 deprecation_wrapper.py:119] From /home/mindy/anaconda3/lib/python3.7/site-packages/keras/backend/tensorflow_backend.py:66: The name tf.get_default_graph is deprecated. Please use tf.compat.v1.get_default_graph instead.\n",
      "\n",
      "W0829 10:55:39.228836 140125600503616 deprecation_wrapper.py:119] From /home/mindy/anaconda3/lib/python3.7/site-packages/keras/backend/tensorflow_backend.py:541: The name tf.placeholder is deprecated. Please use tf.compat.v1.placeholder instead.\n",
      "\n",
      "W0829 10:55:39.231022 140125600503616 deprecation_wrapper.py:119] From /home/mindy/anaconda3/lib/python3.7/site-packages/keras/backend/tensorflow_backend.py:4432: The name tf.random_uniform is deprecated. Please use tf.random.uniform instead.\n",
      "\n",
      "W0829 10:55:39.250776 140125600503616 deprecation_wrapper.py:119] From /home/mindy/anaconda3/lib/python3.7/site-packages/keras/backend/tensorflow_backend.py:4267: The name tf.nn.max_pool is deprecated. Please use tf.nn.max_pool2d instead.\n",
      "\n"
     ]
    },
    {
     "name": "stdout",
     "output_type": "stream",
     "text": [
      "Found 408 validated image filenames.\n",
      "Found 102 validated image filenames.\n"
     ]
    }
   ],
   "source": [
    "save_bottleneck_features(train_df,test_df,'hat',16)"
   ]
  },
  {
   "cell_type": "markdown",
   "metadata": {},
   "source": [
    "### Quick tuning of top models "
   ]
  },
  {
   "cell_type": "code",
   "execution_count": 6,
   "metadata": {},
   "outputs": [],
   "source": [
    "def train_top_model(train_df, test_df, epoch, batch_size, label):\n",
    "    '''\n",
    "    inputs:\n",
    "    train_df, test_df: dataframes saved in pickle_files to generate train and test labels \n",
    "    epoch: num of epochs in fit \n",
    "    batch_size: same as image generator batch size \n",
    "    label: a string, eyewear, hat, or beard\n",
    "    output:\n",
    "    saves model weights in a folder \n",
    "    '''\n",
    "    train_data = np.load(open('../tuning_data/bottleneck_features_train_hat.npy','rb'))\n",
    "    # make sure train_data and train_label have same num of samples\n",
    "    train_label = np.array(train_df[label].map({'not_'+label:0, label:1}))[:-(train_df.shape[0]%batch_size)]\n",
    "    \n",
    "    test_data = np.load(open('../tuning_data/bottleneck_features_test_hat.npy','rb'))\n",
    "    test_label = np.array(test_df[label].map({'not_'+label:0, label:1}))[:-(test_df.shape[0]%batch_size)]\n",
    "    \n",
    "    # build top model\n",
    "    model = Sequential()\n",
    "    model.add(Flatten(input_shape=train_data.shape[1:]))\n",
    "    model.add(Dense(256, activation='relu'))\n",
    "    model.add(Dropout(0.5))\n",
    "    model.add(Dense(1, activation='sigmoid'))\n",
    "    \n",
    "    model.compile(optimizer='rmsprop',\n",
    "                 loss='binary_crossentropy',\n",
    "                 metrics=['accuracy'])\n",
    "    \n",
    "    model.fit(train_data, train_label,\n",
    "             epochs=epoch,\n",
    "             batch_size=batch_size,\n",
    "             validation_data=(test_data,test_label))\n",
    "    model.save_weights('../tuning_data/bottleneck_vgg_model_hat.h5')\n",
    "    del model\n",
    "    keras.backend.clear_session()"
   ]
  },
  {
   "cell_type": "markdown",
   "metadata": {},
   "source": [
    "#### run train_top_model and save results in tuning_data"
   ]
  },
  {
   "cell_type": "code",
   "execution_count": 7,
   "metadata": {
    "scrolled": false
   },
   "outputs": [
    {
     "name": "stderr",
     "output_type": "stream",
     "text": [
      "W0829 10:55:49.581180 140125600503616 deprecation.py:506] From /home/mindy/anaconda3/lib/python3.7/site-packages/keras/backend/tensorflow_backend.py:3733: calling dropout (from tensorflow.python.ops.nn_ops) with keep_prob is deprecated and will be removed in a future version.\n",
      "Instructions for updating:\n",
      "Please use `rate` instead of `keep_prob`. Rate should be set to `rate = 1 - keep_prob`.\n",
      "W0829 10:55:49.593553 140125600503616 deprecation_wrapper.py:119] From /home/mindy/anaconda3/lib/python3.7/site-packages/keras/optimizers.py:793: The name tf.train.Optimizer is deprecated. Please use tf.compat.v1.train.Optimizer instead.\n",
      "\n",
      "W0829 10:55:49.612625 140125600503616 deprecation.py:323] From /home/mindy/anaconda3/lib/python3.7/site-packages/tensorflow/python/ops/nn_impl.py:180: add_dispatch_support.<locals>.wrapper (from tensorflow.python.ops.array_ops) is deprecated and will be removed in a future version.\n",
      "Instructions for updating:\n",
      "Use tf.where in 2.0, which has the same broadcast rule as np.where\n"
     ]
    },
    {
     "name": "stdout",
     "output_type": "stream",
     "text": [
      "Train on 400 samples, validate on 96 samples\n",
      "Epoch 1/50\n",
      "400/400 [==============================] - 0s 1ms/step - loss: 1.6329 - acc: 0.6400 - val_loss: 1.1981 - val_acc: 0.5625\n",
      "Epoch 2/50\n",
      "400/400 [==============================] - 0s 188us/step - loss: 0.4657 - acc: 0.8275 - val_loss: 0.2880 - val_acc: 0.8438\n",
      "Epoch 3/50\n",
      "400/400 [==============================] - 0s 182us/step - loss: 0.2076 - acc: 0.9175 - val_loss: 0.3884 - val_acc: 0.8854\n",
      "Epoch 4/50\n",
      "400/400 [==============================] - 0s 198us/step - loss: 0.1783 - acc: 0.9325 - val_loss: 0.4033 - val_acc: 0.7917\n",
      "Epoch 5/50\n",
      "400/400 [==============================] - 0s 200us/step - loss: 0.2111 - acc: 0.9175 - val_loss: 0.3249 - val_acc: 0.9167\n",
      "Epoch 6/50\n",
      "400/400 [==============================] - 0s 202us/step - loss: 0.2321 - acc: 0.9250 - val_loss: 0.3274 - val_acc: 0.8542\n",
      "Epoch 7/50\n",
      "400/400 [==============================] - 0s 203us/step - loss: 0.1158 - acc: 0.9550 - val_loss: 0.4223 - val_acc: 0.8854\n",
      "Epoch 8/50\n",
      "400/400 [==============================] - 0s 211us/step - loss: 0.0814 - acc: 0.9650 - val_loss: 0.3477 - val_acc: 0.8438\n",
      "Epoch 9/50\n",
      "400/400 [==============================] - 0s 201us/step - loss: 0.0547 - acc: 0.9750 - val_loss: 0.7183 - val_acc: 0.8542\n",
      "Epoch 10/50\n",
      "400/400 [==============================] - 0s 211us/step - loss: 0.1110 - acc: 0.9475 - val_loss: 0.2638 - val_acc: 0.8854\n",
      "Epoch 11/50\n",
      "400/400 [==============================] - 0s 202us/step - loss: 0.0151 - acc: 0.9950 - val_loss: 0.3275 - val_acc: 0.8750\n",
      "Epoch 12/50\n",
      "400/400 [==============================] - 0s 193us/step - loss: 0.0089 - acc: 1.0000 - val_loss: 0.5976 - val_acc: 0.8750\n",
      "Epoch 13/50\n",
      "400/400 [==============================] - 0s 190us/step - loss: 0.0652 - acc: 0.9750 - val_loss: 0.3963 - val_acc: 0.8542\n",
      "Epoch 14/50\n",
      "400/400 [==============================] - 0s 197us/step - loss: 0.0601 - acc: 0.9775 - val_loss: 0.4332 - val_acc: 0.8750\n",
      "Epoch 15/50\n",
      "400/400 [==============================] - 0s 191us/step - loss: 0.0478 - acc: 0.9875 - val_loss: 0.4593 - val_acc: 0.9062\n",
      "Epoch 16/50\n",
      "400/400 [==============================] - 0s 203us/step - loss: 0.0025 - acc: 1.0000 - val_loss: 0.5700 - val_acc: 0.8854\n",
      "Epoch 17/50\n",
      "400/400 [==============================] - 0s 202us/step - loss: 0.0332 - acc: 0.9875 - val_loss: 0.5339 - val_acc: 0.8854\n",
      "Epoch 18/50\n",
      "400/400 [==============================] - 0s 205us/step - loss: 0.0079 - acc: 0.9975 - val_loss: 0.4684 - val_acc: 0.8958\n",
      "Epoch 19/50\n",
      "400/400 [==============================] - 0s 202us/step - loss: 0.0927 - acc: 0.9825 - val_loss: 0.4710 - val_acc: 0.8854\n",
      "Epoch 20/50\n",
      "400/400 [==============================] - 0s 194us/step - loss: 0.0082 - acc: 1.0000 - val_loss: 0.5277 - val_acc: 0.8958\n",
      "Epoch 21/50\n",
      "400/400 [==============================] - 0s 194us/step - loss: 0.0353 - acc: 0.9900 - val_loss: 0.5711 - val_acc: 0.8958\n",
      "Epoch 22/50\n",
      "400/400 [==============================] - 0s 185us/step - loss: 0.0064 - acc: 0.9975 - val_loss: 0.4862 - val_acc: 0.8542\n",
      "Epoch 23/50\n",
      "400/400 [==============================] - 0s 201us/step - loss: 0.0041 - acc: 0.9975 - val_loss: 0.5640 - val_acc: 0.8958\n",
      "Epoch 24/50\n",
      "400/400 [==============================] - 0s 201us/step - loss: 0.0613 - acc: 0.9850 - val_loss: 0.4947 - val_acc: 0.8646\n",
      "Epoch 25/50\n",
      "400/400 [==============================] - 0s 194us/step - loss: 0.0209 - acc: 0.9950 - val_loss: 0.5254 - val_acc: 0.8958\n",
      "Epoch 26/50\n",
      "400/400 [==============================] - 0s 186us/step - loss: 8.2953e-04 - acc: 1.0000 - val_loss: 0.5238 - val_acc: 0.8854\n",
      "Epoch 27/50\n",
      "400/400 [==============================] - 0s 204us/step - loss: 3.6414e-04 - acc: 1.0000 - val_loss: 0.6129 - val_acc: 0.8542\n",
      "Epoch 28/50\n",
      "400/400 [==============================] - 0s 189us/step - loss: 0.0209 - acc: 0.9925 - val_loss: 0.4368 - val_acc: 0.8958\n",
      "Epoch 29/50\n",
      "400/400 [==============================] - 0s 190us/step - loss: 0.0152 - acc: 0.9925 - val_loss: 0.7689 - val_acc: 0.8854\n",
      "Epoch 30/50\n",
      "400/400 [==============================] - 0s 196us/step - loss: 9.9701e-05 - acc: 1.0000 - val_loss: 0.5224 - val_acc: 0.8958\n",
      "Epoch 31/50\n",
      "400/400 [==============================] - 0s 205us/step - loss: 0.0073 - acc: 0.9975 - val_loss: 0.6926 - val_acc: 0.8958\n",
      "Epoch 32/50\n",
      "400/400 [==============================] - 0s 204us/step - loss: 1.8372e-04 - acc: 1.0000 - val_loss: 0.8265 - val_acc: 0.8958\n",
      "Epoch 33/50\n",
      "400/400 [==============================] - 0s 200us/step - loss: 0.0672 - acc: 0.9825 - val_loss: 0.4629 - val_acc: 0.8958\n",
      "Epoch 34/50\n",
      "400/400 [==============================] - 0s 194us/step - loss: 1.0700e-04 - acc: 1.0000 - val_loss: 0.4713 - val_acc: 0.8854\n",
      "Epoch 35/50\n",
      "400/400 [==============================] - 0s 192us/step - loss: 1.6362e-04 - acc: 1.0000 - val_loss: 0.5127 - val_acc: 0.8958\n",
      "Epoch 36/50\n",
      "400/400 [==============================] - 0s 186us/step - loss: 0.0017 - acc: 1.0000 - val_loss: 0.6166 - val_acc: 0.9062\n",
      "Epoch 37/50\n",
      "400/400 [==============================] - 0s 190us/step - loss: 3.3475e-05 - acc: 1.0000 - val_loss: 0.6671 - val_acc: 0.8958\n",
      "Epoch 38/50\n",
      "400/400 [==============================] - 0s 183us/step - loss: 1.3731e-05 - acc: 1.0000 - val_loss: 0.5447 - val_acc: 0.8750\n",
      "Epoch 39/50\n",
      "400/400 [==============================] - 0s 190us/step - loss: 0.0033 - acc: 0.9975 - val_loss: 0.6628 - val_acc: 0.8750\n",
      "Epoch 40/50\n",
      "400/400 [==============================] - 0s 190us/step - loss: 2.5465e-05 - acc: 1.0000 - val_loss: 0.7271 - val_acc: 0.8854\n",
      "Epoch 41/50\n",
      "400/400 [==============================] - 0s 186us/step - loss: 0.0032 - acc: 0.9975 - val_loss: 0.6589 - val_acc: 0.8958\n",
      "Epoch 42/50\n",
      "400/400 [==============================] - 0s 194us/step - loss: 2.1464e-04 - acc: 1.0000 - val_loss: 0.6613 - val_acc: 0.8958\n",
      "Epoch 43/50\n",
      "400/400 [==============================] - 0s 186us/step - loss: 1.0005e-04 - acc: 1.0000 - val_loss: 0.8158 - val_acc: 0.8854\n",
      "Epoch 44/50\n",
      "400/400 [==============================] - 0s 188us/step - loss: 2.6073e-05 - acc: 1.0000 - val_loss: 0.7405 - val_acc: 0.8750\n",
      "Epoch 45/50\n",
      "400/400 [==============================] - 0s 192us/step - loss: 1.0907e-05 - acc: 1.0000 - val_loss: 0.7445 - val_acc: 0.8854\n",
      "Epoch 46/50\n",
      "400/400 [==============================] - 0s 189us/step - loss: 0.0060 - acc: 0.9975 - val_loss: 0.6211 - val_acc: 0.8958\n",
      "Epoch 47/50\n",
      "400/400 [==============================] - 0s 190us/step - loss: 0.0142 - acc: 0.9950 - val_loss: 0.6796 - val_acc: 0.8958\n",
      "Epoch 48/50\n",
      "400/400 [==============================] - 0s 193us/step - loss: 6.9435e-06 - acc: 1.0000 - val_loss: 0.7349 - val_acc: 0.8854\n",
      "Epoch 49/50\n",
      "400/400 [==============================] - 0s 196us/step - loss: 8.4272e-06 - acc: 1.0000 - val_loss: 0.7797 - val_acc: 0.8854\n",
      "Epoch 50/50\n",
      "400/400 [==============================] - 0s 198us/step - loss: 6.8118e-06 - acc: 1.0000 - val_loss: 0.7312 - val_acc: 0.8958\n"
     ]
    }
   ],
   "source": [
    "train_top_model(train_df, test_df, 50, 16, 'hat')"
   ]
  },
  {
   "cell_type": "markdown",
   "metadata": {},
   "source": [
    "### Fine Tune Top Model to improve accuracy"
   ]
  },
  {
   "cell_type": "code",
   "execution_count": 10,
   "metadata": {},
   "outputs": [],
   "source": [
    "def fine_tune_model(train_df, test_df,epoch, batch_size,label, print_model = True):\n",
    "    # build VGG16 model and freeze top layers\n",
    "    # input_shape: width, height, RGB (from image generator)\n",
    "    model_vgg = VGG16(weights='imagenet',include_top=False, input_shape=(150,150,3))\n",
    "    # build top model\n",
    "    top_model = Sequential()\n",
    "    top_model.add(Flatten(input_shape=model_vgg.output_shape[1:]))\n",
    "    top_model.add(Dense(256,activation='relu'))\n",
    "    top_model.add(Dropout(0.5))\n",
    "    top_model.add(Dense(1, activation='sigmoid'))\n",
    "    \n",
    "    # load saved weights to fine tune parameters \n",
    "    top_model.load_weights('../tuning_data/bottleneck_vgg_model_hat.h5')\n",
    "    # add top model to model\n",
    "    model = Model(inputs=model_vgg.input, outputs=top_model(model_vgg.output))\n",
    "    # we will tune last 5 layers of the model: block5 and fully connected layer \n",
    "    for layer in model.layers[:15]:\n",
    "        layer.trainable = False\n",
    "    # we can tune the parameters for lr and momentum later to get better results\n",
    "    model.compile(loss='binary_crossentropy',\n",
    "             optimizer=optimizers.SGD(lr=1e-4, momentum=0.9),\n",
    "             metrics=['accuracy'])\n",
    "    # prepare train generator using data augmentation to battle small sample size \n",
    "    train_gen = ImageDataGenerator(\n",
    "        rescale=1./255,\n",
    "        shear_range=0.2,\n",
    "        horizontal_flip=True)\n",
    "    # not want to augment the test \n",
    "    test_gen = ImageDataGenerator(rescale=1./255)\n",
    "    \n",
    "    train_generator =  train_gen.flow_from_dataframe(\n",
    "    dataframe=train_df,\n",
    "    directory='../data/pics',\n",
    "    x_col='pic_id',\n",
    "    y_col=label,\n",
    "    batch_size=batch_size,\n",
    "    target_size=(150,150),\n",
    "    class_mode = 'binary')\n",
    "    \n",
    "    test_generator =  test_gen.flow_from_dataframe(\n",
    "    dataframe=test_df,\n",
    "    directory='../data/pics',\n",
    "    x_col='pic_id',\n",
    "    y_col=label,\n",
    "    batch_size=batch_size,\n",
    "    target_size=(150,150),\n",
    "    class_mode = 'binary')\n",
    "    \n",
    "    # run and fit model \n",
    "    history = model.fit_generator(\n",
    "    train_generator,\n",
    "    steps_per_epoch=train_df.shape[0]//batch_size,\n",
    "    epochs=epoch,\n",
    "    validation_data=test_generator,\n",
    "    validation_steps=test_df.shape[0]//batch_size,\n",
    "    verbose=1)\n",
    "    \n",
    "    if print_model:\n",
    "        model.summary()\n",
    "    del model\n",
    "    keras.backend.clear_session()\n",
    "    return history                  "
   ]
  },
  {
   "cell_type": "markdown",
   "metadata": {},
   "source": [
    "### save model history "
   ]
  },
  {
   "cell_type": "code",
   "execution_count": 1,
   "metadata": {},
   "outputs": [
    {
     "ename": "NameError",
     "evalue": "name 'fine_tune_model' is not defined",
     "output_type": "error",
     "traceback": [
      "\u001b[0;31m---------------------------------------------------------------------------\u001b[0m",
      "\u001b[0;31mNameError\u001b[0m                                 Traceback (most recent call last)",
      "\u001b[0;32m<ipython-input-1-80d2278acb03>\u001b[0m in \u001b[0;36m<module>\u001b[0;34m\u001b[0m\n\u001b[0;32m----> 1\u001b[0;31m \u001b[0mmodel_history\u001b[0m \u001b[0;34m=\u001b[0m \u001b[0mfine_tune_model\u001b[0m\u001b[0;34m(\u001b[0m\u001b[0mtrain_df\u001b[0m\u001b[0;34m,\u001b[0m \u001b[0mtest_df\u001b[0m\u001b[0;34m,\u001b[0m\u001b[0;36m50\u001b[0m\u001b[0;34m,\u001b[0m\u001b[0;36m16\u001b[0m\u001b[0;34m,\u001b[0m\u001b[0;34m'hat'\u001b[0m\u001b[0;34m)\u001b[0m\u001b[0;34m\u001b[0m\u001b[0;34m\u001b[0m\u001b[0m\n\u001b[0m",
      "\u001b[0;31mNameError\u001b[0m: name 'fine_tune_model' is not defined"
     ]
    }
   ],
   "source": [
    "model_history = fine_tune_model(train_df, test_df,50,16,'hat')"
   ]
  },
  {
   "cell_type": "code",
   "execution_count": null,
   "metadata": {
    "collapsed": true
   },
   "outputs": [],
   "source": [
    "highest_val_acc, highest_train_acc = max(model_history.history['val_acc']), max(model_history.history['acc'])\n",
    "print(f'highest test accuracy: {highest_val_acc}')\n",
    "print('------------------')\n",
    "print(f'highest train accuracy: {highest_train_acc}')"
   ]
  },
  {
   "cell_type": "code",
   "execution_count": null,
   "metadata": {},
   "outputs": [],
   "source": [
    "lowest_val_loss, lowest_train_loss = min(model_history.history['val_loss']), min(model_history.history['loss'])\n",
    "print(f'lowest test loss: {lowest_val_loss}')\n",
    "print('------------------')\n",
    "print(f'lowest train loss: {lowest_train_loss}')"
   ]
  },
  {
   "cell_type": "code",
   "execution_count": null,
   "metadata": {},
   "outputs": [],
   "source": [
    "plt.plot(model_history.history['val_acc'], color = 'red', label = 'test')\n",
    "plt.plot(model_history.history['acc'], color = 'blue', label = 'train')\n",
    "plt.title('accuracy')\n",
    "plt.ylabel('accuracy')\n",
    "plt.legend()\n",
    "plt.show()"
   ]
  },
  {
   "cell_type": "code",
   "execution_count": null,
   "metadata": {},
   "outputs": [],
   "source": [
    "plt.plot(model_history.history['val_loss'], color = 'red', label = 'test')\n",
    "plt.plot(model_history.history['loss'], color = 'blue', label = 'train')\n",
    "plt.title('loss')\n",
    "plt.ylabel('loss')\n",
    "plt.legend()\n",
    "plt.show()"
   ]
  }
 ],
 "metadata": {
  "kernelspec": {
   "display_name": "Python 3",
   "language": "python",
   "name": "python3"
  },
  "language_info": {
   "codemirror_mode": {
    "name": "ipython",
    "version": 3
   },
   "file_extension": ".py",
   "mimetype": "text/x-python",
   "name": "python",
   "nbconvert_exporter": "python",
   "pygments_lexer": "ipython3",
   "version": "3.7.3"
  }
 },
 "nbformat": 4,
 "nbformat_minor": 2
}
