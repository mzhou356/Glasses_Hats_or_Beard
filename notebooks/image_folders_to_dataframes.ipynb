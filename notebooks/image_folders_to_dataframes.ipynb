{
 "cells": [
  {
   "cell_type": "markdown",
   "metadata": {},
   "source": [
    "### Images Directory to DataFrame with MultiLabels:\n",
    "\n",
    "* Images are scraped from google image manually:\n",
    "   * [blog link for scraping](https://www.pyimagesearch.com/2017/12/04/how-to-create-a-deep-learning-dataset-using-google-images/)\n",
    "   * images are saved in a local file (can't distribute due to copyrights)\n",
    "     * edit image directory for your own code if use this notebook\n",
    "     \n",
    " -----\n",
    " \n",
    " #### Import Necessary Libaries"
   ]
  },
  {
   "cell_type": "code",
   "execution_count": 1,
   "metadata": {},
   "outputs": [],
   "source": [
    "import os\n",
    "import pandas as pd\n",
    "import matplotlib.pyplot as plt\n",
    "%matplotlib inline\n",
    "import pickle"
   ]
  },
  {
   "cell_type": "code",
   "execution_count": 2,
   "metadata": {},
   "outputs": [],
   "source": [
    "def dict_from_data():\n",
    "    '''\n",
    "    input: a folder structure (data with subfolders with label as the foldername, glasses,beard, and hats)\n",
    "            this folder structure is in a local folder, not accessible, please modify function for your usages\n",
    "    output: a dictionary with imagename and labels as a list\n",
    "    '''\n",
    "    result = {} # final dictionary\n",
    "    for dirname, _, files in os.walk('/Datastore/cropped'):\n",
    "        if len(dirname)<=18: # ignore other filess in the cropped folders \n",
    "            continue\n",
    "        label = os.path.split(dirname)[-1]\n",
    "        for pic in files:\n",
    "            if pic == '.DS_Store': # mac issue, make sure it is not in the dictionary\n",
    "                continue\n",
    "            if pic in result:\n",
    "                result[pic].append(label)\n",
    "            else:\n",
    "                result[pic]=[label]\n",
    "    return result "
   ]
  },
  {
   "cell_type": "markdown",
   "metadata": {},
   "source": [
    "#### Convert Image data directories into a dictionary"
   ]
  },
  {
   "cell_type": "code",
   "execution_count": 3,
   "metadata": {},
   "outputs": [],
   "source": [
    "img_dict =dict_from_data()"
   ]
  },
  {
   "cell_type": "markdown",
   "metadata": {},
   "source": [
    "#### Convert into pandas dataframe for transfer learning "
   ]
  },
  {
   "cell_type": "code",
   "execution_count": 4,
   "metadata": {},
   "outputs": [],
   "source": [
    "# create pics_name in sorted order (lowest jpg number to highest jpg number )\n",
    "pics_sorted = sorted(img_dict.keys())"
   ]
  },
  {
   "cell_type": "code",
   "execution_count": 7,
   "metadata": {},
   "outputs": [],
   "source": [
    "def create_columns_labels(img_dict, pics_names, labelnames):\n",
    "    '''\n",
    "    inputs: \n",
    "    img_dict: created from dict_from_data function \n",
    "    pics_names: jpg names, key in dict but sorted \n",
    "    labelnames for the column a list of strings: glasses, hats, beard\n",
    "    output: an organized dictioanry of label: [0 or 1 ...]\n",
    "    '''\n",
    "    col_dict = {}\n",
    "    for pic in pics_names:\n",
    "        val = img_dict[pic]\n",
    "        for label in labelnames:\n",
    "            if label not in col_dict:\n",
    "                col_dict[label] = list()\n",
    "            if label in val:\n",
    "                col_dict[label].append(1)\n",
    "            else:\n",
    "                col_dict[label].append(0)\n",
    "    return col_dict"
   ]
  },
  {
   "cell_type": "markdown",
   "metadata": {},
   "source": [
    "#### create pandas dataframe with 0 and 1 multilabels"
   ]
  },
  {
   "cell_type": "code",
   "execution_count": 8,
   "metadata": {},
   "outputs": [],
   "source": [
    "col_dict = create_columns_labels(img_dict, pics_sorted, ['eyewear','hat','beard'])"
   ]
  },
  {
   "cell_type": "code",
   "execution_count": 9,
   "metadata": {},
   "outputs": [],
   "source": [
    "pic_df = pd.DataFrame(col_dict, index=pics_sorted)"
   ]
  },
  {
   "cell_type": "markdown",
   "metadata": {},
   "source": [
    "#### Check class balances for one vs all classifier using transfer learning \n",
    "\n",
    "___\n",
    "\n",
    "#### glasses "
   ]
  },
  {
   "cell_type": "code",
   "execution_count": 10,
   "metadata": {
    "scrolled": false
   },
   "outputs": [
    {
     "data": {
      "image/png": "[encoded data removed]",
      "text/plain": [
       "<Figure size 432x288 with 1 Axes>"
      ]
     },
     "metadata": {
      "needs_background": "light"
     },
     "output_type": "display_data"
    }
   ],
   "source": [
    "pic_df.eyewear.value_counts(normalize=True).plot.bar(color = 'red')\n",
    "plt.show()"
   ]
  },
  {
   "cell_type": "markdown",
   "metadata": {},
   "source": [
    "---\n",
    "#### hats"
   ]
  },
  {
   "cell_type": "code",
   "execution_count": 11,
   "metadata": {
    "scrolled": true
   },
   "outputs": [
    {
     "data": {
      "image/png": "[encoded data removed]",
      "text/plain": [
       "<Figure size 432x288 with 1 Axes>"
      ]
     },
     "metadata": {
      "needs_background": "light"
     },
     "output_type": "display_data"
    }
   ],
   "source": [
    "pic_df.hat.value_counts(normalize=True).plot.bar(color = 'purple')\n",
    "plt.show()"
   ]
  },
  {
   "cell_type": "markdown",
   "metadata": {},
   "source": [
    "#### beard"
   ]
  },
  {
   "cell_type": "code",
   "execution_count": 12,
   "metadata": {
    "scrolled": true
   },
   "outputs": [
    {
     "data": {
      "image/png": "[encoded data removed]",
      "text/plain": [
       "<Figure size 432x288 with 1 Axes>"
      ]
     },
     "metadata": {
      "needs_background": "light"
     },
     "output_type": "display_data"
    }
   ],
   "source": [
    "pic_df.beard.value_counts(normalize=True).plot.bar(color = 'darkgreen')\n",
    "plt.show()"
   ]
  },
  {
   "cell_type": "markdown",
   "metadata": {},
   "source": [
    "#### Save finished dataframe as pickel files"
   ]
  },
  {
   "cell_type": "code",
   "execution_count": 13,
   "metadata": {},
   "outputs": [],
   "source": [
    "pic_df.to_pickle('../pickle_files/pic_df.pkl')"
   ]
  },
  {
   "cell_type": "code",
   "execution_count": 14,
   "metadata": {
    "scrolled": false
   },
   "outputs": [],
   "source": [
    "pic_df = pd.read_pickle('../pickle_files/pic_df.pkl')"
   ]
  },
  {
   "cell_type": "code",
   "execution_count": 15,
   "metadata": {},
   "outputs": [
    {
     "name": "stdout",
     "output_type": "stream",
     "text": [
      "<class 'pandas.core.frame.DataFrame'>\n",
      "Index: 653 entries, 00018.jpg to 01359.jpg\n",
      "Data columns (total 3 columns):\n",
      "eyewear    653 non-null int64\n",
      "hat        653 non-null int64\n",
      "beard      653 non-null int64\n",
      "dtypes: int64(3)\n",
      "memory usage: 20.4+ KB\n"
     ]
    }
   ],
   "source": [
    "pic_df.info()"
   ]
  }
 ],
 "metadata": {
  "kernelspec": {
   "display_name": "Python 3",
   "language": "python",
   "name": "python3"
  },
  "language_info": {
   "codemirror_mode": {
    "name": "ipython",
    "version": 3
   },
   "file_extension": ".py",
   "mimetype": "text/x-python",
   "name": "python",
   "nbconvert_exporter": "python",
   "pygments_lexer": "ipython3",
   "version": "3.7.1"
  }
 },
 "nbformat": 4,
 "nbformat_minor": 2
}
