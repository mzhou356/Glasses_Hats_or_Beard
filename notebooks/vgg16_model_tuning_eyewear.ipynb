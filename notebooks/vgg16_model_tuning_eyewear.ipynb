{
 "cells": [
  {
   "cell_type": "markdown",
   "metadata": {},
   "source": [
    "## Transfer Learning Tuning_EyeWear:\n",
    "  * model parameter and other information can be found below:\n",
    "     * [source](https://blog.keras.io/building-powerful-image-classification-models-using-very-little-data.html)\n",
    "     \n",
    "  * base_model: use vgg16 and freeze at bottleneck layer (stop right before flatten layer) \n",
    "  * top_model: tune dense layers (parameters are inspired by source)\n",
    "     * batch_size 16 seems to work best for small data set \n",
    "     \n",
    "  * extra blog source for callbacks and saving models:\n",
    "  \n",
    "  [call_backs for best weights](https://machinelearningmastery.com/check-point-deep-learning-models-keras/)\n",
    "  \n",
    "  [saving models](https://machinelearningmastery.com/save-load-keras-deep-learning-models/)\n",
    "\n",
    "##### warnings: due to the order of my dataframe, the first entry is not_eyewear, class predict 1 == has no eyewear\n",
    "  \n",
    "---\n",
    "#### This cell is required in order to use GPU for running the model "
   ]
  },
  {
   "cell_type": "code",
   "execution_count": 1,
   "metadata": {},
   "outputs": [
    {
     "name": "stderr",
     "output_type": "stream",
     "text": [
      "Using TensorFlow backend.\n",
      "WARNING: Logging before flag parsing goes to stderr.\n",
      "W0903 21:21:57.404081 140691783780160 deprecation_wrapper.py:119] From /home/mindy/anaconda3/lib/python3.7/site-packages/keras/backend/tensorflow_backend.py:190: The name tf.get_default_session is deprecated. Please use tf.compat.v1.get_default_session instead.\n",
      "\n",
      "W0903 21:21:57.405112 140691783780160 deprecation_wrapper.py:119] From /home/mindy/anaconda3/lib/python3.7/site-packages/keras/backend/tensorflow_backend.py:207: The name tf.global_variables is deprecated. Please use tf.compat.v1.global_variables instead.\n",
      "\n"
     ]
    }
   ],
   "source": [
    "import warnings\n",
    "warnings.filterwarnings('ignore')\n",
    "import tensorflow as tf\n",
    "import keras\n",
    "from keras.backend.tensorflow_backend import set_session\n",
    "config = tf.ConfigProto()\n",
    "config.gpu_options.allow_growth = True  # dynamically grow the memory used on the GPU\n",
    "config.log_device_placement = True  # to log device placement (on which device the operation ran)\n",
    "                                    # (nothing gets printed in Jupyter, only if you run it standalone)\n",
    "sess = tf.Session(config=config)\n",
    "set_session(sess)  # set this TensorFlow session as the default session for Keras\n",
    "keras.backend.get_session().run(tf.global_variables_initializer())  "
   ]
  },
  {
   "cell_type": "markdown",
   "metadata": {},
   "source": [
    "---\n",
    "#### Import necessary libraries"
   ]
  },
  {
   "cell_type": "code",
   "execution_count": 3,
   "metadata": {},
   "outputs": [],
   "source": [
    "import pandas as pd\n",
    "import sys\n",
    "import numpy as np\n",
    "import matplotlib.pyplot as plt\n",
    "%matplotlib inline\n",
    "from keras_preprocessing.image import ImageDataGenerator\n",
    "from keras.models import Sequential, Model, model_from_json\n",
    "from keras.layers import Dropout, Flatten, Dense\n",
    "from keras.applications.vgg16 import VGG16\n",
    "from keras import optimizers\n",
    "from keras.models import model_from_json\n",
    "from keras.callbacks import ModelCheckpoint\n",
    "from sklearn.metrics import confusion_matrix, classification_report, roc_curve, roc_auc_score"
   ]
  },
  {
   "cell_type": "code",
   "execution_count": 4,
   "metadata": {},
   "outputs": [],
   "source": [
    "%load_ext autoreload\n",
    "%autoreload 1\n",
    "\n",
    "sys.path.append(\"../python_files/\")\n",
    "\n",
    "import vgg16_preprocess\n",
    "\n",
    "\n",
    "%aimport vgg16_preprocess\n"
   ]
  },
  {
   "cell_type": "markdown",
   "metadata": {},
   "source": [
    "---\n",
    "#### Import train_df and test_df for eyewears"
   ]
  },
  {
   "cell_type": "code",
   "execution_count": 5,
   "metadata": {},
   "outputs": [],
   "source": [
    "def load_df(label):\n",
    "    '''\n",
    "    label: eyewear,beard, or hat a string\n",
    "    return train and test df \n",
    "    '''\n",
    "    if label == 'eyewear':\n",
    "        train_df = pd.read_pickle('../pickle_files/train_df_glasses.pkl')\n",
    "        test_df = pd.read_pickle('../pickle_files/test_df_glasses.pkl')\n",
    "    if label == 'beard':\n",
    "        train_df = pd.read_pickle('../pickle_files/train_df_beard.pkl')\n",
    "        test_df = pd.read_pickle('../pickle_files/test_df_beard.pkl')\n",
    "    if label == 'hat':\n",
    "        train_df = pd.read_pickle('../pickle_files/train_df_hat.pkl')\n",
    "        test_df = pd.read_pickle('../pickle_files/test_df_hat.pkl')\n",
    "    return train_df, test_df     "
   ]
  },
  {
   "cell_type": "code",
   "execution_count": 6,
   "metadata": {
    "scrolled": true
   },
   "outputs": [
    {
     "data": {
      "text/html": [
       "<div>\n",
       "<style scoped>\n",
       "    .dataframe tbody tr th:only-of-type {\n",
       "        vertical-align: middle;\n",
       "    }\n",
       "\n",
       "    .dataframe tbody tr th {\n",
       "        vertical-align: top;\n",
       "    }\n",
       "\n",
       "    .dataframe thead th {\n",
       "        text-align: right;\n",
       "    }\n",
       "</style>\n",
       "<table border=\"1\" class=\"dataframe\">\n",
       "  <thead>\n",
       "    <tr style=\"text-align: right;\">\n",
       "      <th></th>\n",
       "      <th>pic_id</th>\n",
       "      <th>eyewear</th>\n",
       "    </tr>\n",
       "  </thead>\n",
       "  <tbody>\n",
       "    <tr>\n",
       "      <th>235</th>\n",
       "      <td>00964.jpg</td>\n",
       "      <td>not_eyewear</td>\n",
       "    </tr>\n",
       "    <tr>\n",
       "      <th>171</th>\n",
       "      <td>00872.jpg</td>\n",
       "      <td>not_eyewear</td>\n",
       "    </tr>\n",
       "    <tr>\n",
       "      <th>372</th>\n",
       "      <td>00412.jpg</td>\n",
       "      <td>eyewear</td>\n",
       "    </tr>\n",
       "    <tr>\n",
       "      <th>93</th>\n",
       "      <td>00745.jpg</td>\n",
       "      <td>not_eyewear</td>\n",
       "    </tr>\n",
       "    <tr>\n",
       "      <th>142</th>\n",
       "      <td>00822.jpg</td>\n",
       "      <td>not_eyewear</td>\n",
       "    </tr>\n",
       "  </tbody>\n",
       "</table>\n",
       "</div>"
      ],
      "text/plain": [
       "        pic_id      eyewear\n",
       "235  00964.jpg  not_eyewear\n",
       "171  00872.jpg  not_eyewear\n",
       "372  00412.jpg      eyewear\n",
       "93   00745.jpg  not_eyewear\n",
       "142  00822.jpg  not_eyewear"
      ]
     },
     "execution_count": 6,
     "metadata": {},
     "output_type": "execute_result"
    }
   ],
   "source": [
    "train_df, test_df = load_df('eyewear')\n",
    "train_df.head()"
   ]
  },
  {
   "cell_type": "markdown",
   "metadata": {},
   "source": [
    "#### Get bottleneck features to tune top models"
   ]
  },
  {
   "cell_type": "code",
   "execution_count": 30,
   "metadata": {},
   "outputs": [],
   "source": [
    "def save_bottleneck_features(train_df, test_df, label, batch_size):\n",
    "    '''\n",
    "    inputs:\n",
    "    train_df, test_df: train and test dataframes saved in pickle_files folder\n",
    "    label: a string, eyewear, hat, or beard\n",
    "    batch_size: process images in batches\n",
    "    outputs:\n",
    "    saves bottleneck features inside folder tuning_data as npy file\n",
    "    '''\n",
    "    # intialize the vgg16 model \n",
    "    # make sure not to train the top layers \n",
    "    base_model = VGG16(weights = 'imagenet', include_top = False)\n",
    "    # create train_generator and test_generator to get bottleneck inputs for train and test df \n",
    "    datagen = ImageDataGenerator(\n",
    "        rescale=1./255,\n",
    "        zoom_range= [0.8,2],\n",
    "        brightness_range=[0.8,1.2],\n",
    "        shear_range=0.2,\n",
    "        rotation_range = 40,\n",
    "        width_shift_range=0.2,\n",
    "        height_shift_range=0.2,\n",
    "        horizontal_flip=True,\n",
    "        preprocessing_function=vgg16_preprocess.preprocess_input\n",
    "    ) # add reprocess to prevent overfitting \n",
    "    # make sure shuffle is False so we know the label follows the sequence of the dataframe \n",
    "    # so we can tune top_model \n",
    "    train_generator = datagen.flow_from_dataframe(\n",
    "    dataframe=train_df,\n",
    "    directory='../data/pics',\n",
    "    x_col='pic_id',\n",
    "    y_col=label,\n",
    "    batch_size=batch_size,\n",
    "    shuffle = False,\n",
    "    target_size=(150,150),\n",
    "    class_mode = None)\n",
    "    # get features saved as .npy in tunign_data folder \n",
    "    bottleneck_features_train = base_model.predict_generator(\n",
    "        train_generator, train_df.shape[0]//batch_size\n",
    "    )\n",
    "    np.save(open(f'../tuning_data/VGG_16_tuning/bottleneck_features_train_{label}_custom_preprocess_150.npy','wb'),\n",
    "           bottleneck_features_train)\n",
    "    \n",
    "    test_generator = datagen.flow_from_dataframe(\n",
    "    dataframe=test_df,\n",
    "    directory='../data/pics',\n",
    "    x_col='pic_id',\n",
    "    y_col=label,\n",
    "    batch_size=batch_size,\n",
    "    shuffle = False,\n",
    "    target_size=(150,150),  # change to default input size \n",
    "    class_mode = None)\n",
    "    bottleneck_features_test = base_model.predict_generator(\n",
    "        test_generator, test_df.shape[0]//batch_size)\n",
    "    np.save(open(f'../tuning_data/VGG_16_tuning/bottleneck_features_test_{label}_custom_preprocess_150.npy','wb'),\n",
    "           bottleneck_features_test)"
   ]
  },
  {
   "cell_type": "markdown",
   "metadata": {},
   "source": [
    "#### Save bottleneck_features"
   ]
  },
  {
   "cell_type": "code",
   "execution_count": 31,
   "metadata": {
    "scrolled": false
   },
   "outputs": [
    {
     "name": "stdout",
     "output_type": "stream",
     "text": [
      "Found 505 validated image filenames.\n",
      "Found 127 validated image filenames.\n"
     ]
    }
   ],
   "source": [
    "save_bottleneck_features(train_df,test_df,'eyewear',16)"
   ]
  },
  {
   "cell_type": "markdown",
   "metadata": {},
   "source": [
    "### Quick tuning of top models "
   ]
  },
  {
   "cell_type": "code",
   "execution_count": 32,
   "metadata": {},
   "outputs": [],
   "source": [
    "def train_top_model(train_df, test_df, epoch, batch_size, label):\n",
    "    '''\n",
    "    inputs:\n",
    "    train_df, test_df: dataframes saved in pickle_files to generate train and test labels \n",
    "    epoch: num of epochs in fit \n",
    "    batch_size: same as image generator batch size \n",
    "    label: a string, eyewear, hat, or beard\n",
    "    output:\n",
    "    saves model weights in a folder \n",
    "    '''\n",
    "    train_data = np.load(open(f'../tuning_data/VGG_16_tuning/bottleneck_features_train_{label}_custom_preprocess_150.npy','rb'))\n",
    "    # make sure train_data and train_label have same num of samples\n",
    "    train_label = np.array(train_df[label].map({'not_'+label:0, label:1}))[:-(train_df.shape[0]%batch_size)]\n",
    "    \n",
    "    test_data = np.load(open(f'../tuning_data/VGG_16_tuning/bottleneck_features_test_{label}_custom_preprocess_150.npy','rb'))\n",
    "    test_label = np.array(test_df[label].map({'not_'+label:0, label:1}))[:-(test_df.shape[0]%batch_size)]\n",
    "    \n",
    "    # build top model\n",
    "    model = Sequential()\n",
    "    model.add(Flatten(input_shape=train_data.shape[1:]))\n",
    "    model.add(Dense(256, activation='relu'))\n",
    "    model.add(Dropout(0.5))\n",
    "    model.add(Dense(1, activation='sigmoid'))\n",
    "    \n",
    "    model.compile(optimizer= optimizers.Adam(),\n",
    "                 loss='binary_crossentropy',\n",
    "                 metrics=['accuracy'])\n",
    "    \n",
    "    # checkpoint for best weights \n",
    "    filepath=f\"../tuning_data/VGG_16_tuning/best_bottleneck_vgg16_model_{label}_custom_preprocess_150.h5\"\n",
    "    checkpoint = ModelCheckpoint(filepath, monitor='val_acc', verbose=1, save_best_only=True, mode='max')\n",
    "    callbacks_list = [checkpoint]\n",
    "    \n",
    "    model.fit(train_data, train_label,\n",
    "             epochs=epoch,\n",
    "             batch_size=batch_size,\n",
    "             validation_data=(test_data,test_label),\n",
    "             callbacks=callbacks_list)\n",
    "    del model\n",
    "    keras.backend.clear_session()"
   ]
  },
  {
   "cell_type": "markdown",
   "metadata": {},
   "source": [
    "#### run train_top_model and save results in tuning_data"
   ]
  },
  {
   "cell_type": "code",
   "execution_count": 33,
   "metadata": {
    "scrolled": false
   },
   "outputs": [
    {
     "name": "stdout",
     "output_type": "stream",
     "text": [
      "Train on 496 samples, validate on 112 samples\n",
      "Epoch 1/50\n",
      "496/496 [==============================] - 0s 695us/step - loss: 1.0354 - acc: 0.5806 - val_loss: 0.5549 - val_acc: 0.7500\n",
      "\n",
      "Epoch 00001: val_acc improved from -inf to 0.75000, saving model to ../tuning_data/VGG_16_tuning/best_bottleneck_vgg16_model_eyewear_custom_preprocess_150.h5\n",
      "Epoch 2/50\n",
      "496/496 [==============================] - 0s 220us/step - loss: 0.4837 - acc: 0.7984 - val_loss: 0.4663 - val_acc: 0.7679\n",
      "\n",
      "Epoch 00002: val_acc improved from 0.75000 to 0.76786, saving model to ../tuning_data/VGG_16_tuning/best_bottleneck_vgg16_model_eyewear_custom_preprocess_150.h5\n",
      "Epoch 3/50\n",
      "496/496 [==============================] - 0s 221us/step - loss: 0.3051 - acc: 0.8669 - val_loss: 0.4170 - val_acc: 0.8482\n",
      "\n",
      "Epoch 00003: val_acc improved from 0.76786 to 0.84821, saving model to ../tuning_data/VGG_16_tuning/best_bottleneck_vgg16_model_eyewear_custom_preprocess_150.h5\n",
      "Epoch 4/50\n",
      "496/496 [==============================] - 0s 220us/step - loss: 0.2267 - acc: 0.9234 - val_loss: 0.3994 - val_acc: 0.8661\n",
      "\n",
      "Epoch 00004: val_acc improved from 0.84821 to 0.86607, saving model to ../tuning_data/VGG_16_tuning/best_bottleneck_vgg16_model_eyewear_custom_preprocess_150.h5\n",
      "Epoch 5/50\n",
      "496/496 [==============================] - 0s 222us/step - loss: 0.1950 - acc: 0.9254 - val_loss: 0.5718 - val_acc: 0.7679\n",
      "\n",
      "Epoch 00005: val_acc did not improve from 0.86607\n",
      "Epoch 6/50\n",
      "496/496 [==============================] - 0s 224us/step - loss: 0.1612 - acc: 0.9415 - val_loss: 0.4393 - val_acc: 0.8214\n",
      "\n",
      "Epoch 00006: val_acc did not improve from 0.86607\n",
      "Epoch 7/50\n",
      "496/496 [==============================] - 0s 227us/step - loss: 0.0923 - acc: 0.9778 - val_loss: 0.4114 - val_acc: 0.8571\n",
      "\n",
      "Epoch 00007: val_acc did not improve from 0.86607\n",
      "Epoch 8/50\n",
      "496/496 [==============================] - 0s 239us/step - loss: 0.0606 - acc: 0.9839 - val_loss: 0.4072 - val_acc: 0.8839\n",
      "\n",
      "Epoch 00008: val_acc improved from 0.86607 to 0.88393, saving model to ../tuning_data/VGG_16_tuning/best_bottleneck_vgg16_model_eyewear_custom_preprocess_150.h5\n",
      "Epoch 9/50\n",
      "496/496 [==============================] - 0s 229us/step - loss: 0.0609 - acc: 0.9839 - val_loss: 0.4006 - val_acc: 0.8661\n",
      "\n",
      "Epoch 00009: val_acc did not improve from 0.88393\n",
      "Epoch 10/50\n",
      "496/496 [==============================] - 0s 221us/step - loss: 0.0616 - acc: 0.9879 - val_loss: 0.4363 - val_acc: 0.8393\n",
      "\n",
      "Epoch 00010: val_acc did not improve from 0.88393\n",
      "Epoch 11/50\n",
      "496/496 [==============================] - 0s 222us/step - loss: 0.0308 - acc: 0.9960 - val_loss: 0.4418 - val_acc: 0.8839\n",
      "\n",
      "Epoch 00011: val_acc did not improve from 0.88393\n",
      "Epoch 12/50\n",
      "496/496 [==============================] - 0s 227us/step - loss: 0.0245 - acc: 1.0000 - val_loss: 0.4867 - val_acc: 0.8482\n",
      "\n",
      "Epoch 00012: val_acc did not improve from 0.88393\n",
      "Epoch 13/50\n",
      "496/496 [==============================] - 0s 230us/step - loss: 0.0218 - acc: 1.0000 - val_loss: 0.4840 - val_acc: 0.8214\n",
      "\n",
      "Epoch 00013: val_acc did not improve from 0.88393\n",
      "Epoch 14/50\n",
      "496/496 [==============================] - 0s 222us/step - loss: 0.0184 - acc: 0.9980 - val_loss: 0.4608 - val_acc: 0.8661\n",
      "\n",
      "Epoch 00014: val_acc did not improve from 0.88393\n",
      "Epoch 15/50\n",
      "496/496 [==============================] - 0s 221us/step - loss: 0.0179 - acc: 0.9960 - val_loss: 0.5143 - val_acc: 0.8571\n",
      "\n",
      "Epoch 00015: val_acc did not improve from 0.88393\n",
      "Epoch 16/50\n",
      "496/496 [==============================] - 0s 223us/step - loss: 0.0154 - acc: 1.0000 - val_loss: 0.4703 - val_acc: 0.8393\n",
      "\n",
      "Epoch 00016: val_acc did not improve from 0.88393\n",
      "Epoch 17/50\n",
      "496/496 [==============================] - 0s 221us/step - loss: 0.0126 - acc: 1.0000 - val_loss: 0.4660 - val_acc: 0.8661\n",
      "\n",
      "Epoch 00017: val_acc did not improve from 0.88393\n",
      "Epoch 18/50\n",
      "496/496 [==============================] - 0s 222us/step - loss: 0.0118 - acc: 1.0000 - val_loss: 0.4905 - val_acc: 0.8750\n",
      "\n",
      "Epoch 00018: val_acc did not improve from 0.88393\n",
      "Epoch 19/50\n",
      "496/496 [==============================] - 0s 220us/step - loss: 0.0082 - acc: 1.0000 - val_loss: 0.4732 - val_acc: 0.8750\n",
      "\n",
      "Epoch 00019: val_acc did not improve from 0.88393\n",
      "Epoch 20/50\n",
      "496/496 [==============================] - 0s 222us/step - loss: 0.0061 - acc: 1.0000 - val_loss: 0.4832 - val_acc: 0.8571\n",
      "\n",
      "Epoch 00020: val_acc did not improve from 0.88393\n",
      "Epoch 21/50\n",
      "496/496 [==============================] - 0s 221us/step - loss: 0.0109 - acc: 0.9980 - val_loss: 0.5030 - val_acc: 0.8661\n",
      "\n",
      "Epoch 00021: val_acc did not improve from 0.88393\n",
      "Epoch 22/50\n",
      "496/496 [==============================] - 0s 221us/step - loss: 0.0132 - acc: 0.9980 - val_loss: 0.4991 - val_acc: 0.8750\n",
      "\n",
      "Epoch 00022: val_acc did not improve from 0.88393\n",
      "Epoch 23/50\n",
      "496/496 [==============================] - 0s 220us/step - loss: 0.0098 - acc: 0.9980 - val_loss: 0.5473 - val_acc: 0.8750\n",
      "\n",
      "Epoch 00023: val_acc did not improve from 0.88393\n",
      "Epoch 24/50\n",
      "496/496 [==============================] - 0s 226us/step - loss: 0.0098 - acc: 0.9980 - val_loss: 0.5226 - val_acc: 0.8482\n",
      "\n",
      "Epoch 00024: val_acc did not improve from 0.88393\n",
      "Epoch 25/50\n",
      "496/496 [==============================] - 0s 233us/step - loss: 0.0073 - acc: 0.9980 - val_loss: 0.5832 - val_acc: 0.8661\n",
      "\n",
      "Epoch 00025: val_acc did not improve from 0.88393\n",
      "Epoch 26/50\n",
      "496/496 [==============================] - 0s 219us/step - loss: 0.0040 - acc: 1.0000 - val_loss: 0.5791 - val_acc: 0.8571\n",
      "\n",
      "Epoch 00026: val_acc did not improve from 0.88393\n",
      "Epoch 27/50\n",
      "496/496 [==============================] - 0s 220us/step - loss: 0.0048 - acc: 1.0000 - val_loss: 0.5892 - val_acc: 0.8750\n",
      "\n",
      "Epoch 00027: val_acc did not improve from 0.88393\n",
      "Epoch 28/50\n",
      "496/496 [==============================] - 0s 214us/step - loss: 0.0047 - acc: 1.0000 - val_loss: 0.5768 - val_acc: 0.8661\n",
      "\n",
      "Epoch 00028: val_acc did not improve from 0.88393\n",
      "Epoch 29/50\n",
      "496/496 [==============================] - 0s 213us/step - loss: 0.0029 - acc: 1.0000 - val_loss: 0.5728 - val_acc: 0.8482\n",
      "\n",
      "Epoch 00029: val_acc did not improve from 0.88393\n",
      "Epoch 30/50\n",
      "496/496 [==============================] - 0s 221us/step - loss: 0.0029 - acc: 1.0000 - val_loss: 0.5822 - val_acc: 0.8571\n",
      "\n",
      "Epoch 00030: val_acc did not improve from 0.88393\n",
      "Epoch 31/50\n",
      "496/496 [==============================] - 0s 231us/step - loss: 0.0041 - acc: 0.9980 - val_loss: 0.6608 - val_acc: 0.8304\n",
      "\n",
      "Epoch 00031: val_acc did not improve from 0.88393\n",
      "Epoch 32/50\n",
      "496/496 [==============================] - 0s 226us/step - loss: 0.0027 - acc: 1.0000 - val_loss: 0.5996 - val_acc: 0.8304\n",
      "\n",
      "Epoch 00032: val_acc did not improve from 0.88393\n",
      "Epoch 33/50\n",
      "496/496 [==============================] - 0s 218us/step - loss: 0.0027 - acc: 1.0000 - val_loss: 0.6101 - val_acc: 0.8304\n",
      "\n",
      "Epoch 00033: val_acc did not improve from 0.88393\n",
      "Epoch 34/50\n",
      "496/496 [==============================] - 0s 221us/step - loss: 0.0026 - acc: 1.0000 - val_loss: 0.5930 - val_acc: 0.8482\n",
      "\n",
      "Epoch 00034: val_acc did not improve from 0.88393\n",
      "Epoch 35/50\n",
      "496/496 [==============================] - 0s 223us/step - loss: 0.0036 - acc: 1.0000 - val_loss: 0.5509 - val_acc: 0.8393\n",
      "\n",
      "Epoch 00035: val_acc did not improve from 0.88393\n",
      "Epoch 36/50\n",
      "496/496 [==============================] - 0s 227us/step - loss: 0.0032 - acc: 1.0000 - val_loss: 0.5853 - val_acc: 0.8661\n",
      "\n",
      "Epoch 00036: val_acc did not improve from 0.88393\n",
      "Epoch 37/50\n",
      "496/496 [==============================] - 0s 227us/step - loss: 0.0027 - acc: 1.0000 - val_loss: 0.5726 - val_acc: 0.8571\n",
      "\n",
      "Epoch 00037: val_acc did not improve from 0.88393\n",
      "Epoch 38/50\n",
      "496/496 [==============================] - 0s 222us/step - loss: 0.0018 - acc: 1.0000 - val_loss: 0.6024 - val_acc: 0.8571\n",
      "\n",
      "Epoch 00038: val_acc did not improve from 0.88393\n",
      "Epoch 39/50\n",
      "496/496 [==============================] - 0s 220us/step - loss: 0.0020 - acc: 1.0000 - val_loss: 0.5942 - val_acc: 0.8393\n",
      "\n",
      "Epoch 00039: val_acc did not improve from 0.88393\n",
      "Epoch 40/50\n",
      "496/496 [==============================] - 0s 228us/step - loss: 0.0019 - acc: 1.0000 - val_loss: 0.6065 - val_acc: 0.8393\n",
      "\n",
      "Epoch 00040: val_acc did not improve from 0.88393\n",
      "Epoch 41/50\n",
      "496/496 [==============================] - 0s 222us/step - loss: 9.6104e-04 - acc: 1.0000 - val_loss: 0.6081 - val_acc: 0.8571\n",
      "\n",
      "Epoch 00041: val_acc did not improve from 0.88393\n",
      "Epoch 42/50\n"
     ]
    },
    {
     "name": "stdout",
     "output_type": "stream",
     "text": [
      "496/496 [==============================] - 0s 224us/step - loss: 0.0016 - acc: 1.0000 - val_loss: 0.6190 - val_acc: 0.8482\n",
      "\n",
      "Epoch 00042: val_acc did not improve from 0.88393\n",
      "Epoch 43/50\n",
      "496/496 [==============================] - 0s 228us/step - loss: 7.0545e-04 - acc: 1.0000 - val_loss: 0.6170 - val_acc: 0.8482\n",
      "\n",
      "Epoch 00043: val_acc did not improve from 0.88393\n",
      "Epoch 44/50\n",
      "496/496 [==============================] - 0s 231us/step - loss: 7.6556e-04 - acc: 1.0000 - val_loss: 0.6295 - val_acc: 0.8482\n",
      "\n",
      "Epoch 00044: val_acc did not improve from 0.88393\n",
      "Epoch 45/50\n",
      "496/496 [==============================] - 0s 227us/step - loss: 0.0011 - acc: 1.0000 - val_loss: 0.6541 - val_acc: 0.8482\n",
      "\n",
      "Epoch 00045: val_acc did not improve from 0.88393\n",
      "Epoch 46/50\n",
      "496/496 [==============================] - 0s 239us/step - loss: 0.0011 - acc: 1.0000 - val_loss: 0.6319 - val_acc: 0.8571\n",
      "\n",
      "Epoch 00046: val_acc did not improve from 0.88393\n",
      "Epoch 47/50\n",
      "496/496 [==============================] - 0s 226us/step - loss: 7.1074e-04 - acc: 1.0000 - val_loss: 0.6686 - val_acc: 0.8482\n",
      "\n",
      "Epoch 00047: val_acc did not improve from 0.88393\n",
      "Epoch 48/50\n",
      "496/496 [==============================] - 0s 223us/step - loss: 9.2745e-04 - acc: 1.0000 - val_loss: 0.6510 - val_acc: 0.8482\n",
      "\n",
      "Epoch 00048: val_acc did not improve from 0.88393\n",
      "Epoch 49/50\n",
      "496/496 [==============================] - 0s 232us/step - loss: 8.6818e-04 - acc: 1.0000 - val_loss: 0.6636 - val_acc: 0.8393\n",
      "\n",
      "Epoch 00049: val_acc did not improve from 0.88393\n",
      "Epoch 50/50\n",
      "496/496 [==============================] - 0s 227us/step - loss: 7.7861e-04 - acc: 1.0000 - val_loss: 0.6690 - val_acc: 0.8482\n",
      "\n",
      "Epoch 00050: val_acc did not improve from 0.88393\n"
     ]
    }
   ],
   "source": [
    "train_top_model(train_df, test_df, 50, 16, 'eyewear')"
   ]
  },
  {
   "cell_type": "markdown",
   "metadata": {},
   "source": [
    "### Fine Tune Top Model to improve accuracy"
   ]
  },
  {
   "cell_type": "code",
   "execution_count": 34,
   "metadata": {},
   "outputs": [],
   "source": [
    "def fine_tune_model(train_df, test_df,epoch, batch_size,label, print_model = True):\n",
    "    # build VGG16 model and freeze top layers\n",
    "    # input_shape: width, height, RGB (from image generator)\n",
    "    model_vgg = VGG16(weights='imagenet',include_top=False, input_shape=(150,150,3))\n",
    "    # build top model\n",
    "    top_model = Sequential()\n",
    "    top_model.add(Flatten(input_shape=model_vgg.output_shape[1:]))\n",
    "    top_model.add(Dense(256,activation='relu'))\n",
    "    top_model.add(Dropout(0.5))\n",
    "    top_model.add(Dense(1, activation='sigmoid'))\n",
    "    \n",
    "    # load saved weights to fine tune parameters \n",
    "    top_model.load_weights(f'../tuning_data/VGG_16_tuning/best_bottleneck_vgg16_model_{label}_custom_preprocess_150.h5')\n",
    "    # add top model to model\n",
    "    model = Model(inputs=model_vgg.input, outputs=top_model(model_vgg.output))\n",
    "    # we will tune last 5 layers of the model: block5 and fully connected layer \n",
    "    for layer in model.layers[:15]:\n",
    "        layer.trainable = False\n",
    "    # we can tune the parameters for lr and momentum later to get better results\n",
    "    model.compile(loss='binary_crossentropy',\n",
    "             optimizer=optimizers.SGD(lr=1e-4, momentum=0.9),\n",
    "             metrics=['accuracy'])\n",
    "    # prepare train generator using data augmentation to battle small sample size \n",
    "    train_gen = ImageDataGenerator(\n",
    "        rescale=1./255,\n",
    "        zoom_range= [0.8,2],\n",
    "        brightness_range=[0.8,1.2],\n",
    "        shear_range=0.2,\n",
    "        rotation_range = 40,\n",
    "        width_shift_range=0.2,\n",
    "        height_shift_range=0.2,\n",
    "        horizontal_flip=True,\n",
    "        preprocessing_function=vgg16_preprocess.preprocess_input)\n",
    "    # not want to augment the test \n",
    "    test_gen = ImageDataGenerator(\n",
    "            rescale = 1./255,\n",
    "            preprocessing_function=vgg16_preprocess.preprocess_input)\n",
    "    \n",
    "    train_generator =  train_gen.flow_from_dataframe(\n",
    "    dataframe=train_df,\n",
    "    directory='../data/pics',\n",
    "    x_col='pic_id',\n",
    "    y_col=label,\n",
    "    batch_size=batch_size,\n",
    "    target_size=(150,150),\n",
    "    class_mode = 'binary')\n",
    "    \n",
    "    test_generator =  test_gen.flow_from_dataframe(\n",
    "    dataframe=test_df,\n",
    "    directory='../data/pics',\n",
    "    x_col='pic_id',\n",
    "    y_col=label,\n",
    "    batch_size=batch_size,\n",
    "    target_size=(150,150),\n",
    "    class_mode = 'binary')\n",
    "    \n",
    "    # checkpoint for best weights \n",
    "    filepath=f\"../tuning_data/VGG_16_tuning/best_vgg_model_{label}_custom_preprocess_150_customsteps.h5\"\n",
    "    checkpoint = ModelCheckpoint(filepath, monitor='val_acc', verbose=1, save_best_only=True, mode='max')\n",
    "    callbacks_list = [checkpoint]\n",
    "    \n",
    "    # run and fit model \n",
    "    result = model.fit_generator(\n",
    "    train_generator,\n",
    "    steps_per_epoch=100,\n",
    "    epochs=epoch,\n",
    "    validation_data=test_generator,\n",
    "    validation_steps=25,\n",
    "    verbose=1,\n",
    "    callbacks=callbacks_list)\n",
    "    \n",
    "    if print_model:\n",
    "        model.summary()\n",
    "        \n",
    "    del model\n",
    "    keras.backend.clear_session()\n",
    "    \n",
    "    return result      "
   ]
  },
  {
   "cell_type": "markdown",
   "metadata": {},
   "source": [
    "### save model history "
   ]
  },
  {
   "cell_type": "code",
   "execution_count": null,
   "metadata": {},
   "outputs": [
    {
     "name": "stdout",
     "output_type": "stream",
     "text": [
      "Found 505 validated image filenames belonging to 2 classes.\n",
      "Found 127 validated image filenames belonging to 2 classes.\n",
      "Epoch 1/40\n",
      "100/100 [==============================] - 17s 165ms/step - loss: 1.0234 - acc: 0.4407 - val_loss: 0.6941 - val_acc: 0.5365\n",
      "\n",
      "Epoch 00001: val_acc improved from -inf to 0.53652, saving model to ../tuning_data/VGG_16_tuning/best_vgg_model_eyewear_custom_preprocess_150_customsteps.h5\n",
      "Epoch 2/40\n",
      "100/100 [==============================] - 15s 148ms/step - loss: 0.6975 - acc: 0.5440 - val_loss: 0.6768 - val_acc: 0.5516\n",
      "\n",
      "Epoch 00002: val_acc improved from 0.53652 to 0.55164, saving model to ../tuning_data/VGG_16_tuning/best_vgg_model_eyewear_custom_preprocess_150_customsteps.h5\n",
      "Epoch 3/40\n",
      "100/100 [==============================] - 15s 154ms/step - loss: 0.6740 - acc: 0.5842 - val_loss: 0.6542 - val_acc: 0.6045\n",
      "\n",
      "Epoch 00003: val_acc improved from 0.55164 to 0.60453, saving model to ../tuning_data/VGG_16_tuning/best_vgg_model_eyewear_custom_preprocess_150_customsteps.h5\n",
      "Epoch 4/40\n",
      "100/100 [==============================] - 16s 155ms/step - loss: 0.6480 - acc: 0.6335 - val_loss: 0.6237 - val_acc: 0.6222\n",
      "\n",
      "Epoch 00004: val_acc improved from 0.60453 to 0.62217, saving model to ../tuning_data/VGG_16_tuning/best_vgg_model_eyewear_custom_preprocess_150_customsteps.h5\n",
      "Epoch 5/40\n",
      "100/100 [==============================] - 16s 156ms/step - loss: 0.6031 - acc: 0.6870 - val_loss: 0.5779 - val_acc: 0.6448\n",
      "\n",
      "Epoch 00005: val_acc improved from 0.62217 to 0.64484, saving model to ../tuning_data/VGG_16_tuning/best_vgg_model_eyewear_custom_preprocess_150_customsteps.h5\n",
      "Epoch 6/40\n",
      "100/100 [==============================] - 16s 158ms/step - loss: 0.5473 - acc: 0.7408 - val_loss: 0.4244 - val_acc: 0.8262\n",
      "\n",
      "Epoch 00006: val_acc improved from 0.64484 to 0.82620, saving model to ../tuning_data/VGG_16_tuning/best_vgg_model_eyewear_custom_preprocess_150_customsteps.h5\n",
      "Epoch 7/40\n",
      "100/100 [==============================] - 16s 161ms/step - loss: 0.4562 - acc: 0.8032 - val_loss: 0.3415 - val_acc: 0.8312\n",
      "\n",
      "Epoch 00007: val_acc improved from 0.82620 to 0.83123, saving model to ../tuning_data/VGG_16_tuning/best_vgg_model_eyewear_custom_preprocess_150_customsteps.h5\n",
      "Epoch 8/40\n",
      "100/100 [==============================] - 17s 170ms/step - loss: 0.3750 - acc: 0.8422 - val_loss: 0.3287 - val_acc: 0.8182\n",
      "\n",
      "Epoch 00008: val_acc did not improve from 0.83123\n",
      "Epoch 9/40\n",
      " 55/100 [===============>..............] - ETA: 5s - loss: 0.3194 - acc: 0.8727"
     ]
    }
   ],
   "source": [
    "model_history = fine_tune_model(train_df, test_df,40,16,'eyewear')"
   ]
  },
  {
   "cell_type": "code",
   "execution_count": 22,
   "metadata": {},
   "outputs": [
    {
     "name": "stdout",
     "output_type": "stream",
     "text": [
      "highest test accuracy: 0.9899244332493703\n",
      "------------------\n",
      "highest train accuracy: 1.0\n"
     ]
    }
   ],
   "source": [
    "highest_val_acc, highest_train_acc = max(model_history.history['val_acc']), max(model_history.history['acc'])\n",
    "print(f'highest test accuracy: {highest_val_acc}')\n",
    "print('------------------')\n",
    "print(f'highest train accuracy: {highest_train_acc}')"
   ]
  },
  {
   "cell_type": "code",
   "execution_count": 23,
   "metadata": {},
   "outputs": [
    {
     "name": "stdout",
     "output_type": "stream",
     "text": [
      "lowest test loss: 0.07392854217712014\n",
      "------------------\n",
      "lowest train loss: 0.006984214529525158\n"
     ]
    }
   ],
   "source": [
    "lowest_val_loss, lowest_train_loss = min(model_history.history['val_loss']), min(model_history.history['loss'])\n",
    "print(f'lowest test loss: {lowest_val_loss}')\n",
    "print('------------------')\n",
    "print(f'lowest train loss: {lowest_train_loss}')"
   ]
  },
  {
   "cell_type": "code",
   "execution_count": 24,
   "metadata": {},
   "outputs": [
    {
     "data": {
      "image/png": "[encoded data removed]",
      "text/plain": [
       "<Figure size 432x288 with 1 Axes>"
      ]
     },
     "metadata": {
      "needs_background": "light"
     },
     "output_type": "display_data"
    }
   ],
   "source": [
    "plt.plot(model_history.history['val_acc'], color = 'red', label = 'test')\n",
    "plt.plot(model_history.history['acc'], color = 'blue', label = 'train')\n",
    "plt.title('accuracy')\n",
    "plt.ylabel('accuracy')\n",
    "plt.legend()\n",
    "plt.show()"
   ]
  },
  {
   "cell_type": "code",
   "execution_count": 25,
   "metadata": {},
   "outputs": [
    {
     "data": {
      "image/png": "[encoded data removed]",
      "text/plain": [
       "<Figure size 432x288 with 1 Axes>"
      ]
     },
     "metadata": {
      "needs_background": "light"
     },
     "output_type": "display_data"
    }
   ],
   "source": [
    "plt.plot(model_history.history['val_loss'], color = 'red', label = 'test')\n",
    "plt.plot(model_history.history['loss'], color = 'blue', label = 'train')\n",
    "plt.title('loss')\n",
    "plt.ylabel('loss')\n",
    "plt.legend()\n",
    "plt.show()"
   ]
  },
  {
   "cell_type": "markdown",
   "metadata": {},
   "source": [
    "### Save model "
   ]
  },
  {
   "cell_type": "code",
   "execution_count": 13,
   "metadata": {},
   "outputs": [],
   "source": [
    "# save model artchitecture \n",
    "eyewear_model = model_history.model\n",
    "eyewear_model_json = eyewear_model.to_json()"
   ]
  },
  {
   "cell_type": "code",
   "execution_count": 16,
   "metadata": {},
   "outputs": [],
   "source": [
    "# serialize model to JSON\n",
    "with open(\"../tuning_data/VGG_16_tuning/vgg16_model_custom_preprocess_150.json\", \"w\") as json_file:\n",
    "    json_file.write(eyewear_model_json)"
   ]
  },
  {
   "cell_type": "markdown",
   "metadata": {},
   "source": [
    "### Model Testing"
   ]
  },
  {
   "cell_type": "code",
   "execution_count": 26,
   "metadata": {},
   "outputs": [],
   "source": [
    "# load json and create model\n",
    "def model_testing(model_path, weight_path, label):\n",
    "    '''\n",
    "    model_path: json model path\n",
    "    weight_path: path for weights \n",
    "    label: eyewear, hat, or beard\n",
    "    '''\n",
    "    train_df, test_df = load_df(label)\n",
    "    df = pd.concat([train_df,test_df])\n",
    "    json_file = open(model_path, 'r')\n",
    "    loaded_model_json = json_file.read()\n",
    "    json_file.close()\n",
    "    loaded_model = model_from_json(loaded_model_json)\n",
    "    # load model weight \n",
    "    loaded_model.load_weights(weight_path)\n",
    "    # test test data\n",
    "    data_gen = ImageDataGenerator(1./255, preprocessing_function=vgg16_preprocess.preprocess_input)\n",
    "    data_generator = data_gen.flow_from_dataframe(\n",
    "        dataframe=df,\n",
    "        directory='../data/pics',\n",
    "        x_col='pic_id',\n",
    "        y_col=label,\n",
    "        batch_size=300,\n",
    "        target_size=(150,150),\n",
    "        class_mode = 'binary',\n",
    "        shuffle = False\n",
    "    )\n",
    "    labels = df[label].map({f'not_{label}':1, f'{label}':0})\n",
    "    \n",
    "    loaded_model.compile(loss='binary_crossentropy',\n",
    "             optimizer=optimizers.SGD(),\n",
    "             metrics=['accuracy']\n",
    "                        )\n",
    "    y_pred = np.around(loaded_model.predict_generator(data_generator, workers=8))\n",
    "    fpr, tpr, thresholds = roc_curve(labels, y_pred)\n",
    "    area = roc_auc_score(labels, y_pred)\n",
    "    plt.title('Receiver Operating Characteristic')\n",
    "    plt.plot(fpr, tpr, 'b', label = 'AUC = %0.2f' % area)\n",
    "    plt.legend(loc = 'lower right')\n",
    "    plt.plot([0, 1], [0, 1],'r--')\n",
    "    plt.xlim([0, 1])\n",
    "    plt.ylim([0, 1])\n",
    "    plt.ylabel('True Positive Rate')\n",
    "    plt.xlabel('False Positive Rate')\n",
    "    plt.show()\n",
    "    print(confusion_matrix(labels, y_pred))\n",
    "    print(classification_report(labels, y_pred))    "
   ]
  },
  {
   "cell_type": "markdown",
   "metadata": {},
   "source": [
    "### EyeWear"
   ]
  },
  {
   "cell_type": "code",
   "execution_count": 27,
   "metadata": {},
   "outputs": [
    {
     "name": "stdout",
     "output_type": "stream",
     "text": [
      "Found 632 validated image filenames belonging to 2 classes.\n"
     ]
    },
    {
     "data": {
      "image/png": "[encoded data removed]",
      "text/plain": [
       "<Figure size 432x288 with 1 Axes>"
      ]
     },
     "metadata": {
      "needs_background": "light"
     },
     "output_type": "display_data"
    },
    {
     "name": "stdout",
     "output_type": "stream",
     "text": [
      "[[316   0]\n",
      " [110 206]]\n",
      "              precision    recall  f1-score   support\n",
      "\n",
      "           0       0.74      1.00      0.85       316\n",
      "           1       1.00      0.65      0.79       316\n",
      "\n",
      "    accuracy                           0.83       632\n",
      "   macro avg       0.87      0.83      0.82       632\n",
      "weighted avg       0.87      0.83      0.82       632\n",
      "\n"
     ]
    }
   ],
   "source": [
    "model_testing('../tuning_data/VGG_16_tuning/vgg16_model_custom_preprocess_150.json',\n",
    "             '../tuning_data/VGG_16_tuning/best_vgg_model_eyewear_custom_preprocess_150_customsteps.h5',\n",
    "             'eyewear')"
   ]
  },
  {
   "cell_type": "code",
   "execution_count": null,
   "metadata": {},
   "outputs": [],
   "source": []
  }
 ],
 "metadata": {
  "kernelspec": {
   "display_name": "Python 3",
   "language": "python",
   "name": "python3"
  },
  "language_info": {
   "codemirror_mode": {
    "name": "ipython",
    "version": 3
   },
   "file_extension": ".py",
   "mimetype": "text/x-python",
   "name": "python",
   "nbconvert_exporter": "python",
   "pygments_lexer": "ipython3",
   "version": "3.7.3"
  }
 },
 "nbformat": 4,
 "nbformat_minor": 2
}
