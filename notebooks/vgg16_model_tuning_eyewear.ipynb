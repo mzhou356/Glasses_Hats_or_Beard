{
 "cells": [
  {
   "cell_type": "markdown",
   "metadata": {},
   "source": [
    "## Transfer Learning Tuning_EyeWear:\n",
    "  * model parameter and other information can be found below:\n",
    "     * [source](https://blog.keras.io/building-powerful-image-classification-models-using-very-little-data.html)\n",
    "     \n",
    "  * base_model: use vgg16 and freeze at bottleneck layer (stop right before flatten layer) \n",
    "  * top_model: tune dense layers (parameters are inspired by source)\n",
    "     * batch_size 16 seems to work best for small data set \n",
    "     \n",
    "  * extra blog source for callbacks and saving models:\n",
    "  \n",
    "  [call_backs for best weights](https://machinelearningmastery.com/check-point-deep-learning-models-keras/)\n",
    "  \n",
    "  [saving models](https://machinelearningmastery.com/save-load-keras-deep-learning-models/)\n",
    "\n",
    "##### warnings: due to the order of my dataframe, the first entry is not_eyewear, class predict 1 == has no eyewear\n",
    "  \n",
    "---\n",
    "#### This cell is required in order to use GPU for running the model "
   ]
  },
  {
   "cell_type": "code",
   "execution_count": 1,
   "metadata": {},
   "outputs": [
    {
     "name": "stderr",
     "output_type": "stream",
     "text": [
      "Using TensorFlow backend.\n",
      "WARNING: Logging before flag parsing goes to stderr.\n",
      "W0829 22:30:31.518764 140300435560256 deprecation_wrapper.py:119] From /home/mindy/anaconda3/lib/python3.7/site-packages/keras/backend/tensorflow_backend.py:190: The name tf.get_default_session is deprecated. Please use tf.compat.v1.get_default_session instead.\n",
      "\n",
      "W0829 22:30:31.519467 140300435560256 deprecation_wrapper.py:119] From /home/mindy/anaconda3/lib/python3.7/site-packages/keras/backend/tensorflow_backend.py:207: The name tf.global_variables is deprecated. Please use tf.compat.v1.global_variables instead.\n",
      "\n"
     ]
    }
   ],
   "source": [
    "import warnings\n",
    "warnings.filterwarnings('ignore')\n",
    "import tensorflow as tf\n",
    "import keras\n",
    "from keras.backend.tensorflow_backend import set_session\n",
    "config = tf.ConfigProto()\n",
    "config.gpu_options.allow_growth = True  # dynamically grow the memory used on the GPU\n",
    "config.log_device_placement = True  # to log device placement (on which device the operation ran)\n",
    "                                    # (nothing gets printed in Jupyter, only if you run it standalone)\n",
    "sess = tf.Session(config=config)\n",
    "set_session(sess)  # set this TensorFlow session as the default session for Keras\n",
    "keras.backend.get_session().run(tf.global_variables_initializer())  "
   ]
  },
  {
   "cell_type": "markdown",
   "metadata": {},
   "source": [
    "---\n",
    "#### Import necessary libraries"
   ]
  },
  {
   "cell_type": "code",
   "execution_count": 2,
   "metadata": {},
   "outputs": [],
   "source": [
    "import pandas as pd\n",
    "import numpy as np\n",
    "import matplotlib.pyplot as plt\n",
    "%matplotlib inline\n",
    "from keras_preprocessing.image import ImageDataGenerator\n",
    "from keras.models import Sequential, Model\n",
    "from keras.layers import Dropout, Flatten, Dense\n",
    "from keras.applications.vgg16 import VGG16\n",
    "from keras import optimizers\n",
    "from keras.models import model_from_json\n",
    "from keras.callbacks import ModelCheckpoint"
   ]
  },
  {
   "cell_type": "markdown",
   "metadata": {},
   "source": [
    "---\n",
    "#### Import train_df and test_df for eyewears"
   ]
  },
  {
   "cell_type": "code",
   "execution_count": 3,
   "metadata": {},
   "outputs": [],
   "source": [
    "train_df = pd.read_pickle('../pickle_files/train_df_glasses.pkl')\n",
    "test_df = pd.read_pickle('../pickle_files/test_df_glasses.pkl')"
   ]
  },
  {
   "cell_type": "code",
   "execution_count": 4,
   "metadata": {},
   "outputs": [
    {
     "data": {
      "text/html": [
       "<div>\n",
       "<style scoped>\n",
       "    .dataframe tbody tr th:only-of-type {\n",
       "        vertical-align: middle;\n",
       "    }\n",
       "\n",
       "    .dataframe tbody tr th {\n",
       "        vertical-align: top;\n",
       "    }\n",
       "\n",
       "    .dataframe thead th {\n",
       "        text-align: right;\n",
       "    }\n",
       "</style>\n",
       "<table border=\"1\" class=\"dataframe\">\n",
       "  <thead>\n",
       "    <tr style=\"text-align: right;\">\n",
       "      <th></th>\n",
       "      <th>pic_id</th>\n",
       "      <th>eyewear</th>\n",
       "    </tr>\n",
       "  </thead>\n",
       "  <tbody>\n",
       "    <tr>\n",
       "      <th>235</th>\n",
       "      <td>00964.jpg</td>\n",
       "      <td>not_eyewear</td>\n",
       "    </tr>\n",
       "    <tr>\n",
       "      <th>171</th>\n",
       "      <td>00872.jpg</td>\n",
       "      <td>not_eyewear</td>\n",
       "    </tr>\n",
       "  </tbody>\n",
       "</table>\n",
       "</div>"
      ],
      "text/plain": [
       "        pic_id      eyewear\n",
       "235  00964.jpg  not_eyewear\n",
       "171  00872.jpg  not_eyewear"
      ]
     },
     "execution_count": 4,
     "metadata": {},
     "output_type": "execute_result"
    }
   ],
   "source": [
    "train_df.head(2)"
   ]
  },
  {
   "cell_type": "markdown",
   "metadata": {},
   "source": [
    "#### Get bottleneck features to tune top models"
   ]
  },
  {
   "cell_type": "code",
   "execution_count": 4,
   "metadata": {},
   "outputs": [],
   "source": [
    "def save_bottleneck_features(train_df, test_df, label, batch_size):\n",
    "    '''\n",
    "    inputs:\n",
    "    train_df, test_df: train and test dataframes saved in pickle_files folder\n",
    "    label: a string, eyewear, hat, or beard\n",
    "    batch_size: process images in batches\n",
    "    outputs:\n",
    "    saves bottleneck features inside folder tuning_data as npy file\n",
    "    '''\n",
    "    # intialize the vgg16 model \n",
    "    # make sure not to train the top layers \n",
    "    base_model = VGG16(weights = 'imagenet', include_top = False)\n",
    "    # create train_generator and test_generator to get bottleneck inputs for train and test df \n",
    "    datagen = ImageDataGenerator(\n",
    "        rescale=1./255,\n",
    "        zoom_range= [0.8,1.7],\n",
    "        shear_range=0.2,\n",
    "        rotation_range = 40,\n",
    "        width_shift_range=0.2,\n",
    "        height_shift_range=0.2,\n",
    "        horizontal_flip=True)\n",
    "    # make sure shuffle is False so we know the label follows the sequence of the dataframe \n",
    "    # so we can tune top_model \n",
    "    train_generator = datagen.flow_from_dataframe(\n",
    "    dataframe=train_df,\n",
    "    directory='../data/pics',\n",
    "    x_col='pic_id',\n",
    "    y_col=label,\n",
    "    batch_size=batch_size,\n",
    "    shuffle = False,\n",
    "    target_size=(150,150),\n",
    "    class_mode = None)\n",
    "    # get features saved as .npy in tunign_data folder \n",
    "    bottleneck_features_train = base_model.predict_generator(\n",
    "        train_generator, train_df.shape[0]//batch_size)\n",
    "    np.save(open('../tuning_data/bottleneck_features_train_eyewears_2.npy','wb'),\n",
    "           bottleneck_features_train)\n",
    "    \n",
    "    test_generator = datagen.flow_from_dataframe(\n",
    "    dataframe=test_df,\n",
    "    directory='../data/pics',\n",
    "    x_col='pic_id',\n",
    "    y_col=label,\n",
    "    batch_size=batch_size,\n",
    "    shuffle = False,\n",
    "    target_size=(150,150),\n",
    "    class_mode = None)\n",
    "    bottleneck_features_test = base_model.predict_generator(\n",
    "        test_generator, test_df.shape[0]//batch_size)\n",
    "    np.save(open('../tuning_data/bottleneck_features_test_eyewears_2.npy','wb'),\n",
    "           bottleneck_features_test)"
   ]
  },
  {
   "cell_type": "markdown",
   "metadata": {},
   "source": [
    "#### Save bottleneck_features"
   ]
  },
  {
   "cell_type": "code",
   "execution_count": 5,
   "metadata": {
    "scrolled": true
   },
   "outputs": [
    {
     "name": "stderr",
     "output_type": "stream",
     "text": [
      "W0829 22:30:36.442513 140300435560256 deprecation_wrapper.py:119] From /home/mindy/anaconda3/lib/python3.7/site-packages/keras/backend/tensorflow_backend.py:66: The name tf.get_default_graph is deprecated. Please use tf.compat.v1.get_default_graph instead.\n",
      "\n",
      "W0829 22:30:36.443485 140300435560256 deprecation_wrapper.py:119] From /home/mindy/anaconda3/lib/python3.7/site-packages/keras/backend/tensorflow_backend.py:541: The name tf.placeholder is deprecated. Please use tf.compat.v1.placeholder instead.\n",
      "\n",
      "W0829 22:30:36.445429 140300435560256 deprecation_wrapper.py:119] From /home/mindy/anaconda3/lib/python3.7/site-packages/keras/backend/tensorflow_backend.py:4432: The name tf.random_uniform is deprecated. Please use tf.random.uniform instead.\n",
      "\n",
      "W0829 22:30:36.463576 140300435560256 deprecation_wrapper.py:119] From /home/mindy/anaconda3/lib/python3.7/site-packages/keras/backend/tensorflow_backend.py:4267: The name tf.nn.max_pool is deprecated. Please use tf.nn.max_pool2d instead.\n",
      "\n"
     ]
    },
    {
     "name": "stdout",
     "output_type": "stream",
     "text": [
      "Found 505 validated image filenames.\n",
      "Found 127 validated image filenames.\n"
     ]
    }
   ],
   "source": [
    "save_bottleneck_features(train_df,test_df,'eyewear',16)"
   ]
  },
  {
   "cell_type": "markdown",
   "metadata": {},
   "source": [
    "### Quick tuning of top models "
   ]
  },
  {
   "cell_type": "code",
   "execution_count": 6,
   "metadata": {},
   "outputs": [],
   "source": [
    "def train_top_model(train_df, test_df, epoch, batch_size, label):\n",
    "    '''\n",
    "    inputs:\n",
    "    train_df, test_df: dataframes saved in pickle_files to generate train and test labels \n",
    "    epoch: num of epochs in fit \n",
    "    batch_size: same as image generator batch size \n",
    "    label: a string, eyewear, hat, or beard\n",
    "    output:\n",
    "    saves model weights in a folder \n",
    "    '''\n",
    "    train_data = np.load(open('../tuning_data/bottleneck_features_train_eyewears.npy','rb'))\n",
    "    # make sure train_data and train_label have same num of samples\n",
    "    train_label = np.array(train_df[label].map({'not_'+label:0, label:1}))[:-(train_df.shape[0]%batch_size)]\n",
    "    \n",
    "    test_data = np.load(open('../tuning_data/bottleneck_features_test_eyewears.npy','rb'))\n",
    "    test_label = np.array(test_df[label].map({'not_'+label:0, label:1}))[:-(test_df.shape[0]%batch_size)]\n",
    "    \n",
    "    # build top model\n",
    "    model = Sequential()\n",
    "    model.add(Flatten(input_shape=train_data.shape[1:]))\n",
    "    model.add(Dense(256, activation='relu'))\n",
    "    model.add(Dropout(0.5))\n",
    "    model.add(Dense(1, activation='sigmoid'))\n",
    "    \n",
    "    # compile model \n",
    "    model.compile(optimizer='rmsprop',\n",
    "                 loss='binary_crossentropy',\n",
    "                 metrics=['accuracy'])\n",
    "    \n",
    "    # checkpoint for best weights \n",
    "    filepath=\"../tuning_data/best_bottleneck_vgg_model_eyewears_2.h5\"\n",
    "    checkpoint = ModelCheckpoint(filepath, monitor='val_acc', verbose=1, save_best_only=True, mode='max')\n",
    "    callbacks_list = [checkpoint]\n",
    "    \n",
    "    # fit model \n",
    "    model.fit(train_data, train_label,\n",
    "             epochs=epoch,\n",
    "             batch_size=batch_size,\n",
    "             validation_data=(test_data,test_label),\n",
    "             callbacks=callbacks_list)\n",
    "    del model\n",
    "    keras.backend.clear_session()"
   ]
  },
  {
   "cell_type": "markdown",
   "metadata": {},
   "source": [
    "#### run train_top_model and save results in tuning_data"
   ]
  },
  {
   "cell_type": "code",
   "execution_count": 7,
   "metadata": {
    "scrolled": false
   },
   "outputs": [
    {
     "name": "stderr",
     "output_type": "stream",
     "text": [
      "W0829 22:30:45.693980 140300435560256 deprecation.py:506] From /home/mindy/anaconda3/lib/python3.7/site-packages/keras/backend/tensorflow_backend.py:3733: calling dropout (from tensorflow.python.ops.nn_ops) with keep_prob is deprecated and will be removed in a future version.\n",
      "Instructions for updating:\n",
      "Please use `rate` instead of `keep_prob`. Rate should be set to `rate = 1 - keep_prob`.\n",
      "W0829 22:30:45.706210 140300435560256 deprecation_wrapper.py:119] From /home/mindy/anaconda3/lib/python3.7/site-packages/keras/optimizers.py:793: The name tf.train.Optimizer is deprecated. Please use tf.compat.v1.train.Optimizer instead.\n",
      "\n",
      "W0829 22:30:45.715514 140300435560256 deprecation.py:323] From /home/mindy/anaconda3/lib/python3.7/site-packages/tensorflow/python/ops/nn_impl.py:180: add_dispatch_support.<locals>.wrapper (from tensorflow.python.ops.array_ops) is deprecated and will be removed in a future version.\n",
      "Instructions for updating:\n",
      "Use tf.where in 2.0, which has the same broadcast rule as np.where\n"
     ]
    },
    {
     "name": "stdout",
     "output_type": "stream",
     "text": [
      "Train on 496 samples, validate on 112 samples\n",
      "Epoch 1/50\n",
      "496/496 [==============================] - 0s 836us/step - loss: 1.5004 - acc: 0.6149 - val_loss: 0.5793 - val_acc: 0.7768\n",
      "\n",
      "Epoch 00001: val_acc improved from -inf to 0.77679, saving model to ../tuning_data/best_bottleneck_vgg_model_eyewears_2.h5\n",
      "Epoch 2/50\n",
      "496/496 [==============================] - 0s 182us/step - loss: 0.4506 - acc: 0.8145 - val_loss: 0.3486 - val_acc: 0.8571\n",
      "\n",
      "Epoch 00002: val_acc improved from 0.77679 to 0.85714, saving model to ../tuning_data/best_bottleneck_vgg_model_eyewears_2.h5\n",
      "Epoch 3/50\n",
      "496/496 [==============================] - 0s 186us/step - loss: 0.4245 - acc: 0.8266 - val_loss: 0.3344 - val_acc: 0.8482\n",
      "\n",
      "Epoch 00003: val_acc did not improve from 0.85714\n",
      "Epoch 4/50\n",
      "496/496 [==============================] - 0s 205us/step - loss: 0.3580 - acc: 0.8468 - val_loss: 0.4512 - val_acc: 0.7946\n",
      "\n",
      "Epoch 00004: val_acc did not improve from 0.85714\n",
      "Epoch 5/50\n",
      "496/496 [==============================] - 0s 203us/step - loss: 0.3202 - acc: 0.8690 - val_loss: 0.5019 - val_acc: 0.8482\n",
      "\n",
      "Epoch 00005: val_acc did not improve from 0.85714\n",
      "Epoch 6/50\n",
      "496/496 [==============================] - 0s 192us/step - loss: 0.2570 - acc: 0.9012 - val_loss: 0.4473 - val_acc: 0.8839\n",
      "\n",
      "Epoch 00006: val_acc improved from 0.85714 to 0.88393, saving model to ../tuning_data/best_bottleneck_vgg_model_eyewears_2.h5\n",
      "Epoch 7/50\n",
      "496/496 [==============================] - 0s 193us/step - loss: 0.1954 - acc: 0.9315 - val_loss: 0.4130 - val_acc: 0.8571\n",
      "\n",
      "Epoch 00007: val_acc did not improve from 0.88393\n",
      "Epoch 8/50\n",
      "496/496 [==============================] - 0s 189us/step - loss: 0.1482 - acc: 0.9456 - val_loss: 0.4604 - val_acc: 0.8571\n",
      "\n",
      "Epoch 00008: val_acc did not improve from 0.88393\n",
      "Epoch 9/50\n",
      "496/496 [==============================] - 0s 189us/step - loss: 0.1009 - acc: 0.9617 - val_loss: 0.4166 - val_acc: 0.8929\n",
      "\n",
      "Epoch 00009: val_acc improved from 0.88393 to 0.89286, saving model to ../tuning_data/best_bottleneck_vgg_model_eyewears_2.h5\n",
      "Epoch 10/50\n",
      "496/496 [==============================] - 0s 197us/step - loss: 0.1052 - acc: 0.9556 - val_loss: 0.4740 - val_acc: 0.8571\n",
      "\n",
      "Epoch 00010: val_acc did not improve from 0.89286\n",
      "Epoch 11/50\n",
      "496/496 [==============================] - 0s 182us/step - loss: 0.2088 - acc: 0.9234 - val_loss: 0.6128 - val_acc: 0.8839\n",
      "\n",
      "Epoch 00011: val_acc did not improve from 0.89286\n",
      "Epoch 12/50\n",
      "496/496 [==============================] - 0s 190us/step - loss: 0.0601 - acc: 0.9738 - val_loss: 0.7156 - val_acc: 0.8839\n",
      "\n",
      "Epoch 00012: val_acc did not improve from 0.89286\n",
      "Epoch 13/50\n",
      "496/496 [==============================] - 0s 192us/step - loss: 0.0807 - acc: 0.9778 - val_loss: 1.0884 - val_acc: 0.8214\n",
      "\n",
      "Epoch 00013: val_acc did not improve from 0.89286\n",
      "Epoch 14/50\n",
      "496/496 [==============================] - 0s 193us/step - loss: 0.0902 - acc: 0.9657 - val_loss: 0.5982 - val_acc: 0.9018\n",
      "\n",
      "Epoch 00014: val_acc improved from 0.89286 to 0.90179, saving model to ../tuning_data/best_bottleneck_vgg_model_eyewears_2.h5\n",
      "Epoch 15/50\n",
      "496/496 [==============================] - 0s 195us/step - loss: 0.0400 - acc: 0.9879 - val_loss: 0.5693 - val_acc: 0.8750\n",
      "\n",
      "Epoch 00015: val_acc did not improve from 0.90179\n",
      "Epoch 16/50\n",
      "496/496 [==============================] - 0s 186us/step - loss: 0.0090 - acc: 0.9960 - val_loss: 1.6150 - val_acc: 0.7679\n",
      "\n",
      "Epoch 00016: val_acc did not improve from 0.90179\n",
      "Epoch 17/50\n",
      "496/496 [==============================] - 0s 184us/step - loss: 0.1083 - acc: 0.9778 - val_loss: 0.6660 - val_acc: 0.9018\n",
      "\n",
      "Epoch 00017: val_acc did not improve from 0.90179\n",
      "Epoch 18/50\n",
      "496/496 [==============================] - 0s 184us/step - loss: 0.0325 - acc: 0.9879 - val_loss: 1.9908 - val_acc: 0.7232\n",
      "\n",
      "Epoch 00018: val_acc did not improve from 0.90179\n",
      "Epoch 19/50\n",
      "496/496 [==============================] - 0s 186us/step - loss: 0.0538 - acc: 0.9879 - val_loss: 0.6419 - val_acc: 0.8750\n",
      "\n",
      "Epoch 00019: val_acc did not improve from 0.90179\n",
      "Epoch 20/50\n",
      "496/496 [==============================] - 0s 184us/step - loss: 0.0723 - acc: 0.9758 - val_loss: 0.7238 - val_acc: 0.8571\n",
      "\n",
      "Epoch 00020: val_acc did not improve from 0.90179\n",
      "Epoch 21/50\n",
      "496/496 [==============================] - 0s 191us/step - loss: 0.0394 - acc: 0.9819 - val_loss: 0.8105 - val_acc: 0.8482\n",
      "\n",
      "Epoch 00021: val_acc did not improve from 0.90179\n",
      "Epoch 22/50\n",
      "496/496 [==============================] - 0s 184us/step - loss: 0.0796 - acc: 0.9798 - val_loss: 0.7238 - val_acc: 0.8482\n",
      "\n",
      "Epoch 00022: val_acc did not improve from 0.90179\n",
      "Epoch 23/50\n",
      "496/496 [==============================] - 0s 181us/step - loss: 0.0059 - acc: 1.0000 - val_loss: 0.6550 - val_acc: 0.8839\n",
      "\n",
      "Epoch 00023: val_acc did not improve from 0.90179\n",
      "Epoch 24/50\n",
      "496/496 [==============================] - 0s 189us/step - loss: 0.0075 - acc: 0.9960 - val_loss: 0.7390 - val_acc: 0.9018\n",
      "\n",
      "Epoch 00024: val_acc did not improve from 0.90179\n",
      "Epoch 25/50\n",
      "496/496 [==============================] - 0s 189us/step - loss: 0.0543 - acc: 0.9839 - val_loss: 0.8752 - val_acc: 0.8929\n",
      "\n",
      "Epoch 00025: val_acc did not improve from 0.90179\n",
      "Epoch 26/50\n",
      "496/496 [==============================] - 0s 185us/step - loss: 0.0068 - acc: 0.9980 - val_loss: 0.7167 - val_acc: 0.8750\n",
      "\n",
      "Epoch 00026: val_acc did not improve from 0.90179\n",
      "Epoch 27/50\n",
      "496/496 [==============================] - 0s 200us/step - loss: 0.0384 - acc: 0.9899 - val_loss: 0.7626 - val_acc: 0.8839\n",
      "\n",
      "Epoch 00027: val_acc did not improve from 0.90179\n",
      "Epoch 28/50\n",
      "496/496 [==============================] - 0s 195us/step - loss: 0.0028 - acc: 1.0000 - val_loss: 0.8510 - val_acc: 0.8750\n",
      "\n",
      "Epoch 00028: val_acc did not improve from 0.90179\n",
      "Epoch 29/50\n",
      "496/496 [==============================] - 0s 194us/step - loss: 0.0173 - acc: 0.9960 - val_loss: 0.8701 - val_acc: 0.8661\n",
      "\n",
      "Epoch 00029: val_acc did not improve from 0.90179\n",
      "Epoch 30/50\n",
      "496/496 [==============================] - 0s 195us/step - loss: 0.0671 - acc: 0.9778 - val_loss: 0.8462 - val_acc: 0.8750\n",
      "\n",
      "Epoch 00030: val_acc did not improve from 0.90179\n",
      "Epoch 31/50\n",
      "496/496 [==============================] - 0s 190us/step - loss: 0.0039 - acc: 0.9980 - val_loss: 0.8800 - val_acc: 0.8750\n",
      "\n",
      "Epoch 00031: val_acc did not improve from 0.90179\n",
      "Epoch 32/50\n",
      "496/496 [==============================] - 0s 182us/step - loss: 0.0557 - acc: 0.9879 - val_loss: 0.9259 - val_acc: 0.8571\n",
      "\n",
      "Epoch 00032: val_acc did not improve from 0.90179\n",
      "Epoch 33/50\n",
      "496/496 [==============================] - 0s 182us/step - loss: 7.6328e-04 - acc: 1.0000 - val_loss: 0.9106 - val_acc: 0.8661\n",
      "\n",
      "Epoch 00033: val_acc did not improve from 0.90179\n",
      "Epoch 34/50\n",
      "496/496 [==============================] - 0s 188us/step - loss: 0.0043 - acc: 0.9980 - val_loss: 0.8578 - val_acc: 0.8750\n",
      "\n",
      "Epoch 00034: val_acc did not improve from 0.90179\n",
      "Epoch 35/50\n",
      "496/496 [==============================] - 0s 193us/step - loss: 0.0065 - acc: 0.9980 - val_loss: 0.9388 - val_acc: 0.8661\n",
      "\n",
      "Epoch 00035: val_acc did not improve from 0.90179\n",
      "Epoch 36/50\n",
      "496/496 [==============================] - 0s 191us/step - loss: 0.0014 - acc: 1.0000 - val_loss: 0.8671 - val_acc: 0.8750\n",
      "\n",
      "Epoch 00036: val_acc did not improve from 0.90179\n",
      "Epoch 37/50\n",
      "496/496 [==============================] - 0s 193us/step - loss: 0.0084 - acc: 0.9980 - val_loss: 0.9542 - val_acc: 0.8750\n",
      "\n",
      "Epoch 00037: val_acc did not improve from 0.90179\n",
      "Epoch 38/50\n",
      "496/496 [==============================] - 0s 193us/step - loss: 0.0167 - acc: 0.9940 - val_loss: 0.9879 - val_acc: 0.8839\n",
      "\n",
      "Epoch 00038: val_acc did not improve from 0.90179\n",
      "Epoch 39/50\n",
      "496/496 [==============================] - 0s 192us/step - loss: 0.0054 - acc: 0.9980 - val_loss: 1.0189 - val_acc: 0.8661\n",
      "\n",
      "Epoch 00039: val_acc did not improve from 0.90179\n",
      "Epoch 40/50\n",
      "496/496 [==============================] - 0s 184us/step - loss: 0.0017 - acc: 1.0000 - val_loss: 1.0424 - val_acc: 0.8661\n",
      "\n",
      "Epoch 00040: val_acc did not improve from 0.90179\n",
      "Epoch 41/50\n",
      "496/496 [==============================] - 0s 187us/step - loss: 0.0102 - acc: 0.9960 - val_loss: 2.2625 - val_acc: 0.7500\n",
      "\n",
      "Epoch 00041: val_acc did not improve from 0.90179\n",
      "Epoch 42/50\n",
      "496/496 [==============================] - 0s 186us/step - loss: 0.0132 - acc: 0.9960 - val_loss: 0.9079 - val_acc: 0.9018\n",
      "\n",
      "Epoch 00042: val_acc did not improve from 0.90179\n",
      "Epoch 43/50\n"
     ]
    },
    {
     "name": "stdout",
     "output_type": "stream",
     "text": [
      "496/496 [==============================] - 0s 192us/step - loss: 0.0077 - acc: 0.9940 - val_loss: 0.9009 - val_acc: 0.8750\n",
      "\n",
      "Epoch 00043: val_acc did not improve from 0.90179\n",
      "Epoch 44/50\n",
      "496/496 [==============================] - 0s 193us/step - loss: 0.0283 - acc: 0.9879 - val_loss: 0.9559 - val_acc: 0.8750\n",
      "\n",
      "Epoch 00044: val_acc did not improve from 0.90179\n",
      "Epoch 45/50\n",
      "496/496 [==============================] - 0s 202us/step - loss: 0.0089 - acc: 0.9980 - val_loss: 0.9323 - val_acc: 0.8750\n",
      "\n",
      "Epoch 00045: val_acc did not improve from 0.90179\n",
      "Epoch 46/50\n",
      "496/496 [==============================] - 0s 186us/step - loss: 2.5117e-04 - acc: 1.0000 - val_loss: 0.9945 - val_acc: 0.8571\n",
      "\n",
      "Epoch 00046: val_acc did not improve from 0.90179\n",
      "Epoch 47/50\n",
      "496/496 [==============================] - 0s 190us/step - loss: 3.0567e-05 - acc: 1.0000 - val_loss: 0.9824 - val_acc: 0.8661\n",
      "\n",
      "Epoch 00047: val_acc did not improve from 0.90179\n",
      "Epoch 48/50\n",
      "496/496 [==============================] - 0s 187us/step - loss: 2.4708e-06 - acc: 1.0000 - val_loss: 0.9442 - val_acc: 0.8839\n",
      "\n",
      "Epoch 00048: val_acc did not improve from 0.90179\n",
      "Epoch 49/50\n",
      "496/496 [==============================] - 0s 182us/step - loss: 0.0264 - acc: 0.9940 - val_loss: 0.9955 - val_acc: 0.8839\n",
      "\n",
      "Epoch 00049: val_acc did not improve from 0.90179\n",
      "Epoch 50/50\n",
      "496/496 [==============================] - 0s 188us/step - loss: 0.0048 - acc: 0.9980 - val_loss: 1.0397 - val_acc: 0.8571\n",
      "\n",
      "Epoch 00050: val_acc did not improve from 0.90179\n"
     ]
    }
   ],
   "source": [
    "train_top_model(train_df, test_df, 50, 16, 'eyewear')"
   ]
  },
  {
   "cell_type": "markdown",
   "metadata": {},
   "source": [
    "### Fine Tune Top Model to improve accuracy"
   ]
  },
  {
   "cell_type": "code",
   "execution_count": 8,
   "metadata": {},
   "outputs": [],
   "source": [
    "def fine_tune_model(train_df, test_df,epoch, batch_size,label, print_model = True):\n",
    "    # build VGG16 model and freeze top layers\n",
    "    # input_shape: width, height, RGB (from image generator)\n",
    "    model_vgg = VGG16(weights='imagenet',include_top=False, input_shape=(150,150,3))\n",
    "    # build top model\n",
    "    top_model = Sequential()\n",
    "    top_model.add(Flatten(input_shape=model_vgg.output_shape[1:]))\n",
    "    top_model.add(Dense(256,activation='relu'))\n",
    "    top_model.add(Dropout(0.5))\n",
    "    top_model.add(Dense(1, activation='sigmoid'))\n",
    "    \n",
    "    # load saved weights to fine tune parameters \n",
    "    top_model.load_weights('../tuning_data/best_bottleneck_vgg_model_eyewears_2.h5')\n",
    "    # add top model to model\n",
    "    model = Model(inputs=model_vgg.input, outputs=top_model(model_vgg.output))\n",
    "    # we will tune last 5 layers of the model: block5 and fully connected layer \n",
    "    for layer in model.layers[:15]:\n",
    "        layer.trainable = False\n",
    "    # we can tune the parameters for lr and momentum later to get better results\n",
    "    model.compile(loss='binary_crossentropy',\n",
    "             optimizer=optimizers.SGD(lr=1e-4, momentum=0.9),\n",
    "             metrics=['accuracy'])\n",
    "    # prepare train generator using data augmentation to battle small sample size \n",
    "    train_gen = ImageDataGenerator(\n",
    "        rescale=1./255,\n",
    "        zoom_range= [0.8,1.7],\n",
    "        shear_range=0.2,\n",
    "        rotation_range = 40,\n",
    "        width_shift_range=0.2,\n",
    "        height_shift_range=0.2,\n",
    "        horizontal_flip=True)\n",
    "    # not want to augment the test \n",
    "    test_gen = ImageDataGenerator(rescale=1./255)\n",
    "    \n",
    "    train_generator =  train_gen.flow_from_dataframe(\n",
    "    dataframe=train_df,\n",
    "    directory='../data/pics',\n",
    "    x_col='pic_id',\n",
    "    y_col=label,\n",
    "    batch_size=batch_size,\n",
    "    target_size=(150,150),\n",
    "    class_mode = 'binary')\n",
    "    \n",
    "    test_generator =  test_gen.flow_from_dataframe(\n",
    "    dataframe=test_df,\n",
    "    directory='../data/pics',\n",
    "    x_col='pic_id',\n",
    "    y_col=label,\n",
    "    batch_size=batch_size,\n",
    "    target_size=(150,150),\n",
    "    class_mode = 'binary')\n",
    "    \n",
    "    # checkpoint for best weights \n",
    "    filepath=\"../tuning_data/best_vgg_model_eyewears_2.h5\"\n",
    "    checkpoint = ModelCheckpoint(filepath, monitor='val_acc', verbose=1, save_best_only=True, mode='max')\n",
    "    callbacks_list = [checkpoint]\n",
    "    \n",
    "    # run and fit model \n",
    "    result = model.fit_generator(\n",
    "    train_generator,\n",
    "    steps_per_epoch=train_df.shape[0]//batch_size,\n",
    "    epochs=epoch,\n",
    "    validation_data=test_generator,\n",
    "    validation_steps=test_df.shape[0]//batch_size,\n",
    "    verbose=1,\n",
    "    callbacks=callbacks_list)\n",
    "    \n",
    "    if print_model:\n",
    "        model.summary()\n",
    "        \n",
    "    del model\n",
    "    keras.backend.clear_session()\n",
    "    \n",
    "    return result      "
   ]
  },
  {
   "cell_type": "markdown",
   "metadata": {},
   "source": [
    "### save model history "
   ]
  },
  {
   "cell_type": "code",
   "execution_count": 9,
   "metadata": {},
   "outputs": [
    {
     "name": "stdout",
     "output_type": "stream",
     "text": [
      "Found 505 validated image filenames belonging to 2 classes.\n",
      "Found 127 validated image filenames belonging to 2 classes.\n",
      "Epoch 1/50\n",
      "31/31 [==============================] - 4s 137ms/step - loss: 2.0024 - acc: 0.3747 - val_loss: 0.6995 - val_acc: 0.4643\n",
      "\n",
      "Epoch 00001: val_acc improved from -inf to 0.46429, saving model to ../tuning_data/best_vgg_model_eyewears_2.h5\n",
      "Epoch 2/50\n",
      "31/31 [==============================] - 5s 150ms/step - loss: 0.7184 - acc: 0.4957 - val_loss: 0.6961 - val_acc: 0.5315\n",
      "\n",
      "Epoch 00002: val_acc improved from 0.46429 to 0.53153, saving model to ../tuning_data/best_vgg_model_eyewears_2.h5\n",
      "Epoch 3/50\n",
      "31/31 [==============================] - 5s 146ms/step - loss: 0.7082 - acc: 0.5058 - val_loss: 0.6696 - val_acc: 0.6306\n",
      "\n",
      "Epoch 00003: val_acc improved from 0.53153 to 0.63063, saving model to ../tuning_data/best_vgg_model_eyewears_2.h5\n",
      "Epoch 4/50\n",
      "31/31 [==============================] - 4s 144ms/step - loss: 0.6896 - acc: 0.5300 - val_loss: 0.6593 - val_acc: 0.6036\n",
      "\n",
      "Epoch 00004: val_acc did not improve from 0.63063\n",
      "Epoch 5/50\n",
      "31/31 [==============================] - 4s 127ms/step - loss: 0.7024 - acc: 0.5114 - val_loss: 0.6769 - val_acc: 0.6126\n",
      "\n",
      "Epoch 00005: val_acc did not improve from 0.63063\n",
      "Epoch 6/50\n",
      "31/31 [==============================] - 4s 127ms/step - loss: 0.6676 - acc: 0.5845 - val_loss: 0.6380 - val_acc: 0.6486\n",
      "\n",
      "Epoch 00006: val_acc improved from 0.63063 to 0.64865, saving model to ../tuning_data/best_vgg_model_eyewears_2.h5\n",
      "Epoch 7/50\n",
      "31/31 [==============================] - 4s 130ms/step - loss: 0.6718 - acc: 0.6082 - val_loss: 0.6370 - val_acc: 0.6757\n",
      "\n",
      "Epoch 00007: val_acc improved from 0.64865 to 0.67568, saving model to ../tuning_data/best_vgg_model_eyewears_2.h5\n",
      "Epoch 8/50\n",
      "31/31 [==============================] - 4s 136ms/step - loss: 0.6677 - acc: 0.6048 - val_loss: 0.6678 - val_acc: 0.5315\n",
      "\n",
      "Epoch 00008: val_acc did not improve from 0.67568\n",
      "Epoch 9/50\n",
      "31/31 [==============================] - 4s 142ms/step - loss: 0.6540 - acc: 0.6165 - val_loss: 0.6370 - val_acc: 0.6161\n",
      "\n",
      "Epoch 00009: val_acc did not improve from 0.67568\n",
      "Epoch 10/50\n",
      "31/31 [==============================] - 5s 146ms/step - loss: 0.6390 - acc: 0.6492 - val_loss: 0.6063 - val_acc: 0.6847\n",
      "\n",
      "Epoch 00010: val_acc improved from 0.67568 to 0.68468, saving model to ../tuning_data/best_vgg_model_eyewears_2.h5\n",
      "Epoch 11/50\n",
      "31/31 [==============================] - 4s 121ms/step - loss: 0.6341 - acc: 0.6771 - val_loss: 0.6007 - val_acc: 0.7207\n",
      "\n",
      "Epoch 00011: val_acc improved from 0.68468 to 0.72072, saving model to ../tuning_data/best_vgg_model_eyewears_2.h5\n",
      "Epoch 12/50\n",
      "31/31 [==============================] - 4s 141ms/step - loss: 0.5737 - acc: 0.7151 - val_loss: 0.5605 - val_acc: 0.6396\n",
      "\n",
      "Epoch 00012: val_acc did not improve from 0.72072\n",
      "Epoch 13/50\n",
      "31/31 [==============================] - 4s 136ms/step - loss: 0.5878 - acc: 0.6884 - val_loss: 0.5769 - val_acc: 0.7117\n",
      "\n",
      "Epoch 00013: val_acc did not improve from 0.72072\n",
      "Epoch 14/50\n",
      "31/31 [==============================] - 4s 139ms/step - loss: 0.5473 - acc: 0.7161 - val_loss: 0.4315 - val_acc: 0.8739\n",
      "\n",
      "Epoch 00014: val_acc improved from 0.72072 to 0.87387, saving model to ../tuning_data/best_vgg_model_eyewears_2.h5\n",
      "Epoch 15/50\n",
      "31/31 [==============================] - 4s 122ms/step - loss: 0.4942 - acc: 0.7802 - val_loss: 0.4098 - val_acc: 0.8288\n",
      "\n",
      "Epoch 00015: val_acc did not improve from 0.87387\n",
      "Epoch 16/50\n",
      "31/31 [==============================] - 4s 123ms/step - loss: 0.4582 - acc: 0.8225 - val_loss: 0.4278 - val_acc: 0.8108\n",
      "\n",
      "Epoch 00016: val_acc did not improve from 0.87387\n",
      "Epoch 17/50\n",
      "31/31 [==============================] - 4s 134ms/step - loss: 0.4402 - acc: 0.7953 - val_loss: 0.3728 - val_acc: 0.8304\n",
      "\n",
      "Epoch 00017: val_acc did not improve from 0.87387\n",
      "Epoch 18/50\n",
      "31/31 [==============================] - 5s 160ms/step - loss: 0.3819 - acc: 0.8466 - val_loss: 0.4103 - val_acc: 0.8378\n",
      "\n",
      "Epoch 00018: val_acc did not improve from 0.87387\n",
      "Epoch 19/50\n",
      "31/31 [==============================] - 4s 114ms/step - loss: 0.3692 - acc: 0.8488 - val_loss: 0.3126 - val_acc: 0.8829\n",
      "\n",
      "Epoch 00019: val_acc improved from 0.87387 to 0.88288, saving model to ../tuning_data/best_vgg_model_eyewears_2.h5\n",
      "Epoch 20/50\n",
      "31/31 [==============================] - 4s 129ms/step - loss: 0.3891 - acc: 0.8375 - val_loss: 0.4337 - val_acc: 0.8739\n",
      "\n",
      "Epoch 00020: val_acc did not improve from 0.88288\n",
      "Epoch 21/50\n",
      "31/31 [==============================] - 4s 130ms/step - loss: 0.3400 - acc: 0.8699 - val_loss: 0.3189 - val_acc: 0.8739\n",
      "\n",
      "Epoch 00021: val_acc did not improve from 0.88288\n",
      "Epoch 22/50\n",
      "31/31 [==============================] - 4s 139ms/step - loss: 0.3659 - acc: 0.8396 - val_loss: 0.3093 - val_acc: 0.8559\n",
      "\n",
      "Epoch 00022: val_acc did not improve from 0.88288\n",
      "Epoch 23/50\n",
      "31/31 [==============================] - 4s 131ms/step - loss: 0.2992 - acc: 0.8734 - val_loss: 0.2707 - val_acc: 0.8649\n",
      "\n",
      "Epoch 00023: val_acc did not improve from 0.88288\n",
      "Epoch 24/50\n",
      "31/31 [==============================] - 4s 128ms/step - loss: 0.3511 - acc: 0.8629 - val_loss: 0.3433 - val_acc: 0.8919\n",
      "\n",
      "Epoch 00024: val_acc improved from 0.88288 to 0.89189, saving model to ../tuning_data/best_vgg_model_eyewears_2.h5\n",
      "Epoch 25/50\n",
      "31/31 [==============================] - 4s 125ms/step - loss: 0.2867 - acc: 0.8790 - val_loss: 0.2099 - val_acc: 0.9375\n",
      "\n",
      "Epoch 00025: val_acc improved from 0.89189 to 0.93750, saving model to ../tuning_data/best_vgg_model_eyewears_2.h5\n",
      "Epoch 26/50\n",
      "31/31 [==============================] - 5s 159ms/step - loss: 0.3111 - acc: 0.8870 - val_loss: 0.3322 - val_acc: 0.8739\n",
      "\n",
      "Epoch 00026: val_acc did not improve from 0.93750\n",
      "Epoch 27/50\n",
      "31/31 [==============================] - 4s 125ms/step - loss: 0.3220 - acc: 0.8628 - val_loss: 0.2570 - val_acc: 0.8829\n",
      "\n",
      "Epoch 00027: val_acc did not improve from 0.93750\n",
      "Epoch 28/50\n",
      "31/31 [==============================] - 4s 124ms/step - loss: 0.2637 - acc: 0.9052 - val_loss: 0.2884 - val_acc: 0.8739\n",
      "\n",
      "Epoch 00028: val_acc did not improve from 0.93750\n",
      "Epoch 29/50\n",
      "31/31 [==============================] - 4s 127ms/step - loss: 0.2595 - acc: 0.9062 - val_loss: 0.1963 - val_acc: 0.9279\n",
      "\n",
      "Epoch 00029: val_acc did not improve from 0.93750\n",
      "Epoch 30/50\n",
      "31/31 [==============================] - 4s 133ms/step - loss: 0.2817 - acc: 0.8674 - val_loss: 0.3410 - val_acc: 0.8829\n",
      "\n",
      "Epoch 00030: val_acc did not improve from 0.93750\n",
      "Epoch 31/50\n",
      "31/31 [==============================] - 4s 131ms/step - loss: 0.2375 - acc: 0.9158 - val_loss: 0.2884 - val_acc: 0.8919\n",
      "\n",
      "Epoch 00031: val_acc did not improve from 0.93750\n",
      "Epoch 32/50\n",
      "31/31 [==============================] - 4s 126ms/step - loss: 0.2296 - acc: 0.9138 - val_loss: 0.2139 - val_acc: 0.9009\n",
      "\n",
      "Epoch 00032: val_acc did not improve from 0.93750\n",
      "Epoch 33/50\n",
      "31/31 [==============================] - 4s 134ms/step - loss: 0.2625 - acc: 0.8936 - val_loss: 0.2450 - val_acc: 0.8929\n",
      "\n",
      "Epoch 00033: val_acc did not improve from 0.93750\n",
      "Epoch 34/50\n",
      "31/31 [==============================] - 5s 149ms/step - loss: 0.2375 - acc: 0.9097 - val_loss: 0.1481 - val_acc: 0.9279\n",
      "\n",
      "Epoch 00034: val_acc did not improve from 0.93750\n",
      "Epoch 35/50\n",
      "31/31 [==============================] - 5s 151ms/step - loss: 0.2249 - acc: 0.9113 - val_loss: 0.3133 - val_acc: 0.9099\n",
      "\n",
      "Epoch 00035: val_acc did not improve from 0.93750\n",
      "Epoch 36/50\n",
      "31/31 [==============================] - 4s 138ms/step - loss: 0.2485 - acc: 0.8855 - val_loss: 0.1908 - val_acc: 0.9099\n",
      "\n",
      "Epoch 00036: val_acc did not improve from 0.93750\n",
      "Epoch 37/50\n",
      "31/31 [==============================] - 4s 135ms/step - loss: 0.2214 - acc: 0.9097 - val_loss: 0.2595 - val_acc: 0.9009\n",
      "\n",
      "Epoch 00037: val_acc did not improve from 0.93750\n",
      "Epoch 38/50\n",
      "31/31 [==============================] - 4s 135ms/step - loss: 0.2210 - acc: 0.9093 - val_loss: 0.1428 - val_acc: 0.9369\n",
      "\n",
      "Epoch 00038: val_acc did not improve from 0.93750\n",
      "Epoch 39/50\n",
      "31/31 [==============================] - 4s 123ms/step - loss: 0.1894 - acc: 0.9359 - val_loss: 0.2725 - val_acc: 0.8919\n",
      "\n",
      "Epoch 00039: val_acc did not improve from 0.93750\n",
      "Epoch 40/50\n",
      "31/31 [==============================] - 4s 132ms/step - loss: 0.1852 - acc: 0.9456 - val_loss: 0.2096 - val_acc: 0.9189\n",
      "\n",
      "Epoch 00040: val_acc did not improve from 0.93750\n",
      "Epoch 41/50\n"
     ]
    },
    {
     "name": "stdout",
     "output_type": "stream",
     "text": [
      "31/31 [==============================] - 4s 136ms/step - loss: 0.1974 - acc: 0.9102 - val_loss: 0.2433 - val_acc: 0.9018\n",
      "\n",
      "Epoch 00041: val_acc did not improve from 0.93750\n",
      "Epoch 42/50\n",
      "31/31 [==============================] - 5s 156ms/step - loss: 0.1954 - acc: 0.9234 - val_loss: 0.1501 - val_acc: 0.9369\n",
      "\n",
      "Epoch 00042: val_acc did not improve from 0.93750\n",
      "Epoch 43/50\n",
      "31/31 [==============================] - 4s 122ms/step - loss: 0.2205 - acc: 0.9097 - val_loss: 0.2394 - val_acc: 0.9009\n",
      "\n",
      "Epoch 00043: val_acc did not improve from 0.93750\n",
      "Epoch 44/50\n",
      "31/31 [==============================] - 4s 134ms/step - loss: 0.1845 - acc: 0.9213 - val_loss: 0.2187 - val_acc: 0.9459\n",
      "\n",
      "Epoch 00044: val_acc improved from 0.93750 to 0.94595, saving model to ../tuning_data/best_vgg_model_eyewears_2.h5\n",
      "Epoch 45/50\n",
      "31/31 [==============================] - 4s 128ms/step - loss: 0.1629 - acc: 0.9435 - val_loss: 0.2002 - val_acc: 0.9459\n",
      "\n",
      "Epoch 00045: val_acc did not improve from 0.94595\n",
      "Epoch 46/50\n",
      "31/31 [==============================] - 4s 136ms/step - loss: 0.2166 - acc: 0.8931 - val_loss: 0.2874 - val_acc: 0.9009\n",
      "\n",
      "Epoch 00046: val_acc did not improve from 0.94595\n",
      "Epoch 47/50\n",
      "31/31 [==============================] - 4s 124ms/step - loss: 0.1687 - acc: 0.9496 - val_loss: 0.1040 - val_acc: 0.9550\n",
      "\n",
      "Epoch 00047: val_acc improved from 0.94595 to 0.95495, saving model to ../tuning_data/best_vgg_model_eyewears_2.h5\n",
      "Epoch 48/50\n",
      "31/31 [==============================] - 4s 123ms/step - loss: 0.1672 - acc: 0.9339 - val_loss: 0.1803 - val_acc: 0.9369\n",
      "\n",
      "Epoch 00048: val_acc did not improve from 0.95495\n",
      "Epoch 49/50\n",
      "31/31 [==============================] - 4s 128ms/step - loss: 0.1864 - acc: 0.9218 - val_loss: 0.1434 - val_acc: 0.9464\n",
      "\n",
      "Epoch 00049: val_acc did not improve from 0.95495\n",
      "Epoch 50/50\n",
      "31/31 [==============================] - 5s 148ms/step - loss: 0.1685 - acc: 0.9435 - val_loss: 0.2310 - val_acc: 0.9189\n",
      "\n",
      "Epoch 00050: val_acc did not improve from 0.95495\n",
      "Model: \"model_1\"\n",
      "_________________________________________________________________\n",
      "Layer (type)                 Output Shape              Param #   \n",
      "=================================================================\n",
      "input_1 (InputLayer)         (None, 150, 150, 3)       0         \n",
      "_________________________________________________________________\n",
      "block1_conv1 (Conv2D)        (None, 150, 150, 64)      1792      \n",
      "_________________________________________________________________\n",
      "block1_conv2 (Conv2D)        (None, 150, 150, 64)      36928     \n",
      "_________________________________________________________________\n",
      "block1_pool (MaxPooling2D)   (None, 75, 75, 64)        0         \n",
      "_________________________________________________________________\n",
      "block2_conv1 (Conv2D)        (None, 75, 75, 128)       73856     \n",
      "_________________________________________________________________\n",
      "block2_conv2 (Conv2D)        (None, 75, 75, 128)       147584    \n",
      "_________________________________________________________________\n",
      "block2_pool (MaxPooling2D)   (None, 37, 37, 128)       0         \n",
      "_________________________________________________________________\n",
      "block3_conv1 (Conv2D)        (None, 37, 37, 256)       295168    \n",
      "_________________________________________________________________\n",
      "block3_conv2 (Conv2D)        (None, 37, 37, 256)       590080    \n",
      "_________________________________________________________________\n",
      "block3_conv3 (Conv2D)        (None, 37, 37, 256)       590080    \n",
      "_________________________________________________________________\n",
      "block3_pool (MaxPooling2D)   (None, 18, 18, 256)       0         \n",
      "_________________________________________________________________\n",
      "block4_conv1 (Conv2D)        (None, 18, 18, 512)       1180160   \n",
      "_________________________________________________________________\n",
      "block4_conv2 (Conv2D)        (None, 18, 18, 512)       2359808   \n",
      "_________________________________________________________________\n",
      "block4_conv3 (Conv2D)        (None, 18, 18, 512)       2359808   \n",
      "_________________________________________________________________\n",
      "block4_pool (MaxPooling2D)   (None, 9, 9, 512)         0         \n",
      "_________________________________________________________________\n",
      "block5_conv1 (Conv2D)        (None, 9, 9, 512)         2359808   \n",
      "_________________________________________________________________\n",
      "block5_conv2 (Conv2D)        (None, 9, 9, 512)         2359808   \n",
      "_________________________________________________________________\n",
      "block5_conv3 (Conv2D)        (None, 9, 9, 512)         2359808   \n",
      "_________________________________________________________________\n",
      "block5_pool (MaxPooling2D)   (None, 4, 4, 512)         0         \n",
      "_________________________________________________________________\n",
      "sequential_1 (Sequential)    (None, 1)                 2097665   \n",
      "=================================================================\n",
      "Total params: 16,812,353\n",
      "Trainable params: 9,177,089\n",
      "Non-trainable params: 7,635,264\n",
      "_________________________________________________________________\n"
     ]
    }
   ],
   "source": [
    "model_history = fine_tune_model(train_df, test_df,50,16,'eyewear')"
   ]
  },
  {
   "cell_type": "code",
   "execution_count": 10,
   "metadata": {},
   "outputs": [
    {
     "name": "stdout",
     "output_type": "stream",
     "text": [
      "highest test accuracy: 0.9549549554919338\n",
      "------------------\n",
      "highest train accuracy: 0.9488752556237219\n"
     ]
    }
   ],
   "source": [
    "highest_val_acc, highest_train_acc = max(model_history.history['val_acc']), max(model_history.history['acc'])\n",
    "print(f'highest test accuracy: {highest_val_acc}')\n",
    "print('------------------')\n",
    "print(f'highest train accuracy: {highest_train_acc}')"
   ]
  },
  {
   "cell_type": "code",
   "execution_count": 11,
   "metadata": {},
   "outputs": [
    {
     "name": "stdout",
     "output_type": "stream",
     "text": [
      "lowest test loss: 0.10403150836895178\n",
      "------------------\n",
      "lowest train loss: 0.16292717277763352\n"
     ]
    }
   ],
   "source": [
    "lowest_val_loss, lowest_train_loss = min(model_history.history['val_loss']), min(model_history.history['loss'])\n",
    "print(f'lowest test loss: {lowest_val_loss}')\n",
    "print('------------------')\n",
    "print(f'lowest train loss: {lowest_train_loss}')"
   ]
  },
  {
   "cell_type": "code",
   "execution_count": 12,
   "metadata": {},
   "outputs": [
    {
     "data": {
      "image/png": "[encoded data removed]",
      "text/plain": [
       "<Figure size 432x288 with 1 Axes>"
      ]
     },
     "metadata": {
      "needs_background": "light"
     },
     "output_type": "display_data"
    }
   ],
   "source": [
    "plt.plot(model_history.history['val_acc'], color = 'red', label = 'test')\n",
    "plt.plot(model_history.history['acc'], color = 'blue', label = 'train')\n",
    "plt.title('accuracy')\n",
    "plt.ylabel('accuracy')\n",
    "plt.legend()\n",
    "plt.show()"
   ]
  },
  {
   "cell_type": "code",
   "execution_count": 13,
   "metadata": {},
   "outputs": [
    {
     "data": {
      "image/png": "[encoded data removed]",
      "text/plain": [
       "<Figure size 432x288 with 1 Axes>"
      ]
     },
     "metadata": {
      "needs_background": "light"
     },
     "output_type": "display_data"
    }
   ],
   "source": [
    "plt.plot(model_history.history['val_loss'], color = 'red', label = 'test')\n",
    "plt.plot(model_history.history['loss'], color = 'blue', label = 'train')\n",
    "plt.title('loss')\n",
    "plt.ylabel('loss')\n",
    "plt.legend()\n",
    "plt.show()"
   ]
  },
  {
   "cell_type": "markdown",
   "metadata": {},
   "source": [
    "### Save model "
   ]
  },
  {
   "cell_type": "code",
   "execution_count": 4,
   "metadata": {},
   "outputs": [],
   "source": [
    "# save model artchitecture \n",
    "eyewear_model = model_history.model\n",
    "eyewear_model_json = eyewear_model.to_json()"
   ]
  },
  {
   "cell_type": "code",
   "execution_count": 16,
   "metadata": {},
   "outputs": [],
   "source": [
    "# serialize model to JSON\n",
    "with open(\"../tuning_dataeyewear_model.json\", \"w\") as json_file:\n",
    "    json_file.write(eyewear_model_json)"
   ]
  },
  {
   "cell_type": "code",
   "execution_count": 6,
   "metadata": {},
   "outputs": [
    {
     "name": "stderr",
     "output_type": "stream",
     "text": [
      "W0829 20:21:30.867205 140018371573568 deprecation_wrapper.py:119] From /home/mindy/anaconda3/lib/python3.7/site-packages/keras/backend/tensorflow_backend.py:541: The name tf.placeholder is deprecated. Please use tf.compat.v1.placeholder instead.\n",
      "\n",
      "W0829 20:21:30.883196 140018371573568 deprecation_wrapper.py:119] From /home/mindy/anaconda3/lib/python3.7/site-packages/keras/backend/tensorflow_backend.py:4432: The name tf.random_uniform is deprecated. Please use tf.random.uniform instead.\n",
      "\n",
      "W0829 20:21:30.896896 140018371573568 deprecation_wrapper.py:119] From /home/mindy/anaconda3/lib/python3.7/site-packages/keras/backend/tensorflow_backend.py:66: The name tf.get_default_graph is deprecated. Please use tf.compat.v1.get_default_graph instead.\n",
      "\n",
      "W0829 20:21:30.900526 140018371573568 deprecation.py:506] From /home/mindy/anaconda3/lib/python3.7/site-packages/keras/backend/tensorflow_backend.py:3733: calling dropout (from tensorflow.python.ops.nn_ops) with keep_prob is deprecated and will be removed in a future version.\n",
      "Instructions for updating:\n",
      "Please use `rate` instead of `keep_prob`. Rate should be set to `rate = 1 - keep_prob`.\n",
      "W0829 20:21:30.923610 140018371573568 deprecation_wrapper.py:119] From /home/mindy/anaconda3/lib/python3.7/site-packages/keras/backend/tensorflow_backend.py:4267: The name tf.nn.max_pool is deprecated. Please use tf.nn.max_pool2d instead.\n",
      "\n"
     ]
    }
   ],
   "source": [
    "# load json and create model\n",
    "json_file = open('../tuning_data/eyewear_model.json', 'r')\n",
    "loaded_model_json = json_file.read()\n",
    "json_file.close()\n",
    "loaded_model_eyewear = model_from_json(loaded_model_json)"
   ]
  },
  {
   "cell_type": "code",
   "execution_count": 7,
   "metadata": {},
   "outputs": [],
   "source": [
    "# load model weight \n",
    "loaded_model_eyewear.load_weights('../tuning_data/best_vgg_model_eyewears.h5')"
   ]
  },
  {
   "cell_type": "code",
   "execution_count": 10,
   "metadata": {},
   "outputs": [
    {
     "name": "stdout",
     "output_type": "stream",
     "text": [
      "Found 127 validated image filenames belonging to 2 classes.\n"
     ]
    }
   ],
   "source": [
    "test_gen = ImageDataGenerator(rescale=1./255)\n",
    "test_generator =  test_gen.flow_from_dataframe(\n",
    "    dataframe=test_df,\n",
    "    directory='../data/pics',\n",
    "    x_col='pic_id',\n",
    "    y_col='eyewear',\n",
    "    batch_size=16,\n",
    "    target_size=(150,150),\n",
    "    class_mode = 'binary')"
   ]
  },
  {
   "cell_type": "code",
   "execution_count": 11,
   "metadata": {},
   "outputs": [
    {
     "name": "stderr",
     "output_type": "stream",
     "text": [
      "W0829 20:22:02.732247 140018371573568 deprecation_wrapper.py:119] From /home/mindy/anaconda3/lib/python3.7/site-packages/keras/optimizers.py:793: The name tf.train.Optimizer is deprecated. Please use tf.compat.v1.train.Optimizer instead.\n",
      "\n",
      "W0829 20:22:02.736685 140018371573568 deprecation.py:323] From /home/mindy/anaconda3/lib/python3.7/site-packages/tensorflow/python/ops/nn_impl.py:180: add_dispatch_support.<locals>.wrapper (from tensorflow.python.ops.array_ops) is deprecated and will be removed in a future version.\n",
      "Instructions for updating:\n",
      "Use tf.where in 2.0, which has the same broadcast rule as np.where\n"
     ]
    }
   ],
   "source": [
    "loaded_model_eyewear.compile(loss='binary_crossentropy',\n",
    "             optimizer=optimizers.SGD(lr=1e-4, momentum=0.9),\n",
    "             metrics=['accuracy'])"
   ]
  },
  {
   "cell_type": "code",
   "execution_count": 12,
   "metadata": {
    "scrolled": true
   },
   "outputs": [
    {
     "data": {
      "text/plain": [
       "[0.1128262274377928, 0.9763779532252335]"
      ]
     },
     "execution_count": 12,
     "metadata": {},
     "output_type": "execute_result"
    }
   ],
   "source": [
    "loaded_model_eyewear.evaluate_generator(test_generator)"
   ]
  },
  {
   "cell_type": "code",
   "execution_count": 13,
   "metadata": {},
   "outputs": [],
   "source": [
    "feature, label = next(test_generator)"
   ]
  },
  {
   "cell_type": "code",
   "execution_count": 25,
   "metadata": {},
   "outputs": [
    {
     "data": {
      "text/plain": [
       "0.0"
      ]
     },
     "execution_count": 25,
     "metadata": {},
     "output_type": "execute_result"
    }
   ],
   "source": [
    "label[10]"
   ]
  },
  {
   "cell_type": "code",
   "execution_count": 24,
   "metadata": {},
   "outputs": [
    {
     "data": {
      "image/png": "[encoded data removed]",
      "text/plain": [
       "<Figure size 432x288 with 1 Axes>"
      ]
     },
     "metadata": {
      "needs_background": "light"
     },
     "output_type": "display_data"
    }
   ],
   "source": [
    "plt.imshow(feature[10])\n",
    "plt.show()"
   ]
  },
  {
   "cell_type": "code",
   "execution_count": 19,
   "metadata": {},
   "outputs": [
    {
     "data": {
      "text/plain": [
       "array([[1.],\n",
       "       [1.],\n",
       "       [1.],\n",
       "       [1.],\n",
       "       [0.],\n",
       "       [1.],\n",
       "       [1.],\n",
       "       [1.],\n",
       "       [0.],\n",
       "       [1.],\n",
       "       [0.],\n",
       "       [0.],\n",
       "       [0.],\n",
       "       [1.],\n",
       "       [0.],\n",
       "       [0.],\n",
       "       [0.],\n",
       "       [0.],\n",
       "       [1.],\n",
       "       [0.],\n",
       "       [0.],\n",
       "       [0.],\n",
       "       [0.],\n",
       "       [0.],\n",
       "       [1.],\n",
       "       [1.],\n",
       "       [1.],\n",
       "       [1.],\n",
       "       [0.],\n",
       "       [1.],\n",
       "       [1.],\n",
       "       [1.],\n",
       "       [1.],\n",
       "       [0.],\n",
       "       [1.],\n",
       "       [0.],\n",
       "       [0.],\n",
       "       [0.],\n",
       "       [0.],\n",
       "       [1.],\n",
       "       [0.],\n",
       "       [0.],\n",
       "       [1.],\n",
       "       [1.],\n",
       "       [0.],\n",
       "       [1.],\n",
       "       [1.],\n",
       "       [0.],\n",
       "       [1.],\n",
       "       [1.],\n",
       "       [1.],\n",
       "       [0.],\n",
       "       [0.],\n",
       "       [0.],\n",
       "       [1.],\n",
       "       [1.],\n",
       "       [1.],\n",
       "       [1.],\n",
       "       [0.],\n",
       "       [1.],\n",
       "       [1.],\n",
       "       [0.],\n",
       "       [1.],\n",
       "       [1.],\n",
       "       [0.],\n",
       "       [0.],\n",
       "       [1.],\n",
       "       [1.],\n",
       "       [1.],\n",
       "       [1.],\n",
       "       [1.],\n",
       "       [1.],\n",
       "       [0.],\n",
       "       [0.],\n",
       "       [1.],\n",
       "       [0.],\n",
       "       [1.],\n",
       "       [0.],\n",
       "       [1.],\n",
       "       [1.],\n",
       "       [1.],\n",
       "       [1.],\n",
       "       [1.],\n",
       "       [1.],\n",
       "       [1.],\n",
       "       [0.],\n",
       "       [1.],\n",
       "       [1.],\n",
       "       [0.],\n",
       "       [1.],\n",
       "       [0.],\n",
       "       [1.],\n",
       "       [0.],\n",
       "       [1.],\n",
       "       [1.],\n",
       "       [0.],\n",
       "       [0.],\n",
       "       [0.],\n",
       "       [1.],\n",
       "       [0.],\n",
       "       [0.],\n",
       "       [1.],\n",
       "       [1.],\n",
       "       [0.],\n",
       "       [0.],\n",
       "       [0.],\n",
       "       [1.],\n",
       "       [1.],\n",
       "       [0.],\n",
       "       [1.],\n",
       "       [1.],\n",
       "       [0.],\n",
       "       [0.],\n",
       "       [1.],\n",
       "       [0.],\n",
       "       [0.],\n",
       "       [1.],\n",
       "       [0.],\n",
       "       [0.],\n",
       "       [0.],\n",
       "       [0.],\n",
       "       [1.],\n",
       "       [0.],\n",
       "       [0.],\n",
       "       [0.],\n",
       "       [0.],\n",
       "       [1.]], dtype=float32)"
      ]
     },
     "execution_count": 19,
     "metadata": {},
     "output_type": "execute_result"
    }
   ],
   "source": [
    "# save the model\n",
    "np.around(loaded_model_eyewear.predict_generator(test_generator))"
   ]
  },
  {
   "cell_type": "code",
   "execution_count": null,
   "metadata": {},
   "outputs": [],
   "source": []
  }
 ],
 "metadata": {
  "kernelspec": {
   "display_name": "Python 3",
   "language": "python",
   "name": "python3"
  },
  "language_info": {
   "codemirror_mode": {
    "name": "ipython",
    "version": 3
   },
   "file_extension": ".py",
   "mimetype": "text/x-python",
   "name": "python",
   "nbconvert_exporter": "python",
   "pygments_lexer": "ipython3",
   "version": "3.7.3"
  }
 },
 "nbformat": 4,
 "nbformat_minor": 2
}
