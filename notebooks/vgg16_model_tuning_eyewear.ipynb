{
 "cells": [
  {
   "cell_type": "markdown",
   "metadata": {},
   "source": [
    "## Transfer Learning Tuning_EyeWear:\n",
    "  * model parameter and other information can be found below:\n",
    "     * [source](https://blog.keras.io/building-powerful-image-classification-models-using-very-little-data.html)\n",
    "     \n",
    "  * base_model: use vgg16 and freeze at bottleneck layer (stop right before flatten layer) \n",
    "  * top_model: tune dense layers (parameters are inspired by source)\n",
    "     * batch_size 16 seems to work best for small data set \n",
    "\n",
    "##### warnings: make sure to restart kernel in between running different model tuning \n",
    "  \n",
    "---\n",
    "#### This cell is required in order to use GPU for running the model "
   ]
  },
  {
   "cell_type": "code",
   "execution_count": 1,
   "metadata": {},
   "outputs": [
    {
     "name": "stderr",
     "output_type": "stream",
     "text": [
      "Using TensorFlow backend.\n",
      "WARNING: Logging before flag parsing goes to stderr.\n",
      "W0829 11:01:20.248958 139794952161088 deprecation_wrapper.py:119] From /home/mindy/anaconda3/lib/python3.7/site-packages/keras/backend/tensorflow_backend.py:190: The name tf.get_default_session is deprecated. Please use tf.compat.v1.get_default_session instead.\n",
      "\n",
      "W0829 11:01:20.249930 139794952161088 deprecation_wrapper.py:119] From /home/mindy/anaconda3/lib/python3.7/site-packages/keras/backend/tensorflow_backend.py:207: The name tf.global_variables is deprecated. Please use tf.compat.v1.global_variables instead.\n",
      "\n"
     ]
    }
   ],
   "source": [
    "import warnings\n",
    "warnings.filterwarnings('ignore')\n",
    "import tensorflow as tf\n",
    "import keras\n",
    "from keras.backend.tensorflow_backend import set_session\n",
    "config = tf.ConfigProto()\n",
    "config.gpu_options.allow_growth = True  # dynamically grow the memory used on the GPU\n",
    "config.log_device_placement = True  # to log device placement (on which device the operation ran)\n",
    "                                    # (nothing gets printed in Jupyter, only if you run it standalone)\n",
    "sess = tf.Session(config=config)\n",
    "set_session(sess)  # set this TensorFlow session as the default session for Keras\n",
    "keras.backend.get_session().run(tf.global_variables_initializer())  "
   ]
  },
  {
   "cell_type": "markdown",
   "metadata": {},
   "source": [
    "---\n",
    "#### Import necessary libraries"
   ]
  },
  {
   "cell_type": "code",
   "execution_count": 2,
   "metadata": {},
   "outputs": [],
   "source": [
    "import pandas as pd\n",
    "import numpy as np\n",
    "import matplotlib.pyplot as plt\n",
    "%matplotlib inline\n",
    "from keras_preprocessing.image import ImageDataGenerator\n",
    "from keras.models import Sequential, Model\n",
    "from keras.layers import Dropout, Flatten, Dense\n",
    "from keras.applications.vgg16 import VGG16\n",
    "from keras import optimizers"
   ]
  },
  {
   "cell_type": "markdown",
   "metadata": {},
   "source": [
    "---\n",
    "#### Import train_df and test_df for eyewears"
   ]
  },
  {
   "cell_type": "code",
   "execution_count": 3,
   "metadata": {},
   "outputs": [],
   "source": [
    "train_df = pd.read_pickle('../pickle_files/train_df_glasses.pkl')\n",
    "test_df = pd.read_pickle('../pickle_files/test_df_glasses.pkl')"
   ]
  },
  {
   "cell_type": "markdown",
   "metadata": {},
   "source": [
    "#### Get bottleneck features to tune top models"
   ]
  },
  {
   "cell_type": "code",
   "execution_count": 4,
   "metadata": {},
   "outputs": [],
   "source": [
    "def save_bottleneck_features(train_df, test_df, label, batch_size):\n",
    "    '''\n",
    "    inputs:\n",
    "    train_df, test_df: train and test dataframes saved in pickle_files folder\n",
    "    label: a string, eyewear, hat, or beard\n",
    "    batch_size: process images in batches\n",
    "    outputs:\n",
    "    saves bottleneck features inside folder tuning_data as npy file\n",
    "    '''\n",
    "    # intialize the vgg16 model \n",
    "    # make sure not to train the top layers \n",
    "    base_model = VGG16(weights = 'imagenet', include_top = False)\n",
    "    # create train_generator and test_generator to get bottleneck inputs for train and test df \n",
    "    datagen = ImageDataGenerator(\n",
    "        rescale=1./255,\n",
    "        shear_range=0.2,\n",
    "        zoom_range=0.2,\n",
    "        horizontal_flip=True)\n",
    "    # make sure shuffle is False so we know the label follows the sequence of the dataframe \n",
    "    # so we can tune top_model \n",
    "    train_generator = datagen.flow_from_dataframe(\n",
    "    dataframe=train_df,\n",
    "    directory='../data/pics',\n",
    "    x_col='pic_id',\n",
    "    y_col=label,\n",
    "    batch_size=batch_size,\n",
    "    shuffle = False,\n",
    "    target_size=(150,150),\n",
    "    class_mode = None)\n",
    "    # get features saved as .npy in tunign_data folder \n",
    "    bottleneck_features_train = base_model.predict_generator(\n",
    "        train_generator, train_df.shape[0]//batch_size)\n",
    "    np.save(open('../tuning_data/bottleneck_features_train_eyewears.npy','wb'),\n",
    "           bottleneck_features_train)\n",
    "    \n",
    "    test_generator = datagen.flow_from_dataframe(\n",
    "    dataframe=test_df,\n",
    "    directory='../data/pics',\n",
    "    x_col='pic_id',\n",
    "    y_col=label,\n",
    "    batch_size=batch_size,\n",
    "    shuffle = False,\n",
    "    target_size=(150,150),\n",
    "    class_mode = None)\n",
    "    bottleneck_features_test = base_model.predict_generator(\n",
    "        test_generator, test_df.shape[0]//batch_size)\n",
    "    np.save(open('../tuning_data/bottleneck_features_test_eyewears.npy','wb'),\n",
    "           bottleneck_features_test)"
   ]
  },
  {
   "cell_type": "markdown",
   "metadata": {},
   "source": [
    "#### Save bottleneck_features"
   ]
  },
  {
   "cell_type": "code",
   "execution_count": 5,
   "metadata": {
    "scrolled": true
   },
   "outputs": [
    {
     "name": "stderr",
     "output_type": "stream",
     "text": [
      "W0828 23:26:55.309392 139702605895488 deprecation_wrapper.py:119] From /home/mindy/anaconda3/lib/python3.7/site-packages/keras/backend/tensorflow_backend.py:66: The name tf.get_default_graph is deprecated. Please use tf.compat.v1.get_default_graph instead.\n",
      "\n",
      "W0828 23:26:55.310434 139702605895488 deprecation_wrapper.py:119] From /home/mindy/anaconda3/lib/python3.7/site-packages/keras/backend/tensorflow_backend.py:541: The name tf.placeholder is deprecated. Please use tf.compat.v1.placeholder instead.\n",
      "\n",
      "W0828 23:26:55.312547 139702605895488 deprecation_wrapper.py:119] From /home/mindy/anaconda3/lib/python3.7/site-packages/keras/backend/tensorflow_backend.py:4432: The name tf.random_uniform is deprecated. Please use tf.random.uniform instead.\n",
      "\n",
      "W0828 23:26:55.332221 139702605895488 deprecation_wrapper.py:119] From /home/mindy/anaconda3/lib/python3.7/site-packages/keras/backend/tensorflow_backend.py:4267: The name tf.nn.max_pool is deprecated. Please use tf.nn.max_pool2d instead.\n",
      "\n"
     ]
    },
    {
     "name": "stdout",
     "output_type": "stream",
     "text": [
      "Found 505 validated image filenames.\n",
      "Found 127 validated image filenames.\n"
     ]
    }
   ],
   "source": [
    "save_bottleneck_features(train_df,test_df,'eyewear',16)"
   ]
  },
  {
   "cell_type": "markdown",
   "metadata": {},
   "source": [
    "### Quick tuning of top models "
   ]
  },
  {
   "cell_type": "code",
   "execution_count": null,
   "metadata": {},
   "outputs": [],
   "source": [
    "def train_top_model(train_df, test_df, epoch, batch_size, label):\n",
    "    '''\n",
    "    inputs:\n",
    "    train_df, test_df: dataframes saved in pickle_files to generate train and test labels \n",
    "    epoch: num of epochs in fit \n",
    "    batch_size: same as image generator batch size \n",
    "    label: a string, eyewear, hat, or beard\n",
    "    output:\n",
    "    saves model weights in a folder \n",
    "    '''\n",
    "    train_data = np.load(open('../tuning_data/bottleneck_features_train_eyewears.npy','rb'))\n",
    "    # make sure train_data and train_label have same num of samples\n",
    "    train_label = np.array(train_df[label].map({'not_'+label:0, label:1}))[:-(train_df.shape[0]%batch_size)]\n",
    "    \n",
    "    test_data = np.load(open('../tuning_data/bottleneck_features_test_eyewears.npy','rb'))\n",
    "    test_label = np.array(test_df[label].map({'not_'+label:0, label:1}))[:-(test_df.shape[0]%batch_size)]\n",
    "    \n",
    "    # build top model\n",
    "    model = Sequential()\n",
    "    model.add(Flatten(input_shape=train_data.shape[1:]))\n",
    "    model.add(Dense(256, activation='relu'))\n",
    "    model.add(Dropout(0.5))\n",
    "    model.add(Dense(1, activation='sigmoid'))\n",
    "    \n",
    "    model.compile(optimizer='rmsprop',\n",
    "                 loss='binary_crossentropy',\n",
    "                 metrics=['accuracy'])\n",
    "    \n",
    "    model.fit(train_data, train_label,\n",
    "             epochs=epoch,\n",
    "             batch_size=batch_size,\n",
    "             validation_data=(test_data,test_label))\n",
    "    model.save_weights('../tuning_data/bottleneck_vgg_model_eyewears.h5')\n",
    "    del model\n",
    "    keras.backend.clear_session()"
   ]
  },
  {
   "cell_type": "markdown",
   "metadata": {},
   "source": [
    "#### run train_top_model and save results in tuning_data"
   ]
  },
  {
   "cell_type": "code",
   "execution_count": 7,
   "metadata": {
    "scrolled": false
   },
   "outputs": [
    {
     "name": "stderr",
     "output_type": "stream",
     "text": [
      "W0828 23:27:07.051556 139702605895488 deprecation.py:506] From /home/mindy/anaconda3/lib/python3.7/site-packages/keras/backend/tensorflow_backend.py:3733: calling dropout (from tensorflow.python.ops.nn_ops) with keep_prob is deprecated and will be removed in a future version.\n",
      "Instructions for updating:\n",
      "Please use `rate` instead of `keep_prob`. Rate should be set to `rate = 1 - keep_prob`.\n",
      "W0828 23:27:07.067415 139702605895488 deprecation_wrapper.py:119] From /home/mindy/anaconda3/lib/python3.7/site-packages/keras/optimizers.py:793: The name tf.train.Optimizer is deprecated. Please use tf.compat.v1.train.Optimizer instead.\n",
      "\n",
      "W0828 23:27:07.077111 139702605895488 deprecation.py:323] From /home/mindy/anaconda3/lib/python3.7/site-packages/tensorflow/python/ops/nn_impl.py:180: add_dispatch_support.<locals>.wrapper (from tensorflow.python.ops.array_ops) is deprecated and will be removed in a future version.\n",
      "Instructions for updating:\n",
      "Use tf.where in 2.0, which has the same broadcast rule as np.where\n"
     ]
    },
    {
     "name": "stdout",
     "output_type": "stream",
     "text": [
      "Train on 496 samples, validate on 112 samples\n",
      "Epoch 1/50\n",
      "496/496 [==============================] - 0s 845us/step - loss: 1.4208 - acc: 0.6573 - val_loss: 0.3576 - val_acc: 0.8750\n",
      "Epoch 2/50\n",
      "496/496 [==============================] - 0s 200us/step - loss: 0.5058 - acc: 0.7964 - val_loss: 0.3255 - val_acc: 0.8929\n",
      "Epoch 3/50\n",
      "496/496 [==============================] - 0s 192us/step - loss: 0.3476 - acc: 0.8589 - val_loss: 0.3781 - val_acc: 0.8839\n",
      "Epoch 4/50\n",
      "496/496 [==============================] - 0s 198us/step - loss: 0.3508 - acc: 0.8770 - val_loss: 0.3166 - val_acc: 0.9018\n",
      "Epoch 5/50\n",
      "496/496 [==============================] - 0s 205us/step - loss: 0.2407 - acc: 0.9052 - val_loss: 0.5171 - val_acc: 0.7946\n",
      "Epoch 6/50\n",
      "496/496 [==============================] - 0s 210us/step - loss: 0.2588 - acc: 0.8931 - val_loss: 1.2488 - val_acc: 0.7321\n",
      "Epoch 7/50\n",
      "496/496 [==============================] - 0s 211us/step - loss: 0.2591 - acc: 0.9032 - val_loss: 0.3773 - val_acc: 0.8929\n",
      "Epoch 8/50\n",
      "496/496 [==============================] - 0s 205us/step - loss: 0.0948 - acc: 0.9698 - val_loss: 0.9434 - val_acc: 0.7232\n",
      "Epoch 9/50\n",
      "496/496 [==============================] - 0s 212us/step - loss: 0.1162 - acc: 0.9556 - val_loss: 0.4407 - val_acc: 0.9107\n",
      "Epoch 10/50\n",
      "496/496 [==============================] - 0s 202us/step - loss: 0.1828 - acc: 0.9375 - val_loss: 0.4044 - val_acc: 0.9018\n",
      "Epoch 11/50\n",
      "496/496 [==============================] - 0s 208us/step - loss: 0.0654 - acc: 0.9718 - val_loss: 0.4797 - val_acc: 0.8929\n",
      "Epoch 12/50\n",
      "496/496 [==============================] - 0s 200us/step - loss: 0.0919 - acc: 0.9577 - val_loss: 0.6428 - val_acc: 0.9018\n",
      "Epoch 13/50\n",
      "496/496 [==============================] - 0s 187us/step - loss: 0.0672 - acc: 0.9657 - val_loss: 0.5759 - val_acc: 0.9018\n",
      "Epoch 14/50\n",
      "496/496 [==============================] - 0s 194us/step - loss: 0.0545 - acc: 0.9758 - val_loss: 0.5822 - val_acc: 0.9196\n",
      "Epoch 15/50\n",
      "496/496 [==============================] - 0s 197us/step - loss: 0.0414 - acc: 0.9859 - val_loss: 0.9984 - val_acc: 0.7679\n",
      "Epoch 16/50\n",
      "496/496 [==============================] - 0s 201us/step - loss: 0.0566 - acc: 0.9718 - val_loss: 0.6560 - val_acc: 0.8839\n",
      "Epoch 17/50\n",
      "496/496 [==============================] - 0s 191us/step - loss: 0.0248 - acc: 0.9879 - val_loss: 0.5871 - val_acc: 0.9018\n",
      "Epoch 18/50\n",
      "496/496 [==============================] - 0s 193us/step - loss: 0.0281 - acc: 0.9899 - val_loss: 0.6324 - val_acc: 0.8839\n",
      "Epoch 19/50\n",
      "496/496 [==============================] - 0s 198us/step - loss: 0.1136 - acc: 0.9758 - val_loss: 0.6641 - val_acc: 0.8839\n",
      "Epoch 20/50\n",
      "496/496 [==============================] - 0s 190us/step - loss: 0.0042 - acc: 1.0000 - val_loss: 0.7138 - val_acc: 0.9107\n",
      "Epoch 21/50\n",
      "496/496 [==============================] - 0s 202us/step - loss: 0.0493 - acc: 0.9819 - val_loss: 0.7056 - val_acc: 0.8929\n",
      "Epoch 22/50\n",
      "496/496 [==============================] - 0s 199us/step - loss: 0.0023 - acc: 1.0000 - val_loss: 0.7508 - val_acc: 0.8750\n",
      "Epoch 23/50\n",
      "496/496 [==============================] - 0s 202us/step - loss: 0.0364 - acc: 0.9859 - val_loss: 0.7534 - val_acc: 0.8839\n",
      "Epoch 24/50\n",
      "496/496 [==============================] - 0s 206us/step - loss: 0.0144 - acc: 0.9980 - val_loss: 0.7842 - val_acc: 0.8839  \n",
      "Epoch 25/50\n",
      "496/496 [==============================] - 0s 205us/step - loss: 0.0027 - acc: 1.0000 - val_loss: 1.3321 - val_acc: 0.7946\n",
      "Epoch 26/50\n",
      "496/496 [==============================] - 0s 203us/step - loss: 0.0350 - acc: 0.9879 - val_loss: 0.7844 - val_acc: 0.8839\n",
      "Epoch 27/50\n",
      "496/496 [==============================] - 0s 192us/step - loss: 0.0049 - acc: 0.9960 - val_loss: 0.8242 - val_acc: 0.8929\n",
      "Epoch 28/50\n",
      "496/496 [==============================] - 0s 195us/step - loss: 0.0186 - acc: 0.9960 - val_loss: 0.7519 - val_acc: 0.8929\n",
      "Epoch 29/50\n",
      "496/496 [==============================] - 0s 197us/step - loss: 0.0025 - acc: 0.9980 - val_loss: 0.7873 - val_acc: 0.8750\n",
      "Epoch 30/50\n",
      "496/496 [==============================] - 0s 198us/step - loss: 0.0299 - acc: 0.9919 - val_loss: 0.8597 - val_acc: 0.9018\n",
      "Epoch 31/50\n",
      "496/496 [==============================] - 0s 203us/step - loss: 0.0037 - acc: 0.9980 - val_loss: 0.8991 - val_acc: 0.9018\n",
      "Epoch 32/50\n",
      "496/496 [==============================] - 0s 210us/step - loss: 0.0160 - acc: 0.9940 - val_loss: 0.8265 - val_acc: 0.8839\n",
      "Epoch 33/50\n",
      "496/496 [==============================] - 0s 214us/step - loss: 3.8052e-04 - acc: 1.0000 - val_loss: 0.8341 - val_acc: 0.8750\n",
      "Epoch 34/50\n",
      "496/496 [==============================] - 0s 208us/step - loss: 0.0142 - acc: 0.9919 - val_loss: 0.8238 - val_acc: 0.9018\n",
      "Epoch 35/50\n",
      "496/496 [==============================] - 0s 207us/step - loss: 0.0046 - acc: 1.0000 - val_loss: 0.8949 - val_acc: 0.9018\n",
      "Epoch 36/50\n",
      "496/496 [==============================] - 0s 211us/step - loss: 0.0010 - acc: 1.0000 - val_loss: 0.9018 - val_acc: 0.8929\n",
      "Epoch 37/50\n",
      "496/496 [==============================] - 0s 207us/step - loss: 0.0281 - acc: 0.9899 - val_loss: 0.9161 - val_acc: 0.8929\n",
      "Epoch 38/50\n",
      "496/496 [==============================] - 0s 208us/step - loss: 0.0010 - acc: 1.0000 - val_loss: 0.9667 - val_acc: 0.8929\n",
      "Epoch 39/50\n",
      "496/496 [==============================] - 0s 207us/step - loss: 0.0047 - acc: 0.9980 - val_loss: 0.9429 - val_acc: 0.8929\n",
      "Epoch 40/50\n",
      "496/496 [==============================] - 0s 194us/step - loss: 0.0044 - acc: 0.9980 - val_loss: 0.9000 - val_acc: 0.8929\n",
      "Epoch 41/50\n",
      "496/496 [==============================] - 0s 199us/step - loss: 0.0117 - acc: 0.9940 - val_loss: 0.8740 - val_acc: 0.8929\n",
      "Epoch 42/50\n",
      "496/496 [==============================] - 0s 204us/step - loss: 0.0012 - acc: 1.0000 - val_loss: 0.8958 - val_acc: 0.8929\n",
      "Epoch 43/50\n",
      "496/496 [==============================] - 0s 214us/step - loss: 0.0042 - acc: 0.9980 - val_loss: 0.9970 - val_acc: 0.8929\n",
      "Epoch 44/50\n",
      "496/496 [==============================] - 0s 196us/step - loss: 0.0043 - acc: 0.9980 - val_loss: 1.1292 - val_acc: 0.8839\n",
      "Epoch 45/50\n",
      "496/496 [==============================] - 0s 204us/step - loss: 0.0071 - acc: 0.9960 - val_loss: 0.9131 - val_acc: 0.9018\n",
      "Epoch 46/50\n",
      "496/496 [==============================] - 0s 205us/step - loss: 0.0119 - acc: 0.9940 - val_loss: 1.1986 - val_acc: 0.8482\n",
      "Epoch 47/50\n",
      "496/496 [==============================] - 0s 205us/step - loss: 2.0714e-04 - acc: 1.0000 - val_loss: 0.9566 - val_acc: 0.8839\n",
      "Epoch 48/50\n",
      "496/496 [==============================] - 0s 206us/step - loss: 0.0281 - acc: 0.9960 - val_loss: 0.9031 - val_acc: 0.9018\n",
      "Epoch 49/50\n",
      "496/496 [==============================] - 0s 204us/step - loss: 0.0019 - acc: 1.0000 - val_loss: 0.9336 - val_acc: 0.9018\n",
      "Epoch 50/50\n",
      "496/496 [==============================] - 0s 208us/step - loss: 0.0097 - acc: 0.9980 - val_loss: 0.8673 - val_acc: 0.9018\n"
     ]
    }
   ],
   "source": [
    "train_top_model(train_df, test_df, 50, 16, 'eyewear')"
   ]
  },
  {
   "cell_type": "markdown",
   "metadata": {},
   "source": [
    "### Fine Tune Top Model to improve accuracy"
   ]
  },
  {
   "cell_type": "code",
   "execution_count": 4,
   "metadata": {},
   "outputs": [],
   "source": [
    "def fine_tune_model(train_df, test_df,epoch, batch_size,label, print_model = True):\n",
    "    # build VGG16 model and freeze top layers\n",
    "    # input_shape: width, height, RGB (from image generator)\n",
    "    model_vgg = VGG16(weights='imagenet',include_top=False, input_shape=(150,150,3))\n",
    "    # build top model\n",
    "    top_model = Sequential()\n",
    "    top_model.add(Flatten(input_shape=model_vgg.output_shape[1:]))\n",
    "    top_model.add(Dense(256,activation='relu'))\n",
    "    top_model.add(Dropout(0.5))\n",
    "    top_model.add(Dense(1, activation='sigmoid'))\n",
    "    \n",
    "    # load saved weights to fine tune parameters \n",
    "    top_model.load_weights('../tuning_data/bottleneck_vgg_model_eyewears.h5')\n",
    "    # add top model to model\n",
    "    model = Model(inputs=model_vgg.input, outputs=top_model(model_vgg.output))\n",
    "    # we will tune last 5 layers of the model: block5 and fully connected layer \n",
    "    for layer in model.layers[:15]:\n",
    "        layer.trainable = False\n",
    "    # we can tune the parameters for lr and momentum later to get better results\n",
    "    model.compile(loss='binary_crossentropy',\n",
    "             optimizer=optimizers.SGD(lr=1e-4, momentum=0.9),\n",
    "             metrics=['accuracy'])\n",
    "    # prepare train generator using data augmentation to battle small sample size \n",
    "    train_gen = ImageDataGenerator(\n",
    "        rescale=1./255,\n",
    "        shear_range=0.2,\n",
    "        zoom_range=0.2,\n",
    "        horizontal_flip=True)\n",
    "    # not want to augment the test \n",
    "    test_gen = ImageDataGenerator(rescale=1./255)\n",
    "    \n",
    "    train_generator =  train_gen.flow_from_dataframe(\n",
    "    dataframe=train_df,\n",
    "    directory='../data/pics',\n",
    "    x_col='pic_id',\n",
    "    y_col=label,\n",
    "    batch_size=batch_size,\n",
    "    target_size=(150,150),\n",
    "    class_mode = 'binary')\n",
    "    \n",
    "    test_generator =  test_gen.flow_from_dataframe(\n",
    "    dataframe=test_df,\n",
    "    directory='../data/pics',\n",
    "    x_col='pic_id',\n",
    "    y_col=label,\n",
    "    batch_size=batch_size,\n",
    "    target_size=(150,150),\n",
    "    class_mode = 'binary')\n",
    "    \n",
    "    # run and fit model \n",
    "    history = model.fit_generator(\n",
    "    train_generator,\n",
    "    steps_per_epoch=train_df.shape[0]//batch_size,\n",
    "    epochs=epoch,\n",
    "    validation_data=test_generator,\n",
    "    validation_steps=test_df.shape[0]//batch_size,\n",
    "    verbose=1)\n",
    "    \n",
    "    if print_model:\n",
    "        model.summary()\n",
    "    return history    \n",
    "\n",
    "    del model\n",
    "    keras.backend.clear_session()"
   ]
  },
  {
   "cell_type": "markdown",
   "metadata": {},
   "source": [
    "### save model history "
   ]
  },
  {
   "cell_type": "code",
   "execution_count": 5,
   "metadata": {},
   "outputs": [
    {
     "name": "stderr",
     "output_type": "stream",
     "text": [
      "W0829 11:01:40.319553 139794952161088 deprecation_wrapper.py:119] From /home/mindy/anaconda3/lib/python3.7/site-packages/keras/backend/tensorflow_backend.py:66: The name tf.get_default_graph is deprecated. Please use tf.compat.v1.get_default_graph instead.\n",
      "\n",
      "W0829 11:01:40.320737 139794952161088 deprecation_wrapper.py:119] From /home/mindy/anaconda3/lib/python3.7/site-packages/keras/backend/tensorflow_backend.py:541: The name tf.placeholder is deprecated. Please use tf.compat.v1.placeholder instead.\n",
      "\n",
      "W0829 11:01:40.322682 139794952161088 deprecation_wrapper.py:119] From /home/mindy/anaconda3/lib/python3.7/site-packages/keras/backend/tensorflow_backend.py:4432: The name tf.random_uniform is deprecated. Please use tf.random.uniform instead.\n",
      "\n",
      "W0829 11:01:40.337631 139794952161088 deprecation_wrapper.py:119] From /home/mindy/anaconda3/lib/python3.7/site-packages/keras/backend/tensorflow_backend.py:4267: The name tf.nn.max_pool is deprecated. Please use tf.nn.max_pool2d instead.\n",
      "\n",
      "W0829 11:01:40.944281 139794952161088 deprecation.py:506] From /home/mindy/anaconda3/lib/python3.7/site-packages/keras/backend/tensorflow_backend.py:3733: calling dropout (from tensorflow.python.ops.nn_ops) with keep_prob is deprecated and will be removed in a future version.\n",
      "Instructions for updating:\n",
      "Please use `rate` instead of `keep_prob`. Rate should be set to `rate = 1 - keep_prob`.\n",
      "W0829 11:01:41.026478 139794952161088 deprecation_wrapper.py:119] From /home/mindy/anaconda3/lib/python3.7/site-packages/keras/optimizers.py:793: The name tf.train.Optimizer is deprecated. Please use tf.compat.v1.train.Optimizer instead.\n",
      "\n",
      "W0829 11:01:41.030820 139794952161088 deprecation.py:323] From /home/mindy/anaconda3/lib/python3.7/site-packages/tensorflow/python/ops/nn_impl.py:180: add_dispatch_support.<locals>.wrapper (from tensorflow.python.ops.array_ops) is deprecated and will be removed in a future version.\n",
      "Instructions for updating:\n",
      "Use tf.where in 2.0, which has the same broadcast rule as np.where\n"
     ]
    },
    {
     "name": "stdout",
     "output_type": "stream",
     "text": [
      "Found 505 validated image filenames belonging to 2 classes.\n",
      "Found 127 validated image filenames belonging to 2 classes.\n",
      "Epoch 1/50\n",
      "31/31 [==============================] - 4s 140ms/step - loss: 3.2631 - acc: 0.3923 - val_loss: 0.7050 - val_acc: 0.4554\n",
      "Epoch 2/50\n",
      "31/31 [==============================] - 5s 149ms/step - loss: 0.7269 - acc: 0.5265 - val_loss: 0.6429 - val_acc: 0.7117\n",
      "Epoch 3/50\n",
      "31/31 [==============================] - 4s 141ms/step - loss: 0.6946 - acc: 0.5698 - val_loss: 0.6532 - val_acc: 0.6667\n",
      "Epoch 4/50\n",
      "31/31 [==============================] - 4s 137ms/step - loss: 0.6706 - acc: 0.6011 - val_loss: 0.6326 - val_acc: 0.6847\n",
      "Epoch 5/50\n",
      "31/31 [==============================] - 4s 131ms/step - loss: 0.6318 - acc: 0.6727 - val_loss: 0.5915 - val_acc: 0.7117\n",
      "Epoch 6/50\n",
      "31/31 [==============================] - 4s 125ms/step - loss: 0.6335 - acc: 0.6525 - val_loss: 0.5959 - val_acc: 0.7027\n",
      "Epoch 7/50\n",
      "31/31 [==============================] - 4s 118ms/step - loss: 0.6044 - acc: 0.6813 - val_loss: 0.4890 - val_acc: 0.8559\n",
      "Epoch 8/50\n",
      "31/31 [==============================] - 4s 125ms/step - loss: 0.5432 - acc: 0.7514 - val_loss: 0.4729 - val_acc: 0.8288\n",
      "Epoch 9/50\n",
      "31/31 [==============================] - 4s 142ms/step - loss: 0.4928 - acc: 0.8069 - val_loss: 0.4042 - val_acc: 0.8482\n",
      "Epoch 10/50\n",
      "31/31 [==============================] - 4s 140ms/step - loss: 0.4510 - acc: 0.8250 - val_loss: 0.3527 - val_acc: 0.9009\n",
      "Epoch 11/50\n",
      "31/31 [==============================] - 4s 127ms/step - loss: 0.3837 - acc: 0.8669 - val_loss: 0.3968 - val_acc: 0.8468\n",
      "Epoch 12/50\n",
      "31/31 [==============================] - 4s 129ms/step - loss: 0.4193 - acc: 0.8270 - val_loss: 0.2872 - val_acc: 0.8919\n",
      "Epoch 13/50\n",
      "31/31 [==============================] - 4s 124ms/step - loss: 0.3162 - acc: 0.8710 - val_loss: 0.2837 - val_acc: 0.8919\n",
      "Epoch 14/50\n",
      "31/31 [==============================] - 4s 126ms/step - loss: 0.3496 - acc: 0.8577 - val_loss: 0.2163 - val_acc: 0.9640\n",
      "Epoch 15/50\n",
      "31/31 [==============================] - 4s 124ms/step - loss: 0.3285 - acc: 0.8690 - val_loss: 0.2343 - val_acc: 0.9459\n",
      "Epoch 16/50\n",
      "31/31 [==============================] - 4s 119ms/step - loss: 0.2637 - acc: 0.9092 - val_loss: 0.2533 - val_acc: 0.8919\n",
      "Epoch 17/50\n",
      "31/31 [==============================] - 4s 142ms/step - loss: 0.2431 - acc: 0.9092 - val_loss: 0.2111 - val_acc: 0.9464\n",
      "Epoch 18/50\n",
      "31/31 [==============================] - 4s 139ms/step - loss: 0.2658 - acc: 0.9032 - val_loss: 0.2265 - val_acc: 0.9189\n",
      "Epoch 19/50\n",
      "31/31 [==============================] - 4s 123ms/step - loss: 0.2582 - acc: 0.9067 - val_loss: 0.1971 - val_acc: 0.9369\n",
      "Epoch 20/50\n",
      "31/31 [==============================] - 4s 131ms/step - loss: 0.2214 - acc: 0.9254 - val_loss: 0.1929 - val_acc: 0.9189\n",
      "Epoch 21/50\n",
      "31/31 [==============================] - 4s 118ms/step - loss: 0.2298 - acc: 0.9153 - val_loss: 0.2287 - val_acc: 0.8739\n",
      "Epoch 22/50\n",
      "31/31 [==============================] - 4s 130ms/step - loss: 0.2713 - acc: 0.9072 - val_loss: 0.3762 - val_acc: 0.8018\n",
      "Epoch 23/50\n",
      "31/31 [==============================] - 4s 121ms/step - loss: 0.2247 - acc: 0.9036 - val_loss: 0.1557 - val_acc: 0.9459\n",
      "Epoch 24/50\n",
      "31/31 [==============================] - 4s 127ms/step - loss: 0.2230 - acc: 0.9032 - val_loss: 0.2299 - val_acc: 0.9099\n",
      "Epoch 25/50\n",
      "31/31 [==============================] - 4s 129ms/step - loss: 0.1811 - acc: 0.9254 - val_loss: 0.2471 - val_acc: 0.8750\n",
      "Epoch 26/50\n",
      "31/31 [==============================] - 5s 152ms/step - loss: 0.1853 - acc: 0.9254 - val_loss: 0.1102 - val_acc: 0.9730\n",
      "Epoch 27/50\n",
      "31/31 [==============================] - 4s 125ms/step - loss: 0.1398 - acc: 0.9516 - val_loss: 0.1917 - val_acc: 0.9369\n",
      "Epoch 28/50\n",
      "31/31 [==============================] - 4s 126ms/step - loss: 0.1646 - acc: 0.9516 - val_loss: 0.1187 - val_acc: 0.9640\n",
      "Epoch 29/50\n",
      "31/31 [==============================] - 4s 123ms/step - loss: 0.1590 - acc: 0.9455 - val_loss: 0.2179 - val_acc: 0.9279\n",
      "Epoch 30/50\n",
      "31/31 [==============================] - 4s 129ms/step - loss: 0.1460 - acc: 0.9455 - val_loss: 0.1534 - val_acc: 0.9550\n",
      "Epoch 31/50\n",
      "31/31 [==============================] - 4s 121ms/step - loss: 0.1349 - acc: 0.9642 - val_loss: 0.1374 - val_acc: 0.9550\n",
      "Epoch 32/50\n",
      "31/31 [==============================] - 4s 125ms/step - loss: 0.1446 - acc: 0.9536 - val_loss: 0.1455 - val_acc: 0.9459\n",
      "Epoch 33/50\n",
      "31/31 [==============================] - 4s 129ms/step - loss: 0.1236 - acc: 0.9481 - val_loss: 0.0895 - val_acc: 0.9732\n",
      "Epoch 34/50\n",
      "31/31 [==============================] - 5s 151ms/step - loss: 0.1265 - acc: 0.9597 - val_loss: 0.1820 - val_acc: 0.9369\n",
      "Epoch 35/50\n",
      "31/31 [==============================] - 4s 145ms/step - loss: 0.0894 - acc: 0.9677 - val_loss: 0.1912 - val_acc: 0.9369\n",
      "Epoch 36/50\n",
      "31/31 [==============================] - 4s 127ms/step - loss: 0.1338 - acc: 0.9476 - val_loss: 0.1425 - val_acc: 0.9459\n",
      "Epoch 37/50\n",
      "31/31 [==============================] - 4s 134ms/step - loss: 0.0986 - acc: 0.9718 - val_loss: 0.0966 - val_acc: 0.9640\n",
      "Epoch 38/50\n",
      "31/31 [==============================] - 4s 124ms/step - loss: 0.0935 - acc: 0.9738 - val_loss: 0.1725 - val_acc: 0.9369\n",
      "Epoch 39/50\n",
      "31/31 [==============================] - 4s 125ms/step - loss: 0.1131 - acc: 0.9637 - val_loss: 0.1237 - val_acc: 0.9640\n",
      "Epoch 40/50\n",
      "31/31 [==============================] - 4s 128ms/step - loss: 0.1060 - acc: 0.9738 - val_loss: 0.1381 - val_acc: 0.9459\n",
      "Epoch 41/50\n",
      "31/31 [==============================] - 4s 120ms/step - loss: 0.0959 - acc: 0.9637 - val_loss: 0.1639 - val_acc: 0.9375\n",
      "Epoch 42/50\n",
      "31/31 [==============================] - 5s 155ms/step - loss: 0.0847 - acc: 0.9738 - val_loss: 0.1097 - val_acc: 0.9640\n",
      "Epoch 43/50\n",
      "31/31 [==============================] - 4s 129ms/step - loss: 0.0752 - acc: 0.9859 - val_loss: 0.1488 - val_acc: 0.9279\n",
      "Epoch 44/50\n",
      "31/31 [==============================] - 4s 128ms/step - loss: 0.0605 - acc: 0.9844 - val_loss: 0.1307 - val_acc: 0.9640\n",
      "Epoch 45/50\n",
      "31/31 [==============================] - 4s 125ms/step - loss: 0.0683 - acc: 0.9819 - val_loss: 0.1593 - val_acc: 0.9459\n",
      "Epoch 46/50\n",
      "31/31 [==============================] - 4s 131ms/step - loss: 0.0664 - acc: 0.9778 - val_loss: 0.0425 - val_acc: 0.9910\n",
      "Epoch 47/50\n",
      "31/31 [==============================] - 4s 129ms/step - loss: 0.0527 - acc: 0.9818 - val_loss: 0.1417 - val_acc: 0.9550\n",
      "Epoch 48/50\n",
      "31/31 [==============================] - 4s 113ms/step - loss: 0.0608 - acc: 0.9778 - val_loss: 0.1792 - val_acc: 0.9369\n",
      "Epoch 49/50\n",
      "31/31 [==============================] - 4s 131ms/step - loss: 0.0594 - acc: 0.9818 - val_loss: 0.1402 - val_acc: 0.9554\n",
      "Epoch 50/50\n",
      "31/31 [==============================] - 4s 143ms/step - loss: 0.0477 - acc: 0.9879 - val_loss: 0.1150 - val_acc: 0.9640\n",
      "Model: \"model_1\"\n",
      "_________________________________________________________________\n",
      "Layer (type)                 Output Shape              Param #   \n",
      "=================================================================\n",
      "input_1 (InputLayer)         (None, 150, 150, 3)       0         \n",
      "_________________________________________________________________\n",
      "block1_conv1 (Conv2D)        (None, 150, 150, 64)      1792      \n",
      "_________________________________________________________________\n",
      "block1_conv2 (Conv2D)        (None, 150, 150, 64)      36928     \n",
      "_________________________________________________________________\n",
      "block1_pool (MaxPooling2D)   (None, 75, 75, 64)        0         \n",
      "_________________________________________________________________\n",
      "block2_conv1 (Conv2D)        (None, 75, 75, 128)       73856     \n",
      "_________________________________________________________________\n",
      "block2_conv2 (Conv2D)        (None, 75, 75, 128)       147584    \n",
      "_________________________________________________________________\n",
      "block2_pool (MaxPooling2D)   (None, 37, 37, 128)       0         \n",
      "_________________________________________________________________\n",
      "block3_conv1 (Conv2D)        (None, 37, 37, 256)       295168    \n",
      "_________________________________________________________________\n",
      "block3_conv2 (Conv2D)        (None, 37, 37, 256)       590080    \n",
      "_________________________________________________________________\n",
      "block3_conv3 (Conv2D)        (None, 37, 37, 256)       590080    \n",
      "_________________________________________________________________\n",
      "block3_pool (MaxPooling2D)   (None, 18, 18, 256)       0         \n",
      "_________________________________________________________________\n",
      "block4_conv1 (Conv2D)        (None, 18, 18, 512)       1180160   \n",
      "_________________________________________________________________\n",
      "block4_conv2 (Conv2D)        (None, 18, 18, 512)       2359808   \n",
      "_________________________________________________________________\n",
      "block4_conv3 (Conv2D)        (None, 18, 18, 512)       2359808   \n",
      "_________________________________________________________________\n",
      "block4_pool (MaxPooling2D)   (None, 9, 9, 512)         0         \n",
      "_________________________________________________________________\n",
      "block5_conv1 (Conv2D)        (None, 9, 9, 512)         2359808   \n",
      "_________________________________________________________________\n",
      "block5_conv2 (Conv2D)        (None, 9, 9, 512)         2359808   \n",
      "_________________________________________________________________\n",
      "block5_conv3 (Conv2D)        (None, 9, 9, 512)         2359808   \n",
      "_________________________________________________________________\n",
      "block5_pool (MaxPooling2D)   (None, 4, 4, 512)         0         \n",
      "_________________________________________________________________\n",
      "sequential_1 (Sequential)    (None, 1)                 2097665   \n",
      "=================================================================\n",
      "Total params: 16,812,353\n",
      "Trainable params: 9,177,089\n",
      "Non-trainable params: 7,635,264\n",
      "_________________________________________________________________\n"
     ]
    }
   ],
   "source": [
    "model_history = fine_tune_model(train_df, test_df,50,16,'eyewear')"
   ]
  },
  {
   "cell_type": "code",
   "execution_count": 6,
   "metadata": {},
   "outputs": [
    {
     "name": "stdout",
     "output_type": "stream",
     "text": [
      "highest test accuracy: 0.990990990990991\n",
      "------------------\n",
      "highest train accuracy: 0.9879032258064516\n"
     ]
    }
   ],
   "source": [
    "highest_val_acc, highest_train_acc = max(model_history.history['val_acc']), max(model_history.history['acc'])\n",
    "print(f'highest test accuracy: {highest_val_acc}')\n",
    "print('------------------')\n",
    "print(f'highest train accuracy: {highest_train_acc}')"
   ]
  },
  {
   "cell_type": "code",
   "execution_count": 11,
   "metadata": {},
   "outputs": [
    {
     "name": "stdout",
     "output_type": "stream",
     "text": [
      "lowest test loss: 0.0580780416525699\n",
      "------------------\n",
      "lowest train loss: 0.055970603133530826\n"
     ]
    }
   ],
   "source": [
    "lowest_val_loss, lowest_train_loss = min(model_history.history['val_loss']), min(model_history.history['loss'])\n",
    "print(f'lowest test loss: {lowest_val_loss}')\n",
    "print('------------------')\n",
    "print(f'lowest train loss: {lowest_train_loss}')"
   ]
  },
  {
   "cell_type": "code",
   "execution_count": 12,
   "metadata": {},
   "outputs": [
    {
     "data": {
      "image/png": "[encoded data removed]",
      "text/plain": [
       "<Figure size 432x288 with 1 Axes>"
      ]
     },
     "metadata": {
      "needs_background": "light"
     },
     "output_type": "display_data"
    }
   ],
   "source": [
    "plt.plot(model_history.history['val_acc'], color = 'red', label = 'test')\n",
    "plt.plot(model_history.history['acc'], color = 'blue', label = 'train')\n",
    "plt.title('accuracy')\n",
    "plt.ylabel('accuracy')\n",
    "plt.legend()\n",
    "plt.show()"
   ]
  },
  {
   "cell_type": "code",
   "execution_count": 13,
   "metadata": {},
   "outputs": [
    {
     "data": {
      "image/png": "[encoded data removed]",
      "text/plain": [
       "<Figure size 432x288 with 1 Axes>"
      ]
     },
     "metadata": {
      "needs_background": "light"
     },
     "output_type": "display_data"
    }
   ],
   "source": [
    "plt.plot(model_history.history['val_loss'], color = 'red', label = 'test')\n",
    "plt.plot(model_history.history['loss'], color = 'blue', label = 'train')\n",
    "plt.title('loss')\n",
    "plt.ylabel('loss')\n",
    "plt.legend()\n",
    "plt.show()"
   ]
  }
 ],
 "metadata": {
  "kernelspec": {
   "display_name": "Python 3",
   "language": "python",
   "name": "python3"
  },
  "language_info": {
   "codemirror_mode": {
    "name": "ipython",
    "version": 3
   },
   "file_extension": ".py",
   "mimetype": "text/x-python",
   "name": "python",
   "nbconvert_exporter": "python",
   "pygments_lexer": "ipython3",
   "version": "3.7.3"
  }
 },
 "nbformat": 4,
 "nbformat_minor": 2
}
