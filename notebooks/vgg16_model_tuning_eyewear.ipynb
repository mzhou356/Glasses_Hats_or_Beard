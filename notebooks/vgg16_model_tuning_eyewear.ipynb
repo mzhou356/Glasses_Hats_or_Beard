{
 "cells": [
  {
   "cell_type": "markdown",
   "metadata": {},
   "source": [
    "## Transfer Learning Tuning_EyeWear:\n",
    "  * model parameter and other information can be found below:\n",
    "     * [source](https://blog.keras.io/building-powerful-image-classification-models-using-very-little-data.html)\n",
    "     \n",
    "  * base_model: use vgg16 and freeze at bottleneck layer (stop right before flatten layer) \n",
    "  * top_model: tune dense layers (parameters are inspired by source)\n",
    "     * batch_size 16 seems to work best for small data set \n",
    "     \n",
    "  * extra blog source for callbacks and saving models:\n",
    "  \n",
    "  [call_backs for best weights](https://machinelearningmastery.com/check-point-deep-learning-models-keras/)\n",
    "  \n",
    "  [saving models](https://machinelearningmastery.com/save-load-keras-deep-learning-models/)\n",
    "\n",
    "##### warnings: due to the order of my dataframe, the first entry is not_eyewear, class predict 1 == has no eyewear\n",
    "  \n",
    "---\n",
    "#### This cell is required in order to use GPU for running the model "
   ]
  },
  {
   "cell_type": "code",
   "execution_count": 1,
   "metadata": {},
   "outputs": [
    {
     "name": "stderr",
     "output_type": "stream",
     "text": [
      "Using TensorFlow backend.\n",
      "WARNING: Logging before flag parsing goes to stderr.\n",
      "W0903 23:35:51.254983 140352952510272 deprecation_wrapper.py:119] From /home/mindy/anaconda3/lib/python3.7/site-packages/keras/backend/tensorflow_backend.py:190: The name tf.get_default_session is deprecated. Please use tf.compat.v1.get_default_session instead.\n",
      "\n",
      "W0903 23:35:51.255878 140352952510272 deprecation_wrapper.py:119] From /home/mindy/anaconda3/lib/python3.7/site-packages/keras/backend/tensorflow_backend.py:207: The name tf.global_variables is deprecated. Please use tf.compat.v1.global_variables instead.\n",
      "\n"
     ]
    }
   ],
   "source": [
    "import warnings\n",
    "warnings.filterwarnings('ignore')\n",
    "import tensorflow as tf\n",
    "import keras\n",
    "from keras.backend.tensorflow_backend import set_session\n",
    "config = tf.ConfigProto()\n",
    "config.gpu_options.allow_growth = True  # dynamically grow the memory used on the GPU\n",
    "config.log_device_placement = True  # to log device placement (on which device the operation ran)\n",
    "                                    # (nothing gets printed in Jupyter, only if you run it standalone)\n",
    "sess = tf.Session(config=config)\n",
    "set_session(sess)  # set this TensorFlow session as the default session for Keras\n",
    "keras.backend.get_session().run(tf.global_variables_initializer())  "
   ]
  },
  {
   "cell_type": "markdown",
   "metadata": {},
   "source": [
    "---\n",
    "#### Import necessary libraries"
   ]
  },
  {
   "cell_type": "code",
   "execution_count": 2,
   "metadata": {},
   "outputs": [],
   "source": [
    "import pandas as pd\n",
    "import sys\n",
    "import numpy as np\n",
    "import matplotlib.pyplot as plt\n",
    "%matplotlib inline\n",
    "from keras_preprocessing.image import ImageDataGenerator\n",
    "from keras.models import Sequential, Model, model_from_json\n",
    "from keras.layers import Dropout, Flatten, Dense\n",
    "from keras.applications.vgg16 import VGG16\n",
    "from keras import optimizers\n",
    "from keras.models import model_from_json\n",
    "from keras.callbacks import ModelCheckpoint\n",
    "from sklearn.metrics import confusion_matrix, classification_report, roc_curve, roc_auc_score"
   ]
  },
  {
   "cell_type": "code",
   "execution_count": 3,
   "metadata": {},
   "outputs": [],
   "source": [
    "%load_ext autoreload\n",
    "%autoreload 1\n",
    "\n",
    "sys.path.append(\"../python_files/\")\n",
    "\n",
    "import vgg16_preprocess\n",
    "\n",
    "\n",
    "%aimport vgg16_preprocess\n"
   ]
  },
  {
   "cell_type": "markdown",
   "metadata": {},
   "source": [
    "---\n",
    "#### Import train_df and test_df for eyewears"
   ]
  },
  {
   "cell_type": "code",
   "execution_count": 4,
   "metadata": {},
   "outputs": [],
   "source": [
    "def load_df(label):\n",
    "    '''\n",
    "    label: eyewear,beard, or hat a string\n",
    "    return train and test df \n",
    "    '''\n",
    "    if label == 'eyewear':\n",
    "        train_df = pd.read_pickle('../pickle_files/train_df_glasses.pkl')\n",
    "        test_df = pd.read_pickle('../pickle_files/test_df_glasses.pkl')\n",
    "    if label == 'beard':\n",
    "        train_df = pd.read_pickle('../pickle_files/train_df_beard.pkl')\n",
    "        test_df = pd.read_pickle('../pickle_files/test_df_beard.pkl')\n",
    "    if label == 'hat':\n",
    "        train_df = pd.read_pickle('../pickle_files/train_df_hat.pkl')\n",
    "        test_df = pd.read_pickle('../pickle_files/test_df_hat.pkl')\n",
    "    return train_df, test_df     "
   ]
  },
  {
   "cell_type": "code",
   "execution_count": 20,
   "metadata": {
    "scrolled": true
   },
   "outputs": [
    {
     "data": {
      "text/html": [
       "<div>\n",
       "<style scoped>\n",
       "    .dataframe tbody tr th:only-of-type {\n",
       "        vertical-align: middle;\n",
       "    }\n",
       "\n",
       "    .dataframe tbody tr th {\n",
       "        vertical-align: top;\n",
       "    }\n",
       "\n",
       "    .dataframe thead th {\n",
       "        text-align: right;\n",
       "    }\n",
       "</style>\n",
       "<table border=\"1\" class=\"dataframe\">\n",
       "  <thead>\n",
       "    <tr style=\"text-align: right;\">\n",
       "      <th></th>\n",
       "      <th>pic_id</th>\n",
       "      <th>hat</th>\n",
       "    </tr>\n",
       "  </thead>\n",
       "  <tbody>\n",
       "    <tr>\n",
       "      <th>228</th>\n",
       "      <td>01047.jpg</td>\n",
       "      <td>hat</td>\n",
       "    </tr>\n",
       "    <tr>\n",
       "      <th>412</th>\n",
       "      <td>00331.jpg</td>\n",
       "      <td>not_hat</td>\n",
       "    </tr>\n",
       "    <tr>\n",
       "      <th>448</th>\n",
       "      <td>01194.jpg</td>\n",
       "      <td>not_hat</td>\n",
       "    </tr>\n",
       "    <tr>\n",
       "      <th>1</th>\n",
       "      <td>00109.jpg</td>\n",
       "      <td>hat</td>\n",
       "    </tr>\n",
       "    <tr>\n",
       "      <th>185</th>\n",
       "      <td>00992.jpg</td>\n",
       "      <td>hat</td>\n",
       "    </tr>\n",
       "  </tbody>\n",
       "</table>\n",
       "</div>"
      ],
      "text/plain": [
       "        pic_id      hat\n",
       "228  01047.jpg      hat\n",
       "412  00331.jpg  not_hat\n",
       "448  01194.jpg  not_hat\n",
       "1    00109.jpg      hat\n",
       "185  00992.jpg      hat"
      ]
     },
     "execution_count": 20,
     "metadata": {},
     "output_type": "execute_result"
    }
   ],
   "source": [
    "train_df, test_df = load_df('hat')\n",
    "train_df.head()"
   ]
  },
  {
   "cell_type": "markdown",
   "metadata": {},
   "source": [
    "#### Get bottleneck features to tune top models"
   ]
  },
  {
   "cell_type": "code",
   "execution_count": 21,
   "metadata": {},
   "outputs": [],
   "source": [
    "def save_bottleneck_features(train_df, test_df, label, batch_size):\n",
    "    '''\n",
    "    inputs:\n",
    "    train_df, test_df: train and test dataframes saved in pickle_files folder\n",
    "    label: a string, eyewear, hat, or beard\n",
    "    batch_size: process images in batches\n",
    "    outputs:\n",
    "    saves bottleneck features inside folder tuning_data as npy file\n",
    "    '''\n",
    "    # intialize the vgg16 model \n",
    "    # make sure not to train the top layers \n",
    "    base_model = VGG16(weights = 'imagenet', include_top = False)\n",
    "    # create train_generator and test_generator to get bottleneck inputs for train and test df \n",
    "    traingen = ImageDataGenerator(\n",
    "        rescale=1./255,\n",
    "        zoom_range= [0.8,1.7],\n",
    "        shear_range=0.2,\n",
    "        rotation_range = 40,\n",
    "        width_shift_range=0.2,\n",
    "        height_shift_range=0.2,\n",
    "        horizontal_flip=True,\n",
    "        preprocessing_function=vgg16_preprocess.preprocess_input\n",
    "    ) # add reprocess to prevent overfitting \n",
    "    # make sure shuffle is False so we know the label follows the sequence of the dataframe \n",
    "    # so we can tune top_model \n",
    "    train_generator = traingen.flow_from_dataframe(\n",
    "    dataframe=train_df,\n",
    "    directory='../data/pics',\n",
    "    x_col='pic_id',\n",
    "    y_col=label,\n",
    "    batch_size=batch_size,\n",
    "    shuffle = False,\n",
    "    target_size=(150,150),\n",
    "    class_mode = None)\n",
    "    # get features saved as .npy in tunign_data folder \n",
    "    bottleneck_features_train = base_model.predict_generator(\n",
    "        train_generator, train_df.shape[0]//batch_size\n",
    "    )\n",
    "    np.save(open(f'../tuning_data/VGG_16_tuning/bottleneck_features_train_{label}_custom_preprocess_150.npy','wb'),\n",
    "           bottleneck_features_train)\n",
    "    testgen = ImageDataGenerator(\n",
    "        rescale = 1./255,\n",
    "        preprocessing_function=vgg16_preprocess.preprocess_input)\n",
    "    test_generator = testgen.flow_from_dataframe(\n",
    "    dataframe=test_df,\n",
    "    directory='../data/pics',\n",
    "    x_col='pic_id',\n",
    "    y_col=label,\n",
    "    batch_size=batch_size,\n",
    "    shuffle = False,\n",
    "    target_size=(150,150),  # change to default input size \n",
    "    class_mode = None)\n",
    "    bottleneck_features_test = base_model.predict_generator(\n",
    "        test_generator, test_df.shape[0]//batch_size)\n",
    "    np.save(open(f'../tuning_data/VGG_16_tuning/bottleneck_features_test_{label}_custom_preprocess_150.npy','wb'),\n",
    "           bottleneck_features_test)"
   ]
  },
  {
   "cell_type": "markdown",
   "metadata": {},
   "source": [
    "#### Save bottleneck_features"
   ]
  },
  {
   "cell_type": "code",
   "execution_count": 22,
   "metadata": {
    "scrolled": false
   },
   "outputs": [
    {
     "name": "stdout",
     "output_type": "stream",
     "text": [
      "Found 408 validated image filenames.\n",
      "Found 102 validated image filenames.\n"
     ]
    }
   ],
   "source": [
    "save_bottleneck_features(train_df,test_df,'hat',16)"
   ]
  },
  {
   "cell_type": "markdown",
   "metadata": {},
   "source": [
    "### Quick tuning of top models "
   ]
  },
  {
   "cell_type": "code",
   "execution_count": 23,
   "metadata": {},
   "outputs": [],
   "source": [
    "def train_top_model(train_df, test_df, epoch, batch_size, label):\n",
    "    '''\n",
    "    inputs:\n",
    "    train_df, test_df: dataframes saved in pickle_files to generate train and test labels \n",
    "    epoch: num of epochs in fit \n",
    "    batch_size: same as image generator batch size \n",
    "    label: a string, eyewear, hat, or beard\n",
    "    output:\n",
    "    saves model weights in a folder \n",
    "    '''\n",
    "    train_data = np.load(open(f'../tuning_data/VGG_16_tuning/bottleneck_features_train_{label}_custom_preprocess_150.npy','rb'))\n",
    "    # make sure train_data and train_label have same num of samples\n",
    "    train_label = np.array(train_df[label].map({'not_'+label:0, label:1}))[:-(train_df.shape[0]%batch_size)]\n",
    "    \n",
    "    test_data = np.load(open(f'../tuning_data/VGG_16_tuning/bottleneck_features_test_{label}_custom_preprocess_150.npy','rb'))\n",
    "    test_label = np.array(test_df[label].map({'not_'+label:0, label:1}))[:-(test_df.shape[0]%batch_size)]\n",
    "    \n",
    "    # build top model\n",
    "    model = Sequential()\n",
    "    model.add(Flatten(input_shape=train_data.shape[1:]))\n",
    "    model.add(Dense(256, activation='relu'))\n",
    "    model.add(Dropout(0.5))\n",
    "    model.add(Dense(1, activation='sigmoid'))\n",
    "    \n",
    "    model.compile(optimizer= optimizers.Adam(),\n",
    "                 loss='binary_crossentropy',\n",
    "                 metrics=['accuracy'])\n",
    "    \n",
    "    # checkpoint for best weights \n",
    "    filepath=f\"../tuning_data/VGG_16_tuning/best_bottleneck_vgg16_model_{label}_custom_preprocess_150.h5\"\n",
    "    checkpoint = ModelCheckpoint(filepath, monitor='val_acc', verbose=1, save_best_only=True, mode='max')\n",
    "    callbacks_list = [checkpoint]\n",
    "    \n",
    "    model.fit(train_data, train_label,\n",
    "             epochs=epoch,\n",
    "             batch_size=batch_size,\n",
    "             validation_data=(test_data,test_label),\n",
    "             callbacks=callbacks_list)\n",
    "    del model\n",
    "    keras.backend.clear_session()"
   ]
  },
  {
   "cell_type": "markdown",
   "metadata": {},
   "source": [
    "#### run train_top_model and save results in tuning_data"
   ]
  },
  {
   "cell_type": "code",
   "execution_count": 24,
   "metadata": {
    "scrolled": false
   },
   "outputs": [
    {
     "name": "stdout",
     "output_type": "stream",
     "text": [
      "Train on 400 samples, validate on 96 samples\n",
      "Epoch 1/50\n",
      "400/400 [==============================] - 0s 831us/step - loss: 0.9146 - acc: 0.6050 - val_loss: 0.6452 - val_acc: 0.7083\n",
      "\n",
      "Epoch 00001: val_acc improved from -inf to 0.70833, saving model to ../tuning_data/VGG_16_tuning/best_bottleneck_vgg16_model_hat_custom_preprocess_150.h5\n",
      "Epoch 2/50\n",
      "400/400 [==============================] - 0s 228us/step - loss: 0.3477 - acc: 0.8400 - val_loss: 0.3133 - val_acc: 0.8854\n",
      "\n",
      "Epoch 00002: val_acc improved from 0.70833 to 0.88542, saving model to ../tuning_data/VGG_16_tuning/best_bottleneck_vgg16_model_hat_custom_preprocess_150.h5\n",
      "Epoch 3/50\n",
      "400/400 [==============================] - 0s 225us/step - loss: 0.2385 - acc: 0.9075 - val_loss: 0.4469 - val_acc: 0.8333\n",
      "\n",
      "Epoch 00003: val_acc did not improve from 0.88542\n",
      "Epoch 4/50\n",
      "400/400 [==============================] - 0s 235us/step - loss: 0.1588 - acc: 0.9575 - val_loss: 0.2903 - val_acc: 0.8958\n",
      "\n",
      "Epoch 00004: val_acc improved from 0.88542 to 0.89583, saving model to ../tuning_data/VGG_16_tuning/best_bottleneck_vgg16_model_hat_custom_preprocess_150.h5\n",
      "Epoch 5/50\n",
      "400/400 [==============================] - 0s 237us/step - loss: 0.1302 - acc: 0.9375 - val_loss: 0.4870 - val_acc: 0.8542\n",
      "\n",
      "Epoch 00005: val_acc did not improve from 0.89583\n",
      "Epoch 6/50\n",
      "400/400 [==============================] - 0s 233us/step - loss: 0.1009 - acc: 0.9600 - val_loss: 0.2998 - val_acc: 0.8854\n",
      "\n",
      "Epoch 00006: val_acc did not improve from 0.89583\n",
      "Epoch 7/50\n",
      "400/400 [==============================] - 0s 218us/step - loss: 0.0760 - acc: 0.9700 - val_loss: 0.3616 - val_acc: 0.8958\n",
      "\n",
      "Epoch 00007: val_acc did not improve from 0.89583\n",
      "Epoch 8/50\n",
      "400/400 [==============================] - 0s 233us/step - loss: 0.0460 - acc: 0.9950 - val_loss: 0.3509 - val_acc: 0.8958\n",
      "\n",
      "Epoch 00008: val_acc did not improve from 0.89583\n",
      "Epoch 9/50\n",
      "400/400 [==============================] - 0s 226us/step - loss: 0.0374 - acc: 0.9875 - val_loss: 0.3497 - val_acc: 0.8854\n",
      "\n",
      "Epoch 00009: val_acc did not improve from 0.89583\n",
      "Epoch 10/50\n",
      "400/400 [==============================] - 0s 233us/step - loss: 0.0211 - acc: 1.0000 - val_loss: 0.3610 - val_acc: 0.8854\n",
      "\n",
      "Epoch 00010: val_acc did not improve from 0.89583\n",
      "Epoch 11/50\n",
      "400/400 [==============================] - 0s 226us/step - loss: 0.0132 - acc: 1.0000 - val_loss: 0.4090 - val_acc: 0.8854\n",
      "\n",
      "Epoch 00011: val_acc did not improve from 0.89583\n",
      "Epoch 12/50\n",
      "400/400 [==============================] - 0s 221us/step - loss: 0.0177 - acc: 0.9975 - val_loss: 0.3506 - val_acc: 0.8854\n",
      "\n",
      "Epoch 00012: val_acc did not improve from 0.89583\n",
      "Epoch 13/50\n",
      "400/400 [==============================] - 0s 232us/step - loss: 0.0162 - acc: 0.9975 - val_loss: 0.3511 - val_acc: 0.8854\n",
      "\n",
      "Epoch 00013: val_acc did not improve from 0.89583\n",
      "Epoch 14/50\n",
      "400/400 [==============================] - 0s 224us/step - loss: 0.0086 - acc: 1.0000 - val_loss: 0.3885 - val_acc: 0.8958\n",
      "\n",
      "Epoch 00014: val_acc did not improve from 0.89583\n",
      "Epoch 15/50\n",
      "400/400 [==============================] - 0s 224us/step - loss: 0.0068 - acc: 1.0000 - val_loss: 0.3797 - val_acc: 0.8854\n",
      "\n",
      "Epoch 00015: val_acc did not improve from 0.89583\n",
      "Epoch 16/50\n",
      "400/400 [==============================] - 0s 229us/step - loss: 0.0089 - acc: 1.0000 - val_loss: 0.3916 - val_acc: 0.8854\n",
      "\n",
      "Epoch 00016: val_acc did not improve from 0.89583\n",
      "Epoch 17/50\n",
      "400/400 [==============================] - 0s 233us/step - loss: 0.0073 - acc: 1.0000 - val_loss: 0.3554 - val_acc: 0.8750\n",
      "\n",
      "Epoch 00017: val_acc did not improve from 0.89583\n",
      "Epoch 18/50\n",
      "400/400 [==============================] - 0s 238us/step - loss: 0.0085 - acc: 1.0000 - val_loss: 0.3821 - val_acc: 0.8958\n",
      "\n",
      "Epoch 00018: val_acc did not improve from 0.89583\n",
      "Epoch 19/50\n",
      "400/400 [==============================] - 0s 234us/step - loss: 0.0059 - acc: 0.9975 - val_loss: 0.3942 - val_acc: 0.8958\n",
      "\n",
      "Epoch 00019: val_acc did not improve from 0.89583\n",
      "Epoch 20/50\n",
      "400/400 [==============================] - 0s 239us/step - loss: 0.0060 - acc: 1.0000 - val_loss: 0.3910 - val_acc: 0.8958\n",
      "\n",
      "Epoch 00020: val_acc did not improve from 0.89583\n",
      "Epoch 21/50\n",
      "400/400 [==============================] - 0s 240us/step - loss: 0.0047 - acc: 1.0000 - val_loss: 0.4368 - val_acc: 0.8958\n",
      "\n",
      "Epoch 00021: val_acc did not improve from 0.89583\n",
      "Epoch 22/50\n",
      "400/400 [==============================] - 0s 229us/step - loss: 0.0045 - acc: 1.0000 - val_loss: 0.4491 - val_acc: 0.8958\n",
      "\n",
      "Epoch 00022: val_acc did not improve from 0.89583\n",
      "Epoch 23/50\n",
      "400/400 [==============================] - 0s 227us/step - loss: 0.0118 - acc: 0.9975 - val_loss: 0.4540 - val_acc: 0.8854\n",
      "\n",
      "Epoch 00023: val_acc did not improve from 0.89583\n",
      "Epoch 24/50\n",
      "400/400 [==============================] - 0s 229us/step - loss: 0.0040 - acc: 1.0000 - val_loss: 0.3550 - val_acc: 0.8854\n",
      "\n",
      "Epoch 00024: val_acc did not improve from 0.89583\n",
      "Epoch 25/50\n",
      "400/400 [==============================] - 0s 239us/step - loss: 0.0029 - acc: 1.0000 - val_loss: 0.3846 - val_acc: 0.8854\n",
      "\n",
      "Epoch 00025: val_acc did not improve from 0.89583\n",
      "Epoch 26/50\n",
      "400/400 [==============================] - 0s 234us/step - loss: 0.0027 - acc: 1.0000 - val_loss: 0.4419 - val_acc: 0.8958\n",
      "\n",
      "Epoch 00026: val_acc did not improve from 0.89583\n",
      "Epoch 27/50\n",
      "400/400 [==============================] - 0s 221us/step - loss: 0.0020 - acc: 1.0000 - val_loss: 0.4141 - val_acc: 0.8854\n",
      "\n",
      "Epoch 00027: val_acc did not improve from 0.89583\n",
      "Epoch 28/50\n",
      "400/400 [==============================] - 0s 232us/step - loss: 0.0023 - acc: 1.0000 - val_loss: 0.4567 - val_acc: 0.8958\n",
      "\n",
      "Epoch 00028: val_acc did not improve from 0.89583\n",
      "Epoch 29/50\n",
      "400/400 [==============================] - 0s 234us/step - loss: 0.0022 - acc: 1.0000 - val_loss: 0.4496 - val_acc: 0.8958\n",
      "\n",
      "Epoch 00029: val_acc did not improve from 0.89583\n",
      "Epoch 30/50\n",
      "400/400 [==============================] - 0s 228us/step - loss: 0.0016 - acc: 1.0000 - val_loss: 0.4781 - val_acc: 0.8958\n",
      "\n",
      "Epoch 00030: val_acc did not improve from 0.89583\n",
      "Epoch 31/50\n",
      "400/400 [==============================] - 0s 226us/step - loss: 0.0013 - acc: 1.0000 - val_loss: 0.4614 - val_acc: 0.8958\n",
      "\n",
      "Epoch 00031: val_acc did not improve from 0.89583\n",
      "Epoch 32/50\n",
      "400/400 [==============================] - 0s 217us/step - loss: 0.0016 - acc: 1.0000 - val_loss: 0.4731 - val_acc: 0.8958\n",
      "\n",
      "Epoch 00032: val_acc did not improve from 0.89583\n",
      "Epoch 33/50\n",
      "400/400 [==============================] - 0s 228us/step - loss: 0.0018 - acc: 1.0000 - val_loss: 0.4379 - val_acc: 0.8854\n",
      "\n",
      "Epoch 00033: val_acc did not improve from 0.89583\n",
      "Epoch 34/50\n",
      "400/400 [==============================] - 0s 224us/step - loss: 0.0018 - acc: 1.0000 - val_loss: 0.4429 - val_acc: 0.8854\n",
      "\n",
      "Epoch 00034: val_acc did not improve from 0.89583\n",
      "Epoch 35/50\n",
      "400/400 [==============================] - 0s 231us/step - loss: 0.0027 - acc: 1.0000 - val_loss: 0.4265 - val_acc: 0.8958\n",
      "\n",
      "Epoch 00035: val_acc did not improve from 0.89583\n",
      "Epoch 36/50\n",
      "400/400 [==============================] - 0s 218us/step - loss: 0.0028 - acc: 1.0000 - val_loss: 0.5620 - val_acc: 0.8854\n",
      "\n",
      "Epoch 00036: val_acc did not improve from 0.89583\n",
      "Epoch 37/50\n",
      "400/400 [==============================] - 0s 227us/step - loss: 0.0017 - acc: 1.0000 - val_loss: 0.4876 - val_acc: 0.8958\n",
      "\n",
      "Epoch 00037: val_acc did not improve from 0.89583\n",
      "Epoch 38/50\n",
      "400/400 [==============================] - 0s 214us/step - loss: 0.0012 - acc: 1.0000 - val_loss: 0.5362 - val_acc: 0.8854\n",
      "\n",
      "Epoch 00038: val_acc did not improve from 0.89583\n",
      "Epoch 39/50\n",
      "400/400 [==============================] - 0s 227us/step - loss: 0.0010 - acc: 1.0000 - val_loss: 0.5036 - val_acc: 0.8958\n",
      "\n",
      "Epoch 00039: val_acc did not improve from 0.89583\n",
      "Epoch 40/50\n",
      "400/400 [==============================] - 0s 216us/step - loss: 0.0015 - acc: 1.0000 - val_loss: 0.5461 - val_acc: 0.8854\n",
      "\n",
      "Epoch 00040: val_acc did not improve from 0.89583\n",
      "Epoch 41/50\n",
      "400/400 [==============================] - 0s 229us/step - loss: 0.0010 - acc: 1.0000 - val_loss: 0.5427 - val_acc: 0.8854\n",
      "\n",
      "Epoch 00041: val_acc did not improve from 0.89583\n",
      "Epoch 42/50\n",
      "400/400 [==============================] - 0s 232us/step - loss: 0.0010 - acc: 1.0000 - val_loss: 0.5213 - val_acc: 0.8854\n",
      "\n",
      "Epoch 00042: val_acc did not improve from 0.89583\n",
      "Epoch 43/50\n"
     ]
    },
    {
     "name": "stdout",
     "output_type": "stream",
     "text": [
      "400/400 [==============================] - 0s 225us/step - loss: 0.0014 - acc: 1.0000 - val_loss: 0.4568 - val_acc: 0.8958\n",
      "\n",
      "Epoch 00043: val_acc did not improve from 0.89583\n",
      "Epoch 44/50\n",
      "400/400 [==============================] - 0s 218us/step - loss: 7.7099e-04 - acc: 1.0000 - val_loss: 0.5213 - val_acc: 0.8854\n",
      "\n",
      "Epoch 00044: val_acc did not improve from 0.89583\n",
      "Epoch 45/50\n",
      "400/400 [==============================] - 0s 223us/step - loss: 8.1203e-04 - acc: 1.0000 - val_loss: 0.5527 - val_acc: 0.8854\n",
      "\n",
      "Epoch 00045: val_acc did not improve from 0.89583\n",
      "Epoch 46/50\n",
      "400/400 [==============================] - 0s 225us/step - loss: 9.2510e-04 - acc: 1.0000 - val_loss: 0.5441 - val_acc: 0.8854\n",
      "\n",
      "Epoch 00046: val_acc did not improve from 0.89583\n",
      "Epoch 47/50\n",
      "400/400 [==============================] - 0s 222us/step - loss: 5.0594e-04 - acc: 1.0000 - val_loss: 0.5061 - val_acc: 0.8958\n",
      "\n",
      "Epoch 00047: val_acc did not improve from 0.89583\n",
      "Epoch 48/50\n",
      "400/400 [==============================] - 0s 228us/step - loss: 6.0287e-04 - acc: 1.0000 - val_loss: 0.5404 - val_acc: 0.8958\n",
      "\n",
      "Epoch 00048: val_acc did not improve from 0.89583\n",
      "Epoch 49/50\n",
      "400/400 [==============================] - 0s 234us/step - loss: 7.0024e-04 - acc: 1.0000 - val_loss: 0.5140 - val_acc: 0.8958\n",
      "\n",
      "Epoch 00049: val_acc did not improve from 0.89583\n",
      "Epoch 50/50\n",
      "400/400 [==============================] - 0s 231us/step - loss: 6.3086e-04 - acc: 1.0000 - val_loss: 0.4879 - val_acc: 0.8958\n",
      "\n",
      "Epoch 00050: val_acc did not improve from 0.89583\n"
     ]
    }
   ],
   "source": [
    "train_top_model(train_df, test_df, 50, 16, 'hat')"
   ]
  },
  {
   "cell_type": "markdown",
   "metadata": {},
   "source": [
    "### Fine Tune Top Model to improve accuracy"
   ]
  },
  {
   "cell_type": "code",
   "execution_count": 25,
   "metadata": {},
   "outputs": [],
   "source": [
    "def fine_tune_model(train_df, test_df,epoch, batch_size,label, print_model = True):\n",
    "    # build VGG16 model and freeze top layers\n",
    "    # input_shape: width, height, RGB (from image generator)\n",
    "    model_vgg = VGG16(weights='imagenet',include_top=False, input_shape=(150,150,3))\n",
    "    # build top model\n",
    "    top_model = Sequential()\n",
    "    top_model.add(Flatten(input_shape=model_vgg.output_shape[1:]))\n",
    "    top_model.add(Dense(256,activation='relu'))\n",
    "    top_model.add(Dropout(0.5))\n",
    "    top_model.add(Dense(1, activation='sigmoid'))\n",
    "    \n",
    "    # load saved weights to fine tune parameters \n",
    "    top_model.load_weights(f'../tuning_data/VGG_16_tuning/best_bottleneck_vgg16_model_{label}_custom_preprocess_150.h5')\n",
    "    # add top model to model\n",
    "    model = Model(inputs=model_vgg.input, outputs=top_model(model_vgg.output))\n",
    "    # we will tune last 5 layers of the model: block5 and fully connected layer \n",
    "    for layer in model.layers[:15]:\n",
    "        layer.trainable = False\n",
    "    # we can tune the parameters for lr and momentum later to get better results\n",
    "    model.compile(loss='binary_crossentropy',\n",
    "             optimizer=optimizers.SGD(lr=1e-4, momentum=0.9),\n",
    "             metrics=['accuracy'])\n",
    "    # prepare train generator using data augmentation to battle small sample size \n",
    "    train_gen = ImageDataGenerator(\n",
    "        rescale=1./255,\n",
    "        zoom_range= [0.8,1.7],\n",
    "        shear_range=0.2,\n",
    "        rotation_range = 50,\n",
    "        width_shift_range=0.2,\n",
    "        height_shift_range=0.2,\n",
    "        horizontal_flip=True,\n",
    "        preprocessing_function=vgg16_preprocess.preprocess_input)\n",
    "    # not want to augment the test \n",
    "    test_gen = ImageDataGenerator(\n",
    "            rescale = 1./255,\n",
    "            preprocessing_function=vgg16_preprocess.preprocess_input)\n",
    "    \n",
    "    train_generator =  train_gen.flow_from_dataframe(\n",
    "    dataframe=train_df,\n",
    "    directory='../data/pics',\n",
    "    x_col='pic_id',\n",
    "    y_col=label,\n",
    "    batch_size=batch_size,\n",
    "    target_size=(150,150),\n",
    "    class_mode = 'binary')\n",
    "    \n",
    "    test_generator =  test_gen.flow_from_dataframe(\n",
    "    dataframe=test_df,\n",
    "    directory='../data/pics',\n",
    "    x_col='pic_id',\n",
    "    y_col=label,\n",
    "    batch_size=batch_size,\n",
    "    target_size=(150,150),\n",
    "    class_mode = 'binary')\n",
    "    \n",
    "    # checkpoint for best weights \n",
    "    filepath=f\"../tuning_data/VGG_16_tuning/best_vgg_model_{label}_custom_preprocess_150_customsteps.h5\"\n",
    "    checkpoint = ModelCheckpoint(filepath, monitor='val_acc', verbose=1, save_best_only=True, mode='max')\n",
    "    callbacks_list = [checkpoint]\n",
    "    \n",
    "    # run and fit model \n",
    "    result = model.fit_generator(\n",
    "    train_generator,\n",
    "    steps_per_epoch=100,\n",
    "    epochs=epoch,\n",
    "    validation_data=test_generator,\n",
    "    validation_steps=len(test_df)//batch_size+1,\n",
    "    verbose=1,\n",
    "    callbacks=callbacks_list)\n",
    "    \n",
    "    if print_model:\n",
    "        model.summary()\n",
    "        \n",
    "    del model\n",
    "    keras.backend.clear_session()\n",
    "    \n",
    "    return result      "
   ]
  },
  {
   "cell_type": "markdown",
   "metadata": {},
   "source": [
    "### save model history "
   ]
  },
  {
   "cell_type": "code",
   "execution_count": 26,
   "metadata": {},
   "outputs": [
    {
     "name": "stdout",
     "output_type": "stream",
     "text": [
      "Found 408 validated image filenames belonging to 2 classes.\n",
      "Found 102 validated image filenames belonging to 2 classes.\n",
      "Epoch 1/40\n",
      "100/100 [==============================] - 13s 133ms/step - loss: 0.9617 - acc: 0.3938 - val_loss: 0.7177 - val_acc: 0.3725\n",
      "\n",
      "Epoch 00001: val_acc improved from -inf to 0.37255, saving model to ../tuning_data/VGG_16_tuning/best_vgg_model_hat_custom_preprocess_150_customsteps.h5\n",
      "Epoch 2/40\n",
      "100/100 [==============================] - 13s 126ms/step - loss: 0.7034 - acc: 0.4819 - val_loss: 0.7077 - val_acc: 0.4510\n",
      "\n",
      "Epoch 00002: val_acc improved from 0.37255 to 0.45098, saving model to ../tuning_data/VGG_16_tuning/best_vgg_model_hat_custom_preprocess_150_customsteps.h5\n",
      "Epoch 3/40\n",
      "100/100 [==============================] - 12s 124ms/step - loss: 0.6942 - acc: 0.5225 - val_loss: 0.7053 - val_acc: 0.4608\n",
      "\n",
      "Epoch 00003: val_acc improved from 0.45098 to 0.46078, saving model to ../tuning_data/VGG_16_tuning/best_vgg_model_hat_custom_preprocess_150_customsteps.h5\n",
      "Epoch 4/40\n",
      "100/100 [==============================] - 12s 122ms/step - loss: 0.6877 - acc: 0.5256 - val_loss: 0.7034 - val_acc: 0.4902\n",
      "\n",
      "Epoch 00004: val_acc improved from 0.46078 to 0.49020, saving model to ../tuning_data/VGG_16_tuning/best_vgg_model_hat_custom_preprocess_150_customsteps.h5\n",
      "Epoch 5/40\n",
      "100/100 [==============================] - 12s 125ms/step - loss: 0.6827 - acc: 0.5737 - val_loss: 0.6968 - val_acc: 0.5000\n",
      "\n",
      "Epoch 00005: val_acc improved from 0.49020 to 0.50000, saving model to ../tuning_data/VGG_16_tuning/best_vgg_model_hat_custom_preprocess_150_customsteps.h5\n",
      "Epoch 6/40\n",
      "100/100 [==============================] - 12s 124ms/step - loss: 0.6742 - acc: 0.5813 - val_loss: 0.6914 - val_acc: 0.5490\n",
      "\n",
      "Epoch 00006: val_acc improved from 0.50000 to 0.54902, saving model to ../tuning_data/VGG_16_tuning/best_vgg_model_hat_custom_preprocess_150_customsteps.h5\n",
      "Epoch 7/40\n",
      "100/100 [==============================] - 12s 125ms/step - loss: 0.6594 - acc: 0.6206 - val_loss: 0.6840 - val_acc: 0.5392\n",
      "\n",
      "Epoch 00007: val_acc did not improve from 0.54902\n",
      "Epoch 8/40\n",
      "100/100 [==============================] - 12s 123ms/step - loss: 0.6324 - acc: 0.6775 - val_loss: 0.6703 - val_acc: 0.5784\n",
      "\n",
      "Epoch 00008: val_acc improved from 0.54902 to 0.57843, saving model to ../tuning_data/VGG_16_tuning/best_vgg_model_hat_custom_preprocess_150_customsteps.h5\n",
      "Epoch 9/40\n",
      "100/100 [==============================] - 12s 125ms/step - loss: 0.5874 - acc: 0.7125 - val_loss: 0.6519 - val_acc: 0.6373\n",
      "\n",
      "Epoch 00009: val_acc improved from 0.57843 to 0.63725, saving model to ../tuning_data/VGG_16_tuning/best_vgg_model_hat_custom_preprocess_150_customsteps.h5\n",
      "Epoch 10/40\n",
      "100/100 [==============================] - 12s 124ms/step - loss: 0.5540 - acc: 0.7363 - val_loss: 0.6400 - val_acc: 0.6275\n",
      "\n",
      "Epoch 00010: val_acc did not improve from 0.63725\n",
      "Epoch 11/40\n",
      "100/100 [==============================] - 13s 127ms/step - loss: 0.5009 - acc: 0.7681 - val_loss: 0.5484 - val_acc: 0.6863\n",
      "\n",
      "Epoch 00011: val_acc improved from 0.63725 to 0.68627, saving model to ../tuning_data/VGG_16_tuning/best_vgg_model_hat_custom_preprocess_150_customsteps.h5\n",
      "Epoch 12/40\n",
      "100/100 [==============================] - 12s 123ms/step - loss: 0.4409 - acc: 0.8131 - val_loss: 0.4649 - val_acc: 0.7451\n",
      "\n",
      "Epoch 00012: val_acc improved from 0.68627 to 0.74510, saving model to ../tuning_data/VGG_16_tuning/best_vgg_model_hat_custom_preprocess_150_customsteps.h5\n",
      "Epoch 13/40\n",
      "100/100 [==============================] - 12s 124ms/step - loss: 0.3815 - acc: 0.8481 - val_loss: 0.5323 - val_acc: 0.7353\n",
      "\n",
      "Epoch 00013: val_acc did not improve from 0.74510\n",
      "Epoch 14/40\n",
      "100/100 [==============================] - 13s 126ms/step - loss: 0.3342 - acc: 0.8644 - val_loss: 0.4062 - val_acc: 0.8039\n",
      "\n",
      "Epoch 00014: val_acc improved from 0.74510 to 0.80392, saving model to ../tuning_data/VGG_16_tuning/best_vgg_model_hat_custom_preprocess_150_customsteps.h5\n",
      "Epoch 15/40\n",
      "100/100 [==============================] - 13s 125ms/step - loss: 0.3035 - acc: 0.8819 - val_loss: 0.3248 - val_acc: 0.8627\n",
      "\n",
      "Epoch 00015: val_acc improved from 0.80392 to 0.86275, saving model to ../tuning_data/VGG_16_tuning/best_vgg_model_hat_custom_preprocess_150_customsteps.h5\n",
      "Epoch 16/40\n",
      "100/100 [==============================] - 12s 123ms/step - loss: 0.2953 - acc: 0.8731 - val_loss: 0.3113 - val_acc: 0.8529\n",
      "\n",
      "Epoch 00016: val_acc did not improve from 0.86275\n",
      "Epoch 17/40\n",
      "100/100 [==============================] - 13s 125ms/step - loss: 0.2552 - acc: 0.8987 - val_loss: 0.2989 - val_acc: 0.8725\n",
      "\n",
      "Epoch 00017: val_acc improved from 0.86275 to 0.87255, saving model to ../tuning_data/VGG_16_tuning/best_vgg_model_hat_custom_preprocess_150_customsteps.h5\n",
      "Epoch 18/40\n",
      "100/100 [==============================] - 12s 124ms/step - loss: 0.2524 - acc: 0.9013 - val_loss: 0.2903 - val_acc: 0.8824\n",
      "\n",
      "Epoch 00018: val_acc improved from 0.87255 to 0.88235, saving model to ../tuning_data/VGG_16_tuning/best_vgg_model_hat_custom_preprocess_150_customsteps.h5\n",
      "Epoch 19/40\n",
      "100/100 [==============================] - 12s 124ms/step - loss: 0.2413 - acc: 0.9050 - val_loss: 0.3033 - val_acc: 0.8725\n",
      "\n",
      "Epoch 00019: val_acc did not improve from 0.88235\n",
      "Epoch 20/40\n",
      "100/100 [==============================] - 12s 124ms/step - loss: 0.2302 - acc: 0.9106 - val_loss: 0.3535 - val_acc: 0.8431\n",
      "\n",
      "Epoch 00020: val_acc did not improve from 0.88235\n",
      "Epoch 21/40\n",
      "100/100 [==============================] - 13s 126ms/step - loss: 0.2143 - acc: 0.9237 - val_loss: 0.2616 - val_acc: 0.8824\n",
      "\n",
      "Epoch 00021: val_acc did not improve from 0.88235\n",
      "Epoch 22/40\n",
      "100/100 [==============================] - 12s 124ms/step - loss: 0.1806 - acc: 0.9312 - val_loss: 0.2961 - val_acc: 0.9020\n",
      "\n",
      "Epoch 00022: val_acc improved from 0.88235 to 0.90196, saving model to ../tuning_data/VGG_16_tuning/best_vgg_model_hat_custom_preprocess_150_customsteps.h5\n",
      "Epoch 23/40\n",
      "100/100 [==============================] - 12s 125ms/step - loss: 0.1727 - acc: 0.9363 - val_loss: 0.2931 - val_acc: 0.8922\n",
      "\n",
      "Epoch 00023: val_acc did not improve from 0.90196\n",
      "Epoch 24/40\n",
      "100/100 [==============================] - 12s 123ms/step - loss: 0.1842 - acc: 0.9306 - val_loss: 0.2637 - val_acc: 0.8725\n",
      "\n",
      "Epoch 00024: val_acc did not improve from 0.90196\n",
      "Epoch 25/40\n",
      "100/100 [==============================] - 13s 125ms/step - loss: 0.1653 - acc: 0.9394 - val_loss: 0.2467 - val_acc: 0.8922\n",
      "\n",
      "Epoch 00025: val_acc did not improve from 0.90196\n",
      "Epoch 26/40\n",
      "100/100 [==============================] - 12s 125ms/step - loss: 0.1578 - acc: 0.9462 - val_loss: 0.2474 - val_acc: 0.8824\n",
      "\n",
      "Epoch 00026: val_acc did not improve from 0.90196\n",
      "Epoch 27/40\n",
      "100/100 [==============================] - 13s 127ms/step - loss: 0.1417 - acc: 0.9431 - val_loss: 0.3035 - val_acc: 0.8824\n",
      "\n",
      "Epoch 00027: val_acc did not improve from 0.90196\n",
      "Epoch 28/40\n",
      "100/100 [==============================] - 12s 123ms/step - loss: 0.1483 - acc: 0.9437 - val_loss: 0.2540 - val_acc: 0.8627\n",
      "\n",
      "Epoch 00028: val_acc did not improve from 0.90196\n",
      "Epoch 29/40\n",
      "100/100 [==============================] - 12s 123ms/step - loss: 0.1336 - acc: 0.9544 - val_loss: 0.3592 - val_acc: 0.8725\n",
      "\n",
      "Epoch 00029: val_acc did not improve from 0.90196\n",
      "Epoch 30/40\n",
      "100/100 [==============================] - 12s 124ms/step - loss: 0.1353 - acc: 0.9456 - val_loss: 0.2401 - val_acc: 0.8922\n",
      "\n",
      "Epoch 00030: val_acc did not improve from 0.90196\n",
      "Epoch 31/40\n",
      "100/100 [==============================] - 12s 123ms/step - loss: 0.1080 - acc: 0.9625 - val_loss: 0.3697 - val_acc: 0.8725\n",
      "\n",
      "Epoch 00031: val_acc did not improve from 0.90196\n",
      "Epoch 32/40\n",
      "100/100 [==============================] - 12s 125ms/step - loss: 0.1293 - acc: 0.9487 - val_loss: 0.2562 - val_acc: 0.9118\n",
      "\n",
      "Epoch 00032: val_acc improved from 0.90196 to 0.91176, saving model to ../tuning_data/VGG_16_tuning/best_vgg_model_hat_custom_preprocess_150_customsteps.h5\n",
      "Epoch 33/40\n",
      "100/100 [==============================] - 12s 125ms/step - loss: 0.1180 - acc: 0.9600 - val_loss: 0.2616 - val_acc: 0.9020\n",
      "\n",
      "Epoch 00033: val_acc did not improve from 0.91176\n",
      "Epoch 34/40\n",
      "100/100 [==============================] - 13s 127ms/step - loss: 0.1100 - acc: 0.9631 - val_loss: 0.2566 - val_acc: 0.9020\n",
      "\n",
      "Epoch 00034: val_acc did not improve from 0.91176\n",
      "Epoch 35/40\n"
     ]
    },
    {
     "name": "stdout",
     "output_type": "stream",
     "text": [
      "100/100 [==============================] - 12s 125ms/step - loss: 0.0825 - acc: 0.9719 - val_loss: 0.2693 - val_acc: 0.9118\n",
      "\n",
      "Epoch 00035: val_acc did not improve from 0.91176\n",
      "Epoch 36/40\n",
      "100/100 [==============================] - 13s 125ms/step - loss: 0.1192 - acc: 0.9569 - val_loss: 0.3450 - val_acc: 0.9020\n",
      "\n",
      "Epoch 00036: val_acc did not improve from 0.91176\n",
      "Epoch 37/40\n",
      "100/100 [==============================] - 12s 124ms/step - loss: 0.0968 - acc: 0.9713 - val_loss: 0.4423 - val_acc: 0.8824\n",
      "\n",
      "Epoch 00037: val_acc did not improve from 0.91176\n",
      "Epoch 38/40\n",
      "100/100 [==============================] - 12s 125ms/step - loss: 0.0997 - acc: 0.9650 - val_loss: 0.2405 - val_acc: 0.9118\n",
      "\n",
      "Epoch 00038: val_acc did not improve from 0.91176\n",
      "Epoch 39/40\n",
      "100/100 [==============================] - 12s 123ms/step - loss: 0.1110 - acc: 0.9588 - val_loss: 0.3040 - val_acc: 0.9020\n",
      "\n",
      "Epoch 00039: val_acc did not improve from 0.91176\n",
      "Epoch 40/40\n",
      "100/100 [==============================] - 13s 126ms/step - loss: 0.1018 - acc: 0.9662 - val_loss: 0.2464 - val_acc: 0.9020\n",
      "\n",
      "Epoch 00040: val_acc did not improve from 0.91176\n",
      "Model: \"model_1\"\n",
      "_________________________________________________________________\n",
      "Layer (type)                 Output Shape              Param #   \n",
      "=================================================================\n",
      "input_1 (InputLayer)         (None, 150, 150, 3)       0         \n",
      "_________________________________________________________________\n",
      "block1_conv1 (Conv2D)        (None, 150, 150, 64)      1792      \n",
      "_________________________________________________________________\n",
      "block1_conv2 (Conv2D)        (None, 150, 150, 64)      36928     \n",
      "_________________________________________________________________\n",
      "block1_pool (MaxPooling2D)   (None, 75, 75, 64)        0         \n",
      "_________________________________________________________________\n",
      "block2_conv1 (Conv2D)        (None, 75, 75, 128)       73856     \n",
      "_________________________________________________________________\n",
      "block2_conv2 (Conv2D)        (None, 75, 75, 128)       147584    \n",
      "_________________________________________________________________\n",
      "block2_pool (MaxPooling2D)   (None, 37, 37, 128)       0         \n",
      "_________________________________________________________________\n",
      "block3_conv1 (Conv2D)        (None, 37, 37, 256)       295168    \n",
      "_________________________________________________________________\n",
      "block3_conv2 (Conv2D)        (None, 37, 37, 256)       590080    \n",
      "_________________________________________________________________\n",
      "block3_conv3 (Conv2D)        (None, 37, 37, 256)       590080    \n",
      "_________________________________________________________________\n",
      "block3_pool (MaxPooling2D)   (None, 18, 18, 256)       0         \n",
      "_________________________________________________________________\n",
      "block4_conv1 (Conv2D)        (None, 18, 18, 512)       1180160   \n",
      "_________________________________________________________________\n",
      "block4_conv2 (Conv2D)        (None, 18, 18, 512)       2359808   \n",
      "_________________________________________________________________\n",
      "block4_conv3 (Conv2D)        (None, 18, 18, 512)       2359808   \n",
      "_________________________________________________________________\n",
      "block4_pool (MaxPooling2D)   (None, 9, 9, 512)         0         \n",
      "_________________________________________________________________\n",
      "block5_conv1 (Conv2D)        (None, 9, 9, 512)         2359808   \n",
      "_________________________________________________________________\n",
      "block5_conv2 (Conv2D)        (None, 9, 9, 512)         2359808   \n",
      "_________________________________________________________________\n",
      "block5_conv3 (Conv2D)        (None, 9, 9, 512)         2359808   \n",
      "_________________________________________________________________\n",
      "block5_pool (MaxPooling2D)   (None, 4, 4, 512)         0         \n",
      "_________________________________________________________________\n",
      "sequential_1 (Sequential)    (None, 1)                 2097665   \n",
      "=================================================================\n",
      "Total params: 16,812,353\n",
      "Trainable params: 9,177,089\n",
      "Non-trainable params: 7,635,264\n",
      "_________________________________________________________________\n"
     ]
    }
   ],
   "source": [
    "model_history = fine_tune_model(train_df, test_df,40,16,'hat')"
   ]
  },
  {
   "cell_type": "code",
   "execution_count": 28,
   "metadata": {},
   "outputs": [
    {
     "name": "stdout",
     "output_type": "stream",
     "text": [
      "highest test accuracy: 0.9117647058823529\n",
      "------------------\n",
      "highest train accuracy: 0.9720812182741116\n"
     ]
    }
   ],
   "source": [
    "highest_val_acc, highest_train_acc = max(model_history.history['val_acc']), max(model_history.history['acc'])\n",
    "print(f'highest test accuracy: {highest_val_acc}')\n",
    "print('------------------')\n",
    "print(f'highest train accuracy: {highest_train_acc}')"
   ]
  },
  {
   "cell_type": "code",
   "execution_count": 29,
   "metadata": {},
   "outputs": [
    {
     "name": "stdout",
     "output_type": "stream",
     "text": [
      "lowest test loss: 0.24009367692119934\n",
      "------------------\n",
      "lowest train loss: 0.08244068969778603\n"
     ]
    }
   ],
   "source": [
    "lowest_val_loss, lowest_train_loss = min(model_history.history['val_loss']), min(model_history.history['loss'])\n",
    "print(f'lowest test loss: {lowest_val_loss}')\n",
    "print('------------------')\n",
    "print(f'lowest train loss: {lowest_train_loss}')"
   ]
  },
  {
   "cell_type": "code",
   "execution_count": 30,
   "metadata": {},
   "outputs": [
    {
     "data": {
      "image/png": "[encoded data removed]",
      "text/plain": [
       "<Figure size 432x288 with 1 Axes>"
      ]
     },
     "metadata": {
      "needs_background": "light"
     },
     "output_type": "display_data"
    }
   ],
   "source": [
    "plt.plot(model_history.history['val_acc'], color = 'red', label = 'test')\n",
    "plt.plot(model_history.history['acc'], color = 'blue', label = 'train')\n",
    "plt.title('accuracy')\n",
    "plt.ylabel('accuracy')\n",
    "plt.legend()\n",
    "plt.show()"
   ]
  },
  {
   "cell_type": "code",
   "execution_count": 31,
   "metadata": {},
   "outputs": [
    {
     "data": {
      "image/png": "[encoded data removed]",
      "text/plain": [
       "<Figure size 432x288 with 1 Axes>"
      ]
     },
     "metadata": {
      "needs_background": "light"
     },
     "output_type": "display_data"
    }
   ],
   "source": [
    "plt.plot(model_history.history['val_loss'], color = 'red', label = 'test')\n",
    "plt.plot(model_history.history['loss'], color = 'blue', label = 'train')\n",
    "plt.title('loss')\n",
    "plt.ylabel('loss')\n",
    "plt.legend()\n",
    "plt.show()"
   ]
  },
  {
   "cell_type": "markdown",
   "metadata": {},
   "source": [
    "### Save model "
   ]
  },
  {
   "cell_type": "code",
   "execution_count": null,
   "metadata": {},
   "outputs": [],
   "source": [
    "# save model artchitecture \n",
    "eyewear_model = model_history.model\n",
    "eyewear_model_json = eyewear_model.to_json()"
   ]
  },
  {
   "cell_type": "code",
   "execution_count": null,
   "metadata": {},
   "outputs": [],
   "source": [
    "# serialize model to JSON\n",
    "with open(\"../tuning_data/VGG_16_tuning/vgg16_model_custom_preprocess_150.json\", \"w\") as json_file:\n",
    "    json_file.write(eyewear_model_json)"
   ]
  },
  {
   "cell_type": "markdown",
   "metadata": {},
   "source": [
    "### Model Testing"
   ]
  },
  {
   "cell_type": "code",
   "execution_count": 17,
   "metadata": {},
   "outputs": [],
   "source": [
    "# load json and create model\n",
    "def model_testing(model_path, weight_path, label):\n",
    "    '''\n",
    "    model_path: json model path\n",
    "    weight_path: path for weights \n",
    "    label: eyewear, hat, or beard\n",
    "    '''\n",
    "    train_df, test_df = load_df(label)\n",
    "    df = pd.concat([train_df,test_df])\n",
    "    json_file = open(model_path, 'r')\n",
    "    loaded_model_json = json_file.read()\n",
    "    json_file.close()\n",
    "    loaded_model = model_from_json(loaded_model_json)\n",
    "    # load model weight \n",
    "    loaded_model.load_weights(weight_path)\n",
    "    # test test data\n",
    "    data_gen = ImageDataGenerator(1./255, preprocessing_function=vgg16_preprocess.preprocess_input)\n",
    "    data_generator = data_gen.flow_from_dataframe(\n",
    "        dataframe=df,\n",
    "        directory='../data/pics',\n",
    "        x_col='pic_id',\n",
    "        y_col=label,\n",
    "        batch_size=300,\n",
    "        target_size=(150,150),\n",
    "        class_mode = 'binary',\n",
    "        shuffle = False\n",
    "    )\n",
    "    labels = df[label].map({f'not_{label}':1, f'{label}':0})\n",
    "    \n",
    "    loaded_model.compile(loss='binary_crossentropy',\n",
    "             optimizer=optimizers.SGD(),\n",
    "             metrics=['accuracy']\n",
    "                        )\n",
    "    y_pred = np.around(loaded_model.predict_generator(data_generator, workers=8))\n",
    "    fpr, tpr, thresholds = roc_curve(labels, y_pred)\n",
    "    area = roc_auc_score(labels, y_pred)\n",
    "    plt.title('Receiver Operating Characteristic')\n",
    "    plt.plot(fpr, tpr, 'b', label = 'AUC = %0.2f' % area)\n",
    "    plt.legend(loc = 'lower right')\n",
    "    plt.plot([0, 1], [0, 1],'r--')\n",
    "    plt.xlim([0, 1])\n",
    "    plt.ylim([0, 1])\n",
    "    plt.ylabel('True Positive Rate')\n",
    "    plt.xlabel('False Positive Rate')\n",
    "    plt.show()\n",
    "    print(confusion_matrix(labels, y_pred))\n",
    "    print(classification_report(labels, y_pred))    "
   ]
  },
  {
   "cell_type": "markdown",
   "metadata": {},
   "source": [
    "### EyeWear"
   ]
  },
  {
   "cell_type": "code",
   "execution_count": 35,
   "metadata": {},
   "outputs": [
    {
     "name": "stdout",
     "output_type": "stream",
     "text": [
      "Found 632 validated image filenames belonging to 2 classes.\n"
     ]
    },
    {
     "data": {
      "image/png": "[encoded data removed]",
      "text/plain": [
       "<Figure size 432x288 with 1 Axes>"
      ]
     },
     "metadata": {
      "needs_background": "light"
     },
     "output_type": "display_data"
    },
    {
     "name": "stdout",
     "output_type": "stream",
     "text": [
      "[[313   3]\n",
      " [ 56 260]]\n",
      "              precision    recall  f1-score   support\n",
      "\n",
      "           0       0.85      0.99      0.91       316\n",
      "           1       0.99      0.82      0.90       316\n",
      "\n",
      "    accuracy                           0.91       632\n",
      "   macro avg       0.92      0.91      0.91       632\n",
      "weighted avg       0.92      0.91      0.91       632\n",
      "\n"
     ]
    }
   ],
   "source": [
    "model_testing('../tuning_data/VGG_16_tuning/vgg16_model_custom_preprocess_150.json',\n",
    "             '../tuning_data/VGG_16_tuning/best_vgg_model_eyewear_custom_preprocess_150_customsteps.h5',\n",
    "             'eyewear')\n"
   ]
  },
  {
   "cell_type": "code",
   "execution_count": 36,
   "metadata": {
    "scrolled": true
   },
   "outputs": [
    {
     "name": "stdout",
     "output_type": "stream",
     "text": [
      "Found 632 validated image filenames belonging to 2 classes.\n"
     ]
    },
    {
     "data": {
      "image/png": "[encoded data removed]",
      "text/plain": [
       "<Figure size 432x288 with 1 Axes>"
      ]
     },
     "metadata": {
      "needs_background": "light"
     },
     "output_type": "display_data"
    },
    {
     "name": "stdout",
     "output_type": "stream",
     "text": [
      "[[307   9]\n",
      " [ 39 277]]\n",
      "              precision    recall  f1-score   support\n",
      "\n",
      "           0       0.89      0.97      0.93       316\n",
      "           1       0.97      0.88      0.92       316\n",
      "\n",
      "    accuracy                           0.92       632\n",
      "   macro avg       0.93      0.92      0.92       632\n",
      "weighted avg       0.93      0.92      0.92       632\n",
      "\n"
     ]
    }
   ],
   "source": [
    "model_testing('../tuning_data/VGG_16_tuning/vgg16_model_custom_preprocess_150.json',\n",
    "             '../tuning_data/VGG_16_tuning/best_vgg_model_eyewear_custom_preprocess_150_customsteps_1.h5',\n",
    "             'eyewear')\n",
    "# save best_vgg_model_eyewear_custom_preprocess_150_customsteps_1.h5"
   ]
  },
  {
   "cell_type": "code",
   "execution_count": 37,
   "metadata": {},
   "outputs": [
    {
     "name": "stdout",
     "output_type": "stream",
     "text": [
      "Found 632 validated image filenames belonging to 2 classes.\n"
     ]
    },
    {
     "data": {
      "image/png": "[encoded data removed]",
      "text/plain": [
       "<Figure size 432x288 with 1 Axes>"
      ]
     },
     "metadata": {
      "needs_background": "light"
     },
     "output_type": "display_data"
    },
    {
     "name": "stdout",
     "output_type": "stream",
     "text": [
      "[[313   3]\n",
      " [ 61 255]]\n",
      "              precision    recall  f1-score   support\n",
      "\n",
      "           0       0.84      0.99      0.91       316\n",
      "           1       0.99      0.81      0.89       316\n",
      "\n",
      "    accuracy                           0.90       632\n",
      "   macro avg       0.91      0.90      0.90       632\n",
      "weighted avg       0.91      0.90      0.90       632\n",
      "\n"
     ]
    }
   ],
   "source": [
    "model_testing('../tuning_data/VGG_16_tuning/vgg16_model_custom_preprocess_150.json',\n",
    "             '../tuning_data/VGG_16_tuning/best_vgg_model_eyewear_custom_preprocess_150_customsteps_2.h5',\n",
    "             'eyewear')"
   ]
  },
  {
   "cell_type": "code",
   "execution_count": 38,
   "metadata": {
    "scrolled": true
   },
   "outputs": [
    {
     "name": "stdout",
     "output_type": "stream",
     "text": [
      "Found 632 validated image filenames belonging to 2 classes.\n"
     ]
    },
    {
     "data": {
      "image/png": "[encoded data removed]",
      "text/plain": [
       "<Figure size 432x288 with 1 Axes>"
      ]
     },
     "metadata": {
      "needs_background": "light"
     },
     "output_type": "display_data"
    },
    {
     "name": "stdout",
     "output_type": "stream",
     "text": [
      "[[292  24]\n",
      " [ 68 248]]\n",
      "              precision    recall  f1-score   support\n",
      "\n",
      "           0       0.81      0.92      0.86       316\n",
      "           1       0.91      0.78      0.84       316\n",
      "\n",
      "    accuracy                           0.85       632\n",
      "   macro avg       0.86      0.85      0.85       632\n",
      "weighted avg       0.86      0.85      0.85       632\n",
      "\n"
     ]
    }
   ],
   "source": [
    "model_testing('../tuning_data/VGG_16_tuning/vgg_model.json',\n",
    "             '../tuning_data/VGG_16_tuning/best_vgg_model_eyewears.h5',\n",
    "             'eyewear')"
   ]
  },
  {
   "cell_type": "markdown",
   "metadata": {},
   "source": [
    "### beard"
   ]
  },
  {
   "cell_type": "code",
   "execution_count": 18,
   "metadata": {},
   "outputs": [
    {
     "name": "stdout",
     "output_type": "stream",
     "text": [
      "Found 454 validated image filenames belonging to 2 classes.\n"
     ]
    },
    {
     "data": {
      "image/png": "[encoded data removed]",
      "text/plain": [
       "<Figure size 432x288 with 1 Axes>"
      ]
     },
     "metadata": {
      "needs_background": "light"
     },
     "output_type": "display_data"
    },
    {
     "name": "stdout",
     "output_type": "stream",
     "text": [
      "[[131  96]\n",
      " [  0 227]]\n",
      "              precision    recall  f1-score   support\n",
      "\n",
      "           0       1.00      0.58      0.73       227\n",
      "           1       0.70      1.00      0.83       227\n",
      "\n",
      "    accuracy                           0.79       454\n",
      "   macro avg       0.85      0.79      0.78       454\n",
      "weighted avg       0.85      0.79      0.78       454\n",
      "\n"
     ]
    }
   ],
   "source": [
    "model_testing('../tuning_data/VGG_16_tuning/vgg_model.json',\n",
    "             '../tuning_data/VGG_16_tuning/best_vgg_model_beard.h5',\n",
    "             'beard')"
   ]
  },
  {
   "cell_type": "code",
   "execution_count": 19,
   "metadata": {},
   "outputs": [
    {
     "name": "stdout",
     "output_type": "stream",
     "text": [
      "Found 454 validated image filenames belonging to 2 classes.\n"
     ]
    },
    {
     "data": {
      "image/png": "[encoded data removed]",
      "text/plain": [
       "<Figure size 432x288 with 1 Axes>"
      ]
     },
     "metadata": {
      "needs_background": "light"
     },
     "output_type": "display_data"
    },
    {
     "name": "stdout",
     "output_type": "stream",
     "text": [
      "[[114 113]\n",
      " [  0 227]]\n",
      "              precision    recall  f1-score   support\n",
      "\n",
      "           0       1.00      0.50      0.67       227\n",
      "           1       0.67      1.00      0.80       227\n",
      "\n",
      "    accuracy                           0.75       454\n",
      "   macro avg       0.83      0.75      0.73       454\n",
      "weighted avg       0.83      0.75      0.73       454\n",
      "\n"
     ]
    }
   ],
   "source": [
    "model_testing('../tuning_data/VGG_16_tuning/vgg16_model_custom_preprocess_150.json',\n",
    "             '../tuning_data/VGG_16_tuning/best_vgg_model_beard_custom_preprocess_150_customsteps.h5',\n",
    "             'beard')"
   ]
  },
  {
   "cell_type": "markdown",
   "metadata": {},
   "source": [
    "### Hat"
   ]
  },
  {
   "cell_type": "code",
   "execution_count": 33,
   "metadata": {},
   "outputs": [
    {
     "name": "stdout",
     "output_type": "stream",
     "text": [
      "Found 510 validated image filenames belonging to 2 classes.\n"
     ]
    },
    {
     "data": {
      "image/png": "[encoded data removed]",
      "text/plain": [
       "<Figure size 432x288 with 1 Axes>"
      ]
     },
     "metadata": {
      "needs_background": "light"
     },
     "output_type": "display_data"
    },
    {
     "name": "stdout",
     "output_type": "stream",
     "text": [
      "[[230  25]\n",
      " [ 38 217]]\n",
      "              precision    recall  f1-score   support\n",
      "\n",
      "           0       0.86      0.90      0.88       255\n",
      "           1       0.90      0.85      0.87       255\n",
      "\n",
      "    accuracy                           0.88       510\n",
      "   macro avg       0.88      0.88      0.88       510\n",
      "weighted avg       0.88      0.88      0.88       510\n",
      "\n"
     ]
    }
   ],
   "source": [
    "model_testing('../tuning_data/VGG_16_tuning/vgg_model.json',\n",
    "             '../tuning_data/VGG_16_tuning/best_vgg_model_hat.h5',\n",
    "             'hat')"
   ]
  },
  {
   "cell_type": "code",
   "execution_count": 34,
   "metadata": {},
   "outputs": [
    {
     "name": "stdout",
     "output_type": "stream",
     "text": [
      "Found 510 validated image filenames belonging to 2 classes.\n"
     ]
    },
    {
     "data": {
      "image/png": "[encoded data removed]",
      "text/plain": [
       "<Figure size 432x288 with 1 Axes>"
      ]
     },
     "metadata": {
      "needs_background": "light"
     },
     "output_type": "display_data"
    },
    {
     "name": "stdout",
     "output_type": "stream",
     "text": [
      "[[255   0]\n",
      " [212  43]]\n",
      "              precision    recall  f1-score   support\n",
      "\n",
      "           0       0.55      1.00      0.71       255\n",
      "           1       1.00      0.17      0.29       255\n",
      "\n",
      "    accuracy                           0.58       510\n",
      "   macro avg       0.77      0.58      0.50       510\n",
      "weighted avg       0.77      0.58      0.50       510\n",
      "\n"
     ]
    }
   ],
   "source": [
    "model_testing('../tuning_data/VGG_16_tuning/vgg16_model_custom_preprocess_150.json',\n",
    "             '../tuning_data/VGG_16_tuning/best_vgg_model_hat_custom_preprocess_150_customsteps.h5',\n",
    "             'hat')"
   ]
  }
 ],
 "metadata": {
  "kernelspec": {
   "display_name": "Python 3",
   "language": "python",
   "name": "python3"
  },
  "language_info": {
   "codemirror_mode": {
    "name": "ipython",
    "version": 3
   },
   "file_extension": ".py",
   "mimetype": "text/x-python",
   "name": "python",
   "nbconvert_exporter": "python",
   "pygments_lexer": "ipython3",
   "version": "3.7.3"
  }
 },
 "nbformat": 4,
 "nbformat_minor": 2
}
