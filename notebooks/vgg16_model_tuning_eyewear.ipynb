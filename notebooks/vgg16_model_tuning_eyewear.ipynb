{
 "cells": [
  {
   "cell_type": "markdown",
   "metadata": {},
   "source": [
    "## Transfer Learning Tuning_EyeWear:\n",
    "  * model parameter and other information can be found below:\n",
    "     * [source](https://blog.keras.io/building-powerful-image-classification-models-using-very-little-data.html)\n",
    "     \n",
    "  * base_model: use vgg16 and freeze at bottleneck layer (stop right before flatten layer) \n",
    "  * top_model: tune dense layers (parameters are inspired by source)\n",
    "     * batch_size 16 seems to work best for small data set \n",
    "     \n",
    "  * extra blog source for callbacks and saving models:\n",
    "  \n",
    "  [call_backs for best weights](https://machinelearningmastery.com/check-point-deep-learning-models-keras/)\n",
    "  \n",
    "  [saving models](https://machinelearningmastery.com/save-load-keras-deep-learning-models/)\n",
    "\n",
    "##### warnings: due to the order of my dataframe, the first entry is not_eyewear, class predict 1 == has no eyewear\n",
    "  \n",
    "---\n",
    "#### This cell is required in order to use GPU for running the model "
   ]
  },
  {
   "cell_type": "code",
   "execution_count": 2,
   "metadata": {},
   "outputs": [
    {
     "name": "stderr",
     "output_type": "stream",
     "text": [
      "Using TensorFlow backend.\n",
      "WARNING: Logging before flag parsing goes to stderr.\n",
      "W0829 23:24:33.594426 139859411339072 deprecation_wrapper.py:119] From /home/mindy/anaconda3/lib/python3.7/site-packages/keras/backend/tensorflow_backend.py:190: The name tf.get_default_session is deprecated. Please use tf.compat.v1.get_default_session instead.\n",
      "\n",
      "W0829 23:24:33.595374 139859411339072 deprecation_wrapper.py:119] From /home/mindy/anaconda3/lib/python3.7/site-packages/keras/backend/tensorflow_backend.py:207: The name tf.global_variables is deprecated. Please use tf.compat.v1.global_variables instead.\n",
      "\n"
     ]
    }
   ],
   "source": [
    "import warnings\n",
    "warnings.filterwarnings('ignore')\n",
    "import tensorflow as tf\n",
    "import keras\n",
    "from keras.backend.tensorflow_backend import set_session\n",
    "config = tf.ConfigProto()\n",
    "config.gpu_options.allow_growth = True  # dynamically grow the memory used on the GPU\n",
    "config.log_device_placement = True  # to log device placement (on which device the operation ran)\n",
    "                                    # (nothing gets printed in Jupyter, only if you run it standalone)\n",
    "sess = tf.Session(config=config)\n",
    "set_session(sess)  # set this TensorFlow session as the default session for Keras\n",
    "keras.backend.get_session().run(tf.global_variables_initializer())  "
   ]
  },
  {
   "cell_type": "markdown",
   "metadata": {},
   "source": [
    "---\n",
    "#### Import necessary libraries"
   ]
  },
  {
   "cell_type": "code",
   "execution_count": 3,
   "metadata": {},
   "outputs": [],
   "source": [
    "import pandas as pd\n",
    "import numpy as np\n",
    "import matplotlib.pyplot as plt\n",
    "%matplotlib inline\n",
    "from keras_preprocessing.image import ImageDataGenerator\n",
    "from keras.models import Sequential, Model\n",
    "from keras.layers import Dropout, Flatten, Dense\n",
    "from keras.applications.vgg16 import VGG16\n",
    "from keras import optimizers\n",
    "from keras.models import model_from_json\n",
    "from keras.callbacks import ModelCheckpoint"
   ]
  },
  {
   "cell_type": "markdown",
   "metadata": {},
   "source": [
    "---\n",
    "#### Import train_df and test_df for eyewears"
   ]
  },
  {
   "cell_type": "code",
   "execution_count": 4,
   "metadata": {},
   "outputs": [],
   "source": [
    "train_df = pd.read_pickle('../pickle_files/train_df_glasses.pkl')\n",
    "test_df = pd.read_pickle('../pickle_files/test_df_glasses.pkl')"
   ]
  },
  {
   "cell_type": "code",
   "execution_count": 4,
   "metadata": {},
   "outputs": [
    {
     "data": {
      "text/html": [
       "<div>\n",
       "<style scoped>\n",
       "    .dataframe tbody tr th:only-of-type {\n",
       "        vertical-align: middle;\n",
       "    }\n",
       "\n",
       "    .dataframe tbody tr th {\n",
       "        vertical-align: top;\n",
       "    }\n",
       "\n",
       "    .dataframe thead th {\n",
       "        text-align: right;\n",
       "    }\n",
       "</style>\n",
       "<table border=\"1\" class=\"dataframe\">\n",
       "  <thead>\n",
       "    <tr style=\"text-align: right;\">\n",
       "      <th></th>\n",
       "      <th>pic_id</th>\n",
       "      <th>eyewear</th>\n",
       "    </tr>\n",
       "  </thead>\n",
       "  <tbody>\n",
       "    <tr>\n",
       "      <th>235</th>\n",
       "      <td>00964.jpg</td>\n",
       "      <td>not_eyewear</td>\n",
       "    </tr>\n",
       "    <tr>\n",
       "      <th>171</th>\n",
       "      <td>00872.jpg</td>\n",
       "      <td>not_eyewear</td>\n",
       "    </tr>\n",
       "  </tbody>\n",
       "</table>\n",
       "</div>"
      ],
      "text/plain": [
       "        pic_id      eyewear\n",
       "235  00964.jpg  not_eyewear\n",
       "171  00872.jpg  not_eyewear"
      ]
     },
     "execution_count": 4,
     "metadata": {},
     "output_type": "execute_result"
    }
   ],
   "source": [
    "train_df.head(2)"
   ]
  },
  {
   "cell_type": "markdown",
   "metadata": {},
   "source": [
    "#### Get bottleneck features to tune top models"
   ]
  },
  {
   "cell_type": "code",
   "execution_count": 5,
   "metadata": {},
   "outputs": [],
   "source": [
    "def save_bottleneck_features(train_df, test_df, label, batch_size):\n",
    "    '''\n",
    "    inputs:\n",
    "    train_df, test_df: train and test dataframes saved in pickle_files folder\n",
    "    label: a string, eyewear, hat, or beard\n",
    "    batch_size: process images in batches\n",
    "    outputs:\n",
    "    saves bottleneck features inside folder tuning_data as npy file\n",
    "    '''\n",
    "    # intialize the vgg16 model \n",
    "    # make sure not to train the top layers \n",
    "    base_model = VGG16(weights = 'imagenet', include_top = False)\n",
    "    # create train_generator and test_generator to get bottleneck inputs for train and test df \n",
    "    datagen = ImageDataGenerator(\n",
    "        rescale=1./255,\n",
    "        zoom_range= [0.8,1.7],\n",
    "        shear_range=0.2,\n",
    "        rotation_range = 40,\n",
    "        width_shift_range=0.2,\n",
    "        height_shift_range=0.2,\n",
    "        horizontal_flip=True)\n",
    "    # make sure shuffle is False so we know the label follows the sequence of the dataframe \n",
    "    # so we can tune top_model \n",
    "    train_generator = datagen.flow_from_dataframe(\n",
    "    dataframe=train_df,\n",
    "    directory='../data/pics',\n",
    "    x_col='pic_id',\n",
    "    y_col=label,\n",
    "    batch_size=batch_size,\n",
    "    shuffle = False,\n",
    "    target_size=(150,150),\n",
    "    class_mode = None)\n",
    "    # get features saved as .npy in tunign_data folder \n",
    "    bottleneck_features_train = base_model.predict_generator(\n",
    "        train_generator, train_df.shape[0]//batch_size)\n",
    "    np.save(open('../tuning_data/bottleneck_features_train_eyewears_2.npy','wb'),\n",
    "           bottleneck_features_train)\n",
    "    \n",
    "    test_generator = datagen.flow_from_dataframe(\n",
    "    dataframe=test_df,\n",
    "    directory='../data/pics',\n",
    "    x_col='pic_id',\n",
    "    y_col=label,\n",
    "    batch_size=batch_size,\n",
    "    shuffle = False,\n",
    "    target_size=(150,150),\n",
    "    class_mode = None)\n",
    "    bottleneck_features_test = base_model.predict_generator(\n",
    "        test_generator, test_df.shape[0]//batch_size)\n",
    "    np.save(open('../tuning_data/bottleneck_features_test_eyewears_2.npy','wb'),\n",
    "           bottleneck_features_test)"
   ]
  },
  {
   "cell_type": "markdown",
   "metadata": {},
   "source": [
    "#### Save bottleneck_features"
   ]
  },
  {
   "cell_type": "code",
   "execution_count": 5,
   "metadata": {
    "scrolled": true
   },
   "outputs": [
    {
     "name": "stderr",
     "output_type": "stream",
     "text": [
      "W0829 22:30:36.442513 140300435560256 deprecation_wrapper.py:119] From /home/mindy/anaconda3/lib/python3.7/site-packages/keras/backend/tensorflow_backend.py:66: The name tf.get_default_graph is deprecated. Please use tf.compat.v1.get_default_graph instead.\n",
      "\n",
      "W0829 22:30:36.443485 140300435560256 deprecation_wrapper.py:119] From /home/mindy/anaconda3/lib/python3.7/site-packages/keras/backend/tensorflow_backend.py:541: The name tf.placeholder is deprecated. Please use tf.compat.v1.placeholder instead.\n",
      "\n",
      "W0829 22:30:36.445429 140300435560256 deprecation_wrapper.py:119] From /home/mindy/anaconda3/lib/python3.7/site-packages/keras/backend/tensorflow_backend.py:4432: The name tf.random_uniform is deprecated. Please use tf.random.uniform instead.\n",
      "\n",
      "W0829 22:30:36.463576 140300435560256 deprecation_wrapper.py:119] From /home/mindy/anaconda3/lib/python3.7/site-packages/keras/backend/tensorflow_backend.py:4267: The name tf.nn.max_pool is deprecated. Please use tf.nn.max_pool2d instead.\n",
      "\n"
     ]
    },
    {
     "name": "stdout",
     "output_type": "stream",
     "text": [
      "Found 505 validated image filenames.\n",
      "Found 127 validated image filenames.\n"
     ]
    }
   ],
   "source": [
    "save_bottleneck_features(train_df,test_df,'eyewear',16)"
   ]
  },
  {
   "cell_type": "markdown",
   "metadata": {},
   "source": [
    "### Quick tuning of top models "
   ]
  },
  {
   "cell_type": "code",
   "execution_count": 6,
   "metadata": {},
   "outputs": [],
   "source": [
    "def train_top_model(train_df, test_df, epoch, batch_size, label):\n",
    "    '''\n",
    "    inputs:\n",
    "    train_df, test_df: dataframes saved in pickle_files to generate train and test labels \n",
    "    epoch: num of epochs in fit \n",
    "    batch_size: same as image generator batch size \n",
    "    label: a string, eyewear, hat, or beard\n",
    "    output:\n",
    "    saves model weights in a folder \n",
    "    '''\n",
    "    train_data = np.load(open('../tuning_data/bottleneck_features_train_eyewears_2.npy','rb'))\n",
    "    # make sure train_data and train_label have same num of samples\n",
    "    train_label = np.array(train_df[label].map({'not_'+label:0, label:1}))[:-(train_df.shape[0]%batch_size)]\n",
    "    \n",
    "    test_data = np.load(open('../tuning_data/bottleneck_features_test_eyewears_2.npy','rb'))\n",
    "    test_label = np.array(test_df[label].map({'not_'+label:0, label:1}))[:-(test_df.shape[0]%batch_size)]\n",
    "    \n",
    "    # build top model\n",
    "    model = Sequential()\n",
    "    model.add(Flatten(input_shape=train_data.shape[1:]))\n",
    "    model.add(Dense(256, activation='relu'))\n",
    "    model.add(Dropout(0.5))\n",
    "    model.add(Dense(1, activation='sigmoid'))\n",
    "    \n",
    "    # compile model \n",
    "    model.compile(optimizer='rmsprop',\n",
    "                 loss='binary_crossentropy',\n",
    "                 metrics=['accuracy'])\n",
    "    \n",
    "    # checkpoint for best weights \n",
    "    filepath=\"../tuning_data/best_bottleneck_vgg_model_eyewears_2.h5\"\n",
    "    checkpoint = ModelCheckpoint(filepath, monitor='val_acc', verbose=1, save_best_only=True, mode='max')\n",
    "    callbacks_list = [checkpoint]\n",
    "    \n",
    "    # fit model \n",
    "    model.fit(train_data, train_label,\n",
    "             epochs=epoch,\n",
    "             batch_size=batch_size,\n",
    "             validation_data=(test_data,test_label),\n",
    "             callbacks=callbacks_list)\n",
    "    del model\n",
    "    keras.backend.clear_session()"
   ]
  },
  {
   "cell_type": "markdown",
   "metadata": {},
   "source": [
    "#### run train_top_model and save results in tuning_data"
   ]
  },
  {
   "cell_type": "code",
   "execution_count": 7,
   "metadata": {
    "scrolled": false
   },
   "outputs": [
    {
     "name": "stderr",
     "output_type": "stream",
     "text": [
      "W0829 23:16:54.703503 140193826936640 deprecation_wrapper.py:119] From /home/mindy/anaconda3/lib/python3.7/site-packages/keras/backend/tensorflow_backend.py:66: The name tf.get_default_graph is deprecated. Please use tf.compat.v1.get_default_graph instead.\n",
      "\n",
      "W0829 23:16:54.704376 140193826936640 deprecation_wrapper.py:119] From /home/mindy/anaconda3/lib/python3.7/site-packages/keras/backend/tensorflow_backend.py:541: The name tf.placeholder is deprecated. Please use tf.compat.v1.placeholder instead.\n",
      "\n",
      "W0829 23:16:54.709114 140193826936640 deprecation_wrapper.py:119] From /home/mindy/anaconda3/lib/python3.7/site-packages/keras/backend/tensorflow_backend.py:4432: The name tf.random_uniform is deprecated. Please use tf.random.uniform instead.\n",
      "\n",
      "W0829 23:16:54.718438 140193826936640 deprecation.py:506] From /home/mindy/anaconda3/lib/python3.7/site-packages/keras/backend/tensorflow_backend.py:3733: calling dropout (from tensorflow.python.ops.nn_ops) with keep_prob is deprecated and will be removed in a future version.\n",
      "Instructions for updating:\n",
      "Please use `rate` instead of `keep_prob`. Rate should be set to `rate = 1 - keep_prob`.\n",
      "W0829 23:16:54.730824 140193826936640 deprecation_wrapper.py:119] From /home/mindy/anaconda3/lib/python3.7/site-packages/keras/optimizers.py:793: The name tf.train.Optimizer is deprecated. Please use tf.compat.v1.train.Optimizer instead.\n",
      "\n",
      "W0829 23:16:54.740565 140193826936640 deprecation.py:323] From /home/mindy/anaconda3/lib/python3.7/site-packages/tensorflow/python/ops/nn_impl.py:180: add_dispatch_support.<locals>.wrapper (from tensorflow.python.ops.array_ops) is deprecated and will be removed in a future version.\n",
      "Instructions for updating:\n",
      "Use tf.where in 2.0, which has the same broadcast rule as np.where\n"
     ]
    },
    {
     "name": "stdout",
     "output_type": "stream",
     "text": [
      "Train on 496 samples, validate on 112 samples\n",
      "Epoch 1/50\n",
      "496/496 [==============================] - 1s 1ms/step - loss: 1.3395 - acc: 0.5484 - val_loss: 0.5974 - val_acc: 0.6607\n",
      "\n",
      "Epoch 00001: val_acc improved from -inf to 0.66071, saving model to ../tuning_data/best_bottleneck_vgg_model_eyewears_2.h5\n",
      "Epoch 2/50\n",
      "496/496 [==============================] - 0s 184us/step - loss: 0.6118 - acc: 0.6815 - val_loss: 0.9203 - val_acc: 0.6071\n",
      "\n",
      "Epoch 00002: val_acc did not improve from 0.66071\n",
      "Epoch 3/50\n",
      "496/496 [==============================] - 0s 183us/step - loss: 0.4996 - acc: 0.7621 - val_loss: 0.5793 - val_acc: 0.7946\n",
      "\n",
      "Epoch 00003: val_acc improved from 0.66071 to 0.79464, saving model to ../tuning_data/best_bottleneck_vgg_model_eyewears_2.h5\n",
      "Epoch 4/50\n",
      "496/496 [==============================] - 0s 198us/step - loss: 0.5069 - acc: 0.7903 - val_loss: 0.5243 - val_acc: 0.7321\n",
      "\n",
      "Epoch 00004: val_acc did not improve from 0.79464\n",
      "Epoch 5/50\n",
      "496/496 [==============================] - 0s 191us/step - loss: 0.3632 - acc: 0.8407 - val_loss: 0.4793 - val_acc: 0.8304\n",
      "\n",
      "Epoch 00005: val_acc improved from 0.79464 to 0.83036, saving model to ../tuning_data/best_bottleneck_vgg_model_eyewears_2.h5\n",
      "Epoch 6/50\n",
      "496/496 [==============================] - 0s 197us/step - loss: 0.2770 - acc: 0.8851 - val_loss: 0.7287 - val_acc: 0.6964\n",
      "\n",
      "Epoch 00006: val_acc did not improve from 0.83036\n",
      "Epoch 7/50\n",
      "496/496 [==============================] - 0s 183us/step - loss: 0.3167 - acc: 0.8589 - val_loss: 0.5736 - val_acc: 0.8125\n",
      "\n",
      "Epoch 00007: val_acc did not improve from 0.83036\n",
      "Epoch 8/50\n",
      "496/496 [==============================] - 0s 186us/step - loss: 0.2298 - acc: 0.8972 - val_loss: 0.6510 - val_acc: 0.8036\n",
      "\n",
      "Epoch 00008: val_acc did not improve from 0.83036\n",
      "Epoch 9/50\n",
      "496/496 [==============================] - 0s 190us/step - loss: 0.1759 - acc: 0.9173 - val_loss: 0.6710 - val_acc: 0.7321\n",
      "\n",
      "Epoch 00009: val_acc did not improve from 0.83036\n",
      "Epoch 10/50\n",
      "496/496 [==============================] - 0s 189us/step - loss: 0.1362 - acc: 0.9496 - val_loss: 0.7590 - val_acc: 0.7321\n",
      "\n",
      "Epoch 00010: val_acc did not improve from 0.83036\n",
      "Epoch 11/50\n",
      "496/496 [==============================] - 0s 184us/step - loss: 0.1463 - acc: 0.9456 - val_loss: 0.6785 - val_acc: 0.7679\n",
      "\n",
      "Epoch 00011: val_acc did not improve from 0.83036\n",
      "Epoch 12/50\n",
      "496/496 [==============================] - 0s 180us/step - loss: 0.1023 - acc: 0.9637 - val_loss: 0.6180 - val_acc: 0.8214\n",
      "\n",
      "Epoch 00012: val_acc did not improve from 0.83036\n",
      "Epoch 13/50\n",
      "496/496 [==============================] - 0s 183us/step - loss: 0.0951 - acc: 0.9597 - val_loss: 0.9356 - val_acc: 0.8125\n",
      "\n",
      "Epoch 00013: val_acc did not improve from 0.83036\n",
      "Epoch 14/50\n",
      "496/496 [==============================] - 0s 175us/step - loss: 0.1148 - acc: 0.9637 - val_loss: 0.6919 - val_acc: 0.8393\n",
      "\n",
      "Epoch 00014: val_acc improved from 0.83036 to 0.83929, saving model to ../tuning_data/best_bottleneck_vgg_model_eyewears_2.h5\n",
      "Epoch 15/50\n",
      "496/496 [==============================] - 0s 179us/step - loss: 0.0547 - acc: 0.9798 - val_loss: 0.8640 - val_acc: 0.7500\n",
      "\n",
      "Epoch 00015: val_acc did not improve from 0.83929\n",
      "Epoch 16/50\n",
      "496/496 [==============================] - 0s 183us/step - loss: 0.1216 - acc: 0.9536 - val_loss: 0.8791 - val_acc: 0.8214\n",
      "\n",
      "Epoch 00016: val_acc did not improve from 0.83929\n",
      "Epoch 17/50\n",
      "496/496 [==============================] - 0s 182us/step - loss: 0.0340 - acc: 0.9899 - val_loss: 0.8259 - val_acc: 0.7946\n",
      "\n",
      "Epoch 00017: val_acc did not improve from 0.83929\n",
      "Epoch 18/50\n",
      "496/496 [==============================] - 0s 178us/step - loss: 0.0455 - acc: 0.9798 - val_loss: 1.3804 - val_acc: 0.7857\n",
      "\n",
      "Epoch 00018: val_acc did not improve from 0.83929\n",
      "Epoch 19/50\n",
      "496/496 [==============================] - 0s 177us/step - loss: 0.0771 - acc: 0.9698 - val_loss: 0.9625 - val_acc: 0.8125\n",
      "\n",
      "Epoch 00019: val_acc did not improve from 0.83929\n",
      "Epoch 20/50\n",
      "496/496 [==============================] - 0s 182us/step - loss: 0.0269 - acc: 0.9899 - val_loss: 1.1246 - val_acc: 0.7411\n",
      "\n",
      "Epoch 00020: val_acc did not improve from 0.83929\n",
      "Epoch 21/50\n",
      "496/496 [==============================] - 0s 184us/step - loss: 0.0607 - acc: 0.9798 - val_loss: 1.0699 - val_acc: 0.8214\n",
      "\n",
      "Epoch 00021: val_acc did not improve from 0.83929\n",
      "Epoch 22/50\n",
      "496/496 [==============================] - 0s 190us/step - loss: 0.0289 - acc: 0.9899 - val_loss: 0.9340 - val_acc: 0.7946\n",
      "\n",
      "Epoch 00022: val_acc did not improve from 0.83929\n",
      "Epoch 23/50\n",
      "496/496 [==============================] - 0s 190us/step - loss: 0.0121 - acc: 0.9980 - val_loss: 1.0369 - val_acc: 0.7946\n",
      "\n",
      "Epoch 00023: val_acc did not improve from 0.83929\n",
      "Epoch 24/50\n",
      "496/496 [==============================] - 0s 184us/step - loss: 0.0474 - acc: 0.9798 - val_loss: 1.3122 - val_acc: 0.8125\n",
      "\n",
      "Epoch 00024: val_acc did not improve from 0.83929\n",
      "Epoch 25/50\n",
      "496/496 [==============================] - 0s 196us/step - loss: 0.0281 - acc: 0.9839 - val_loss: 1.0502 - val_acc: 0.7946\n",
      "\n",
      "Epoch 00025: val_acc did not improve from 0.83929\n",
      "Epoch 26/50\n",
      "496/496 [==============================] - 0s 194us/step - loss: 0.0213 - acc: 0.9960 - val_loss: 1.2161 - val_acc: 0.8125\n",
      "\n",
      "Epoch 00026: val_acc did not improve from 0.83929\n",
      "Epoch 27/50\n",
      "496/496 [==============================] - 0s 184us/step - loss: 0.0257 - acc: 0.9899 - val_loss: 2.4118 - val_acc: 0.6875\n",
      "\n",
      "Epoch 00027: val_acc did not improve from 0.83929\n",
      "Epoch 28/50\n",
      "496/496 [==============================] - 0s 172us/step - loss: 0.0340 - acc: 0.9879 - val_loss: 1.2151 - val_acc: 0.8214\n",
      "\n",
      "Epoch 00028: val_acc did not improve from 0.83929\n",
      "Epoch 29/50\n",
      "496/496 [==============================] - 0s 188us/step - loss: 0.0121 - acc: 0.9960 - val_loss: 1.2640 - val_acc: 0.8036\n",
      "\n",
      "Epoch 00029: val_acc did not improve from 0.83929\n",
      "Epoch 30/50\n",
      "496/496 [==============================] - 0s 197us/step - loss: 0.0149 - acc: 0.9940 - val_loss: 1.1723 - val_acc: 0.8214\n",
      "\n",
      "Epoch 00030: val_acc did not improve from 0.83929\n",
      "Epoch 31/50\n",
      "496/496 [==============================] - 0s 191us/step - loss: 0.0066 - acc: 1.0000 - val_loss: 1.3139 - val_acc: 0.8125\n",
      "\n",
      "Epoch 00031: val_acc did not improve from 0.83929\n",
      "Epoch 32/50\n",
      "496/496 [==============================] - 0s 191us/step - loss: 0.0055 - acc: 0.9980 - val_loss: 1.3138 - val_acc: 0.7768\n",
      "\n",
      "Epoch 00032: val_acc did not improve from 0.83929\n",
      "Epoch 33/50\n",
      "496/496 [==============================] - 0s 190us/step - loss: 0.0546 - acc: 0.9879 - val_loss: 1.4198 - val_acc: 0.8036\n",
      "\n",
      "Epoch 00033: val_acc did not improve from 0.83929\n",
      "Epoch 34/50\n",
      "496/496 [==============================] - 0s 186us/step - loss: 0.0185 - acc: 0.9960 - val_loss: 1.1684 - val_acc: 0.7946\n",
      "\n",
      "Epoch 00034: val_acc did not improve from 0.83929\n",
      "Epoch 35/50\n",
      "496/496 [==============================] - 0s 188us/step - loss: 0.0253 - acc: 0.9919 - val_loss: 1.2531 - val_acc: 0.7946\n",
      "\n",
      "Epoch 00035: val_acc did not improve from 0.83929\n",
      "Epoch 36/50\n",
      "496/496 [==============================] - 0s 191us/step - loss: 0.0046 - acc: 0.9980 - val_loss: 1.3495 - val_acc: 0.8036\n",
      "\n",
      "Epoch 00036: val_acc did not improve from 0.83929\n",
      "Epoch 37/50\n",
      "496/496 [==============================] - 0s 185us/step - loss: 0.0012 - acc: 1.0000 - val_loss: 1.3377 - val_acc: 0.7946\n",
      "\n",
      "Epoch 00037: val_acc did not improve from 0.83929\n",
      "Epoch 38/50\n",
      "496/496 [==============================] - 0s 179us/step - loss: 9.5432e-04 - acc: 1.0000 - val_loss: 1.4060 - val_acc: 0.8214\n",
      "\n",
      "Epoch 00038: val_acc did not improve from 0.83929\n",
      "Epoch 39/50\n",
      "496/496 [==============================] - 0s 176us/step - loss: 0.0330 - acc: 0.9919 - val_loss: 1.4028 - val_acc: 0.8304\n",
      "\n",
      "Epoch 00039: val_acc did not improve from 0.83929\n",
      "Epoch 40/50\n",
      "496/496 [==============================] - 0s 183us/step - loss: 0.0011 - acc: 1.0000 - val_loss: 1.4244 - val_acc: 0.7946\n",
      "\n",
      "Epoch 00040: val_acc did not improve from 0.83929\n",
      "Epoch 41/50\n",
      "496/496 [==============================] - 0s 191us/step - loss: 0.0095 - acc: 0.9960 - val_loss: 1.5351 - val_acc: 0.8036\n",
      "\n",
      "Epoch 00041: val_acc did not improve from 0.83929\n",
      "Epoch 42/50\n",
      "496/496 [==============================] - 0s 191us/step - loss: 0.0117 - acc: 0.9940 - val_loss: 1.5363 - val_acc: 0.8214\n",
      "\n",
      "Epoch 00042: val_acc did not improve from 0.83929\n",
      "Epoch 43/50\n"
     ]
    },
    {
     "name": "stdout",
     "output_type": "stream",
     "text": [
      "496/496 [==============================] - 0s 186us/step - loss: 0.0096 - acc: 0.9960 - val_loss: 1.5928 - val_acc: 0.7857\n",
      "\n",
      "Epoch 00043: val_acc did not improve from 0.83929\n",
      "Epoch 44/50\n",
      "496/496 [==============================] - 0s 176us/step - loss: 0.0027 - acc: 1.0000 - val_loss: 1.6386 - val_acc: 0.8036\n",
      "\n",
      "Epoch 00044: val_acc did not improve from 0.83929\n",
      "Epoch 45/50\n",
      "496/496 [==============================] - 0s 171us/step - loss: 0.0080 - acc: 0.9960 - val_loss: 1.6709 - val_acc: 0.7679\n",
      "\n",
      "Epoch 00045: val_acc did not improve from 0.83929\n",
      "Epoch 46/50\n",
      "496/496 [==============================] - 0s 179us/step - loss: 0.0079 - acc: 0.9980 - val_loss: 1.8779 - val_acc: 0.8304\n",
      "\n",
      "Epoch 00046: val_acc did not improve from 0.83929\n",
      "Epoch 47/50\n",
      "496/496 [==============================] - 0s 185us/step - loss: 0.0131 - acc: 0.9940 - val_loss: 1.6750 - val_acc: 0.7946\n",
      "\n",
      "Epoch 00047: val_acc did not improve from 0.83929\n",
      "Epoch 48/50\n",
      "496/496 [==============================] - 0s 198us/step - loss: 1.2456e-04 - acc: 1.0000 - val_loss: 1.6779 - val_acc: 0.8036\n",
      "\n",
      "Epoch 00048: val_acc did not improve from 0.83929\n",
      "Epoch 49/50\n",
      "496/496 [==============================] - 0s 198us/step - loss: 0.0355 - acc: 0.9899 - val_loss: 1.7611 - val_acc: 0.7946\n",
      "\n",
      "Epoch 00049: val_acc did not improve from 0.83929\n",
      "Epoch 50/50\n",
      "496/496 [==============================] - 0s 195us/step - loss: 0.0063 - acc: 0.9960 - val_loss: 1.8636 - val_acc: 0.8214\n",
      "\n",
      "Epoch 00050: val_acc did not improve from 0.83929\n"
     ]
    }
   ],
   "source": [
    "train_top_model(train_df, test_df, 50, 16, 'eyewear')"
   ]
  },
  {
   "cell_type": "markdown",
   "metadata": {},
   "source": [
    "### Fine Tune Top Model to improve accuracy"
   ]
  },
  {
   "cell_type": "code",
   "execution_count": 5,
   "metadata": {},
   "outputs": [],
   "source": [
    "def fine_tune_model(train_df, test_df,epoch, batch_size,label, print_model = True):\n",
    "    # build VGG16 model and freeze top layers\n",
    "    # input_shape: width, height, RGB (from image generator)\n",
    "    model_vgg = VGG16(weights='imagenet',include_top=False, input_shape=(150,150,3))\n",
    "    # build top model\n",
    "    top_model = Sequential()\n",
    "    top_model.add(Flatten(input_shape=model_vgg.output_shape[1:]))\n",
    "    top_model.add(Dense(256,activation='relu'))\n",
    "    top_model.add(Dropout(0.5))\n",
    "    top_model.add(Dense(1, activation='sigmoid'))\n",
    "    \n",
    "    # load saved weights to fine tune parameters \n",
    "    top_model.load_weights('../tuning_data/best_bottleneck_vgg_model_eyewears_2.h5')\n",
    "    # add top model to model\n",
    "    model = Model(inputs=model_vgg.input, outputs=top_model(model_vgg.output))\n",
    "    # we will tune last 5 layers of the model: block5 and fully connected layer \n",
    "    for layer in model.layers[:15]:\n",
    "        layer.trainable = False\n",
    "    # we can tune the parameters for lr and momentum later to get better results\n",
    "    model.compile(loss='binary_crossentropy',\n",
    "             optimizer=optimizers.SGD(lr=1e-4, momentum=0.9),\n",
    "             metrics=['accuracy'])\n",
    "    # prepare train generator using data augmentation to battle small sample size \n",
    "    train_gen = ImageDataGenerator(\n",
    "        rescale=1./255,\n",
    "        zoom_range= [0.8,1.7],\n",
    "        shear_range=0.2,\n",
    "        rotation_range = 40,\n",
    "        width_shift_range=0.2,\n",
    "        height_shift_range=0.2,\n",
    "        horizontal_flip=True)\n",
    "    # not want to augment the test \n",
    "    test_gen = ImageDataGenerator(rescale=1./255)\n",
    "    \n",
    "    train_generator =  train_gen.flow_from_dataframe(\n",
    "    dataframe=train_df,\n",
    "    directory='../data/pics',\n",
    "    x_col='pic_id',\n",
    "    y_col=label,\n",
    "    batch_size=batch_size,\n",
    "    target_size=(150,150),\n",
    "    class_mode = 'binary')\n",
    "    \n",
    "    test_generator =  test_gen.flow_from_dataframe(\n",
    "    dataframe=test_df,\n",
    "    directory='../data/pics',\n",
    "    x_col='pic_id',\n",
    "    y_col=label,\n",
    "    batch_size=batch_size,\n",
    "    target_size=(150,150),\n",
    "    class_mode = 'binary')\n",
    "    \n",
    "    # checkpoint for best weights \n",
    "    filepath=\"../tuning_data/best_vgg_model_eyewears_2.h5\"\n",
    "    checkpoint = ModelCheckpoint(filepath, monitor='val_acc', verbose=1, save_best_only=True, mode='max')\n",
    "    callbacks_list = [checkpoint]\n",
    "    \n",
    "    # run and fit model \n",
    "    result = model.fit_generator(\n",
    "    train_generator,\n",
    "    steps_per_epoch=train_df.shape[0]//batch_size,\n",
    "    epochs=epoch,\n",
    "    validation_data=test_generator,\n",
    "    validation_steps=test_df.shape[0]//batch_size,\n",
    "    verbose=1,\n",
    "    callbacks=callbacks_list)\n",
    "    \n",
    "    if print_model:\n",
    "        model.summary()\n",
    "        \n",
    "    del model\n",
    "    keras.backend.clear_session()\n",
    "    \n",
    "    return result      "
   ]
  },
  {
   "cell_type": "markdown",
   "metadata": {},
   "source": [
    "### save model history "
   ]
  },
  {
   "cell_type": "code",
   "execution_count": 6,
   "metadata": {},
   "outputs": [
    {
     "name": "stderr",
     "output_type": "stream",
     "text": [
      "W0829 23:25:03.438376 139859411339072 deprecation_wrapper.py:119] From /home/mindy/anaconda3/lib/python3.7/site-packages/keras/backend/tensorflow_backend.py:66: The name tf.get_default_graph is deprecated. Please use tf.compat.v1.get_default_graph instead.\n",
      "\n",
      "W0829 23:25:03.439317 139859411339072 deprecation_wrapper.py:119] From /home/mindy/anaconda3/lib/python3.7/site-packages/keras/backend/tensorflow_backend.py:541: The name tf.placeholder is deprecated. Please use tf.compat.v1.placeholder instead.\n",
      "\n",
      "W0829 23:25:03.441853 139859411339072 deprecation_wrapper.py:119] From /home/mindy/anaconda3/lib/python3.7/site-packages/keras/backend/tensorflow_backend.py:4432: The name tf.random_uniform is deprecated. Please use tf.random.uniform instead.\n",
      "\n",
      "W0829 23:25:03.457666 139859411339072 deprecation_wrapper.py:119] From /home/mindy/anaconda3/lib/python3.7/site-packages/keras/backend/tensorflow_backend.py:4267: The name tf.nn.max_pool is deprecated. Please use tf.nn.max_pool2d instead.\n",
      "\n",
      "W0829 23:25:04.066876 139859411339072 deprecation.py:506] From /home/mindy/anaconda3/lib/python3.7/site-packages/keras/backend/tensorflow_backend.py:3733: calling dropout (from tensorflow.python.ops.nn_ops) with keep_prob is deprecated and will be removed in a future version.\n",
      "Instructions for updating:\n",
      "Please use `rate` instead of `keep_prob`. Rate should be set to `rate = 1 - keep_prob`.\n",
      "W0829 23:25:04.154338 139859411339072 deprecation_wrapper.py:119] From /home/mindy/anaconda3/lib/python3.7/site-packages/keras/optimizers.py:793: The name tf.train.Optimizer is deprecated. Please use tf.compat.v1.train.Optimizer instead.\n",
      "\n",
      "W0829 23:25:04.158604 139859411339072 deprecation.py:323] From /home/mindy/anaconda3/lib/python3.7/site-packages/tensorflow/python/ops/nn_impl.py:180: add_dispatch_support.<locals>.wrapper (from tensorflow.python.ops.array_ops) is deprecated and will be removed in a future version.\n",
      "Instructions for updating:\n",
      "Use tf.where in 2.0, which has the same broadcast rule as np.where\n"
     ]
    },
    {
     "name": "stdout",
     "output_type": "stream",
     "text": [
      "Found 505 validated image filenames belonging to 2 classes.\n",
      "Found 127 validated image filenames belonging to 2 classes.\n",
      "Epoch 1/50\n",
      "31/31 [==============================] - 4s 145ms/step - loss: 1.5196 - acc: 0.3545 - val_loss: 0.7231 - val_acc: 0.4018\n",
      "\n",
      "Epoch 00001: val_acc improved from -inf to 0.40179, saving model to ../tuning_data/best_vgg_model_eyewears_3.h5\n",
      "Epoch 2/50\n",
      "31/31 [==============================] - 5s 163ms/step - loss: 0.7112 - acc: 0.4992 - val_loss: 0.7002 - val_acc: 0.4595\n",
      "\n",
      "Epoch 00002: val_acc improved from 0.40179 to 0.45946, saving model to ../tuning_data/best_vgg_model_eyewears_3.h5\n",
      "Epoch 3/50\n",
      "31/31 [==============================] - 5s 155ms/step - loss: 0.7058 - acc: 0.4897 - val_loss: 0.6985 - val_acc: 0.5045\n",
      "\n",
      "Epoch 00003: val_acc improved from 0.45946 to 0.50450, saving model to ../tuning_data/best_vgg_model_eyewears_3.h5\n",
      "Epoch 4/50\n",
      "31/31 [==============================] - 5s 151ms/step - loss: 0.7103 - acc: 0.4637 - val_loss: 0.6942 - val_acc: 0.4865\n",
      "\n",
      "Epoch 00004: val_acc did not improve from 0.50450\n",
      "Epoch 5/50\n",
      "31/31 [==============================] - 5s 150ms/step - loss: 0.6997 - acc: 0.5028 - val_loss: 0.6956 - val_acc: 0.4414\n",
      "\n",
      "Epoch 00005: val_acc did not improve from 0.50450\n",
      "Epoch 6/50\n",
      "31/31 [==============================] - 4s 128ms/step - loss: 0.6994 - acc: 0.4874 - val_loss: 0.6855 - val_acc: 0.6126\n",
      "\n",
      "Epoch 00006: val_acc improved from 0.50450 to 0.61261, saving model to ../tuning_data/best_vgg_model_eyewears_3.h5\n",
      "Epoch 7/50\n",
      "31/31 [==============================] - 4s 132ms/step - loss: 0.6920 - acc: 0.5371 - val_loss: 0.6906 - val_acc: 0.5045\n",
      "\n",
      "Epoch 00007: val_acc did not improve from 0.61261\n",
      "Epoch 8/50\n",
      "31/31 [==============================] - 4s 134ms/step - loss: 0.6882 - acc: 0.5522 - val_loss: 0.6922 - val_acc: 0.5045\n",
      "\n",
      "Epoch 00008: val_acc did not improve from 0.61261\n",
      "Epoch 9/50\n",
      "31/31 [==============================] - 4s 129ms/step - loss: 0.7009 - acc: 0.4657 - val_loss: 0.6907 - val_acc: 0.5536\n",
      "\n",
      "Epoch 00009: val_acc did not improve from 0.61261\n",
      "Epoch 10/50\n",
      "31/31 [==============================] - 5s 156ms/step - loss: 0.6984 - acc: 0.5002 - val_loss: 0.6850 - val_acc: 0.5946\n",
      "\n",
      "Epoch 00010: val_acc did not improve from 0.61261\n",
      "Epoch 11/50\n",
      "31/31 [==============================] - 4s 140ms/step - loss: 0.6867 - acc: 0.5328 - val_loss: 0.6854 - val_acc: 0.5586\n",
      "\n",
      "Epoch 00011: val_acc did not improve from 0.61261\n",
      "Epoch 12/50\n",
      "31/31 [==============================] - 4s 121ms/step - loss: 0.6894 - acc: 0.5603 - val_loss: 0.6878 - val_acc: 0.5676\n",
      "\n",
      "Epoch 00012: val_acc did not improve from 0.61261\n",
      "Epoch 13/50\n",
      "31/31 [==============================] - 4s 129ms/step - loss: 0.6949 - acc: 0.5209 - val_loss: 0.6885 - val_acc: 0.5315\n",
      "\n",
      "Epoch 00013: val_acc did not improve from 0.61261\n",
      "Epoch 14/50\n",
      "31/31 [==============================] - 4s 132ms/step - loss: 0.6864 - acc: 0.5557 - val_loss: 0.6791 - val_acc: 0.6577\n",
      "\n",
      "Epoch 00014: val_acc improved from 0.61261 to 0.65766, saving model to ../tuning_data/best_vgg_model_eyewears_3.h5\n",
      "Epoch 15/50\n",
      "31/31 [==============================] - 4s 117ms/step - loss: 0.6896 - acc: 0.5265 - val_loss: 0.6732 - val_acc: 0.6396\n",
      "\n",
      "Epoch 00015: val_acc did not improve from 0.65766\n",
      "Epoch 16/50\n",
      "31/31 [==============================] - 4s 135ms/step - loss: 0.6818 - acc: 0.5585 - val_loss: 0.6838 - val_acc: 0.5225\n",
      "\n",
      "Epoch 00016: val_acc did not improve from 0.65766\n",
      "Epoch 17/50\n",
      "31/31 [==============================] - 4s 138ms/step - loss: 0.6780 - acc: 0.5875 - val_loss: 0.6742 - val_acc: 0.6696\n",
      "\n",
      "Epoch 00017: val_acc improved from 0.65766 to 0.66964, saving model to ../tuning_data/best_vgg_model_eyewears_3.h5\n",
      "Epoch 18/50\n",
      "31/31 [==============================] - 5s 151ms/step - loss: 0.6809 - acc: 0.5512 - val_loss: 0.6785 - val_acc: 0.6757\n",
      "\n",
      "Epoch 00018: val_acc improved from 0.66964 to 0.67568, saving model to ../tuning_data/best_vgg_model_eyewears_3.h5\n",
      "Epoch 19/50\n",
      "31/31 [==============================] - 4s 128ms/step - loss: 0.6676 - acc: 0.5799 - val_loss: 0.6580 - val_acc: 0.6486\n",
      "\n",
      "Epoch 00019: val_acc did not improve from 0.67568\n",
      "Epoch 20/50\n",
      "31/31 [==============================] - 4s 132ms/step - loss: 0.6637 - acc: 0.6233 - val_loss: 0.6436 - val_acc: 0.7387\n",
      "\n",
      "Epoch 00020: val_acc improved from 0.67568 to 0.73874, saving model to ../tuning_data/best_vgg_model_eyewears_3.h5\n",
      "Epoch 21/50\n",
      "31/31 [==============================] - 4s 138ms/step - loss: 0.6633 - acc: 0.5840 - val_loss: 0.6517 - val_acc: 0.6126\n",
      "\n",
      "Epoch 00021: val_acc did not improve from 0.73874\n",
      "Epoch 22/50\n",
      "31/31 [==============================] - 4s 123ms/step - loss: 0.6480 - acc: 0.6435 - val_loss: 0.6408 - val_acc: 0.6847\n",
      "\n",
      "Epoch 00022: val_acc did not improve from 0.73874\n",
      "Epoch 23/50\n",
      "31/31 [==============================] - 4s 120ms/step - loss: 0.6286 - acc: 0.6783 - val_loss: 0.6101 - val_acc: 0.7207\n",
      "\n",
      "Epoch 00023: val_acc did not improve from 0.73874\n",
      "Epoch 24/50\n",
      "31/31 [==============================] - 4s 135ms/step - loss: 0.6171 - acc: 0.6772 - val_loss: 0.6071 - val_acc: 0.6847\n",
      "\n",
      "Epoch 00024: val_acc did not improve from 0.73874\n",
      "Epoch 25/50\n",
      "31/31 [==============================] - 4s 133ms/step - loss: 0.5875 - acc: 0.7241 - val_loss: 0.5487 - val_acc: 0.7321\n",
      "\n",
      "Epoch 00025: val_acc did not improve from 0.73874\n",
      "Epoch 26/50\n",
      "31/31 [==============================] - 5s 155ms/step - loss: 0.5721 - acc: 0.7211 - val_loss: 0.5115 - val_acc: 0.8018\n",
      "\n",
      "Epoch 00026: val_acc improved from 0.73874 to 0.80180, saving model to ../tuning_data/best_vgg_model_eyewears_3.h5\n",
      "Epoch 27/50\n",
      "31/31 [==============================] - 4s 125ms/step - loss: 0.5349 - acc: 0.7509 - val_loss: 0.5027 - val_acc: 0.7568\n",
      "\n",
      "Epoch 00027: val_acc did not improve from 0.80180\n",
      "Epoch 28/50\n",
      "31/31 [==============================] - 4s 126ms/step - loss: 0.4635 - acc: 0.8008 - val_loss: 0.4890 - val_acc: 0.7928\n",
      "\n",
      "Epoch 00028: val_acc did not improve from 0.80180\n",
      "Epoch 29/50\n",
      "31/31 [==============================] - 4s 129ms/step - loss: 0.4616 - acc: 0.8048 - val_loss: 0.4478 - val_acc: 0.7928\n",
      "\n",
      "Epoch 00029: val_acc did not improve from 0.80180\n",
      "Epoch 30/50\n",
      "31/31 [==============================] - 4s 129ms/step - loss: 0.4042 - acc: 0.8452 - val_loss: 0.3713 - val_acc: 0.8559\n",
      "\n",
      "Epoch 00030: val_acc improved from 0.80180 to 0.85586, saving model to ../tuning_data/best_vgg_model_eyewears_3.h5\n",
      "Epoch 31/50\n",
      "31/31 [==============================] - 4s 128ms/step - loss: 0.3593 - acc: 0.8407 - val_loss: 0.3318 - val_acc: 0.9099\n",
      "\n",
      "Epoch 00031: val_acc improved from 0.85586 to 0.90991, saving model to ../tuning_data/best_vgg_model_eyewears_3.h5\n",
      "Epoch 32/50\n",
      "31/31 [==============================] - 4s 130ms/step - loss: 0.4367 - acc: 0.7948 - val_loss: 0.3701 - val_acc: 0.8739\n",
      "\n",
      "Epoch 00032: val_acc did not improve from 0.90991\n",
      "Epoch 33/50\n",
      "31/31 [==============================] - 4s 135ms/step - loss: 0.3641 - acc: 0.8553 - val_loss: 0.3390 - val_acc: 0.9018\n",
      "\n",
      "Epoch 00033: val_acc did not improve from 0.90991\n",
      "Epoch 34/50\n",
      "31/31 [==============================] - 5s 162ms/step - loss: 0.3685 - acc: 0.8482 - val_loss: 0.3891 - val_acc: 0.8559\n",
      "\n",
      "Epoch 00034: val_acc did not improve from 0.90991\n",
      "Epoch 35/50\n",
      "31/31 [==============================] - 5s 152ms/step - loss: 0.3278 - acc: 0.8754 - val_loss: 0.3181 - val_acc: 0.8649\n",
      "\n",
      "Epoch 00035: val_acc did not improve from 0.90991\n",
      "Epoch 36/50\n",
      "31/31 [==============================] - 4s 144ms/step - loss: 0.2852 - acc: 0.8921 - val_loss: 0.3259 - val_acc: 0.8468\n",
      "\n",
      "Epoch 00036: val_acc did not improve from 0.90991\n",
      "Epoch 37/50\n",
      "31/31 [==============================] - 4s 144ms/step - loss: 0.2802 - acc: 0.8956 - val_loss: 0.3975 - val_acc: 0.8378\n",
      "\n",
      "Epoch 00037: val_acc did not improve from 0.90991\n",
      "Epoch 38/50\n",
      "31/31 [==============================] - 4s 130ms/step - loss: 0.2847 - acc: 0.8891 - val_loss: 0.3311 - val_acc: 0.8739\n",
      "\n",
      "Epoch 00038: val_acc did not improve from 0.90991\n",
      "Epoch 39/50\n",
      "31/31 [==============================] - 4s 130ms/step - loss: 0.2750 - acc: 0.8976 - val_loss: 0.2939 - val_acc: 0.8649\n",
      "\n",
      "Epoch 00039: val_acc did not improve from 0.90991\n",
      "Epoch 40/50\n",
      "31/31 [==============================] - 4s 134ms/step - loss: 0.2687 - acc: 0.8891 - val_loss: 0.2652 - val_acc: 0.9099\n",
      "\n",
      "Epoch 00040: val_acc improved from 0.90991 to 0.90991, saving model to ../tuning_data/best_vgg_model_eyewears_3.h5\n",
      "Epoch 41/50\n"
     ]
    },
    {
     "name": "stdout",
     "output_type": "stream",
     "text": [
      "31/31 [==============================] - 4s 133ms/step - loss: 0.2601 - acc: 0.8851 - val_loss: 0.3166 - val_acc: 0.8482\n",
      "\n",
      "Epoch 00041: val_acc did not improve from 0.90991\n",
      "Epoch 42/50\n",
      "31/31 [==============================] - 5s 150ms/step - loss: 0.1944 - acc: 0.9395 - val_loss: 0.2834 - val_acc: 0.8739\n",
      "\n",
      "Epoch 00042: val_acc did not improve from 0.90991\n",
      "Epoch 43/50\n",
      "31/31 [==============================] - 4s 133ms/step - loss: 0.2577 - acc: 0.8931 - val_loss: 0.3334 - val_acc: 0.8649\n",
      "\n",
      "Epoch 00043: val_acc did not improve from 0.90991\n",
      "Epoch 44/50\n",
      "31/31 [==============================] - 4s 128ms/step - loss: 0.2505 - acc: 0.8976 - val_loss: 0.2799 - val_acc: 0.9009\n",
      "\n",
      "Epoch 00044: val_acc did not improve from 0.90991\n",
      "Epoch 45/50\n",
      "31/31 [==============================] - 4s 137ms/step - loss: 0.2264 - acc: 0.9214 - val_loss: 0.3172 - val_acc: 0.8649\n",
      "\n",
      "Epoch 00045: val_acc did not improve from 0.90991\n",
      "Epoch 46/50\n",
      "31/31 [==============================] - 4s 121ms/step - loss: 0.2237 - acc: 0.9188 - val_loss: 0.2580 - val_acc: 0.9009\n",
      "\n",
      "Epoch 00046: val_acc did not improve from 0.90991\n",
      "Epoch 47/50\n",
      "31/31 [==============================] - 4s 129ms/step - loss: 0.2228 - acc: 0.9214 - val_loss: 0.3401 - val_acc: 0.8198\n",
      "\n",
      "Epoch 00047: val_acc did not improve from 0.90991\n",
      "Epoch 48/50\n",
      "31/31 [==============================] - 4s 130ms/step - loss: 0.2289 - acc: 0.9167 - val_loss: 0.3038 - val_acc: 0.8378\n",
      "\n",
      "Epoch 00048: val_acc did not improve from 0.90991\n",
      "Epoch 49/50\n",
      "31/31 [==============================] - 4s 133ms/step - loss: 0.2082 - acc: 0.9213 - val_loss: 0.2846 - val_acc: 0.8661\n",
      "\n",
      "Epoch 00049: val_acc did not improve from 0.90991\n",
      "Epoch 50/50\n",
      "31/31 [==============================] - 5s 150ms/step - loss: 0.2134 - acc: 0.9194 - val_loss: 0.2553 - val_acc: 0.8649\n",
      "\n",
      "Epoch 00050: val_acc did not improve from 0.90991\n",
      "Model: \"model_1\"\n",
      "_________________________________________________________________\n",
      "Layer (type)                 Output Shape              Param #   \n",
      "=================================================================\n",
      "input_1 (InputLayer)         (None, 150, 150, 3)       0         \n",
      "_________________________________________________________________\n",
      "block1_conv1 (Conv2D)        (None, 150, 150, 64)      1792      \n",
      "_________________________________________________________________\n",
      "block1_conv2 (Conv2D)        (None, 150, 150, 64)      36928     \n",
      "_________________________________________________________________\n",
      "block1_pool (MaxPooling2D)   (None, 75, 75, 64)        0         \n",
      "_________________________________________________________________\n",
      "block2_conv1 (Conv2D)        (None, 75, 75, 128)       73856     \n",
      "_________________________________________________________________\n",
      "block2_conv2 (Conv2D)        (None, 75, 75, 128)       147584    \n",
      "_________________________________________________________________\n",
      "block2_pool (MaxPooling2D)   (None, 37, 37, 128)       0         \n",
      "_________________________________________________________________\n",
      "block3_conv1 (Conv2D)        (None, 37, 37, 256)       295168    \n",
      "_________________________________________________________________\n",
      "block3_conv2 (Conv2D)        (None, 37, 37, 256)       590080    \n",
      "_________________________________________________________________\n",
      "block3_conv3 (Conv2D)        (None, 37, 37, 256)       590080    \n",
      "_________________________________________________________________\n",
      "block3_pool (MaxPooling2D)   (None, 18, 18, 256)       0         \n",
      "_________________________________________________________________\n",
      "block4_conv1 (Conv2D)        (None, 18, 18, 512)       1180160   \n",
      "_________________________________________________________________\n",
      "block4_conv2 (Conv2D)        (None, 18, 18, 512)       2359808   \n",
      "_________________________________________________________________\n",
      "block4_conv3 (Conv2D)        (None, 18, 18, 512)       2359808   \n",
      "_________________________________________________________________\n",
      "block4_pool (MaxPooling2D)   (None, 9, 9, 512)         0         \n",
      "_________________________________________________________________\n",
      "block5_conv1 (Conv2D)        (None, 9, 9, 512)         2359808   \n",
      "_________________________________________________________________\n",
      "block5_conv2 (Conv2D)        (None, 9, 9, 512)         2359808   \n",
      "_________________________________________________________________\n",
      "block5_conv3 (Conv2D)        (None, 9, 9, 512)         2359808   \n",
      "_________________________________________________________________\n",
      "block5_pool (MaxPooling2D)   (None, 4, 4, 512)         0         \n",
      "_________________________________________________________________\n",
      "sequential_1 (Sequential)    (None, 1)                 2097665   \n",
      "=================================================================\n",
      "Total params: 16,812,353\n",
      "Trainable params: 9,177,089\n",
      "Non-trainable params: 7,635,264\n",
      "_________________________________________________________________\n"
     ]
    }
   ],
   "source": [
    "model_history = fine_tune_model(train_df, test_df,50,16,'eyewear')"
   ]
  },
  {
   "cell_type": "code",
   "execution_count": 7,
   "metadata": {},
   "outputs": [
    {
     "name": "stdout",
     "output_type": "stream",
     "text": [
      "highest test accuracy: 0.9099099109838674\n",
      "------------------\n",
      "highest train accuracy: 0.9377593360995851\n"
     ]
    }
   ],
   "source": [
    "highest_val_acc, highest_train_acc = max(model_history.history['val_acc']), max(model_history.history['acc'])\n",
    "print(f'highest test accuracy: {highest_val_acc}')\n",
    "print('------------------')\n",
    "print(f'highest train accuracy: {highest_train_acc}')"
   ]
  },
  {
   "cell_type": "code",
   "execution_count": 11,
   "metadata": {},
   "outputs": [
    {
     "name": "stdout",
     "output_type": "stream",
     "text": [
      "lowest test loss: 0.25528756267315633\n",
      "------------------\n",
      "lowest train loss: 0.1966000463488933\n"
     ]
    }
   ],
   "source": [
    "lowest_val_loss, lowest_train_loss = min(model_history.history['val_loss']), min(model_history.history['loss'])\n",
    "print(f'lowest test loss: {lowest_val_loss}')\n",
    "print('------------------')\n",
    "print(f'lowest train loss: {lowest_train_loss}')"
   ]
  },
  {
   "cell_type": "code",
   "execution_count": 12,
   "metadata": {},
   "outputs": [
    {
     "data": {
      "image/png": "[encoded data removed]",
      "text/plain": [
       "<Figure size 432x288 with 1 Axes>"
      ]
     },
     "metadata": {
      "needs_background": "light"
     },
     "output_type": "display_data"
    }
   ],
   "source": [
    "plt.plot(model_history.history['val_acc'], color = 'red', label = 'test')\n",
    "plt.plot(model_history.history['acc'], color = 'blue', label = 'train')\n",
    "plt.title('accuracy')\n",
    "plt.ylabel('accuracy')\n",
    "plt.legend()\n",
    "plt.show()"
   ]
  },
  {
   "cell_type": "code",
   "execution_count": 13,
   "metadata": {},
   "outputs": [
    {
     "data": {
      "image/png": "[encoded data removed]",
      "text/plain": [
       "<Figure size 432x288 with 1 Axes>"
      ]
     },
     "metadata": {
      "needs_background": "light"
     },
     "output_type": "display_data"
    }
   ],
   "source": [
    "plt.plot(model_history.history['val_loss'], color = 'red', label = 'test')\n",
    "plt.plot(model_history.history['loss'], color = 'blue', label = 'train')\n",
    "plt.title('loss')\n",
    "plt.ylabel('loss')\n",
    "plt.legend()\n",
    "plt.show()"
   ]
  },
  {
   "cell_type": "markdown",
   "metadata": {},
   "source": [
    "### Save model "
   ]
  },
  {
   "cell_type": "code",
   "execution_count": 4,
   "metadata": {},
   "outputs": [],
   "source": [
    "# save model artchitecture \n",
    "eyewear_model = model_history.model\n",
    "eyewear_model_json = eyewear_model.to_json()"
   ]
  },
  {
   "cell_type": "code",
   "execution_count": 16,
   "metadata": {},
   "outputs": [],
   "source": [
    "# serialize model to JSON\n",
    "with open(\"../tuning_dataeyewear_model.json\", \"w\") as json_file:\n",
    "    json_file.write(eyewear_model_json)"
   ]
  },
  {
   "cell_type": "code",
   "execution_count": 6,
   "metadata": {},
   "outputs": [
    {
     "name": "stderr",
     "output_type": "stream",
     "text": [
      "W0829 20:21:30.867205 140018371573568 deprecation_wrapper.py:119] From /home/mindy/anaconda3/lib/python3.7/site-packages/keras/backend/tensorflow_backend.py:541: The name tf.placeholder is deprecated. Please use tf.compat.v1.placeholder instead.\n",
      "\n",
      "W0829 20:21:30.883196 140018371573568 deprecation_wrapper.py:119] From /home/mindy/anaconda3/lib/python3.7/site-packages/keras/backend/tensorflow_backend.py:4432: The name tf.random_uniform is deprecated. Please use tf.random.uniform instead.\n",
      "\n",
      "W0829 20:21:30.896896 140018371573568 deprecation_wrapper.py:119] From /home/mindy/anaconda3/lib/python3.7/site-packages/keras/backend/tensorflow_backend.py:66: The name tf.get_default_graph is deprecated. Please use tf.compat.v1.get_default_graph instead.\n",
      "\n",
      "W0829 20:21:30.900526 140018371573568 deprecation.py:506] From /home/mindy/anaconda3/lib/python3.7/site-packages/keras/backend/tensorflow_backend.py:3733: calling dropout (from tensorflow.python.ops.nn_ops) with keep_prob is deprecated and will be removed in a future version.\n",
      "Instructions for updating:\n",
      "Please use `rate` instead of `keep_prob`. Rate should be set to `rate = 1 - keep_prob`.\n",
      "W0829 20:21:30.923610 140018371573568 deprecation_wrapper.py:119] From /home/mindy/anaconda3/lib/python3.7/site-packages/keras/backend/tensorflow_backend.py:4267: The name tf.nn.max_pool is deprecated. Please use tf.nn.max_pool2d instead.\n",
      "\n"
     ]
    }
   ],
   "source": [
    "# load json and create model\n",
    "json_file = open('../tuning_data/eyewear_model.json', 'r')\n",
    "loaded_model_json = json_file.read()\n",
    "json_file.close()\n",
    "loaded_model_eyewear = model_from_json(loaded_model_json)"
   ]
  },
  {
   "cell_type": "code",
   "execution_count": 7,
   "metadata": {},
   "outputs": [],
   "source": [
    "# load model weight \n",
    "loaded_model_eyewear.load_weights('../tuning_data/best_vgg_model_eyewears.h5')"
   ]
  },
  {
   "cell_type": "code",
   "execution_count": 10,
   "metadata": {},
   "outputs": [
    {
     "name": "stdout",
     "output_type": "stream",
     "text": [
      "Found 127 validated image filenames belonging to 2 classes.\n"
     ]
    }
   ],
   "source": [
    "test_gen = ImageDataGenerator(rescale=1./255)\n",
    "test_generator =  test_gen.flow_from_dataframe(\n",
    "    dataframe=test_df,\n",
    "    directory='../data/pics',\n",
    "    x_col='pic_id',\n",
    "    y_col='eyewear',\n",
    "    batch_size=16,\n",
    "    target_size=(150,150),\n",
    "    class_mode = 'binary')"
   ]
  },
  {
   "cell_type": "code",
   "execution_count": 11,
   "metadata": {},
   "outputs": [
    {
     "name": "stderr",
     "output_type": "stream",
     "text": [
      "W0829 20:22:02.732247 140018371573568 deprecation_wrapper.py:119] From /home/mindy/anaconda3/lib/python3.7/site-packages/keras/optimizers.py:793: The name tf.train.Optimizer is deprecated. Please use tf.compat.v1.train.Optimizer instead.\n",
      "\n",
      "W0829 20:22:02.736685 140018371573568 deprecation.py:323] From /home/mindy/anaconda3/lib/python3.7/site-packages/tensorflow/python/ops/nn_impl.py:180: add_dispatch_support.<locals>.wrapper (from tensorflow.python.ops.array_ops) is deprecated and will be removed in a future version.\n",
      "Instructions for updating:\n",
      "Use tf.where in 2.0, which has the same broadcast rule as np.where\n"
     ]
    }
   ],
   "source": [
    "loaded_model_eyewear.compile(loss='binary_crossentropy',\n",
    "             optimizer=optimizers.SGD(lr=1e-4, momentum=0.9),\n",
    "             metrics=['accuracy'])"
   ]
  },
  {
   "cell_type": "code",
   "execution_count": 12,
   "metadata": {
    "scrolled": true
   },
   "outputs": [
    {
     "data": {
      "text/plain": [
       "[0.1128262274377928, 0.9763779532252335]"
      ]
     },
     "execution_count": 12,
     "metadata": {},
     "output_type": "execute_result"
    }
   ],
   "source": [
    "loaded_model_eyewear.evaluate_generator(test_generator)"
   ]
  },
  {
   "cell_type": "code",
   "execution_count": 13,
   "metadata": {},
   "outputs": [],
   "source": [
    "feature, label = next(test_generator)"
   ]
  },
  {
   "cell_type": "code",
   "execution_count": 25,
   "metadata": {},
   "outputs": [
    {
     "data": {
      "text/plain": [
       "0.0"
      ]
     },
     "execution_count": 25,
     "metadata": {},
     "output_type": "execute_result"
    }
   ],
   "source": [
    "label[10]"
   ]
  },
  {
   "cell_type": "code",
   "execution_count": 24,
   "metadata": {},
   "outputs": [
    {
     "data": {
      "image/png": "[encoded data removed]",
      "text/plain": [
       "<Figure size 432x288 with 1 Axes>"
      ]
     },
     "metadata": {
      "needs_background": "light"
     },
     "output_type": "display_data"
    }
   ],
   "source": [
    "plt.imshow(feature[10])\n",
    "plt.show()"
   ]
  },
  {
   "cell_type": "code",
   "execution_count": 19,
   "metadata": {},
   "outputs": [
    {
     "data": {
      "text/plain": [
       "array([[1.],\n",
       "       [1.],\n",
       "       [1.],\n",
       "       [1.],\n",
       "       [0.],\n",
       "       [1.],\n",
       "       [1.],\n",
       "       [1.],\n",
       "       [0.],\n",
       "       [1.],\n",
       "       [0.],\n",
       "       [0.],\n",
       "       [0.],\n",
       "       [1.],\n",
       "       [0.],\n",
       "       [0.],\n",
       "       [0.],\n",
       "       [0.],\n",
       "       [1.],\n",
       "       [0.],\n",
       "       [0.],\n",
       "       [0.],\n",
       "       [0.],\n",
       "       [0.],\n",
       "       [1.],\n",
       "       [1.],\n",
       "       [1.],\n",
       "       [1.],\n",
       "       [0.],\n",
       "       [1.],\n",
       "       [1.],\n",
       "       [1.],\n",
       "       [1.],\n",
       "       [0.],\n",
       "       [1.],\n",
       "       [0.],\n",
       "       [0.],\n",
       "       [0.],\n",
       "       [0.],\n",
       "       [1.],\n",
       "       [0.],\n",
       "       [0.],\n",
       "       [1.],\n",
       "       [1.],\n",
       "       [0.],\n",
       "       [1.],\n",
       "       [1.],\n",
       "       [0.],\n",
       "       [1.],\n",
       "       [1.],\n",
       "       [1.],\n",
       "       [0.],\n",
       "       [0.],\n",
       "       [0.],\n",
       "       [1.],\n",
       "       [1.],\n",
       "       [1.],\n",
       "       [1.],\n",
       "       [0.],\n",
       "       [1.],\n",
       "       [1.],\n",
       "       [0.],\n",
       "       [1.],\n",
       "       [1.],\n",
       "       [0.],\n",
       "       [0.],\n",
       "       [1.],\n",
       "       [1.],\n",
       "       [1.],\n",
       "       [1.],\n",
       "       [1.],\n",
       "       [1.],\n",
       "       [0.],\n",
       "       [0.],\n",
       "       [1.],\n",
       "       [0.],\n",
       "       [1.],\n",
       "       [0.],\n",
       "       [1.],\n",
       "       [1.],\n",
       "       [1.],\n",
       "       [1.],\n",
       "       [1.],\n",
       "       [1.],\n",
       "       [1.],\n",
       "       [0.],\n",
       "       [1.],\n",
       "       [1.],\n",
       "       [0.],\n",
       "       [1.],\n",
       "       [0.],\n",
       "       [1.],\n",
       "       [0.],\n",
       "       [1.],\n",
       "       [1.],\n",
       "       [0.],\n",
       "       [0.],\n",
       "       [0.],\n",
       "       [1.],\n",
       "       [0.],\n",
       "       [0.],\n",
       "       [1.],\n",
       "       [1.],\n",
       "       [0.],\n",
       "       [0.],\n",
       "       [0.],\n",
       "       [1.],\n",
       "       [1.],\n",
       "       [0.],\n",
       "       [1.],\n",
       "       [1.],\n",
       "       [0.],\n",
       "       [0.],\n",
       "       [1.],\n",
       "       [0.],\n",
       "       [0.],\n",
       "       [1.],\n",
       "       [0.],\n",
       "       [0.],\n",
       "       [0.],\n",
       "       [0.],\n",
       "       [1.],\n",
       "       [0.],\n",
       "       [0.],\n",
       "       [0.],\n",
       "       [0.],\n",
       "       [1.]], dtype=float32)"
      ]
     },
     "execution_count": 19,
     "metadata": {},
     "output_type": "execute_result"
    }
   ],
   "source": [
    "# save the model\n",
    "np.around(loaded_model_eyewear.predict_generator(test_generator))"
   ]
  },
  {
   "cell_type": "code",
   "execution_count": null,
   "metadata": {},
   "outputs": [],
   "source": []
  }
 ],
 "metadata": {
  "kernelspec": {
   "display_name": "Python 3",
   "language": "python",
   "name": "python3"
  },
  "language_info": {
   "codemirror_mode": {
    "name": "ipython",
    "version": 3
   },
   "file_extension": ".py",
   "mimetype": "text/x-python",
   "name": "python",
   "nbconvert_exporter": "python",
   "pygments_lexer": "ipython3",
   "version": "3.7.3"
  }
 },
 "nbformat": 4,
 "nbformat_minor": 2
}
