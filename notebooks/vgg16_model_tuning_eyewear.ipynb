{
 "cells": [
  {
   "cell_type": "markdown",
   "metadata": {},
   "source": [
    "## Transfer Learning Tuning_EyeWear:\n",
    "  * model parameter and other information can be found below:\n",
    "     * [source](https://blog.keras.io/building-powerful-image-classification-models-using-very-little-data.html)\n",
    "     \n",
    "  * base_model: use vgg16 and freeze at bottleneck layer (stop right before flatten layer) \n",
    "  * top_model: tune dense layers (parameters are inspired by source)\n",
    "     * batch_size 16 seems to work best for small data set \n",
    "\n",
    "##### warnings: make sure to restart kernel in between running different model tuning \n",
    "  \n",
    "---\n",
    "#### This cell is required in order to use GPU for running the model "
   ]
  },
  {
   "cell_type": "code",
   "execution_count": 1,
   "metadata": {},
   "outputs": [
    {
     "name": "stderr",
     "output_type": "stream",
     "text": [
      "Using TensorFlow backend.\n",
      "WARNING: Logging before flag parsing goes to stderr.\n",
      "W0829 13:09:13.096470 139973435746112 deprecation_wrapper.py:119] From /home/mindy/anaconda3/lib/python3.7/site-packages/keras/backend/tensorflow_backend.py:190: The name tf.get_default_session is deprecated. Please use tf.compat.v1.get_default_session instead.\n",
      "\n",
      "W0829 13:09:13.097342 139973435746112 deprecation_wrapper.py:119] From /home/mindy/anaconda3/lib/python3.7/site-packages/keras/backend/tensorflow_backend.py:207: The name tf.global_variables is deprecated. Please use tf.compat.v1.global_variables instead.\n",
      "\n"
     ]
    }
   ],
   "source": [
    "import warnings\n",
    "warnings.filterwarnings('ignore')\n",
    "import tensorflow as tf\n",
    "import keras\n",
    "from keras.backend.tensorflow_backend import set_session\n",
    "config = tf.ConfigProto()\n",
    "config.gpu_options.allow_growth = True  # dynamically grow the memory used on the GPU\n",
    "config.log_device_placement = True  # to log device placement (on which device the operation ran)\n",
    "                                    # (nothing gets printed in Jupyter, only if you run it standalone)\n",
    "sess = tf.Session(config=config)\n",
    "set_session(sess)  # set this TensorFlow session as the default session for Keras\n",
    "keras.backend.get_session().run(tf.global_variables_initializer())  "
   ]
  },
  {
   "cell_type": "markdown",
   "metadata": {},
   "source": [
    "---\n",
    "#### Import necessary libraries"
   ]
  },
  {
   "cell_type": "code",
   "execution_count": 6,
   "metadata": {},
   "outputs": [],
   "source": [
    "import pandas as pd\n",
    "import numpy as np\n",
    "import matplotlib.pyplot as plt\n",
    "%matplotlib inline\n",
    "from keras_preprocessing.image import ImageDataGenerator\n",
    "from keras.models import Sequential, Model\n",
    "from keras.layers import Dropout, Flatten, Dense\n",
    "from keras.applications.vgg16 import VGG16\n",
    "from keras import optimizers\n",
    "from keras.models import model_from_json\n",
    "from keras.callbacks import ModelCheckpoint"
   ]
  },
  {
   "cell_type": "markdown",
   "metadata": {},
   "source": [
    "---\n",
    "#### Import train_df and test_df for eyewears"
   ]
  },
  {
   "cell_type": "code",
   "execution_count": 3,
   "metadata": {},
   "outputs": [],
   "source": [
    "train_df = pd.read_pickle('../pickle_files/train_df_glasses.pkl')\n",
    "test_df = pd.read_pickle('../pickle_files/test_df_glasses.pkl')"
   ]
  },
  {
   "cell_type": "markdown",
   "metadata": {},
   "source": [
    "#### Get bottleneck features to tune top models"
   ]
  },
  {
   "cell_type": "code",
   "execution_count": 4,
   "metadata": {},
   "outputs": [],
   "source": [
    "def save_bottleneck_features(train_df, test_df, label, batch_size):\n",
    "    '''\n",
    "    inputs:\n",
    "    train_df, test_df: train and test dataframes saved in pickle_files folder\n",
    "    label: a string, eyewear, hat, or beard\n",
    "    batch_size: process images in batches\n",
    "    outputs:\n",
    "    saves bottleneck features inside folder tuning_data as npy file\n",
    "    '''\n",
    "    # intialize the vgg16 model \n",
    "    # make sure not to train the top layers \n",
    "    base_model = VGG16(weights = 'imagenet', include_top = False)\n",
    "    # create train_generator and test_generator to get bottleneck inputs for train and test df \n",
    "    datagen = ImageDataGenerator(\n",
    "        rescale=1./255,\n",
    "        rotation_range=40,\n",
    "        shear_range=0.2,\n",
    "        zoom_range=0.2,\n",
    "        horizontal_flip=True)\n",
    "    # make sure shuffle is False so we know the label follows the sequence of the dataframe \n",
    "    # so we can tune top_model \n",
    "    train_generator = datagen.flow_from_dataframe(\n",
    "    dataframe=train_df,\n",
    "    directory='../data/pics',\n",
    "    x_col='pic_id',\n",
    "    y_col=label,\n",
    "    batch_size=batch_size,\n",
    "    shuffle = False,\n",
    "    target_size=(150,150),\n",
    "    class_mode = None)\n",
    "    # get features saved as .npy in tunign_data folder \n",
    "    bottleneck_features_train = base_model.predict_generator(\n",
    "        train_generator, train_df.shape[0]//batch_size)\n",
    "    np.save(open('../tuning_data/bottleneck_features_train_eyewears.npy','wb'),\n",
    "           bottleneck_features_train)\n",
    "    \n",
    "    test_generator = datagen.flow_from_dataframe(\n",
    "    dataframe=test_df,\n",
    "    directory='../data/pics',\n",
    "    x_col='pic_id',\n",
    "    y_col=label,\n",
    "    batch_size=batch_size,\n",
    "    shuffle = False,\n",
    "    target_size=(150,150),\n",
    "    class_mode = None)\n",
    "    bottleneck_features_test = base_model.predict_generator(\n",
    "        test_generator, test_df.shape[0]//batch_size)\n",
    "    np.save(open('../tuning_data/bottleneck_features_test_eyewears.npy','wb'),\n",
    "           bottleneck_features_test)"
   ]
  },
  {
   "cell_type": "markdown",
   "metadata": {},
   "source": [
    "#### Save bottleneck_features"
   ]
  },
  {
   "cell_type": "code",
   "execution_count": 5,
   "metadata": {
    "scrolled": true
   },
   "outputs": [
    {
     "name": "stderr",
     "output_type": "stream",
     "text": [
      "W0829 13:09:37.756263 139973435746112 deprecation_wrapper.py:119] From /home/mindy/anaconda3/lib/python3.7/site-packages/keras/backend/tensorflow_backend.py:66: The name tf.get_default_graph is deprecated. Please use tf.compat.v1.get_default_graph instead.\n",
      "\n",
      "W0829 13:09:37.757290 139973435746112 deprecation_wrapper.py:119] From /home/mindy/anaconda3/lib/python3.7/site-packages/keras/backend/tensorflow_backend.py:541: The name tf.placeholder is deprecated. Please use tf.compat.v1.placeholder instead.\n",
      "\n",
      "W0829 13:09:37.759651 139973435746112 deprecation_wrapper.py:119] From /home/mindy/anaconda3/lib/python3.7/site-packages/keras/backend/tensorflow_backend.py:4432: The name tf.random_uniform is deprecated. Please use tf.random.uniform instead.\n",
      "\n",
      "W0829 13:09:37.775812 139973435746112 deprecation_wrapper.py:119] From /home/mindy/anaconda3/lib/python3.7/site-packages/keras/backend/tensorflow_backend.py:4267: The name tf.nn.max_pool is deprecated. Please use tf.nn.max_pool2d instead.\n",
      "\n"
     ]
    },
    {
     "name": "stdout",
     "output_type": "stream",
     "text": [
      "Found 505 validated image filenames.\n",
      "Found 127 validated image filenames.\n"
     ]
    }
   ],
   "source": [
    "save_bottleneck_features(train_df,test_df,'eyewear',16)"
   ]
  },
  {
   "cell_type": "markdown",
   "metadata": {},
   "source": [
    "### Quick tuning of top models "
   ]
  },
  {
   "cell_type": "code",
   "execution_count": 7,
   "metadata": {},
   "outputs": [],
   "source": [
    "def train_top_model(train_df, test_df, epoch, batch_size, label):\n",
    "    '''\n",
    "    inputs:\n",
    "    train_df, test_df: dataframes saved in pickle_files to generate train and test labels \n",
    "    epoch: num of epochs in fit \n",
    "    batch_size: same as image generator batch size \n",
    "    label: a string, eyewear, hat, or beard\n",
    "    output:\n",
    "    saves model weights in a folder \n",
    "    '''\n",
    "    train_data = np.load(open('../tuning_data/bottleneck_features_train_eyewears.npy','rb'))\n",
    "    # make sure train_data and train_label have same num of samples\n",
    "    train_label = np.array(train_df[label].map({'not_'+label:0, label:1}))[:-(train_df.shape[0]%batch_size)]\n",
    "    \n",
    "    test_data = np.load(open('../tuning_data/bottleneck_features_test_eyewears.npy','rb'))\n",
    "    test_label = np.array(test_df[label].map({'not_'+label:0, label:1}))[:-(test_df.shape[0]%batch_size)]\n",
    "    \n",
    "    # build top model\n",
    "    model = Sequential()\n",
    "    model.add(Flatten(input_shape=train_data.shape[1:]))\n",
    "    model.add(Dense(256, activation='relu'))\n",
    "    model.add(Dropout(0.5))\n",
    "    model.add(Dense(1, activation='sigmoid'))\n",
    "    \n",
    "    # compile model \n",
    "    model.compile(optimizer='rmsprop',\n",
    "                 loss='binary_crossentropy',\n",
    "                 metrics=['accuracy'])\n",
    "    \n",
    "    # checkpoint for best weights \n",
    "    filepath=\"../tuning_data/best_bottleneck_vgg_model_eyewears.h5\"\n",
    "    checkpoint = ModelCheckpoint(filepath, monitor='val_acc', verbose=1, save_best_only=True, mode='max')\n",
    "    callbacks_list = [checkpoint]\n",
    "    \n",
    "    # fit model \n",
    "    model.fit(train_data, train_label,\n",
    "             epochs=epoch,\n",
    "             batch_size=batch_size,\n",
    "             validation_data=(test_data,test_label),\n",
    "             callbacks=callbacks_list)\n",
    "    del model\n",
    "    keras.backend.clear_session()"
   ]
  },
  {
   "cell_type": "markdown",
   "metadata": {},
   "source": [
    "#### run train_top_model and save results in tuning_data"
   ]
  },
  {
   "cell_type": "code",
   "execution_count": 8,
   "metadata": {
    "scrolled": false
   },
   "outputs": [
    {
     "name": "stderr",
     "output_type": "stream",
     "text": [
      "W0829 13:14:31.956500 139973435746112 deprecation.py:506] From /home/mindy/anaconda3/lib/python3.7/site-packages/keras/backend/tensorflow_backend.py:3733: calling dropout (from tensorflow.python.ops.nn_ops) with keep_prob is deprecated and will be removed in a future version.\n",
      "Instructions for updating:\n",
      "Please use `rate` instead of `keep_prob`. Rate should be set to `rate = 1 - keep_prob`.\n",
      "W0829 13:14:31.969187 139973435746112 deprecation_wrapper.py:119] From /home/mindy/anaconda3/lib/python3.7/site-packages/keras/optimizers.py:793: The name tf.train.Optimizer is deprecated. Please use tf.compat.v1.train.Optimizer instead.\n",
      "\n",
      "W0829 13:14:31.978829 139973435746112 deprecation.py:323] From /home/mindy/anaconda3/lib/python3.7/site-packages/tensorflow/python/ops/nn_impl.py:180: add_dispatch_support.<locals>.wrapper (from tensorflow.python.ops.array_ops) is deprecated and will be removed in a future version.\n",
      "Instructions for updating:\n",
      "Use tf.where in 2.0, which has the same broadcast rule as np.where\n"
     ]
    },
    {
     "name": "stdout",
     "output_type": "stream",
     "text": [
      "Train on 496 samples, validate on 112 samples\n",
      "Epoch 1/50\n",
      "496/496 [==============================] - 0s 856us/step - loss: 1.4105 - acc: 0.6815 - val_loss: 0.3433 - val_acc: 0.8750\n",
      "\n",
      "Epoch 00001: val_acc improved from -inf to 0.87500, saving model to ../tuning_data/best_bottleneck_vgg_model_eyewears.h5\n",
      "Epoch 2/50\n",
      "496/496 [==============================] - 0s 187us/step - loss: 0.5911 - acc: 0.7480 - val_loss: 0.6156 - val_acc: 0.7500\n",
      "\n",
      "Epoch 00002: val_acc did not improve from 0.87500\n",
      "Epoch 3/50\n",
      "496/496 [==============================] - 0s 191us/step - loss: 0.4228 - acc: 0.8105 - val_loss: 0.3239 - val_acc: 0.8571\n",
      "\n",
      "Epoch 00003: val_acc did not improve from 0.87500\n",
      "Epoch 4/50\n",
      "496/496 [==============================] - 0s 185us/step - loss: 0.3086 - acc: 0.8790 - val_loss: 0.4189 - val_acc: 0.8661\n",
      "\n",
      "Epoch 00004: val_acc did not improve from 0.87500\n",
      "Epoch 5/50\n",
      "496/496 [==============================] - 0s 186us/step - loss: 0.3204 - acc: 0.8871 - val_loss: 0.3882 - val_acc: 0.8304\n",
      "\n",
      "Epoch 00005: val_acc did not improve from 0.87500\n",
      "Epoch 6/50\n",
      "496/496 [==============================] - 0s 212us/step - loss: 0.1903 - acc: 0.9274 - val_loss: 1.0930 - val_acc: 0.7411\n",
      "\n",
      "Epoch 00006: val_acc did not improve from 0.87500\n",
      "Epoch 7/50\n",
      "496/496 [==============================] - 0s 205us/step - loss: 0.1990 - acc: 0.9153 - val_loss: 1.7908 - val_acc: 0.6071\n",
      "\n",
      "Epoch 00007: val_acc did not improve from 0.87500\n",
      "Epoch 8/50\n",
      "496/496 [==============================] - 0s 196us/step - loss: 0.1658 - acc: 0.9375 - val_loss: 0.5317 - val_acc: 0.8482\n",
      "\n",
      "Epoch 00008: val_acc did not improve from 0.87500\n",
      "Epoch 9/50\n",
      "496/496 [==============================] - 0s 191us/step - loss: 0.1005 - acc: 0.9657 - val_loss: 0.5736 - val_acc: 0.8214\n",
      "\n",
      "Epoch 00009: val_acc did not improve from 0.87500\n",
      "Epoch 10/50\n",
      "496/496 [==============================] - 0s 201us/step - loss: 0.1161 - acc: 0.9496 - val_loss: 0.5100 - val_acc: 0.8482\n",
      "\n",
      "Epoch 00010: val_acc did not improve from 0.87500\n",
      "Epoch 11/50\n",
      "496/496 [==============================] - 0s 204us/step - loss: 0.1125 - acc: 0.9577 - val_loss: 0.5259 - val_acc: 0.8661\n",
      "\n",
      "Epoch 00011: val_acc did not improve from 0.87500\n",
      "Epoch 12/50\n",
      "496/496 [==============================] - 0s 204us/step - loss: 0.1194 - acc: 0.9556 - val_loss: 0.5914 - val_acc: 0.8661\n",
      "\n",
      "Epoch 00012: val_acc did not improve from 0.87500\n",
      "Epoch 13/50\n",
      "496/496 [==============================] - 0s 195us/step - loss: 0.0389 - acc: 0.9899 - val_loss: 0.6449 - val_acc: 0.8571\n",
      "\n",
      "Epoch 00013: val_acc did not improve from 0.87500\n",
      "Epoch 14/50\n",
      "496/496 [==============================] - 0s 188us/step - loss: 0.1462 - acc: 0.9536 - val_loss: 0.5840 - val_acc: 0.8929\n",
      "\n",
      "Epoch 00014: val_acc improved from 0.87500 to 0.89286, saving model to ../tuning_data/best_bottleneck_vgg_model_eyewears.h5\n",
      "Epoch 15/50\n",
      "496/496 [==============================] - 0s 192us/step - loss: 0.0284 - acc: 0.9859 - val_loss: 0.5313 - val_acc: 0.8750\n",
      "\n",
      "Epoch 00015: val_acc did not improve from 0.89286\n",
      "Epoch 16/50\n",
      "496/496 [==============================] - 0s 191us/step - loss: 0.0416 - acc: 0.9758 - val_loss: 0.6341 - val_acc: 0.8571\n",
      "\n",
      "Epoch 00016: val_acc did not improve from 0.89286\n",
      "Epoch 17/50\n",
      "496/496 [==============================] - 0s 193us/step - loss: 0.0498 - acc: 0.9819 - val_loss: 0.7776 - val_acc: 0.8571\n",
      "\n",
      "Epoch 00017: val_acc did not improve from 0.89286\n",
      "Epoch 18/50\n",
      "496/496 [==============================] - 0s 195us/step - loss: 0.0280 - acc: 0.9899 - val_loss: 0.6820 - val_acc: 0.8750\n",
      "\n",
      "Epoch 00018: val_acc did not improve from 0.89286\n",
      "Epoch 19/50\n",
      "496/496 [==============================] - 0s 184us/step - loss: 0.0440 - acc: 0.9879 - val_loss: 1.3807 - val_acc: 0.7857\n",
      "\n",
      "Epoch 00019: val_acc did not improve from 0.89286\n",
      "Epoch 20/50\n",
      "496/496 [==============================] - 0s 191us/step - loss: 0.0160 - acc: 0.9919 - val_loss: 0.7237 - val_acc: 0.8661\n",
      "\n",
      "Epoch 00020: val_acc did not improve from 0.89286\n",
      "Epoch 21/50\n",
      "496/496 [==============================] - 0s 189us/step - loss: 0.1077 - acc: 0.9718 - val_loss: 0.7544 - val_acc: 0.8839\n",
      "\n",
      "Epoch 00021: val_acc did not improve from 0.89286\n",
      "Epoch 22/50\n",
      "496/496 [==============================] - 0s 186us/step - loss: 0.0109 - acc: 0.9960 - val_loss: 0.7619 - val_acc: 0.8750\n",
      "\n",
      "Epoch 00022: val_acc did not improve from 0.89286\n",
      "Epoch 23/50\n",
      "496/496 [==============================] - 0s 185us/step - loss: 0.0424 - acc: 0.9899 - val_loss: 0.7195 - val_acc: 0.8839\n",
      "\n",
      "Epoch 00023: val_acc did not improve from 0.89286\n",
      "Epoch 24/50\n",
      "496/496 [==============================] - 0s 189us/step - loss: 0.0227 - acc: 0.9919 - val_loss: 0.7463 - val_acc: 0.8750\n",
      "\n",
      "Epoch 00024: val_acc did not improve from 0.89286\n",
      "Epoch 25/50\n",
      "496/496 [==============================] - 0s 185us/step - loss: 0.0069 - acc: 0.9960 - val_loss: 1.0926 - val_acc: 0.8393\n",
      "\n",
      "Epoch 00025: val_acc did not improve from 0.89286\n",
      "Epoch 26/50\n",
      "496/496 [==============================] - 0s 179us/step - loss: 0.0240 - acc: 0.9919 - val_loss: 0.9394 - val_acc: 0.8571\n",
      "\n",
      "Epoch 00026: val_acc did not improve from 0.89286\n",
      "Epoch 27/50\n",
      "496/496 [==============================] - 0s 189us/step - loss: 0.0257 - acc: 0.9919 - val_loss: 0.7878 - val_acc: 0.8750\n",
      "\n",
      "Epoch 00027: val_acc did not improve from 0.89286\n",
      "Epoch 28/50\n",
      "496/496 [==============================] - 0s 189us/step - loss: 6.6366e-04 - acc: 1.0000 - val_loss: 0.8282 - val_acc: 0.8661\n",
      "\n",
      "Epoch 00028: val_acc did not improve from 0.89286\n",
      "Epoch 29/50\n",
      "496/496 [==============================] - 0s 189us/step - loss: 0.0246 - acc: 0.9980 - val_loss: 0.7718 - val_acc: 0.8929\n",
      "\n",
      "Epoch 00029: val_acc did not improve from 0.89286\n",
      "Epoch 30/50\n",
      "496/496 [==============================] - 0s 191us/step - loss: 0.0023 - acc: 0.9980 - val_loss: 0.7445 - val_acc: 0.8929\n",
      "\n",
      "Epoch 00030: val_acc did not improve from 0.89286\n",
      "Epoch 31/50\n",
      "496/496 [==============================] - 0s 190us/step - loss: 0.0414 - acc: 0.9919 - val_loss: 0.8079 - val_acc: 0.8750\n",
      "\n",
      "Epoch 00031: val_acc did not improve from 0.89286\n",
      "Epoch 32/50\n",
      "496/496 [==============================] - 0s 192us/step - loss: 0.0076 - acc: 0.9960 - val_loss: 0.8729 - val_acc: 0.8661\n",
      "\n",
      "Epoch 00032: val_acc did not improve from 0.89286\n",
      "Epoch 33/50\n",
      "496/496 [==============================] - 0s 189us/step - loss: 4.5749e-04 - acc: 1.0000 - val_loss: 1.0347 - val_acc: 0.8929\n",
      "\n",
      "Epoch 00033: val_acc did not improve from 0.89286\n",
      "Epoch 34/50\n",
      "496/496 [==============================] - 0s 198us/step - loss: 0.0132 - acc: 0.9960 - val_loss: 0.8764 - val_acc: 0.8661\n",
      "\n",
      "Epoch 00034: val_acc did not improve from 0.89286\n",
      "Epoch 35/50\n",
      "496/496 [==============================] - 0s 187us/step - loss: 0.0040 - acc: 0.9980 - val_loss: 0.7666 - val_acc: 0.8661\n",
      "\n",
      "Epoch 00035: val_acc did not improve from 0.89286\n",
      "Epoch 36/50\n",
      "496/496 [==============================] - 0s 188us/step - loss: 0.0028 - acc: 1.0000 - val_loss: 0.9051 - val_acc: 0.8661\n",
      "\n",
      "Epoch 00036: val_acc did not improve from 0.89286\n",
      "Epoch 37/50\n",
      "496/496 [==============================] - 0s 186us/step - loss: 0.0256 - acc: 0.9879 - val_loss: 0.9158 - val_acc: 0.8750\n",
      "\n",
      "Epoch 00037: val_acc did not improve from 0.89286\n",
      "Epoch 38/50\n",
      "496/496 [==============================] - 0s 185us/step - loss: 0.0076 - acc: 0.9940 - val_loss: 0.8667 - val_acc: 0.8839\n",
      "\n",
      "Epoch 00038: val_acc did not improve from 0.89286\n",
      "Epoch 39/50\n",
      "496/496 [==============================] - 0s 188us/step - loss: 0.0171 - acc: 0.9960 - val_loss: 0.8856 - val_acc: 0.8661\n",
      "\n",
      "Epoch 00039: val_acc did not improve from 0.89286\n",
      "Epoch 40/50\n",
      "496/496 [==============================] - 0s 195us/step - loss: 0.0098 - acc: 0.9960 - val_loss: 0.8686 - val_acc: 0.9018\n",
      "\n",
      "Epoch 00040: val_acc improved from 0.89286 to 0.90179, saving model to ../tuning_data/best_bottleneck_vgg_model_eyewears.h5\n",
      "Epoch 41/50\n",
      "496/496 [==============================] - 0s 193us/step - loss: 6.4193e-04 - acc: 1.0000 - val_loss: 0.9809 - val_acc: 0.8661\n",
      "\n",
      "Epoch 00041: val_acc did not improve from 0.90179\n",
      "Epoch 42/50\n",
      "496/496 [==============================] - 0s 191us/step - loss: 0.0022 - acc: 1.0000 - val_loss: 0.9295 - val_acc: 0.8839\n",
      "\n",
      "Epoch 00042: val_acc did not improve from 0.90179\n",
      "Epoch 43/50\n",
      "496/496 [==============================] - 0s 192us/step - loss: 0.0048 - acc: 0.9980 - val_loss: 1.0538 - val_acc: 0.8661\n"
     ]
    },
    {
     "name": "stdout",
     "output_type": "stream",
     "text": [
      "\n",
      "Epoch 00043: val_acc did not improve from 0.90179\n",
      "Epoch 44/50\n",
      "496/496 [==============================] - 0s 192us/step - loss: 2.0233e-04 - acc: 1.0000 - val_loss: 0.9848 - val_acc: 0.8750\n",
      "\n",
      "Epoch 00044: val_acc did not improve from 0.90179\n",
      "Epoch 45/50\n",
      "496/496 [==============================] - 0s 184us/step - loss: 0.0081 - acc: 0.9960 - val_loss: 0.9262 - val_acc: 0.8929\n",
      "\n",
      "Epoch 00045: val_acc did not improve from 0.90179\n",
      "Epoch 46/50\n",
      "496/496 [==============================] - 0s 194us/step - loss: 6.8509e-05 - acc: 1.0000 - val_loss: 1.0472 - val_acc: 0.8750\n",
      "\n",
      "Epoch 00046: val_acc did not improve from 0.90179\n",
      "Epoch 47/50\n",
      "496/496 [==============================] - 0s 190us/step - loss: 0.0179 - acc: 0.9940 - val_loss: 1.0086 - val_acc: 0.8839\n",
      "\n",
      "Epoch 00047: val_acc did not improve from 0.90179\n",
      "Epoch 48/50\n",
      "496/496 [==============================] - 0s 187us/step - loss: 2.2579e-05 - acc: 1.0000 - val_loss: 1.0318 - val_acc: 0.8750\n",
      "\n",
      "Epoch 00048: val_acc did not improve from 0.90179\n",
      "Epoch 49/50\n",
      "496/496 [==============================] - 0s 188us/step - loss: 0.0213 - acc: 0.9940 - val_loss: 1.1670 - val_acc: 0.8571\n",
      "\n",
      "Epoch 00049: val_acc did not improve from 0.90179\n",
      "Epoch 50/50\n",
      "496/496 [==============================] - 0s 194us/step - loss: 3.9645e-04 - acc: 1.0000 - val_loss: 1.0513 - val_acc: 0.8661\n",
      "\n",
      "Epoch 00050: val_acc did not improve from 0.90179\n"
     ]
    }
   ],
   "source": [
    "train_top_model(train_df, test_df, 50, 16, 'eyewear')"
   ]
  },
  {
   "cell_type": "markdown",
   "metadata": {},
   "source": [
    "### Fine Tune Top Model to improve accuracy"
   ]
  },
  {
   "cell_type": "code",
   "execution_count": 9,
   "metadata": {},
   "outputs": [],
   "source": [
    "def fine_tune_model(train_df, test_df,epoch, batch_size,label, print_model = True):\n",
    "    # build VGG16 model and freeze top layers\n",
    "    # input_shape: width, height, RGB (from image generator)\n",
    "    model_vgg = VGG16(weights='imagenet',include_top=False, input_shape=(150,150,3))\n",
    "    # build top model\n",
    "    top_model = Sequential()\n",
    "    top_model.add(Flatten(input_shape=model_vgg.output_shape[1:]))\n",
    "    top_model.add(Dense(256,activation='relu'))\n",
    "    top_model.add(Dropout(0.5))\n",
    "    top_model.add(Dense(1, activation='sigmoid'))\n",
    "    \n",
    "    # load saved weights to fine tune parameters \n",
    "    top_model.load_weights('../tuning_data/best_bottleneck_vgg_model_eyewears.h5')\n",
    "    # add top model to model\n",
    "    model = Model(inputs=model_vgg.input, outputs=top_model(model_vgg.output))\n",
    "    # we will tune last 5 layers of the model: block5 and fully connected layer \n",
    "    for layer in model.layers[:15]:\n",
    "        layer.trainable = False\n",
    "    # we can tune the parameters for lr and momentum later to get better results\n",
    "    model.compile(loss='binary_crossentropy',\n",
    "             optimizer=optimizers.SGD(lr=1e-4, momentum=0.9),\n",
    "             metrics=['accuracy'])\n",
    "    # prepare train generator using data augmentation to battle small sample size \n",
    "    train_gen = ImageDataGenerator(\n",
    "        rescale=1./255,\n",
    "        rotation_range=40,\n",
    "        shear_range=0.2,\n",
    "        zoom_range=0.2,\n",
    "        horizontal_flip=True)\n",
    "    # not want to augment the test \n",
    "    test_gen = ImageDataGenerator(rescale=1./255)\n",
    "    \n",
    "    train_generator =  train_gen.flow_from_dataframe(\n",
    "    dataframe=train_df,\n",
    "    directory='../data/pics',\n",
    "    x_col='pic_id',\n",
    "    y_col=label,\n",
    "    batch_size=batch_size,\n",
    "    target_size=(150,150),\n",
    "    class_mode = 'binary')\n",
    "    \n",
    "    test_generator =  test_gen.flow_from_dataframe(\n",
    "    dataframe=test_df,\n",
    "    directory='../data/pics',\n",
    "    x_col='pic_id',\n",
    "    y_col=label,\n",
    "    batch_size=batch_size,\n",
    "    target_size=(150,150),\n",
    "    class_mode = 'binary')\n",
    "    \n",
    "    # checkpoint for best weights \n",
    "    filepath=\"../tuning_data/best_vgg_model_eyewears.h5\"\n",
    "    checkpoint = ModelCheckpoint(filepath, monitor='val_acc', verbose=1, save_best_only=True, mode='max')\n",
    "    callbacks_list = [checkpoint]\n",
    "    \n",
    "    # run and fit model \n",
    "    result = model.fit_generator(\n",
    "    train_generator,\n",
    "    steps_per_epoch=train_df.shape[0]//batch_size,\n",
    "    epochs=epoch,\n",
    "    validation_data=test_generator,\n",
    "    validation_steps=test_df.shape[0]//batch_size,\n",
    "    verbose=1,\n",
    "    callbacks=callbacks_list)\n",
    "    \n",
    "    if print_model:\n",
    "        model.summary()\n",
    "        \n",
    "    del model\n",
    "    keras.backend.clear_session()\n",
    "    \n",
    "    return result      "
   ]
  },
  {
   "cell_type": "markdown",
   "metadata": {},
   "source": [
    "### save model history "
   ]
  },
  {
   "cell_type": "code",
   "execution_count": 10,
   "metadata": {},
   "outputs": [
    {
     "name": "stdout",
     "output_type": "stream",
     "text": [
      "Found 505 validated image filenames belonging to 2 classes.\n",
      "Found 127 validated image filenames belonging to 2 classes.\n",
      "Epoch 1/50\n",
      "31/31 [==============================] - 4s 140ms/step - loss: 3.3521 - acc: 0.4534 - val_loss: 0.7704 - val_acc: 0.5000\n",
      "\n",
      "Epoch 00001: val_acc improved from -inf to 0.50000, saving model to ../tuning_data/best_vgg_model_eyewears.h5\n",
      "Epoch 2/50\n",
      "31/31 [==============================] - 5s 154ms/step - loss: 0.7543 - acc: 0.5121 - val_loss: 0.6528 - val_acc: 0.6216\n",
      "\n",
      "Epoch 00002: val_acc improved from 0.50000 to 0.62162, saving model to ../tuning_data/best_vgg_model_eyewears.h5\n",
      "Epoch 3/50\n",
      "31/31 [==============================] - 5s 146ms/step - loss: 0.6781 - acc: 0.5885 - val_loss: 0.6431 - val_acc: 0.6036\n",
      "\n",
      "Epoch 00003: val_acc did not improve from 0.62162\n",
      "Epoch 4/50\n",
      "31/31 [==============================] - 4s 137ms/step - loss: 0.6406 - acc: 0.6170 - val_loss: 0.5403 - val_acc: 0.7748\n",
      "\n",
      "Epoch 00004: val_acc improved from 0.62162 to 0.77477, saving model to ../tuning_data/best_vgg_model_eyewears.h5\n",
      "Epoch 5/50\n",
      "31/31 [==============================] - 4s 142ms/step - loss: 0.5898 - acc: 0.7040 - val_loss: 0.5188 - val_acc: 0.8198\n",
      "\n",
      "Epoch 00005: val_acc improved from 0.77477 to 0.81982, saving model to ../tuning_data/best_vgg_model_eyewears.h5\n",
      "Epoch 6/50\n",
      "31/31 [==============================] - 4s 126ms/step - loss: 0.5854 - acc: 0.6687 - val_loss: 0.6078 - val_acc: 0.6126\n",
      "\n",
      "Epoch 00006: val_acc did not improve from 0.81982\n",
      "Epoch 7/50\n",
      "31/31 [==============================] - 4s 138ms/step - loss: 0.5170 - acc: 0.7580 - val_loss: 0.4211 - val_acc: 0.8739\n",
      "\n",
      "Epoch 00007: val_acc improved from 0.81982 to 0.87387, saving model to ../tuning_data/best_vgg_model_eyewears.h5\n",
      "Epoch 8/50\n",
      "31/31 [==============================] - 3s 105ms/step - loss: 0.4336 - acc: 0.8270 - val_loss: 0.3459 - val_acc: 0.8919\n",
      "\n",
      "Epoch 00008: val_acc improved from 0.87387 to 0.89189, saving model to ../tuning_data/best_vgg_model_eyewears.h5\n",
      "Epoch 9/50\n",
      "31/31 [==============================] - 4s 144ms/step - loss: 0.4157 - acc: 0.8407 - val_loss: 0.3120 - val_acc: 0.9107\n",
      "\n",
      "Epoch 00009: val_acc improved from 0.89189 to 0.91071, saving model to ../tuning_data/best_vgg_model_eyewears.h5\n",
      "Epoch 10/50\n",
      "31/31 [==============================] - 4s 141ms/step - loss: 0.3630 - acc: 0.8613 - val_loss: 0.2593 - val_acc: 0.9189\n",
      "\n",
      "Epoch 00010: val_acc improved from 0.91071 to 0.91892, saving model to ../tuning_data/best_vgg_model_eyewears.h5\n",
      "Epoch 11/50\n",
      "31/31 [==============================] - 4s 124ms/step - loss: 0.3363 - acc: 0.8633 - val_loss: 0.3215 - val_acc: 0.8288\n",
      "\n",
      "Epoch 00011: val_acc did not improve from 0.91892\n",
      "Epoch 12/50\n",
      "31/31 [==============================] - 4s 116ms/step - loss: 0.3326 - acc: 0.8754 - val_loss: 0.2364 - val_acc: 0.9009\n",
      "\n",
      "Epoch 00012: val_acc did not improve from 0.91892\n",
      "Epoch 13/50\n",
      "31/31 [==============================] - 4s 145ms/step - loss: 0.2916 - acc: 0.8831 - val_loss: 0.2137 - val_acc: 0.9009\n",
      "\n",
      "Epoch 00013: val_acc did not improve from 0.91892\n",
      "Epoch 14/50\n",
      "31/31 [==============================] - 4s 124ms/step - loss: 0.2740 - acc: 0.8790 - val_loss: 0.1870 - val_acc: 0.9369\n",
      "\n",
      "Epoch 00014: val_acc improved from 0.91892 to 0.93694, saving model to ../tuning_data/best_vgg_model_eyewears.h5\n",
      "Epoch 15/50\n",
      "31/31 [==============================] - 4s 118ms/step - loss: 0.2657 - acc: 0.8941 - val_loss: 0.1782 - val_acc: 0.9189\n",
      "\n",
      "Epoch 00015: val_acc did not improve from 0.93694\n",
      "Epoch 16/50\n",
      "31/31 [==============================] - 4s 136ms/step - loss: 0.2478 - acc: 0.9052 - val_loss: 0.1834 - val_acc: 0.9369\n",
      "\n",
      "Epoch 00016: val_acc did not improve from 0.93694\n",
      "Epoch 17/50\n",
      "31/31 [==============================] - 4s 135ms/step - loss: 0.2483 - acc: 0.8996 - val_loss: 0.1682 - val_acc: 0.9375\n",
      "\n",
      "Epoch 00017: val_acc improved from 0.93694 to 0.93750, saving model to ../tuning_data/best_vgg_model_eyewears.h5\n",
      "Epoch 18/50\n",
      "31/31 [==============================] - 5s 146ms/step - loss: 0.2358 - acc: 0.9153 - val_loss: 0.1802 - val_acc: 0.9369\n",
      "\n",
      "Epoch 00018: val_acc did not improve from 0.93750\n",
      "Epoch 19/50\n",
      "31/31 [==============================] - 4s 113ms/step - loss: 0.2350 - acc: 0.9157 - val_loss: 0.1401 - val_acc: 0.9730\n",
      "\n",
      "Epoch 00019: val_acc improved from 0.93750 to 0.97297, saving model to ../tuning_data/best_vgg_model_eyewears.h5\n",
      "Epoch 20/50\n",
      "31/31 [==============================] - 4s 133ms/step - loss: 0.2009 - acc: 0.9234 - val_loss: 0.1677 - val_acc: 0.9279\n",
      "\n",
      "Epoch 00020: val_acc did not improve from 0.97297\n",
      "Epoch 21/50\n",
      "31/31 [==============================] - 4s 138ms/step - loss: 0.2046 - acc: 0.9198 - val_loss: 0.1593 - val_acc: 0.9369\n",
      "\n",
      "Epoch 00021: val_acc did not improve from 0.97297\n",
      "Epoch 22/50\n",
      "31/31 [==============================] - 4s 130ms/step - loss: 0.2068 - acc: 0.9254 - val_loss: 0.0882 - val_acc: 0.9730\n",
      "\n",
      "Epoch 00022: val_acc did not improve from 0.97297\n",
      "Epoch 23/50\n",
      "31/31 [==============================] - 4s 131ms/step - loss: 0.1949 - acc: 0.9253 - val_loss: 0.1772 - val_acc: 0.9369\n",
      "\n",
      "Epoch 00023: val_acc did not improve from 0.97297\n",
      "Epoch 24/50\n",
      "31/31 [==============================] - 4s 118ms/step - loss: 0.1434 - acc: 0.9637 - val_loss: 0.1184 - val_acc: 0.9730\n",
      "\n",
      "Epoch 00024: val_acc did not improve from 0.97297\n",
      "Epoch 25/50\n",
      "31/31 [==============================] - 4s 130ms/step - loss: 0.2115 - acc: 0.9234 - val_loss: 0.1202 - val_acc: 0.9643\n",
      "\n",
      "Epoch 00025: val_acc did not improve from 0.97297\n",
      "Epoch 26/50\n",
      "31/31 [==============================] - 5s 148ms/step - loss: 0.1622 - acc: 0.9395 - val_loss: 0.1305 - val_acc: 0.9459\n",
      "\n",
      "Epoch 00026: val_acc did not improve from 0.97297\n",
      "Epoch 27/50\n",
      "31/31 [==============================] - 4s 138ms/step - loss: 0.1387 - acc: 0.9597 - val_loss: 0.0744 - val_acc: 0.9910\n",
      "\n",
      "Epoch 00027: val_acc improved from 0.97297 to 0.99099, saving model to ../tuning_data/best_vgg_model_eyewears.h5\n",
      "Epoch 28/50\n",
      "31/31 [==============================] - 4s 127ms/step - loss: 0.1455 - acc: 0.9460 - val_loss: 0.1382 - val_acc: 0.9730\n",
      "\n",
      "Epoch 00028: val_acc did not improve from 0.99099\n",
      "Epoch 29/50\n",
      "31/31 [==============================] - 4s 123ms/step - loss: 0.1498 - acc: 0.9476 - val_loss: 0.0763 - val_acc: 0.9550\n",
      "\n",
      "Epoch 00029: val_acc did not improve from 0.99099\n",
      "Epoch 30/50\n",
      "31/31 [==============================] - 4s 138ms/step - loss: 0.1397 - acc: 0.9516 - val_loss: 0.1117 - val_acc: 0.9730\n",
      "\n",
      "Epoch 00030: val_acc did not improve from 0.99099\n",
      "Epoch 31/50\n",
      "31/31 [==============================] - 4s 123ms/step - loss: 0.1196 - acc: 0.9597 - val_loss: 0.1174 - val_acc: 0.9640\n",
      "\n",
      "Epoch 00031: val_acc did not improve from 0.99099\n",
      "Epoch 32/50\n",
      "31/31 [==============================] - 4s 127ms/step - loss: 0.1499 - acc: 0.9455 - val_loss: 0.1189 - val_acc: 0.9550\n",
      "\n",
      "Epoch 00032: val_acc did not improve from 0.99099\n",
      "Epoch 33/50\n",
      "31/31 [==============================] - 4s 133ms/step - loss: 0.1308 - acc: 0.9597 - val_loss: 0.0996 - val_acc: 0.9643\n",
      "\n",
      "Epoch 00033: val_acc did not improve from 0.99099\n",
      "Epoch 34/50\n",
      "31/31 [==============================] - 5s 148ms/step - loss: 0.1360 - acc: 0.9516 - val_loss: 0.1426 - val_acc: 0.9459\n",
      "\n",
      "Epoch 00034: val_acc did not improve from 0.99099\n",
      "Epoch 35/50\n",
      "31/31 [==============================] - 5s 149ms/step - loss: 0.1479 - acc: 0.9481 - val_loss: 0.2004 - val_acc: 0.9369\n",
      "\n",
      "Epoch 00035: val_acc did not improve from 0.99099\n",
      "Epoch 36/50\n",
      "31/31 [==============================] - 4s 139ms/step - loss: 0.1169 - acc: 0.9516 - val_loss: 0.1112 - val_acc: 0.9550\n",
      "\n",
      "Epoch 00036: val_acc did not improve from 0.99099\n",
      "Epoch 37/50\n",
      "31/31 [==============================] - 4s 130ms/step - loss: 0.1291 - acc: 0.9637 - val_loss: 0.1615 - val_acc: 0.9550\n",
      "\n",
      "Epoch 00037: val_acc did not improve from 0.99099\n",
      "Epoch 38/50\n",
      "31/31 [==============================] - 4s 135ms/step - loss: 0.1106 - acc: 0.9617 - val_loss: 0.1143 - val_acc: 0.9459\n",
      "\n",
      "Epoch 00038: val_acc did not improve from 0.99099\n",
      "Epoch 39/50\n",
      "31/31 [==============================] - 4s 131ms/step - loss: 0.0829 - acc: 0.9702 - val_loss: 0.1141 - val_acc: 0.9640\n",
      "\n",
      "Epoch 00039: val_acc did not improve from 0.99099\n",
      "Epoch 40/50\n",
      "31/31 [==============================] - 4s 119ms/step - loss: 0.1065 - acc: 0.9738 - val_loss: 0.1283 - val_acc: 0.9550\n",
      "\n",
      "Epoch 00040: val_acc did not improve from 0.99099\n",
      "Epoch 41/50\n"
     ]
    },
    {
     "name": "stdout",
     "output_type": "stream",
     "text": [
      "31/31 [==============================] - 4s 134ms/step - loss: 0.1244 - acc: 0.9476 - val_loss: 0.1243 - val_acc: 0.9464\n",
      "\n",
      "Epoch 00041: val_acc did not improve from 0.99099\n",
      "Epoch 42/50\n",
      "31/31 [==============================] - 5s 151ms/step - loss: 0.0947 - acc: 0.9677 - val_loss: 0.2124 - val_acc: 0.9550\n",
      "\n",
      "Epoch 00042: val_acc did not improve from 0.99099\n",
      "Epoch 43/50\n",
      "31/31 [==============================] - 4s 122ms/step - loss: 0.1132 - acc: 0.9496 - val_loss: 0.1642 - val_acc: 0.9369\n",
      "\n",
      "Epoch 00043: val_acc did not improve from 0.99099\n",
      "Epoch 44/50\n",
      "31/31 [==============================] - 4s 127ms/step - loss: 0.1169 - acc: 0.9496 - val_loss: 0.1455 - val_acc: 0.9640\n",
      "\n",
      "Epoch 00044: val_acc did not improve from 0.99099\n",
      "Epoch 45/50\n",
      "31/31 [==============================] - 4s 138ms/step - loss: 0.0804 - acc: 0.9763 - val_loss: 0.1397 - val_acc: 0.9550\n",
      "\n",
      "Epoch 00045: val_acc did not improve from 0.99099\n",
      "Epoch 46/50\n",
      "31/31 [==============================] - 4s 126ms/step - loss: 0.0755 - acc: 0.9718 - val_loss: 0.1380 - val_acc: 0.9459\n",
      "\n",
      "Epoch 00046: val_acc did not improve from 0.99099\n",
      "Epoch 47/50\n",
      "31/31 [==============================] - 4s 134ms/step - loss: 0.0755 - acc: 0.9738 - val_loss: 0.1037 - val_acc: 0.9640\n",
      "\n",
      "Epoch 00047: val_acc did not improve from 0.99099\n",
      "Epoch 48/50\n",
      "31/31 [==============================] - 3s 112ms/step - loss: 0.0549 - acc: 0.9839 - val_loss: 0.1183 - val_acc: 0.9730\n",
      "\n",
      "Epoch 00048: val_acc did not improve from 0.99099\n",
      "Epoch 49/50\n",
      "31/31 [==============================] - 4s 136ms/step - loss: 0.0652 - acc: 0.9798 - val_loss: 0.1447 - val_acc: 0.9464\n",
      "\n",
      "Epoch 00049: val_acc did not improve from 0.99099\n",
      "Epoch 50/50\n",
      "31/31 [==============================] - 5s 147ms/step - loss: 0.0532 - acc: 0.9859 - val_loss: 0.1233 - val_acc: 0.9640\n",
      "\n",
      "Epoch 00050: val_acc did not improve from 0.99099\n",
      "Model: \"model_1\"\n",
      "_________________________________________________________________\n",
      "Layer (type)                 Output Shape              Param #   \n",
      "=================================================================\n",
      "input_1 (InputLayer)         (None, 150, 150, 3)       0         \n",
      "_________________________________________________________________\n",
      "block1_conv1 (Conv2D)        (None, 150, 150, 64)      1792      \n",
      "_________________________________________________________________\n",
      "block1_conv2 (Conv2D)        (None, 150, 150, 64)      36928     \n",
      "_________________________________________________________________\n",
      "block1_pool (MaxPooling2D)   (None, 75, 75, 64)        0         \n",
      "_________________________________________________________________\n",
      "block2_conv1 (Conv2D)        (None, 75, 75, 128)       73856     \n",
      "_________________________________________________________________\n",
      "block2_conv2 (Conv2D)        (None, 75, 75, 128)       147584    \n",
      "_________________________________________________________________\n",
      "block2_pool (MaxPooling2D)   (None, 37, 37, 128)       0         \n",
      "_________________________________________________________________\n",
      "block3_conv1 (Conv2D)        (None, 37, 37, 256)       295168    \n",
      "_________________________________________________________________\n",
      "block3_conv2 (Conv2D)        (None, 37, 37, 256)       590080    \n",
      "_________________________________________________________________\n",
      "block3_conv3 (Conv2D)        (None, 37, 37, 256)       590080    \n",
      "_________________________________________________________________\n",
      "block3_pool (MaxPooling2D)   (None, 18, 18, 256)       0         \n",
      "_________________________________________________________________\n",
      "block4_conv1 (Conv2D)        (None, 18, 18, 512)       1180160   \n",
      "_________________________________________________________________\n",
      "block4_conv2 (Conv2D)        (None, 18, 18, 512)       2359808   \n",
      "_________________________________________________________________\n",
      "block4_conv3 (Conv2D)        (None, 18, 18, 512)       2359808   \n",
      "_________________________________________________________________\n",
      "block4_pool (MaxPooling2D)   (None, 9, 9, 512)         0         \n",
      "_________________________________________________________________\n",
      "block5_conv1 (Conv2D)        (None, 9, 9, 512)         2359808   \n",
      "_________________________________________________________________\n",
      "block5_conv2 (Conv2D)        (None, 9, 9, 512)         2359808   \n",
      "_________________________________________________________________\n",
      "block5_conv3 (Conv2D)        (None, 9, 9, 512)         2359808   \n",
      "_________________________________________________________________\n",
      "block5_pool (MaxPooling2D)   (None, 4, 4, 512)         0         \n",
      "_________________________________________________________________\n",
      "sequential_1 (Sequential)    (None, 1)                 2097665   \n",
      "=================================================================\n",
      "Total params: 16,812,353\n",
      "Trainable params: 9,177,089\n",
      "Non-trainable params: 7,635,264\n",
      "_________________________________________________________________\n"
     ]
    }
   ],
   "source": [
    "model_history = fine_tune_model(train_df, test_df,50,16,'eyewear')"
   ]
  },
  {
   "cell_type": "code",
   "execution_count": 11,
   "metadata": {},
   "outputs": [
    {
     "name": "stdout",
     "output_type": "stream",
     "text": [
      "highest test accuracy: 0.990990990990991\n",
      "------------------\n",
      "highest train accuracy: 0.9858870967741935\n"
     ]
    }
   ],
   "source": [
    "highest_val_acc, highest_train_acc = max(model_history.history['val_acc']), max(model_history.history['acc'])\n",
    "print(f'highest test accuracy: {highest_val_acc}')\n",
    "print('------------------')\n",
    "print(f'highest train accuracy: {highest_train_acc}')"
   ]
  },
  {
   "cell_type": "code",
   "execution_count": 12,
   "metadata": {},
   "outputs": [
    {
     "name": "stdout",
     "output_type": "stream",
     "text": [
      "lowest test loss: 0.07439137790519912\n",
      "------------------\n",
      "lowest train loss: 0.053185363179974014\n"
     ]
    }
   ],
   "source": [
    "lowest_val_loss, lowest_train_loss = min(model_history.history['val_loss']), min(model_history.history['loss'])\n",
    "print(f'lowest test loss: {lowest_val_loss}')\n",
    "print('------------------')\n",
    "print(f'lowest train loss: {lowest_train_loss}')"
   ]
  },
  {
   "cell_type": "code",
   "execution_count": 13,
   "metadata": {},
   "outputs": [
    {
     "data": {
      "image/png": "[encoded data removed]",
      "text/plain": [
       "<Figure size 432x288 with 1 Axes>"
      ]
     },
     "metadata": {
      "needs_background": "light"
     },
     "output_type": "display_data"
    }
   ],
   "source": [
    "plt.plot(model_history.history['val_acc'], color = 'red', label = 'test')\n",
    "plt.plot(model_history.history['acc'], color = 'blue', label = 'train')\n",
    "plt.title('accuracy')\n",
    "plt.ylabel('accuracy')\n",
    "plt.legend()\n",
    "plt.show()"
   ]
  },
  {
   "cell_type": "code",
   "execution_count": 14,
   "metadata": {},
   "outputs": [
    {
     "data": {
      "image/png": "[encoded data removed]",
      "text/plain": [
       "<Figure size 432x288 with 1 Axes>"
      ]
     },
     "metadata": {
      "needs_background": "light"
     },
     "output_type": "display_data"
    }
   ],
   "source": [
    "plt.plot(model_history.history['val_loss'], color = 'red', label = 'test')\n",
    "plt.plot(model_history.history['loss'], color = 'blue', label = 'train')\n",
    "plt.title('loss')\n",
    "plt.ylabel('loss')\n",
    "plt.legend()\n",
    "plt.show()"
   ]
  },
  {
   "cell_type": "markdown",
   "metadata": {},
   "source": [
    "### Save model "
   ]
  },
  {
   "cell_type": "code",
   "execution_count": 15,
   "metadata": {},
   "outputs": [],
   "source": [
    "# save model artchitecture \n",
    "eyewear_model = model_history.model\n",
    "eyewear_model_json = eyewear_model.to_json()"
   ]
  },
  {
   "cell_type": "code",
   "execution_count": 16,
   "metadata": {},
   "outputs": [],
   "source": [
    "# serialize model to JSON\n",
    "with open(\"eyewear_model.json\", \"w\") as json_file:\n",
    "    json_file.write(eyewear_model_json)"
   ]
  },
  {
   "cell_type": "code",
   "execution_count": 19,
   "metadata": {},
   "outputs": [],
   "source": [
    "# load json and create model\n",
    "json_file = open('eyewear_model.json', 'r')\n",
    "loaded_model_json = json_file.read()\n",
    "json_file.close()\n",
    "loaded_model_eyewear = model_from_json(loaded_model_json)"
   ]
  },
  {
   "cell_type": "code",
   "execution_count": 20,
   "metadata": {},
   "outputs": [],
   "source": [
    "# load model weight \n",
    "loaded_model_eyewear.load_weights('../tuning_data/best_vgg_model_eyewears.h5')"
   ]
  },
  {
   "cell_type": "code",
   "execution_count": 21,
   "metadata": {},
   "outputs": [
    {
     "name": "stdout",
     "output_type": "stream",
     "text": [
      "Found 127 validated image filenames belonging to 2 classes.\n"
     ]
    }
   ],
   "source": [
    "test_gen = ImageDataGenerator(rescale=1./255)\n",
    "test_generator =  test_gen.flow_from_dataframe(\n",
    "    dataframe=test_df,\n",
    "    directory='../data/pics',\n",
    "    x_col='pic_id',\n",
    "    y_col='eyewear',\n",
    "    batch_size=16,\n",
    "    target_size=(150,150),\n",
    "    class_mode = 'binary')"
   ]
  },
  {
   "cell_type": "code",
   "execution_count": 23,
   "metadata": {},
   "outputs": [],
   "source": [
    "loaded_model_eyewear.compile(loss='binary_crossentropy',\n",
    "             optimizer=optimizers.SGD(lr=1e-4, momentum=0.9),\n",
    "             metrics=['accuracy'])"
   ]
  },
  {
   "cell_type": "code",
   "execution_count": 24,
   "metadata": {},
   "outputs": [
    {
     "data": {
      "text/plain": [
       "[0.11282623422838102, 0.9763779527559056]"
      ]
     },
     "execution_count": 24,
     "metadata": {},
     "output_type": "execute_result"
    }
   ],
   "source": [
    "loaded_model_eyewear.evaluate_generator(test_generator)"
   ]
  }
 ],
 "metadata": {
  "kernelspec": {
   "display_name": "Python 3",
   "language": "python",
   "name": "python3"
  },
  "language_info": {
   "codemirror_mode": {
    "name": "ipython",
    "version": 3
   },
   "file_extension": ".py",
   "mimetype": "text/x-python",
   "name": "python",
   "nbconvert_exporter": "python",
   "pygments_lexer": "ipython3",
   "version": "3.7.3"
  }
 },
 "nbformat": 4,
 "nbformat_minor": 2
}
