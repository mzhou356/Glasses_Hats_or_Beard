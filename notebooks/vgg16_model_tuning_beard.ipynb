{
 "cells": [
  {
   "cell_type": "markdown",
   "metadata": {},
   "source": [
    "## Transfer Learning Tuning_beard:\n",
    "  * model parameter and other information can be found below:\n",
    "     * [source](https://blog.keras.io/building-powerful-image-classification-models-using-very-little-data.html)\n",
    "     \n",
    "  * base_model: use vgg16 and freeze at bottleneck layer (stop right before flatten layer) \n",
    "  * top_model: tune dense layers (parameters are inspired by source)\n",
    "     * batch_size 16 seems to work best for small data set \n",
    "\n",
    "##### warnings: make sure to restart kernel in between running different model tuning \n",
    "  \n",
    "---\n",
    "#### This cell is required in order to use GPU for running the model "
   ]
  },
  {
   "cell_type": "code",
   "execution_count": 1,
   "metadata": {},
   "outputs": [
    {
     "name": "stderr",
     "output_type": "stream",
     "text": [
      "Using TensorFlow backend.\n",
      "WARNING: Logging before flag parsing goes to stderr.\n",
      "W0828 23:56:44.764654 139848041809728 deprecation_wrapper.py:119] From /home/mindy/anaconda3/lib/python3.7/site-packages/keras/backend/tensorflow_backend.py:190: The name tf.get_default_session is deprecated. Please use tf.compat.v1.get_default_session instead.\n",
      "\n",
      "W0828 23:56:44.765670 139848041809728 deprecation_wrapper.py:119] From /home/mindy/anaconda3/lib/python3.7/site-packages/keras/backend/tensorflow_backend.py:207: The name tf.global_variables is deprecated. Please use tf.compat.v1.global_variables instead.\n",
      "\n"
     ]
    }
   ],
   "source": [
    "import warnings\n",
    "warnings.filterwarnings('ignore')\n",
    "import tensorflow as tf\n",
    "import keras\n",
    "from keras.backend.tensorflow_backend import set_session\n",
    "config = tf.ConfigProto()\n",
    "config.gpu_options.allow_growth = True  # dynamically grow the memory used on the GPU\n",
    "config.log_device_placement = True  # to log device placement (on which device the operation ran)\n",
    "                                    # (nothing gets printed in Jupyter, only if you run it standalone)\n",
    "sess = tf.Session(config=config)\n",
    "set_session(sess)  # set this TensorFlow session as the default session for Keras\n",
    "keras.backend.get_session().run(tf.global_variables_initializer())  "
   ]
  },
  {
   "cell_type": "markdown",
   "metadata": {},
   "source": [
    "---\n",
    "#### Import necessary libraries"
   ]
  },
  {
   "cell_type": "code",
   "execution_count": 2,
   "metadata": {},
   "outputs": [],
   "source": [
    "import pandas as pd\n",
    "import numpy as np\n",
    "import matplotlib.pyplot as plt\n",
    "%matplotlib inline\n",
    "from keras_preprocessing.image import ImageDataGenerator\n",
    "from keras.models import Sequential, Model\n",
    "from keras.layers import Dropout, Flatten, Dense\n",
    "from keras.applications.vgg16 import VGG16\n",
    "from keras import optimizers"
   ]
  },
  {
   "cell_type": "markdown",
   "metadata": {},
   "source": [
    "---\n",
    "#### Import train_df and test_df"
   ]
  },
  {
   "cell_type": "code",
   "execution_count": 3,
   "metadata": {},
   "outputs": [],
   "source": [
    "train_df = pd.read_pickle('../pickle_files/train_df_beard.pkl')\n",
    "test_df = pd.read_pickle('../pickle_files/test_df_beard.pkl')"
   ]
  },
  {
   "cell_type": "markdown",
   "metadata": {},
   "source": [
    "#### Get bottleneck features to tune top models"
   ]
  },
  {
   "cell_type": "code",
   "execution_count": 4,
   "metadata": {},
   "outputs": [],
   "source": [
    "def save_bottleneck_features(train_df, test_df, label, batch_size):\n",
    "    '''\n",
    "    inputs:\n",
    "    train_df, test_df: train and test dataframes saved in pickle_files folder\n",
    "    label: a string, eyewear, hat, or beard\n",
    "    batch_size: process images in batches\n",
    "    outputs:\n",
    "    saves bottleneck features inside folder tuning_data as npy file\n",
    "    '''\n",
    "    # intialize the vgg16 model \n",
    "    # make sure not to train the top layers \n",
    "    base_model = VGG16(weights = 'imagenet', include_top = False)\n",
    "    # create train_generator and test_generator to get bottleneck inputs for train and test df \n",
    "    datagen = ImageDataGenerator(\n",
    "        rescale=1./255,\n",
    "        shear_range=0.2,\n",
    "        zoom_range=0.2,\n",
    "        horizontal_flip=True)\n",
    "    # make sure shuffle is False so we know the label follows the sequence of the dataframe \n",
    "    # so we can tune top_model \n",
    "    train_generator = datagen.flow_from_dataframe(\n",
    "    dataframe=train_df,\n",
    "    directory='../data/pics',\n",
    "    x_col='pic_id',\n",
    "    y_col=label,\n",
    "    batch_size=batch_size,\n",
    "    shuffle = False,\n",
    "    target_size=(150,150),\n",
    "    class_mode = None)\n",
    "    # get features saved as .npy in tunign_data folder \n",
    "    bottleneck_features_train = base_model.predict_generator(\n",
    "        train_generator, train_df.shape[0]//batch_size)\n",
    "    np.save(open('../tuning_data/bottleneck_features_train_beard.npy','wb'),\n",
    "           bottleneck_features_train)\n",
    "    \n",
    "    test_generator = datagen.flow_from_dataframe(\n",
    "    dataframe=test_df,\n",
    "    directory='../data/pics',\n",
    "    x_col='pic_id',\n",
    "    y_col=label,\n",
    "    batch_size=batch_size,\n",
    "    shuffle = False,\n",
    "    target_size=(150,150),\n",
    "    class_mode = None)\n",
    "    bottleneck_features_test = base_model.predict_generator(\n",
    "        test_generator, test_df.shape[0]//batch_size)\n",
    "    np.save(open('../tuning_data/bottleneck_features_test_beard.npy','wb'),\n",
    "           bottleneck_features_test)"
   ]
  },
  {
   "cell_type": "markdown",
   "metadata": {},
   "source": [
    "#### Save bottleneck_features"
   ]
  },
  {
   "cell_type": "code",
   "execution_count": 5,
   "metadata": {
    "scrolled": true
   },
   "outputs": [
    {
     "name": "stderr",
     "output_type": "stream",
     "text": [
      "W0828 23:55:32.440792 139887768090432 deprecation_wrapper.py:119] From /home/mindy/anaconda3/lib/python3.7/site-packages/keras/backend/tensorflow_backend.py:66: The name tf.get_default_graph is deprecated. Please use tf.compat.v1.get_default_graph instead.\n",
      "\n",
      "W0828 23:55:32.441887 139887768090432 deprecation_wrapper.py:119] From /home/mindy/anaconda3/lib/python3.7/site-packages/keras/backend/tensorflow_backend.py:541: The name tf.placeholder is deprecated. Please use tf.compat.v1.placeholder instead.\n",
      "\n",
      "W0828 23:55:32.444802 139887768090432 deprecation_wrapper.py:119] From /home/mindy/anaconda3/lib/python3.7/site-packages/keras/backend/tensorflow_backend.py:4432: The name tf.random_uniform is deprecated. Please use tf.random.uniform instead.\n",
      "\n",
      "W0828 23:55:32.459664 139887768090432 deprecation_wrapper.py:119] From /home/mindy/anaconda3/lib/python3.7/site-packages/keras/backend/tensorflow_backend.py:4267: The name tf.nn.max_pool is deprecated. Please use tf.nn.max_pool2d instead.\n",
      "\n"
     ]
    },
    {
     "name": "stdout",
     "output_type": "stream",
     "text": [
      "Found 363 validated image filenames.\n",
      "Found 91 validated image filenames.\n"
     ]
    }
   ],
   "source": [
    "save_bottleneck_features(train_df,test_df,'beard',16)"
   ]
  },
  {
   "cell_type": "markdown",
   "metadata": {},
   "source": [
    "### Quick tuning of top models "
   ]
  },
  {
   "cell_type": "code",
   "execution_count": 9,
   "metadata": {},
   "outputs": [],
   "source": [
    "def train_top_model(train_df, test_df, epoch, batch_size, label):\n",
    "    '''\n",
    "    inputs:\n",
    "    train_df, test_df: dataframes saved in pickle_files to generate train and test labels \n",
    "    epoch: num of epochs in fit \n",
    "    batch_size: same as image generator batch size \n",
    "    label: a string, eyewear, hat, or beard\n",
    "    output:\n",
    "    saves model weights in a folder \n",
    "    '''\n",
    "    train_data = np.load(open('../tuning_data/bottleneck_features_train_beard.npy','rb'))\n",
    "    # make sure train_data and train_label have same num of samples\n",
    "    train_label = np.array(train_df[label].map({'not_'+label:0, label:1}))[:-(train_df.shape[0]%batch_size)]\n",
    "    \n",
    "    test_data = np.load(open('../tuning_data/bottleneck_features_test_beard.npy','rb'))\n",
    "    test_label = np.array(test_df[label].map({'not_'+label:0, label:1}))[:-(test_df.shape[0]%batch_size)]\n",
    "    \n",
    "    # build top model\n",
    "    model = Sequential()\n",
    "    model.add(Flatten(input_shape=train_data.shape[1:]))\n",
    "    model.add(Dense(256, activation='relu'))\n",
    "    model.add(Dropout(0.5))\n",
    "    model.add(Dense(1, activation='sigmoid'))\n",
    "    \n",
    "    model.compile(optimizer='rmsprop',\n",
    "                 loss='binary_crossentropy',\n",
    "                 metrics=['accuracy'])\n",
    "    \n",
    "    model.fit(train_data, train_label,\n",
    "             epochs=epoch,\n",
    "             batch_size=batch_size,\n",
    "             validation_data=(test_data,test_label))\n",
    "    model.save_weights('../tuning_data/bottleneck_vgg_model_beard.h5')"
   ]
  },
  {
   "cell_type": "markdown",
   "metadata": {},
   "source": [
    "#### run train_top_model and save results in tuning_data"
   ]
  },
  {
   "cell_type": "code",
   "execution_count": 10,
   "metadata": {
    "scrolled": false
   },
   "outputs": [
    {
     "name": "stderr",
     "output_type": "stream",
     "text": [
      "W0828 23:56:25.091256 139887768090432 deprecation.py:506] From /home/mindy/anaconda3/lib/python3.7/site-packages/keras/backend/tensorflow_backend.py:3733: calling dropout (from tensorflow.python.ops.nn_ops) with keep_prob is deprecated and will be removed in a future version.\n",
      "Instructions for updating:\n",
      "Please use `rate` instead of `keep_prob`. Rate should be set to `rate = 1 - keep_prob`.\n",
      "W0828 23:56:25.103198 139887768090432 deprecation_wrapper.py:119] From /home/mindy/anaconda3/lib/python3.7/site-packages/keras/optimizers.py:793: The name tf.train.Optimizer is deprecated. Please use tf.compat.v1.train.Optimizer instead.\n",
      "\n",
      "W0828 23:56:25.112782 139887768090432 deprecation.py:323] From /home/mindy/anaconda3/lib/python3.7/site-packages/tensorflow/python/ops/nn_impl.py:180: add_dispatch_support.<locals>.wrapper (from tensorflow.python.ops.array_ops) is deprecated and will be removed in a future version.\n",
      "Instructions for updating:\n",
      "Use tf.where in 2.0, which has the same broadcast rule as np.where\n"
     ]
    },
    {
     "name": "stdout",
     "output_type": "stream",
     "text": [
      "Train on 352 samples, validate on 80 samples\n",
      "Epoch 1/50\n",
      "352/352 [==============================] - 0s 1ms/step - loss: 1.5209 - acc: 0.6420 - val_loss: 0.3907 - val_acc: 0.8125\n",
      "Epoch 2/50\n",
      "352/352 [==============================] - 0s 195us/step - loss: 0.5091 - acc: 0.7756 - val_loss: 0.2410 - val_acc: 0.8625\n",
      "Epoch 3/50\n",
      "352/352 [==============================] - 0s 196us/step - loss: 0.4093 - acc: 0.8324 - val_loss: 0.2257 - val_acc: 0.8875\n",
      "Epoch 4/50\n",
      "352/352 [==============================] - 0s 213us/step - loss: 0.3480 - acc: 0.8693 - val_loss: 0.5872 - val_acc: 0.7750\n",
      "Epoch 5/50\n",
      "352/352 [==============================] - 0s 210us/step - loss: 0.3191 - acc: 0.8551 - val_loss: 1.3250 - val_acc: 0.5500\n",
      "Epoch 6/50\n",
      "352/352 [==============================] - 0s 215us/step - loss: 0.3033 - acc: 0.8864 - val_loss: 0.2838 - val_acc: 0.8750\n",
      "Epoch 7/50\n",
      "352/352 [==============================] - 0s 206us/step - loss: 0.1668 - acc: 0.9375 - val_loss: 0.2014 - val_acc: 0.9125\n",
      "Epoch 8/50\n",
      "352/352 [==============================] - 0s 206us/step - loss: 0.3384 - acc: 0.9062 - val_loss: 0.2289 - val_acc: 0.8875\n",
      "Epoch 9/50\n",
      "352/352 [==============================] - 0s 205us/step - loss: 0.1292 - acc: 0.9403 - val_loss: 0.3217 - val_acc: 0.9000\n",
      "Epoch 10/50\n",
      "352/352 [==============================] - 0s 207us/step - loss: 0.1133 - acc: 0.9545 - val_loss: 0.1714 - val_acc: 0.9250\n",
      "Epoch 11/50\n",
      "352/352 [==============================] - 0s 204us/step - loss: 0.1487 - acc: 0.9318 - val_loss: 0.1898 - val_acc: 0.9375\n",
      "Epoch 12/50\n",
      "352/352 [==============================] - 0s 202us/step - loss: 0.0689 - acc: 0.9688 - val_loss: 0.2924 - val_acc: 0.9375\n",
      "Epoch 13/50\n",
      "352/352 [==============================] - 0s 197us/step - loss: 0.1352 - acc: 0.9517 - val_loss: 0.2194 - val_acc: 0.9125\n",
      "Epoch 14/50\n",
      "352/352 [==============================] - 0s 197us/step - loss: 0.0228 - acc: 0.9886 - val_loss: 0.2215 - val_acc: 0.9000\n",
      "Epoch 15/50\n",
      "352/352 [==============================] - 0s 191us/step - loss: 0.0163 - acc: 0.9943 - val_loss: 0.1601 - val_acc: 0.9250\n",
      "Epoch 16/50\n",
      "352/352 [==============================] - 0s 197us/step - loss: 0.0287 - acc: 0.9886 - val_loss: 0.2266 - val_acc: 0.8750\n",
      "Epoch 17/50\n",
      "352/352 [==============================] - 0s 189us/step - loss: 0.0841 - acc: 0.9602 - val_loss: 0.2229 - val_acc: 0.9375\n",
      "Epoch 18/50\n",
      "352/352 [==============================] - 0s 197us/step - loss: 0.0196 - acc: 0.9915 - val_loss: 0.8514 - val_acc: 0.8000\n",
      "Epoch 19/50\n",
      "352/352 [==============================] - 0s 195us/step - loss: 0.0545 - acc: 0.9773 - val_loss: 0.1600 - val_acc: 0.9125\n",
      "Epoch 20/50\n",
      "352/352 [==============================] - 0s 206us/step - loss: 0.0093 - acc: 1.0000 - val_loss: 0.1976 - val_acc: 0.9250\n",
      "Epoch 21/50\n",
      "352/352 [==============================] - 0s 195us/step - loss: 0.0388 - acc: 0.9886 - val_loss: 2.1621 - val_acc: 0.6250\n",
      "Epoch 22/50\n",
      "352/352 [==============================] - 0s 197us/step - loss: 0.0650 - acc: 0.9744 - val_loss: 0.3273 - val_acc: 0.8875\n",
      "Epoch 23/50\n",
      "352/352 [==============================] - 0s 199us/step - loss: 0.0110 - acc: 0.9972 - val_loss: 0.2000 - val_acc: 0.9375\n",
      "Epoch 24/50\n",
      "352/352 [==============================] - 0s 200us/step - loss: 0.0091 - acc: 0.9972 - val_loss: 0.3868 - val_acc: 0.9375\n",
      "Epoch 25/50\n",
      "352/352 [==============================] - 0s 202us/step - loss: 0.0926 - acc: 0.9773 - val_loss: 0.1911 - val_acc: 0.9250\n",
      "Epoch 26/50\n",
      "352/352 [==============================] - 0s 197us/step - loss: 8.9711e-04 - acc: 1.0000 - val_loss: 0.2016 - val_acc: 0.9500\n",
      "Epoch 27/50\n",
      "352/352 [==============================] - 0s 190us/step - loss: 0.0868 - acc: 0.9744 - val_loss: 0.2019 - val_acc: 0.9375\n",
      "Epoch 28/50\n",
      "352/352 [==============================] - 0s 199us/step - loss: 0.0076 - acc: 0.9972 - val_loss: 0.1986 - val_acc: 0.9375\n",
      "Epoch 29/50\n",
      "352/352 [==============================] - 0s 204us/step - loss: 0.0011 - acc: 1.0000 - val_loss: 0.1748 - val_acc: 0.9500\n",
      "Epoch 30/50\n",
      "352/352 [==============================] - 0s 190us/step - loss: 0.0184 - acc: 0.9886 - val_loss: 0.2721 - val_acc: 0.9375\n",
      "Epoch 31/50\n",
      "352/352 [==============================] - 0s 196us/step - loss: 0.0155 - acc: 0.9972 - val_loss: 0.2129 - val_acc: 0.9250\n",
      "Epoch 32/50\n",
      "352/352 [==============================] - 0s 197us/step - loss: 0.0018 - acc: 1.0000 - val_loss: 0.2048 - val_acc: 0.9500\n",
      "Epoch 33/50\n",
      "352/352 [==============================] - 0s 204us/step - loss: 9.0572e-04 - acc: 1.0000 - val_loss: 0.3484 - val_acc: 0.9500\n",
      "Epoch 34/50\n",
      "352/352 [==============================] - 0s 199us/step - loss: 0.0022 - acc: 1.0000 - val_loss: 0.1960 - val_acc: 0.9375\n",
      "Epoch 35/50\n",
      "352/352 [==============================] - 0s 203us/step - loss: 0.0036 - acc: 1.0000 - val_loss: 0.3189 - val_acc: 0.9500\n",
      "Epoch 36/50\n",
      "352/352 [==============================] - 0s 214us/step - loss: 0.0575 - acc: 0.9858 - val_loss: 0.2425 - val_acc: 0.9375\n",
      "Epoch 37/50\n",
      "352/352 [==============================] - 0s 192us/step - loss: 0.0010 - acc: 1.0000 - val_loss: 0.2496 - val_acc: 0.9375\n",
      "Epoch 38/50\n",
      "352/352 [==============================] - 0s 197us/step - loss: 6.7511e-04 - acc: 1.0000 - val_loss: 0.2506 - val_acc: 0.9500\n",
      "Epoch 39/50\n",
      "352/352 [==============================] - 0s 194us/step - loss: 1.9138e-04 - acc: 1.0000 - val_loss: 0.2593 - val_acc: 0.9375\n",
      "Epoch 40/50\n",
      "352/352 [==============================] - 0s 197us/step - loss: 0.0473 - acc: 0.9943 - val_loss: 0.1904 - val_acc: 0.9500\n",
      "Epoch 41/50\n",
      "352/352 [==============================] - 0s 192us/step - loss: 0.0029 - acc: 1.0000 - val_loss: 0.1721 - val_acc: 0.9500\n",
      "Epoch 42/50\n",
      "352/352 [==============================] - 0s 199us/step - loss: 6.9382e-04 - acc: 1.0000 - val_loss: 0.2308 - val_acc: 0.9125\n",
      "Epoch 43/50\n",
      "352/352 [==============================] - 0s 198us/step - loss: 3.0401e-05 - acc: 1.0000 - val_loss: 0.2065 - val_acc: 0.9375\n",
      "Epoch 44/50\n",
      "352/352 [==============================] - 0s 195us/step - loss: 0.0396 - acc: 0.9773 - val_loss: 0.2404 - val_acc: 0.9125\n",
      "Epoch 45/50\n",
      "352/352 [==============================] - 0s 201us/step - loss: 0.0182 - acc: 0.9943 - val_loss: 0.2198 - val_acc: 0.9500\n",
      "Epoch 46/50\n",
      "352/352 [==============================] - 0s 195us/step - loss: 1.9149e-04 - acc: 1.0000 - val_loss: 0.2455 - val_acc: 0.9375\n",
      "Epoch 47/50\n",
      "352/352 [==============================] - 0s 200us/step - loss: 1.0470e-04 - acc: 1.0000 - val_loss: 0.2252 - val_acc: 0.9625\n",
      "Epoch 48/50\n",
      "352/352 [==============================] - 0s 199us/step - loss: 1.1496e-05 - acc: 1.0000 - val_loss: 0.2351 - val_acc: 0.9625\n",
      "Epoch 49/50\n",
      "352/352 [==============================] - 0s 206us/step - loss: 0.0080 - acc: 0.9972 - val_loss: 0.4185 - val_acc: 0.9000\n",
      "Epoch 50/50\n",
      "352/352 [==============================] - 0s 196us/step - loss: 0.0019 - acc: 1.0000 - val_loss: 0.4055 - val_acc: 0.9375\n"
     ]
    }
   ],
   "source": [
    "train_top_model(train_df, test_df, 50, 16, 'beard')"
   ]
  },
  {
   "cell_type": "markdown",
   "metadata": {},
   "source": [
    "### Fine Tune Top Model to improve accuracy"
   ]
  },
  {
   "cell_type": "code",
   "execution_count": 4,
   "metadata": {},
   "outputs": [],
   "source": [
    "def fine_tune_model(train_df, test_df,epoch, batch_size,label, print_model = True):\n",
    "    # build VGG16 model and freeze top layers\n",
    "    # input_shape: width, height, RGB (from image generator)\n",
    "    model_vgg = VGG16(weights='imagenet',include_top=False, input_shape=(150,150,3))\n",
    "    # build top model\n",
    "    top_model = Sequential()\n",
    "    top_model.add(Flatten(input_shape=model_vgg.output_shape[1:]))\n",
    "    top_model.add(Dense(256,activation='relu'))\n",
    "    top_model.add(Dropout(0.5))\n",
    "    top_model.add(Dense(1, activation='sigmoid'))\n",
    "    \n",
    "    # load saved weights to fine tune parameters \n",
    "    top_model.load_weights('../tuning_data/bottleneck_vgg_model_beard.h5')\n",
    "    # add top model to model\n",
    "    model = Model(inputs=model_vgg.input, outputs=top_model(model_vgg.output))\n",
    "    # we will tune last 5 layers of the model: block5 and fully connected layer \n",
    "    for layer in model.layers[:15]:\n",
    "        layer.trainable = False\n",
    "    # we can tune the parameters for lr and momentum later to get better results\n",
    "    model.compile(loss='binary_crossentropy',\n",
    "             optimizer=optimizers.SGD(lr=1e-4, momentum=0.9),\n",
    "             metrics=['accuracy'])\n",
    "    # prepare train generator using data augmentation to battle small sample size \n",
    "    train_gen = ImageDataGenerator(\n",
    "        rescale=1./255,\n",
    "        shear_range=0.2,\n",
    "        zoom_range=0.2,\n",
    "        horizontal_flip=True)\n",
    "    # not want to augment the test \n",
    "    test_gen = ImageDataGenerator(rescale=1./255)\n",
    "    \n",
    "    train_generator =  train_gen.flow_from_dataframe(\n",
    "    dataframe=train_df,\n",
    "    directory='../data/pics',\n",
    "    x_col='pic_id',\n",
    "    y_col=label,\n",
    "    batch_size=batch_size,\n",
    "    target_size=(150,150),\n",
    "    class_mode = 'binary')\n",
    "    \n",
    "    test_generator =  test_gen.flow_from_dataframe(\n",
    "    dataframe=test_df,\n",
    "    directory='../data/pics',\n",
    "    x_col='pic_id',\n",
    "    y_col=label,\n",
    "    batch_size=batch_size,\n",
    "    target_size=(150,150),\n",
    "    class_mode = 'binary')\n",
    "    \n",
    "    # run and fit model \n",
    "    history = model.fit_generator(\n",
    "    train_generator,\n",
    "    steps_per_epoch=train_df.shape[0]//batch_size,\n",
    "    epochs=epoch,\n",
    "    validation_data=test_generator,\n",
    "    validation_steps=test_df.shape[0]//batch_size,\n",
    "    verbose=1)\n",
    "    \n",
    "    if print_model:\n",
    "        model.summary()\n",
    "    return history                  "
   ]
  },
  {
   "cell_type": "markdown",
   "metadata": {},
   "source": [
    "### save model history "
   ]
  },
  {
   "cell_type": "code",
   "execution_count": 5,
   "metadata": {},
   "outputs": [
    {
     "name": "stderr",
     "output_type": "stream",
     "text": [
      "W0828 23:57:17.678924 139848041809728 deprecation_wrapper.py:119] From /home/mindy/anaconda3/lib/python3.7/site-packages/keras/backend/tensorflow_backend.py:66: The name tf.get_default_graph is deprecated. Please use tf.compat.v1.get_default_graph instead.\n",
      "\n",
      "W0828 23:57:17.680175 139848041809728 deprecation_wrapper.py:119] From /home/mindy/anaconda3/lib/python3.7/site-packages/keras/backend/tensorflow_backend.py:541: The name tf.placeholder is deprecated. Please use tf.compat.v1.placeholder instead.\n",
      "\n",
      "W0828 23:57:17.682135 139848041809728 deprecation_wrapper.py:119] From /home/mindy/anaconda3/lib/python3.7/site-packages/keras/backend/tensorflow_backend.py:4432: The name tf.random_uniform is deprecated. Please use tf.random.uniform instead.\n",
      "\n",
      "W0828 23:57:17.698652 139848041809728 deprecation_wrapper.py:119] From /home/mindy/anaconda3/lib/python3.7/site-packages/keras/backend/tensorflow_backend.py:4267: The name tf.nn.max_pool is deprecated. Please use tf.nn.max_pool2d instead.\n",
      "\n",
      "W0828 23:57:18.361863 139848041809728 deprecation.py:506] From /home/mindy/anaconda3/lib/python3.7/site-packages/keras/backend/tensorflow_backend.py:3733: calling dropout (from tensorflow.python.ops.nn_ops) with keep_prob is deprecated and will be removed in a future version.\n",
      "Instructions for updating:\n",
      "Please use `rate` instead of `keep_prob`. Rate should be set to `rate = 1 - keep_prob`.\n",
      "W0828 23:57:18.447069 139848041809728 deprecation_wrapper.py:119] From /home/mindy/anaconda3/lib/python3.7/site-packages/keras/optimizers.py:793: The name tf.train.Optimizer is deprecated. Please use tf.compat.v1.train.Optimizer instead.\n",
      "\n",
      "W0828 23:57:18.451666 139848041809728 deprecation.py:323] From /home/mindy/anaconda3/lib/python3.7/site-packages/tensorflow/python/ops/nn_impl.py:180: add_dispatch_support.<locals>.wrapper (from tensorflow.python.ops.array_ops) is deprecated and will be removed in a future version.\n",
      "Instructions for updating:\n",
      "Use tf.where in 2.0, which has the same broadcast rule as np.where\n"
     ]
    },
    {
     "name": "stdout",
     "output_type": "stream",
     "text": [
      "Found 363 validated image filenames belonging to 2 classes.\n",
      "Found 91 validated image filenames belonging to 2 classes.\n",
      "Epoch 1/50\n",
      "22/22 [==============================] - 3s 148ms/step - loss: 6.7311 - acc: 0.3786 - val_loss: 1.1522 - val_acc: 0.4625\n",
      "Epoch 2/50\n",
      "22/22 [==============================] - 3s 152ms/step - loss: 0.8706 - acc: 0.5605 - val_loss: 0.6690 - val_acc: 0.6000\n",
      "Epoch 3/50\n",
      "22/22 [==============================] - 3s 142ms/step - loss: 0.6863 - acc: 0.5886 - val_loss: 0.6739 - val_acc: 0.6533\n",
      "Epoch 4/50\n",
      "22/22 [==============================] - 3s 127ms/step - loss: 0.6283 - acc: 0.6284 - val_loss: 0.5508 - val_acc: 0.7067\n",
      "Epoch 5/50\n",
      "22/22 [==============================] - 3s 127ms/step - loss: 0.5674 - acc: 0.7045 - val_loss: 0.5709 - val_acc: 0.7067\n",
      "Epoch 6/50\n",
      "22/22 [==============================] - 3s 120ms/step - loss: 0.5315 - acc: 0.7305 - val_loss: 0.4519 - val_acc: 0.8000\n",
      "Epoch 7/50\n",
      "22/22 [==============================] - 3s 126ms/step - loss: 0.4951 - acc: 0.7685 - val_loss: 0.4661 - val_acc: 0.7625\n",
      "Epoch 8/50\n",
      "22/22 [==============================] - 3s 139ms/step - loss: 0.4263 - acc: 0.7945 - val_loss: 0.3757 - val_acc: 0.8267\n",
      "Epoch 9/50\n",
      "22/22 [==============================] - 3s 121ms/step - loss: 0.4367 - acc: 0.7869 - val_loss: 0.4309 - val_acc: 0.7867\n",
      "Epoch 10/50\n",
      "22/22 [==============================] - 3s 122ms/step - loss: 0.3764 - acc: 0.8513 - val_loss: 0.3241 - val_acc: 0.8667\n",
      "Epoch 11/50\n",
      "22/22 [==============================] - 3s 124ms/step - loss: 0.3707 - acc: 0.8528 - val_loss: 0.3609 - val_acc: 0.8133\n",
      "Epoch 12/50\n",
      "22/22 [==============================] - 3s 127ms/step - loss: 0.3753 - acc: 0.8343 - val_loss: 0.5015 - val_acc: 0.7867\n",
      "Epoch 13/50\n",
      "22/22 [==============================] - 3s 127ms/step - loss: 0.3552 - acc: 0.8513 - val_loss: 0.3651 - val_acc: 0.8500\n",
      "Epoch 14/50\n",
      "22/22 [==============================] - 3s 147ms/step - loss: 0.2973 - acc: 0.8892 - val_loss: 0.2599 - val_acc: 0.8933\n",
      "Epoch 15/50\n",
      "22/22 [==============================] - 2s 109ms/step - loss: 0.2961 - acc: 0.8883 - val_loss: 0.2898 - val_acc: 0.9067\n",
      "Epoch 16/50\n",
      "22/22 [==============================] - 3s 126ms/step - loss: 0.2590 - acc: 0.9062 - val_loss: 0.2919 - val_acc: 0.8933\n",
      "Epoch 17/50\n",
      "22/22 [==============================] - 3s 137ms/step - loss: 0.2674 - acc: 0.8834 - val_loss: 0.2612 - val_acc: 0.8933\n",
      "Epoch 18/50\n",
      "22/22 [==============================] - 2s 101ms/step - loss: 0.2395 - acc: 0.9037 - val_loss: 0.2868 - val_acc: 0.8933\n",
      "Epoch 19/50\n",
      "22/22 [==============================] - 3s 141ms/step - loss: 0.2309 - acc: 0.9091 - val_loss: 0.2484 - val_acc: 0.9000\n",
      "Epoch 20/50\n",
      "22/22 [==============================] - 3s 141ms/step - loss: 0.2216 - acc: 0.8911 - val_loss: 0.2076 - val_acc: 0.9333\n",
      "Epoch 21/50\n",
      "22/22 [==============================] - 3s 128ms/step - loss: 0.1986 - acc: 0.9261 - val_loss: 0.2384 - val_acc: 0.9200\n",
      "Epoch 22/50\n",
      "22/22 [==============================] - 3s 120ms/step - loss: 0.2177 - acc: 0.9025 - val_loss: 0.2575 - val_acc: 0.8933\n",
      "Epoch 23/50\n",
      "22/22 [==============================] - 3s 120ms/step - loss: 0.1694 - acc: 0.9318 - val_loss: 0.1859 - val_acc: 0.9467\n",
      "Epoch 24/50\n",
      "22/22 [==============================] - 3s 129ms/step - loss: 0.1900 - acc: 0.9122 - val_loss: 0.2526 - val_acc: 0.8800\n",
      "Epoch 25/50\n",
      "22/22 [==============================] - 3s 125ms/step - loss: 0.1382 - acc: 0.9545 - val_loss: 0.2590 - val_acc: 0.9125\n",
      "Epoch 26/50\n",
      "22/22 [==============================] - 3s 147ms/step - loss: 0.1482 - acc: 0.9517 - val_loss: 0.1874 - val_acc: 0.9333\n",
      "Epoch 27/50\n",
      "22/22 [==============================] - 3s 128ms/step - loss: 0.1474 - acc: 0.9488 - val_loss: 0.1880 - val_acc: 0.9333\n",
      "Epoch 28/50\n",
      "22/22 [==============================] - 3s 122ms/step - loss: 0.1349 - acc: 0.9561 - val_loss: 0.1839 - val_acc: 0.9333\n",
      "Epoch 29/50\n",
      "22/22 [==============================] - 3s 125ms/step - loss: 0.1214 - acc: 0.9618 - val_loss: 0.2567 - val_acc: 0.9200\n",
      "Epoch 30/50\n",
      "22/22 [==============================] - 3s 131ms/step - loss: 0.1239 - acc: 0.9488 - val_loss: 0.1797 - val_acc: 0.9200\n",
      "Epoch 31/50\n",
      "22/22 [==============================] - 3s 123ms/step - loss: 0.1188 - acc: 0.9602 - val_loss: 0.2409 - val_acc: 0.9125\n",
      "Epoch 32/50\n",
      "22/22 [==============================] - 3s 153ms/step - loss: 0.1431 - acc: 0.9460 - val_loss: 0.2380 - val_acc: 0.9067\n",
      "Epoch 33/50\n",
      "22/22 [==============================] - 3s 114ms/step - loss: 0.1176 - acc: 0.9577 - val_loss: 0.1571 - val_acc: 0.9467\n",
      "Epoch 34/50\n",
      "22/22 [==============================] - 3s 123ms/step - loss: 0.1121 - acc: 0.9602 - val_loss: 0.2348 - val_acc: 0.9067\n",
      "Epoch 35/50\n",
      "22/22 [==============================] - 3s 124ms/step - loss: 0.0918 - acc: 0.9858 - val_loss: 0.1672 - val_acc: 0.9600\n",
      "Epoch 36/50\n",
      "22/22 [==============================] - 3s 123ms/step - loss: 0.0891 - acc: 0.9716 - val_loss: 0.2199 - val_acc: 0.9067\n",
      "Epoch 37/50\n",
      "22/22 [==============================] - 3s 129ms/step - loss: 0.0819 - acc: 0.9716 - val_loss: 0.1921 - val_acc: 0.9250\n",
      "Epoch 38/50\n",
      "22/22 [==============================] - 3s 142ms/step - loss: 0.0751 - acc: 0.9760 - val_loss: 0.2114 - val_acc: 0.9067\n",
      "Epoch 39/50\n",
      "22/22 [==============================] - 3s 118ms/step - loss: 0.0880 - acc: 0.9744 - val_loss: 0.1492 - val_acc: 0.9600\n",
      "Epoch 40/50\n",
      "22/22 [==============================] - 3s 126ms/step - loss: 0.0704 - acc: 0.9829 - val_loss: 0.1782 - val_acc: 0.9467\n",
      "Epoch 41/50\n",
      "22/22 [==============================] - 3s 131ms/step - loss: 0.0857 - acc: 0.9716 - val_loss: 0.2018 - val_acc: 0.9467\n",
      "Epoch 42/50\n",
      "22/22 [==============================] - 2s 112ms/step - loss: 0.0495 - acc: 0.9915 - val_loss: 0.2126 - val_acc: 0.9200\n",
      "Epoch 43/50\n",
      "22/22 [==============================] - 3s 126ms/step - loss: 0.0742 - acc: 0.9716 - val_loss: 0.2030 - val_acc: 0.9250\n",
      "Epoch 44/50\n",
      "22/22 [==============================] - 3s 154ms/step - loss: 0.0658 - acc: 0.9801 - val_loss: 0.1812 - val_acc: 0.9467\n",
      "Epoch 45/50\n",
      "22/22 [==============================] - 2s 108ms/step - loss: 0.0581 - acc: 0.9801 - val_loss: 0.3286 - val_acc: 0.8933\n",
      "Epoch 46/50\n",
      "22/22 [==============================] - 3s 135ms/step - loss: 0.0443 - acc: 0.9972 - val_loss: 0.1197 - val_acc: 0.9733\n",
      "Epoch 47/50\n",
      "22/22 [==============================] - 3s 126ms/step - loss: 0.0526 - acc: 0.9829 - val_loss: 0.1364 - val_acc: 0.9600\n",
      "Epoch 48/50\n",
      "22/22 [==============================] - 3s 126ms/step - loss: 0.0467 - acc: 0.9858 - val_loss: 0.2192 - val_acc: 0.9333\n",
      "Epoch 49/50\n",
      "22/22 [==============================] - 3s 128ms/step - loss: 0.0430 - acc: 0.9886 - val_loss: 0.2073 - val_acc: 0.9250\n",
      "Epoch 50/50\n",
      "22/22 [==============================] - 3s 135ms/step - loss: 0.0726 - acc: 0.9675 - val_loss: 0.1606 - val_acc: 0.9333\n",
      "Model: \"model_1\"\n",
      "_________________________________________________________________\n",
      "Layer (type)                 Output Shape              Param #   \n",
      "=================================================================\n",
      "input_1 (InputLayer)         (None, 150, 150, 3)       0         \n",
      "_________________________________________________________________\n",
      "block1_conv1 (Conv2D)        (None, 150, 150, 64)      1792      \n",
      "_________________________________________________________________\n",
      "block1_conv2 (Conv2D)        (None, 150, 150, 64)      36928     \n",
      "_________________________________________________________________\n",
      "block1_pool (MaxPooling2D)   (None, 75, 75, 64)        0         \n",
      "_________________________________________________________________\n",
      "block2_conv1 (Conv2D)        (None, 75, 75, 128)       73856     \n",
      "_________________________________________________________________\n",
      "block2_conv2 (Conv2D)        (None, 75, 75, 128)       147584    \n",
      "_________________________________________________________________\n",
      "block2_pool (MaxPooling2D)   (None, 37, 37, 128)       0         \n",
      "_________________________________________________________________\n",
      "block3_conv1 (Conv2D)        (None, 37, 37, 256)       295168    \n",
      "_________________________________________________________________\n",
      "block3_conv2 (Conv2D)        (None, 37, 37, 256)       590080    \n",
      "_________________________________________________________________\n",
      "block3_conv3 (Conv2D)        (None, 37, 37, 256)       590080    \n",
      "_________________________________________________________________\n",
      "block3_pool (MaxPooling2D)   (None, 18, 18, 256)       0         \n",
      "_________________________________________________________________\n",
      "block4_conv1 (Conv2D)        (None, 18, 18, 512)       1180160   \n",
      "_________________________________________________________________\n",
      "block4_conv2 (Conv2D)        (None, 18, 18, 512)       2359808   \n",
      "_________________________________________________________________\n",
      "block4_conv3 (Conv2D)        (None, 18, 18, 512)       2359808   \n",
      "_________________________________________________________________\n",
      "block4_pool (MaxPooling2D)   (None, 9, 9, 512)         0         \n",
      "_________________________________________________________________\n",
      "block5_conv1 (Conv2D)        (None, 9, 9, 512)         2359808   \n",
      "_________________________________________________________________\n",
      "block5_conv2 (Conv2D)        (None, 9, 9, 512)         2359808   \n",
      "_________________________________________________________________\n",
      "block5_conv3 (Conv2D)        (None, 9, 9, 512)         2359808   \n",
      "_________________________________________________________________\n",
      "block5_pool (MaxPooling2D)   (None, 4, 4, 512)         0         \n",
      "_________________________________________________________________\n",
      "sequential_1 (Sequential)    (None, 1)                 2097665   \n",
      "=================================================================\n",
      "Total params: 16,812,353\n",
      "Trainable params: 9,177,089\n",
      "Non-trainable params: 7,635,264\n",
      "_________________________________________________________________\n"
     ]
    }
   ],
   "source": [
    "model_history = fine_tune_model(train_df, test_df,50,16,'beard')"
   ]
  },
  {
   "cell_type": "code",
   "execution_count": 6,
   "metadata": {},
   "outputs": [
    {
     "name": "stdout",
     "output_type": "stream",
     "text": [
      "highest test accuracy: 0.9733333333333334\n",
      "------------------\n",
      "highest train accuracy: 0.9971181556195965\n"
     ]
    }
   ],
   "source": [
    "highest_val_acc, highest_train_acc = max(model_history.history['val_acc']), max(model_history.history['acc'])\n",
    "print(f'highest test accuracy: {highest_val_acc}')\n",
    "print('------------------')\n",
    "print(f'highest train accuracy: {highest_train_acc}')"
   ]
  },
  {
   "cell_type": "code",
   "execution_count": 7,
   "metadata": {},
   "outputs": [
    {
     "name": "stdout",
     "output_type": "stream",
     "text": [
      "lowest test loss: 0.11965555335084598\n",
      "------------------\n",
      "lowest train loss: 0.04342181743350771\n"
     ]
    }
   ],
   "source": [
    "lowest_val_loss, lowest_train_loss = min(model_history.history['val_loss']), min(model_history.history['loss'])\n",
    "print(f'lowest test loss: {lowest_val_loss}')\n",
    "print('------------------')\n",
    "print(f'lowest train loss: {lowest_train_loss}')"
   ]
  },
  {
   "cell_type": "code",
   "execution_count": 8,
   "metadata": {},
   "outputs": [
    {
     "data": {
      "image/png": "[encoded data removed]",
      "text/plain": [
       "<Figure size 432x288 with 1 Axes>"
      ]
     },
     "metadata": {
      "needs_background": "light"
     },
     "output_type": "display_data"
    }
   ],
   "source": [
    "plt.plot(model_history.history['val_acc'], color = 'red', label = 'test')\n",
    "plt.plot(model_history.history['acc'], color = 'blue', label = 'train')\n",
    "plt.title('accuracy')\n",
    "plt.ylabel('accuracy')\n",
    "plt.legend()\n",
    "plt.show()"
   ]
  },
  {
   "cell_type": "code",
   "execution_count": 9,
   "metadata": {},
   "outputs": [
    {
     "data": {
      "image/png": "[encoded data removed]",
      "text/plain": [
       "<Figure size 432x288 with 1 Axes>"
      ]
     },
     "metadata": {
      "needs_background": "light"
     },
     "output_type": "display_data"
    }
   ],
   "source": [
    "plt.plot(model_history.history['val_loss'], color = 'red', label = 'test')\n",
    "plt.plot(model_history.history['loss'], color = 'blue', label = 'train')\n",
    "plt.title('loss')\n",
    "plt.ylabel('loss')\n",
    "plt.legend()\n",
    "plt.show()"
   ]
  }
 ],
 "metadata": {
  "kernelspec": {
   "display_name": "Python 3",
   "language": "python",
   "name": "python3"
  },
  "language_info": {
   "codemirror_mode": {
    "name": "ipython",
    "version": 3
   },
   "file_extension": ".py",
   "mimetype": "text/x-python",
   "name": "python",
   "nbconvert_exporter": "python",
   "pygments_lexer": "ipython3",
   "version": "3.7.3"
  }
 },
 "nbformat": 4,
 "nbformat_minor": 2
}
