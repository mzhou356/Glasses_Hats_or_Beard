{
 "cells": [
  {
   "cell_type": "markdown",
   "metadata": {},
   "source": [
    "## Transfer Learning Tuning_beard:\n",
    "  * model parameter and other information can be found below:\n",
    "     * [source](https://blog.keras.io/building-powerful-image-classification-models-using-very-little-data.html)\n",
    "     \n",
    "  * base_model: use vgg16 and freeze at bottleneck layer (stop right before flatten layer) \n",
    "  * top_model: tune dense layers (parameters are inspired by source)\n",
    "     * batch_size 16 seems to work best for small data set \n",
    "     \n",
    "  * extra blog source for callbacks and saving models:\n",
    "  \n",
    "  [call_backs for best weights](https://machinelearningmastery.com/check-point-deep-learning-models-keras/)\n",
    "  \n",
    "  [saving models](https://machinelearningmastery.com/save-load-keras-deep-learning-models/)\n",
    "\n",
    "##### warnings: has beard: 0 and no beard: 1\n",
    "---\n",
    "#### This cell is required in order to use GPU for running the model "
   ]
  },
  {
   "cell_type": "code",
   "execution_count": 1,
   "metadata": {},
   "outputs": [
    {
     "name": "stderr",
     "output_type": "stream",
     "text": [
      "Using TensorFlow backend.\n",
      "WARNING: Logging before flag parsing goes to stderr.\n",
      "W0829 23:09:47.774611 139725449602880 deprecation_wrapper.py:119] From /home/mindy/anaconda3/lib/python3.7/site-packages/keras/backend/tensorflow_backend.py:190: The name tf.get_default_session is deprecated. Please use tf.compat.v1.get_default_session instead.\n",
      "\n",
      "W0829 23:09:47.775580 139725449602880 deprecation_wrapper.py:119] From /home/mindy/anaconda3/lib/python3.7/site-packages/keras/backend/tensorflow_backend.py:207: The name tf.global_variables is deprecated. Please use tf.compat.v1.global_variables instead.\n",
      "\n"
     ]
    }
   ],
   "source": [
    "import warnings\n",
    "warnings.filterwarnings('ignore')\n",
    "import tensorflow as tf\n",
    "import keras\n",
    "from keras.backend.tensorflow_backend import set_session\n",
    "config = tf.ConfigProto()\n",
    "config.gpu_options.allow_growth = True  # dynamically grow the memory used on the GPU\n",
    "config.log_device_placement = True  # to log device placement (on which device the operation ran)\n",
    "                                    # (nothing gets printed in Jupyter, only if you run it standalone)\n",
    "sess = tf.Session(config=config)\n",
    "set_session(sess)  # set this TensorFlow session as the default session for Keras\n",
    "keras.backend.get_session().run(tf.global_variables_initializer())  "
   ]
  },
  {
   "cell_type": "markdown",
   "metadata": {},
   "source": [
    "---\n",
    "#### Import necessary libraries"
   ]
  },
  {
   "cell_type": "code",
   "execution_count": 3,
   "metadata": {},
   "outputs": [],
   "source": [
    "import pandas as pd\n",
    "import numpy as np\n",
    "import matplotlib.pyplot as plt\n",
    "%matplotlib inline\n",
    "from keras_preprocessing.image import ImageDataGenerator\n",
    "from keras.models import Sequential, Model\n",
    "from keras.layers import Dropout, Flatten, Dense\n",
    "from keras.applications.vgg16 import VGG16\n",
    "from keras import optimizers\n",
    "from keras.models import model_from_json\n",
    "from keras.callbacks import ModelCheckpoint"
   ]
  },
  {
   "cell_type": "markdown",
   "metadata": {},
   "source": [
    "---\n",
    "#### Import train_df and test_df"
   ]
  },
  {
   "cell_type": "code",
   "execution_count": 4,
   "metadata": {},
   "outputs": [],
   "source": [
    "train_df = pd.read_pickle('../pickle_files/train_df_beard.pkl')\n",
    "test_df = pd.read_pickle('../pickle_files/test_df_beard.pkl')"
   ]
  },
  {
   "cell_type": "code",
   "execution_count": 4,
   "metadata": {},
   "outputs": [
    {
     "data": {
      "text/html": [
       "<div>\n",
       "<style scoped>\n",
       "    .dataframe tbody tr th:only-of-type {\n",
       "        vertical-align: middle;\n",
       "    }\n",
       "\n",
       "    .dataframe tbody tr th {\n",
       "        vertical-align: top;\n",
       "    }\n",
       "\n",
       "    .dataframe thead th {\n",
       "        text-align: right;\n",
       "    }\n",
       "</style>\n",
       "<table border=\"1\" class=\"dataframe\">\n",
       "  <thead>\n",
       "    <tr style=\"text-align: right;\">\n",
       "      <th></th>\n",
       "      <th>pic_id</th>\n",
       "      <th>beard</th>\n",
       "    </tr>\n",
       "  </thead>\n",
       "  <tbody>\n",
       "    <tr>\n",
       "      <th>119</th>\n",
       "      <td>00725.jpg</td>\n",
       "      <td>beard</td>\n",
       "    </tr>\n",
       "    <tr>\n",
       "      <th>423</th>\n",
       "      <td>00513.jpg</td>\n",
       "      <td>not_beard</td>\n",
       "    </tr>\n",
       "  </tbody>\n",
       "</table>\n",
       "</div>"
      ],
      "text/plain": [
       "        pic_id      beard\n",
       "119  00725.jpg      beard\n",
       "423  00513.jpg  not_beard"
      ]
     },
     "execution_count": 4,
     "metadata": {},
     "output_type": "execute_result"
    }
   ],
   "source": [
    "train_df.head(2)"
   ]
  },
  {
   "cell_type": "markdown",
   "metadata": {},
   "source": [
    "#### Get bottleneck features to tune top models"
   ]
  },
  {
   "cell_type": "code",
   "execution_count": 5,
   "metadata": {},
   "outputs": [],
   "source": [
    "def save_bottleneck_features(train_df, test_df, label, batch_size):\n",
    "    '''\n",
    "    inputs:\n",
    "    train_df, test_df: train and test dataframes saved in pickle_files folder\n",
    "    label: a string, eyewear, hat, or beard\n",
    "    batch_size: process images in batches\n",
    "    outputs:\n",
    "    saves bottleneck features inside folder tuning_data as npy file\n",
    "    '''\n",
    "    # intialize the vgg16 model \n",
    "    # make sure not to train the top layers \n",
    "    base_model = VGG16(weights = 'imagenet', include_top = False)\n",
    "    # create train_generator and test_generator to get bottleneck inputs for train and test df \n",
    "    datagen = ImageDataGenerator(\n",
    "        rescale=1./255,\n",
    "        zoom_range= [0.8,1.7],\n",
    "        shear_range=0.2,\n",
    "        rotation_range = 40,\n",
    "        width_shift_range=0.2,\n",
    "        height_shift_range=0.2,\n",
    "        horizontal_flip=True)\n",
    "    # make sure shuffle is False so we know the label follows the sequence of the dataframe \n",
    "    # so we can tune top_model \n",
    "    train_generator = datagen.flow_from_dataframe(\n",
    "    dataframe=train_df,\n",
    "    directory='../data/pics',\n",
    "    x_col='pic_id',\n",
    "    y_col=label,\n",
    "    batch_size=batch_size,\n",
    "    shuffle = False,\n",
    "    target_size=(150,150),\n",
    "    class_mode = None)\n",
    "    # get features saved as .npy in tunign_data folder \n",
    "    bottleneck_features_train = base_model.predict_generator(\n",
    "        train_generator, train_df.shape[0]//batch_size)\n",
    "    np.save(open('../tuning_data/bottleneck_features_train_beard_2.npy','wb'),\n",
    "           bottleneck_features_train)\n",
    "    \n",
    "    test_generator = datagen.flow_from_dataframe(\n",
    "    dataframe=test_df,\n",
    "    directory='../data/pics',\n",
    "    x_col='pic_id',\n",
    "    y_col=label,\n",
    "    batch_size=batch_size,\n",
    "    shuffle = False,\n",
    "    target_size=(150,150),\n",
    "    class_mode = None)\n",
    "    bottleneck_features_test = base_model.predict_generator(\n",
    "        test_generator, test_df.shape[0]//batch_size)\n",
    "    np.save(open('../tuning_data/bottleneck_features_test_beard_2.npy','wb'),\n",
    "           bottleneck_features_test)"
   ]
  },
  {
   "cell_type": "markdown",
   "metadata": {},
   "source": [
    "#### Save bottleneck_features"
   ]
  },
  {
   "cell_type": "code",
   "execution_count": 6,
   "metadata": {
    "scrolled": true
   },
   "outputs": [
    {
     "name": "stderr",
     "output_type": "stream",
     "text": [
      "W0829 22:58:34.993765 140622077245248 deprecation_wrapper.py:119] From /home/mindy/anaconda3/lib/python3.7/site-packages/keras/backend/tensorflow_backend.py:66: The name tf.get_default_graph is deprecated. Please use tf.compat.v1.get_default_graph instead.\n",
      "\n",
      "W0829 22:58:34.994647 140622077245248 deprecation_wrapper.py:119] From /home/mindy/anaconda3/lib/python3.7/site-packages/keras/backend/tensorflow_backend.py:541: The name tf.placeholder is deprecated. Please use tf.compat.v1.placeholder instead.\n",
      "\n",
      "W0829 22:58:34.996672 140622077245248 deprecation_wrapper.py:119] From /home/mindy/anaconda3/lib/python3.7/site-packages/keras/backend/tensorflow_backend.py:4432: The name tf.random_uniform is deprecated. Please use tf.random.uniform instead.\n",
      "\n",
      "W0829 22:58:35.013768 140622077245248 deprecation_wrapper.py:119] From /home/mindy/anaconda3/lib/python3.7/site-packages/keras/backend/tensorflow_backend.py:4267: The name tf.nn.max_pool is deprecated. Please use tf.nn.max_pool2d instead.\n",
      "\n"
     ]
    },
    {
     "name": "stdout",
     "output_type": "stream",
     "text": [
      "Found 363 validated image filenames.\n",
      "Found 91 validated image filenames.\n"
     ]
    }
   ],
   "source": [
    "save_bottleneck_features(train_df,test_df,'beard',16)"
   ]
  },
  {
   "cell_type": "markdown",
   "metadata": {},
   "source": [
    "### Quick tuning of top models "
   ]
  },
  {
   "cell_type": "code",
   "execution_count": 8,
   "metadata": {},
   "outputs": [],
   "source": [
    "def train_top_model(train_df, test_df, epoch, batch_size, label):\n",
    "    '''\n",
    "    inputs:\n",
    "    train_df, test_df: dataframes saved in pickle_files to generate train and test labels \n",
    "    epoch: num of epochs in fit \n",
    "    batch_size: same as image generator batch size \n",
    "    label: a string, eyewear, hat, or beard\n",
    "    output:\n",
    "    saves model weights in a folder \n",
    "    '''\n",
    "    train_data = np.load(open('../tuning_data/bottleneck_features_train_beard_2.npy','rb'))\n",
    "    # make sure train_data and train_label have same num of samples\n",
    "    train_label = np.array(train_df[label].map({'not_'+label:0, label:1}))[:-(train_df.shape[0]%batch_size)]\n",
    "    \n",
    "    test_data = np.load(open('../tuning_data/bottleneck_features_test_beard_2.npy','rb'))\n",
    "    test_label = np.array(test_df[label].map({'not_'+label:0, label:1}))[:-(test_df.shape[0]%batch_size)]\n",
    "    \n",
    "    # build top model\n",
    "    model = Sequential()\n",
    "    model.add(Flatten(input_shape=train_data.shape[1:]))\n",
    "    model.add(Dense(256, activation='relu'))\n",
    "    model.add(Dropout(0.5))\n",
    "    model.add(Dense(1, activation='sigmoid'))\n",
    "    \n",
    "    model.compile(optimizer='rmsprop',\n",
    "                 loss='binary_crossentropy',\n",
    "                 metrics=['accuracy'])\n",
    "    \n",
    "     # checkpoint for best weights \n",
    "    filepath=\"../tuning_data/best_bottleneck_vgg_model_beard_2.h5\"\n",
    "    checkpoint = ModelCheckpoint(filepath, monitor='val_acc', verbose=1, save_best_only=True, mode='max')\n",
    "    callbacks_list = [checkpoint]\n",
    "    \n",
    "    model.fit(train_data, train_label,\n",
    "             epochs=epoch,\n",
    "             batch_size=batch_size,\n",
    "             validation_data=(test_data,test_label),\n",
    "             callbacks=callbacks_list)\n",
    "    del model\n",
    "    keras.backend.clear_session()"
   ]
  },
  {
   "cell_type": "markdown",
   "metadata": {},
   "source": [
    "#### run train_top_model and save results in tuning_data"
   ]
  },
  {
   "cell_type": "code",
   "execution_count": 9,
   "metadata": {
    "scrolled": false
   },
   "outputs": [
    {
     "name": "stderr",
     "output_type": "stream",
     "text": [
      "W0829 22:59:37.013910 140622077245248 deprecation.py:506] From /home/mindy/anaconda3/lib/python3.7/site-packages/keras/backend/tensorflow_backend.py:3733: calling dropout (from tensorflow.python.ops.nn_ops) with keep_prob is deprecated and will be removed in a future version.\n",
      "Instructions for updating:\n",
      "Please use `rate` instead of `keep_prob`. Rate should be set to `rate = 1 - keep_prob`.\n",
      "W0829 22:59:37.027437 140622077245248 deprecation_wrapper.py:119] From /home/mindy/anaconda3/lib/python3.7/site-packages/keras/optimizers.py:793: The name tf.train.Optimizer is deprecated. Please use tf.compat.v1.train.Optimizer instead.\n",
      "\n",
      "W0829 22:59:37.037425 140622077245248 deprecation.py:323] From /home/mindy/anaconda3/lib/python3.7/site-packages/tensorflow/python/ops/nn_impl.py:180: add_dispatch_support.<locals>.wrapper (from tensorflow.python.ops.array_ops) is deprecated and will be removed in a future version.\n",
      "Instructions for updating:\n",
      "Use tf.where in 2.0, which has the same broadcast rule as np.where\n"
     ]
    },
    {
     "name": "stdout",
     "output_type": "stream",
     "text": [
      "Train on 352 samples, validate on 80 samples\n",
      "Epoch 1/50\n",
      "352/352 [==============================] - 0s 1ms/step - loss: 1.9358 - acc: 0.5739 - val_loss: 0.6659 - val_acc: 0.7000\n",
      "\n",
      "Epoch 00001: val_acc improved from -inf to 0.70000, saving model to ../tuning_data/best_bottleneck_vgg_model_beard_2.h5\n",
      "Epoch 2/50\n",
      "352/352 [==============================] - 0s 194us/step - loss: 0.7819 - acc: 0.6733 - val_loss: 0.6043 - val_acc: 0.6625\n",
      "\n",
      "Epoch 00002: val_acc did not improve from 0.70000\n",
      "Epoch 3/50\n",
      "352/352 [==============================] - 0s 200us/step - loss: 0.5146 - acc: 0.7841 - val_loss: 0.5723 - val_acc: 0.7125\n",
      "\n",
      "Epoch 00003: val_acc improved from 0.70000 to 0.71250, saving model to ../tuning_data/best_bottleneck_vgg_model_beard_2.h5\n",
      "Epoch 4/50\n",
      "352/352 [==============================] - 0s 204us/step - loss: 0.3760 - acc: 0.8551 - val_loss: 0.4350 - val_acc: 0.8125\n",
      "\n",
      "Epoch 00004: val_acc improved from 0.71250 to 0.81250, saving model to ../tuning_data/best_bottleneck_vgg_model_beard_2.h5\n",
      "Epoch 5/50\n",
      "352/352 [==============================] - 0s 196us/step - loss: 0.4700 - acc: 0.8125 - val_loss: 0.7226 - val_acc: 0.6750\n",
      "\n",
      "Epoch 00005: val_acc did not improve from 0.81250\n",
      "Epoch 6/50\n",
      "352/352 [==============================] - 0s 197us/step - loss: 0.2879 - acc: 0.8722 - val_loss: 0.4109 - val_acc: 0.8250\n",
      "\n",
      "Epoch 00006: val_acc improved from 0.81250 to 0.82500, saving model to ../tuning_data/best_bottleneck_vgg_model_beard_2.h5\n",
      "Epoch 7/50\n",
      "352/352 [==============================] - 0s 198us/step - loss: 0.2563 - acc: 0.8949 - val_loss: 0.4049 - val_acc: 0.8375\n",
      "\n",
      "Epoch 00007: val_acc improved from 0.82500 to 0.83750, saving model to ../tuning_data/best_bottleneck_vgg_model_beard_2.h5\n",
      "Epoch 8/50\n",
      "352/352 [==============================] - 0s 198us/step - loss: 0.2961 - acc: 0.8750 - val_loss: 0.6670 - val_acc: 0.7500\n",
      "\n",
      "Epoch 00008: val_acc did not improve from 0.83750\n",
      "Epoch 9/50\n",
      "352/352 [==============================] - 0s 196us/step - loss: 0.2094 - acc: 0.9290 - val_loss: 0.3980 - val_acc: 0.8250\n",
      "\n",
      "Epoch 00009: val_acc did not improve from 0.83750\n",
      "Epoch 10/50\n",
      "352/352 [==============================] - 0s 197us/step - loss: 0.1893 - acc: 0.9318 - val_loss: 0.5509 - val_acc: 0.7750\n",
      "\n",
      "Epoch 00010: val_acc did not improve from 0.83750\n",
      "Epoch 11/50\n",
      "352/352 [==============================] - 0s 198us/step - loss: 0.2710 - acc: 0.9290 - val_loss: 0.4280 - val_acc: 0.8250\n",
      "\n",
      "Epoch 00011: val_acc did not improve from 0.83750\n",
      "Epoch 12/50\n",
      "352/352 [==============================] - 0s 190us/step - loss: 0.1270 - acc: 0.9517 - val_loss: 0.7537 - val_acc: 0.7250\n",
      "\n",
      "Epoch 00012: val_acc did not improve from 0.83750\n",
      "Epoch 13/50\n",
      "352/352 [==============================] - 0s 189us/step - loss: 0.1269 - acc: 0.9489 - val_loss: 0.4844 - val_acc: 0.8250\n",
      "\n",
      "Epoch 00013: val_acc did not improve from 0.83750\n",
      "Epoch 14/50\n",
      "352/352 [==============================] - 0s 194us/step - loss: 0.0711 - acc: 0.9716 - val_loss: 0.4834 - val_acc: 0.8250\n",
      "\n",
      "Epoch 00014: val_acc did not improve from 0.83750\n",
      "Epoch 15/50\n",
      "352/352 [==============================] - 0s 193us/step - loss: 0.0531 - acc: 0.9858 - val_loss: 0.6292 - val_acc: 0.7875\n",
      "\n",
      "Epoch 00015: val_acc did not improve from 0.83750\n",
      "Epoch 16/50\n",
      "352/352 [==============================] - 0s 191us/step - loss: 0.0332 - acc: 0.9972 - val_loss: 0.9668 - val_acc: 0.7375\n",
      "\n",
      "Epoch 00016: val_acc did not improve from 0.83750\n",
      "Epoch 17/50\n",
      "352/352 [==============================] - 0s 205us/step - loss: 0.1478 - acc: 0.9545 - val_loss: 0.5692 - val_acc: 0.8000\n",
      "\n",
      "Epoch 00017: val_acc did not improve from 0.83750\n",
      "Epoch 18/50\n",
      "352/352 [==============================] - 0s 187us/step - loss: 0.0262 - acc: 0.9943 - val_loss: 0.6085 - val_acc: 0.8125\n",
      "\n",
      "Epoch 00018: val_acc did not improve from 0.83750\n",
      "Epoch 19/50\n",
      "352/352 [==============================] - 0s 188us/step - loss: 0.0272 - acc: 0.9943 - val_loss: 0.5378 - val_acc: 0.8125\n",
      "\n",
      "Epoch 00019: val_acc did not improve from 0.83750\n",
      "Epoch 20/50\n",
      "352/352 [==============================] - 0s 191us/step - loss: 0.0108 - acc: 0.9972 - val_loss: 0.5989 - val_acc: 0.8375\n",
      "\n",
      "Epoch 00020: val_acc did not improve from 0.83750\n",
      "Epoch 21/50\n",
      "352/352 [==============================] - 0s 192us/step - loss: 0.1156 - acc: 0.9773 - val_loss: 0.6085 - val_acc: 0.8250\n",
      "\n",
      "Epoch 00021: val_acc did not improve from 0.83750\n",
      "Epoch 22/50\n",
      "352/352 [==============================] - 0s 190us/step - loss: 0.0118 - acc: 0.9972 - val_loss: 0.8531 - val_acc: 0.7875\n",
      "\n",
      "Epoch 00022: val_acc did not improve from 0.83750\n",
      "Epoch 23/50\n",
      "352/352 [==============================] - 0s 189us/step - loss: 0.0317 - acc: 0.9886 - val_loss: 1.8999 - val_acc: 0.6375\n",
      "\n",
      "Epoch 00023: val_acc did not improve from 0.83750\n",
      "Epoch 24/50\n",
      "352/352 [==============================] - 0s 197us/step - loss: 0.0323 - acc: 0.9915 - val_loss: 0.6672 - val_acc: 0.8250\n",
      "\n",
      "Epoch 00024: val_acc did not improve from 0.83750\n",
      "Epoch 25/50\n",
      "352/352 [==============================] - 0s 194us/step - loss: 0.0579 - acc: 0.9830 - val_loss: 0.8520 - val_acc: 0.8000\n",
      "\n",
      "Epoch 00025: val_acc did not improve from 0.83750\n",
      "Epoch 26/50\n",
      "352/352 [==============================] - 0s 195us/step - loss: 0.0129 - acc: 0.9972 - val_loss: 0.6147 - val_acc: 0.8500\n",
      "\n",
      "Epoch 00026: val_acc improved from 0.83750 to 0.85000, saving model to ../tuning_data/best_bottleneck_vgg_model_beard_2.h5\n",
      "Epoch 27/50\n",
      "352/352 [==============================] - 0s 195us/step - loss: 0.0074 - acc: 0.9972 - val_loss: 1.1461 - val_acc: 0.7500\n",
      "\n",
      "Epoch 00027: val_acc did not improve from 0.85000\n",
      "Epoch 28/50\n",
      "352/352 [==============================] - 0s 203us/step - loss: 0.0819 - acc: 0.9716 - val_loss: 1.1718 - val_acc: 0.7625\n",
      "\n",
      "Epoch 00028: val_acc did not improve from 0.85000\n",
      "Epoch 29/50\n",
      "352/352 [==============================] - 0s 194us/step - loss: 0.0087 - acc: 0.9972 - val_loss: 1.0121 - val_acc: 0.7750\n",
      "\n",
      "Epoch 00029: val_acc did not improve from 0.85000\n",
      "Epoch 30/50\n",
      "352/352 [==============================] - 0s 190us/step - loss: 0.0285 - acc: 0.9915 - val_loss: 0.7861 - val_acc: 0.8125\n",
      "\n",
      "Epoch 00030: val_acc did not improve from 0.85000\n",
      "Epoch 31/50\n",
      "352/352 [==============================] - 0s 187us/step - loss: 0.0489 - acc: 0.9773 - val_loss: 1.0267 - val_acc: 0.8000\n",
      "\n",
      "Epoch 00031: val_acc did not improve from 0.85000\n",
      "Epoch 32/50\n",
      "352/352 [==============================] - 0s 184us/step - loss: 0.0255 - acc: 0.9972 - val_loss: 2.1180 - val_acc: 0.7125\n",
      "\n",
      "Epoch 00032: val_acc did not improve from 0.85000\n",
      "Epoch 33/50\n",
      "352/352 [==============================] - 0s 192us/step - loss: 0.0239 - acc: 0.9915 - val_loss: 1.3743 - val_acc: 0.7625\n",
      "\n",
      "Epoch 00033: val_acc did not improve from 0.85000\n",
      "Epoch 34/50\n",
      "352/352 [==============================] - 0s 194us/step - loss: 0.0241 - acc: 0.9943 - val_loss: 0.8109 - val_acc: 0.7750\n",
      "\n",
      "Epoch 00034: val_acc did not improve from 0.85000\n",
      "Epoch 35/50\n",
      "352/352 [==============================] - 0s 184us/step - loss: 0.0084 - acc: 0.9943 - val_loss: 0.8257 - val_acc: 0.8125\n",
      "\n",
      "Epoch 00035: val_acc did not improve from 0.85000\n",
      "Epoch 36/50\n",
      "352/352 [==============================] - 0s 191us/step - loss: 0.0082 - acc: 0.9972 - val_loss: 1.0687 - val_acc: 0.7625\n",
      "\n",
      "Epoch 00036: val_acc did not improve from 0.85000\n",
      "Epoch 37/50\n",
      "352/352 [==============================] - 0s 187us/step - loss: 0.0587 - acc: 0.9858 - val_loss: 0.8279 - val_acc: 0.8125\n",
      "\n",
      "Epoch 00037: val_acc did not improve from 0.85000\n",
      "Epoch 38/50\n",
      "352/352 [==============================] - 0s 192us/step - loss: 4.9009e-04 - acc: 1.0000 - val_loss: 0.7294 - val_acc: 0.8125\n",
      "\n",
      "Epoch 00038: val_acc did not improve from 0.85000\n",
      "Epoch 39/50\n",
      "352/352 [==============================] - 0s 187us/step - loss: 0.0317 - acc: 0.9858 - val_loss: 0.7542 - val_acc: 0.8125\n",
      "\n",
      "Epoch 00039: val_acc did not improve from 0.85000\n",
      "Epoch 40/50\n",
      "352/352 [==============================] - 0s 187us/step - loss: 0.0034 - acc: 1.0000 - val_loss: 0.7393 - val_acc: 0.8250\n",
      "\n",
      "Epoch 00040: val_acc did not improve from 0.85000\n",
      "Epoch 41/50\n",
      "352/352 [==============================] - 0s 184us/step - loss: 0.0194 - acc: 0.9858 - val_loss: 1.0962 - val_acc: 0.7750\n",
      "\n",
      "Epoch 00041: val_acc did not improve from 0.85000\n",
      "Epoch 42/50\n"
     ]
    },
    {
     "name": "stdout",
     "output_type": "stream",
     "text": [
      "352/352 [==============================] - 0s 189us/step - loss: 4.0174e-04 - acc: 1.0000 - val_loss: 0.8802 - val_acc: 0.8250\n",
      "\n",
      "Epoch 00042: val_acc did not improve from 0.85000\n",
      "Epoch 43/50\n",
      "352/352 [==============================] - 0s 192us/step - loss: 1.3376e-04 - acc: 1.0000 - val_loss: 0.9022 - val_acc: 0.8125\n",
      "\n",
      "Epoch 00043: val_acc did not improve from 0.85000\n",
      "Epoch 44/50\n",
      "352/352 [==============================] - 0s 188us/step - loss: 0.1313 - acc: 0.9773 - val_loss: 0.8223 - val_acc: 0.8125\n",
      "\n",
      "Epoch 00044: val_acc did not improve from 0.85000\n",
      "Epoch 45/50\n",
      "352/352 [==============================] - 0s 188us/step - loss: 2.6773e-04 - acc: 1.0000 - val_loss: 1.3104 - val_acc: 0.7875\n",
      "\n",
      "Epoch 00045: val_acc did not improve from 0.85000\n",
      "Epoch 46/50\n",
      "352/352 [==============================] - 0s 188us/step - loss: 0.0056 - acc: 1.0000 - val_loss: 0.9321 - val_acc: 0.8250\n",
      "\n",
      "Epoch 00046: val_acc did not improve from 0.85000\n",
      "Epoch 47/50\n",
      "352/352 [==============================] - 0s 183us/step - loss: 0.0072 - acc: 0.9943 - val_loss: 1.1527 - val_acc: 0.7875\n",
      "\n",
      "Epoch 00047: val_acc did not improve from 0.85000\n",
      "Epoch 48/50\n",
      "352/352 [==============================] - 0s 185us/step - loss: 9.3913e-04 - acc: 1.0000 - val_loss: 1.0267 - val_acc: 0.7875\n",
      "\n",
      "Epoch 00048: val_acc did not improve from 0.85000\n",
      "Epoch 49/50\n",
      "352/352 [==============================] - 0s 181us/step - loss: 0.0100 - acc: 0.9943 - val_loss: 0.8736 - val_acc: 0.8000\n",
      "\n",
      "Epoch 00049: val_acc did not improve from 0.85000\n",
      "Epoch 50/50\n",
      "352/352 [==============================] - 0s 192us/step - loss: 0.0027 - acc: 1.0000 - val_loss: 0.8499 - val_acc: 0.8250\n",
      "\n",
      "Epoch 00050: val_acc did not improve from 0.85000\n"
     ]
    }
   ],
   "source": [
    "train_top_model(train_df, test_df, 50, 16, 'beard')"
   ]
  },
  {
   "cell_type": "markdown",
   "metadata": {},
   "source": [
    "### Fine Tune Top Model to improve accuracy"
   ]
  },
  {
   "cell_type": "code",
   "execution_count": 5,
   "metadata": {},
   "outputs": [],
   "source": [
    "def fine_tune_model(train_df, test_df,epoch, batch_size,label, print_model = True):\n",
    "    # build VGG16 model and freeze top layers\n",
    "    # input_shape: width, height, RGB (from image generator)\n",
    "    model_vgg = VGG16(weights='imagenet',include_top=False, input_shape=(150,150,3))\n",
    "    # build top model\n",
    "    top_model = Sequential()\n",
    "    top_model.add(Flatten(input_shape=model_vgg.output_shape[1:]))\n",
    "    top_model.add(Dense(256,activation='relu'))\n",
    "    top_model.add(Dropout(0.5))\n",
    "    top_model.add(Dense(1, activation='sigmoid'))\n",
    "    \n",
    "    # load saved weights to fine tune parameters \n",
    "    top_model.load_weights('../tuning_data/best_bottleneck_vgg_model_beard_2.h5')\n",
    "    # add top model to model\n",
    "    model = Model(inputs=model_vgg.input, outputs=top_model(model_vgg.output))\n",
    "    # we will tune last 5 layers of the model: block5 and fully connected layer \n",
    "    for layer in model.layers[:15]:\n",
    "        layer.trainable = False\n",
    "    # we can tune the parameters for lr and momentum later to get better results\n",
    "    model.compile(loss='binary_crossentropy',\n",
    "             optimizer=optimizers.SGD(lr=1e-4, momentum=0.9),\n",
    "             metrics=['accuracy'])\n",
    "    # prepare train generator using data augmentation to battle small sample size \n",
    "    train_gen = ImageDataGenerator(\n",
    "        rescale=1./255,\n",
    "        zoom_range= [0.8,1.7],\n",
    "        shear_range=0.2,\n",
    "        rotation_range = 40,\n",
    "        width_shift_range=0.2,\n",
    "        height_shift_range=0.2,\n",
    "        horizontal_flip=True)\n",
    "    # not want to augment the test \n",
    "    test_gen = ImageDataGenerator(rescale=1./255)\n",
    "    \n",
    "    train_generator =  train_gen.flow_from_dataframe(\n",
    "    dataframe=train_df,\n",
    "    directory='../data/pics',\n",
    "    x_col='pic_id',\n",
    "    y_col=label,\n",
    "    batch_size=batch_size,\n",
    "    target_size=(150,150),\n",
    "    class_mode = 'binary')\n",
    "    \n",
    "    test_generator =  test_gen.flow_from_dataframe(\n",
    "    dataframe=test_df,\n",
    "    directory='../data/pics',\n",
    "    x_col='pic_id',\n",
    "    y_col=label,\n",
    "    batch_size=batch_size,\n",
    "    target_size=(150,150),\n",
    "    class_mode = 'binary')\n",
    "    \n",
    "    # checkpoint for best weights \n",
    "    filepath=\"../tuning_data/best_vgg_model_beard_2.h5\"\n",
    "    checkpoint = ModelCheckpoint(filepath, monitor='val_acc', verbose=1, save_best_only=True, mode='max')\n",
    "    callbacks_list = [checkpoint]\n",
    "    \n",
    "    # run and fit model \n",
    "    result = model.fit_generator(\n",
    "    train_generator,\n",
    "    steps_per_epoch=train_df.shape[0]//batch_size,\n",
    "    epochs=epoch,\n",
    "    validation_data=test_generator,\n",
    "    validation_steps=test_df.shape[0]//batch_size,\n",
    "    verbose=1,\n",
    "    callbacks=callbacks_list)\n",
    "\n",
    "    if print_model:\n",
    "        model.summary()\n",
    "        \n",
    "    del model\n",
    "    keras.backend.clear_session()\n",
    "    return result"
   ]
  },
  {
   "cell_type": "markdown",
   "metadata": {},
   "source": [
    "### save model history "
   ]
  },
  {
   "cell_type": "code",
   "execution_count": 6,
   "metadata": {},
   "outputs": [
    {
     "name": "stderr",
     "output_type": "stream",
     "text": [
      "W0829 23:10:09.002233 139725449602880 deprecation_wrapper.py:119] From /home/mindy/anaconda3/lib/python3.7/site-packages/keras/backend/tensorflow_backend.py:66: The name tf.get_default_graph is deprecated. Please use tf.compat.v1.get_default_graph instead.\n",
      "\n",
      "W0829 23:10:09.002947 139725449602880 deprecation_wrapper.py:119] From /home/mindy/anaconda3/lib/python3.7/site-packages/keras/backend/tensorflow_backend.py:541: The name tf.placeholder is deprecated. Please use tf.compat.v1.placeholder instead.\n",
      "\n",
      "W0829 23:10:09.004704 139725449602880 deprecation_wrapper.py:119] From /home/mindy/anaconda3/lib/python3.7/site-packages/keras/backend/tensorflow_backend.py:4432: The name tf.random_uniform is deprecated. Please use tf.random.uniform instead.\n",
      "\n",
      "W0829 23:10:09.020003 139725449602880 deprecation_wrapper.py:119] From /home/mindy/anaconda3/lib/python3.7/site-packages/keras/backend/tensorflow_backend.py:4267: The name tf.nn.max_pool is deprecated. Please use tf.nn.max_pool2d instead.\n",
      "\n",
      "W0829 23:10:09.629290 139725449602880 deprecation.py:506] From /home/mindy/anaconda3/lib/python3.7/site-packages/keras/backend/tensorflow_backend.py:3733: calling dropout (from tensorflow.python.ops.nn_ops) with keep_prob is deprecated and will be removed in a future version.\n",
      "Instructions for updating:\n",
      "Please use `rate` instead of `keep_prob`. Rate should be set to `rate = 1 - keep_prob`.\n",
      "W0829 23:10:09.715906 139725449602880 deprecation_wrapper.py:119] From /home/mindy/anaconda3/lib/python3.7/site-packages/keras/optimizers.py:793: The name tf.train.Optimizer is deprecated. Please use tf.compat.v1.train.Optimizer instead.\n",
      "\n",
      "W0829 23:10:09.723760 139725449602880 deprecation.py:323] From /home/mindy/anaconda3/lib/python3.7/site-packages/tensorflow/python/ops/nn_impl.py:180: add_dispatch_support.<locals>.wrapper (from tensorflow.python.ops.array_ops) is deprecated and will be removed in a future version.\n",
      "Instructions for updating:\n",
      "Use tf.where in 2.0, which has the same broadcast rule as np.where\n"
     ]
    },
    {
     "name": "stdout",
     "output_type": "stream",
     "text": [
      "Found 363 validated image filenames belonging to 2 classes.\n",
      "Found 91 validated image filenames belonging to 2 classes.\n",
      "Epoch 1/50\n",
      "22/22 [==============================] - 3s 151ms/step - loss: 2.9483 - acc: 0.3249 - val_loss: 0.7289 - val_acc: 0.5625\n",
      "\n",
      "Epoch 00001: val_acc improved from -inf to 0.56250, saving model to ../tuning_data/best_vgg_model_beard_3.h5\n",
      "Epoch 2/50\n",
      "22/22 [==============================] - 3s 148ms/step - loss: 0.7818 - acc: 0.5004 - val_loss: 0.7189 - val_acc: 0.4933\n",
      "\n",
      "Epoch 00002: val_acc did not improve from 0.56250\n",
      "Epoch 3/50\n",
      "22/22 [==============================] - 3s 137ms/step - loss: 0.7428 - acc: 0.5406 - val_loss: 0.7015 - val_acc: 0.5067\n",
      "\n",
      "Epoch 00003: val_acc did not improve from 0.56250\n",
      "Epoch 4/50\n",
      "22/22 [==============================] - 3s 136ms/step - loss: 0.7104 - acc: 0.5280 - val_loss: 0.6648 - val_acc: 0.6000\n",
      "\n",
      "Epoch 00004: val_acc improved from 0.56250 to 0.60000, saving model to ../tuning_data/best_vgg_model_beard_3.h5\n",
      "Epoch 5/50\n",
      "22/22 [==============================] - 3s 125ms/step - loss: 0.6924 - acc: 0.5715 - val_loss: 0.6485 - val_acc: 0.5867\n",
      "\n",
      "Epoch 00005: val_acc did not improve from 0.60000\n",
      "Epoch 6/50\n",
      "22/22 [==============================] - 3s 129ms/step - loss: 0.6526 - acc: 0.5975 - val_loss: 0.6058 - val_acc: 0.6933\n",
      "\n",
      "Epoch 00006: val_acc improved from 0.60000 to 0.69333, saving model to ../tuning_data/best_vgg_model_beard_3.h5\n",
      "Epoch 7/50\n",
      "22/22 [==============================] - 3s 134ms/step - loss: 0.6351 - acc: 0.6369 - val_loss: 0.6021 - val_acc: 0.6750\n",
      "\n",
      "Epoch 00007: val_acc did not improve from 0.69333\n",
      "Epoch 8/50\n",
      "22/22 [==============================] - 4s 167ms/step - loss: 0.6346 - acc: 0.6562 - val_loss: 0.6174 - val_acc: 0.6267\n",
      "\n",
      "Epoch 00008: val_acc did not improve from 0.69333\n",
      "Epoch 9/50\n",
      "22/22 [==============================] - 3s 115ms/step - loss: 0.6141 - acc: 0.6785 - val_loss: 0.5590 - val_acc: 0.7333\n",
      "\n",
      "Epoch 00009: val_acc improved from 0.69333 to 0.73333, saving model to ../tuning_data/best_vgg_model_beard_3.h5\n",
      "Epoch 10/50\n",
      "22/22 [==============================] - 3s 132ms/step - loss: 0.5622 - acc: 0.6978 - val_loss: 0.6248 - val_acc: 0.6267\n",
      "\n",
      "Epoch 00010: val_acc did not improve from 0.73333\n",
      "Epoch 11/50\n",
      "22/22 [==============================] - 3s 128ms/step - loss: 0.5358 - acc: 0.7243 - val_loss: 0.5320 - val_acc: 0.6533\n",
      "\n",
      "Epoch 00011: val_acc did not improve from 0.73333\n",
      "Epoch 12/50\n",
      "22/22 [==============================] - 3s 127ms/step - loss: 0.5379 - acc: 0.7528 - val_loss: 0.5412 - val_acc: 0.6933\n",
      "\n",
      "Epoch 00012: val_acc did not improve from 0.73333\n",
      "Epoch 13/50\n",
      "22/22 [==============================] - 3s 133ms/step - loss: 0.4810 - acc: 0.7663 - val_loss: 0.5087 - val_acc: 0.7750\n",
      "\n",
      "Epoch 00013: val_acc improved from 0.73333 to 0.77500, saving model to ../tuning_data/best_vgg_model_beard_3.h5\n",
      "Epoch 14/50\n",
      "22/22 [==============================] - 3s 156ms/step - loss: 0.4676 - acc: 0.7812 - val_loss: 0.4429 - val_acc: 0.8133\n",
      "\n",
      "Epoch 00014: val_acc improved from 0.77500 to 0.81333, saving model to ../tuning_data/best_vgg_model_beard_3.h5\n",
      "Epoch 15/50\n",
      "22/22 [==============================] - 3s 130ms/step - loss: 0.4581 - acc: 0.8016 - val_loss: 0.5390 - val_acc: 0.7333\n",
      "\n",
      "Epoch 00015: val_acc did not improve from 0.81333\n",
      "Epoch 16/50\n",
      "22/22 [==============================] - 3s 124ms/step - loss: 0.4483 - acc: 0.7778 - val_loss: 0.4225 - val_acc: 0.8267\n",
      "\n",
      "Epoch 00016: val_acc improved from 0.81333 to 0.82667, saving model to ../tuning_data/best_vgg_model_beard_3.h5\n",
      "Epoch 17/50\n",
      "22/22 [==============================] - 3s 120ms/step - loss: 0.4541 - acc: 0.7898 - val_loss: 0.5781 - val_acc: 0.7200\n",
      "\n",
      "Epoch 00017: val_acc did not improve from 0.82667\n",
      "Epoch 18/50\n",
      "22/22 [==============================] - 3s 136ms/step - loss: 0.4078 - acc: 0.8172 - val_loss: 0.4191 - val_acc: 0.8000\n",
      "\n",
      "Epoch 00018: val_acc did not improve from 0.82667\n",
      "Epoch 19/50\n",
      "22/22 [==============================] - 3s 128ms/step - loss: 0.3745 - acc: 0.8383 - val_loss: 0.4461 - val_acc: 0.8375\n",
      "\n",
      "Epoch 00019: val_acc improved from 0.82667 to 0.83750, saving model to ../tuning_data/best_vgg_model_beard_3.h5\n",
      "Epoch 20/50\n",
      "22/22 [==============================] - 3s 159ms/step - loss: 0.3956 - acc: 0.8257 - val_loss: 0.3917 - val_acc: 0.8267\n",
      "\n",
      "Epoch 00020: val_acc did not improve from 0.83750\n",
      "Epoch 21/50\n",
      "22/22 [==============================] - 3s 118ms/step - loss: 0.3792 - acc: 0.8156 - val_loss: 0.4083 - val_acc: 0.8267\n",
      "\n",
      "Epoch 00021: val_acc did not improve from 0.83750\n",
      "Epoch 22/50\n",
      "22/22 [==============================] - 3s 129ms/step - loss: 0.3555 - acc: 0.8522 - val_loss: 0.4170 - val_acc: 0.7600\n",
      "\n",
      "Epoch 00022: val_acc did not improve from 0.83750\n",
      "Epoch 23/50\n",
      "22/22 [==============================] - 3s 130ms/step - loss: 0.3298 - acc: 0.8538 - val_loss: 0.3847 - val_acc: 0.8533\n",
      "\n",
      "Epoch 00023: val_acc improved from 0.83750 to 0.85333, saving model to ../tuning_data/best_vgg_model_beard_3.h5\n",
      "Epoch 24/50\n",
      "22/22 [==============================] - 3s 121ms/step - loss: 0.3664 - acc: 0.8399 - val_loss: 0.3682 - val_acc: 0.8267\n",
      "\n",
      "Epoch 00024: val_acc did not improve from 0.85333\n",
      "Epoch 25/50\n",
      "22/22 [==============================] - 3s 132ms/step - loss: 0.3112 - acc: 0.8924 - val_loss: 0.3665 - val_acc: 0.8125\n",
      "\n",
      "Epoch 00025: val_acc did not improve from 0.85333\n",
      "Epoch 26/50\n",
      "22/22 [==============================] - 3s 153ms/step - loss: 0.3088 - acc: 0.8636 - val_loss: 0.3093 - val_acc: 0.8533\n",
      "\n",
      "Epoch 00026: val_acc improved from 0.85333 to 0.85333, saving model to ../tuning_data/best_vgg_model_beard_3.h5\n",
      "Epoch 27/50\n",
      "22/22 [==============================] - 3s 135ms/step - loss: 0.2978 - acc: 0.8749 - val_loss: 0.3885 - val_acc: 0.8400\n",
      "\n",
      "Epoch 00027: val_acc did not improve from 0.85333\n",
      "Epoch 28/50\n",
      "22/22 [==============================] - 3s 132ms/step - loss: 0.4128 - acc: 0.8223 - val_loss: 0.4835 - val_acc: 0.8267\n",
      "\n",
      "Epoch 00028: val_acc did not improve from 0.85333\n",
      "Epoch 29/50\n",
      "22/22 [==============================] - 3s 128ms/step - loss: 0.3364 - acc: 0.8440 - val_loss: 0.3347 - val_acc: 0.8400\n",
      "\n",
      "Epoch 00029: val_acc did not improve from 0.85333\n",
      "Epoch 30/50\n",
      "22/22 [==============================] - 3s 124ms/step - loss: 0.2753 - acc: 0.8936 - val_loss: 0.2597 - val_acc: 0.8800\n",
      "\n",
      "Epoch 00030: val_acc improved from 0.85333 to 0.88000, saving model to ../tuning_data/best_vgg_model_beard_3.h5\n",
      "Epoch 31/50\n",
      "22/22 [==============================] - 3s 134ms/step - loss: 0.2629 - acc: 0.8722 - val_loss: 0.3824 - val_acc: 0.8250\n",
      "\n",
      "Epoch 00031: val_acc did not improve from 0.88000\n",
      "Epoch 32/50\n",
      "22/22 [==============================] - 3s 157ms/step - loss: 0.2608 - acc: 0.8851 - val_loss: 0.2531 - val_acc: 0.9200\n",
      "\n",
      "Epoch 00032: val_acc improved from 0.88000 to 0.92000, saving model to ../tuning_data/best_vgg_model_beard_3.h5\n",
      "Epoch 33/50\n",
      "22/22 [==============================] - 3s 122ms/step - loss: 0.2582 - acc: 0.8948 - val_loss: 0.2952 - val_acc: 0.9067\n",
      "\n",
      "Epoch 00033: val_acc did not improve from 0.92000\n",
      "Epoch 34/50\n",
      "22/22 [==============================] - 3s 135ms/step - loss: 0.2387 - acc: 0.9062 - val_loss: 0.3419 - val_acc: 0.8933\n",
      "\n",
      "Epoch 00034: val_acc did not improve from 0.92000\n",
      "Epoch 35/50\n",
      "22/22 [==============================] - 3s 114ms/step - loss: 0.2611 - acc: 0.8948 - val_loss: 0.3004 - val_acc: 0.8533\n",
      "\n",
      "Epoch 00035: val_acc did not improve from 0.92000\n",
      "Epoch 36/50\n",
      "22/22 [==============================] - 3s 126ms/step - loss: 0.2439 - acc: 0.9049 - val_loss: 0.2954 - val_acc: 0.9067\n",
      "\n",
      "Epoch 00036: val_acc did not improve from 0.92000\n",
      "Epoch 37/50\n",
      "22/22 [==============================] - 3s 131ms/step - loss: 0.1967 - acc: 0.9305 - val_loss: 0.2467 - val_acc: 0.9250\n",
      "\n",
      "Epoch 00037: val_acc improved from 0.92000 to 0.92500, saving model to ../tuning_data/best_vgg_model_beard_3.h5\n",
      "Epoch 38/50\n",
      "22/22 [==============================] - 3s 157ms/step - loss: 0.2256 - acc: 0.9119 - val_loss: 0.3346 - val_acc: 0.8667\n",
      "\n",
      "Epoch 00038: val_acc did not improve from 0.92500\n",
      "Epoch 39/50\n",
      "22/22 [==============================] - 3s 130ms/step - loss: 0.1694 - acc: 0.9517 - val_loss: 0.2567 - val_acc: 0.9200\n",
      "\n",
      "Epoch 00039: val_acc did not improve from 0.92500\n",
      "Epoch 40/50\n",
      "22/22 [==============================] - 2s 112ms/step - loss: 0.2311 - acc: 0.9205 - val_loss: 0.2650 - val_acc: 0.9067\n"
     ]
    },
    {
     "name": "stdout",
     "output_type": "stream",
     "text": [
      "\n",
      "Epoch 00040: val_acc did not improve from 0.92500\n",
      "Epoch 41/50\n",
      "22/22 [==============================] - 3s 122ms/step - loss: 0.2136 - acc: 0.9061 - val_loss: 0.3326 - val_acc: 0.8267\n",
      "\n",
      "Epoch 00041: val_acc did not improve from 0.92500\n",
      "Epoch 42/50\n",
      "22/22 [==============================] - 3s 140ms/step - loss: 0.2425 - acc: 0.9119 - val_loss: 0.2461 - val_acc: 0.8933\n",
      "\n",
      "Epoch 00042: val_acc did not improve from 0.92500\n",
      "Epoch 43/50\n",
      "22/22 [==============================] - 3s 124ms/step - loss: 0.2047 - acc: 0.9204 - val_loss: 0.2382 - val_acc: 0.8625\n",
      "\n",
      "Epoch 00043: val_acc did not improve from 0.92500\n",
      "Epoch 44/50\n",
      "22/22 [==============================] - 4s 161ms/step - loss: 0.1997 - acc: 0.9192 - val_loss: 0.2391 - val_acc: 0.9333\n",
      "\n",
      "Epoch 00044: val_acc improved from 0.92500 to 0.93333, saving model to ../tuning_data/best_vgg_model_beard_3.h5\n",
      "Epoch 45/50\n",
      "22/22 [==============================] - 3s 119ms/step - loss: 0.1901 - acc: 0.9232 - val_loss: 0.2542 - val_acc: 0.8800\n",
      "\n",
      "Epoch 00045: val_acc did not improve from 0.93333\n",
      "Epoch 46/50\n",
      "22/22 [==============================] - 3s 121ms/step - loss: 0.1682 - acc: 0.9375 - val_loss: 0.2633 - val_acc: 0.8667\n",
      "\n",
      "Epoch 00046: val_acc did not improve from 0.93333\n",
      "Epoch 47/50\n",
      "22/22 [==============================] - 3s 132ms/step - loss: 0.2222 - acc: 0.9346 - val_loss: 0.2934 - val_acc: 0.8667\n",
      "\n",
      "Epoch 00047: val_acc did not improve from 0.93333\n",
      "Epoch 48/50\n",
      "22/22 [==============================] - 3s 128ms/step - loss: 0.1809 - acc: 0.9289 - val_loss: 0.2497 - val_acc: 0.8933\n",
      "\n",
      "Epoch 00048: val_acc did not improve from 0.93333\n",
      "Epoch 49/50\n",
      "22/22 [==============================] - 3s 133ms/step - loss: 0.1971 - acc: 0.9062 - val_loss: 0.3193 - val_acc: 0.8875\n",
      "\n",
      "Epoch 00049: val_acc did not improve from 0.93333\n",
      "Epoch 50/50\n",
      "22/22 [==============================] - 3s 155ms/step - loss: 0.2143 - acc: 0.9049 - val_loss: 0.3496 - val_acc: 0.8933\n",
      "\n",
      "Epoch 00050: val_acc did not improve from 0.93333\n",
      "Model: \"model_1\"\n",
      "_________________________________________________________________\n",
      "Layer (type)                 Output Shape              Param #   \n",
      "=================================================================\n",
      "input_1 (InputLayer)         (None, 150, 150, 3)       0         \n",
      "_________________________________________________________________\n",
      "block1_conv1 (Conv2D)        (None, 150, 150, 64)      1792      \n",
      "_________________________________________________________________\n",
      "block1_conv2 (Conv2D)        (None, 150, 150, 64)      36928     \n",
      "_________________________________________________________________\n",
      "block1_pool (MaxPooling2D)   (None, 75, 75, 64)        0         \n",
      "_________________________________________________________________\n",
      "block2_conv1 (Conv2D)        (None, 75, 75, 128)       73856     \n",
      "_________________________________________________________________\n",
      "block2_conv2 (Conv2D)        (None, 75, 75, 128)       147584    \n",
      "_________________________________________________________________\n",
      "block2_pool (MaxPooling2D)   (None, 37, 37, 128)       0         \n",
      "_________________________________________________________________\n",
      "block3_conv1 (Conv2D)        (None, 37, 37, 256)       295168    \n",
      "_________________________________________________________________\n",
      "block3_conv2 (Conv2D)        (None, 37, 37, 256)       590080    \n",
      "_________________________________________________________________\n",
      "block3_conv3 (Conv2D)        (None, 37, 37, 256)       590080    \n",
      "_________________________________________________________________\n",
      "block3_pool (MaxPooling2D)   (None, 18, 18, 256)       0         \n",
      "_________________________________________________________________\n",
      "block4_conv1 (Conv2D)        (None, 18, 18, 512)       1180160   \n",
      "_________________________________________________________________\n",
      "block4_conv2 (Conv2D)        (None, 18, 18, 512)       2359808   \n",
      "_________________________________________________________________\n",
      "block4_conv3 (Conv2D)        (None, 18, 18, 512)       2359808   \n",
      "_________________________________________________________________\n",
      "block4_pool (MaxPooling2D)   (None, 9, 9, 512)         0         \n",
      "_________________________________________________________________\n",
      "block5_conv1 (Conv2D)        (None, 9, 9, 512)         2359808   \n",
      "_________________________________________________________________\n",
      "block5_conv2 (Conv2D)        (None, 9, 9, 512)         2359808   \n",
      "_________________________________________________________________\n",
      "block5_conv3 (Conv2D)        (None, 9, 9, 512)         2359808   \n",
      "_________________________________________________________________\n",
      "block5_pool (MaxPooling2D)   (None, 4, 4, 512)         0         \n",
      "_________________________________________________________________\n",
      "sequential_1 (Sequential)    (None, 1)                 2097665   \n",
      "=================================================================\n",
      "Total params: 16,812,353\n",
      "Trainable params: 9,177,089\n",
      "Non-trainable params: 7,635,264\n",
      "_________________________________________________________________\n"
     ]
    }
   ],
   "source": [
    "model_history = fine_tune_model(train_df, test_df,50,16,'beard')"
   ]
  },
  {
   "cell_type": "code",
   "execution_count": 7,
   "metadata": {},
   "outputs": [
    {
     "name": "stdout",
     "output_type": "stream",
     "text": [
      "highest test accuracy: 0.9333333373069763\n",
      "------------------\n",
      "highest train accuracy: 0.9510086455331412\n"
     ]
    }
   ],
   "source": [
    "highest_val_acc, highest_train_acc = max(model_history.history['val_acc']), max(model_history.history['acc'])\n",
    "print(f'highest test accuracy: {highest_val_acc}')\n",
    "print('------------------')\n",
    "print(f'highest train accuracy: {highest_train_acc}')"
   ]
  },
  {
   "cell_type": "code",
   "execution_count": 8,
   "metadata": {},
   "outputs": [
    {
     "name": "stdout",
     "output_type": "stream",
     "text": [
      "lowest test loss: 0.2381880462169647\n",
      "------------------\n",
      "lowest train loss: 0.16903553160191956\n"
     ]
    }
   ],
   "source": [
    "lowest_val_loss, lowest_train_loss = min(model_history.history['val_loss']), min(model_history.history['loss'])\n",
    "print(f'lowest test loss: {lowest_val_loss}')\n",
    "print('------------------')\n",
    "print(f'lowest train loss: {lowest_train_loss}')"
   ]
  },
  {
   "cell_type": "code",
   "execution_count": 9,
   "metadata": {},
   "outputs": [
    {
     "data": {
      "image/png": "[encoded data removed]",
      "text/plain": [
       "<Figure size 432x288 with 1 Axes>"
      ]
     },
     "metadata": {
      "needs_background": "light"
     },
     "output_type": "display_data"
    }
   ],
   "source": [
    "plt.plot(model_history.history['val_acc'], color = 'red', label = 'test')\n",
    "plt.plot(model_history.history['acc'], color = 'blue', label = 'train')\n",
    "plt.title('accuracy')\n",
    "plt.ylabel('accuracy')\n",
    "plt.legend()\n",
    "plt.show()"
   ]
  },
  {
   "cell_type": "code",
   "execution_count": 10,
   "metadata": {},
   "outputs": [
    {
     "data": {
      "image/png": "[encoded data removed]",
      "text/plain": [
       "<Figure size 432x288 with 1 Axes>"
      ]
     },
     "metadata": {
      "needs_background": "light"
     },
     "output_type": "display_data"
    }
   ],
   "source": [
    "plt.plot(model_history.history['val_loss'], color = 'red', label = 'test')\n",
    "plt.plot(model_history.history['loss'], color = 'blue', label = 'train')\n",
    "plt.title('loss')\n",
    "plt.ylabel('loss')\n",
    "plt.legend()\n",
    "plt.show()"
   ]
  },
  {
   "cell_type": "markdown",
   "metadata": {},
   "source": [
    "### Save model "
   ]
  },
  {
   "cell_type": "code",
   "execution_count": 14,
   "metadata": {},
   "outputs": [],
   "source": [
    "# save model artchitecture \n",
    "beard_model = model_history.model\n",
    "beard_model_json = beard_model.to_json()"
   ]
  },
  {
   "cell_type": "code",
   "execution_count": 15,
   "metadata": {},
   "outputs": [],
   "source": [
    "# serialize model to JSON\n",
    "with open(\"beard_model.json\", \"w\") as json_file:\n",
    "    json_file.write(beard_model_json)"
   ]
  },
  {
   "cell_type": "code",
   "execution_count": 5,
   "metadata": {},
   "outputs": [
    {
     "name": "stderr",
     "output_type": "stream",
     "text": [
      "W0829 21:20:55.576644 139978373949248 deprecation_wrapper.py:119] From /home/mindy/anaconda3/lib/python3.7/site-packages/keras/backend/tensorflow_backend.py:541: The name tf.placeholder is deprecated. Please use tf.compat.v1.placeholder instead.\n",
      "\n",
      "W0829 21:20:55.586904 139978373949248 deprecation_wrapper.py:119] From /home/mindy/anaconda3/lib/python3.7/site-packages/keras/backend/tensorflow_backend.py:4432: The name tf.random_uniform is deprecated. Please use tf.random.uniform instead.\n",
      "\n",
      "W0829 21:20:55.593295 139978373949248 deprecation_wrapper.py:119] From /home/mindy/anaconda3/lib/python3.7/site-packages/keras/backend/tensorflow_backend.py:66: The name tf.get_default_graph is deprecated. Please use tf.compat.v1.get_default_graph instead.\n",
      "\n",
      "W0829 21:20:55.596627 139978373949248 deprecation.py:506] From /home/mindy/anaconda3/lib/python3.7/site-packages/keras/backend/tensorflow_backend.py:3733: calling dropout (from tensorflow.python.ops.nn_ops) with keep_prob is deprecated and will be removed in a future version.\n",
      "Instructions for updating:\n",
      "Please use `rate` instead of `keep_prob`. Rate should be set to `rate = 1 - keep_prob`.\n",
      "W0829 21:20:55.620089 139978373949248 deprecation_wrapper.py:119] From /home/mindy/anaconda3/lib/python3.7/site-packages/keras/backend/tensorflow_backend.py:4267: The name tf.nn.max_pool is deprecated. Please use tf.nn.max_pool2d instead.\n",
      "\n"
     ]
    }
   ],
   "source": [
    "# load json and create model\n",
    "json_file = open('../tuning_data/vgg_model.json', 'r')\n",
    "loaded_model_json = json_file.read()\n",
    "json_file.close()\n",
    "loaded_model_beard = model_from_json(loaded_model_json)"
   ]
  },
  {
   "cell_type": "code",
   "execution_count": 6,
   "metadata": {},
   "outputs": [],
   "source": [
    "# load model weight \n",
    "loaded_model_beard.load_weights('../tuning_data/best_vgg_model_beard.h5')"
   ]
  },
  {
   "cell_type": "code",
   "execution_count": 7,
   "metadata": {},
   "outputs": [
    {
     "name": "stdout",
     "output_type": "stream",
     "text": [
      "Found 91 validated image filenames belonging to 2 classes.\n"
     ]
    }
   ],
   "source": [
    "test_gen = ImageDataGenerator(rescale=1./255)\n",
    "test_generator =  test_gen.flow_from_dataframe(\n",
    "    dataframe=test_df,\n",
    "    directory='../data/pics',\n",
    "    x_col='pic_id',\n",
    "    y_col='beard',\n",
    "    batch_size=16,\n",
    "    target_size=(150,150),\n",
    "    class_mode = 'binary')"
   ]
  },
  {
   "cell_type": "code",
   "execution_count": 8,
   "metadata": {},
   "outputs": [
    {
     "name": "stderr",
     "output_type": "stream",
     "text": [
      "W0829 21:21:04.399917 139978373949248 deprecation_wrapper.py:119] From /home/mindy/anaconda3/lib/python3.7/site-packages/keras/optimizers.py:793: The name tf.train.Optimizer is deprecated. Please use tf.compat.v1.train.Optimizer instead.\n",
      "\n",
      "W0829 21:21:04.404289 139978373949248 deprecation.py:323] From /home/mindy/anaconda3/lib/python3.7/site-packages/tensorflow/python/ops/nn_impl.py:180: add_dispatch_support.<locals>.wrapper (from tensorflow.python.ops.array_ops) is deprecated and will be removed in a future version.\n",
      "Instructions for updating:\n",
      "Use tf.where in 2.0, which has the same broadcast rule as np.where\n"
     ]
    }
   ],
   "source": [
    "loaded_model_beard.compile(loss='binary_crossentropy',\n",
    "             optimizer=optimizers.SGD(lr=1e-4, momentum=0.9),\n",
    "             metrics=['accuracy'])"
   ]
  },
  {
   "cell_type": "code",
   "execution_count": 9,
   "metadata": {},
   "outputs": [
    {
     "data": {
      "text/plain": [
       "[0.16778260303640757, 0.945054945054945]"
      ]
     },
     "execution_count": 9,
     "metadata": {},
     "output_type": "execute_result"
    }
   ],
   "source": [
    "loaded_model_beard.evaluate_generator(test_generator)"
   ]
  },
  {
   "cell_type": "code",
   "execution_count": 9,
   "metadata": {},
   "outputs": [],
   "source": [
    "feature, label = next(test_generator)"
   ]
  },
  {
   "cell_type": "code",
   "execution_count": 22,
   "metadata": {},
   "outputs": [
    {
     "data": {
      "text/plain": [
       "0.0"
      ]
     },
     "execution_count": 22,
     "metadata": {},
     "output_type": "execute_result"
    }
   ],
   "source": [
    "label[1]"
   ]
  },
  {
   "cell_type": "code",
   "execution_count": 23,
   "metadata": {},
   "outputs": [
    {
     "data": {
      "image/png": "[encoded data removed]",
      "text/plain": [
       "<Figure size 432x288 with 1 Axes>"
      ]
     },
     "metadata": {
      "needs_background": "light"
     },
     "output_type": "display_data"
    }
   ],
   "source": [
    "plt.imshow(feature[1])\n",
    "plt.show()"
   ]
  },
  {
   "cell_type": "code",
   "execution_count": 24,
   "metadata": {},
   "outputs": [
    {
     "data": {
      "text/plain": [
       "array([[0.]], dtype=float32)"
      ]
     },
     "execution_count": 24,
     "metadata": {},
     "output_type": "execute_result"
    }
   ],
   "source": [
    "# save the model\n",
    "np.around(loaded_model_beard.predict(np.expand_dims(feature[1], axis=0)))"
   ]
  },
  {
   "cell_type": "code",
   "execution_count": null,
   "metadata": {},
   "outputs": [],
   "source": []
  }
 ],
 "metadata": {
  "kernelspec": {
   "display_name": "Python 3",
   "language": "python",
   "name": "python3"
  },
  "language_info": {
   "codemirror_mode": {
    "name": "ipython",
    "version": 3
   },
   "file_extension": ".py",
   "mimetype": "text/x-python",
   "name": "python",
   "nbconvert_exporter": "python",
   "pygments_lexer": "ipython3",
   "version": "3.7.3"
  }
 },
 "nbformat": 4,
 "nbformat_minor": 2
}
