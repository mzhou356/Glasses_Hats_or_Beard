{
 "cells": [
  {
   "cell_type": "markdown",
   "metadata": {},
   "source": [
    "## Transfer Learning Tuning_beard:\n",
    "  * model parameter and other information can be found below:\n",
    "     * [source](https://blog.keras.io/building-powerful-image-classification-models-using-very-little-data.html)\n",
    "     \n",
    "  * base_model: use vgg16 and freeze at bottleneck layer (stop right before flatten layer) \n",
    "  * top_model: tune dense layers (parameters are inspired by source)\n",
    "     * batch_size 16 seems to work best for small data set \n",
    "\n",
    "##### warnings: make sure to restart kernel in between running different model tuning \n",
    "  \n",
    "---\n",
    "#### This cell is required in order to use GPU for running the model "
   ]
  },
  {
   "cell_type": "code",
   "execution_count": 2,
   "metadata": {},
   "outputs": [
    {
     "name": "stderr",
     "output_type": "stream",
     "text": [
      "WARNING: Logging before flag parsing goes to stderr.\n",
      "W0829 13:30:32.548914 140667119040320 deprecation_wrapper.py:119] From /home/mindy/anaconda3/lib/python3.7/site-packages/keras/backend/tensorflow_backend.py:190: The name tf.get_default_session is deprecated. Please use tf.compat.v1.get_default_session instead.\n",
      "\n",
      "W0829 13:30:32.549813 140667119040320 deprecation_wrapper.py:119] From /home/mindy/anaconda3/lib/python3.7/site-packages/keras/backend/tensorflow_backend.py:207: The name tf.global_variables is deprecated. Please use tf.compat.v1.global_variables instead.\n",
      "\n"
     ]
    }
   ],
   "source": [
    "import warnings\n",
    "warnings.filterwarnings('ignore')\n",
    "import tensorflow as tf\n",
    "import keras\n",
    "from keras.backend.tensorflow_backend import set_session\n",
    "config = tf.ConfigProto()\n",
    "config.gpu_options.allow_growth = True  # dynamically grow the memory used on the GPU\n",
    "config.log_device_placement = True  # to log device placement (on which device the operation ran)\n",
    "                                    # (nothing gets printed in Jupyter, only if you run it standalone)\n",
    "sess = tf.Session(config=config)\n",
    "set_session(sess)  # set this TensorFlow session as the default session for Keras\n",
    "keras.backend.get_session().run(tf.global_variables_initializer())  "
   ]
  },
  {
   "cell_type": "markdown",
   "metadata": {},
   "source": [
    "---\n",
    "#### Import necessary libraries"
   ]
  },
  {
   "cell_type": "code",
   "execution_count": 1,
   "metadata": {},
   "outputs": [
    {
     "name": "stderr",
     "output_type": "stream",
     "text": [
      "Using TensorFlow backend.\n"
     ]
    }
   ],
   "source": [
    "import pandas as pd\n",
    "import numpy as np\n",
    "import matplotlib.pyplot as plt\n",
    "%matplotlib inline\n",
    "from keras_preprocessing.image import ImageDataGenerator\n",
    "from keras.models import Sequential, Model\n",
    "from keras.layers import Dropout, Flatten, Dense\n",
    "from keras.applications.vgg16 import VGG16\n",
    "from keras import optimizers\n",
    "from keras.models import model_from_json\n",
    "from keras.callbacks import ModelCheckpoint"
   ]
  },
  {
   "cell_type": "markdown",
   "metadata": {},
   "source": [
    "---\n",
    "#### Import train_df and test_df"
   ]
  },
  {
   "cell_type": "code",
   "execution_count": 3,
   "metadata": {},
   "outputs": [],
   "source": [
    "train_df = pd.read_pickle('../pickle_files/train_df_beard.pkl')\n",
    "test_df = pd.read_pickle('../pickle_files/test_df_beard.pkl')"
   ]
  },
  {
   "cell_type": "markdown",
   "metadata": {},
   "source": [
    "#### Get bottleneck features to tune top models"
   ]
  },
  {
   "cell_type": "code",
   "execution_count": 4,
   "metadata": {},
   "outputs": [],
   "source": [
    "def save_bottleneck_features(train_df, test_df, label, batch_size):\n",
    "    '''\n",
    "    inputs:\n",
    "    train_df, test_df: train and test dataframes saved in pickle_files folder\n",
    "    label: a string, eyewear, hat, or beard\n",
    "    batch_size: process images in batches\n",
    "    outputs:\n",
    "    saves bottleneck features inside folder tuning_data as npy file\n",
    "    '''\n",
    "    # intialize the vgg16 model \n",
    "    # make sure not to train the top layers \n",
    "    base_model = VGG16(weights = 'imagenet', include_top = False)\n",
    "    # create train_generator and test_generator to get bottleneck inputs for train and test df \n",
    "    datagen = ImageDataGenerator(\n",
    "        rescale=1./255,\n",
    "        rotation_range=40,\n",
    "        shear_range=0.2,\n",
    "        zoom_range=0.2,\n",
    "        horizontal_flip=True)\n",
    "    # make sure shuffle is False so we know the label follows the sequence of the dataframe \n",
    "    # so we can tune top_model \n",
    "    train_generator = datagen.flow_from_dataframe(\n",
    "    dataframe=train_df,\n",
    "    directory='../data/pics',\n",
    "    x_col='pic_id',\n",
    "    y_col=label,\n",
    "    batch_size=batch_size,\n",
    "    shuffle = False,\n",
    "    target_size=(150,150),\n",
    "    class_mode = None)\n",
    "    # get features saved as .npy in tunign_data folder \n",
    "    bottleneck_features_train = base_model.predict_generator(\n",
    "        train_generator, train_df.shape[0]//batch_size)\n",
    "    np.save(open('../tuning_data/bottleneck_features_train_beard.npy','wb'),\n",
    "           bottleneck_features_train)\n",
    "    \n",
    "    test_generator = datagen.flow_from_dataframe(\n",
    "    dataframe=test_df,\n",
    "    directory='../data/pics',\n",
    "    x_col='pic_id',\n",
    "    y_col=label,\n",
    "    batch_size=batch_size,\n",
    "    shuffle = False,\n",
    "    target_size=(150,150),\n",
    "    class_mode = None)\n",
    "    bottleneck_features_test = base_model.predict_generator(\n",
    "        test_generator, test_df.shape[0]//batch_size)\n",
    "    np.save(open('../tuning_data/bottleneck_features_test_beard.npy','wb'),\n",
    "           bottleneck_features_test)"
   ]
  },
  {
   "cell_type": "markdown",
   "metadata": {},
   "source": [
    "#### Save bottleneck_features"
   ]
  },
  {
   "cell_type": "code",
   "execution_count": 5,
   "metadata": {
    "scrolled": true
   },
   "outputs": [
    {
     "name": "stderr",
     "output_type": "stream",
     "text": [
      "W0829 13:31:41.025565 140667119040320 deprecation_wrapper.py:119] From /home/mindy/anaconda3/lib/python3.7/site-packages/keras/backend/tensorflow_backend.py:66: The name tf.get_default_graph is deprecated. Please use tf.compat.v1.get_default_graph instead.\n",
      "\n",
      "W0829 13:31:41.026250 140667119040320 deprecation_wrapper.py:119] From /home/mindy/anaconda3/lib/python3.7/site-packages/keras/backend/tensorflow_backend.py:541: The name tf.placeholder is deprecated. Please use tf.compat.v1.placeholder instead.\n",
      "\n",
      "W0829 13:31:41.028058 140667119040320 deprecation_wrapper.py:119] From /home/mindy/anaconda3/lib/python3.7/site-packages/keras/backend/tensorflow_backend.py:4432: The name tf.random_uniform is deprecated. Please use tf.random.uniform instead.\n",
      "\n",
      "W0829 13:31:41.043291 140667119040320 deprecation_wrapper.py:119] From /home/mindy/anaconda3/lib/python3.7/site-packages/keras/backend/tensorflow_backend.py:4267: The name tf.nn.max_pool is deprecated. Please use tf.nn.max_pool2d instead.\n",
      "\n"
     ]
    },
    {
     "name": "stdout",
     "output_type": "stream",
     "text": [
      "Found 363 validated image filenames.\n",
      "Found 91 validated image filenames.\n"
     ]
    }
   ],
   "source": [
    "save_bottleneck_features(train_df,test_df,'beard',16)"
   ]
  },
  {
   "cell_type": "markdown",
   "metadata": {},
   "source": [
    "### Quick tuning of top models "
   ]
  },
  {
   "cell_type": "code",
   "execution_count": 6,
   "metadata": {},
   "outputs": [],
   "source": [
    "def train_top_model(train_df, test_df, epoch, batch_size, label):\n",
    "    '''\n",
    "    inputs:\n",
    "    train_df, test_df: dataframes saved in pickle_files to generate train and test labels \n",
    "    epoch: num of epochs in fit \n",
    "    batch_size: same as image generator batch size \n",
    "    label: a string, eyewear, hat, or beard\n",
    "    output:\n",
    "    saves model weights in a folder \n",
    "    '''\n",
    "    train_data = np.load(open('../tuning_data/bottleneck_features_train_beard.npy','rb'))\n",
    "    # make sure train_data and train_label have same num of samples\n",
    "    train_label = np.array(train_df[label].map({'not_'+label:0, label:1}))[:-(train_df.shape[0]%batch_size)]\n",
    "    \n",
    "    test_data = np.load(open('../tuning_data/bottleneck_features_test_beard.npy','rb'))\n",
    "    test_label = np.array(test_df[label].map({'not_'+label:0, label:1}))[:-(test_df.shape[0]%batch_size)]\n",
    "    \n",
    "    # build top model\n",
    "    model = Sequential()\n",
    "    model.add(Flatten(input_shape=train_data.shape[1:]))\n",
    "    model.add(Dense(256, activation='relu'))\n",
    "    model.add(Dropout(0.5))\n",
    "    model.add(Dense(1, activation='sigmoid'))\n",
    "    \n",
    "    model.compile(optimizer='rmsprop',\n",
    "                 loss='binary_crossentropy',\n",
    "                 metrics=['accuracy'])\n",
    "    \n",
    "     # checkpoint for best weights \n",
    "    filepath=\"../tuning_data/best_bottleneck_vgg_model_beard.h5\"\n",
    "    checkpoint = ModelCheckpoint(filepath, monitor='val_acc', verbose=1, save_best_only=True, mode='max')\n",
    "    callbacks_list = [checkpoint]\n",
    "    \n",
    "    model.fit(train_data, train_label,\n",
    "             epochs=epoch,\n",
    "             batch_size=batch_size,\n",
    "             validation_data=(test_data,test_label),\n",
    "             callbacks=callbacks_list)\n",
    "    del model\n",
    "    keras.backend.clear_session()"
   ]
  },
  {
   "cell_type": "markdown",
   "metadata": {},
   "source": [
    "#### run train_top_model and save results in tuning_data"
   ]
  },
  {
   "cell_type": "code",
   "execution_count": 7,
   "metadata": {
    "scrolled": false
   },
   "outputs": [
    {
     "name": "stderr",
     "output_type": "stream",
     "text": [
      "W0829 13:33:32.124638 140667119040320 deprecation.py:506] From /home/mindy/anaconda3/lib/python3.7/site-packages/keras/backend/tensorflow_backend.py:3733: calling dropout (from tensorflow.python.ops.nn_ops) with keep_prob is deprecated and will be removed in a future version.\n",
      "Instructions for updating:\n",
      "Please use `rate` instead of `keep_prob`. Rate should be set to `rate = 1 - keep_prob`.\n",
      "W0829 13:33:32.136728 140667119040320 deprecation_wrapper.py:119] From /home/mindy/anaconda3/lib/python3.7/site-packages/keras/optimizers.py:793: The name tf.train.Optimizer is deprecated. Please use tf.compat.v1.train.Optimizer instead.\n",
      "\n",
      "W0829 13:33:32.147027 140667119040320 deprecation.py:323] From /home/mindy/anaconda3/lib/python3.7/site-packages/tensorflow/python/ops/nn_impl.py:180: add_dispatch_support.<locals>.wrapper (from tensorflow.python.ops.array_ops) is deprecated and will be removed in a future version.\n",
      "Instructions for updating:\n",
      "Use tf.where in 2.0, which has the same broadcast rule as np.where\n"
     ]
    },
    {
     "name": "stdout",
     "output_type": "stream",
     "text": [
      "Train on 352 samples, validate on 80 samples\n",
      "Epoch 1/50\n",
      "352/352 [==============================] - 0s 1ms/step - loss: 2.2591 - acc: 0.5625 - val_loss: 0.5306 - val_acc: 0.8000\n",
      "\n",
      "Epoch 00001: val_acc improved from -inf to 0.80000, saving model to ../tuning_data/best_bottleneck_vgg_model_beard.h5\n",
      "Epoch 2/50\n",
      "352/352 [==============================] - 0s 191us/step - loss: 0.6313 - acc: 0.7699 - val_loss: 1.0175 - val_acc: 0.5875\n",
      "\n",
      "Epoch 00002: val_acc did not improve from 0.80000\n",
      "Epoch 3/50\n",
      "352/352 [==============================] - 0s 189us/step - loss: 0.3825 - acc: 0.8267 - val_loss: 0.6781 - val_acc: 0.7750\n",
      "\n",
      "Epoch 00003: val_acc did not improve from 0.80000\n",
      "Epoch 4/50\n",
      "352/352 [==============================] - 0s 193us/step - loss: 0.5254 - acc: 0.8125 - val_loss: 0.6865 - val_acc: 0.7750\n",
      "\n",
      "Epoch 00004: val_acc did not improve from 0.80000\n",
      "Epoch 5/50\n",
      "352/352 [==============================] - 0s 194us/step - loss: 0.3343 - acc: 0.8750 - val_loss: 0.7847 - val_acc: 0.7000\n",
      "\n",
      "Epoch 00005: val_acc did not improve from 0.80000\n",
      "Epoch 6/50\n",
      "352/352 [==============================] - 0s 189us/step - loss: 0.2911 - acc: 0.8835 - val_loss: 0.3125 - val_acc: 0.8750\n",
      "\n",
      "Epoch 00006: val_acc improved from 0.80000 to 0.87500, saving model to ../tuning_data/best_bottleneck_vgg_model_beard.h5\n",
      "Epoch 7/50\n",
      "352/352 [==============================] - 0s 190us/step - loss: 0.3289 - acc: 0.8892 - val_loss: 0.3081 - val_acc: 0.8500\n",
      "\n",
      "Epoch 00007: val_acc did not improve from 0.87500\n",
      "Epoch 8/50\n",
      "352/352 [==============================] - 0s 198us/step - loss: 0.0929 - acc: 0.9631 - val_loss: 0.7980 - val_acc: 0.8000\n",
      "\n",
      "Epoch 00008: val_acc did not improve from 0.87500\n",
      "Epoch 9/50\n",
      "352/352 [==============================] - 0s 195us/step - loss: 0.2171 - acc: 0.9176 - val_loss: 0.4619 - val_acc: 0.8500\n",
      "\n",
      "Epoch 00009: val_acc did not improve from 0.87500\n",
      "Epoch 10/50\n",
      "352/352 [==============================] - 0s 205us/step - loss: 0.0738 - acc: 0.9744 - val_loss: 0.6214 - val_acc: 0.8250\n",
      "\n",
      "Epoch 00010: val_acc did not improve from 0.87500\n",
      "Epoch 11/50\n",
      "352/352 [==============================] - 0s 203us/step - loss: 0.1436 - acc: 0.9290 - val_loss: 0.4095 - val_acc: 0.9000\n",
      "\n",
      "Epoch 00011: val_acc improved from 0.87500 to 0.90000, saving model to ../tuning_data/best_bottleneck_vgg_model_beard.h5\n",
      "Epoch 12/50\n",
      "352/352 [==============================] - 0s 211us/step - loss: 0.1312 - acc: 0.9602 - val_loss: 1.0237 - val_acc: 0.7625\n",
      "\n",
      "Epoch 00012: val_acc did not improve from 0.90000\n",
      "Epoch 13/50\n",
      "352/352 [==============================] - 0s 204us/step - loss: 0.0499 - acc: 0.9830 - val_loss: 1.4259 - val_acc: 0.7125\n",
      "\n",
      "Epoch 00013: val_acc did not improve from 0.90000\n",
      "Epoch 14/50\n",
      "352/352 [==============================] - 0s 189us/step - loss: 0.0214 - acc: 0.9943 - val_loss: 0.4820 - val_acc: 0.8875\n",
      "\n",
      "Epoch 00014: val_acc did not improve from 0.90000\n",
      "Epoch 15/50\n",
      "352/352 [==============================] - 0s 191us/step - loss: 0.1409 - acc: 0.9517 - val_loss: 0.4612 - val_acc: 0.8500\n",
      "\n",
      "Epoch 00015: val_acc did not improve from 0.90000\n",
      "Epoch 16/50\n",
      "352/352 [==============================] - 0s 189us/step - loss: 0.0761 - acc: 0.9744 - val_loss: 0.4405 - val_acc: 0.8750\n",
      "\n",
      "Epoch 00016: val_acc did not improve from 0.90000\n",
      "Epoch 17/50\n",
      "352/352 [==============================] - 0s 186us/step - loss: 0.0074 - acc: 1.0000 - val_loss: 0.4230 - val_acc: 0.8625\n",
      "\n",
      "Epoch 00017: val_acc did not improve from 0.90000\n",
      "Epoch 18/50\n",
      "352/352 [==============================] - 0s 183us/step - loss: 0.1429 - acc: 0.9716 - val_loss: 0.6044 - val_acc: 0.8875\n",
      "\n",
      "Epoch 00018: val_acc did not improve from 0.90000\n",
      "Epoch 19/50\n",
      "352/352 [==============================] - 0s 196us/step - loss: 0.0168 - acc: 0.9943 - val_loss: 0.5003 - val_acc: 0.9000\n",
      "\n",
      "Epoch 00019: val_acc did not improve from 0.90000\n",
      "Epoch 20/50\n",
      "352/352 [==============================] - 0s 189us/step - loss: 0.0072 - acc: 1.0000 - val_loss: 0.6728 - val_acc: 0.8750\n",
      "\n",
      "Epoch 00020: val_acc did not improve from 0.90000\n",
      "Epoch 21/50\n",
      "352/352 [==============================] - 0s 197us/step - loss: 0.0027 - acc: 1.0000 - val_loss: 0.9096 - val_acc: 0.8375\n",
      "\n",
      "Epoch 00021: val_acc did not improve from 0.90000\n",
      "Epoch 22/50\n",
      "352/352 [==============================] - 0s 195us/step - loss: 0.0956 - acc: 0.9631 - val_loss: 0.6442 - val_acc: 0.8875\n",
      "\n",
      "Epoch 00022: val_acc did not improve from 0.90000\n",
      "Epoch 23/50\n",
      "352/352 [==============================] - 0s 191us/step - loss: 0.0066 - acc: 1.0000 - val_loss: 0.7986 - val_acc: 0.8875\n",
      "\n",
      "Epoch 00023: val_acc did not improve from 0.90000\n",
      "Epoch 24/50\n",
      "352/352 [==============================] - 0s 189us/step - loss: 0.0146 - acc: 0.9943 - val_loss: 0.6948 - val_acc: 0.8375\n",
      "\n",
      "Epoch 00024: val_acc did not improve from 0.90000\n",
      "Epoch 25/50\n",
      "352/352 [==============================] - 0s 189us/step - loss: 0.0233 - acc: 0.9943 - val_loss: 1.3821 - val_acc: 0.7750\n",
      "\n",
      "Epoch 00025: val_acc did not improve from 0.90000\n",
      "Epoch 26/50\n",
      "352/352 [==============================] - 0s 185us/step - loss: 0.0120 - acc: 0.9943 - val_loss: 0.8244 - val_acc: 0.8875\n",
      "\n",
      "Epoch 00026: val_acc did not improve from 0.90000\n",
      "Epoch 27/50\n",
      "352/352 [==============================] - 0s 188us/step - loss: 0.0132 - acc: 0.9915 - val_loss: 0.6683 - val_acc: 0.8750\n",
      "\n",
      "Epoch 00027: val_acc did not improve from 0.90000\n",
      "Epoch 28/50\n",
      "352/352 [==============================] - 0s 189us/step - loss: 0.0601 - acc: 0.9744 - val_loss: 0.7610 - val_acc: 0.8750\n",
      "\n",
      "Epoch 00028: val_acc did not improve from 0.90000\n",
      "Epoch 29/50\n",
      "352/352 [==============================] - 0s 195us/step - loss: 0.0132 - acc: 0.9943 - val_loss: 0.9476 - val_acc: 0.8875\n",
      "\n",
      "Epoch 00029: val_acc did not improve from 0.90000\n",
      "Epoch 30/50\n",
      "352/352 [==============================] - 0s 185us/step - loss: 5.9567e-04 - acc: 1.0000 - val_loss: 0.8663 - val_acc: 0.8875\n",
      "\n",
      "Epoch 00030: val_acc did not improve from 0.90000\n",
      "Epoch 31/50\n",
      "352/352 [==============================] - 0s 186us/step - loss: 2.0097e-04 - acc: 1.0000 - val_loss: 0.9479 - val_acc: 0.8750\n",
      "\n",
      "Epoch 00031: val_acc did not improve from 0.90000\n",
      "Epoch 32/50\n",
      "352/352 [==============================] - 0s 188us/step - loss: 0.0758 - acc: 0.9801 - val_loss: 0.9348 - val_acc: 0.8625\n",
      "\n",
      "Epoch 00032: val_acc did not improve from 0.90000\n",
      "Epoch 33/50\n",
      "352/352 [==============================] - 0s 185us/step - loss: 0.0145 - acc: 0.9972 - val_loss: 0.7466 - val_acc: 0.8500\n",
      "\n",
      "Epoch 00033: val_acc did not improve from 0.90000\n",
      "Epoch 34/50\n",
      "352/352 [==============================] - 0s 196us/step - loss: 0.0064 - acc: 0.9972 - val_loss: 0.8058 - val_acc: 0.8875\n",
      "\n",
      "Epoch 00034: val_acc did not improve from 0.90000\n",
      "Epoch 35/50\n",
      "352/352 [==============================] - 0s 192us/step - loss: 0.0462 - acc: 0.9858 - val_loss: 0.8157 - val_acc: 0.8875\n",
      "\n",
      "Epoch 00035: val_acc did not improve from 0.90000\n",
      "Epoch 36/50\n",
      "352/352 [==============================] - 0s 188us/step - loss: 3.3269e-04 - acc: 1.0000 - val_loss: 0.8305 - val_acc: 0.8875\n",
      "\n",
      "Epoch 00036: val_acc did not improve from 0.90000\n",
      "Epoch 37/50\n",
      "352/352 [==============================] - 0s 196us/step - loss: 6.8131e-04 - acc: 1.0000 - val_loss: 1.1436 - val_acc: 0.8750\n",
      "\n",
      "Epoch 00037: val_acc did not improve from 0.90000\n",
      "Epoch 38/50\n",
      "352/352 [==============================] - 0s 192us/step - loss: 0.0345 - acc: 0.9915 - val_loss: 0.7251 - val_acc: 0.9000\n",
      "\n",
      "Epoch 00038: val_acc did not improve from 0.90000\n",
      "Epoch 39/50\n",
      "352/352 [==============================] - 0s 187us/step - loss: 0.0013 - acc: 1.0000 - val_loss: 0.9645 - val_acc: 0.9125\n",
      "\n",
      "Epoch 00039: val_acc improved from 0.90000 to 0.91250, saving model to ../tuning_data/best_bottleneck_vgg_model_beard.h5\n",
      "Epoch 40/50\n",
      "352/352 [==============================] - 0s 185us/step - loss: 4.7484e-04 - acc: 1.0000 - val_loss: 0.7473 - val_acc: 0.8750\n",
      "\n",
      "Epoch 00040: val_acc did not improve from 0.91250\n",
      "Epoch 41/50\n",
      "352/352 [==============================] - 0s 186us/step - loss: 0.0140 - acc: 0.9915 - val_loss: 0.7666 - val_acc: 0.8875\n",
      "\n",
      "Epoch 00041: val_acc did not improve from 0.91250\n",
      "Epoch 42/50\n",
      "352/352 [==============================] - 0s 187us/step - loss: 0.0047 - acc: 0.9972 - val_loss: 0.7681 - val_acc: 0.8875\n",
      "\n",
      "Epoch 00042: val_acc did not improve from 0.91250\n",
      "Epoch 43/50\n"
     ]
    },
    {
     "name": "stdout",
     "output_type": "stream",
     "text": [
      "352/352 [==============================] - 0s 186us/step - loss: 6.2418e-04 - acc: 1.0000 - val_loss: 0.8473 - val_acc: 0.8875\n",
      "\n",
      "Epoch 00043: val_acc did not improve from 0.91250\n",
      "Epoch 44/50\n",
      "352/352 [==============================] - 0s 194us/step - loss: 0.0013 - acc: 1.0000 - val_loss: 1.1180 - val_acc: 0.9125\n",
      "\n",
      "Epoch 00044: val_acc did not improve from 0.91250\n",
      "Epoch 45/50\n",
      "352/352 [==============================] - 0s 191us/step - loss: 1.3537e-04 - acc: 1.0000 - val_loss: 1.1606 - val_acc: 0.9125\n",
      "\n",
      "Epoch 00045: val_acc did not improve from 0.91250\n",
      "Epoch 46/50\n",
      "352/352 [==============================] - 0s 189us/step - loss: 5.5047e-04 - acc: 1.0000 - val_loss: 0.9638 - val_acc: 0.8875\n",
      "\n",
      "Epoch 00046: val_acc did not improve from 0.91250\n",
      "Epoch 47/50\n",
      "352/352 [==============================] - 0s 189us/step - loss: 0.0224 - acc: 0.9943 - val_loss: 0.9294 - val_acc: 0.8875\n",
      "\n",
      "Epoch 00047: val_acc did not improve from 0.91250\n",
      "Epoch 48/50\n",
      "352/352 [==============================] - 0s 193us/step - loss: 0.0119 - acc: 0.9972 - val_loss: 0.8750 - val_acc: 0.8875\n",
      "\n",
      "Epoch 00048: val_acc did not improve from 0.91250\n",
      "Epoch 49/50\n",
      "352/352 [==============================] - 0s 199us/step - loss: 8.2390e-05 - acc: 1.0000 - val_loss: 0.9607 - val_acc: 0.9000\n",
      "\n",
      "Epoch 00049: val_acc did not improve from 0.91250\n",
      "Epoch 50/50\n",
      "352/352 [==============================] - 0s 192us/step - loss: 0.0046 - acc: 1.0000 - val_loss: 0.9594 - val_acc: 0.8875\n",
      "\n",
      "Epoch 00050: val_acc did not improve from 0.91250\n"
     ]
    }
   ],
   "source": [
    "train_top_model(train_df, test_df, 50, 16, 'beard')"
   ]
  },
  {
   "cell_type": "markdown",
   "metadata": {},
   "source": [
    "### Fine Tune Top Model to improve accuracy"
   ]
  },
  {
   "cell_type": "code",
   "execution_count": 8,
   "metadata": {},
   "outputs": [],
   "source": [
    "def fine_tune_model(train_df, test_df,epoch, batch_size,label, print_model = True):\n",
    "    # build VGG16 model and freeze top layers\n",
    "    # input_shape: width, height, RGB (from image generator)\n",
    "    model_vgg = VGG16(weights='imagenet',include_top=False, input_shape=(150,150,3))\n",
    "    # build top model\n",
    "    top_model = Sequential()\n",
    "    top_model.add(Flatten(input_shape=model_vgg.output_shape[1:]))\n",
    "    top_model.add(Dense(256,activation='relu'))\n",
    "    top_model.add(Dropout(0.5))\n",
    "    top_model.add(Dense(1, activation='sigmoid'))\n",
    "    \n",
    "    # load saved weights to fine tune parameters \n",
    "    top_model.load_weights('../tuning_data/best_bottleneck_vgg_model_beard.h5')\n",
    "    # add top model to model\n",
    "    model = Model(inputs=model_vgg.input, outputs=top_model(model_vgg.output))\n",
    "    # we will tune last 5 layers of the model: block5 and fully connected layer \n",
    "    for layer in model.layers[:15]:\n",
    "        layer.trainable = False\n",
    "    # we can tune the parameters for lr and momentum later to get better results\n",
    "    model.compile(loss='binary_crossentropy',\n",
    "             optimizer=optimizers.SGD(lr=1e-4, momentum=0.9),\n",
    "             metrics=['accuracy'])\n",
    "    # prepare train generator using data augmentation to battle small sample size \n",
    "    train_gen = ImageDataGenerator(\n",
    "        rescale=1./255,\n",
    "        shear_range=0.2,\n",
    "        zoom_range=0.2,\n",
    "        horizontal_flip=True)\n",
    "    # not want to augment the test \n",
    "    test_gen = ImageDataGenerator(rescale=1./255)\n",
    "    \n",
    "    train_generator =  train_gen.flow_from_dataframe(\n",
    "    dataframe=train_df,\n",
    "    directory='../data/pics',\n",
    "    x_col='pic_id',\n",
    "    y_col=label,\n",
    "    batch_size=batch_size,\n",
    "    target_size=(150,150),\n",
    "    class_mode = 'binary')\n",
    "    \n",
    "    test_generator =  test_gen.flow_from_dataframe(\n",
    "    dataframe=test_df,\n",
    "    directory='../data/pics',\n",
    "    x_col='pic_id',\n",
    "    y_col=label,\n",
    "    batch_size=batch_size,\n",
    "    target_size=(150,150),\n",
    "    class_mode = 'binary')\n",
    "    \n",
    "    # checkpoint for best weights \n",
    "    filepath=\"../tuning_data/best_vgg_model_beard.h5\"\n",
    "    checkpoint = ModelCheckpoint(filepath, monitor='val_acc', verbose=1, save_best_only=True, mode='max')\n",
    "    callbacks_list = [checkpoint]\n",
    "    \n",
    "    # run and fit model \n",
    "    result = model.fit_generator(\n",
    "    train_generator,\n",
    "    steps_per_epoch=train_df.shape[0]//batch_size,\n",
    "    epochs=epoch,\n",
    "    validation_data=test_generator,\n",
    "    validation_steps=test_df.shape[0]//batch_size,\n",
    "    verbose=1,\n",
    "    callbacks=callbacks_list)\n",
    "\n",
    "    if print_model:\n",
    "        model.summary()\n",
    "        \n",
    "    del model\n",
    "    keras.backend.clear_session()\n",
    "    return result"
   ]
  },
  {
   "cell_type": "markdown",
   "metadata": {},
   "source": [
    "### save model history "
   ]
  },
  {
   "cell_type": "code",
   "execution_count": 9,
   "metadata": {},
   "outputs": [
    {
     "name": "stdout",
     "output_type": "stream",
     "text": [
      "Found 363 validated image filenames belonging to 2 classes.\n",
      "Found 91 validated image filenames belonging to 2 classes.\n",
      "Epoch 1/50\n",
      "22/22 [==============================] - 3s 152ms/step - loss: 4.1282 - acc: 0.3246 - val_loss: 0.6967 - val_acc: 0.5375\n",
      "\n",
      "Epoch 00001: val_acc improved from -inf to 0.53750, saving model to ../tuning_data/best_vgg_model_beard.h5\n",
      "Epoch 2/50\n",
      "22/22 [==============================] - 3s 137ms/step - loss: 0.7177 - acc: 0.5427 - val_loss: 0.6312 - val_acc: 0.6933\n",
      "\n",
      "Epoch 00002: val_acc improved from 0.53750 to 0.69333, saving model to ../tuning_data/best_vgg_model_beard.h5\n",
      "Epoch 3/50\n",
      "22/22 [==============================] - 3s 138ms/step - loss: 0.6635 - acc: 0.5873 - val_loss: 0.6622 - val_acc: 0.5733\n",
      "\n",
      "Epoch 00003: val_acc did not improve from 0.69333\n",
      "Epoch 4/50\n",
      "22/22 [==============================] - 3s 122ms/step - loss: 0.6169 - acc: 0.6410 - val_loss: 0.5871 - val_acc: 0.7467\n",
      "\n",
      "Epoch 00004: val_acc improved from 0.69333 to 0.74667, saving model to ../tuning_data/best_vgg_model_beard.h5\n",
      "Epoch 5/50\n",
      "22/22 [==============================] - 3s 119ms/step - loss: 0.5155 - acc: 0.7271 - val_loss: 0.4728 - val_acc: 0.7867\n",
      "\n",
      "Epoch 00005: val_acc improved from 0.74667 to 0.78667, saving model to ../tuning_data/best_vgg_model_beard.h5\n",
      "Epoch 6/50\n",
      "22/22 [==============================] - 3s 128ms/step - loss: 0.4958 - acc: 0.7417 - val_loss: 0.4311 - val_acc: 0.8267\n",
      "\n",
      "Epoch 00006: val_acc improved from 0.78667 to 0.82667, saving model to ../tuning_data/best_vgg_model_beard.h5\n",
      "Epoch 7/50\n",
      "22/22 [==============================] - 3s 129ms/step - loss: 0.4599 - acc: 0.8042 - val_loss: 0.4103 - val_acc: 0.8125\n",
      "\n",
      "Epoch 00007: val_acc did not improve from 0.82667\n",
      "Epoch 8/50\n",
      "22/22 [==============================] - 3s 139ms/step - loss: 0.4231 - acc: 0.8188 - val_loss: 0.3818 - val_acc: 0.8667\n",
      "\n",
      "Epoch 00008: val_acc improved from 0.82667 to 0.86667, saving model to ../tuning_data/best_vgg_model_beard.h5\n",
      "Epoch 9/50\n",
      "22/22 [==============================] - 3s 131ms/step - loss: 0.4252 - acc: 0.8087 - val_loss: 0.3961 - val_acc: 0.8400\n",
      "\n",
      "Epoch 00009: val_acc did not improve from 0.86667\n",
      "Epoch 10/50\n",
      "22/22 [==============================] - 3s 119ms/step - loss: 0.4188 - acc: 0.8011 - val_loss: 0.4251 - val_acc: 0.8133\n",
      "\n",
      "Epoch 00010: val_acc did not improve from 0.86667\n",
      "Epoch 11/50\n",
      "22/22 [==============================] - 3s 139ms/step - loss: 0.3599 - acc: 0.8374 - val_loss: 0.1930 - val_acc: 0.9200\n",
      "\n",
      "Epoch 00011: val_acc improved from 0.86667 to 0.92000, saving model to ../tuning_data/best_vgg_model_beard.h5\n",
      "Epoch 12/50\n",
      "22/22 [==============================] - 3s 117ms/step - loss: 0.3484 - acc: 0.8494 - val_loss: 0.3508 - val_acc: 0.8533\n",
      "\n",
      "Epoch 00012: val_acc did not improve from 0.92000\n",
      "Epoch 13/50\n",
      "22/22 [==============================] - 3s 124ms/step - loss: 0.3156 - acc: 0.8834 - val_loss: 0.3057 - val_acc: 0.8500\n",
      "\n",
      "Epoch 00013: val_acc did not improve from 0.92000\n",
      "Epoch 14/50\n",
      "22/22 [==============================] - 3s 139ms/step - loss: 0.2983 - acc: 0.8794 - val_loss: 0.2503 - val_acc: 0.8667\n",
      "\n",
      "Epoch 00014: val_acc did not improve from 0.92000\n",
      "Epoch 15/50\n",
      "22/22 [==============================] - 2s 110ms/step - loss: 0.2718 - acc: 0.8882 - val_loss: 0.3215 - val_acc: 0.8800\n",
      "\n",
      "Epoch 00015: val_acc did not improve from 0.92000\n",
      "Epoch 16/50\n",
      "22/22 [==============================] - 3s 143ms/step - loss: 0.3133 - acc: 0.8879 - val_loss: 0.2642 - val_acc: 0.8533\n",
      "\n",
      "Epoch 00016: val_acc did not improve from 0.92000\n",
      "Epoch 17/50\n",
      "22/22 [==============================] - 3s 120ms/step - loss: 0.2691 - acc: 0.9006 - val_loss: 0.2559 - val_acc: 0.8800\n",
      "\n",
      "Epoch 00017: val_acc did not improve from 0.92000\n",
      "Epoch 18/50\n",
      "22/22 [==============================] - 3s 121ms/step - loss: 0.2756 - acc: 0.8826 - val_loss: 0.3239 - val_acc: 0.8800\n",
      "\n",
      "Epoch 00018: val_acc did not improve from 0.92000\n",
      "Epoch 19/50\n",
      "22/22 [==============================] - 3s 136ms/step - loss: 0.3089 - acc: 0.8749 - val_loss: 0.2572 - val_acc: 0.9000\n",
      "\n",
      "Epoch 00019: val_acc did not improve from 0.92000\n",
      "Epoch 20/50\n",
      "22/22 [==============================] - 3s 140ms/step - loss: 0.2110 - acc: 0.9236 - val_loss: 0.2390 - val_acc: 0.9067\n",
      "\n",
      "Epoch 00020: val_acc did not improve from 0.92000\n",
      "Epoch 21/50\n",
      "22/22 [==============================] - 3s 114ms/step - loss: 0.2429 - acc: 0.8936 - val_loss: 0.2456 - val_acc: 0.9333\n",
      "\n",
      "Epoch 00021: val_acc improved from 0.92000 to 0.93333, saving model to ../tuning_data/best_vgg_model_beard.h5\n",
      "Epoch 22/50\n",
      "22/22 [==============================] - 3s 127ms/step - loss: 0.2152 - acc: 0.9122 - val_loss: 0.2620 - val_acc: 0.9200\n",
      "\n",
      "Epoch 00022: val_acc did not improve from 0.93333\n",
      "Epoch 23/50\n",
      "22/22 [==============================] - 3s 129ms/step - loss: 0.1818 - acc: 0.9293 - val_loss: 0.2278 - val_acc: 0.8800\n",
      "\n",
      "Epoch 00023: val_acc did not improve from 0.93333\n",
      "Epoch 24/50\n",
      "22/22 [==============================] - 3s 125ms/step - loss: 0.1621 - acc: 0.9334 - val_loss: 0.1884 - val_acc: 0.9200\n",
      "\n",
      "Epoch 00024: val_acc did not improve from 0.93333\n",
      "Epoch 25/50\n",
      "22/22 [==============================] - 3s 129ms/step - loss: 0.1700 - acc: 0.9517 - val_loss: 0.1816 - val_acc: 0.9125\n",
      "\n",
      "Epoch 00025: val_acc did not improve from 0.93333\n",
      "Epoch 26/50\n",
      "22/22 [==============================] - 3s 143ms/step - loss: 0.1396 - acc: 0.9407 - val_loss: 0.1741 - val_acc: 0.9467\n",
      "\n",
      "Epoch 00026: val_acc improved from 0.93333 to 0.94667, saving model to ../tuning_data/best_vgg_model_beard.h5\n",
      "Epoch 27/50\n",
      "22/22 [==============================] - 3s 132ms/step - loss: 0.1616 - acc: 0.9362 - val_loss: 0.3348 - val_acc: 0.8800\n",
      "\n",
      "Epoch 00027: val_acc did not improve from 0.94667\n",
      "Epoch 28/50\n",
      "22/22 [==============================] - 3s 120ms/step - loss: 0.1627 - acc: 0.9179 - val_loss: 0.1453 - val_acc: 0.9200\n",
      "\n",
      "Epoch 00028: val_acc did not improve from 0.94667\n",
      "Epoch 29/50\n",
      "22/22 [==============================] - 3s 130ms/step - loss: 0.1086 - acc: 0.9801 - val_loss: 0.2372 - val_acc: 0.9067\n",
      "\n",
      "Epoch 00029: val_acc did not improve from 0.94667\n",
      "Epoch 30/50\n",
      "22/22 [==============================] - 3s 127ms/step - loss: 0.1749 - acc: 0.9290 - val_loss: 0.2487 - val_acc: 0.9333\n",
      "\n",
      "Epoch 00030: val_acc did not improve from 0.94667\n",
      "Epoch 31/50\n",
      "22/22 [==============================] - 3s 131ms/step - loss: 0.1485 - acc: 0.9492 - val_loss: 0.1911 - val_acc: 0.9250\n",
      "\n",
      "Epoch 00031: val_acc did not improve from 0.94667\n",
      "Epoch 32/50\n",
      "22/22 [==============================] - 3s 148ms/step - loss: 0.1155 - acc: 0.9574 - val_loss: 0.2406 - val_acc: 0.8533\n",
      "\n",
      "Epoch 00032: val_acc did not improve from 0.94667\n",
      "Epoch 33/50\n",
      "22/22 [==============================] - 3s 128ms/step - loss: 0.1154 - acc: 0.9602 - val_loss: 0.1721 - val_acc: 0.9333\n",
      "\n",
      "Epoch 00033: val_acc did not improve from 0.94667\n",
      "Epoch 34/50\n",
      "22/22 [==============================] - 3s 119ms/step - loss: 0.1142 - acc: 0.9606 - val_loss: 0.1426 - val_acc: 0.9200\n",
      "\n",
      "Epoch 00034: val_acc did not improve from 0.94667\n",
      "Epoch 35/50\n",
      "22/22 [==============================] - 3s 114ms/step - loss: 0.1021 - acc: 0.9630 - val_loss: 0.1669 - val_acc: 0.9333\n",
      "\n",
      "Epoch 00035: val_acc did not improve from 0.94667\n",
      "Epoch 36/50\n",
      "22/22 [==============================] - 3s 130ms/step - loss: 0.1130 - acc: 0.9602 - val_loss: 0.2006 - val_acc: 0.9200\n",
      "\n",
      "Epoch 00036: val_acc did not improve from 0.94667\n",
      "Epoch 37/50\n",
      "22/22 [==============================] - 3s 140ms/step - loss: 0.0767 - acc: 0.9874 - val_loss: 0.1997 - val_acc: 0.9125\n",
      "\n",
      "Epoch 00037: val_acc did not improve from 0.94667\n",
      "Epoch 38/50\n",
      "22/22 [==============================] - 3s 125ms/step - loss: 0.1109 - acc: 0.9602 - val_loss: 0.1868 - val_acc: 0.9200\n",
      "\n",
      "Epoch 00038: val_acc did not improve from 0.94667\n",
      "Epoch 39/50\n",
      "22/22 [==============================] - 3s 125ms/step - loss: 0.0857 - acc: 0.9773 - val_loss: 0.1466 - val_acc: 0.9067\n",
      "\n",
      "Epoch 00039: val_acc did not improve from 0.94667\n",
      "Epoch 40/50\n",
      "22/22 [==============================] - 3s 114ms/step - loss: 0.0672 - acc: 0.9829 - val_loss: 0.1638 - val_acc: 0.9200\n",
      "\n",
      "Epoch 00040: val_acc did not improve from 0.94667\n",
      "Epoch 41/50\n",
      "22/22 [==============================] - 3s 138ms/step - loss: 0.1055 - acc: 0.9574 - val_loss: 0.3125 - val_acc: 0.9067\n",
      "\n",
      "Epoch 00041: val_acc did not improve from 0.94667\n",
      "Epoch 42/50\n"
     ]
    },
    {
     "name": "stdout",
     "output_type": "stream",
     "text": [
      "22/22 [==============================] - 3s 121ms/step - loss: 0.1290 - acc: 0.9508 - val_loss: 0.1583 - val_acc: 0.9333\n",
      "\n",
      "Epoch 00042: val_acc did not improve from 0.94667\n",
      "Epoch 43/50\n",
      "22/22 [==============================] - 3s 134ms/step - loss: 0.0594 - acc: 0.9886 - val_loss: 0.2060 - val_acc: 0.9250\n",
      "\n",
      "Epoch 00043: val_acc did not improve from 0.94667\n",
      "Epoch 44/50\n",
      "22/22 [==============================] - 3s 143ms/step - loss: 0.1068 - acc: 0.9545 - val_loss: 0.2118 - val_acc: 0.9333\n",
      "\n",
      "Epoch 00044: val_acc did not improve from 0.94667\n",
      "Epoch 45/50\n",
      "22/22 [==============================] - 3s 131ms/step - loss: 0.0794 - acc: 0.9744 - val_loss: 0.0706 - val_acc: 0.9600\n",
      "\n",
      "Epoch 00045: val_acc improved from 0.94667 to 0.96000, saving model to ../tuning_data/best_vgg_model_beard.h5\n",
      "Epoch 46/50\n",
      "22/22 [==============================] - 3s 118ms/step - loss: 0.0545 - acc: 0.9829 - val_loss: 0.2557 - val_acc: 0.9333\n",
      "\n",
      "Epoch 00046: val_acc did not improve from 0.96000\n",
      "Epoch 47/50\n",
      "22/22 [==============================] - 3s 127ms/step - loss: 0.0799 - acc: 0.9829 - val_loss: 0.1357 - val_acc: 0.9333\n",
      "\n",
      "Epoch 00047: val_acc did not improve from 0.96000\n",
      "Epoch 48/50\n",
      "22/22 [==============================] - 3s 126ms/step - loss: 0.0661 - acc: 0.9846 - val_loss: 0.2189 - val_acc: 0.9067\n",
      "\n",
      "Epoch 00048: val_acc did not improve from 0.96000\n",
      "Epoch 49/50\n",
      "22/22 [==============================] - 3s 132ms/step - loss: 0.0815 - acc: 0.9789 - val_loss: 0.2028 - val_acc: 0.9250\n",
      "\n",
      "Epoch 00049: val_acc did not improve from 0.96000\n",
      "Epoch 50/50\n",
      "22/22 [==============================] - 3s 147ms/step - loss: 0.0719 - acc: 0.9817 - val_loss: 0.1259 - val_acc: 0.9600\n",
      "\n",
      "Epoch 00050: val_acc did not improve from 0.96000\n",
      "Model: \"model_1\"\n",
      "_________________________________________________________________\n",
      "Layer (type)                 Output Shape              Param #   \n",
      "=================================================================\n",
      "input_1 (InputLayer)         (None, 150, 150, 3)       0         \n",
      "_________________________________________________________________\n",
      "block1_conv1 (Conv2D)        (None, 150, 150, 64)      1792      \n",
      "_________________________________________________________________\n",
      "block1_conv2 (Conv2D)        (None, 150, 150, 64)      36928     \n",
      "_________________________________________________________________\n",
      "block1_pool (MaxPooling2D)   (None, 75, 75, 64)        0         \n",
      "_________________________________________________________________\n",
      "block2_conv1 (Conv2D)        (None, 75, 75, 128)       73856     \n",
      "_________________________________________________________________\n",
      "block2_conv2 (Conv2D)        (None, 75, 75, 128)       147584    \n",
      "_________________________________________________________________\n",
      "block2_pool (MaxPooling2D)   (None, 37, 37, 128)       0         \n",
      "_________________________________________________________________\n",
      "block3_conv1 (Conv2D)        (None, 37, 37, 256)       295168    \n",
      "_________________________________________________________________\n",
      "block3_conv2 (Conv2D)        (None, 37, 37, 256)       590080    \n",
      "_________________________________________________________________\n",
      "block3_conv3 (Conv2D)        (None, 37, 37, 256)       590080    \n",
      "_________________________________________________________________\n",
      "block3_pool (MaxPooling2D)   (None, 18, 18, 256)       0         \n",
      "_________________________________________________________________\n",
      "block4_conv1 (Conv2D)        (None, 18, 18, 512)       1180160   \n",
      "_________________________________________________________________\n",
      "block4_conv2 (Conv2D)        (None, 18, 18, 512)       2359808   \n",
      "_________________________________________________________________\n",
      "block4_conv3 (Conv2D)        (None, 18, 18, 512)       2359808   \n",
      "_________________________________________________________________\n",
      "block4_pool (MaxPooling2D)   (None, 9, 9, 512)         0         \n",
      "_________________________________________________________________\n",
      "block5_conv1 (Conv2D)        (None, 9, 9, 512)         2359808   \n",
      "_________________________________________________________________\n",
      "block5_conv2 (Conv2D)        (None, 9, 9, 512)         2359808   \n",
      "_________________________________________________________________\n",
      "block5_conv3 (Conv2D)        (None, 9, 9, 512)         2359808   \n",
      "_________________________________________________________________\n",
      "block5_pool (MaxPooling2D)   (None, 4, 4, 512)         0         \n",
      "_________________________________________________________________\n",
      "sequential_1 (Sequential)    (None, 1)                 2097665   \n",
      "=================================================================\n",
      "Total params: 16,812,353\n",
      "Trainable params: 9,177,089\n",
      "Non-trainable params: 7,635,264\n",
      "_________________________________________________________________\n"
     ]
    }
   ],
   "source": [
    "model_history = fine_tune_model(train_df, test_df,50,16,'beard')"
   ]
  },
  {
   "cell_type": "code",
   "execution_count": 10,
   "metadata": {},
   "outputs": [
    {
     "name": "stdout",
     "output_type": "stream",
     "text": [
      "highest test accuracy: 0.9600000039736429\n",
      "------------------\n",
      "highest train accuracy: 0.9886363636363636\n"
     ]
    }
   ],
   "source": [
    "highest_val_acc, highest_train_acc = max(model_history.history['val_acc']), max(model_history.history['acc'])\n",
    "print(f'highest test accuracy: {highest_val_acc}')\n",
    "print('------------------')\n",
    "print(f'highest train accuracy: {highest_train_acc}')"
   ]
  },
  {
   "cell_type": "code",
   "execution_count": 11,
   "metadata": {},
   "outputs": [
    {
     "name": "stdout",
     "output_type": "stream",
     "text": [
      "lowest test loss: 0.07060661147038141\n",
      "------------------\n",
      "lowest train loss: 0.05498526646334259\n"
     ]
    }
   ],
   "source": [
    "lowest_val_loss, lowest_train_loss = min(model_history.history['val_loss']), min(model_history.history['loss'])\n",
    "print(f'lowest test loss: {lowest_val_loss}')\n",
    "print('------------------')\n",
    "print(f'lowest train loss: {lowest_train_loss}')"
   ]
  },
  {
   "cell_type": "code",
   "execution_count": 12,
   "metadata": {},
   "outputs": [
    {
     "data": {
      "image/png": "[encoded data removed]",
      "text/plain": [
       "<Figure size 432x288 with 1 Axes>"
      ]
     },
     "metadata": {
      "needs_background": "light"
     },
     "output_type": "display_data"
    }
   ],
   "source": [
    "plt.plot(model_history.history['val_acc'], color = 'red', label = 'test')\n",
    "plt.plot(model_history.history['acc'], color = 'blue', label = 'train')\n",
    "plt.title('accuracy')\n",
    "plt.ylabel('accuracy')\n",
    "plt.legend()\n",
    "plt.show()"
   ]
  },
  {
   "cell_type": "code",
   "execution_count": 13,
   "metadata": {},
   "outputs": [
    {
     "data": {
      "image/png": "[encoded data removed]",
      "text/plain": [
       "<Figure size 432x288 with 1 Axes>"
      ]
     },
     "metadata": {
      "needs_background": "light"
     },
     "output_type": "display_data"
    }
   ],
   "source": [
    "plt.plot(model_history.history['val_loss'], color = 'red', label = 'test')\n",
    "plt.plot(model_history.history['loss'], color = 'blue', label = 'train')\n",
    "plt.title('loss')\n",
    "plt.ylabel('loss')\n",
    "plt.legend()\n",
    "plt.show()"
   ]
  },
  {
   "cell_type": "markdown",
   "metadata": {},
   "source": [
    "### Save model "
   ]
  },
  {
   "cell_type": "code",
   "execution_count": 14,
   "metadata": {},
   "outputs": [],
   "source": [
    "# save model artchitecture \n",
    "beard_model = model_history.model\n",
    "beard_model_json = beard_model.to_json()"
   ]
  },
  {
   "cell_type": "code",
   "execution_count": 15,
   "metadata": {},
   "outputs": [],
   "source": [
    "# serialize model to JSON\n",
    "with open(\"beard_model.json\", \"w\") as json_file:\n",
    "    json_file.write(beard_model_json)"
   ]
  },
  {
   "cell_type": "code",
   "execution_count": 16,
   "metadata": {},
   "outputs": [],
   "source": [
    "# load json and create model\n",
    "json_file = open('beard_model.json', 'r')\n",
    "loaded_model_json = json_file.read()\n",
    "json_file.close()\n",
    "loaded_model_beard = model_from_json(loaded_model_json)"
   ]
  },
  {
   "cell_type": "code",
   "execution_count": 18,
   "metadata": {},
   "outputs": [],
   "source": [
    "# load model weight \n",
    "loaded_model_beard.load_weights('../tuning_data/best_vgg_model_beard.h5')"
   ]
  },
  {
   "cell_type": "code",
   "execution_count": 19,
   "metadata": {},
   "outputs": [
    {
     "name": "stdout",
     "output_type": "stream",
     "text": [
      "Found 91 validated image filenames belonging to 2 classes.\n"
     ]
    }
   ],
   "source": [
    "test_gen = ImageDataGenerator(rescale=1./255)\n",
    "test_generator =  test_gen.flow_from_dataframe(\n",
    "    dataframe=test_df,\n",
    "    directory='../data/pics',\n",
    "    x_col='pic_id',\n",
    "    y_col='beard',\n",
    "    batch_size=16,\n",
    "    target_size=(150,150),\n",
    "    class_mode = 'binary')"
   ]
  },
  {
   "cell_type": "code",
   "execution_count": 20,
   "metadata": {},
   "outputs": [],
   "source": [
    "loaded_model_beard.compile(loss='binary_crossentropy',\n",
    "             optimizer=optimizers.SGD(lr=1e-4, momentum=0.9),\n",
    "             metrics=['accuracy'])"
   ]
  },
  {
   "cell_type": "code",
   "execution_count": 21,
   "metadata": {},
   "outputs": [
    {
     "data": {
      "text/plain": [
       "[0.167782618531159, 0.945054945054945]"
      ]
     },
     "execution_count": 21,
     "metadata": {},
     "output_type": "execute_result"
    }
   ],
   "source": [
    "loaded_model_beard.evaluate_generator(test_generator)"
   ]
  }
 ],
 "metadata": {
  "kernelspec": {
   "display_name": "Python 3",
   "language": "python",
   "name": "python3"
  },
  "language_info": {
   "codemirror_mode": {
    "name": "ipython",
    "version": 3
   },
   "file_extension": ".py",
   "mimetype": "text/x-python",
   "name": "python",
   "nbconvert_exporter": "python",
   "pygments_lexer": "ipython3",
   "version": "3.7.3"
  }
 },
 "nbformat": 4,
 "nbformat_minor": 2
}
